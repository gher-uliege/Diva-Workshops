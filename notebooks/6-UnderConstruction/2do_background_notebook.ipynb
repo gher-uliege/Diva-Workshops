{
 "cells": [
  {
   "cell_type": "markdown",
   "metadata": {},
   "source": [
    "# Background field\n",
    "Creation of a climatology using a background field create by `DIVAnd`. \n",
    "\n",
    "The key is in the definition of the _time selectors_:\n",
    "1. for the background (using longer time periods) \n",
    "2. for the analysis.\n",
    "Then in the final analysis, a `background` option allows user to specify the background file, the variable and the _time selector_.\n",
    "```julia\n",
    "...\n",
    "background = DIVAnd.backgroundfile(filenamebackground,varname,TSbackground)\n",
    "...\n",
    "```\n",
    "\n",
    "__Note:__ if you use a background field, don't use logarithmic transformations, which would let to error when applied to negative (anomaly) values."
   ]
  },
  {
   "cell_type": "code",
   "execution_count": 1,
   "metadata": {},
   "outputs": [
    {
     "name": "stderr",
     "output_type": "stream",
     "text": [
      "┌ Info: Precompiling DIVAnd [efc8151c-67de-5a8f-9a35-d8f54746ae9d]\n",
      "└ @ Base loading.jl:1664\n",
      "WARNING: method definition for == at /home/ctroupin/.julia/packages/ChainRulesCore/ctmSK/src/tangent_types/tangent.jl:68 declares type variable T but does not use it.\n",
      "WARNING: method definition for getindex at /home/ctroupin/.julia/packages/ChainRulesCore/ctmSK/src/tangent_types/tangent.jl:120 declares type variable T but does not use it.\n",
      "WARNING: method definition for getindex at /home/ctroupin/.julia/packages/ChainRulesCore/ctmSK/src/tangent_types/tangent.jl:120 declares type variable P but does not use it.\n",
      "WARNING: method definition for canonicalize at /home/ctroupin/.julia/packages/ChainRulesCore/ctmSK/src/tangent_types/tangent.jl:240 declares type variable L but does not use it.\n",
      "WARNING: method definition for canonicalize at /home/ctroupin/.julia/packages/ChainRulesCore/ctmSK/src/tangent_types/tangent.jl:241 declares type variable L but does not use it.\n",
      "WARNING: method definition for checkbounds at /home/ctroupin/.julia/packages/Interpolations/jPlKV/src/Interpolations.jl:410 declares type variable N but does not use it.\n",
      "WARNING: method definition for checkbounds at /home/ctroupin/.julia/packages/Interpolations/jPlKV/src/Interpolations.jl:413 declares type variable N but does not use it.\n",
      "WARNING: method definition for GriddedInterpolation at /home/ctroupin/.julia/packages/Interpolations/jPlKV/src/gridded/gridded.jl:37 declares type variable pad but does not use it.\n",
      "WARNING: method definition for GriddedInterpolation at /home/ctroupin/.julia/packages/Interpolations/jPlKV/src/gridded/gridded.jl:60 declares type variable pad but does not use it.\n",
      "WARNING: method definition for interpolate! at /home/ctroupin/.julia/packages/Interpolations/jPlKV/src/deprecations.jl:30 declares type variable TWeights but does not use it.\n",
      "┌ Info: Precompiling PyPlot [d330b81b-6aea-500a-939a-2ce795aea3ee]\n",
      "└ @ Base loading.jl:1664\n",
      "┌ Info: Precompiling PhysOcean [3725be50-bbbd-5592-92c3-2f0e82159c3e]\n",
      "└ @ Base loading.jl:1664\n"
     ]
    }
   ],
   "source": [
    "using DIVAnd\n",
    "using PyPlot\n",
    "using NCDatasets\n",
    "using PhysOcean\n",
    "using DataStructures\n",
    "using PyPlot\n",
    "using Dates\n",
    "using Statistics\n",
    "using Random\n",
    "using Printf"
   ]
  },
  {
   "cell_type": "markdown",
   "metadata": {},
   "source": [
    "## Files and directories\n",
    "For this application we will work on the Baltic Sea."
   ]
  },
  {
   "cell_type": "code",
   "execution_count": 2,
   "metadata": {},
   "outputs": [
    {
     "data": {
      "text/plain": [
       "\"salinity\""
      ]
     },
     "execution_count": 2,
     "metadata": {},
     "output_type": "execute_result"
    }
   ],
   "source": [
    "datadir = \"../data/\"\n",
    "datafile = joinpath(datadir, \"Baltic_obs.nc\")\n",
    "varname = \"salinity\""
   ]
  },
  {
   "cell_type": "markdown",
   "metadata": {},
   "source": [
    "## Inputs\n",
    "### Grid and depth levels"
   ]
  },
  {
   "cell_type": "code",
   "execution_count": 3,
   "metadata": {},
   "outputs": [],
   "source": [
    "Δx = 0.25\n",
    "Δy = 0.25\n",
    "lonr = 9.5:Δx:29.25\n",
    "latr = 53.0:Δy:67.0\n",
    "timerange = [Date(1900,1,1),Date(2020,12,31)];\n",
    "depthr = [0.,5., 10., 15., 20., 30.];"
   ]
  },
  {
   "cell_type": "markdown",
   "metadata": {},
   "source": [
    "### Data\n",
    "Download if needed."
   ]
  },
  {
   "cell_type": "code",
   "execution_count": 4,
   "metadata": {},
   "outputs": [],
   "source": [
    "isfile(datafile) ? @debug(\"Already downloaded\") : download(\"https://dox.uliege.be/index.php/s/h0KlmTNzEp76ari/download\", datafile);"
   ]
  },
  {
   "cell_type": "markdown",
   "metadata": {},
   "source": [
    "Read coordinates and observations"
   ]
  },
  {
   "cell_type": "code",
   "execution_count": 5,
   "metadata": {},
   "outputs": [
    {
     "name": "stdout",
     "output_type": "stream",
     "text": [
      "  3.322167 seconds (4.76 M allocations: 1.024 GiB, 10.56% gc time, 33.87% compilation time)\n"
     ]
    }
   ],
   "source": [
    "@time obsval,obslon, obslat, obsdepth, obstime,obsid = DIVAnd.loadobs(Float64, datafile, varname);"
   ]
  },
  {
   "cell_type": "markdown",
   "metadata": {},
   "source": [
    "Check the observation ranges:"
   ]
  },
  {
   "cell_type": "code",
   "execution_count": 6,
   "metadata": {},
   "outputs": [
    {
     "name": "stdout",
     "output_type": "stream",
     "text": [
      "              minimum and maximum of obs. dimension 1: ("
     ]
    },
    {
     "name": "stderr",
     "output_type": "stream",
     "text": [
      "┌ Info: Checking ranges for dimensions and observations\n",
      "└ @ DIVAnd /home/ctroupin/.julia/packages/DIVAnd/MV3j9/src/obsstat.jl:77\n"
     ]
    },
    {
     "name": "stdout",
     "output_type": "stream",
     "text": [
      "8.972800254821777, 29.135000228881836)\n",
      "              minimum and maximum of obs. dimension 2: (53.80670166015625, 65.80816650390625)\n",
      "              minimum and maximum of obs. dimension 3: (0.0, 690.0)\n",
      "              minimum and maximum of obs. dimension 4: (DateTime(\"1899-12-30T00:00:00\"), DateTime(\"2013-11-07T09:16:00\"))\n",
      "                          minimum and maximum of data: (-0.09000000357627869, 36.47800064086914)\n"
     ]
    }
   ],
   "source": [
    "checkobs((obslon,obslat,obsdepth,obstime),obsval,obsid)"
   ]
  },
  {
   "cell_type": "markdown",
   "metadata": {},
   "source": [
    "#### Quality check based on range"
   ]
  },
  {
   "cell_type": "code",
   "execution_count": 7,
   "metadata": {},
   "outputs": [],
   "source": [
    "sel = (obsval .<= 40) .& (obsval .>= 0);\n",
    "obsval = obsval[sel]\n",
    "obslon = obslon[sel]\n",
    "obslat = obslat[sel]\n",
    "obsdepth = obsdepth[sel]\n",
    "obstime = obstime[sel]\n",
    "obsid = obsid[sel];"
   ]
  },
  {
   "cell_type": "markdown",
   "metadata": {},
   "source": [
    "#### Plot unique observation locations"
   ]
  },
  {
   "cell_type": "code",
   "execution_count": 8,
   "metadata": {},
   "outputs": [
    {
     "name": "stderr",
     "output_type": "stream",
     "text": [
      "┌ Info: Total number of coordinates: 11180368\n",
      "└ @ Main In[8]:3\n",
      "┌ Info: Number of unique coordinates (profiles): 170227\n",
      "└ @ Main In[8]:4\n"
     ]
    }
   ],
   "source": [
    "coords = [(x,y) for (x,y) in zip(obslon, obslat)];\n",
    "coords_u = unique(coords);\n",
    "@info \"Total number of coordinates: $(length(coords))\"\n",
    "@info \"Number of unique coordinates (profiles): $(length(coords_u))\"\n",
    "obslon_u = [x[1] for x in coords_u];\n",
    "obslat_u = [x[2] for x in coords_u];"
   ]
  },
  {
   "cell_type": "code",
   "execution_count": 9,
   "metadata": {},
   "outputs": [
    {
     "data": {
      "image/png": "[encoded data removed]",
      "text/plain": [
       "Figure(PyObject <Figure size 640x480 with 1 Axes>)"
      ]
     },
     "metadata": {},
     "output_type": "display_data"
    }
   ],
   "source": [
    "figure()\n",
    "ax = subplot(1,1,1)\n",
    "plot(obslon_u, obslat_u, \"ko\", markersize=.2)\n",
    "aspect_ratio = 1/cos(mean(latr) * pi/180)\n",
    "ax.tick_params(\"both\",labelsize=6)\n",
    "gca().set_aspect(aspect_ratio)"
   ]
  },
  {
   "cell_type": "markdown",
   "metadata": {},
   "source": [
    "### Bathymetry"
   ]
  },
  {
   "cell_type": "code",
   "execution_count": 10,
   "metadata": {},
   "outputs": [
    {
     "name": "stdout",
     "output_type": "stream",
     "text": [
      "  1.656519 seconds (6.83 M allocations: 355.780 MiB, 11.63% gc time, 99.61% compilation time)\n"
     ]
    }
   ],
   "source": [
    "bathname = joinpath(datadir, \"gebco_30sec_16.nc\")\n",
    "isfile(bathname) ? @debug(\"Already downloaded\") : download(\"https://dox.uliege.be/index.php/s/U0pqyXhcQrXjEUX/download\", bathname)\n",
    "@time bx, by, b = load_bath(bathname, true, lonr, latr);"
   ]
  },
  {
   "cell_type": "markdown",
   "metadata": {},
   "source": [
    "#### Plotting"
   ]
  },
  {
   "cell_type": "code",
   "execution_count": 12,
   "metadata": {},
   "outputs": [
    {
     "data": {
      "image/png": "[encoded data removed]",
      "text/plain": [
       "Figure(PyObject <Figure size 640x480 with 2 Axes>)"
      ]
     },
     "metadata": {},
     "output_type": "display_data"
    }
   ],
   "source": [
    "figure()\n",
    "ax = subplot(1,1,1)\n",
    "pcolor(bx,by,permutedims(b, [2,1]));\n",
    "cb = colorbar(orientation=\"vertical\", shrink=0.8)\n",
    "cb.ax.tick_params(labelsize=8)\n",
    "contour(bx,by,permutedims(b, [2,1]), [0, 0.1], colors=\"k\", linewidths=.5)\n",
    "gca().set_aspect(aspect_ratio)\n",
    "ax.tick_params(\"both\",labelsize=6)"
   ]
  },
  {
   "cell_type": "markdown",
   "metadata": {},
   "source": [
    "#### Land-sea mask"
   ]
  },
  {
   "cell_type": "code",
   "execution_count": 13,
   "metadata": {},
   "outputs": [],
   "source": [
    "surfwater = b .>= depthr[1]\n",
    "label = DIVAnd.floodfill(surfwater)\n",
    "surfmask = label .== 1; # largest area has the label 1"
   ]
  },
  {
   "cell_type": "code",
   "execution_count": 14,
   "metadata": {},
   "outputs": [
    {
     "data": {
      "image/png": "[encoded data removed]",
      "text/plain": [
       "Figure(PyObject <Figure size 640x480 with 1 Axes>)"
      ]
     },
     "metadata": {},
     "output_type": "display_data"
    },
    {
     "data": {
      "text/plain": [
       "PyObject <matplotlib.collections.PolyCollection object at 0x7f24d86c9040>"
      ]
     },
     "execution_count": 14,
     "metadata": {},
     "output_type": "execute_result"
    }
   ],
   "source": [
    "figure()\n",
    "gca().set_aspect(aspect_ratio)\n",
    "gca().tick_params(\"both\", labelsize=6)\n",
    "pcolor(bx, by ,surfmask', cmap=PyPlot.cm.binary_r)"
   ]
  },
  {
   "cell_type": "code",
   "execution_count": 15,
   "metadata": {},
   "outputs": [
    {
     "name": "stdout",
     "output_type": "stream",
     "text": [
      "size(mask) = (80, 57, 6)\n"
     ]
    },
    {
     "data": {
      "text/plain": [
       "(80, 57, 6)"
      ]
     },
     "execution_count": 15,
     "metadata": {},
     "output_type": "execute_result"
    }
   ],
   "source": [
    "mask = falses(size(b,1),size(b,2),length(depthr))\n",
    "for k = 1:length(depthr)\n",
    "    for j = 1:size(b,2)\n",
    "        for i = 1:size(b,1)\n",
    "            mask[i,j,k] = (b[i,j] >= depthr[k]) && surfmask[i,j]\n",
    "        end\n",
    "    end\n",
    "end\n",
    "@show size(mask)"
   ]
  },
  {
   "cell_type": "markdown",
   "metadata": {},
   "source": [
    "## Analysis\n",
    "### Background\n",
    "For the background we create a _time selector_ with 4 seasons and 2 periods of years (1900-1989) and (1990-2017)"
   ]
  },
  {
   "cell_type": "code",
   "execution_count": 16,
   "metadata": {},
   "outputs": [],
   "source": [
    "# year and month-list for background analysis\n",
    "yearlist = [1900:1989,1990:2017];\n",
    "monthlist = [[1,2,3],[4,5,6],[7,8,9],[10,11,12]];  # Seasonal climatology\n",
    "TSbackground = DIVAnd.TimeSelectorYearListMonthList(yearlist,monthlist);"
   ]
  },
  {
   "cell_type": "markdown",
   "metadata": {},
   "source": [
    "#### Analysis parameters"
   ]
  },
  {
   "cell_type": "code",
   "execution_count": 20,
   "metadata": {},
   "outputs": [
    {
     "data": {
      "text/plain": [
       "\"Water_body_salinity_Baltic.4Danl.nc\""
      ]
     },
     "execution_count": 20,
     "metadata": {},
     "output_type": "execute_result"
    }
   ],
   "source": [
    "sz = (length(lonr), length(latr), length(depthr));\n",
    "lenx = fill(200_000.,sz)   # 200 km\n",
    "leny = fill(200_000.,sz)   # 200 km\n",
    "lenz = [min(max(30.,depthr[k]/150),300.) for i = 1:sz[1], j = 1:sz[2], k = 1:sz[3]]\n",
    "len = (lenx, leny, lenz);\n",
    "epsilon2 = 0.1;\n",
    "\n",
    "solver = :direct\n",
    "\n",
    "filenamebackground = \"Water_body_$(replace(varname,\" \"=>\"_\"))_Baltic_background.4Danl.nc\"\n",
    "filename = \"Water_body_$(replace(varname,\" \"=>\"_\"))_Baltic.4Danl.nc\""
   ]
  },
  {
   "cell_type": "markdown",
   "metadata": {},
   "source": [
    "#### Metadata for the netCDF file\n",
    "\n",
    "Remove the background file if it already exists, and create the figure directory if needed."
   ]
  },
  {
   "cell_type": "code",
   "execution_count": 21,
   "metadata": {},
   "outputs": [
    {
     "data": {
      "text/plain": [
       "\"./Baltic/figures\""
      ]
     },
     "execution_count": 21,
     "metadata": {},
     "output_type": "execute_result"
    }
   ],
   "source": [
    "if isfile(filenamebackground)\n",
    "    rm(filenamebackground) # delete the previous analysis\n",
    "    @info \"Removing file $filenamebackground\"\n",
    "end\n",
    "\n",
    "figdir = \"./Baltic/figures/\"\n",
    "isdir(figdir) ? @debug(\"Already created\") : mkpath(figdir)"
   ]
  },
  {
   "cell_type": "markdown",
   "metadata": {},
   "source": [
    "Let's define a plotting function that well be applied at each time and depth level."
   ]
  },
  {
   "cell_type": "code",
   "execution_count": 22,
   "metadata": {},
   "outputs": [
    {
     "data": {
      "text/plain": [
       "plotres (generic function with 1 method)"
      ]
     },
     "execution_count": 22,
     "metadata": {},
     "output_type": "execute_result"
    }
   ],
   "source": [
    "function plotres(timeindex, sel, fit, erri)\n",
    "    tmp = copy(fit)\n",
    "    nx,ny,nz = size(tmp)\n",
    "    for i in 1:nz\n",
    "        figure(\"Baltic analysis\")\n",
    "        ax = subplot(1,1,1)\n",
    "        ax.tick_params(\"both\",labelsize=6)\n",
    "        ylim(minimum(latr) - Δy, maximum(latr) + Δy);\n",
    "        xlim(minimum(lonr) - Δx, maximum(lonr) + Δx);\n",
    "        title(\"Depth: $(depthr[i]) \\n Time index: $(timeindex)\", fontsize=6)\n",
    "        pcolor(lonr.-Δx/2.,latr.-Δy/2, permutedims(tmp[:,:,i], [2,1]);\n",
    "               vmin = 0., vmax = 15.)\n",
    "        cb = colorbar(extend=\"max\", orientation=\"vertical\", shrink=0.8)\n",
    "        cb.ax.tick_params(labelsize=8)\n",
    "\n",
    "        contourf(bx,by,permutedims(b,[2,1]), levels = [-1e5,0], colors = [[.5,.5,.5]])\n",
    "        gca().set_aspect(aspect_ratio)\n",
    "\n",
    "        figname = varname * @sprintf(\"_%02d\",i) * @sprintf(\"_%03d.png\",timeindex)\n",
    "        PyPlot.savefig(joinpath(figdir, figname), dpi=300, bbox_inches=\"tight\");\n",
    "        PyPlot.close_figs()\n",
    "    end\n",
    "end"
   ]
  },
  {
   "cell_type": "markdown",
   "metadata": {},
   "source": [
    "#### Background analysis\n",
    "We now have all the input to prepare the background field with `diva3d`.     \n",
    "The analysis has 8 times steps: 4 seasons times 2 periods (1900-1989 and 1990-2017)."
   ]
  },
  {
   "cell_type": "code",
   "execution_count": 23,
   "metadata": {},
   "outputs": [
    {
     "name": "stderr",
     "output_type": "stream",
     "text": [
      "┌ Info: Creating netCDF file Water_body_salinity_Baltic_background.4Danl.nc\n",
      "└ @ DIVAnd /home/ctroupin/.julia/packages/DIVAnd/MV3j9/src/diva.jl:374\n",
      "┌ Info: Time step 1 / 8\n",
      "└ @ DIVAnd /home/ctroupin/.julia/packages/DIVAnd/MV3j9/src/diva.jl:427\n",
      "┌ Info: scaled correlation length (min,max) in dimension 1: (200000.0, 200000.0)\n",
      "└ @ DIVAnd /home/ctroupin/.julia/packages/DIVAnd/MV3j9/src/diva.jl:612\n",
      "┌ Info: scaled correlation length (min,max) in dimension 2: (200000.0, 200000.0)\n",
      "└ @ DIVAnd /home/ctroupin/.julia/packages/DIVAnd/MV3j9/src/diva.jl:612\n",
      "┌ Info: scaled correlation length (min,max) in dimension 3: (30.0, 30.0)\n",
      "└ @ DIVAnd /home/ctroupin/.julia/packages/DIVAnd/MV3j9/src/diva.jl:612\n",
      "┌ Info: number of windows: 1\n",
      "└ @ DIVAnd /home/ctroupin/.julia/packages/DIVAnd/MV3j9/src/DIVAndgo.jl:110\n",
      "┌ Info: number of windows: 1\n",
      "└ @ DIVAnd /home/ctroupin/.julia/packages/DIVAnd/MV3j9/src/DIVAndgo.jl:110\n",
      "┌ Info: Time step 2 / 8\n",
      "└ @ DIVAnd /home/ctroupin/.julia/packages/DIVAnd/MV3j9/src/diva.jl:427\n",
      "┌ Info: scaled correlation length (min,max) in dimension 1: (200000.0, 200000.0)\n",
      "└ @ DIVAnd /home/ctroupin/.julia/packages/DIVAnd/MV3j9/src/diva.jl:612\n",
      "┌ Info: scaled correlation length (min,max) in dimension 2: (200000.0, 200000.0)\n",
      "└ @ DIVAnd /home/ctroupin/.julia/packages/DIVAnd/MV3j9/src/diva.jl:612\n",
      "┌ Info: scaled correlation length (min,max) in dimension 3: (30.0, 30.0)\n",
      "└ @ DIVAnd /home/ctroupin/.julia/packages/DIVAnd/MV3j9/src/diva.jl:612\n",
      "┌ Info: number of windows: 1\n",
      "└ @ DIVAnd /home/ctroupin/.julia/packages/DIVAnd/MV3j9/src/DIVAndgo.jl:110\n",
      "┌ Info: number of windows: 1\n",
      "└ @ DIVAnd /home/ctroupin/.julia/packages/DIVAnd/MV3j9/src/DIVAndgo.jl:110\n",
      "┌ Info: Time step 3 / 8\n",
      "└ @ DIVAnd /home/ctroupin/.julia/packages/DIVAnd/MV3j9/src/diva.jl:427\n",
      "┌ Info: scaled correlation length (min,max) in dimension 1: (200000.0, 200000.0)\n",
      "└ @ DIVAnd /home/ctroupin/.julia/packages/DIVAnd/MV3j9/src/diva.jl:612\n",
      "┌ Info: scaled correlation length (min,max) in dimension 2: (200000.0, 200000.0)\n",
      "└ @ DIVAnd /home/ctroupin/.julia/packages/DIVAnd/MV3j9/src/diva.jl:612\n",
      "┌ Info: scaled correlation length (min,max) in dimension 3: (30.0, 30.0)\n",
      "└ @ DIVAnd /home/ctroupin/.julia/packages/DIVAnd/MV3j9/src/diva.jl:612\n",
      "┌ Info: number of windows: 1\n",
      "└ @ DIVAnd /home/ctroupin/.julia/packages/DIVAnd/MV3j9/src/DIVAndgo.jl:110\n",
      "┌ Info: number of windows: 1\n",
      "└ @ DIVAnd /home/ctroupin/.julia/packages/DIVAnd/MV3j9/src/DIVAndgo.jl:110\n",
      "┌ Info: Time step 4 / 8\n",
      "└ @ DIVAnd /home/ctroupin/.julia/packages/DIVAnd/MV3j9/src/diva.jl:427\n",
      "┌ Info: scaled correlation length (min,max) in dimension 1: (200000.0, 200000.0)\n",
      "└ @ DIVAnd /home/ctroupin/.julia/packages/DIVAnd/MV3j9/src/diva.jl:612\n",
      "┌ Info: scaled correlation length (min,max) in dimension 2: (200000.0, 200000.0)\n",
      "└ @ DIVAnd /home/ctroupin/.julia/packages/DIVAnd/MV3j9/src/diva.jl:612\n",
      "┌ Info: scaled correlation length (min,max) in dimension 3: (30.0, 30.0)\n",
      "└ @ DIVAnd /home/ctroupin/.julia/packages/DIVAnd/MV3j9/src/diva.jl:612\n",
      "┌ Info: number of windows: 1\n",
      "└ @ DIVAnd /home/ctroupin/.julia/packages/DIVAnd/MV3j9/src/DIVAndgo.jl:110\n",
      "┌ Info: number of windows: 1\n",
      "└ @ DIVAnd /home/ctroupin/.julia/packages/DIVAnd/MV3j9/src/DIVAndgo.jl:110\n",
      "┌ Info: Time step 5 / 8\n",
      "└ @ DIVAnd /home/ctroupin/.julia/packages/DIVAnd/MV3j9/src/diva.jl:427\n",
      "┌ Info: scaled correlation length (min,max) in dimension 1: (200000.0, 200000.0)\n",
      "└ @ DIVAnd /home/ctroupin/.julia/packages/DIVAnd/MV3j9/src/diva.jl:612\n",
      "┌ Info: scaled correlation length (min,max) in dimension 2: (200000.0, 200000.0)\n",
      "└ @ DIVAnd /home/ctroupin/.julia/packages/DIVAnd/MV3j9/src/diva.jl:612\n",
      "┌ Info: scaled correlation length (min,max) in dimension 3: (30.0, 30.0)\n",
      "└ @ DIVAnd /home/ctroupin/.julia/packages/DIVAnd/MV3j9/src/diva.jl:612\n",
      "┌ Info: number of windows: 1\n",
      "└ @ DIVAnd /home/ctroupin/.julia/packages/DIVAnd/MV3j9/src/DIVAndgo.jl:110\n",
      "┌ Info: number of windows: 1\n",
      "└ @ DIVAnd /home/ctroupin/.julia/packages/DIVAnd/MV3j9/src/DIVAndgo.jl:110\n",
      "┌ Info: Time step 6 / 8\n",
      "└ @ DIVAnd /home/ctroupin/.julia/packages/DIVAnd/MV3j9/src/diva.jl:427\n",
      "┌ Info: scaled correlation length (min,max) in dimension 1: (200000.0, 200000.0)\n",
      "└ @ DIVAnd /home/ctroupin/.julia/packages/DIVAnd/MV3j9/src/diva.jl:612\n",
      "┌ Info: scaled correlation length (min,max) in dimension 2: (200000.0, 200000.0)\n",
      "└ @ DIVAnd /home/ctroupin/.julia/packages/DIVAnd/MV3j9/src/diva.jl:612\n",
      "┌ Info: scaled correlation length (min,max) in dimension 3: (30.0, 30.0)\n",
      "└ @ DIVAnd /home/ctroupin/.julia/packages/DIVAnd/MV3j9/src/diva.jl:612\n",
      "┌ Info: number of windows: 1\n",
      "└ @ DIVAnd /home/ctroupin/.julia/packages/DIVAnd/MV3j9/src/DIVAndgo.jl:110\n",
      "┌ Info: number of windows: 1\n",
      "└ @ DIVAnd /home/ctroupin/.julia/packages/DIVAnd/MV3j9/src/DIVAndgo.jl:110\n",
      "┌ Info: Time step 7 / 8\n",
      "└ @ DIVAnd /home/ctroupin/.julia/packages/DIVAnd/MV3j9/src/diva.jl:427\n",
      "┌ Info: scaled correlation length (min,max) in dimension 1: (200000.0, 200000.0)\n",
      "└ @ DIVAnd /home/ctroupin/.julia/packages/DIVAnd/MV3j9/src/diva.jl:612\n",
      "┌ Info: scaled correlation length (min,max) in dimension 2: (200000.0, 200000.0)\n",
      "└ @ DIVAnd /home/ctroupin/.julia/packages/DIVAnd/MV3j9/src/diva.jl:612\n",
      "┌ Info: scaled correlation length (min,max) in dimension 3: (30.0, 30.0)\n",
      "└ @ DIVAnd /home/ctroupin/.julia/packages/DIVAnd/MV3j9/src/diva.jl:612\n",
      "┌ Info: number of windows: 1\n",
      "└ @ DIVAnd /home/ctroupin/.julia/packages/DIVAnd/MV3j9/src/DIVAndgo.jl:110\n",
      "┌ Info: number of windows: 1\n",
      "└ @ DIVAnd /home/ctroupin/.julia/packages/DIVAnd/MV3j9/src/DIVAndgo.jl:110\n",
      "┌ Info: Time step 8 / 8\n",
      "└ @ DIVAnd /home/ctroupin/.julia/packages/DIVAnd/MV3j9/src/diva.jl:427\n",
      "┌ Info: scaled correlation length (min,max) in dimension 1: (200000.0, 200000.0)\n",
      "└ @ DIVAnd /home/ctroupin/.julia/packages/DIVAnd/MV3j9/src/diva.jl:612\n",
      "┌ Info: scaled correlation length (min,max) in dimension 2: (200000.0, 200000.0)\n",
      "└ @ DIVAnd /home/ctroupin/.julia/packages/DIVAnd/MV3j9/src/diva.jl:612\n",
      "┌ Info: scaled correlation length (min,max) in dimension 3: (30.0, 30.0)\n",
      "└ @ DIVAnd /home/ctroupin/.julia/packages/DIVAnd/MV3j9/src/diva.jl:612\n",
      "┌ Info: number of windows: 1\n",
      "└ @ DIVAnd /home/ctroupin/.julia/packages/DIVAnd/MV3j9/src/DIVAndgo.jl:110\n",
      "┌ Info: number of windows: 1\n",
      "└ @ DIVAnd /home/ctroupin/.julia/packages/DIVAnd/MV3j9/src/DIVAndgo.jl:110\n"
     ]
    },
    {
     "name": "stdout",
     "output_type": "stream",
     "text": [
      " 57.976041 seconds (136.72 M allocations: 42.827 GiB, 8.65% gc time, 61.06% compilation time: 0% of which was recompilation)\n"
     ]
    }
   ],
   "source": [
    "dbinfo = @time diva3d((lonr,latr,depthr,TSbackground),\n",
    "           (obslon,obslat,obsdepth,obstime), obsval,\n",
    "           len, epsilon2,\n",
    "           filenamebackground,varname,\n",
    "           bathname=bathname,\n",
    "           mask = mask,\n",
    "           fitcorrlen = false,\n",
    "           niter_e = 2,\n",
    "           solver = solver,\n",
    "           MEMTOFIT = 120,\n",
    "       );"
   ]
  },
  {
   "cell_type": "markdown",
   "metadata": {},
   "source": [
    "### Final analysis\n",
    "#### Parameters\n",
    "We define the periods of interest for the final climatology."
   ]
  },
  {
   "cell_type": "code",
   "execution_count": 24,
   "metadata": {},
   "outputs": [],
   "source": [
    "yearlist = [1970:1979,1980:1989,1990:1999,2000:2009];\n",
    "monthlist = [[1,2,3],[4,5,6],[7,8,9],[10,11,12]];  # Seasonal climatology\n",
    "TS = DIVAnd.TimeSelectorYearListMonthList(yearlist,monthlist);"
   ]
  },
  {
   "cell_type": "markdown",
   "metadata": {},
   "source": [
    "We remove the final netCDF file if it exists."
   ]
  },
  {
   "cell_type": "code",
   "execution_count": 26,
   "metadata": {},
   "outputs": [],
   "source": [
    "if isfile(filename)\n",
    "    rm(filename) # delete the previous analysis\n",
    "    @info \"Removing file $filename\"\n",
    "end"
   ]
  },
  {
   "cell_type": "markdown",
   "metadata": {},
   "source": [
    "Now we can perform the analysis using background field, defined through the option      \n",
    "`background = DIVAnd.backgroundfile(filenamebackground,varname,TSbackground)`:      \n",
    "* `filenamebackground` is the name of the netCDF that you have created with the background\n",
    "* `varname` is the name of the variable as written in the background netCDF and\n",
    "* `TSbackground` is the *TimeSelector` object used to compute the background.\n",
    "\n",
    "With these options set, the new analysis will select the correct background according to the considered period.     \n",
    "We now have 16 time steps: 4 seasons times 4 year periods."
   ]
  },
  {
   "cell_type": "code",
   "execution_count": 27,
   "metadata": {},
   "outputs": [
    {
     "name": "stderr",
     "output_type": "stream",
     "text": [
      "┌ Info: Creating netCDF file Water_body_salinity_Baltic.4Danl.nc\n",
      "└ @ DIVAnd /home/ctroupin/.julia/packages/DIVAnd/MV3j9/src/diva.jl:374\n",
      "┌ Info: Time step 1 / 16\n",
      "└ @ DIVAnd /home/ctroupin/.julia/packages/DIVAnd/MV3j9/src/diva.jl:427\n",
      "┌ Info: analysis time index 1 uses the backgrond time index 1\n",
      "└ @ DIVAnd /home/ctroupin/.julia/packages/DIVAnd/MV3j9/src/utils.jl:764\n",
      "┌ Info: scaled correlation length (min,max) in dimension 1: (200000.0, 200000.0)\n",
      "└ @ DIVAnd /home/ctroupin/.julia/packages/DIVAnd/MV3j9/src/diva.jl:612\n",
      "┌ Info: scaled correlation length (min,max) in dimension 2: (200000.0, 200000.0)\n",
      "└ @ DIVAnd /home/ctroupin/.julia/packages/DIVAnd/MV3j9/src/diva.jl:612\n",
      "┌ Info: scaled correlation length (min,max) in dimension 3: (30.0, 30.0)\n",
      "└ @ DIVAnd /home/ctroupin/.julia/packages/DIVAnd/MV3j9/src/diva.jl:612\n",
      "┌ Info: number of windows: 1\n",
      "└ @ DIVAnd /home/ctroupin/.julia/packages/DIVAnd/MV3j9/src/DIVAndgo.jl:110\n",
      "┌ Info: number of windows: 1\n",
      "└ @ DIVAnd /home/ctroupin/.julia/packages/DIVAnd/MV3j9/src/DIVAndgo.jl:110\n",
      "┌ Info: Time step 2 / 16\n",
      "└ @ DIVAnd /home/ctroupin/.julia/packages/DIVAnd/MV3j9/src/diva.jl:427\n",
      "┌ Info: analysis time index 2 uses the backgrond time index 2\n",
      "└ @ DIVAnd /home/ctroupin/.julia/packages/DIVAnd/MV3j9/src/utils.jl:764\n",
      "┌ Info: scaled correlation length (min,max) in dimension 1: (200000.0, 200000.0)\n",
      "└ @ DIVAnd /home/ctroupin/.julia/packages/DIVAnd/MV3j9/src/diva.jl:612\n",
      "┌ Info: scaled correlation length (min,max) in dimension 2: (200000.0, 200000.0)\n",
      "└ @ DIVAnd /home/ctroupin/.julia/packages/DIVAnd/MV3j9/src/diva.jl:612\n",
      "┌ Info: scaled correlation length (min,max) in dimension 3: (30.0, 30.0)\n",
      "└ @ DIVAnd /home/ctroupin/.julia/packages/DIVAnd/MV3j9/src/diva.jl:612\n",
      "┌ Info: number of windows: 1\n",
      "└ @ DIVAnd /home/ctroupin/.julia/packages/DIVAnd/MV3j9/src/DIVAndgo.jl:110\n",
      "┌ Info: number of windows: 1\n",
      "└ @ DIVAnd /home/ctroupin/.julia/packages/DIVAnd/MV3j9/src/DIVAndgo.jl:110\n",
      "┌ Info: Time step 3 / 16\n",
      "└ @ DIVAnd /home/ctroupin/.julia/packages/DIVAnd/MV3j9/src/diva.jl:427\n",
      "┌ Info: analysis time index 3 uses the backgrond time index 3\n",
      "└ @ DIVAnd /home/ctroupin/.julia/packages/DIVAnd/MV3j9/src/utils.jl:764\n",
      "┌ Info: scaled correlation length (min,max) in dimension 1: (200000.0, 200000.0)\n",
      "└ @ DIVAnd /home/ctroupin/.julia/packages/DIVAnd/MV3j9/src/diva.jl:612\n",
      "┌ Info: scaled correlation length (min,max) in dimension 2: (200000.0, 200000.0)\n",
      "└ @ DIVAnd /home/ctroupin/.julia/packages/DIVAnd/MV3j9/src/diva.jl:612\n",
      "┌ Info: scaled correlation length (min,max) in dimension 3: (30.0, 30.0)\n",
      "└ @ DIVAnd /home/ctroupin/.julia/packages/DIVAnd/MV3j9/src/diva.jl:612\n",
      "┌ Info: number of windows: 1\n",
      "└ @ DIVAnd /home/ctroupin/.julia/packages/DIVAnd/MV3j9/src/DIVAndgo.jl:110\n",
      "┌ Info: number of windows: 1\n",
      "└ @ DIVAnd /home/ctroupin/.julia/packages/DIVAnd/MV3j9/src/DIVAndgo.jl:110\n",
      "┌ Info: Time step 4 / 16\n",
      "└ @ DIVAnd /home/ctroupin/.julia/packages/DIVAnd/MV3j9/src/diva.jl:427\n",
      "┌ Info: analysis time index 4 uses the backgrond time index 4\n",
      "└ @ DIVAnd /home/ctroupin/.julia/packages/DIVAnd/MV3j9/src/utils.jl:764\n",
      "┌ Info: scaled correlation length (min,max) in dimension 1: (200000.0, 200000.0)\n",
      "└ @ DIVAnd /home/ctroupin/.julia/packages/DIVAnd/MV3j9/src/diva.jl:612\n",
      "┌ Info: scaled correlation length (min,max) in dimension 2: (200000.0, 200000.0)\n",
      "└ @ DIVAnd /home/ctroupin/.julia/packages/DIVAnd/MV3j9/src/diva.jl:612\n",
      "┌ Info: scaled correlation length (min,max) in dimension 3: (30.0, 30.0)\n",
      "└ @ DIVAnd /home/ctroupin/.julia/packages/DIVAnd/MV3j9/src/diva.jl:612\n",
      "┌ Info: number of windows: 1\n",
      "└ @ DIVAnd /home/ctroupin/.julia/packages/DIVAnd/MV3j9/src/DIVAndgo.jl:110\n",
      "┌ Info: number of windows: 1\n",
      "└ @ DIVAnd /home/ctroupin/.julia/packages/DIVAnd/MV3j9/src/DIVAndgo.jl:110\n",
      "┌ Info: Time step 5 / 16\n",
      "└ @ DIVAnd /home/ctroupin/.julia/packages/DIVAnd/MV3j9/src/diva.jl:427\n",
      "┌ Info: analysis time index 5 uses the backgrond time index 1\n",
      "└ @ DIVAnd /home/ctroupin/.julia/packages/DIVAnd/MV3j9/src/utils.jl:764\n",
      "┌ Info: scaled correlation length (min,max) in dimension 1: (200000.0, 200000.0)\n",
      "└ @ DIVAnd /home/ctroupin/.julia/packages/DIVAnd/MV3j9/src/diva.jl:612\n",
      "┌ Info: scaled correlation length (min,max) in dimension 2: (200000.0, 200000.0)\n",
      "└ @ DIVAnd /home/ctroupin/.julia/packages/DIVAnd/MV3j9/src/diva.jl:612\n",
      "┌ Info: scaled correlation length (min,max) in dimension 3: (30.0, 30.0)\n",
      "└ @ DIVAnd /home/ctroupin/.julia/packages/DIVAnd/MV3j9/src/diva.jl:612\n",
      "┌ Info: number of windows: 1\n",
      "└ @ DIVAnd /home/ctroupin/.julia/packages/DIVAnd/MV3j9/src/DIVAndgo.jl:110\n",
      "┌ Info: number of windows: 1\n",
      "└ @ DIVAnd /home/ctroupin/.julia/packages/DIVAnd/MV3j9/src/DIVAndgo.jl:110\n",
      "┌ Info: Time step 6 / 16\n",
      "└ @ DIVAnd /home/ctroupin/.julia/packages/DIVAnd/MV3j9/src/diva.jl:427\n",
      "┌ Info: analysis time index 6 uses the backgrond time index 2\n",
      "└ @ DIVAnd /home/ctroupin/.julia/packages/DIVAnd/MV3j9/src/utils.jl:764\n",
      "┌ Info: scaled correlation length (min,max) in dimension 1: (200000.0, 200000.0)\n",
      "└ @ DIVAnd /home/ctroupin/.julia/packages/DIVAnd/MV3j9/src/diva.jl:612\n",
      "┌ Info: scaled correlation length (min,max) in dimension 2: (200000.0, 200000.0)\n",
      "└ @ DIVAnd /home/ctroupin/.julia/packages/DIVAnd/MV3j9/src/diva.jl:612\n",
      "┌ Info: scaled correlation length (min,max) in dimension 3: (30.0, 30.0)\n",
      "└ @ DIVAnd /home/ctroupin/.julia/packages/DIVAnd/MV3j9/src/diva.jl:612\n",
      "┌ Info: number of windows: 1\n",
      "└ @ DIVAnd /home/ctroupin/.julia/packages/DIVAnd/MV3j9/src/DIVAndgo.jl:110\n",
      "┌ Info: number of windows: 1\n",
      "└ @ DIVAnd /home/ctroupin/.julia/packages/DIVAnd/MV3j9/src/DIVAndgo.jl:110\n",
      "┌ Info: Time step 7 / 16\n",
      "└ @ DIVAnd /home/ctroupin/.julia/packages/DIVAnd/MV3j9/src/diva.jl:427\n",
      "┌ Info: analysis time index 7 uses the backgrond time index 3\n",
      "└ @ DIVAnd /home/ctroupin/.julia/packages/DIVAnd/MV3j9/src/utils.jl:764\n",
      "┌ Info: scaled correlation length (min,max) in dimension 1: (200000.0, 200000.0)\n",
      "└ @ DIVAnd /home/ctroupin/.julia/packages/DIVAnd/MV3j9/src/diva.jl:612\n",
      "┌ Info: scaled correlation length (min,max) in dimension 2: (200000.0, 200000.0)\n",
      "└ @ DIVAnd /home/ctroupin/.julia/packages/DIVAnd/MV3j9/src/diva.jl:612\n",
      "┌ Info: scaled correlation length (min,max) in dimension 3: (30.0, 30.0)\n",
      "└ @ DIVAnd /home/ctroupin/.julia/packages/DIVAnd/MV3j9/src/diva.jl:612\n",
      "┌ Info: number of windows: 1\n",
      "└ @ DIVAnd /home/ctroupin/.julia/packages/DIVAnd/MV3j9/src/DIVAndgo.jl:110\n",
      "┌ Info: number of windows: 1\n",
      "└ @ DIVAnd /home/ctroupin/.julia/packages/DIVAnd/MV3j9/src/DIVAndgo.jl:110\n",
      "┌ Info: Time step 8 / 16\n",
      "└ @ DIVAnd /home/ctroupin/.julia/packages/DIVAnd/MV3j9/src/diva.jl:427\n",
      "┌ Info: analysis time index 8 uses the backgrond time index 4\n",
      "└ @ DIVAnd /home/ctroupin/.julia/packages/DIVAnd/MV3j9/src/utils.jl:764\n",
      "┌ Info: scaled correlation length (min,max) in dimension 1: (200000.0, 200000.0)\n",
      "└ @ DIVAnd /home/ctroupin/.julia/packages/DIVAnd/MV3j9/src/diva.jl:612\n",
      "┌ Info: scaled correlation length (min,max) in dimension 2: (200000.0, 200000.0)\n",
      "└ @ DIVAnd /home/ctroupin/.julia/packages/DIVAnd/MV3j9/src/diva.jl:612\n",
      "┌ Info: scaled correlation length (min,max) in dimension 3: (30.0, 30.0)\n",
      "└ @ DIVAnd /home/ctroupin/.julia/packages/DIVAnd/MV3j9/src/diva.jl:612\n",
      "┌ Info: number of windows: 1\n",
      "└ @ DIVAnd /home/ctroupin/.julia/packages/DIVAnd/MV3j9/src/DIVAndgo.jl:110\n",
      "┌ Info: number of windows: 1\n",
      "└ @ DIVAnd /home/ctroupin/.julia/packages/DIVAnd/MV3j9/src/DIVAndgo.jl:110\n",
      "┌ Info: Time step 9 / 16\n",
      "└ @ DIVAnd /home/ctroupin/.julia/packages/DIVAnd/MV3j9/src/diva.jl:427\n",
      "┌ Info: analysis time index 9 uses the backgrond time index 5\n",
      "└ @ DIVAnd /home/ctroupin/.julia/packages/DIVAnd/MV3j9/src/utils.jl:764\n",
      "┌ Info: scaled correlation length (min,max) in dimension 1: (200000.0, 200000.0)\n",
      "└ @ DIVAnd /home/ctroupin/.julia/packages/DIVAnd/MV3j9/src/diva.jl:612\n",
      "┌ Info: scaled correlation length (min,max) in dimension 2: (200000.0, 200000.0)\n",
      "└ @ DIVAnd /home/ctroupin/.julia/packages/DIVAnd/MV3j9/src/diva.jl:612\n",
      "┌ Info: scaled correlation length (min,max) in dimension 3: (30.0, 30.0)\n",
      "└ @ DIVAnd /home/ctroupin/.julia/packages/DIVAnd/MV3j9/src/diva.jl:612\n",
      "┌ Info: number of windows: 1\n",
      "└ @ DIVAnd /home/ctroupin/.julia/packages/DIVAnd/MV3j9/src/DIVAndgo.jl:110\n",
      "┌ Info: number of windows: 1\n",
      "└ @ DIVAnd /home/ctroupin/.julia/packages/DIVAnd/MV3j9/src/DIVAndgo.jl:110\n",
      "┌ Info: Time step 10 / 16\n",
      "└ @ DIVAnd /home/ctroupin/.julia/packages/DIVAnd/MV3j9/src/diva.jl:427\n",
      "┌ Info: analysis time index 10 uses the backgrond time index 6\n",
      "└ @ DIVAnd /home/ctroupin/.julia/packages/DIVAnd/MV3j9/src/utils.jl:764\n"
     ]
    },
    {
     "name": "stderr",
     "output_type": "stream",
     "text": [
      "┌ Info: scaled correlation length (min,max) in dimension 1: (200000.0, 200000.0)\n",
      "└ @ DIVAnd /home/ctroupin/.julia/packages/DIVAnd/MV3j9/src/diva.jl:612\n",
      "┌ Info: scaled correlation length (min,max) in dimension 2: (200000.0, 200000.0)\n",
      "└ @ DIVAnd /home/ctroupin/.julia/packages/DIVAnd/MV3j9/src/diva.jl:612\n",
      "┌ Info: scaled correlation length (min,max) in dimension 3: (30.0, 30.0)\n",
      "└ @ DIVAnd /home/ctroupin/.julia/packages/DIVAnd/MV3j9/src/diva.jl:612\n",
      "┌ Info: number of windows: 1\n",
      "└ @ DIVAnd /home/ctroupin/.julia/packages/DIVAnd/MV3j9/src/DIVAndgo.jl:110\n",
      "┌ Info: number of windows: 1\n",
      "└ @ DIVAnd /home/ctroupin/.julia/packages/DIVAnd/MV3j9/src/DIVAndgo.jl:110\n",
      "┌ Info: Time step 11 / 16\n",
      "└ @ DIVAnd /home/ctroupin/.julia/packages/DIVAnd/MV3j9/src/diva.jl:427\n",
      "┌ Info: analysis time index 11 uses the backgrond time index 7\n",
      "└ @ DIVAnd /home/ctroupin/.julia/packages/DIVAnd/MV3j9/src/utils.jl:764\n",
      "┌ Info: scaled correlation length (min,max) in dimension 1: (200000.0, 200000.0)\n",
      "└ @ DIVAnd /home/ctroupin/.julia/packages/DIVAnd/MV3j9/src/diva.jl:612\n",
      "┌ Info: scaled correlation length (min,max) in dimension 2: (200000.0, 200000.0)\n",
      "└ @ DIVAnd /home/ctroupin/.julia/packages/DIVAnd/MV3j9/src/diva.jl:612\n",
      "┌ Info: scaled correlation length (min,max) in dimension 3: (30.0, 30.0)\n",
      "└ @ DIVAnd /home/ctroupin/.julia/packages/DIVAnd/MV3j9/src/diva.jl:612\n",
      "┌ Info: number of windows: 1\n",
      "└ @ DIVAnd /home/ctroupin/.julia/packages/DIVAnd/MV3j9/src/DIVAndgo.jl:110\n",
      "┌ Info: number of windows: 1\n",
      "└ @ DIVAnd /home/ctroupin/.julia/packages/DIVAnd/MV3j9/src/DIVAndgo.jl:110\n",
      "┌ Info: Time step 12 / 16\n",
      "└ @ DIVAnd /home/ctroupin/.julia/packages/DIVAnd/MV3j9/src/diva.jl:427\n",
      "┌ Info: analysis time index 12 uses the backgrond time index 8\n",
      "└ @ DIVAnd /home/ctroupin/.julia/packages/DIVAnd/MV3j9/src/utils.jl:764\n",
      "┌ Info: scaled correlation length (min,max) in dimension 1: (200000.0, 200000.0)\n",
      "└ @ DIVAnd /home/ctroupin/.julia/packages/DIVAnd/MV3j9/src/diva.jl:612\n",
      "┌ Info: scaled correlation length (min,max) in dimension 2: (200000.0, 200000.0)\n",
      "└ @ DIVAnd /home/ctroupin/.julia/packages/DIVAnd/MV3j9/src/diva.jl:612\n",
      "┌ Info: scaled correlation length (min,max) in dimension 3: (30.0, 30.0)\n",
      "└ @ DIVAnd /home/ctroupin/.julia/packages/DIVAnd/MV3j9/src/diva.jl:612\n",
      "┌ Info: number of windows: 1\n",
      "└ @ DIVAnd /home/ctroupin/.julia/packages/DIVAnd/MV3j9/src/DIVAndgo.jl:110\n",
      "┌ Info: number of windows: 1\n",
      "└ @ DIVAnd /home/ctroupin/.julia/packages/DIVAnd/MV3j9/src/DIVAndgo.jl:110\n",
      "┌ Info: Time step 13 / 16\n",
      "└ @ DIVAnd /home/ctroupin/.julia/packages/DIVAnd/MV3j9/src/diva.jl:427\n",
      "┌ Info: analysis time index 13 uses the backgrond time index 5\n",
      "└ @ DIVAnd /home/ctroupin/.julia/packages/DIVAnd/MV3j9/src/utils.jl:764\n",
      "┌ Info: scaled correlation length (min,max) in dimension 1: (200000.0, 200000.0)\n",
      "└ @ DIVAnd /home/ctroupin/.julia/packages/DIVAnd/MV3j9/src/diva.jl:612\n",
      "┌ Info: scaled correlation length (min,max) in dimension 2: (200000.0, 200000.0)\n",
      "└ @ DIVAnd /home/ctroupin/.julia/packages/DIVAnd/MV3j9/src/diva.jl:612\n",
      "┌ Info: scaled correlation length (min,max) in dimension 3: (30.0, 30.0)\n",
      "└ @ DIVAnd /home/ctroupin/.julia/packages/DIVAnd/MV3j9/src/diva.jl:612\n",
      "┌ Info: number of windows: 1\n",
      "└ @ DIVAnd /home/ctroupin/.julia/packages/DIVAnd/MV3j9/src/DIVAndgo.jl:110\n",
      "┌ Info: number of windows: 1\n",
      "└ @ DIVAnd /home/ctroupin/.julia/packages/DIVAnd/MV3j9/src/DIVAndgo.jl:110\n",
      "┌ Info: Time step 14 / 16\n",
      "└ @ DIVAnd /home/ctroupin/.julia/packages/DIVAnd/MV3j9/src/diva.jl:427\n",
      "┌ Info: analysis time index 14 uses the backgrond time index 6\n",
      "└ @ DIVAnd /home/ctroupin/.julia/packages/DIVAnd/MV3j9/src/utils.jl:764\n",
      "┌ Info: scaled correlation length (min,max) in dimension 1: (200000.0, 200000.0)\n",
      "└ @ DIVAnd /home/ctroupin/.julia/packages/DIVAnd/MV3j9/src/diva.jl:612\n",
      "┌ Info: scaled correlation length (min,max) in dimension 2: (200000.0, 200000.0)\n",
      "└ @ DIVAnd /home/ctroupin/.julia/packages/DIVAnd/MV3j9/src/diva.jl:612\n",
      "┌ Info: scaled correlation length (min,max) in dimension 3: (30.0, 30.0)\n",
      "└ @ DIVAnd /home/ctroupin/.julia/packages/DIVAnd/MV3j9/src/diva.jl:612\n",
      "┌ Info: number of windows: 1\n",
      "└ @ DIVAnd /home/ctroupin/.julia/packages/DIVAnd/MV3j9/src/DIVAndgo.jl:110\n",
      "┌ Info: number of windows: 1\n",
      "└ @ DIVAnd /home/ctroupin/.julia/packages/DIVAnd/MV3j9/src/DIVAndgo.jl:110\n",
      "┌ Info: Time step 15 / 16\n",
      "└ @ DIVAnd /home/ctroupin/.julia/packages/DIVAnd/MV3j9/src/diva.jl:427\n",
      "┌ Info: analysis time index 15 uses the backgrond time index 7\n",
      "└ @ DIVAnd /home/ctroupin/.julia/packages/DIVAnd/MV3j9/src/utils.jl:764\n",
      "┌ Info: scaled correlation length (min,max) in dimension 1: (200000.0, 200000.0)\n",
      "└ @ DIVAnd /home/ctroupin/.julia/packages/DIVAnd/MV3j9/src/diva.jl:612\n",
      "┌ Info: scaled correlation length (min,max) in dimension 2: (200000.0, 200000.0)\n",
      "└ @ DIVAnd /home/ctroupin/.julia/packages/DIVAnd/MV3j9/src/diva.jl:612\n",
      "┌ Info: scaled correlation length (min,max) in dimension 3: (30.0, 30.0)\n",
      "└ @ DIVAnd /home/ctroupin/.julia/packages/DIVAnd/MV3j9/src/diva.jl:612\n",
      "┌ Info: number of windows: 1\n",
      "└ @ DIVAnd /home/ctroupin/.julia/packages/DIVAnd/MV3j9/src/DIVAndgo.jl:110\n",
      "┌ Info: number of windows: 1\n",
      "└ @ DIVAnd /home/ctroupin/.julia/packages/DIVAnd/MV3j9/src/DIVAndgo.jl:110\n",
      "┌ Info: Time step 16 / 16\n",
      "└ @ DIVAnd /home/ctroupin/.julia/packages/DIVAnd/MV3j9/src/diva.jl:427\n",
      "┌ Info: analysis time index 16 uses the backgrond time index 8\n",
      "└ @ DIVAnd /home/ctroupin/.julia/packages/DIVAnd/MV3j9/src/utils.jl:764\n",
      "┌ Info: scaled correlation length (min,max) in dimension 1: (200000.0, 200000.0)\n",
      "└ @ DIVAnd /home/ctroupin/.julia/packages/DIVAnd/MV3j9/src/diva.jl:612\n",
      "┌ Info: scaled correlation length (min,max) in dimension 2: (200000.0, 200000.0)\n",
      "└ @ DIVAnd /home/ctroupin/.julia/packages/DIVAnd/MV3j9/src/diva.jl:612\n",
      "┌ Info: scaled correlation length (min,max) in dimension 3: (30.0, 30.0)\n",
      "└ @ DIVAnd /home/ctroupin/.julia/packages/DIVAnd/MV3j9/src/diva.jl:612\n",
      "┌ Info: number of windows: 1\n",
      "└ @ DIVAnd /home/ctroupin/.julia/packages/DIVAnd/MV3j9/src/DIVAndgo.jl:110\n",
      "┌ Info: number of windows: 1\n",
      "└ @ DIVAnd /home/ctroupin/.julia/packages/DIVAnd/MV3j9/src/DIVAndgo.jl:110\n"
     ]
    },
    {
     "name": "stdout",
     "output_type": "stream",
     "text": [
      " 75.320371 seconds (63.46 M allocations: 38.664 GiB, 5.69% gc time, 4.73% compilation time)\n",
      "length(obslat) = 11180368\n"
     ]
    }
   ],
   "source": [
    "dbinfo = @time diva3d((lonr,latr,depthr,TS),\n",
    "    (obslon,obslat,obsdepth,obstime), obsval,\n",
    "    len, epsilon2,\n",
    "    filename,varname,\n",
    "    bathname=bathname,\n",
    "    plotres = plotres,\n",
    "    mask = mask,\n",
    "    fitcorrlen = false,\n",
    "    niter_e = 2,\n",
    "    background = DIVAnd.backgroundfile(filenamebackground,varname,TSbackground),\n",
    "    solver = solver,\n",
    "    MEMTOFIT = 120,\n",
    ");\n",
    "\n",
    "@show length(obslat);"
   ]
  }
 ],
 "metadata": {
  "@webio": {
   "lastCommId": null,
   "lastKernelId": null
  },
  "kernelspec": {
   "display_name": "Julia 1.9.4",
   "language": "julia",
   "name": "julia-1.9"
  },
  "language_info": {
   "file_extension": ".jl",
   "mimetype": "application/julia",
   "name": "julia",
   "version": "1.9.4"
  },
  "toc": {
   "base_numbering": 1,
   "nav_menu": {},
   "number_sections": true,
   "sideBar": true,
   "skip_h1_title": false,
   "title_cell": "Table of Contents",
   "title_sidebar": "Contents",
   "toc_cell": false,
   "toc_position": {},
   "toc_section_display": true,
   "toc_window_display": false
  }
 },
 "nbformat": 4,
 "nbformat_minor": 2
}
