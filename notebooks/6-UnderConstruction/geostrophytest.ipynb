{
 "cells": [
  {
   "cell_type": "markdown",
   "metadata": {},
   "source": [
    "# Geostrophy\n",
    "## Modules"
   ]
  },
  {
   "cell_type": "code",
   "execution_count": null,
   "metadata": {},
   "outputs": [],
   "source": [
    "using PhysOcean\n",
    "using DIVAnd\n",
    "using Statistics\n",
    "using Makie, CairoMakie, GeoMakie"
   ]
  },
  {
   "cell_type": "markdown",
   "metadata": {},
   "source": [
    "## Grid and metrics\n",
    "<div class=\"alert alert-block alert-warning\">\n",
    "⚠️ Metrics using meters!\n",
    "</div>"
   ]
  },
  {
   "cell_type": "code",
   "execution_count": null,
   "metadata": {},
   "outputs": [],
   "source": [
    "dx = dy = 0.2\n",
    "\n",
    "lonr = 27:dx:42\n",
    "latr = 40:dy:47\n",
    "\n",
    "depthr = [0.5, 10, 20, 30, 50, 75, 100, 125, 150, 200, 250, 300, 400, 500, 600, 700, 800, 900, 1000, \n",
    "    1100, 1200, 1300, 1400, 1500, 1750, 2000];\n",
    "\n",
    "mask, (pm, pn, po), (xi, yi, zi) = DIVAnd_rectdom(lonr, latr, depthr)"
   ]
  },
  {
   "cell_type": "markdown",
   "metadata": {},
   "source": [
    "Now into meters"
   ]
  },
  {
   "cell_type": "code",
   "execution_count": null,
   "metadata": {},
   "outputs": [],
   "source": [
    "(pmm, pnm) = DIVAnd_metric(xi[:, :, 1], yi[:, :, 1])\n",
    "pm = repeat(pmm, inner = (1, 1, length(depthr)));\n",
    "pn = repeat(pnm, inner = (1, 1, length(depthr)));\n",
    "\n",
    "mask[1:2, :, :] .= false\n",
    "mask[end-1:end, :, :] .= false;\n",
    "#mask[:,1:2,:]=false\n",
    "#mask[:,end-1:end,:]=false"
   ]
  },
  {
   "cell_type": "markdown",
   "metadata": {},
   "source": [
    "## Observations\n",
    "We work with fake data."
   ]
  },
  {
   "cell_type": "code",
   "execution_count": null,
   "metadata": {},
   "outputs": [],
   "source": [
    "temp =\n",
    "    16 .- zi ./ 1600 .+ cos.(1.4 * xi .+ 0 * xi .- zi / 300) .+\n",
    "    xi / 5 .* xi ./ (zi .+ 1) / 2000 .* (zi / 1000 .+ xi)\n",
    "salt = 28 .+ xi\n",
    "\n",
    "dens = PhysOcean.density.(salt, temp, 0.0) .- 1025;\n",
    "@info(size(dens));"
   ]
  },
  {
   "cell_type": "code",
   "execution_count": null,
   "metadata": {},
   "outputs": [],
   "source": [
    "fig = Figure()\n",
    "ax = Axis(fig[1, 1], title = \"Density field at surface\")\n",
    "hm = heatmap!(ax, xi[:, 1, 1], yi[1, :, 1], dens[:, :, 1])\n",
    "Colorbar(fig[1, 2], hm, label = \"kg/m³\")\n",
    "fig"
   ]
  },
  {
   "cell_type": "markdown",
   "metadata": {},
   "source": [
    "## Calculate geostrophic velocities \n",
    "Assuming level 10 is no motion"
   ]
  },
  {
   "cell_type": "code",
   "execution_count": null,
   "metadata": {},
   "outputs": [],
   "source": [
    "velocities, eta, Vflux = geostrophy(mask, dens, (pm, pn, po), (xi, yi, zi); znomotion = 10);\n",
    "eta = eta .- mean(eta);"
   ]
  },
  {
   "cell_type": "markdown",
   "metadata": {},
   "source": [
    "Look at fluxes in y direction (south-north)"
   ]
  },
  {
   "cell_type": "code",
   "execution_count": null,
   "metadata": {},
   "outputs": [],
   "source": [
    "@show mean(var(Vflux[1] .^ 2)), mean(var(Vflux[2] .^ 2));"
   ]
  },
  {
   "cell_type": "code",
   "execution_count": null,
   "metadata": {},
   "outputs": [],
   "source": [
    "fig = Figure()\n",
    "ax = Axis(fig[1, 1])\n",
    "hm = heatmap!(ax, xi[:, 1, 1], yi[1, :, 1], eta)\n",
    "Colorbar(fig[1, 2], hm)\n",
    "fig"
   ]
  },
  {
   "cell_type": "markdown",
   "metadata": {},
   "source": [
    "Now analyse `eta` with constrain to have barotropic flow compensating the fluxes just calculated"
   ]
  },
  {
   "cell_type": "code",
   "execution_count": null,
   "metadata": {},
   "outputs": [],
   "source": [
    "# function to interpolate\n",
    "fun(x, y) = sin.(6x) * cos.(6y)\n",
    "\n",
    "# observations\n",
    "\n",
    "x = [35];\n",
    "y = [42];\n",
    "f = [0.1]\n",
    "\n",
    "h = deepestpoint(mask, zi)\n",
    "len = 500000.2\n",
    "epsilon2 = 110000\n",
    "rfluxes = 0.0000001\n",
    "\n",
    "#Need to scale fluxes by f/g\n",
    "gsf = (earthgravity.(yi)./coriolisfrequency.(yi))[:, :, 1]\n",
    "fi, s = DIVAndrun(\n",
    "    mask[:, :, 1],\n",
    "    (pm[:, :, 1], pn[:, :, 1]),\n",
    "    (xi[:, :, 1], yi[:, :, 1]),\n",
    "    (x, y),\n",
    "    f,\n",
    "    len,\n",
    "    epsilon2;\n",
    "    moddim = [0, 7],\n",
    "    topographyforfluxes = (gsf .* h, 0),\n",
    "    fluxes = (Vflux[1], 0),\n",
    "    epsfluxes = rfluxes,\n",
    "    alphabc = 2,\n",
    "    alpha = [1, 0, 1],\n",
    ");"
   ]
  },
  {
   "cell_type": "markdown",
   "metadata": {},
   "source": [
    "Correction term"
   ]
  },
  {
   "cell_type": "code",
   "execution_count": null,
   "metadata": {},
   "outputs": [],
   "source": [
    "fig = Figure()\n",
    "ax = Axis(fig[1, 1])\n",
    "hm = heatmap!(ax, xi[:, 1, 1], yi[1, :, 1], fi)\n",
    "Colorbar(fig[1, 2], hm)\n",
    "fig"
   ]
  },
  {
   "cell_type": "markdown",
   "metadata": {},
   "source": [
    "For plotting and further calculation"
   ]
  },
  {
   "cell_type": "code",
   "execution_count": null,
   "metadata": {},
   "outputs": [],
   "source": [
    "fi[isnan.(fi)] .= 0;"
   ]
  },
  {
   "cell_type": "markdown",
   "metadata": {},
   "source": [
    "For verification look at how the correction term if applied with overall factor 0 to 2 changes fluxes"
   ]
  },
  {
   "cell_type": "code",
   "execution_count": null,
   "metadata": {},
   "outputs": [],
   "source": [
    "sf = collect(0.0:0.11:2.5)\n",
    "Ff = zeros(size(sf))\n",
    "Ff2 = zeros(size(sf))\n",
    "Vfluxafter = 0\n",
    "for i = 1:size(sf)[1]\n",
    "\n",
    "    velafter, etaafter, Vfluxafter =\n",
    "        geostrophy(mask, dens, (pm, pn, po), (xi, yi, zi); ssh = eta + sf[i] * fi)\n",
    "    Ff[i] = mean(Vfluxafter[1] .^ 2)\n",
    "    Ff2[i] = mean(Vfluxafter[2] .^ 2)\n",
    "end"
   ]
  },
  {
   "cell_type": "code",
   "execution_count": null,
   "metadata": {},
   "outputs": [],
   "source": [
    "fig = Figure()\n",
    "ax = Axis(fig[1, 1], title = \"Fluxes as a function of amplitude of correction factor\")\n",
    "lines!(ax, sf, Ff)\n",
    "fig"
   ]
  },
  {
   "cell_type": "code",
   "execution_count": null,
   "metadata": {},
   "outputs": [],
   "source": [
    "@show mean(Vflux[1] .^ 2)"
   ]
  },
  {
   "cell_type": "markdown",
   "metadata": {},
   "source": [
    "So we can indeed use"
   ]
  },
  {
   "cell_type": "code",
   "execution_count": null,
   "metadata": {},
   "outputs": [],
   "source": [
    "velafter, etaafter, Vfluxafter =\n",
    "    geostrophy(mask, dens, (pm, pn, po), (xi, yi, zi); ssh = eta + fi);"
   ]
  },
  {
   "cell_type": "code",
   "execution_count": null,
   "metadata": {},
   "outputs": [],
   "source": [
    "@show mean(Vfluxafter[1] .^ 2)"
   ]
  },
  {
   "cell_type": "markdown",
   "metadata": {},
   "source": [
    "### Verification \n",
    "If we use zero density anomamy and barotropic correction term we get right flux correction"
   ]
  },
  {
   "cell_type": "code",
   "execution_count": null,
   "metadata": {},
   "outputs": [],
   "source": [
    "velafterb, etaafterb, Vfluxafterb =\n",
    "    geostrophy(mask, 0.0 * dens, (pm, pn, po), (xi, yi, zi); ssh = fi);"
   ]
  },
  {
   "cell_type": "code",
   "execution_count": null,
   "metadata": {},
   "outputs": [],
   "source": [
    "(Vfluxafterb[1] + Vflux[1]) ./ Vflux[1];"
   ]
  },
  {
   "cell_type": "markdown",
   "metadata": {},
   "source": [
    "## Streamfunction"
   ]
  },
  {
   "cell_type": "code",
   "execution_count": null,
   "metadata": {},
   "outputs": [],
   "source": [
    "psi = streamfunctionvolumeflux(mask, velafter, (pm, pn, po), (xi, yi, zi));"
   ]
  },
  {
   "cell_type": "code",
   "execution_count": null,
   "metadata": {},
   "outputs": [],
   "source": [
    "fig = Figure()\n",
    "ax = Axis(fig[1, 1])\n",
    "hm = heatmap!(ax, yi[1, :, 1], -zi[1, 1, :], psi[1])\n",
    "Colorbar(fig[1, 2], hm)\n",
    "fig"
   ]
  },
  {
   "cell_type": "code",
   "execution_count": null,
   "metadata": {},
   "outputs": [],
   "source": [
    "fig = Figure()\n",
    "ax = Axis(fig[1, 1])\n",
    "hm = heatmap!(ax, xi[:, 1, 1], -zi[1, 1, :], psi[2])\n",
    "Colorbar(fig[1, 2], hm)\n",
    "fig"
   ]
  },
  {
   "cell_type": "code",
   "execution_count": null,
   "metadata": {},
   "outputs": [],
   "source": []
  }
 ],
 "metadata": {
  "anaconda-cloud": {},
  "kernelspec": {
   "display_name": "Julia 1.11.2",
   "language": "julia",
   "name": "julia-1.11"
  },
  "language_info": {
   "file_extension": ".jl",
   "mimetype": "application/julia",
   "name": "julia",
   "version": "1.11.2"
  },
  "toc": {
   "base_numbering": 1,
   "nav_menu": {},
   "number_sections": true,
   "sideBar": true,
   "skip_h1_title": false,
   "title_cell": "Table of Contents",
   "title_sidebar": "Contents",
   "toc_cell": false,
   "toc_position": {},
   "toc_section_display": true,
   "toc_window_display": false
  }
 },
 "nbformat": 4,
 "nbformat_minor": 1
}
