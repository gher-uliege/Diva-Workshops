{
 "cells": [
  {
   "cell_type": "code",
   "execution_count": 1,
   "metadata": {
    "collapsed": false
   },
   "outputs": [],
   "source": [
    "push!(LOAD_PATH,\"C:/JMB/PhysOcean.jl/src\",\".\"); using PhysOcean\n"
   ]
  },
  {
   "cell_type": "code",
   "execution_count": 2,
   "metadata": {
    "collapsed": false
   },
   "outputs": [],
   "source": [
    "push!(LOAD_PATH,\"C:/JMB/DIVAnd.jl/src\",\".\"); using DIVAnd;cd(\"C:/JMB/DIVAnd.jl\");cd(\"examples\")\n",
    "using DIVAnd\n",
    "using PyPlot\n"
   ]
  },
  {
   "cell_type": "markdown",
   "metadata": {},
   "source": [
    "Simple example with "
   ]
  },
  {
   "cell_type": "markdown",
   "metadata": {},
   "source": [
    "## METRICS usign METERS"
   ]
  },
  {
   "cell_type": "code",
   "execution_count": 3,
   "metadata": {
    "collapsed": false
   },
   "outputs": [
    {
     "data": {
      "text/plain": [
       "false"
      ]
     },
     "execution_count": 3,
     "metadata": {},
     "output_type": "execute_result"
    }
   ],
   "source": [
    "dx = dy = 0.2\n",
    "\n",
    "lonr = 27:dx:42\n",
    "latr = 40:dy:47\n",
    "\n",
    "\n",
    "depthr = [0.5, 10, 20, 30, 50, 75, 100, 125, 150, 200, 250, 300, 400, 500, 600, 700, 800, 900, 1000, 1100, 1200, 1300, 1400, 1500, 1750, 2000];\n",
    "\n",
    "mask,(pm,pn,po),(xi,yi,zi) = DIVAnd_rectdom(lonr,latr,depthr)\n",
    "#Now into meters\n",
    "(pmm,pnm) = DIVAnd_metric(xi[:,:,1],yi[:,:,1])\n",
    "pm=repeat(pmm,inner = (1,1,length(depthr)));\n",
    "pn=repeat(pnm,inner = (1,1,length(depthr)));\n",
    "\n",
    "mask[1:2,:,:]=false\n",
    "mask[end-1:end,:,:]=false\n",
    "#mask[:,1:2,:]=false\n",
    "#mask[:,end-1:end,:]=false\n"
   ]
  },
  {
   "cell_type": "markdown",
   "metadata": {},
   "source": [
    "Fake data"
   ]
  },
  {
   "cell_type": "code",
   "execution_count": 4,
   "metadata": {
    "collapsed": false
   },
   "outputs": [],
   "source": [
    "temp=16-zi/1600+cos.(1.4*xi+0*xi-zi/300)+xi/5.*xi./(zi+1)/2000.*(zi/1000+xi)\n",
    "salt=28+xi\n",
    "\n",
    "dens=density.(salt,temp,0)-1025;"
   ]
  },
  {
   "cell_type": "code",
   "execution_count": 5,
   "metadata": {
    "collapsed": false
   },
   "outputs": [
    {
     "ename": "LoadError",
     "evalue": "\u001b[91msyntax: extra token \"geostrophic\" after end of expression\u001b[39m",
     "output_type": "error",
     "traceback": [
      "\u001b[91msyntax: extra token \"geostrophic\" after end of expression\u001b[39m",
      "",
      "Stacktrace:",
      " [1] \u001b[1minclude_string\u001b[22m\u001b[22m\u001b[1m(\u001b[22m\u001b[22m::String, ::String\u001b[1m)\u001b[22m\u001b[22m at \u001b[1m.\\loading.jl:515\u001b[22m\u001b[22m"
     ]
    }
   ],
   "source": [
    "Calculate geostrophic velocities assuming level 10 is no motion"
   ]
  },
  {
   "cell_type": "code",
   "execution_count": 6,
   "metadata": {
    "collapsed": false
   },
   "outputs": [],
   "source": [
    "velocities,eta,Vflux=geostrophy(mask,dens,(pm,pn,po),(xi,yi,zi);znomotion=10);\n",
    "eta=eta-mean(eta);"
   ]
  },
  {
   "cell_type": "markdown",
   "metadata": {},
   "source": [
    "Look at fluxes in y direction (south-north)"
   ]
  },
  {
   "cell_type": "code",
   "execution_count": 7,
   "metadata": {
    "collapsed": false
   },
   "outputs": [
    {
     "name": "stdout",
     "output_type": "stream",
     "text": [
      "(mean(var(Vflux[1] .^ 2)), mean(var(Vflux[2] .^ 2))) = (4.863047285681978e34, 0.0)\n"
     ]
    },
    {
     "data": {
      "text/plain": [
       "(4.863047285681978e34, 0.0)"
      ]
     },
     "execution_count": 7,
     "metadata": {},
     "output_type": "execute_result"
    }
   ],
   "source": [
    "@show mean(var(Vflux[1].^2)),mean(var(Vflux[2].^2))"
   ]
  },
  {
   "cell_type": "code",
   "execution_count": 8,
   "metadata": {
    "collapsed": false
   },
   "outputs": [
    {
     "data": {
      "image/png": "[encoded data removed]",
      "text/plain": [
       "PyPlot.Figure(PyObject <matplotlib.figure.Figure object at 0x000000002BCAC588>)"
      ]
     },
     "metadata": {},
     "output_type": "display_data"
    },
    {
     "data": {
      "text/plain": [
       "(PyObject <matplotlib.collections.PolyCollection object at 0x000000002BD1B5C0>, PyObject <matplotlib.colorbar.Colorbar object at 0x000000002C21D5C0>)"
      ]
     },
     "execution_count": 8,
     "metadata": {},
     "output_type": "execute_result"
    }
   ],
   "source": [
    "pcolor(xi[:,:,1],yi[:,:,1],eta),colorbar()"
   ]
  },
  {
   "cell_type": "markdown",
   "metadata": {},
   "source": [
    "Now analyse eta with contstrain to have barotropic flow compensating the fluxes just calculated"
   ]
  },
  {
   "cell_type": "code",
   "execution_count": 9,
   "metadata": {
    "collapsed": false
   },
   "outputs": [],
   "source": [
    "# function to interpolate\n",
    "fun(x,y) = sin.(6x) * cos.(6y)\n",
    "\n",
    "# observations\n",
    "\n",
    "x = [35];\n",
    "y = [42];\n",
    "f = [0.1]\n",
    "\n",
    "h=deepestpoint(mask,zi)\n",
    "len=500000.2\n",
    "epsilon2=110000\n",
    "rfluxes=0.0000001\n",
    "\n",
    "#Need to scale fluxes by f/g\n",
    "gsf=(earthgravity.(yi)./coriolisfrequency.(yi))[:,:,1]\n",
    "fi,s=DIVAndrun(mask[:,:,1],(pm[:,:,1],pn[:,:,1]),(xi[:,:,1],yi[:,:,1]),(x,y),f,len,epsilon2;moddim=[0,7],topographyforfluxes=(gsf.*h,0),fluxes=(Vflux[1],0),epsfluxes=rfluxes,alphabc=2,alpha=[1, 0, 1]);"
   ]
  },
  {
   "cell_type": "code",
   "execution_count": 10,
   "metadata": {
    "collapsed": false
   },
   "outputs": [
    {
     "ename": "LoadError",
     "evalue": "\u001b[91msyntax: extra token \"term\" after end of expression\u001b[39m",
     "output_type": "error",
     "traceback": [
      "\u001b[91msyntax: extra token \"term\" after end of expression\u001b[39m",
      "",
      "Stacktrace:",
      " [1] \u001b[1minclude_string\u001b[22m\u001b[22m\u001b[1m(\u001b[22m\u001b[22m::String, ::String\u001b[1m)\u001b[22m\u001b[22m at \u001b[1m.\\loading.jl:515\u001b[22m\u001b[22m"
     ]
    }
   ],
   "source": [
    "Correction term"
   ]
  },
  {
   "cell_type": "code",
   "execution_count": 11,
   "metadata": {
    "collapsed": false
   },
   "outputs": [
    {
     "data": {
      "image/png": "[encoded data removed]",
      "text/plain": [
       "PyPlot.Figure(PyObject <matplotlib.figure.Figure object at 0x000000002C34BDA0>)"
      ]
     },
     "metadata": {},
     "output_type": "display_data"
    },
    {
     "data": {
      "text/plain": [
       "(PyObject <matplotlib.collections.PolyCollection object at 0x000000002C482F28>, PyObject <matplotlib.colorbar.Colorbar object at 0x000000003721C518>)"
      ]
     },
     "execution_count": 11,
     "metadata": {},
     "output_type": "execute_result"
    }
   ],
   "source": [
    "pcolor(xi[:,:,1],yi[:,:,1],fi),colorbar()"
   ]
  },
  {
   "cell_type": "markdown",
   "metadata": {
    "collapsed": false
   },
   "source": [
    "For plotting and further calculation"
   ]
  },
  {
   "cell_type": "code",
   "execution_count": 12,
   "metadata": {
    "collapsed": false
   },
   "outputs": [
    {
     "data": {
      "text/plain": [
       "0"
      ]
     },
     "execution_count": 12,
     "metadata": {},
     "output_type": "execute_result"
    }
   ],
   "source": [
    "fi[isnan.(fi)]=0"
   ]
  },
  {
   "cell_type": "markdown",
   "metadata": {},
   "source": [
    "For verification look at how the correction term if applied with overall factor 0 to 2 changes fluxes"
   ]
  },
  {
   "cell_type": "code",
   "execution_count": 13,
   "metadata": {
    "collapsed": false
   },
   "outputs": [],
   "source": [
    "sf=collect(0.:0.11:2.5)\n",
    "Ff=zeros(size(sf))\n",
    "Ff2=zeros(size(sf))\n",
    "Vfluxafter=0\n",
    "for i=1:size(sf)[1]\n",
    "\n",
    "    velafter,etaafter,Vfluxafter=geostrophy(mask,dens,(pm,pn,po),(xi,yi,zi);ssh=eta+sf[i]*fi);\n",
    "    Ff[i]=mean(Vfluxafter[1].^2)\n",
    "    Ff2[i]=mean(Vfluxafter[2].^2)\n",
    "end\n"
   ]
  },
  {
   "cell_type": "code",
   "execution_count": 14,
   "metadata": {
    "collapsed": false
   },
   "outputs": [
    {
     "data": {
      "image/png": "[encoded data removed]",
      "text/plain": [
       "PyPlot.Figure(PyObject <matplotlib.figure.Figure object at 0x00000000372E6FD0>)"
      ]
     },
     "metadata": {},
     "output_type": "display_data"
    },
    {
     "data": {
      "text/plain": [
       "PyObject Text(0.5,1,u'Fluxes as a function of amplitude of correction factor')"
      ]
     },
     "execution_count": 14,
     "metadata": {},
     "output_type": "execute_result"
    }
   ],
   "source": [
    "plot(sf,Ff)\n",
    "title(\"Fluxes as a function of amplitude of correction factor\")"
   ]
  },
  {
   "cell_type": "code",
   "execution_count": 15,
   "metadata": {
    "collapsed": false
   },
   "outputs": [
    {
     "data": {
      "text/plain": [
       "2.8453192327328553e18"
      ]
     },
     "execution_count": 15,
     "metadata": {},
     "output_type": "execute_result"
    }
   ],
   "source": [
    "mean(Vflux[1].^2)"
   ]
  },
  {
   "cell_type": "markdown",
   "metadata": {},
   "source": [
    "So we can indeed use"
   ]
  },
  {
   "cell_type": "code",
   "execution_count": 16,
   "metadata": {
    "collapsed": false
   },
   "outputs": [],
   "source": [
    "velafter,etaafter,Vfluxafter=geostrophy(mask,dens,(pm,pn,po),(xi,yi,zi);ssh=eta+fi);"
   ]
  },
  {
   "cell_type": "code",
   "execution_count": 17,
   "metadata": {
    "collapsed": false
   },
   "outputs": [
    {
     "data": {
      "text/plain": [
       "3.106394389325e15"
      ]
     },
     "execution_count": 17,
     "metadata": {},
     "output_type": "execute_result"
    }
   ],
   "source": [
    "mean(Vfluxafter[1].^2)"
   ]
  },
  {
   "cell_type": "markdown",
   "metadata": {},
   "source": [
    "Verification: if we use zero density anomamy and barotropic correction term we get right flux correction"
   ]
  },
  {
   "cell_type": "code",
   "execution_count": 18,
   "metadata": {
    "collapsed": false
   },
   "outputs": [],
   "source": [
    "velafterb,etaafterb,Vfluxafterb=geostrophy(mask,0.0*dens,(pm,pn,po),(xi,yi,zi);ssh=fi);"
   ]
  },
  {
   "cell_type": "code",
   "execution_count": 19,
   "metadata": {
    "collapsed": false
   },
   "outputs": [
    {
     "data": {
      "text/plain": [
       "36-element Array{Float64,1}:\n",
       " -0.069815  \n",
       " -0.0512629 \n",
       " -0.0358562 \n",
       " -0.0229536 \n",
       " -0.0120678 \n",
       " -0.0037101 \n",
       "  0.00428344\n",
       "  0.0125088 \n",
       "  0.0212974 \n",
       "  0.030542  \n",
       "  0.0397581 \n",
       "  0.0469838 \n",
       "  0.0509279 \n",
       "  ⋮         \n",
       " -0.0334491 \n",
       " -0.0367445 \n",
       " -0.0379523 \n",
       " -0.037884  \n",
       " -0.0339022 \n",
       " -0.0282187 \n",
       " -0.0201909 \n",
       " -0.0103217 \n",
       "  0.00127552\n",
       "  0.0141662 \n",
       "  0.0289351 \n",
       "  0.0461003 "
      ]
     },
     "execution_count": 19,
     "metadata": {},
     "output_type": "execute_result"
    }
   ],
   "source": [
    "(Vfluxafterb[1]+Vflux[1])./Vflux[1]"
   ]
  },
  {
   "cell_type": "code",
   "execution_count": 20,
   "metadata": {
    "collapsed": false
   },
   "outputs": [
    {
     "name": "stdout",
     "output_type": "stream",
     "text": [
      "size(Volumeflux) = (36, 26)\n",
      "size(Volumeflux) = (76, 26)\n"
     ]
    },
    {
     "data": {
      "text/plain": [
       "([-0.596061 -11.8717 … -358.903 -125.714; -0.585289 -11.6565 … -328.314 -91.9276; … ; -0.486698 -9.69031 … -179.389 45.9718; -0.478324 -9.52297 … -155.022 73.006], [NaN NaN … NaN NaN; NaN NaN … NaN NaN; … ; NaN NaN … NaN NaN; NaN NaN … NaN NaN])"
      ]
     },
     "execution_count": 20,
     "metadata": {},
     "output_type": "execute_result"
    }
   ],
   "source": [
    "psi=streamfunctionvolumeflux(mask,velafter,(pm,pn,po),(xi,yi,zi))"
   ]
  },
  {
   "cell_type": "code",
   "execution_count": null,
   "metadata": {
    "collapsed": false
   },
   "outputs": [],
   "source": []
  },
  {
   "cell_type": "code",
   "execution_count": 21,
   "metadata": {
    "collapsed": false
   },
   "outputs": [
    {
     "data": {
      "image/png": "[encoded data removed]",
      "text/plain": [
       "PyPlot.Figure(PyObject <matplotlib.figure.Figure object at 0x000000003747B080>)"
      ]
     },
     "metadata": {},
     "output_type": "display_data"
    },
    {
     "data": {
      "text/plain": [
       "(PyObject <matplotlib.collections.PolyCollection object at 0x00000000376B9A58>, PyObject <matplotlib.colorbar.Colorbar object at 0x000000003790C160>)"
      ]
     },
     "execution_count": 21,
     "metadata": {},
     "output_type": "execute_result"
    }
   ],
   "source": [
    "pcolor(yi[1,:,:],-zi[1,:,:],psi[1]),colorbar()"
   ]
  },
  {
   "cell_type": "code",
   "execution_count": 22,
   "metadata": {
    "collapsed": false
   },
   "outputs": [
    {
     "data": {
      "image/png": "[encoded data removed]",
      "text/plain": [
       "PyPlot.Figure(PyObject <matplotlib.figure.Figure object at 0x00000000378EF940>)"
      ]
     },
     "metadata": {},
     "output_type": "display_data"
    },
    {
     "data": {
      "text/plain": [
       "(PyObject <matplotlib.collections.PolyCollection object at 0x0000000037B5EA90>, PyObject <matplotlib.colorbar.Colorbar object at 0x0000000037EFCB00>)"
      ]
     },
     "execution_count": 22,
     "metadata": {},
     "output_type": "execute_result"
    }
   ],
   "source": [
    "pcolor(xi[:,1,:],-zi[:,1,:],psi[2]),colorbar()"
   ]
  },
  {
   "cell_type": "code",
   "execution_count": 23,
   "metadata": {
    "collapsed": false
   },
   "outputs": [
    {
     "data": {
      "text/plain": [
       "36×26 Array{Float64,2}:\n",
       " -0.596061  -11.8717   -23.6315  -35.2763  …  -519.691  -358.903  -125.714  \n",
       " -0.585289  -11.6565   -23.2014  -34.6319     -492.599  -328.314   -91.9276 \n",
       " -0.576017  -11.4713   -22.8314  -34.0776     -469.948  -302.896   -64.0365 \n",
       " -0.56794   -11.3099   -22.5092  -33.595      -450.827  -281.585   -40.8269 \n",
       " -0.560829  -11.1679   -22.2256  -33.1702     -434.546  -263.576   -21.3781 \n",
       " -0.554898  -11.0495   -21.9892  -32.8163  …  -421.747  -249.618    -6.54614\n",
       " -0.54918   -10.9353   -21.7613  -32.4751     -409.535  -236.334     7.52771\n",
       " -0.543413  -10.8202   -21.5314  -32.1309     -397.119  -222.802    21.8962 \n",
       " -0.537452  -10.7011   -21.2938  -31.7751     -384.07   -208.521    37.1341 \n",
       " -0.531346  -10.5792   -21.0503  -31.4106     -370.533  -193.66     53.0458 \n",
       " -0.525306  -10.4586   -20.8095  -31.0501  …  -357.143  -178.96     68.7855 \n",
       " -0.520177  -10.3562   -20.6051  -30.7441     -346.432  -167.377    80.9748 \n",
       " -0.516502  -10.2829   -20.4589  -30.5254     -340.033  -160.814    87.4378 \n",
       "  ⋮                                        ⋱                         ⋮      \n",
       " -0.529043  -10.5357   -20.9692  -31.2978     -429.464  -275.254   -54.9686 \n",
       " -0.528552  -10.526    -20.9502  -31.2698  …  -432.018  -279.019   -60.1741 \n",
       " -0.527219  -10.4995   -20.8976  -31.1914     -432.004  -279.78    -61.9373 \n",
       " -0.525383  -10.463    -20.8248  -31.0828     -430.439  -278.723   -61.6138 \n",
       " -0.52198   -10.3951   -20.6893  -30.8801     -424.132  -272.126   -54.9502 \n",
       " -0.51792   -10.314    -20.5275  -30.6379     -415.812  -263.173   -45.5834 \n",
       " -0.512949  -10.2147   -20.3293  -30.3412  …  -404.722  -250.98    -32.506  \n",
       " -0.50728   -10.1015   -20.1032  -30.0024     -391.496  -236.287   -16.5619 \n",
       " -0.500963   -9.97531  -19.8511  -29.6249     -376.289  -219.276     2.03988\n",
       " -0.494178   -9.83977  -19.5804  -29.2192     -359.641  -200.575    22.5809 \n",
       " -0.486698   -9.69031  -19.2818  -28.7718     -340.868  -179.389    45.9718 \n",
       " -0.478324   -9.52297  -18.9474  -28.2708  …  -319.375  -155.022    73.006  "
      ]
     },
     "execution_count": 23,
     "metadata": {},
     "output_type": "execute_result"
    }
   ],
   "source": [
    "psi[1]"
   ]
  },
  {
   "cell_type": "code",
   "execution_count": 24,
   "metadata": {
    "collapsed": false
   },
   "outputs": [
    {
     "data": {
      "text/plain": [
       "76×26 Array{Float64,2}:\n",
       " NaN           NaN          NaN         …  NaN       NaN       NaN     \n",
       " NaN           NaN          NaN            NaN       NaN       NaN     \n",
       "   0.00367202    0.0734405    0.146881      11.0161   12.8521   14.6881\n",
       "   0.00388608    0.0777216    0.155443      11.6582   13.6013   15.5443\n",
       "   0.00408061    0.0816123    0.163225      12.2418   14.2821   16.3225\n",
       "   0.00421582    0.0843165    0.168633  …   12.6475   14.7554   16.8633\n",
       "   0.00428842    0.0857684    0.171537      12.8653   15.0095   17.1537\n",
       "   0.00430263    0.0860526    0.172105      12.9079   15.0592   17.2105\n",
       "   0.00426495    0.0852991    0.170598      12.7949   14.9273   17.0598\n",
       "   0.00418279    0.0836558    0.167312      12.5484   14.6398   16.7312\n",
       "   0.00406382    0.0812765    0.162553  …   12.1915   14.2234   16.2553\n",
       "   0.00391555    0.078311     0.156622      11.7467   13.7044   15.6622\n",
       "   0.00374499    0.0748998    0.1498        11.235    13.1075   14.98  \n",
       "   ⋮                                    ⋱                        ⋮     \n",
       "   0.00433332    0.0866664    0.173333      13.0      15.1666   17.3333\n",
       "   0.00446809    0.0893617    0.178723  …   13.4043   15.6383   17.8723\n",
       "   0.0045683     0.091366     0.182732      13.7049   15.989    18.2732\n",
       "   0.00462563    0.0925126    0.185025      13.8769   16.1897   18.5025\n",
       "   0.0046313     0.0926261    0.185252      13.8939   16.2096   18.5252\n",
       "   0.00457637    0.0915274    0.183055      13.7291   16.0173   18.3055\n",
       "   0.00445207    0.0890415    0.178083  …   13.3562   15.5823   17.8083\n",
       "   0.00425102    0.0850203    0.170041      12.753    14.8786   17.0041\n",
       "   0.00397405    0.0794811    0.158962      11.9222   13.9092   15.8962\n",
       "   0.00367202    0.0734405    0.146881      11.0161   12.8521   14.6881\n",
       " NaN           NaN          NaN            NaN       NaN       NaN     \n",
       " NaN           NaN          NaN         …  NaN       NaN       NaN     "
      ]
     },
     "execution_count": 24,
     "metadata": {},
     "output_type": "execute_result"
    }
   ],
   "source": [
    "psi[2]"
   ]
  },
  {
   "cell_type": "code",
   "execution_count": 25,
   "metadata": {
    "collapsed": false
   },
   "outputs": [
    {
     "data": {
      "text/plain": [
       "36-element Array{Float64,1}:\n",
       " -0.596061\n",
       " -0.585289\n",
       " -0.576017\n",
       " -0.56794 \n",
       " -0.560829\n",
       " -0.554898\n",
       " -0.54918 \n",
       " -0.543413\n",
       " -0.537452\n",
       " -0.531346\n",
       " -0.525306\n",
       " -0.520177\n",
       " -0.516502\n",
       "  ⋮       \n",
       " -0.529043\n",
       " -0.528552\n",
       " -0.527219\n",
       " -0.525383\n",
       " -0.52198 \n",
       " -0.51792 \n",
       " -0.512949\n",
       " -0.50728 \n",
       " -0.500963\n",
       " -0.494178\n",
       " -0.486698\n",
       " -0.478324"
      ]
     },
     "execution_count": 25,
     "metadata": {},
     "output_type": "execute_result"
    }
   ],
   "source": [
    "psi[1][:,1]"
   ]
  },
  {
   "cell_type": "code",
   "execution_count": null,
   "metadata": {
    "collapsed": true
   },
   "outputs": [],
   "source": []
  }
 ],
 "metadata": {
  "anaconda-cloud": {},
  "kernelspec": {
   "display_name": "Julia 1.11.1",
   "language": "julia",
   "name": "julia-1.11"
  },
  "language_info": {
   "file_extension": ".jl",
   "mimetype": "application/julia",
   "name": "julia",
   "version": "1.11.1"
  }
 },
 "nbformat": 4,
 "nbformat_minor": 1
}
