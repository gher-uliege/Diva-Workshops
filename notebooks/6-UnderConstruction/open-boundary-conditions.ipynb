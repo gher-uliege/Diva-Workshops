{
 "cells": [
  {
   "cell_type": "markdown",
   "metadata": {},
   "source": [
    "# Open boundary conditions which mimic an infinite domain in $\\mathtt{DIVAnd}$"
   ]
  },
  {
   "cell_type": "markdown",
   "metadata": {},
   "source": [
    "## General idea"
   ]
  },
  {
   "cell_type": "markdown",
   "metadata": {},
   "source": [
    "Manipulate the metrics of the boxes surrounding an open sea such that the applied boundary condition is artifically pushed further away, similar to the idea of absorbing boundary conditions. Criteria for success: The analysis with data points in the center should not be different if the open boundary is 1 or 20 length scales away. \n",
    "\n",
    "Mathematical criteria (need to show it is close to the desired property from above): The background variance field should be as uniform as possible and not increase near the open boundary (as it currently does with the zero normal gradient condition)."
   ]
  },
  {
   "cell_type": "markdown",
   "metadata": {},
   "source": [
    "### 1D testing"
   ]
  },
  {
   "cell_type": "markdown",
   "metadata": {},
   "source": [
    "First tests reveal that a good way to adapt the metrics $p_m$ near the boundaries is to fix values such that $l p_m \\sim 1$ where $l$ is the local length scale. This amount to move the last grid point two length scales away in terms of metrics used in the numerical finite differences. (Note that the value of $p_m$ mentionned is the metric assiciated with the distance between the last two grid points, not the metric associated with the last grid point; this is useful to control also the position of the coordinates for data locations)."
   ]
  },
  {
   "cell_type": "markdown",
   "metadata": {},
   "source": [
    "For example, testing for different values of $\\alpha$ to calculate $p_m$=  $1 \\over \\alpha  l $ we observe a clear minimum in the variance of $\\mathrm{diag} (\\mathbf{B})$. If we use this value and look at the analysis with the adapted boundary condition and the analysis in a much larger domain, the differences are indeed very small.\n",
    "\n",
    "\n",
    "\n"
   ]
  },
  {
   "cell_type": "code",
   "execution_count": null,
   "metadata": {
    "jupyter": {
     "outputs_hidden": false
    }
   },
   "outputs": [],
   "source": [
    "using DIVAnd\n",
    "DIVAnddir = pathof(DIVAnd);\n",
    "exampledir = joinpath(dirname(DIVAnddir), \"../examples/\")\n",
    "isdir(exampledir)"
   ]
  },
  {
   "cell_type": "code",
   "execution_count": null,
   "metadata": {
    "jupyter": {
     "outputs_hidden": false
    }
   },
   "outputs": [],
   "source": [
    "include(joinpath(exampledir, \"DIVAnd_optimizepmn1Db.jl\"))"
   ]
  },
  {
   "cell_type": "markdown",
   "metadata": {},
   "source": [
    "In practise the exact value for $\\alpha$ is depending on the domain size $L$ and grid resolution compared to the length scales $l$."
   ]
  },
  {
   "cell_type": "markdown",
   "metadata": {},
   "source": [
    "Optimal $ \\alpha $ as  a function of $L \\over l$ (domain size $L$ over length scale $l$)  and resolution $ l p_m$ (length scale $l$ over grid spacing $1/p_m$). The optimal valueof  $\\alpha$ is used to force the last and first metric to be $p_m$=  $1 \\over \\alpha  l $  "
   ]
  },
  {
   "cell_type": "code",
   "execution_count": null,
   "metadata": {
    "jupyter": {
     "outputs_hidden": false
    }
   },
   "outputs": [],
   "source": [
    "include(joinpath(exampledir, \"DIVAnd_simple_example1poptimizepmn1D.jl\"))"
   ]
  },
  {
   "cell_type": "markdown",
   "metadata": {},
   "source": [
    "### 2D verification"
   ]
  },
  {
   "cell_type": "markdown",
   "metadata": {},
   "source": [
    "Here we take values of $L \\over l$ and $l p_m$ likely to arise in the windowing approach so as to minimize boundary effects during the windowing. Then we verify that the value of $\\alpha$ from the 1D case is also adapted for the 2D case. For ${L \\over l}\\sim 10$ and $lp_m \\sim 8$, the optimal value of $\\alpha$ from the 1D case is $\\alpha=1.09$"
   ]
  },
  {
   "cell_type": "code",
   "execution_count": null,
   "metadata": {
    "jupyter": {
     "outputs_hidden": false
    }
   },
   "outputs": [],
   "source": [
    "include(joinpath(exampledir, \"DIVAnd_simple_example_bc2D.jl\"))"
   ]
  },
  {
   "cell_type": "markdown",
   "metadata": {},
   "source": [
    "### Check effect on $\\mathtt{DIVAndgo}$"
   ]
  },
  {
   "cell_type": "code",
   "execution_count": null,
   "metadata": {
    "jupyter": {
     "outputs_hidden": false
    }
   },
   "outputs": [],
   "source": [
    "include(joinpath(exampledir, \"DIVAnd_simple_example_go.jl\"))"
   ]
  },
  {
   "cell_type": "markdown",
   "metadata": {},
   "source": [
    "## Implementation"
   ]
  },
  {
   "cell_type": "markdown",
   "metadata": {},
   "source": [
    "Implemented within $\\mathtt{DIVAndrun}$ so that windowing can be done efficiently. In order to avoid copying a tuple, work at the level where the pmn's are actually used was preferred whenever possble? No, seems to be complicated ? The default value is $\\alpha=1$. It always allows one to force use of unmodified metrics by using $\\mathtt{alphabc=0}$ in the argument list or any other value for different choices of $\\alpha$. Now implemented in $\\mathtt{DIVAnd\\_bc\\_stretch}$ in which not only the metrics are stretched but also the grid coordinates, assuming locally proportionallity between $\\delta x$ and $1/p_m$."
   ]
  },
  {
   "cell_type": "code",
   "execution_count": null,
   "metadata": {
    "jupyter": {
     "outputs_hidden": true
    }
   },
   "outputs": [],
   "source": []
  }
 ],
 "metadata": {
  "anaconda-cloud": {},
  "kernelspec": {
   "display_name": "Julia 1.11.2",
   "language": "julia",
   "name": "julia-1.11"
  },
  "language_info": {
   "file_extension": ".jl",
   "mimetype": "application/julia",
   "name": "julia",
   "version": "1.11.2"
  },
  "toc": {
   "base_numbering": 1,
   "nav_menu": {},
   "number_sections": true,
   "sideBar": true,
   "skip_h1_title": false,
   "title_cell": "Table of Contents",
   "title_sidebar": "Contents",
   "toc_cell": false,
   "toc_position": {},
   "toc_section_display": true,
   "toc_window_display": false
  }
 },
 "nbformat": 4,
 "nbformat_minor": 4
}
