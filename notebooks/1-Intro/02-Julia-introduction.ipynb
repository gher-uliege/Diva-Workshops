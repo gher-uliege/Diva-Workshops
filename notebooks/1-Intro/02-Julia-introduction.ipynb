{
 "cells": [
  {
   "cell_type": "markdown",
   "metadata": {},
   "source": [
    "# Introduction to Julia\n",
    "\n",
    "[`Julia`](https://julialang.org/) is a high-level programming language for technical computing which allows you to manipulate and analyse large data sets.\n",
    "* The manual: https://docs.julialang.org\n",
    "* Tutorials and books: https://julialang.org/learning/\n",
    "\n",
    "\n",
    "## Why Julia?\n",
    " * Julia is build from the ground for technical computing. \n",
    " * The language is close to the mathematical notation, for example to define a function $f(x) = 2x + 3$ in Julia is (among other possibilities):\n",
    "\n",
    "```julia\n",
    "f(x) = 2x + 3\n",
    "```\n",
    "  \n",
    " * It is free and open-source software.\n",
    " * The code is compiled to machine code and loops can be as fast as in other compiled languages (like Fortran or C).\n",
    "\n",
    "\n",
    "## Instructions for installing Julia\n",
    "\n",
    "1. Go to http://julialang.org/downloads/ and follow the instructions.\n",
    "2. Install one editor with support for Julia, such as \n",
    "- [Visual Studio Code](https://code.visualstudio.com/),  \n",
    "- notepad++, \n",
    "- emacs... \n",
    "- or even vim.\n",
    "\n",
    "### Notes\n",
    "- The `Juno` editor, previously suggested in this notebook, will not be updated anymore, since development focus has shifted to the Julia extension for `VSCode`.\n",
    "- Recent versions of the installation procudure recommend to use [`Juliaup`](https://github.com/JuliaLang/juliaup), which is a Rust-based Julia version manager."
   ]
  },
  {
   "cell_type": "markdown",
   "metadata": {},
   "source": [
    "## Ways to run Julia\n",
    "\n",
    "### Command line\n",
    "\n",
    "Start a Julia session by typing `Julia` in a terminal. You will get the following screen (with another Julia version):\n",
    "![cmd](Images/julia-commandline.png)\n",
    "\n",
    "Tips:\n",
    "* Use the `Tab` key to complete file, variable and function names\n",
    "* `Up` and `down arrows` key to repeat a previously entered command\n",
    "* `Control-R` to search a command\n",
    "* On Windows enable \"[quick edit](https://www.tekrevue.com/tip/boost-productivity-quickedit-mode-windows-command-prompt/)\" for easier copy and pasting"
   ]
  },
  {
   "cell_type": "markdown",
   "metadata": {},
   "source": [
    "### Jupyter notebook (web-browser)\n",
    "\n",
    "* Web-interface for Julia (among others)\n",
    "* The Julia package `IJulia` which also installs [Jupyter](http://jupyter.org/)\n",
    "* Various [keyboard shortcuts](https://www.cheatography.com/weidadeyue/cheat-sheets/jupyter-notebook/) are defined to be productive with jupyter notebooks\n",
    "* General documentation of [Jupyter Notebooks](http://jupyter-notebook.readthedocs.io)\n",
    "\n",
    "![cmd](Images/julia-jupyter.png)"
   ]
  },
  {
   "cell_type": "markdown",
   "metadata": {},
   "source": [
    "### VSCode\n",
    "\n",
    "* Integrates an editor, command line and documentation browser\n",
    "* The VSCode extension for Julia is available from https://www.julia-vscode.org/, and can also be installed directly using the \"Extensions\" menu.\n",
    "* VSCode also allows users to visualise [Jupyter notebooks](https://code.visualstudio.com/docs/datascience/jupyter-notebooks) directly."
   ]
  },
  {
   "cell_type": "markdown",
   "metadata": {},
   "source": [
    "## Comparison with other languages\n",
    "\n",
    "* [Julia compared to other languages](https://docs.julialang.org/en/v1/#man-julia-compared-other-languages)\n",
    "* [Noteworthy Differences from other Languages](https://docs.julialang.org/en/v1/manual/noteworthy-differences/).\n",
    "\n",
    "Julia is mostly influenced by MATLAB, but there are some significant differences.\n",
    "\n",
    "### Differences from MATLAB\n",
    "\n",
    "* Julia arrays are indexed with square brackets: `A[i,j]`.\n",
    "* Julia arrays are assigned by reference. After `A=B`, changing elements of `B` will modify `A` as well. If you need to copy an array, use `b = copy(a)`.\n",
    "* Julia function parameters are passed and assigned by reference. If a function modifies an array, the changes will be visible in the caller.\n",
    "* A bang (!) indicates if a function that changes one of its argument\n",
    "* In Julia, parentheses must be used to call a function with zero arguments, like in `tic()` and `toc()`.\n",
    "* Julia's single quotes enclose characters, not strings.\n",
    "* Julia does not automatically grow arrays in an assignment statement. \n",
    "* Scope of variables in a loop is local: \n",
    "\n",
    "```julia\n",
    "   for i = 1:10\n",
    "        z = i\n",
    "   end\n",
    "```\n",
    "\n",
    "  will result in undefined z after the loop unless defined before the loop \n",
    "* In MATLAB, ranges are sometimes enclosed with brackets, e.g. `[1:10]`. This is also valid Julia code, but it generates a vector whose single element is a range from 1 to 10. To declare a range in Julia, simply use `1:10` without the brackets.\n",
    "\n",
    "### Differences from Python\n",
    "* Julia requires `end` keyword to end a block (loop, condition, ...).\n",
    "* In Julia, indexing of arrays, strings, etc. is 1-based, not 0-based.\n",
    "* Julia's slice indexing includes the last element, unlike in Python. `a[2:3]` in Julia is `a[1:3]` in Python.\n",
    "* Julia does not support negative indexes. In particular, the last element of a list or array is indexed with `end` in Julia, not `-1` as in Python.\n",
    "\n",
    "[MATLAB–Python–Julia cheatsheet](https://cheatsheets.quantecon.org/)\n",
    "\n",
    "* Julia is compiled\n",
    "   * For loop are fast, but\n",
    "   * Loading modules is slower than in other languages\n",
    "   * Sometimes Julia needs to be restarted (in IJulia the kernel needs to be restarted) when e.g. a module is changed."
   ]
  },
  {
   "cell_type": "markdown",
   "metadata": {},
   "source": [
    "# First steps in Julia\n",
    "## Displaying on screen\n",
    "There are many ways to display the content of a variable on the screen. \n",
    "The main difference between `print` and `println` is that the latter add a newline after the text."
   ]
  },
  {
   "cell_type": "code",
   "execution_count": 1,
   "metadata": {},
   "outputs": [
    {
     "name": "stdout",
     "output_type": "stream",
     "text": [
      "Hello!2256Hello!\n",
      "2256\n"
     ]
    }
   ],
   "source": [
    "mytext = \"Hello!\"\n",
    "mynum = 2256\n",
    "print(mytext)\n",
    "print(mynum)\n",
    "println(mytext)\n",
    "println(mynum)"
   ]
  },
  {
   "cell_type": "markdown",
   "metadata": {},
   "source": [
    "The macro `@show` prints one or more expressions as well as their results:"
   ]
  },
  {
   "cell_type": "code",
   "execution_count": 2,
   "metadata": {},
   "outputs": [
    {
     "name": "stdout",
     "output_type": "stream",
     "text": [
      "mytext = \"Hello!\"\n"
     ]
    }
   ],
   "source": [
    "@show(mytext);"
   ]
  },
  {
   "cell_type": "markdown",
   "metadata": {},
   "source": [
    "In a code it is good practice to use log messages (instead of simple `print`). Julia defines different levels of message (you will see that the last message doesn't produce any output):"
   ]
  },
  {
   "cell_type": "code",
   "execution_count": 3,
   "metadata": {},
   "outputs": [
    {
     "name": "stderr",
     "output_type": "stream",
     "text": [
      "\u001b[36m\u001b[1m[ \u001b[22m\u001b[39m\u001b[36m\u001b[1mInfo: \u001b[22m\u001b[39mLet's learn Julia\n",
      "\u001b[33m\u001b[1m┌ \u001b[22m\u001b[39m\u001b[33m\u001b[1mWarning: \u001b[22m\u001b[39mThis variable has not been defined\n",
      "\u001b[33m\u001b[1m└ \u001b[22m\u001b[39m\u001b[90m@ Main In[3]:2\u001b[39m\n",
      "\u001b[91m\u001b[1m┌ \u001b[22m\u001b[39m\u001b[91m\u001b[1mError: \u001b[22m\u001b[39mThis is an error\n",
      "\u001b[91m\u001b[1m└ \u001b[22m\u001b[39m\u001b[90m@ Main In[3]:3\u001b[39m\n"
     ]
    }
   ],
   "source": [
    "@info(\"Let's learn Julia\")\n",
    "@warn(\"This variable has not been defined\")\n",
    "@error(\"This is an error\")\n",
    "@debug(\"Only visible for debugging\")"
   ]
  },
  {
   "cell_type": "markdown",
   "metadata": {},
   "source": [
    "## Numbers\n",
    "\n",
    "* Use a dot (.) as decimal separator (e.g. 3.14 and not 3,14)\n",
    "* You can use the scientific notation $a \\times 10^{-b}$ using the e-notation. (e.g. $3 \\times10^{-7}$ becomes 3e-7) \n",
    "* Underscores can be used to improve readability of large numbers\n",
    "* Use Julia as a calculator:"
   ]
  },
  {
   "cell_type": "code",
   "execution_count": 4,
   "metadata": {},
   "outputs": [
    {
     "data": {
      "text/plain": [
       "3.0e-7"
      ]
     },
     "execution_count": 4,
     "metadata": {},
     "output_type": "execute_result"
    }
   ],
   "source": [
    "3e-7"
   ]
  },
  {
   "cell_type": "code",
   "execution_count": 5,
   "metadata": {},
   "outputs": [
    {
     "data": {
      "text/plain": [
       "2.0"
      ]
     },
     "execution_count": 5,
     "metadata": {},
     "output_type": "execute_result"
    }
   ],
   "source": [
    "4/2"
   ]
  },
  {
   "cell_type": "code",
   "execution_count": 6,
   "metadata": {},
   "outputs": [
    {
     "data": {
      "text/plain": [
       "true"
      ]
     },
     "execution_count": 6,
     "metadata": {},
     "output_type": "execute_result"
    }
   ],
   "source": [
    "2_000_000 == 2000000"
   ]
  },
  {
   "cell_type": "code",
   "execution_count": 7,
   "metadata": {},
   "outputs": [
    {
     "data": {
      "text/plain": [
       "7.0"
      ]
     },
     "execution_count": 7,
     "metadata": {},
     "output_type": "execute_result"
    }
   ],
   "source": [
    "1 + 3 * 4/2 "
   ]
  },
  {
   "cell_type": "markdown",
   "metadata": {},
   "source": [
    "The usual operator precedence applies."
   ]
  },
  {
   "cell_type": "markdown",
   "metadata": {},
   "source": [
    "## Useful constants\n",
    "\n",
    "Various constants are also pre-defined:     \n",
    "π: pi (3.141592...)     \n",
    "e: Euler's number (2.7182818...)     \n",
    "im: the imaginary number (im² = -1)     \n",
    "Inf (Infinity, result from e.g. 1/0) and     \n",
    "NaN (Not a Number - result from e.g. 0/0).\n",
    "\n",
    "**Examples:**"
   ]
  },
  {
   "cell_type": "code",
   "execution_count": 8,
   "metadata": {},
   "outputs": [
    {
     "data": {
      "text/plain": [
       "π = 3.1415926535897..."
      ]
     },
     "execution_count": 8,
     "metadata": {},
     "output_type": "execute_result"
    }
   ],
   "source": [
    "π "
   ]
  },
  {
   "cell_type": "markdown",
   "metadata": {},
   "source": [
    "[*Euler's identity*](https://en.wikipedia.org/wiki/Euler%27s_identity) (should be -1):"
   ]
  },
  {
   "cell_type": "code",
   "execution_count": 9,
   "metadata": {},
   "outputs": [
    {
     "data": {
      "text/plain": [
       "-1.0 - 1.2246467991473532e-16im"
      ]
     },
     "execution_count": 9,
     "metadata": {},
     "output_type": "execute_result"
    }
   ],
   "source": [
    "exp(-im * π)"
   ]
  },
  {
   "cell_type": "markdown",
   "metadata": {},
   "source": [
    "## Variables\n",
    "\n",
    "* Numbers (and any other data type) can be put into variables\n",
    "* The value of a variable is referenced by its name\n",
    "* A variable name can be composed by letters (a-z and A-Z, including greek letters, accents,...), numbers (0-9), underscore (_) and some unicode symbols (like greek letters). The first character cannot be a number.\n",
    "\n",
    "**Example:**"
   ]
  },
  {
   "cell_type": "code",
   "execution_count": 10,
   "metadata": {},
   "outputs": [
    {
     "data": {
      "text/plain": [
       "21"
      ]
     },
     "execution_count": 10,
     "metadata": {},
     "output_type": "execute_result"
    }
   ],
   "source": [
    "temp = 21"
   ]
  },
  {
   "cell_type": "markdown",
   "metadata": {},
   "source": [
    "This one is not valid (starts with a digits):\n",
    "```julia\n",
    "2temp = 1.\n",
    "```\n",
    "\n",
    "Produces the error:\n",
    "```\n",
    "syntax: \"2\" is not a valid function argument name\n",
    "```\n",
    "\n"
   ]
  },
  {
   "cell_type": "markdown",
   "metadata": {},
   "source": [
    "To see the content of the variable `temp`, use the [`@show`](https://docs.julialang.org/en/latest/base/base/#Base.@show) macro:"
   ]
  },
  {
   "cell_type": "code",
   "execution_count": 11,
   "metadata": {},
   "outputs": [
    {
     "name": "stdout",
     "output_type": "stream",
     "text": [
      "temp = 21\n"
     ]
    }
   ],
   "source": [
    "@show temp;"
   ]
  },
  {
   "cell_type": "markdown",
   "metadata": {},
   "source": [
    "Any expression can now include the variable `temp`:"
   ]
  },
  {
   "cell_type": "code",
   "execution_count": 12,
   "metadata": {},
   "outputs": [
    {
     "data": {
      "text/plain": [
       "42"
      ]
     },
     "execution_count": 12,
     "metadata": {},
     "output_type": "execute_result"
    }
   ],
   "source": [
    "2 * temp"
   ]
  },
  {
   "cell_type": "markdown",
   "metadata": {},
   "source": [
    "The value can be used in a string using `$( )`:"
   ]
  },
  {
   "cell_type": "code",
   "execution_count": 13,
   "metadata": {},
   "outputs": [
    {
     "data": {
      "text/plain": [
       "\"The temperature is 21°C\""
      ]
     },
     "execution_count": 13,
     "metadata": {},
     "output_type": "execute_result"
    }
   ],
   "source": [
    "\"The temperature is $(temp)°C\""
   ]
  },
  {
   "cell_type": "markdown",
   "metadata": {},
   "source": [
    "* The variable `temp` has now the value 21. The value of the variable can be changed later on.\n",
    "* An assignment without a final semicolon echoes its value to the screen\n",
    "* Careful: the value of constants can be overwritten. The following is allowed but not encouraged:\n",
    "    \t\n",
    "```julia        \n",
    "    pi = 3; # do not do this\n",
    "```\n",
    "* However, if you explicitely define a variable as a constant, trying to modify it will result in a warning."
   ]
  },
  {
   "cell_type": "code",
   "execution_count": 14,
   "metadata": {},
   "outputs": [
    {
     "name": "stderr",
     "output_type": "stream",
     "text": [
      "WARNING: redefinition of constant Main.kb. This may fail, cause incorrect answers, or produce other errors.\n"
     ]
    },
    {
     "data": {
      "text/plain": [
       "1.38e-23"
      ]
     },
     "execution_count": 14,
     "metadata": {},
     "output_type": "execute_result"
    }
   ],
   "source": [
    "const kb = 1.38064852e-23\n",
    "kb = 1.38e-23"
   ]
  },
  {
   "cell_type": "markdown",
   "metadata": {},
   "source": [
    "The command [`varinfo()`](https://docs.julialang.org/en/stable/stdlib/InteractiveUtils/#InteractiveUtils.varinfo) lists the currently defined variables and the loaded modules, as well as their size in a markdown table."
   ]
  },
  {
   "cell_type": "code",
   "execution_count": 15,
   "metadata": {},
   "outputs": [
    {
     "data": {
      "text/latex": [
       "\\begin{tabular}\n",
       "{l | r | l}\n",
       "name & size & summary \\\\\n",
       "\\hline\n",
       "Base &  & Module \\\\\n",
       "Core &  & Module \\\\\n",
       "Main &  & Module \\\\\n",
       "kb & 8 bytes & Float64 \\\\\n",
       "mynum & 8 bytes & Int64 \\\\\n",
       "mytext & 14 bytes & 6-codeunit String \\\\\n",
       "temp & 8 bytes & Int64 \\\\\n",
       "\\end{tabular}\n"
      ],
      "text/markdown": [
       "| name   |     size | summary           |\n",
       "|:------ | --------:|:----------------- |\n",
       "| Base   |          | Module            |\n",
       "| Core   |          | Module            |\n",
       "| Main   |          | Module            |\n",
       "| kb     |  8 bytes | Float64           |\n",
       "| mynum  |  8 bytes | Int64             |\n",
       "| mytext | 14 bytes | 6-codeunit String |\n",
       "| temp   |  8 bytes | Int64             |\n"
      ],
      "text/plain": [
       "  name       size summary          \n",
       "  –––––– –––––––– –––––––––––––––––\n",
       "  Base            Module           \n",
       "  Core            Module           \n",
       "  Main            Module           \n",
       "  kb      8 bytes Float64          \n",
       "  mynum   8 bytes Int64            \n",
       "  mytext 14 bytes 6-codeunit String\n",
       "  temp    8 bytes Int64            "
      ]
     },
     "execution_count": 15,
     "metadata": {},
     "output_type": "execute_result"
    }
   ],
   "source": [
    "varinfo()"
   ]
  },
  {
   "cell_type": "markdown",
   "metadata": {},
   "source": [
    "The command [`typeof()`](https://docs.julialang.org/en/stable/base/base/#Core.typeof) returns the type of a variable:"
   ]
  },
  {
   "cell_type": "code",
   "execution_count": 16,
   "metadata": {},
   "outputs": [
    {
     "data": {
      "text/plain": [
       "Int64"
      ]
     },
     "execution_count": 16,
     "metadata": {},
     "output_type": "execute_result"
    }
   ],
   "source": [
    "typeof(temp)"
   ]
  },
  {
   "cell_type": "markdown",
   "metadata": {},
   "source": [
    "## Strings\n",
    "They are delimited by double quotes (while characters are delimited by simple quotes):"
   ]
  },
  {
   "cell_type": "code",
   "execution_count": 17,
   "metadata": {},
   "outputs": [
    {
     "name": "stdout",
     "output_type": "stream",
     "text": [
      "Hello world\n",
      "Char\n"
     ]
    }
   ],
   "source": [
    "s = \"Hello world\"\n",
    "println(s);\n",
    "char = 'ù'\n",
    "println(typeof(char))"
   ]
  },
  {
   "cell_type": "markdown",
   "metadata": {},
   "source": [
    "How to use a double quote in a string?      \n",
    "→ place a backslash `\\` before it:"
   ]
  },
  {
   "cell_type": "code",
   "execution_count": 18,
   "metadata": {},
   "outputs": [
    {
     "name": "stdout",
     "output_type": "stream",
     "text": [
      "The letter \"A\" is the first letter of the alphabet."
     ]
    }
   ],
   "source": [
    "s = \"The letter \\\"A\\\" is the first letter of the alphabet.\"\n",
    "print(s)"
   ]
  },
  {
   "cell_type": "markdown",
   "metadata": {},
   "source": [
    "## Symbols\n",
    "\n",
    "* A symbol is an [interned string](https://en.wikipedia.org/wiki/String_interning) identifier which means that every string symbol is replaced internally by a number\n",
    "* This makes comparison between symbols faster than comparison between strings\n",
    "* Symbols are also used in metaprogramming (Julia code which produces Julia code)."
   ]
  },
  {
   "cell_type": "code",
   "execution_count": 19,
   "metadata": {},
   "outputs": [
    {
     "data": {
      "text/plain": [
       ":mysymbol"
      ]
     },
     "execution_count": 19,
     "metadata": {},
     "output_type": "execute_result"
    }
   ],
   "source": [
    ":mysymbol"
   ]
  },
  {
   "cell_type": "code",
   "execution_count": 20,
   "metadata": {},
   "outputs": [
    {
     "data": {
      "text/plain": [
       "Symbol"
      ]
     },
     "execution_count": 20,
     "metadata": {},
     "output_type": "execute_result"
    }
   ],
   "source": [
    "typeof(:mysymbol)"
   ]
  },
  {
   "cell_type": "markdown",
   "metadata": {},
   "source": [
    "## Vectors and matrices\n",
    "The module [`LinearAlgebra`](https://docs.julialang.org/en/stable/stdlib/LinearAlgebra/) provides useful linear algebra operations."
   ]
  },
  {
   "cell_type": "code",
   "execution_count": 21,
   "metadata": {},
   "outputs": [],
   "source": [
    "using LinearAlgebra"
   ]
  },
  {
   "cell_type": "markdown",
   "metadata": {},
   "source": [
    "Vectors are list of numbers. The column vector $\\left(\\begin{array}{c}1 \\\\ 2 \\\\ 3 \\end{array} \\right)$ is represented by:"
   ]
  },
  {
   "cell_type": "code",
   "execution_count": 22,
   "metadata": {},
   "outputs": [
    {
     "data": {
      "text/plain": [
       "3-element Vector{Int64}:\n",
       " 1\n",
       " 2\n",
       " 3"
      ]
     },
     "execution_count": 22,
     "metadata": {},
     "output_type": "execute_result"
    }
   ],
   "source": [
    "[1,2,3]"
   ]
  },
  {
   "cell_type": "markdown",
   "metadata": {},
   "source": [
    "Matrices are tables of numbers. Rows are separated by a semicolon. The matrix \n",
    "$\\left(\\begin{array}{cc}1 & 2 \\\\ 3 & 4 \\end{array} \\right)$ is represented by:"
   ]
  },
  {
   "cell_type": "code",
   "execution_count": 23,
   "metadata": {},
   "outputs": [
    {
     "data": {
      "text/plain": [
       "2×2 Matrix{Int64}:\n",
       " 1  2\n",
       " 3  4"
      ]
     },
     "execution_count": 23,
     "metadata": {},
     "output_type": "execute_result"
    }
   ],
   "source": [
    "[1 2; 3 4]"
   ]
  },
  {
   "cell_type": "markdown",
   "metadata": {},
   "source": [
    "### Ranges\n",
    "\n",
    "Consecutive elements can be written as:\n",
    "\n",
    "    `first:step:last`\n",
    "    \n",
    "or simply, if the step is 1,\n",
    "    \t\n",
    "    `first:last`\n",
    "    \n",
    "Use the function [`collect`](https://docs.julialang.org/en/stable/base/collections/#Base.collect-Tuple{Type,Any}) or `[first:step:last;]` to transform a range into a vector:\n",
    "   \n",
    "Instead of typing this:  "
   ]
  },
  {
   "cell_type": "code",
   "execution_count": 24,
   "metadata": {},
   "outputs": [
    {
     "data": {
      "text/plain": [
       "5-element Vector{Int64}:\n",
       " 1\n",
       " 2\n",
       " 3\n",
       " 4\n",
       " 5"
      ]
     },
     "execution_count": 24,
     "metadata": {},
     "output_type": "execute_result"
    }
   ],
   "source": [
    "[1,2,3,4,5]"
   ]
  },
  {
   "cell_type": "markdown",
   "metadata": {},
   "source": [
    "one could simply write this as:"
   ]
  },
  {
   "cell_type": "code",
   "execution_count": 25,
   "metadata": {},
   "outputs": [
    {
     "data": {
      "text/plain": [
       "1:5"
      ]
     },
     "execution_count": 25,
     "metadata": {},
     "output_type": "execute_result"
    }
   ],
   "source": [
    "1:5"
   ]
  },
  {
   "cell_type": "markdown",
   "metadata": {},
   "source": [
    "and convert if to a vector (if needed) with `collect( )`.\n",
    "\n",
    "Now if we need only every second element:"
   ]
  },
  {
   "cell_type": "code",
   "execution_count": 26,
   "metadata": {},
   "outputs": [
    {
     "data": {
      "text/plain": [
       "1:2:5"
      ]
     },
     "execution_count": 26,
     "metadata": {},
     "output_type": "execute_result"
    }
   ],
   "source": [
    "1:2:6"
   ]
  },
  {
   "cell_type": "markdown",
   "metadata": {},
   "source": [
    "Note that 6 is not part of the previous range."
   ]
  },
  {
   "cell_type": "markdown",
   "metadata": {},
   "source": [
    "## Indexing\n",
    "\n",
    "Consider the following vector:"
   ]
  },
  {
   "cell_type": "code",
   "execution_count": 27,
   "metadata": {},
   "outputs": [
    {
     "data": {
      "text/plain": [
       "5-element Vector{Int64}:\n",
       "  2\n",
       "  5\n",
       "  7\n",
       " 19\n",
       "  2"
      ]
     },
     "execution_count": 27,
     "metadata": {},
     "output_type": "execute_result"
    }
   ],
   "source": [
    "a = [2,5,7,19,2]"
   ]
  },
  {
   "cell_type": "markdown",
   "metadata": {},
   "source": [
    "* Individual elements of a vector or matrix can be addressed by their index using square brackets.\n",
    "* The second element of a vector `a` is for example `a[2]`"
   ]
  },
  {
   "cell_type": "markdown",
   "metadata": {},
   "source": [
    "The special word `end` refers to the last index.     \n",
    "`end` is also useful to refer to elements with respect to the last one:"
   ]
  },
  {
   "cell_type": "code",
   "execution_count": 28,
   "metadata": {},
   "outputs": [
    {
     "data": {
      "text/plain": [
       "2"
      ]
     },
     "execution_count": 28,
     "metadata": {},
     "output_type": "execute_result"
    }
   ],
   "source": [
    "a[end]"
   ]
  },
  {
   "cell_type": "code",
   "execution_count": 29,
   "metadata": {},
   "outputs": [
    {
     "data": {
      "text/plain": [
       "7"
      ]
     },
     "execution_count": 29,
     "metadata": {},
     "output_type": "execute_result"
    }
   ],
   "source": [
    "a[end-2]"
   ]
  },
  {
   "cell_type": "markdown",
   "metadata": {},
   "source": [
    "One can also use a list of indexes to extract a part of the vector"
   ]
  },
  {
   "cell_type": "code",
   "execution_count": 30,
   "metadata": {},
   "outputs": [
    {
     "data": {
      "text/plain": [
       "3-element Vector{Int64}:\n",
       "  5\n",
       "  7\n",
       " 19"
      ]
     },
     "execution_count": 30,
     "metadata": {},
     "output_type": "execute_result"
    }
   ],
   "source": [
    "a[[2,3,4]]\n",
    "# a[2,3,4] would mean we want to access the (single) index [2, 3, 4]"
   ]
  },
  {
   "cell_type": "markdown",
   "metadata": {},
   "source": [
    "Or simply:"
   ]
  },
  {
   "cell_type": "code",
   "execution_count": 31,
   "metadata": {},
   "outputs": [
    {
     "data": {
      "text/plain": [
       "3-element Vector{Int64}:\n",
       "  5\n",
       "  7\n",
       " 19"
      ]
     },
     "execution_count": 31,
     "metadata": {},
     "output_type": "execute_result"
    }
   ],
   "source": [
    "a[2:4]"
   ]
  },
  {
   "cell_type": "markdown",
   "metadata": {},
   "source": [
    "The symbol colon **:** is a short-hand for 1:end"
   ]
  },
  {
   "cell_type": "markdown",
   "metadata": {},
   "source": [
    "## Matrix indexing\n",
    "\n",
    "* For matrices, two indices are generally used.\n",
    "* The element at the second row and the first column of a matrix A is for example `A[2,1]`"
   ]
  },
  {
   "cell_type": "code",
   "execution_count": 32,
   "metadata": {},
   "outputs": [
    {
     "data": {
      "text/plain": [
       "2×2 Matrix{Int64}:\n",
       " 1  2\n",
       " 3  4"
      ]
     },
     "execution_count": 32,
     "metadata": {},
     "output_type": "execute_result"
    }
   ],
   "source": [
    "A = [1 2; 3 4]"
   ]
  },
  {
   "cell_type": "code",
   "execution_count": 33,
   "metadata": {},
   "outputs": [
    {
     "data": {
      "text/plain": [
       "3"
      ]
     },
     "execution_count": 33,
     "metadata": {},
     "output_type": "execute_result"
    }
   ],
   "source": [
    "A[2,1]"
   ]
  },
  {
   "cell_type": "code",
   "execution_count": 34,
   "metadata": {},
   "outputs": [
    {
     "data": {
      "text/plain": [
       "2-element Vector{Int64}:\n",
       " 2\n",
       " 4"
      ]
     },
     "execution_count": 34,
     "metadata": {},
     "output_type": "execute_result"
    }
   ],
   "source": [
    "A[:,2]"
   ]
  },
  {
   "cell_type": "markdown",
   "metadata": {},
   "source": [
    "Julia supports also higher-dimensional arrays and indexing works similarily."
   ]
  },
  {
   "cell_type": "markdown",
   "metadata": {},
   "source": [
    "## Additional data structures\n",
    "\n",
    "### Dictionaries\n",
    "\n",
    "A dictionary [`Dict`](https://docs.julialang.org/en/v1/base/collections/index.html#Dictionaries-1) is a data structure that maps keys to values.      \n",
    "**Example:**"
   ]
  },
  {
   "cell_type": "code",
   "execution_count": 35,
   "metadata": {},
   "outputs": [
    {
     "data": {
      "text/plain": [
       "Dict{String, Float64} with 2 entries:\n",
       "  \"Temperature\" => 20.23\n",
       "  \"Salinity\"    => 37.54"
      ]
     },
     "execution_count": 35,
     "metadata": {},
     "output_type": "execute_result"
    }
   ],
   "source": [
    "data = Dict(\"Temperature\" => 20.23, \"Salinity\" => 37.54)"
   ]
  },
  {
   "cell_type": "markdown",
   "metadata": {},
   "source": [
    "Dictionaries are useful to retrieve an entry using the key:"
   ]
  },
  {
   "cell_type": "code",
   "execution_count": 36,
   "metadata": {},
   "outputs": [
    {
     "data": {
      "text/plain": [
       "20.23"
      ]
     },
     "execution_count": 36,
     "metadata": {},
     "output_type": "execute_result"
    }
   ],
   "source": [
    "data[\"Temperature\"]"
   ]
  },
  {
   "cell_type": "markdown",
   "metadata": {},
   "source": [
    "### Tuple\n",
    "\n",
    "* A tuple is a (usually short) sequence of values (those values can be of any type)\n",
    "* A tuple cannot be modified (e.g. you cannot add another element to a tuple or replace an existing element)\n",
    "* Tuples are less flexible, but more efficient than vectors\n",
    "* A tuple is enclosed with a round parentesis, e.g. `(12,45,\"a string\")` or `(42,)` (here the last comma is necessary to distinguish between a parentesis enclosing a tuple and parentesis grouping an expression)"
   ]
  },
  {
   "cell_type": "code",
   "execution_count": 37,
   "metadata": {},
   "outputs": [
    {
     "name": "stdout",
     "output_type": "stream",
     "text": [
      "typeof(liegeCoordinates) = Tuple{Float64, Float64}\n"
     ]
    }
   ],
   "source": [
    "liegeCoordinates = (50.633333, 5.566667)\n",
    "@show typeof(liegeCoordinates);"
   ]
  },
  {
   "cell_type": "markdown",
   "metadata": {},
   "source": [
    "We cannot change the values: tuples are immutable!\n",
    "you will see the error\n",
    "\n",
    "```julia\n",
    "liegeCoordinates[1] =  50.7\n",
    "\n",
    "MethodError: no method matching setindex!(::Tuple{Float64,Float64}, ::Float64, ::Int64)\n",
    "```"
   ]
  },
  {
   "cell_type": "markdown",
   "metadata": {},
   "source": [
    "Tuples are typically used for output arguments (and sometimes for input arguments too)     \n",
    "We'll come back to functions later in this notebook."
   ]
  },
  {
   "cell_type": "markdown",
   "metadata": {},
   "source": [
    "# Operators\n",
    "\n",
    "* Scalar and matrix operations: **+** sum, **-** difference, __*__ multiplication, **/** division\n",
    "* Element-wise matrix operations: __.*__ multiply element-wise, __./__ divide element-wise \n",
    "\n",
    "## Comparison operators\n",
    "\n",
    "equal (`==`) and different (`!=`) "
   ]
  },
  {
   "cell_type": "code",
   "execution_count": 38,
   "metadata": {},
   "outputs": [
    {
     "data": {
      "text/plain": [
       "false"
      ]
     },
     "execution_count": 38,
     "metadata": {},
     "output_type": "execute_result"
    }
   ],
   "source": [
    "2 == 1"
   ]
  },
  {
   "cell_type": "code",
   "execution_count": 39,
   "metadata": {},
   "outputs": [
    {
     "data": {
      "text/plain": [
       "true"
      ]
     },
     "execution_count": 39,
     "metadata": {},
     "output_type": "execute_result"
    }
   ],
   "source": [
    "9 == 3*3"
   ]
  },
  {
   "cell_type": "markdown",
   "metadata": {},
   "source": [
    "The dot is used for element-wise comparisons:"
   ]
  },
  {
   "cell_type": "code",
   "execution_count": 40,
   "metadata": {},
   "outputs": [
    {
     "data": {
      "text/plain": [
       "false"
      ]
     },
     "execution_count": 40,
     "metadata": {},
     "output_type": "execute_result"
    }
   ],
   "source": [
    "[1 2 3] == [1 3 2]"
   ]
  },
  {
   "cell_type": "code",
   "execution_count": 41,
   "metadata": {},
   "outputs": [
    {
     "data": {
      "text/plain": [
       "1×3 BitMatrix:\n",
       " 1  0  0"
      ]
     },
     "execution_count": 41,
     "metadata": {},
     "output_type": "execute_result"
    }
   ],
   "source": [
    "[1 2 3] .== [1 3 2]"
   ]
  },
  {
   "cell_type": "markdown",
   "metadata": {},
   "source": [
    "Be aware of the limited precision of floating point numbers"
   ]
  },
  {
   "cell_type": "code",
   "execution_count": 42,
   "metadata": {},
   "outputs": [
    {
     "data": {
      "text/plain": [
       "true"
      ]
     },
     "execution_count": 42,
     "metadata": {},
     "output_type": "execute_result"
    }
   ],
   "source": [
    "2.0000000000000001 == 2"
   ]
  },
  {
   "cell_type": "markdown",
   "metadata": {},
   "source": [
    "Element-wise different (`.!=`)"
   ]
  },
  {
   "cell_type": "code",
   "execution_count": 43,
   "metadata": {},
   "outputs": [
    {
     "data": {
      "text/plain": [
       "1×3 BitMatrix:\n",
       " 1  0  1"
      ]
     },
     "execution_count": 43,
     "metadata": {},
     "output_type": "execute_result"
    }
   ],
   "source": [
    "[1 2 3] .!= [3 2 1]"
   ]
  },
  {
   "cell_type": "markdown",
   "metadata": {},
   "source": [
    "Comparision between numbers: <, >, <= (≤), => (≥)"
   ]
  },
  {
   "cell_type": "code",
   "execution_count": 44,
   "metadata": {},
   "outputs": [
    {
     "data": {
      "text/plain": [
       "true"
      ]
     },
     "execution_count": 44,
     "metadata": {},
     "output_type": "execute_result"
    }
   ],
   "source": [
    "30 > 25"
   ]
  },
  {
   "cell_type": "markdown",
   "metadata": {},
   "source": [
    "Element-wise comparision between vector and matrices: .<, .>, .<= (.≤), .=> (.≥)"
   ]
  },
  {
   "cell_type": "code",
   "execution_count": 45,
   "metadata": {},
   "outputs": [
    {
     "data": {
      "text/plain": [
       "3-element BitVector:\n",
       " 0\n",
       " 0\n",
       " 1"
      ]
     },
     "execution_count": 45,
     "metadata": {},
     "output_type": "execute_result"
    }
   ],
   "source": [
    "[1,2,3] .> 2 "
   ]
  },
  {
   "cell_type": "code",
   "execution_count": 46,
   "metadata": {},
   "outputs": [
    {
     "data": {
      "text/plain": [
       "3-element BitVector:\n",
       " 0\n",
       " 1\n",
       " 1"
      ]
     },
     "execution_count": 46,
     "metadata": {},
     "output_type": "execute_result"
    }
   ],
   "source": [
    "[1,2,3] .> [3,1,2]"
   ]
  },
  {
   "cell_type": "markdown",
   "metadata": {},
   "source": [
    "Logical \"and\" (`&&`) logical \"or\" (`||`) (with short-circuit evaluation)"
   ]
  },
  {
   "cell_type": "code",
   "execution_count": 47,
   "metadata": {},
   "outputs": [
    {
     "name": "stdout",
     "output_type": "stream",
     "text": [
      "stay in and code"
     ]
    }
   ],
   "source": [
    "temperature = 30;\n",
    "precipitation = 10;\n",
    "\n",
    "if temperature > 25 && precipitation == 0\n",
    "    print(\"go outside!\")\n",
    "else\n",
    "    print(\"stay in and code\")\n",
    "end"
   ]
  },
  {
   "cell_type": "markdown",
   "metadata": {},
   "source": [
    "* logical element-wise \"and\" (.&) logical element-wise \"or\" (.|)\n",
    "\n",
    "* The results of such operators can also be used to index an array\n",
    "    \n",
    "* For example return all elements in the variable T which are greater than 10 but less than 20.\n",
    "    "
   ]
  },
  {
   "cell_type": "code",
   "execution_count": 48,
   "metadata": {},
   "outputs": [
    {
     "data": {
      "text/plain": [
       "2-element Vector{Int64}:\n",
       " 27\n",
       " 26"
      ]
     },
     "execution_count": 48,
     "metadata": {},
     "output_type": "execute_result"
    }
   ],
   "source": [
    "T = [27,17,20,26,32]\n",
    "T[20 .< T .& T .< 30]"
   ]
  },
  {
   "cell_type": "code",
   "execution_count": 49,
   "metadata": {},
   "outputs": [
    {
     "data": {
      "text/plain": [
       "5-element BitVector:\n",
       " 1\n",
       " 1\n",
       " 1\n",
       " 1\n",
       " 0"
      ]
     },
     "execution_count": 49,
     "metadata": {},
     "output_type": "execute_result"
    }
   ],
   "source": [
    "T .< 30"
   ]
  },
  {
   "cell_type": "markdown",
   "metadata": {},
   "source": [
    "This list of 1's and 0's can be turned into a list of indices using `findall`:"
   ]
  },
  {
   "cell_type": "code",
   "execution_count": 50,
   "metadata": {},
   "outputs": [
    {
     "data": {
      "text/plain": [
       "4-element Vector{Int64}:\n",
       " 1\n",
       " 2\n",
       " 3\n",
       " 4"
      ]
     },
     "execution_count": 50,
     "metadata": {},
     "output_type": "execute_result"
    }
   ],
   "source": [
    "findall(T .< 30)"
   ]
  },
  {
   "cell_type": "markdown",
   "metadata": {},
   "source": [
    "# Useful functions\n",
    "\n",
    "* sin, cos, tan: trigonometric functions\n",
    "* asin, acos, atan: inverse trigonometric functions\n",
    "* log, log2, log10: natural, base 2 and base 10 logarithms: \n",
    "* exp: exponentiation\n",
    "* abs: absolute value\n",
    "* sqrt: square root\n",
    "* mean: mean\n",
    "* median: median\n",
    "* std: standard deviation\n",
    "* var: variance\n",
    "* mod: modulo (useful to manipulate e.g. the longitude)\n",
    "* isnan: Check if variable is NaN. Note that NaN == NaN is false!\n",
    "* inv: inverse of a matrix\n",
    "* sum: sum of all elements\n",
    "* prod: product of all elements\n",
    "* maximum,minimum: maximum,minimum value in an array\n",
    "* max,min: maximum,minimum value of all arguments\n",
    "* isnan: true if a value is NaN\n",
    "* isinf: true if a value is Inf\n",
    "\n",
    "These function can also operate of a given dimension: sum(array,dimension)\n",
    "\n",
    "Find out more of these function by typing using the question mark symbol `?` followed by the function name. "
   ]
  },
  {
   "cell_type": "code",
   "execution_count": 51,
   "metadata": {},
   "outputs": [
    {
     "name": "stdout",
     "output_type": "stream",
     "text": [
      "search: \u001b[0m\u001b[1mp\u001b[22mrevf\u001b[0m\u001b[1ml\u001b[22m\u001b[0m\u001b[1mo\u001b[22ma\u001b[0m\u001b[1mt\u001b[22m \u001b[0m\u001b[1mp\u001b[22martia\u001b[0m\u001b[1ml\u001b[22ms\u001b[0m\u001b[1mo\u001b[22mr\u001b[0m\u001b[1mt\u001b[22m \u001b[0m\u001b[1mp\u001b[22martia\u001b[0m\u001b[1ml\u001b[22ms\u001b[0m\u001b[1mo\u001b[22mr\u001b[0m\u001b[1mt\u001b[22m! \u001b[0m\u001b[1mp\u001b[22martia\u001b[0m\u001b[1ml\u001b[22ms\u001b[0m\u001b[1mo\u001b[22mr\u001b[0m\u001b[1mt\u001b[22mperm \u001b[0m\u001b[1mp\u001b[22martia\u001b[0m\u001b[1ml\u001b[22ms\u001b[0m\u001b[1mo\u001b[22mr\u001b[0m\u001b[1mt\u001b[22mperm!\n",
      "\n",
      "Couldn't find \u001b[36mplot\u001b[39m\n",
      "Perhaps you meant splat, split, prod, dot, acot, cot, float, log, let or rsplit\n"
     ]
    },
    {
     "data": {
      "text/latex": [
       "No documentation found.\n",
       "\n",
       "Binding \\texttt{plot} does not exist.\n",
       "\n"
      ],
      "text/markdown": [
       "No documentation found.\n",
       "\n",
       "Binding `plot` does not exist.\n"
      ],
      "text/plain": [
       "  No documentation found.\n",
       "\n",
       "  Binding \u001b[36mplot\u001b[39m does not exist."
      ]
     },
     "execution_count": 51,
     "metadata": {},
     "output_type": "execute_result"
    }
   ],
   "source": [
    "?plot"
   ]
  },
  {
   "cell_type": "code",
   "execution_count": 52,
   "metadata": {},
   "outputs": [
    {
     "name": "stdout",
     "output_type": "stream",
     "text": [
      "Core.Compiler.Order.ord\n",
      "Core.Compiler.from_interprocedural!\n",
      "Core.Compiler.ir_inline_unionsplit!\n",
      "Core.Compiler.ConstCallInfo\n",
      "Core.Compiler.IRCode\n",
      "Core.Compiler.AbstractIterationInfo\n",
      "Core.Compiler.widenreturn_noslotwrapper\n",
      "Core.Compiler.NotFound\n",
      "Core.Compiler.JLTypeLattice\n",
      "Core.Compiler.AbstractInterpreter\n",
      "Core.Compiler.InferenceParams\n",
      "Core.Compiler.canonicalize_typeassert!\n",
      "Core.InterConditional\n",
      "Core.Compiler.widenreturn\n",
      "Core.Compiler.tmerge\n",
      "Core.Compiler.adce_pass!\n",
      "Core.Compiler.Effects\n",
      "Core.Compiler.AbsIntStackUnwind\n",
      "Core.Compiler.lock_mi_inference\n",
      "Core.Compiler.Timings.Timing\n",
      "Core.Compiler.EscapeAnalysis.compute_frameinfo\n",
      "Core.Compiler.EscapeAnalysis.escape_exception!\n",
      "Core.Compiler.EscapeAnalysis.EscapeInfo\n",
      "Base\n",
      "Base.:<\n",
      "Base.IndexCartesian\n",
      "Base.include_string\n",
      "Base.names\n",
      "Base.Colon\n",
      "Core.NamedTuple\n",
      "Base.repr\n",
      "Base.skipmissing\n",
      "Base.:>\n",
      "Base.ENV\n",
      "Base.any\n",
      "Base.ismutabletype\n",
      "Base.isprimitivetype\n",
      "Base.splitprec\n",
      "Core.String\n",
      "Base.AbstractChannel\n",
      "Base.chomp\n",
      "Base.AbstractIrrational\n",
      "Base.endswith\n",
      "Base.count!\n",
      "Core.AbstractString\n",
      "Base.replace_ref_begin_end!\n",
      "Base.join\n",
      "Base.readline\n",
      "Base.ComposedFunction\n",
      "Base.isgreater\n",
      "Base.findmax\n",
      "Base.:⊆\n",
      "Base.runtests\n",
      "Base.Channel\n",
      "Base.identify_package\n",
      "Base.notify\n",
      "Base.setcpuaffinity\n",
      "Base._show_nonempty\n",
      "Base.@r_str\n",
      "Base.ReentrantLock\n",
      "Base.extrema!\n",
      "Base.get\n",
      "Base.union\n",
      "Base.isopen\n",
      "Base.BitArray\n",
      "Base.:&\n",
      "Base.bodyfunction\n",
      "Base.show\n",
      "Base.IteratorEltype\n",
      "Base.IdDict\n",
      "Base.isconcretetype\n",
      "Base.disable_sigint\n",
      "Base.filter\n",
      "Base.nor\n",
      "Base.@inline\n",
      "Base.@ccall\n",
      "Base.Regex\n",
      "Base.promote_shape\n",
      "Base.dataids\n",
      "Base.something\n",
      "Base.IteratorSize\n",
      "Base.isimmutable\n",
      "Base.cis\n",
      "Base.escape_raw_string\n",
      "Base.operator_precedence\n",
      "Base.:!=\n",
      "Base.IndexStyle\n",
      "Base.reverse\n",
      "Base.Cmd\n",
      "Base.rethrow\n",
      "Base.findmax!\n",
      "Base.mergewith!\n",
      "Base.unsafe_wrap\n",
      "Base.@nospecializeinfer\n",
      "Base.evalfile\n",
      "Base.get!\n",
      "Base.iszero\n",
      "Base.parentmodule\n",
      "Base.lock\n",
      "Base.OrdinalRange\n",
      "Base.all!\n",
      "Base.EnvDict\n",
      "Base.:⊇\n",
      "Base.:|\n",
      "Base.rstrip\n",
      "Base.@lazy_str\n",
      "Base.eachsplit\n",
      "Core.Pair\n",
      "Base.ncodeunits\n",
      "Base.@inbounds\n",
      "Base.:=>\n",
      "Base.open\n",
      "Base.length\n",
      "Base.TwicePrecision\n",
      "Base.AsyncGenerator\n",
      "Base.splat\n",
      "Base.invoke_in_world\n",
      "Base.intersect\n",
      "Base.@view\n",
      "Base.isstructtype\n",
      "Base.SecretBuffer\n",
      "Base.sum!\n",
      "Base.getindex\n",
      "Base.cat\n",
      "Base.print_matrix_row\n",
      "Base.prod!\n",
      "Base.isbitstype\n",
      "Base.findmin\n",
      "Base.reduce_first\n",
      "Base.readchomp\n",
      "Base.isinteger\n",
      "Base.unsafe_convert\n",
      "Base.inv\n",
      "Core.VecElement\n",
      "Base.:!\n",
      "Base.:>=\n",
      "Base.missing\n",
      "Base.replace_with_centered_mark\n",
      "Base.AbstractMatch\n",
      "Base.extrema\n",
      "Base.::\n",
      "Base.replace!\n",
      "Base.any!\n",
      "Base.argmin\n",
      "Base.download\n",
      "Base.isnothing\n",
      "Base.xor\n",
      "Base.cispi\n",
      "Base.maximum\n",
      "Base.shell_escape_csh\n",
      "Base.one\n",
      "Base.count\n",
      "Base.mapreduce_first\n",
      "Base.unaliascopy\n",
      "Base.println\n",
      "Base.minimum\n",
      "Base.wait\n",
      "Base\n",
      "Base.hvcat\n",
      "Base.lstrip\n",
      "Base.startswith\n",
      "Base.sprint\n",
      "Base.unescape_string\n",
      "Base.LinRange\n",
      "Base.may_invoke_generator\n",
      "Base.match\n",
      "Base.popat!\n",
      "Base.@lock\n",
      "Base.SubstitutionString\n",
      "Base.in\n",
      "Base.string\n",
      "Base.isequal\n",
      "Base.isnan\n",
      "Base.withenv\n",
      "Base.isvalid\n",
      "Base.sortslices\n",
      "Base.shell_escape_wincmd\n",
      "Base.gc_live_bytes\n",
      "Base.mergewith\n",
      "Base.read\n",
      "Base.:∘\n",
      "Base.coalesce\n",
      "Base.stack\n",
      "Base.isinteractive\n",
      "Base.split\n",
      "Base.:==\n",
      "Base.sizehint!\n",
      "Base.@views\n",
      "Base.ifelse\n",
      "Base.@coalesce\n",
      "Base.@boundscheck\n",
      "Base.findmin!\n",
      "Base.values\n",
      "Base.round\n",
      "Base.escape_microsoft_c_args\n",
      "Base.@eval\n",
      "Base.mapreduce\n",
      "Base.@threadcall\n",
      "Base.eps\n",
      "Base.checkbounds_indices\n",
      "Base.@ccallable\n",
      "Base.MainInclude.include\n",
      "Base.NaN64\n",
      "Base.LOAD_PATH\n",
      "Base.promote_type\n",
      "Base.asyncmap\n",
      "Base.reduce\n",
      "Base.nand\n",
      "Base.IOContext\n",
      "Base.isabstracttype\n",
      "Base.issubset\n",
      "Base.isdone\n",
      "Base.Missing\n",
      "Base.finalizer\n",
      "Base.all\n",
      "Base.factorial\n",
      "Base.MissingException\n",
      "Base.isunordered\n",
      "Base.operator_associativity\n",
      "Base.isless\n",
      "Base.include\n",
      "Base.merge\n",
      "Base.nonmissingtype\n",
      "Base.@__FILE__\n",
      "Base.argmax\n",
      "Base.contains\n",
      "Base.@assume_effects\n",
      "Base.SubArray\n",
      "Base.@noinline\n",
      "Base.NaN\n",
      "Base.@b_str\n",
      "Base.Dict\n",
      "Base.current_exceptions\n",
      "Base.replace\n",
      "Base.channeled_tasks\n",
      "Base.maximum!\n",
      "Base.:<=\n",
      "Base.issingletontype\n",
      "Base.IndexLinear\n",
      "Base.ismissing\n",
      "Base.eachslice\n",
      "Base.countlines\n",
      "Base.write\n",
      "Base.isinf\n",
      "Base.pointer_from_objref\n",
      "Base.RegexMatch\n",
      "Base.similar\n",
      "Base.require\n",
      "Base.AlwaysLockedST\n",
      "Base.minimum!\n",
      "Base.thisind\n",
      "Base.@nospecialize\n",
      "Base.Timer\n",
      "Base.occursin\n",
      "Base.eachindex\n",
      "Base.fdio\n",
      "Base.isapprox\n",
      "Base.strip\n",
      "Base.GC.@preserve\n",
      "Base.GC.enable\n",
      "Base.Iterators.reverse\n",
      "Base.Rounding.RoundToZero\n",
      "Base.Rounding.RoundUp\n",
      "Base.Rounding.setrounding\n",
      "Base.Rounding.RoundDown\n",
      "Base.SimdLoop.@simd\n",
      "Base.Multimedia.redisplay\n",
      "Base.show\n",
      "Base.Multimedia.MIME\n",
      "Base.Multimedia.display\n",
      "Base.IRShow.compute_ir_line_annotations\n",
      "Base.Cartesian.@nloops\n",
      "Base.IteratorsMD.CartesianIndex\n",
      "Base.Broadcast.result_style\n",
      "Base.Broadcast._broadcast_getindex\n",
      "Base.Broadcast.broadcast\n",
      "Base.Broadcast.@__dot__\n",
      "Base.Broadcast.BroadcastFunction\n",
      "Base.Broadcast.newindex\n",
      "Base.Broadcast.broadcastable\n",
      "Base.Libc.strptime\n",
      "Base.Libc.TmStruct\n",
      "Base.Libc.time\n",
      "Base.Libc.strftime\n",
      "Base.Libc.realloc\n",
      "Base.Libc.Libdl.dlopen\n",
      "Base.Libc.Libdl.dlopen_e\n",
      "Base.CoreLogging.@info\n",
      "Base.CoreLogging.@warn\n",
      "Base.CoreLogging.@debug\n",
      "Base.CoreLogging.@error\n",
      "Base.CoreLogging.@logmsg\n",
      "Base.Threads.Atomic\n",
      "Base.Threads.@threads\n",
      "Base.Threads.resize_nthreads!\n",
      "Base.Filesystem.mkpath\n",
      "Base.Filesystem.cp\n",
      "Base.Filesystem.joinpath\n",
      "Base.Filesystem.abspath\n",
      "Base.Filesystem.tempname\n",
      "Base.Math\n",
      "Base.Math.cosd\n",
      "Base.Math.deg2rad\n",
      "Base.Math.sincosd\n",
      "Base.Math.clamp\n",
      "Base.Math.sincos\n",
      "Base.asin\n",
      "Base.asinh\n",
      "Base.Math.hypot\n",
      "Base.Math.tanpi\n",
      "Base.acos\n",
      "Base.Math.clamp!\n",
      "Base.Math.cosc\n",
      "Base.Math.sinc\n",
      "Base.acosh\n",
      "Base.Math.sind\n",
      "Base.cos\n",
      "Base.Math.cos_kernel\n",
      "Base.Math.sinpi\n",
      "Base.cosh\n",
      "Base.Math.evalpoly\n",
      "Base.Math.sincospi\n",
      "Base.Math.sin_kernel\n",
      "Base.sinh\n",
      "Base.Math.acosd\n",
      "Base.sin\n",
      "Base.Math.asind\n",
      "Base.Order.ord\n",
      "Base.Sort.InitialOptimizations\n",
      "Base.Sort.searchsorted\n",
      "Base.Sort.Small\n",
      "Base.Sort._sort!\n",
      "Base.Sort.DEFAULT_STABLE\n",
      "Base.Sort.searchsortedlast\n",
      "Base.Sort.insorted\n",
      "Base.Sort.BoolOptimization\n",
      "Base.Sort.partialsortperm\n",
      "Base.Sort.ScratchQuickSort\n",
      "Base.Sort.partialsort!\n",
      "Base.sortperm\n",
      "Base.Sort.MissingOptimization\n",
      "Base.Sort.searchsortedfirst\n",
      "Base.sort!\n",
      "Base.BinaryPlatforms.host_triplet\n",
      "Base.BinaryPlatforms.platforms_match\n",
      "Base.FastMath.@fastmath\n",
      "Base.GMP.BigInt\n",
      "Base.Ryu.writefixed\n",
      "Base.Ryu.writeexp\n",
      "Base.Ryu.writeshortest\n",
      "Base.MPFR.BigFloat\n",
      "Base.MathConstants.pi\n",
      "Base.MathConstants.π\n",
      "Base.MathConstants.e\n",
      "Base.MathConstants.ℯ\n",
      "Base.Meta.parse\n",
      "Base.Experimental.@overlay\n",
      "Base.Experimental.@compiler_options\n",
      "Base.Experimental.@force_compile\n",
      "Base.Vector\n",
      "Core.undef\n",
      "Core.Nothing\n",
      "Core.invoke\n",
      "Core.Type\n",
      "Core.TypeofBottom\n",
      "Core.UndefInitializer\n",
      "Core.Function\n",
      "Core.Tuple\n",
      "Core.nothing\n",
      "Core.Array\n",
      "Core.WrappedException\n",
      "Base.Matrix\n",
      "Core.LoadError\n",
      "Base.getproperty\n",
      "Core.getglobal\n",
      "Core.Symbol\n",
      "Core\n",
      "Core.Core\n",
      "Base.Docs.catdoc\n",
      "Core.@doc\n",
      "Base.Docs.DocStr\n",
      "Base.JuliaSyntax.ErrorVal\n",
      "Base.JuliaSyntax.@isexpr\n",
      "Base.peek\n",
      "Base.JuliaSyntax.bump_split\n",
      "Base.JuliaSyntax.bump_glue\n",
      "Base.JuliaSyntax.GreenNode\n",
      "Base.JuliaSyntax.ParseStream\n",
      "Base.JuliaSyntax.peek_behind\n",
      "Base.JuliaSyntax.enable_in_core!\n",
      "Base.JuliaSyntax.parsestmt\n",
      "Base.JuliaSyntax.ParseState\n",
      "Base.JuliaSyntax.parseall\n",
      "Base.JuliaSyntax.parseatom\n",
      "Base.JuliaSyntax.unsafe_textbuf\n",
      "Base.JuliaSyntax.build_tree\n",
      "Base.JuliaSyntax.tokenize\n",
      "Base.JuliaSyntax.parse!\n",
      "Base.JuliaSyntax.Diagnostic\n",
      "Base.JuliaSyntax.Tokenize.Lexer\n",
      "ArgTools\n",
      "ArgTools.arg_write\n",
      "ArgTools.arg_writers\n",
      "ArgTools.arg_readers\n",
      "Artifacts\n",
      "Artifacts.@artifact_str\n",
      "Artifacts.Artifacts\n",
      "Base64\n",
      "Base64.Base64\n",
      "Base64.base64encode\n",
      "FileWatching.poll_file\n",
      "Mmap.Anonymous\n",
      "Mmap.mmap\n",
      "NetworkOptions\n",
      "NetworkOptions.ca_roots\n",
      "NetworkOptions.ssh_known_hosts_file\n",
      "SHA\n",
      "SHA.SHA\n",
      "SHA.sha1\n",
      "SHA.hmac_sha512\n",
      "SHA.hmac_sha224\n",
      "SHA.sha512\n",
      "SHA.sha3_256\n",
      "SHA.hmac_sha256\n",
      "SHA.hmac_sha384\n",
      "SHA.hmac_sha2_256\n",
      "SHA.hmac_sha2_384\n",
      "SHA.sha3_224\n",
      "SHA.hmac_sha3_224\n",
      "SHA.sha384\n",
      "SHA.hmac_sha3_384\n",
      "SHA.hmac_sha3_512\n",
      "SHA.sha224\n",
      "SHA.sha3_384\n",
      "SHA.sha2_512\n",
      "SHA.sha3_512\n",
      "SHA.hmac_sha2_224\n",
      "SHA.sha256\n",
      "SHA.hmac_sha2_512\n",
      "SHA.sha2_384\n",
      "SHA.sha2_256\n",
      "SHA.hmac_sha1\n",
      "SHA.hmac_sha3_256\n",
      "SHA.sha2_224\n",
      "Serialization.serialize\n",
      "Sockets.TCPSocket\n",
      "Sockets.listenany\n",
      "Sockets.getnameinfo\n",
      "Sockets.UDPSocket\n",
      "Unicode.normalize\n",
      "Unicode.graphemes\n",
      "Unicode.isequal_normalized\n",
      "Unicode.julia_chartransform\n",
      "LinearAlgebra.MulAddMul\n",
      "Base.cis\n",
      "LinearAlgebra.cond\n",
      "LinearAlgebra._modify!\n",
      "Base.asin\n",
      "LinearAlgebra.condskeel\n",
      "LinearAlgebra.lq!\n",
      "LinearAlgebra.ZeroPivotException\n",
      "Base.acos\n",
      "LinearAlgebra.Givens\n",
      "LinearAlgebra.eigmin\n",
      "Base.:^\n",
      "LinearAlgebra.SingularException\n",
      "LinearAlgebra.opnorm\n",
      "Base.Math.sincos\n",
      "LinearAlgebra.hessenberg\n",
      "Base.acosh\n",
      "LinearAlgebra.svd\n",
      "LinearAlgebra.det_bareiss\n",
      "LinearAlgebra.cholesky\n",
      "LinearAlgebra.rank\n",
      "LinearAlgebra.diagm\n",
      "LinearAlgebra.peakflops\n",
      "Base.cos\n",
      "LinearAlgebra.SVD\n",
      "Base.atan\n",
      "Base.:\\\n",
      "LinearAlgebra.norm\n",
      "LinearAlgebra.pinv\n",
      "LinearAlgebra.GeneralizedSVD\n",
      "Base.asinh\n",
      "LinearAlgebra.lu\n",
      "LinearAlgebra.eigmax\n",
      "LinearAlgebra.UniformScaling\n",
      "LinearAlgebra.Bidiagonal\n",
      "Base.:*\n",
      "LinearAlgebra.QRCompactWY\n",
      "LinearAlgebra.svdvals!\n",
      "LinearAlgebra.det_bareiss!\n",
      "LinearAlgebra.nullspace\n",
      "Base.cosh\n",
      "Base.sinh\n",
      "LinearAlgebra.svdvals\n",
      "Base.sin\n",
      "LinearAlgebra.BLAS.set_num_threads\n",
      "LinearAlgebra.BLAS.get_num_threads\n",
      "LinearAlgebra.LAPACK.hetrs!\n",
      "LinearAlgebra.LAPACK.gesv!\n",
      "LinearAlgebra.LAPACK.getri!\n",
      "LinearAlgebra.LAPACK.gesvd!\n",
      "LinearAlgebra.LAPACK.gemqrt!\n",
      "LinearAlgebra.LAPACK.hetri!\n",
      "LinearAlgebra.LAPACK.gelsy!\n",
      "LinearAlgebra.LAPACK.ormrq!\n",
      "LinearAlgebra.LAPACK.geqp3!\n",
      "LinearAlgebra.LAPACK.ormql!\n",
      "LinearAlgebra.LAPACK.gttrs!\n",
      "LinearAlgebra.LAPACK.gebak!\n",
      "LinearAlgebra.LAPACK.trrfs!\n",
      "LinearAlgebra.LAPACK.gelsd!\n",
      "LinearAlgebra.LAPACK.sytrs!\n",
      "LinearAlgebra.LAPACK.sytrf!\n",
      "LinearAlgebra.LAPACK.gesdd!\n",
      "LinearAlgebra.LAPACK.sytri!\n",
      "LinearAlgebra.LAPACK.hetrf!\n",
      "LinearAlgebra.LAPACK.getrf!\n",
      "LinearAlgebra.LAPACK.ggsvd3!\n",
      "LinearAlgebra.LAPACK.pttrs!\n",
      "LinearAlgebra.LAPACK.ormlq!\n",
      "LinearAlgebra.LAPACK.ggsvd!\n",
      "LinearAlgebra.LAPACK.gesvx!\n",
      "LinearAlgebra.LAPACK.gges3!\n",
      "LinearAlgebra.LAPACK.bdsqr!\n",
      "LinearAlgebra.LAPACK.ormqr!\n",
      "LinearAlgebra.LAPACK.ggev3!\n",
      "LinearAlgebra.LAPACK.bdsdc!\n",
      "LinearAlgebra.LAPACK.gels!\n",
      "LinearAlgebra.LAPACK.trevc!\n",
      "Printf.@printf\n",
      "Base.randn\n",
      "Random.MersenneTwister\n",
      "Random.TaskLocalRNG\n",
      "Base.rand\n",
      "Random.Xoshiro\n",
      "Tar\n",
      "Tar.list\n",
      "Tar.rewrite\n",
      "Tar.tree_hash\n",
      "Tar.extract\n",
      "Tar.Header\n",
      "Tar.create\n",
      "Dates.DateTime\n",
      "Dates.DateLocale\n",
      "Dates.Time\n",
      "Dates.unix2datetime\n",
      "Dates.datetime2julian\n",
      "Dates.datetime2unix\n",
      "Dates.tryparsenext_core\n",
      "Dates.CompoundPeriod\n",
      "Dates.DateFormat\n",
      "Dates.tonext\n",
      "Dates.format\n",
      "Dates.daysinyear\n",
      "Dates.rata2datetime\n",
      "Dates.epochms2datetime\n",
      "Dates.daysinmonth\n",
      "Dates.julian2datetime\n",
      "Dates.date2epochdays\n",
      "Dates.tryparsenext_internal\n",
      "Dates.tryparsenext\n",
      "Dates.datetime2epochms\n",
      "Dates.AbstractDateToken\n",
      "Dates.epochdays2date\n",
      "Dates.datetime2rata\n",
      "Dates.toprev\n",
      "Dates.Date\n",
      "Future.copy!\n",
      "InteractiveUtils.edit\n",
      "InteractiveUtils.define_editor\n",
      "InteractiveUtils.@time_imports\n",
      "InteractiveUtils.peakflops\n",
      "InteractiveUtils.less\n",
      "LibGit2.StrArrayStruct\n",
      "LibGit2.features\n",
      "LibGit2.checkout!\n",
      "LibGit2.fetch\n",
      "LibGit2.GitRemote\n",
      "LibGit2.GitRevWalker\n",
      "LibGit2.credentials_callback\n",
      "LibGit2.GitBlame\n",
      "LibGit2.RebaseOperation\n",
      "LibGit2.PushOptions\n",
      "LibGit2.map\n",
      "LibGit2.reset!\n",
      "LibGit2.GitRemoteAnon\n",
      "LibGit2.read!\n"
     ]
    },
    {
     "name": "stdout",
     "output_type": "stream",
     "text": [
      "LibGit2.ProxyOptions\n",
      "LibGit2.CheckoutOptions\n",
      "LibGit2.treewalk\n",
      "LibGit2.Callbacks\n",
      "LibGit2.commit\n",
      "LibGit2.GitCredential\n",
      "LibGit2.content\n",
      "LibGit2.GitAnnotated\n",
      "LibGit2.revcount\n",
      "LibGit2.push\n",
      "LibGit2.count\n",
      "LibGit2.merge!\n",
      "LibGit2.restore\n",
      "LibGit2.DiffFile\n",
      "LibGit2.addfile\n",
      "LibGit2.write!\n",
      "LibGit2.push!\n",
      "LibGit2.git_url\n",
      "LibGit2.transact\n",
      "LibGit2.Consts.GIT_PROXY\n",
      "LibGit2.Consts.GIT_REBASE_OPERATION\n",
      "REPL.TerminalMenus.RadioMenu\n",
      "REPL.start_repl_backend\n",
      "Base.MainInclude.Out\n",
      "TOML.Parser\n",
      "TOML.ParserError\n",
      "Downloads.Downloader\n",
      "Downloads.download\n",
      "Pkg.PlatformEngines.register_auth_error_handler\n",
      "Pkg.PlatformEngines.verify\n",
      "Pkg.Resolve.enforce_optimality!\n",
      "Pkg.REPLMode.Command\n",
      "Pkg\n",
      "Pkg.test\n",
      "Pkg.add\n",
      "Pkg.PackageSpec\n",
      "Preferences\n",
      "Preferences.main_uuid\n",
      "Preferences.@set_preferences!\n",
      "Preferences.@delete_preferences!\n",
      "Preferences.set_preferences!\n",
      "Preferences.process_sentinel_values!\n",
      "libsodium_jll\n",
      "ZeroMQ_jll\n",
      "PrecompileTools\n",
      "PrecompileTools.@recompile_invalidations\n",
      "Sockets.send\n",
      "ZMQ.Message\n",
      "Parsers\n",
      "Parsers.tryparse\n",
      "Parsers.getstring\n",
      "Parsers.parse\n",
      "Parsers.Result\n",
      "Parsers.Options\n",
      "Parsers.ReturnCode\n",
      "Parsers.readbyte\n",
      "Parsers.xparse\n",
      "Parsers.PosLen\n",
      "JSON.Parser.parse_string\n",
      "JSON.Parser.predict_string\n",
      "JSON.Parser.parsefile\n",
      "JSON.Parser.parse\n",
      "JSON.Writer.show_element\n",
      "JSON.Writer.show_pair\n",
      "JSON.Writer.JSONText\n",
      "JSON.Writer.show_json\n",
      "SoftGlobalScope\n",
      "SoftGlobalScope.softscope_include_string\n",
      "SoftGlobalScope.SoftGlobalScope\n",
      "VersionParsing\n",
      "VersionParsing.VersionParsing\n",
      "Conda.pip\n",
      "Conda.rm\n",
      "Conda.runconda\n",
      "Conda.add\n",
      "Conda.exists\n",
      "MbedTLS\n",
      "MbedTLS.ssl_read\n",
      "MbedTLS.ssl_write\n",
      "MbedTLS.encrypt\n",
      "MbedTLS.ssl_abandon\n",
      "MbedTLS.CipherInfo\n",
      "MbedTLS.ssl_close_notify\n",
      "MbedTLS.decrypt\n",
      "IJulia\n",
      "IJulia.notebook\n",
      "IJulia.ijulia_mime_types\n",
      "IJulia.capture_stdout\n",
      "IJulia.display_mimejson\n",
      "IJulia.IJulia\n",
      "IJulia.watch_stream\n",
      "IJulia.set_cur_msg\n",
      "IJulia.clear_output\n",
      "IJulia.display_mimestring\n"
     ]
    }
   ],
   "source": [
    "apropos(\"sin\")"
   ]
  },
  {
   "cell_type": "code",
   "execution_count": 53,
   "metadata": {},
   "outputs": [],
   "source": [
    "using Statistics"
   ]
  },
  {
   "cell_type": "code",
   "execution_count": 54,
   "metadata": {},
   "outputs": [
    {
     "name": "stdout",
     "output_type": "stream",
     "text": [
      "search: \u001b[0m\u001b[1mm\u001b[22m\u001b[0m\u001b[1me\u001b[22m\u001b[0m\u001b[1ma\u001b[22m\u001b[0m\u001b[1mn\u001b[22m \u001b[0m\u001b[1mm\u001b[22m\u001b[0m\u001b[1me\u001b[22m\u001b[0m\u001b[1ma\u001b[22m\u001b[0m\u001b[1mn\u001b[22m! \u001b[0m\u001b[1mm\u001b[22m\u001b[0m\u001b[1me\u001b[22mdi\u001b[0m\u001b[1ma\u001b[22m\u001b[0m\u001b[1mn\u001b[22m \u001b[0m\u001b[1mm\u001b[22m\u001b[0m\u001b[1me\u001b[22mdi\u001b[0m\u001b[1ma\u001b[22m\u001b[0m\u001b[1mn\u001b[22m! Seg\u001b[0m\u001b[1mm\u001b[22m\u001b[0m\u001b[1me\u001b[22mnt\u001b[0m\u001b[1ma\u001b[22mtio\u001b[0m\u001b[1mn\u001b[22mFault \u001b[0m\u001b[1mm\u001b[22macro\u001b[0m\u001b[1me\u001b[22mxp\u001b[0m\u001b[1ma\u001b[22m\u001b[0m\u001b[1mn\u001b[22md @\u001b[0m\u001b[1mm\u001b[22macro\u001b[0m\u001b[1me\u001b[22mxp\u001b[0m\u001b[1ma\u001b[22m\u001b[0m\u001b[1mn\u001b[22md\n",
      "\n"
     ]
    },
    {
     "data": {
      "text/latex": [
       "\\begin{verbatim}\n",
       "mean(itr)\n",
       "\\end{verbatim}\n",
       "Compute the mean of all elements in a collection.\n",
       "\n",
       "\\begin{quote}\n",
       "\\textbf{note}\n",
       "\n",
       "Note\n",
       "\n",
       "If \\texttt{itr} contains \\texttt{NaN} or \\href{@ref}{\\texttt{missing}} values, the result is also \\texttt{NaN} or \\texttt{missing} (\\texttt{missing} takes precedence if array contains both). Use the \\href{@ref}{\\texttt{skipmissing}} function to omit \\texttt{missing} entries and compute the mean of non-missing values.\n",
       "\n",
       "\\end{quote}\n",
       "\\section{Examples}\n",
       "\\begin{verbatim}\n",
       "julia> using Statistics\n",
       "\n",
       "julia> mean(1:20)\n",
       "10.5\n",
       "\n",
       "julia> mean([1, missing, 3])\n",
       "missing\n",
       "\n",
       "julia> mean(skipmissing([1, missing, 3]))\n",
       "2.0\n",
       "\\end{verbatim}\n",
       "\\rule{\\textwidth}{1pt}\n",
       "\\begin{verbatim}\n",
       "mean(f, itr)\n",
       "\\end{verbatim}\n",
       "Apply the function \\texttt{f} to each element of collection \\texttt{itr} and take the mean.\n",
       "\n",
       "\\begin{verbatim}\n",
       "julia> using Statistics\n",
       "\n",
       "julia> mean(√, [1, 2, 3])\n",
       "1.3820881233139908\n",
       "\n",
       "julia> mean([√1, √2, √3])\n",
       "1.3820881233139908\n",
       "\\end{verbatim}\n",
       "\\rule{\\textwidth}{1pt}\n",
       "\\begin{verbatim}\n",
       "mean(f, A::AbstractArray; dims)\n",
       "\\end{verbatim}\n",
       "Apply the function \\texttt{f} to each element of array \\texttt{A} and take the mean over dimensions \\texttt{dims}.\n",
       "\n",
       "\\begin{quote}\n",
       "\\textbf{compat}\n",
       "\n",
       "Julia 1.3\n",
       "\n",
       "This method requires at least Julia 1.3.\n",
       "\n",
       "\\end{quote}\n",
       "\\begin{verbatim}\n",
       "julia> using Statistics\n",
       "\n",
       "julia> mean(√, [1, 2, 3])\n",
       "1.3820881233139908\n",
       "\n",
       "julia> mean([√1, √2, √3])\n",
       "1.3820881233139908\n",
       "\n",
       "julia> mean(√, [1 2 3; 4 5 6], dims=2)\n",
       "2×1 Matrix{Float64}:\n",
       " 1.3820881233139908\n",
       " 2.2285192400943226\n",
       "\\end{verbatim}\n",
       "\\rule{\\textwidth}{1pt}\n",
       "\\begin{verbatim}\n",
       "mean(A::AbstractArray; dims)\n",
       "\\end{verbatim}\n",
       "Compute the mean of an array over the given dimensions.\n",
       "\n",
       "\\begin{quote}\n",
       "\\textbf{compat}\n",
       "\n",
       "Julia 1.1\n",
       "\n",
       "\\texttt{mean} for empty arrays requires at least Julia 1.1.\n",
       "\n",
       "\\end{quote}\n",
       "\\section{Examples}\n",
       "\\begin{verbatim}\n",
       "julia> using Statistics\n",
       "\n",
       "julia> A = [1 2; 3 4]\n",
       "2×2 Matrix{Int64}:\n",
       " 1  2\n",
       " 3  4\n",
       "\n",
       "julia> mean(A, dims=1)\n",
       "1×2 Matrix{Float64}:\n",
       " 2.0  3.0\n",
       "\n",
       "julia> mean(A, dims=2)\n",
       "2×1 Matrix{Float64}:\n",
       " 1.5\n",
       " 3.5\n",
       "\\end{verbatim}\n"
      ],
      "text/markdown": [
       "```\n",
       "mean(itr)\n",
       "```\n",
       "\n",
       "Compute the mean of all elements in a collection.\n",
       "\n",
       "!!! note\n",
       "    If `itr` contains `NaN` or [`missing`](@ref) values, the result is also `NaN` or `missing` (`missing` takes precedence if array contains both). Use the [`skipmissing`](@ref) function to omit `missing` entries and compute the mean of non-missing values.\n",
       "\n",
       "\n",
       "# Examples\n",
       "\n",
       "```jldoctest\n",
       "julia> using Statistics\n",
       "\n",
       "julia> mean(1:20)\n",
       "10.5\n",
       "\n",
       "julia> mean([1, missing, 3])\n",
       "missing\n",
       "\n",
       "julia> mean(skipmissing([1, missing, 3]))\n",
       "2.0\n",
       "```\n",
       "\n",
       "---\n",
       "\n",
       "```\n",
       "mean(f, itr)\n",
       "```\n",
       "\n",
       "Apply the function `f` to each element of collection `itr` and take the mean.\n",
       "\n",
       "```jldoctest\n",
       "julia> using Statistics\n",
       "\n",
       "julia> mean(√, [1, 2, 3])\n",
       "1.3820881233139908\n",
       "\n",
       "julia> mean([√1, √2, √3])\n",
       "1.3820881233139908\n",
       "```\n",
       "\n",
       "---\n",
       "\n",
       "```\n",
       "mean(f, A::AbstractArray; dims)\n",
       "```\n",
       "\n",
       "Apply the function `f` to each element of array `A` and take the mean over dimensions `dims`.\n",
       "\n",
       "!!! compat \"Julia 1.3\"\n",
       "    This method requires at least Julia 1.3.\n",
       "\n",
       "\n",
       "```jldoctest\n",
       "julia> using Statistics\n",
       "\n",
       "julia> mean(√, [1, 2, 3])\n",
       "1.3820881233139908\n",
       "\n",
       "julia> mean([√1, √2, √3])\n",
       "1.3820881233139908\n",
       "\n",
       "julia> mean(√, [1 2 3; 4 5 6], dims=2)\n",
       "2×1 Matrix{Float64}:\n",
       " 1.3820881233139908\n",
       " 2.2285192400943226\n",
       "```\n",
       "\n",
       "---\n",
       "\n",
       "```\n",
       "mean(A::AbstractArray; dims)\n",
       "```\n",
       "\n",
       "Compute the mean of an array over the given dimensions.\n",
       "\n",
       "!!! compat \"Julia 1.1\"\n",
       "    `mean` for empty arrays requires at least Julia 1.1.\n",
       "\n",
       "\n",
       "# Examples\n",
       "\n",
       "```jldoctest\n",
       "julia> using Statistics\n",
       "\n",
       "julia> A = [1 2; 3 4]\n",
       "2×2 Matrix{Int64}:\n",
       " 1  2\n",
       " 3  4\n",
       "\n",
       "julia> mean(A, dims=1)\n",
       "1×2 Matrix{Float64}:\n",
       " 2.0  3.0\n",
       "\n",
       "julia> mean(A, dims=2)\n",
       "2×1 Matrix{Float64}:\n",
       " 1.5\n",
       " 3.5\n",
       "```\n"
      ],
      "text/plain": [
       "\u001b[36m  mean(itr)\u001b[39m\n",
       "\n",
       "  Compute the mean of all elements in a collection.\n",
       "\n",
       "\u001b[36m\u001b[1m  │ \u001b[22m\u001b[39m\u001b[36m\u001b[1mNote\u001b[22m\u001b[39m\n",
       "\u001b[36m\u001b[1m  │\u001b[22m\u001b[39m\n",
       "\u001b[36m\u001b[1m  │\u001b[22m\u001b[39m  If \u001b[36mitr\u001b[39m contains \u001b[36mNaN\u001b[39m or \u001b[36mmissing\u001b[39m values, the result is also \u001b[36mNaN\u001b[39m or\n",
       "\u001b[36m\u001b[1m  │\u001b[22m\u001b[39m  \u001b[36mmissing\u001b[39m (\u001b[36mmissing\u001b[39m takes precedence if array contains both). Use the\n",
       "\u001b[36m\u001b[1m  │\u001b[22m\u001b[39m  \u001b[36mskipmissing\u001b[39m function to omit \u001b[36mmissing\u001b[39m entries and compute the mean\n",
       "\u001b[36m\u001b[1m  │\u001b[22m\u001b[39m  of non-missing values.\n",
       "\n",
       "\u001b[1m  Examples\u001b[22m\n",
       "\u001b[1m  ≡≡≡≡≡≡≡≡\u001b[22m\n",
       "\n",
       "\u001b[36m  julia> using Statistics\u001b[39m\n",
       "\u001b[36m  \u001b[39m\n",
       "\u001b[36m  julia> mean(1:20)\u001b[39m\n",
       "\u001b[36m  10.5\u001b[39m\n",
       "\u001b[36m  \u001b[39m\n",
       "\u001b[36m  julia> mean([1, missing, 3])\u001b[39m\n",
       "\u001b[36m  missing\u001b[39m\n",
       "\u001b[36m  \u001b[39m\n",
       "\u001b[36m  julia> mean(skipmissing([1, missing, 3]))\u001b[39m\n",
       "\u001b[36m  2.0\u001b[39m\n",
       "\n",
       "  ────────────────────────────────────────────────────────────────────────────\n",
       "\n",
       "\u001b[36m  mean(f, itr)\u001b[39m\n",
       "\n",
       "  Apply the function \u001b[36mf\u001b[39m to each element of collection \u001b[36mitr\u001b[39m and take the mean.\n",
       "\n",
       "\u001b[36m  julia> using Statistics\u001b[39m\n",
       "\u001b[36m  \u001b[39m\n",
       "\u001b[36m  julia> mean(√, [1, 2, 3])\u001b[39m\n",
       "\u001b[36m  1.3820881233139908\u001b[39m\n",
       "\u001b[36m  \u001b[39m\n",
       "\u001b[36m  julia> mean([√1, √2, √3])\u001b[39m\n",
       "\u001b[36m  1.3820881233139908\u001b[39m\n",
       "\n",
       "  ────────────────────────────────────────────────────────────────────────────\n",
       "\n",
       "\u001b[36m  mean(f, A::AbstractArray; dims)\u001b[39m\n",
       "\n",
       "  Apply the function \u001b[36mf\u001b[39m to each element of array \u001b[36mA\u001b[39m and take the mean over\n",
       "  dimensions \u001b[36mdims\u001b[39m.\n",
       "\n",
       "\u001b[39m\u001b[1m  │ \u001b[22m\u001b[39m\u001b[1mJulia 1.3\u001b[22m\n",
       "\u001b[39m\u001b[1m  │\u001b[22m\n",
       "\u001b[39m\u001b[1m  │\u001b[22m  This method requires at least Julia 1.3.\n",
       "\n",
       "\u001b[36m  julia> using Statistics\u001b[39m\n",
       "\u001b[36m  \u001b[39m\n",
       "\u001b[36m  julia> mean(√, [1, 2, 3])\u001b[39m\n",
       "\u001b[36m  1.3820881233139908\u001b[39m\n",
       "\u001b[36m  \u001b[39m\n",
       "\u001b[36m  julia> mean([√1, √2, √3])\u001b[39m\n",
       "\u001b[36m  1.3820881233139908\u001b[39m\n",
       "\u001b[36m  \u001b[39m\n",
       "\u001b[36m  julia> mean(√, [1 2 3; 4 5 6], dims=2)\u001b[39m\n",
       "\u001b[36m  2×1 Matrix{Float64}:\u001b[39m\n",
       "\u001b[36m   1.3820881233139908\u001b[39m\n",
       "\u001b[36m   2.2285192400943226\u001b[39m\n",
       "\n",
       "  ────────────────────────────────────────────────────────────────────────────\n",
       "\n",
       "\u001b[36m  mean(A::AbstractArray; dims)\u001b[39m\n",
       "\n",
       "  Compute the mean of an array over the given dimensions.\n",
       "\n",
       "\u001b[39m\u001b[1m  │ \u001b[22m\u001b[39m\u001b[1mJulia 1.1\u001b[22m\n",
       "\u001b[39m\u001b[1m  │\u001b[22m\n",
       "\u001b[39m\u001b[1m  │\u001b[22m  \u001b[36mmean\u001b[39m for empty arrays requires at least Julia 1.1.\n",
       "\n",
       "\u001b[1m  Examples\u001b[22m\n",
       "\u001b[1m  ≡≡≡≡≡≡≡≡\u001b[22m\n",
       "\n",
       "\u001b[36m  julia> using Statistics\u001b[39m\n",
       "\u001b[36m  \u001b[39m\n",
       "\u001b[36m  julia> A = [1 2; 3 4]\u001b[39m\n",
       "\u001b[36m  2×2 Matrix{Int64}:\u001b[39m\n",
       "\u001b[36m   1  2\u001b[39m\n",
       "\u001b[36m   3  4\u001b[39m\n",
       "\u001b[36m  \u001b[39m\n",
       "\u001b[36m  julia> mean(A, dims=1)\u001b[39m\n",
       "\u001b[36m  1×2 Matrix{Float64}:\u001b[39m\n",
       "\u001b[36m   2.0  3.0\u001b[39m\n",
       "\u001b[36m  \u001b[39m\n",
       "\u001b[36m  julia> mean(A, dims=2)\u001b[39m\n",
       "\u001b[36m  2×1 Matrix{Float64}:\u001b[39m\n",
       "\u001b[36m   1.5\u001b[39m\n",
       "\u001b[36m   3.5\u001b[39m"
      ]
     },
     "execution_count": 54,
     "metadata": {},
     "output_type": "execute_result"
    }
   ],
   "source": [
    "?mean"
   ]
  },
  {
   "cell_type": "markdown",
   "metadata": {},
   "source": [
    "# The file system\n",
    "\n",
    "* On every current operating system, files are organized in a tree of directories starting from a root directory\n",
    "* The absolute path of a directory or file defines which directories to follow starting from the root directory to the given directory or file\n",
    "* In Linux/UNIX/Max OS X, files and directory names are separated by a forwardslash (`/`), on Windows by a backslash (`\\` or `\\\\` if escaped) (but forwardslashes are allowed too)\n",
    "* In order to avoid to deal with long path names, every program has a current working directory\n",
    "* The current working directory from Julia can be queried with the command `pwd()`.\n",
    "* The relative path of a directory or file defines which directories to follow starting from the current directory to the given directory or file\n",
    "* In relative path, two dots (`..`) represent the parent directory.\n",
    "* To change the current directory, you can use the command `cd`. For Linux and Mac OS X:\n",
    "\n",
    "```julia\n",
    "cd(\"/home/MyDir\")\n",
    "``` \n",
    "\n",
    "Under Windows you need to you the following:\n",
    "\n",
    "```julia\n",
    "cd(\"C:\\\\Users\\\\MyDir\")\n",
    "```\n",
    "\n",
    "Note that here two backslashes are necessary ([why?](https://stackoverflow.com/questions/28328052/why-do-i-have-to-use-double-backslashes-for-file-paths-in-code))."
   ]
  },
  {
   "cell_type": "markdown",
   "metadata": {},
   "source": [
    "## NetCDF format\n",
    "The reading/write of netCDF files is done using the [`NCDatasets`](https://github.com/Alexander-Barth/NCDatasets.jl) module, which is automatically installed with `DIVAnd`.      \n",
    "You will find more information in the notebook [03-netCDF](03-netCDF.ipynb).\n",
    "\n",
    "* Reading a variable called `var`  from a netCDF file\n",
    "\n",
    "```julia\n",
    "using NCDatasets\n",
    "ds = Dataset(\"file.nc\")\n",
    "data = ds[\"var\"][:];\n",
    "close(ds)\n",
    "```"
   ]
  },
  {
   "cell_type": "markdown",
   "metadata": {},
   "source": [
    "* Writing a variable called `var` data to a netCDF file\n",
    "\n",
    "```julia\n",
    "ds = Dataset(\"file.nc\",\"c\")\n",
    "\n",
    "# Define the dimension \"lon\" and \"lat\" with the size 100 and 110 resp.\n",
    "defDim(ds,\"lon\",100)\n",
    "defDim(ds,\"lat\",110)\n",
    "\n",
    "\n",
    "# Define the variables temperature and salinity\n",
    "v = defVar(ds,\"temperature\",Float32,(\"lon\",\"lat\"))\n",
    "# write a the complete data set\n",
    "v[:,:] = data\n",
    "close(ds)\n",
    "```"
   ]
  },
  {
   "cell_type": "markdown",
   "metadata": {},
   "source": [
    "# Scripts\n",
    "\n",
    "A script is a series of commands that can be collected in a script file.    \n",
    "A script file has the extension `.jl`.\n",
    "\n",
    "How can Julia find your script file?     \n",
    "* it must be either in your current work directory\n",
    "* the directory containing the script file must be added to the search path using `LOAD_PATH`. For example\n",
    "\n",
    "```julia\n",
    "push!(LOAD_PATH,\"/some/path\")\n",
    "```\n",
    "\n",
    "The code in a script is executed when using [`include`](https://docs.julialang.org/en/stable/base/base/#Base.include), which evaluates the contents of the input source file:\n",
    "\n",
    "```julia-repl\n",
    "include(\"filename.jl\")\n",
    "```"
   ]
  },
  {
   "cell_type": "markdown",
   "metadata": {},
   "source": [
    "# Functions\n",
    "\n",
    "Functions are similar to scripts.     \n",
    "Unlike scripts, functions can have input/output parameters.    \n",
    "For example a function calculating the speed of ocean current based on the zonal and meridional component"
   ]
  },
  {
   "cell_type": "code",
   "execution_count": 55,
   "metadata": {},
   "outputs": [
    {
     "data": {
      "text/plain": [
       "current_speed (generic function with 1 method)"
      ]
     },
     "execution_count": 55,
     "metadata": {},
     "output_type": "execute_result"
    }
   ],
   "source": [
    "function current_speed(u,v)\n",
    "   speed = sqrt(u^2 + v^2)\n",
    "   return speed\n",
    "end"
   ]
  },
  {
   "cell_type": "code",
   "execution_count": 56,
   "metadata": {},
   "outputs": [
    {
     "data": {
      "text/plain": [
       "7.0710678118654755"
      ]
     },
     "execution_count": 56,
     "metadata": {},
     "output_type": "execute_result"
    }
   ],
   "source": [
    "speed2 = current_speed(5,5)"
   ]
  },
  {
   "cell_type": "markdown",
   "metadata": {},
   "source": [
    "Another example of function: we compute naively the number of days without rain:"
   ]
  },
  {
   "cell_type": "code",
   "execution_count": 57,
   "metadata": {},
   "outputs": [
    {
     "data": {
      "text/plain": [
       "dayswithoutrain (generic function with 1 method)"
      ]
     },
     "execution_count": 57,
     "metadata": {},
     "output_type": "execute_result"
    }
   ],
   "source": [
    "function dayswithoutrain(P)\n",
    "    #....\n",
    "    days = 0\n",
    "    for i = 1 : length(P)\n",
    "        # do something with i\n",
    "        if P[i] == 0\n",
    "            # count\n",
    "            days = days+1\n",
    "        end\n",
    "        @show days\n",
    "    end    \n",
    "    return days\n",
    "    \n",
    "    # Note: what comes after the `return` is not exectuted\n",
    "    print(\"The function has already finished\")\n",
    "end"
   ]
  },
  {
   "cell_type": "code",
   "execution_count": 58,
   "metadata": {},
   "outputs": [
    {
     "name": "stdout",
     "output_type": "stream",
     "text": [
      "days = 1\n",
      "days = 2\n",
      "days = 3\n",
      "days = 3\n",
      "days = 3\n",
      "days = 3\n",
      "days = 3\n",
      "days = 4\n",
      "days = 5\n"
     ]
    },
    {
     "data": {
      "text/plain": [
       "5"
      ]
     },
     "execution_count": 58,
     "metadata": {},
     "output_type": "execute_result"
    }
   ],
   "source": [
    "P = [0,0,0,3,4,5,3,0,0]\n",
    "days = dayswithoutrain(P)    "
   ]
  },
  {
   "cell_type": "markdown",
   "metadata": {},
   "source": [
    "## Multiple dispatch\n",
    "In Julia you can easily create a function that behaves differently, according to the type of input. Concretely, this is done by specifying the type of each input, using the `::` notation after the name of the function argument.    \n",
    "Let's see with a very simple example that works on Strings but also on Floats."
   ]
  },
  {
   "cell_type": "code",
   "execution_count": 59,
   "metadata": {},
   "outputs": [
    {
     "data": {
      "text/plain": [
       "twice (generic function with 2 methods)"
      ]
     },
     "execution_count": 59,
     "metadata": {},
     "output_type": "execute_result"
    }
   ],
   "source": [
    "function twice(word::String)\n",
    "    return word * \" \" * word\n",
    "end\n",
    "function twice(aaa::Float64)\n",
    "    return 2. * aaa\n",
    "end"
   ]
  },
  {
   "cell_type": "markdown",
   "metadata": {},
   "source": [
    "The output of the previous cell shows that the function has 2 methods (according to the type of input)."
   ]
  },
  {
   "cell_type": "code",
   "execution_count": 60,
   "metadata": {},
   "outputs": [
    {
     "ename": "LoadError",
     "evalue": "MethodError: no method matching twice(::Irrational{:π})\n\n\u001b[0mClosest candidates are:\n\u001b[0m  twice(\u001b[91m::Float64\u001b[39m)\n\u001b[0m\u001b[90m   @\u001b[39m \u001b[35mMain\u001b[39m \u001b[90m\u001b[4mIn[59]:4\u001b[24m\u001b[39m\n\u001b[0m  twice(\u001b[91m::String\u001b[39m)\n\u001b[0m\u001b[90m   @\u001b[39m \u001b[35mMain\u001b[39m \u001b[90m\u001b[4mIn[59]:1\u001b[24m\u001b[39m\n",
     "output_type": "error",
     "traceback": [
      "MethodError: no method matching twice(::Irrational{:π})\n\n\u001b[0mClosest candidates are:\n\u001b[0m  twice(\u001b[91m::Float64\u001b[39m)\n\u001b[0m\u001b[90m   @\u001b[39m \u001b[35mMain\u001b[39m \u001b[90m\u001b[4mIn[59]:4\u001b[24m\u001b[39m\n\u001b[0m  twice(\u001b[91m::String\u001b[39m)\n\u001b[0m\u001b[90m   @\u001b[39m \u001b[35mMain\u001b[39m \u001b[90m\u001b[4mIn[59]:1\u001b[24m\u001b[39m\n",
      "",
      "Stacktrace:",
      " [1] top-level scope",
      "   @ In[60]:1"
     ]
    }
   ],
   "source": [
    "twice(\"bonjour\"), twice(pi)"
   ]
  },
  {
   "cell_type": "markdown",
   "metadata": {},
   "source": [
    "# Modules\n",
    "\n",
    "Functions can be grouped into a module.      \n",
    "The documentation describing how to create a module can be found at https://pkgdocs.julialang.org/v1/creating-packages/.\n",
    "\n",
    "\n",
    "## Update module list\n",
    "\n",
    "Before installing a module is it recommended to update the module list to ensure that the latest version of a module will be installed.\n",
    "\n",
    "```julia\n",
    "using Pkg\n",
    "Pkg.update()\n",
    "```\n",
    "\n",
    "## Installation of modules\n",
    "\n",
    "Packages can be install by using `Pkg.add` or by using the  Pkg REPL-mode entered from the Julia REPL using the key `]` (https://docs.julialang.org/en/stable/stdlib/Pkg/#Getting-Started-1).     \n",
    "To install the package `DIVAnd` one should use for example:\n",
    "\n",
    "```julia\n",
    "using Pkg\n",
    "Pkg.add(\"DIVAnd\")\n",
    "```\n",
    "\n",
    "<div class=\"alert alert-block alert-info\">\n",
    "ℹ️ For some packages, one might need to follow specific installation instructions, which are usually available in the documentation of the corresponding package.\n",
    "</div>\n"
   ]
  },
  {
   "cell_type": "markdown",
   "metadata": {},
   "source": [
    "Module can also be installed directly from a repository:\n",
    "```julia\n",
    "Pkg.add(\"https://github.com/gher-uliege/DIVAnd.jl\")\n",
    "```\n",
    "\n",
    "A module can be upgraded with:\n",
    "```julia\n",
    "using Pkg\n",
    "Pkg.update(\"DIVAnd\")\n",
    "```\n",
    "\n",
    "A no-longer used module can be removed with \n",
    "```julia\n",
    "Pkg.rm(\"ModuleName\")\n",
    "```\n",
    "\n",
    "The list of available packages is obtained as follows:\n",
    "\n",
    "```julia\n",
    "Pkg.status()\n",
    "```"
   ]
  },
  {
   "cell_type": "markdown",
   "metadata": {},
   "source": [
    "## Using modules\n",
    "\n",
    "To access a function (e.g. the function `diva3d`) inside a module (e.g. `DIVAnd`), one needs to load the module with `using`. The following loads the module `DIVAnd`:\n",
    "\n",
    "```julia\n",
    "using DIVAnd\n",
    "```\n",
    "\n",
    "Now the function `diva3d` can be called."
   ]
  },
  {
   "cell_type": "markdown",
   "metadata": {},
   "source": [
    "# Dates\n",
    "The [`Dates`](https://docs.julialang.org/en/v1/stdlib/Dates/index.html) module provides several functions to deal with date and time."
   ]
  },
  {
   "cell_type": "code",
   "execution_count": 62,
   "metadata": {},
   "outputs": [],
   "source": [
    "using Dates"
   ]
  },
  {
   "cell_type": "markdown",
   "metadata": {},
   "source": [
    "## The DateTime and Date objects\n",
    "Julia has a structure called `DateTime` to represent a date and time."
   ]
  },
  {
   "cell_type": "code",
   "execution_count": 63,
   "metadata": {},
   "outputs": [
    {
     "data": {
      "text/plain": [
       "1999-12-31T23:59:59"
      ]
     },
     "execution_count": 63,
     "metadata": {},
     "output_type": "execute_result"
    }
   ],
   "source": [
    "lastsecond = Dates.DateTime(1999,12,31,23,59,59)"
   ]
  },
  {
   "cell_type": "code",
   "execution_count": 64,
   "metadata": {},
   "outputs": [
    {
     "name": "stdout",
     "output_type": "stream",
     "text": [
      "Today = Date(\"2024-09-13\")\n",
      "typeof(Today) = Date\n"
     ]
    }
   ],
   "source": [
    "Today = Dates.today()\n",
    "@show(Today, typeof(Today));"
   ]
  },
  {
   "cell_type": "markdown",
   "metadata": {},
   "source": [
    "The difference between two `DateTime` objects returns a structure representing the number of milliseconds."
   ]
  },
  {
   "cell_type": "code",
   "execution_count": 65,
   "metadata": {},
   "outputs": [
    {
     "data": {
      "text/plain": [
       "31622400000 milliseconds"
      ]
     },
     "execution_count": 65,
     "metadata": {},
     "output_type": "execute_result"
    }
   ],
   "source": [
    "dt = Dates.DateTime(2001,1,1) - Dates.DateTime(2000,1,1)"
   ]
  },
  {
   "cell_type": "code",
   "execution_count": 66,
   "metadata": {},
   "outputs": [
    {
     "name": "stdout",
     "output_type": "stream",
     "text": [
      "typeof(dt) = Millisecond\n"
     ]
    },
    {
     "data": {
      "text/plain": [
       "Millisecond"
      ]
     },
     "execution_count": 66,
     "metadata": {},
     "output_type": "execute_result"
    }
   ],
   "source": [
    "@show typeof(dt)"
   ]
  },
  {
   "cell_type": "markdown",
   "metadata": {},
   "source": [
    "The time difference can be converted into days:"
   ]
  },
  {
   "cell_type": "code",
   "execution_count": 67,
   "metadata": {},
   "outputs": [
    {
     "data": {
      "text/plain": [
       "366 days"
      ]
     },
     "execution_count": 67,
     "metadata": {},
     "output_type": "execute_result"
    }
   ],
   "source": [
    "Dates.Day(Dates.DateTime(2001,1,1) - Dates.DateTime(2000,1,1))"
   ]
  },
  {
   "cell_type": "markdown",
   "metadata": {},
   "source": [
    "One can also add a duration to a date:"
   ]
  },
  {
   "cell_type": "code",
   "execution_count": 68,
   "metadata": {},
   "outputs": [
    {
     "data": {
      "text/plain": [
       "(DateTime(\"2001-01-01T00:00:00\"), DateTime(\"2000-03-01T00:00:00\"))"
      ]
     },
     "execution_count": 68,
     "metadata": {},
     "output_type": "execute_result"
    }
   ],
   "source": [
    "Dates.DateTime(2000,1,1) + Dates.Day(366), Dates.DateTime(2000,1,1) + Dates.Month(2)"
   ]
  },
  {
   "cell_type": "markdown",
   "metadata": {},
   "source": [
    "Compute number of days before or after `now()`:"
   ]
  },
  {
   "cell_type": "code",
   "execution_count": 69,
   "metadata": {},
   "outputs": [
    {
     "data": {
      "text/plain": [
       "-2198.6053304976854"
      ]
     },
     "execution_count": 69,
     "metadata": {},
     "output_type": "execute_result"
    }
   ],
   "source": [
    "Dates.value(Dates.DateTime(2018,9,7) - Dates.now()) / 1000 / 60 / 60 / 24"
   ]
  },
  {
   "cell_type": "code",
   "execution_count": 70,
   "metadata": {},
   "outputs": [
    {
     "data": {
      "text/plain": [
       "-2563.605330902778"
      ]
     },
     "execution_count": 70,
     "metadata": {},
     "output_type": "execute_result"
    }
   ],
   "source": [
    "Dates.value(Dates.DateTime(2017,9,7) - Dates.now()) /(24*60*60*1000)"
   ]
  },
  {
   "cell_type": "markdown",
   "metadata": {},
   "source": [
    "**Exercice:**     \n",
    "Compute in how many days is your next birthday using the previous functions."
   ]
  },
  {
   "cell_type": "markdown",
   "metadata": {},
   "source": [
    "# Control Flow\n",
    "## Loops\n",
    "Let your computer do repetitive tasks!      \n",
    "Loops have a counter which takes successively all elements of a row vector"
   ]
  },
  {
   "cell_type": "code",
   "execution_count": 71,
   "metadata": {},
   "outputs": [
    {
     "name": "stdout",
     "output_type": "stream",
     "text": [
      "i = 1\n",
      "i = 2\n",
      "i = 10\n",
      "i = 20\n"
     ]
    }
   ],
   "source": [
    "for i = [1 2 10 20]\n",
    "    @show i\n",
    "end"
   ]
  },
  {
   "cell_type": "markdown",
   "metadata": {},
   "source": [
    "Loops are often used with a range of values"
   ]
  },
  {
   "cell_type": "code",
   "execution_count": 72,
   "metadata": {},
   "outputs": [
    {
     "name": "stdout",
     "output_type": "stream",
     "text": [
      "i = 1\n",
      "i = 2\n",
      "i = 3\n",
      "i = 4\n",
      "i = 5\n"
     ]
    }
   ],
   "source": [
    "for i = 1:5\n",
    "    @show i\n",
    "end"
   ]
  },
  {
   "cell_type": "markdown",
   "metadata": {},
   "source": [
    "Explicit loops can sometimes be avoided,     \n",
    "for example, sum all integer from 1 to 10"
   ]
  },
  {
   "cell_type": "code",
   "execution_count": 73,
   "metadata": {},
   "outputs": [
    {
     "data": {
      "text/plain": [
       "55"
      ]
     },
     "execution_count": 73,
     "metadata": {},
     "output_type": "execute_result"
    }
   ],
   "source": [
    "total = 0;\n",
    "for i = 1:10\n",
    "   total = total + i;\n",
    "end\n",
    "total"
   ]
  },
  {
   "cell_type": "markdown",
   "metadata": {},
   "source": [
    "Can simply be computed as `sum(1:10)`."
   ]
  },
  {
   "cell_type": "markdown",
   "metadata": {},
   "source": [
    "### Enumerate\n",
    "When you want to loop over a list (containing strings for example) and need to count at the same time, you can use `enumerate`: "
   ]
  },
  {
   "cell_type": "code",
   "execution_count": 74,
   "metadata": {},
   "outputs": [
    {
     "name": "stdout",
     "output_type": "stream",
     "text": [
      "Planet #1: Mercury\n",
      "Planet #2: Venus\n",
      "Planet #3: Earth\n",
      "Planet #4: Mars\n",
      "Planet #5: Jupiter\n",
      "Planet #6: Saturn\n",
      "Planet #7: Uranus\n",
      "Planet #8: Neptune\n"
     ]
    }
   ],
   "source": [
    "planets = [\"Mercury\", \"Venus\", \"Earth\", \"Mars\", \"Jupiter\", \"Saturn\", \"Uranus\", \"Neptune\"]\n",
    "for (pindex, planetname) in enumerate(planets)\n",
    "    println(\"Planet #$(pindex): $(planetname)\")\n",
    "end"
   ]
  },
  {
   "cell_type": "markdown",
   "metadata": {},
   "source": [
    "### Loop over dictionaries"
   ]
  },
  {
   "cell_type": "code",
   "execution_count": 75,
   "metadata": {},
   "outputs": [
    {
     "name": "stdout",
     "output_type": "stream",
     "text": [
      "The capital of Somalia is Mogadishu\n",
      "The capital of Afghanistan is Kabul\n",
      "The capital of Japan is Tokyo\n",
      "The capital of Cyprus is Nicosia\n"
     ]
    }
   ],
   "source": [
    "capitals = Dict(\"Japan\" => \"Tokyo\", \"Afghanistan\" => \"Kabul\", \"Cyprus\" => \"Nicosia\", \"Somalia\" => \"Mogadishu\")\n",
    "\n",
    "for (country, capital) in capitals\n",
    "    println(\"The capital of $(country) is $(capital)\")\n",
    "end"
   ]
  },
  {
   "cell_type": "markdown",
   "metadata": {},
   "source": [
    "If you need to loop over the keys only:"
   ]
  },
  {
   "cell_type": "code",
   "execution_count": 76,
   "metadata": {},
   "outputs": [
    {
     "name": "stdout",
     "output_type": "stream",
     "text": [
      "Somalia\n",
      "Afghanistan\n",
      "Japan\n",
      "Cyprus\n"
     ]
    }
   ],
   "source": [
    "for country in keys(capitals)\n",
    "    println(country)\n",
    "end"
   ]
  },
  {
   "cell_type": "markdown",
   "metadata": {},
   "source": [
    "## if-statement\n",
    "\n",
    "It is used when your code needs to behave differently depending on some conditions.       \n",
    "It has the following structure.\n",
    "\n",
    "```julia\n",
    "if some_conditions\n",
    "  # do something\n",
    "else\n",
    "  # do something else\n",
    "end\n",
    "```\n",
    "The else section can be omitted.\n",
    "\n",
    "For example.\n",
    "\n",
    "```julia\n",
    "if x < 0\n",
    "   x = -x;\n",
    "end\n",
    "```\n",
    "\n",
    "__Quiz:__ Which Julia function implements the last code example?"
   ]
  },
  {
   "cell_type": "code",
   "execution_count": 77,
   "metadata": {},
   "outputs": [
    {
     "name": "stdout",
     "output_type": "stream",
     "text": [
      "Have a nice weekend"
     ]
    }
   ],
   "source": [
    "if Dates.dayname(Dates.dayofweek(Dates.today())) == \"Friday\"\n",
    "   print(\"Have a nice weekend\") \n",
    "end"
   ]
  },
  {
   "cell_type": "markdown",
   "metadata": {},
   "source": [
    "### Ternary operator\n",
    "If statement can also be written in one line using the `?` operator:"
   ]
  },
  {
   "cell_type": "code",
   "execution_count": 79,
   "metadata": {},
   "outputs": [
    {
     "name": "stderr",
     "output_type": "stream",
     "text": [
      "\u001b[36m\u001b[1m[ \u001b[22m\u001b[39m\u001b[36m\u001b[1mInfo: \u001b[22m\u001b[39mThe data directory exists\n"
     ]
    }
   ],
   "source": [
    "isdir(\"../data/\") ? @info(\"The data directory exists\") : @warn(\"No data directory\")"
   ]
  },
  {
   "cell_type": "code",
   "execution_count": null,
   "metadata": {},
   "outputs": [],
   "source": []
  }
 ],
 "metadata": {
  "@webio": {
   "lastCommId": null,
   "lastKernelId": null
  },
  "kernelspec": {
   "display_name": "Julia 1.11.2",
   "language": "julia",
   "name": "julia-1.11"
  },
  "language_info": {
   "file_extension": ".jl",
   "mimetype": "application/julia",
   "name": "julia",
   "version": "1.11.2"
  },
  "toc": {
   "base_numbering": 1,
   "nav_menu": {},
   "number_sections": true,
   "sideBar": true,
   "skip_h1_title": false,
   "title_cell": "Table of Contents",
   "title_sidebar": "Contents",
   "toc_cell": false,
   "toc_position": {},
   "toc_section_display": true,
   "toc_window_display": false
  }
 },
 "nbformat": 4,
 "nbformat_minor": 4
}
