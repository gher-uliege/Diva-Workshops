{
 "cells": [
  {
   "cell_type": "markdown",
   "metadata": {},
   "source": [
    "# Introduction to Julia\n",
    "\n",
    "[`Julia`](https://julialang.org/) is a high-level programming language for technical computing, which allows you to manipulate and analyse large data sets.\n",
    "* The manual: https://docs.julialang.org\n",
    "* Tutorials and books: https://julialang.org/learning/\n",
    "\n",
    "\n",
    "## Why Julia?\n",
    " * Julia is build from the ground for technical computing. \n",
    " * The language is close to the mathematical notation, for example to define a function $f(x) = 2x + 3$ in Julia is (among other possibilities):\n",
    "\n",
    "```julia\n",
    "f(x) = 2x + 3\n",
    "```\n",
    "  \n",
    " * It is free and open-source software.\n",
    " * The code is compiled to machine code and loops can be as fast as in other compiled languages (like Fortran or C).\n",
    "\n",
    "## Installation\n",
    "\n",
    "1. Go to http://julialang.org/downloads/ and follow the instructions.\n",
    "2. Install one editor with support for Julia, such as \n",
    "- [Visual Studio Code](https://code.visualstudio.com/),  \n",
    "- notepad++, \n",
    "- emacs... \n",
    "- or even vim.\n",
    "\n",
    "### Notes\n",
    "- The `Juno` editor, previously suggested in this notebook, will not be updated anymore, since development focus has shifted to the Julia extension for `VSCode`.\n",
    "- Recent versions of the installation procudure recommend to use [`Juliaup`](https://github.com/JuliaLang/juliaup), which is a Rust-based Julia version manager."
   ]
  },
  {
   "cell_type": "markdown",
   "metadata": {},
   "source": [
    "## Ways to run Julia\n",
    "\n",
    "### Command line\n",
    "\n",
    "Start a Julia session by typing `Julia` in a terminal. You will get the following screen (with possibly another Julia version):\n",
    "```julia-repl\n",
    "               _\n",
    "   _       _ _(_)_     |  Documentation: https://docs.julialang.org\n",
    "  (_)     | (_) (_)    |\n",
    "   _ _   _| |_  __ _   |  Type \"?\" for help, \"]?\" for Pkg help.\n",
    "  | | | | | | |/ _` |  |\n",
    "  | | |_| | | | (_| |  |  Version 1.11.2 (2024-12-01)\n",
    " _/ |\\__'_|_|_|\\__'_|  |  Official https://julialang.org/ release\n",
    "|__/                   |\n",
    "\n",
    "julia> \n",
    "```\n",
    "\n",
    "Tips:\n",
    "* Use the `Tab` key to complete file, variable and function names\n",
    "* `Up` and `down arrows` key to repeat a previously entered command\n",
    "* `Control-R` to search a command\n",
    "* On Windows enable \"[quick edit](https://www.tekrevue.com/tip/boost-productivity-quickedit-mode-windows-command-prompt/)\" for easier copy and pasting"
   ]
  },
  {
   "cell_type": "markdown",
   "metadata": {},
   "source": [
    "### Jupyter notebook (web-browser)\n",
    "\n",
    "* Web-interface for Julia (among others)\n",
    "* The Julia package `IJulia` which also installs [Jupyter](http://jupyter.org/)\n",
    "* Various [keyboard shortcuts](https://www.cheatography.com/weidadeyue/cheat-sheets/jupyter-notebook/) are defined to be productive with jupyter notebooks\n",
    "* General documentation of [Jupyter Notebooks](http://jupyter-notebook.readthedocs.io)\n",
    "\n",
    "![cmd](Images/julia-jupyter.png)"
   ]
  },
  {
   "cell_type": "markdown",
   "metadata": {},
   "source": [
    "### VSCode\n",
    "\n",
    "* Integrates an editor, command line and documentation browser\n",
    "* The VSCode extension for Julia is available from https://www.julia-vscode.org/, and can also be installed directly using the \"Extensions\" menu.\n",
    "* VSCode also allows users to visualise [Jupyter notebooks](https://code.visualstudio.com/docs/datascience/jupyter-notebooks) directly."
   ]
  },
  {
   "cell_type": "markdown",
   "metadata": {},
   "source": [
    "## Comparison with other languages\n",
    "\n",
    "* [Julia compared to other languages](https://docs.julialang.org/en/v1/#man-julia-compared-other-languages)\n",
    "* [Noteworthy Differences from other Languages](https://docs.julialang.org/en/v1/manual/noteworthy-differences/).\n",
    "\n",
    "Julia is mostly influenced by MATLAB, but there are some significant differences.\n",
    "\n",
    "### Differences from MATLAB\n",
    "\n",
    "* Julia arrays are indexed with square brackets: `A[i,j]`.\n",
    "* Julia arrays are assigned by reference. After `A=B`, changing elements of `B` will modify `A` as well. If you need to copy an array, use `b = copy(a)`.\n",
    "* Julia function parameters are passed and assigned by reference. If a function modifies an array, the changes will be visible in the caller.\n",
    "* A bang (!) indicates if a function that changes one of its argument\n",
    "* In Julia, parentheses must be used to call a function with zero arguments, like in `tic()` and `toc()`.\n",
    "* Julia's single quotes enclose characters, not strings.\n",
    "* Julia does not automatically grow arrays in an assignment statement. \n",
    "* Scope of variables in a loop is local: \n",
    "\n",
    "```julia\n",
    "   for i = 1:10\n",
    "        z = i\n",
    "   end\n",
    "```\n",
    "\n",
    "  will result in undefined z after the loop unless defined before the loop \n",
    "* In MATLAB, ranges are sometimes enclosed with brackets, e.g. `[1:10]`. This is also valid Julia code, but it generates a vector whose single element is a range from 1 to 10. To declare a range in Julia, simply use `1:10` without the brackets.\n",
    "\n",
    "### Differences from Python\n",
    "* Julia requires `end` keyword to end a block (loop, condition, ...).\n",
    "* In Julia, indexing of arrays, strings, etc. is 1-based, not 0-based.\n",
    "* Julia's slice indexing includes the last element, unlike in Python. `a[2:3]` in Julia is `a[1:3]` in Python.\n",
    "* Julia does not support negative indexes. In particular, the last element of a list or array is indexed with `end` in Julia, not `-1` as in Python.\n",
    "\n",
    "[MATLAB–Python–Julia cheatsheet](https://cheatsheets.quantecon.org/)\n",
    "\n",
    "* Julia is compiled\n",
    "   * For loop are fast, but\n",
    "   * Loading modules is slower than in other languages\n",
    "   * Sometimes Julia needs to be restarted (in IJulia the kernel needs to be restarted) when e.g. a module is changed."
   ]
  },
  {
   "cell_type": "markdown",
   "metadata": {},
   "source": [
    "## First steps in Julia\n",
    "### Displaying on screen\n",
    "There are many ways to display the content of a variable on the screen. \n",
    "The main difference between `print` and `println` is that the latter add a newline after the text."
   ]
  },
  {
   "cell_type": "code",
   "execution_count": 2,
   "metadata": {},
   "outputs": [
    {
     "name": "stdout",
     "output_type": "stream",
     "text": [
      "Hello!2256Hello!\n",
      "2256\n"
     ]
    }
   ],
   "source": [
    "mytext = \"Hello!\"\n",
    "mynum = 2256\n",
    "print(mytext)\n",
    "print(mynum)\n",
    "println(mytext)\n",
    "println(mynum)"
   ]
  },
  {
   "cell_type": "markdown",
   "metadata": {},
   "source": [
    "The macro `@show` prints one or more expressions as well as their results:"
   ]
  },
  {
   "cell_type": "code",
   "execution_count": 3,
   "metadata": {},
   "outputs": [
    {
     "name": "stdout",
     "output_type": "stream",
     "text": [
      "mytext = \"Hello!\"\n"
     ]
    }
   ],
   "source": [
    "@show(mytext);"
   ]
  },
  {
   "cell_type": "markdown",
   "metadata": {},
   "source": [
    "It is good practice to use log messages (instead of simple `print`).      \n",
    "Julia defines different levels of message (you will see that the last message doesn't produce any output):"
   ]
  },
  {
   "cell_type": "code",
   "execution_count": 4,
   "metadata": {},
   "outputs": [
    {
     "name": "stderr",
     "output_type": "stream",
     "text": [
      "\u001b[36m\u001b[1m[ \u001b[22m\u001b[39m\u001b[36m\u001b[1mInfo: \u001b[22m\u001b[39mLet's learn Julia\n",
      "\u001b[33m\u001b[1m┌ \u001b[22m\u001b[39m\u001b[33m\u001b[1mWarning: \u001b[22m\u001b[39mThis variable has not been defined\n",
      "\u001b[33m\u001b[1m└ \u001b[22m\u001b[39m\u001b[90m@ Main In[4]:2\u001b[39m\n",
      "\u001b[91m\u001b[1m┌ \u001b[22m\u001b[39m\u001b[91m\u001b[1mError: \u001b[22m\u001b[39mThis is an error\n",
      "\u001b[91m\u001b[1m└ \u001b[22m\u001b[39m\u001b[90m@ Main In[4]:3\u001b[39m\n"
     ]
    }
   ],
   "source": [
    "@info(\"Let's learn Julia\")\n",
    "@warn(\"This variable has not been defined\")\n",
    "@error(\"This is an error\")\n",
    "@debug(\"Only visible for debugging\")"
   ]
  },
  {
   "cell_type": "markdown",
   "metadata": {},
   "source": [
    "### Numbers\n",
    "\n",
    "* Use a dot (.) as decimal separator (e.g. 3.14 and not 3,14)\n",
    "* You can use the scientific notation $a \\times 10^{-b}$ using the e-notation. (e.g. $3 \\times10^{-7}$ becomes 3e-7) \n",
    "* Underscores can be used to improve readability of large numbers\n",
    "* Use Julia as a calculator:"
   ]
  },
  {
   "cell_type": "code",
   "execution_count": 5,
   "metadata": {},
   "outputs": [
    {
     "data": {
      "text/plain": [
       "3.0e-7"
      ]
     },
     "execution_count": 5,
     "metadata": {},
     "output_type": "execute_result"
    }
   ],
   "source": [
    "3e-7"
   ]
  },
  {
   "cell_type": "code",
   "execution_count": 6,
   "metadata": {},
   "outputs": [
    {
     "data": {
      "text/plain": [
       "2.0"
      ]
     },
     "execution_count": 6,
     "metadata": {},
     "output_type": "execute_result"
    }
   ],
   "source": [
    "4 / 2"
   ]
  },
  {
   "cell_type": "code",
   "execution_count": 7,
   "metadata": {},
   "outputs": [
    {
     "data": {
      "text/plain": [
       "true"
      ]
     },
     "execution_count": 7,
     "metadata": {},
     "output_type": "execute_result"
    }
   ],
   "source": [
    "2_000_000 == 2000000"
   ]
  },
  {
   "cell_type": "code",
   "execution_count": 8,
   "metadata": {},
   "outputs": [
    {
     "data": {
      "text/plain": [
       "7.0"
      ]
     },
     "execution_count": 8,
     "metadata": {},
     "output_type": "execute_result"
    }
   ],
   "source": [
    "1 + 3 * 4 / 2"
   ]
  },
  {
   "cell_type": "markdown",
   "metadata": {},
   "source": [
    "The usual operator precedence applies."
   ]
  },
  {
   "cell_type": "markdown",
   "metadata": {},
   "source": [
    "### Useful constants\n",
    "\n",
    "Various constants are also pre-defined:     \n",
    "π: pi (3.141592...)     \n",
    "e: Euler's number (2.7182818...)     \n",
    "im: the imaginary number (im² = -1)     \n",
    "Inf (Infinity, result from e.g. 1/0) and     \n",
    "NaN (Not a Number - result from e.g. 0/0).\n",
    "\n",
    "**Examples:**"
   ]
  },
  {
   "cell_type": "code",
   "execution_count": 9,
   "metadata": {},
   "outputs": [
    {
     "data": {
      "text/plain": [
       "π = 3.1415926535897..."
      ]
     },
     "execution_count": 9,
     "metadata": {},
     "output_type": "execute_result"
    }
   ],
   "source": [
    "π"
   ]
  },
  {
   "cell_type": "markdown",
   "metadata": {},
   "source": [
    "[*Euler's identity*](https://en.wikipedia.org/wiki/Euler%27s_identity) (should be -1):"
   ]
  },
  {
   "cell_type": "code",
   "execution_count": 10,
   "metadata": {},
   "outputs": [
    {
     "data": {
      "text/plain": [
       "-1.0 - 1.2246467991473532e-16im"
      ]
     },
     "execution_count": 10,
     "metadata": {},
     "output_type": "execute_result"
    }
   ],
   "source": [
    "exp(-im * π)"
   ]
  },
  {
   "cell_type": "markdown",
   "metadata": {},
   "source": [
    "## Variables\n",
    "\n",
    "* Numbers (and any other data type) can be put into variables\n",
    "* The value of a variable is referenced by its name\n",
    "* A variable name can be composed by letters (a-z and A-Z, including greek letters, accents,...), numbers (0-9), underscore (_) and some unicode symbols (like greek letters). The first character cannot be a number.\n",
    "\n",
    "**Example:**"
   ]
  },
  {
   "cell_type": "code",
   "execution_count": 11,
   "metadata": {},
   "outputs": [
    {
     "data": {
      "text/plain": [
       "21"
      ]
     },
     "execution_count": 11,
     "metadata": {},
     "output_type": "execute_result"
    }
   ],
   "source": [
    "temp = 21"
   ]
  },
  {
   "cell_type": "markdown",
   "metadata": {},
   "source": [
    "This one is not valid (starts with a digits):\n",
    "```julia\n",
    "2temp = 1.\n",
    "```\n",
    "\n",
    "Produces the error:\n",
    "```\n",
    "syntax: \"2\" is not a valid function argument name\n",
    "```\n",
    "\n"
   ]
  },
  {
   "cell_type": "markdown",
   "metadata": {},
   "source": [
    "To see the content of the variable `temp`, use the [`@show`](https://docs.julialang.org/en/latest/base/base/#Base.@show) macro:"
   ]
  },
  {
   "cell_type": "code",
   "execution_count": 12,
   "metadata": {},
   "outputs": [
    {
     "name": "stdout",
     "output_type": "stream",
     "text": [
      "temp = 21\n"
     ]
    }
   ],
   "source": [
    "@show temp;"
   ]
  },
  {
   "cell_type": "markdown",
   "metadata": {},
   "source": [
    "Any expression can now include the variable `temp`:"
   ]
  },
  {
   "cell_type": "code",
   "execution_count": 13,
   "metadata": {},
   "outputs": [
    {
     "data": {
      "text/plain": [
       "42"
      ]
     },
     "execution_count": 13,
     "metadata": {},
     "output_type": "execute_result"
    }
   ],
   "source": [
    "2 * temp"
   ]
  },
  {
   "cell_type": "markdown",
   "metadata": {},
   "source": [
    "The value can be used in a string using `$( )`:"
   ]
  },
  {
   "cell_type": "code",
   "execution_count": 14,
   "metadata": {},
   "outputs": [
    {
     "data": {
      "text/plain": [
       "\"The temperature is 21°C\""
      ]
     },
     "execution_count": 14,
     "metadata": {},
     "output_type": "execute_result"
    }
   ],
   "source": [
    "\"The temperature is $(temp)°C\""
   ]
  },
  {
   "cell_type": "markdown",
   "metadata": {},
   "source": [
    "* The variable `temp` has now the value 21. The value of the variable can be changed later on.\n",
    "* An assignment without a final semicolon echoes its value to the screen\n",
    "* Careful: the value of constants can be overwritten. The following is allowed but not encouraged:\n",
    "    \t\n",
    "```julia        \n",
    "    pi = 3; # do not do this\n",
    "```\n",
    "* However, if you explicitely define a variable as a constant, trying to modify it will result in a warning."
   ]
  },
  {
   "cell_type": "code",
   "execution_count": 15,
   "metadata": {},
   "outputs": [
    {
     "name": "stderr",
     "output_type": "stream",
     "text": [
      "WARNING: redefinition of constant Main.kb. This may fail, cause incorrect answers, or produce other errors.\n"
     ]
    },
    {
     "data": {
      "text/plain": [
       "1.38e-23"
      ]
     },
     "execution_count": 15,
     "metadata": {},
     "output_type": "execute_result"
    }
   ],
   "source": [
    "const kb = 1.38064852e-23\n",
    "kb = 1.38e-23"
   ]
  },
  {
   "cell_type": "markdown",
   "metadata": {},
   "source": [
    "The command [`varinfo()`](https://docs.julialang.org/en/stable/stdlib/InteractiveUtils/#InteractiveUtils.varinfo) lists the currently defined variables and the loaded modules, as well as their size in a markdown table."
   ]
  },
  {
   "cell_type": "code",
   "execution_count": 16,
   "metadata": {},
   "outputs": [
    {
     "data": {
      "text/latex": [
       "\\begin{tabular}\n",
       "{l | r | l}\n",
       "name & size & summary \\\\\n",
       "\\hline\n",
       "Base &  & Module \\\\\n",
       "Core &  & Module \\\\\n",
       "Main &  & Module \\\\\n",
       "kb & 8 bytes & Float64 \\\\\n",
       "mynum & 8 bytes & Int64 \\\\\n",
       "mytext & 14 bytes & 6-codeunit String \\\\\n",
       "temp & 8 bytes & Int64 \\\\\n",
       "\\end{tabular}\n"
      ],
      "text/markdown": [
       "| name   |     size | summary           |\n",
       "|:------ | --------:|:----------------- |\n",
       "| Base   |          | Module            |\n",
       "| Core   |          | Module            |\n",
       "| Main   |          | Module            |\n",
       "| kb     |  8 bytes | Float64           |\n",
       "| mynum  |  8 bytes | Int64             |\n",
       "| mytext | 14 bytes | 6-codeunit String |\n",
       "| temp   |  8 bytes | Int64             |\n"
      ],
      "text/plain": [
       "  name       size summary          \n",
       "  –––––– –––––––– –––––––––––––––––\n",
       "  Base            Module           \n",
       "  Core            Module           \n",
       "  Main            Module           \n",
       "  kb      8 bytes Float64          \n",
       "  mynum   8 bytes Int64            \n",
       "  mytext 14 bytes 6-codeunit String\n",
       "  temp    8 bytes Int64            "
      ]
     },
     "execution_count": 16,
     "metadata": {},
     "output_type": "execute_result"
    }
   ],
   "source": [
    "varinfo()"
   ]
  },
  {
   "cell_type": "markdown",
   "metadata": {},
   "source": [
    "The command [`typeof()`](https://docs.julialang.org/en/stable/base/base/#Core.typeof) returns the type of a variable:"
   ]
  },
  {
   "cell_type": "code",
   "execution_count": 17,
   "metadata": {},
   "outputs": [
    {
     "data": {
      "text/plain": [
       "Int64"
      ]
     },
     "execution_count": 17,
     "metadata": {},
     "output_type": "execute_result"
    }
   ],
   "source": [
    "typeof(temp)"
   ]
  },
  {
   "cell_type": "markdown",
   "metadata": {},
   "source": [
    "## Strings\n",
    "They are delimited by double quotes (while characters are delimited by simple quotes):"
   ]
  },
  {
   "cell_type": "code",
   "execution_count": 18,
   "metadata": {},
   "outputs": [
    {
     "name": "stdout",
     "output_type": "stream",
     "text": [
      "Hello world\n",
      "Char\n"
     ]
    }
   ],
   "source": [
    "s = \"Hello world\"\n",
    "println(s);\n",
    "char = 'ù'\n",
    "println(typeof(char))"
   ]
  },
  {
   "cell_type": "markdown",
   "metadata": {},
   "source": [
    "How to use a double quote in a string?      \n",
    "→ place a backslash `\\` before it:"
   ]
  },
  {
   "cell_type": "code",
   "execution_count": 19,
   "metadata": {},
   "outputs": [
    {
     "name": "stdout",
     "output_type": "stream",
     "text": [
      "The letter \"A\" is the first letter of the alphabet."
     ]
    }
   ],
   "source": [
    "s = \"The letter \\\"A\\\" is the first letter of the alphabet.\"\n",
    "print(s)"
   ]
  },
  {
   "cell_type": "markdown",
   "metadata": {},
   "source": [
    "## Symbols\n",
    "\n",
    "* A symbol is an [interned string](https://en.wikipedia.org/wiki/String_interning) identifier which means that every string symbol is replaced internally by a number\n",
    "* This makes comparison between symbols faster than comparison between strings\n",
    "* Symbols are also used in metaprogramming (Julia code which produces Julia code)."
   ]
  },
  {
   "cell_type": "code",
   "execution_count": 20,
   "metadata": {},
   "outputs": [
    {
     "data": {
      "text/plain": [
       ":mysymbol"
      ]
     },
     "execution_count": 20,
     "metadata": {},
     "output_type": "execute_result"
    }
   ],
   "source": [
    ":mysymbol"
   ]
  },
  {
   "cell_type": "code",
   "execution_count": 21,
   "metadata": {},
   "outputs": [
    {
     "data": {
      "text/plain": [
       "Symbol"
      ]
     },
     "execution_count": 21,
     "metadata": {},
     "output_type": "execute_result"
    }
   ],
   "source": [
    "typeof(:mysymbol)"
   ]
  },
  {
   "cell_type": "markdown",
   "metadata": {},
   "source": [
    "## Vectors and matrices\n",
    "The module [`LinearAlgebra`](https://docs.julialang.org/en/stable/stdlib/LinearAlgebra/) provides useful linear algebra operations."
   ]
  },
  {
   "cell_type": "code",
   "execution_count": 22,
   "metadata": {},
   "outputs": [],
   "source": [
    "using LinearAlgebra"
   ]
  },
  {
   "cell_type": "markdown",
   "metadata": {},
   "source": [
    "Vectors are list of numbers. The column vector $\\left(\\begin{array}{c}1 \\\\ 2 \\\\ 3 \\end{array} \\right)$ is represented by:"
   ]
  },
  {
   "cell_type": "code",
   "execution_count": 23,
   "metadata": {},
   "outputs": [
    {
     "data": {
      "text/plain": [
       "3-element Vector{Int64}:\n",
       " 1\n",
       " 2\n",
       " 3"
      ]
     },
     "execution_count": 23,
     "metadata": {},
     "output_type": "execute_result"
    }
   ],
   "source": [
    "[1, 2, 3]"
   ]
  },
  {
   "cell_type": "markdown",
   "metadata": {},
   "source": [
    "Matrices are tables of numbers. Rows are separated by a semicolon. The matrix \n",
    "$\\left(\\begin{array}{cc}1 & 2 \\\\ 3 & 4 \\end{array} \\right)$ is represented by:"
   ]
  },
  {
   "cell_type": "code",
   "execution_count": 24,
   "metadata": {},
   "outputs": [
    {
     "data": {
      "text/plain": [
       "2×2 Matrix{Int64}:\n",
       " 1  2\n",
       " 3  4"
      ]
     },
     "execution_count": 24,
     "metadata": {},
     "output_type": "execute_result"
    }
   ],
   "source": [
    "[1 2; 3 4]"
   ]
  },
  {
   "cell_type": "markdown",
   "metadata": {},
   "source": [
    "### Ranges\n",
    "\n",
    "Consecutive elements can be written as:\n",
    "\n",
    "    `first:step:last`\n",
    "    \n",
    "or simply, if the step is 1,\n",
    "    \t\n",
    "    `first:last`\n",
    "    \n",
    "Use the function [`collect`](https://docs.julialang.org/en/stable/base/collections/#Base.collect-Tuple{Type,Any}) or `[first:step:last;]` to transform a range into a vector:\n",
    "   \n",
    "Instead of typing this:  "
   ]
  },
  {
   "cell_type": "code",
   "execution_count": 25,
   "metadata": {},
   "outputs": [
    {
     "data": {
      "text/plain": [
       "5-element Vector{Int64}:\n",
       " 1\n",
       " 2\n",
       " 3\n",
       " 4\n",
       " 5"
      ]
     },
     "execution_count": 25,
     "metadata": {},
     "output_type": "execute_result"
    }
   ],
   "source": [
    "[1, 2, 3, 4, 5]"
   ]
  },
  {
   "cell_type": "markdown",
   "metadata": {},
   "source": [
    "one could simply write this as:"
   ]
  },
  {
   "cell_type": "code",
   "execution_count": 26,
   "metadata": {},
   "outputs": [
    {
     "data": {
      "text/plain": [
       "1:5"
      ]
     },
     "execution_count": 26,
     "metadata": {},
     "output_type": "execute_result"
    }
   ],
   "source": [
    "1:5"
   ]
  },
  {
   "cell_type": "markdown",
   "metadata": {},
   "source": [
    "and convert if to a vector (if needed) with `collect( )`.\n",
    "\n",
    "Now if we need only every second element:"
   ]
  },
  {
   "cell_type": "code",
   "execution_count": 27,
   "metadata": {},
   "outputs": [
    {
     "data": {
      "text/plain": [
       "1:2:5"
      ]
     },
     "execution_count": 27,
     "metadata": {},
     "output_type": "execute_result"
    }
   ],
   "source": [
    "1:2:6"
   ]
  },
  {
   "cell_type": "markdown",
   "metadata": {},
   "source": [
    "Note that 6 is not part of the previous range."
   ]
  },
  {
   "cell_type": "markdown",
   "metadata": {},
   "source": [
    "## Indexing\n",
    "\n",
    "Consider the following vector:"
   ]
  },
  {
   "cell_type": "code",
   "execution_count": 28,
   "metadata": {},
   "outputs": [
    {
     "data": {
      "text/plain": [
       "5-element Vector{Int64}:\n",
       "  2\n",
       "  5\n",
       "  7\n",
       " 19\n",
       "  2"
      ]
     },
     "execution_count": 28,
     "metadata": {},
     "output_type": "execute_result"
    }
   ],
   "source": [
    "a = [2, 5, 7, 19, 2]"
   ]
  },
  {
   "cell_type": "markdown",
   "metadata": {},
   "source": [
    "* Individual elements of a vector or matrix can be addressed by their index using square brackets.\n",
    "* The second element of a vector `a` is for example `a[2]`"
   ]
  },
  {
   "cell_type": "markdown",
   "metadata": {},
   "source": [
    "The special word `end` refers to the last index.     \n",
    "`end` is also useful to refer to elements with respect to the last one:"
   ]
  },
  {
   "cell_type": "code",
   "execution_count": 29,
   "metadata": {},
   "outputs": [
    {
     "data": {
      "text/plain": [
       "2"
      ]
     },
     "execution_count": 29,
     "metadata": {},
     "output_type": "execute_result"
    }
   ],
   "source": [
    "a[end]"
   ]
  },
  {
   "cell_type": "code",
   "execution_count": 30,
   "metadata": {},
   "outputs": [
    {
     "data": {
      "text/plain": [
       "7"
      ]
     },
     "execution_count": 30,
     "metadata": {},
     "output_type": "execute_result"
    }
   ],
   "source": [
    "a[end-2]"
   ]
  },
  {
   "cell_type": "markdown",
   "metadata": {},
   "source": [
    "One can also use a list of indexes to extract a part of the vector"
   ]
  },
  {
   "cell_type": "code",
   "execution_count": 31,
   "metadata": {},
   "outputs": [
    {
     "data": {
      "text/plain": [
       "3-element Vector{Int64}:\n",
       "  5\n",
       "  7\n",
       " 19"
      ]
     },
     "execution_count": 31,
     "metadata": {},
     "output_type": "execute_result"
    }
   ],
   "source": [
    "a[[2, 3, 4]]\n",
    "# a[2,3,4] would mean we want to access the (single) index [2, 3, 4]"
   ]
  },
  {
   "cell_type": "markdown",
   "metadata": {},
   "source": [
    "Or simply:"
   ]
  },
  {
   "cell_type": "code",
   "execution_count": 32,
   "metadata": {},
   "outputs": [
    {
     "data": {
      "text/plain": [
       "3-element Vector{Int64}:\n",
       "  5\n",
       "  7\n",
       " 19"
      ]
     },
     "execution_count": 32,
     "metadata": {},
     "output_type": "execute_result"
    }
   ],
   "source": [
    "a[2:4]"
   ]
  },
  {
   "cell_type": "markdown",
   "metadata": {},
   "source": [
    "The symbol colon **:** is a short-hand for 1:end"
   ]
  },
  {
   "cell_type": "markdown",
   "metadata": {},
   "source": [
    "## Matrix indexing\n",
    "\n",
    "* For matrices, two indices are generally used.\n",
    "* The element at the second row and the first column of a matrix A is for example `A[2,1]`"
   ]
  },
  {
   "cell_type": "code",
   "execution_count": 33,
   "metadata": {},
   "outputs": [
    {
     "data": {
      "text/plain": [
       "2×2 Matrix{Int64}:\n",
       " 1  2\n",
       " 3  4"
      ]
     },
     "execution_count": 33,
     "metadata": {},
     "output_type": "execute_result"
    }
   ],
   "source": [
    "A = [1 2; 3 4]"
   ]
  },
  {
   "cell_type": "code",
   "execution_count": 34,
   "metadata": {},
   "outputs": [
    {
     "data": {
      "text/plain": [
       "3"
      ]
     },
     "execution_count": 34,
     "metadata": {},
     "output_type": "execute_result"
    }
   ],
   "source": [
    "A[2, 1]"
   ]
  },
  {
   "cell_type": "code",
   "execution_count": 35,
   "metadata": {},
   "outputs": [
    {
     "data": {
      "text/plain": [
       "2-element Vector{Int64}:\n",
       " 2\n",
       " 4"
      ]
     },
     "execution_count": 35,
     "metadata": {},
     "output_type": "execute_result"
    }
   ],
   "source": [
    "A[:, 2]"
   ]
  },
  {
   "cell_type": "markdown",
   "metadata": {},
   "source": [
    "Julia supports also higher-dimensional arrays and indexing works similarily."
   ]
  },
  {
   "cell_type": "markdown",
   "metadata": {},
   "source": [
    "## Additional data structures\n",
    "\n",
    "### Dictionaries\n",
    "\n",
    "A dictionary [`Dict`](https://docs.julialang.org/en/v1/base/collections/index.html#Dictionaries-1) is a data structure that maps keys to values.      \n",
    "**Example:**"
   ]
  },
  {
   "cell_type": "code",
   "execution_count": 36,
   "metadata": {},
   "outputs": [
    {
     "data": {
      "text/plain": [
       "Dict{String, Float64} with 2 entries:\n",
       "  \"Temperature\" => 20.23\n",
       "  \"Salinity\"    => 37.54"
      ]
     },
     "execution_count": 36,
     "metadata": {},
     "output_type": "execute_result"
    }
   ],
   "source": [
    "data = Dict(\"Temperature\" => 20.23, \"Salinity\" => 37.54)"
   ]
  },
  {
   "cell_type": "markdown",
   "metadata": {},
   "source": [
    "Dictionaries are useful to retrieve an entry using the key:"
   ]
  },
  {
   "cell_type": "code",
   "execution_count": 37,
   "metadata": {},
   "outputs": [
    {
     "data": {
      "text/plain": [
       "20.23"
      ]
     },
     "execution_count": 37,
     "metadata": {},
     "output_type": "execute_result"
    }
   ],
   "source": [
    "data[\"Temperature\"]"
   ]
  },
  {
   "cell_type": "markdown",
   "metadata": {},
   "source": [
    "### Tuple\n",
    "\n",
    "* A tuple is a (usually short) sequence of values (those values can be of any type)\n",
    "* A tuple cannot be modified (e.g. you cannot add another element to a tuple or replace an existing element)\n",
    "* Tuples are less flexible, but more efficient than vectors\n",
    "* A tuple is enclosed with a round parentesis, e.g. `(12,45,\"a string\")` or `(42,)` (here the last comma is necessary to distinguish between a parentesis enclosing a tuple and parentesis grouping an expression)"
   ]
  },
  {
   "cell_type": "code",
   "execution_count": 38,
   "metadata": {},
   "outputs": [
    {
     "name": "stdout",
     "output_type": "stream",
     "text": [
      "typeof(liegeCoordinates) = Tuple{Float64, Float64}\n"
     ]
    }
   ],
   "source": [
    "liegeCoordinates = (50.633333, 5.566667)\n",
    "@show typeof(liegeCoordinates);"
   ]
  },
  {
   "cell_type": "markdown",
   "metadata": {},
   "source": [
    "We cannot change the values: tuples are immutable!\n",
    "you will see the error\n",
    "\n",
    "```julia\n",
    "liegeCoordinates[1] =  50.7\n",
    "\n",
    "MethodError: no method matching setindex!(::Tuple{Float64,Float64}, ::Float64, ::Int64)\n",
    "```"
   ]
  },
  {
   "cell_type": "markdown",
   "metadata": {},
   "source": [
    "Tuples are typically used for output arguments (and sometimes for input arguments too)     \n",
    "We'll come back to functions later in this notebook."
   ]
  },
  {
   "cell_type": "markdown",
   "metadata": {},
   "source": [
    "# Operators\n",
    "\n",
    "* Scalar and matrix operations: **+** sum, **-** difference, __*__ multiplication, **/** division\n",
    "* Element-wise matrix operations: __.*__ multiply element-wise, __./__ divide element-wise \n",
    "\n",
    "## Comparison operators\n",
    "\n",
    "equal (`==`) and different (`!=`) "
   ]
  },
  {
   "cell_type": "code",
   "execution_count": 39,
   "metadata": {},
   "outputs": [
    {
     "data": {
      "text/plain": [
       "false"
      ]
     },
     "execution_count": 39,
     "metadata": {},
     "output_type": "execute_result"
    }
   ],
   "source": [
    "2 == 1"
   ]
  },
  {
   "cell_type": "code",
   "execution_count": 40,
   "metadata": {},
   "outputs": [
    {
     "data": {
      "text/plain": [
       "true"
      ]
     },
     "execution_count": 40,
     "metadata": {},
     "output_type": "execute_result"
    }
   ],
   "source": [
    "9 == 3 * 3"
   ]
  },
  {
   "cell_type": "markdown",
   "metadata": {},
   "source": [
    "The dot is used for element-wise comparisons:"
   ]
  },
  {
   "cell_type": "code",
   "execution_count": 41,
   "metadata": {},
   "outputs": [
    {
     "data": {
      "text/plain": [
       "false"
      ]
     },
     "execution_count": 41,
     "metadata": {},
     "output_type": "execute_result"
    }
   ],
   "source": [
    "[1 2 3] == [1 3 2]"
   ]
  },
  {
   "cell_type": "code",
   "execution_count": 42,
   "metadata": {},
   "outputs": [
    {
     "data": {
      "text/plain": [
       "1×3 BitMatrix:\n",
       " 1  0  0"
      ]
     },
     "execution_count": 42,
     "metadata": {},
     "output_type": "execute_result"
    }
   ],
   "source": [
    "[1 2 3] .== [1 3 2]"
   ]
  },
  {
   "cell_type": "markdown",
   "metadata": {},
   "source": [
    "Be aware of the limited precision of floating point numbers"
   ]
  },
  {
   "cell_type": "code",
   "execution_count": 43,
   "metadata": {},
   "outputs": [
    {
     "data": {
      "text/plain": [
       "true"
      ]
     },
     "execution_count": 43,
     "metadata": {},
     "output_type": "execute_result"
    }
   ],
   "source": [
    "2.0000000000000001 == 2"
   ]
  },
  {
   "cell_type": "markdown",
   "metadata": {},
   "source": [
    "Element-wise different (`.!=`)"
   ]
  },
  {
   "cell_type": "code",
   "execution_count": 44,
   "metadata": {},
   "outputs": [
    {
     "data": {
      "text/plain": [
       "1×3 BitMatrix:\n",
       " 1  0  1"
      ]
     },
     "execution_count": 44,
     "metadata": {},
     "output_type": "execute_result"
    }
   ],
   "source": [
    "[1 2 3] .!= [3 2 1]"
   ]
  },
  {
   "cell_type": "markdown",
   "metadata": {},
   "source": [
    "Comparision between numbers: <, >, <= (≤), => (≥)"
   ]
  },
  {
   "cell_type": "code",
   "execution_count": 45,
   "metadata": {},
   "outputs": [
    {
     "data": {
      "text/plain": [
       "true"
      ]
     },
     "execution_count": 45,
     "metadata": {},
     "output_type": "execute_result"
    }
   ],
   "source": [
    "30 > 25"
   ]
  },
  {
   "cell_type": "markdown",
   "metadata": {},
   "source": [
    "Element-wise comparision between vector and matrices: .<, .>, .<= (.≤), .=> (.≥)"
   ]
  },
  {
   "cell_type": "code",
   "execution_count": 46,
   "metadata": {},
   "outputs": [
    {
     "data": {
      "text/plain": [
       "3-element BitVector:\n",
       " 0\n",
       " 0\n",
       " 1"
      ]
     },
     "execution_count": 46,
     "metadata": {},
     "output_type": "execute_result"
    }
   ],
   "source": [
    "[1, 2, 3] .> 2"
   ]
  },
  {
   "cell_type": "code",
   "execution_count": 47,
   "metadata": {},
   "outputs": [
    {
     "data": {
      "text/plain": [
       "3-element BitVector:\n",
       " 0\n",
       " 1\n",
       " 1"
      ]
     },
     "execution_count": 47,
     "metadata": {},
     "output_type": "execute_result"
    }
   ],
   "source": [
    "[1, 2, 3] .> [3, 1, 2]"
   ]
  },
  {
   "cell_type": "markdown",
   "metadata": {},
   "source": [
    "Logical \"and\" (`&&`) logical \"or\" (`||`) (with short-circuit evaluation)"
   ]
  },
  {
   "cell_type": "code",
   "execution_count": 48,
   "metadata": {},
   "outputs": [
    {
     "name": "stdout",
     "output_type": "stream",
     "text": [
      "stay in and code"
     ]
    }
   ],
   "source": [
    "temperature = 30;\n",
    "precipitation = 10;\n",
    "\n",
    "if temperature > 25 && precipitation == 0\n",
    "    print(\"go outside!\")\n",
    "else\n",
    "    print(\"stay in and code\")\n",
    "end"
   ]
  },
  {
   "cell_type": "markdown",
   "metadata": {},
   "source": [
    "* logical element-wise \"and\" (.&) logical element-wise \"or\" (.|)\n",
    "\n",
    "* The results of such operators can also be used to index an array\n",
    "    \n",
    "* For example return all elements in the variable T which are greater than 10 but less than 20.\n",
    "    "
   ]
  },
  {
   "cell_type": "code",
   "execution_count": 49,
   "metadata": {},
   "outputs": [
    {
     "data": {
      "text/plain": [
       "2-element Vector{Int64}:\n",
       " 27\n",
       " 26"
      ]
     },
     "execution_count": 49,
     "metadata": {},
     "output_type": "execute_result"
    }
   ],
   "source": [
    "T = [27, 17, 20, 26, 32]\n",
    "T[20 .< T .& T .< 30]"
   ]
  },
  {
   "cell_type": "code",
   "execution_count": 50,
   "metadata": {},
   "outputs": [
    {
     "data": {
      "text/plain": [
       "5-element BitVector:\n",
       " 1\n",
       " 1\n",
       " 1\n",
       " 1\n",
       " 0"
      ]
     },
     "execution_count": 50,
     "metadata": {},
     "output_type": "execute_result"
    }
   ],
   "source": [
    "T .< 30"
   ]
  },
  {
   "cell_type": "markdown",
   "metadata": {},
   "source": [
    "This list of 1's and 0's can be turned into a list of indices using `findall`:"
   ]
  },
  {
   "cell_type": "code",
   "execution_count": 51,
   "metadata": {},
   "outputs": [
    {
     "data": {
      "text/plain": [
       "4-element Vector{Int64}:\n",
       " 1\n",
       " 2\n",
       " 3\n",
       " 4"
      ]
     },
     "execution_count": 51,
     "metadata": {},
     "output_type": "execute_result"
    }
   ],
   "source": [
    "findall(T .< 30)"
   ]
  },
  {
   "cell_type": "markdown",
   "metadata": {},
   "source": [
    "## Useful functions\n",
    "\n",
    "* sin, cos, tan: trigonometric functions\n",
    "* asin, acos, atan: inverse trigonometric functions\n",
    "* log, log2, log10: natural, base 2 and base 10 logarithms: \n",
    "* exp: exponentiation\n",
    "* abs: absolute value\n",
    "* sqrt: square root\n",
    "* mean: mean\n",
    "* median: median\n",
    "* std: standard deviation\n",
    "* var: variance\n",
    "* mod: modulo (useful to manipulate e.g. the longitude)\n",
    "* isnan: Check if variable is NaN. Note that NaN == NaN is false!\n",
    "* inv: inverse of a matrix\n",
    "* sum: sum of all elements\n",
    "* prod: product of all elements\n",
    "* maximum,minimum: maximum,minimum value in an array\n",
    "* max,min: maximum,minimum value of all arguments\n",
    "* isnan: true if a value is NaN\n",
    "* isinf: true if a value is Inf\n",
    "\n",
    "These function can also operate of a given dimension: sum(array,dimension)\n",
    "\n",
    "Find out more of these function by typing using the question mark symbol `?` followed by the function name. \n",
    "\n",
    "<div class=\"alert alert-block alert-info\">\n",
    "ℹ️ Functions such as <code>mean</code>, <code>std</code>, <code>median</code>, ... require the Statitics package to be loaded\n",
    "</div>"
   ]
  },
  {
   "cell_type": "code",
   "execution_count": 52,
   "metadata": {},
   "outputs": [
    {
     "ename": "LoadError",
     "evalue": "UndefVarError: `mean` not defined in `Main`\nSuggestion: check for spelling errors or missing imports.",
     "output_type": "error",
     "traceback": [
      "UndefVarError: `mean` not defined in `Main`\nSuggestion: check for spelling errors or missing imports.",
      ""
     ]
    }
   ],
   "source": [
    "mean"
   ]
  },
  {
   "cell_type": "code",
   "execution_count": 53,
   "metadata": {},
   "outputs": [
    {
     "ename": "ErrorException",
     "evalue": "Parsing error for input occurred on line 1, offset: 1",
     "output_type": "error",
     "traceback": [
      "Parsing error for input occurred on line 1, offset: 1",
      "",
      "Stacktrace:",
      "  [1] error(s::String)",
      "    @ Base ./error.jl:35",
      "  [2] format_text(text::String, style::JuliaFormatter.DefaultStyle, opts::JuliaFormatter.Options)",
      "    @ JuliaFormatter ~/.julia/packages/JuliaFormatter/qSCF8/src/JuliaFormatter.jl:253",
      "  [3] #format_text#282",
      "    @ ~/.julia/packages/JuliaFormatter/qSCF8/src/JuliaFormatter.jl:227 [inlined]",
      "  [4] format_text",
      "    @ ~/.julia/packages/JuliaFormatter/qSCF8/src/JuliaFormatter.jl:224 [inlined]",
      "  [5] #format_text#281",
      "    @ ~/.julia/packages/JuliaFormatter/qSCF8/src/JuliaFormatter.jl:221 [inlined]",
      "  [6] format_text",
      "    @ ~/.julia/packages/JuliaFormatter/qSCF8/src/JuliaFormatter.jl:220 [inlined]",
      "  [7] format_current_cell()",
      "    @ JupyterFormatter ~/.julia/packages/JupyterFormatter/76Rfc/src/JupyterFormatter.jl:8",
      "  [8] #invokelatest#2",
      "    @ ./essentials.jl:1055 [inlined]",
      "  [9] invokelatest",
      "    @ ./essentials.jl:1052 [inlined]",
      " [10] execute_request(socket::ZMQ.Socket, msg::IJulia.Msg)",
      "    @ IJulia ~/.julia/packages/IJulia/dR0lE/src/execute_request.jl:66",
      " [11] #invokelatest#2",
      "    @ ./essentials.jl:1055 [inlined]",
      " [12] invokelatest",
      "    @ ./essentials.jl:1052 [inlined]",
      " [13] eventloop(socket::ZMQ.Socket)",
      "    @ IJulia ~/.julia/packages/IJulia/dR0lE/src/eventloop.jl:8",
      " [14] (::IJulia.var\"#15#18\")()",
      "    @ IJulia ~/.julia/packages/IJulia/dR0lE/src/eventloop.jl:38"
     ]
    }
   ],
   "source": [
    "?log10"
   ]
  },
  {
   "cell_type": "code",
   "execution_count": 54,
   "metadata": {},
   "outputs": [
    {
     "name": "stdout",
     "output_type": "stream",
     "text": [
      "Base.Math\n",
      "Base.log\n",
      "Base.log10\n",
      "Base.Ryu.log10pow5\n",
      "Base.Ryu.log10pow2\n"
     ]
    }
   ],
   "source": [
    "apropos(\"log10\")"
   ]
  },
  {
   "cell_type": "markdown",
   "metadata": {},
   "source": [
    "## The file system\n",
    "\n",
    "* On every current operating system, files are organized in a tree of directories starting from a root directory\n",
    "* The absolute path of a directory or file defines which directories to follow starting from the root directory to the given directory or file\n",
    "* In Linux/UNIX/Max OS X, files and directory names are separated by a forwardslash (`/`), on Windows by a backslash (`\\` or `\\\\` if escaped) (but forwardslashes are allowed too)\n",
    "* In order to avoid to deal with long path names, every program has a current working directory\n",
    "* The current working directory from Julia can be queried with the command `pwd()`.\n",
    "* The relative path of a directory or file defines which directories to follow starting from the current directory to the given directory or file\n",
    "* In relative path, two dots (`..`) represent the parent directory.\n",
    "* To change the current directory, you can use the command `cd`. For Linux and Mac OS X:\n",
    "\n",
    "```julia\n",
    "cd(\"/home/MyDir\")\n",
    "``` \n",
    "\n",
    "Under Windows you need to you the following:\n",
    "\n",
    "```julia\n",
    "cd(\"C:\\\\Users\\\\MyDir\")\n",
    "```\n",
    "\n",
    "Note that here two backslashes are necessary ([why?](https://stackoverflow.com/questions/28328052/why-do-i-have-to-use-double-backslashes-for-file-paths-in-code))."
   ]
  },
  {
   "cell_type": "markdown",
   "metadata": {},
   "source": [
    "### NetCDF format\n",
    "The reading/write of netCDF files is done using the [`NCDatasets`](https://github.com/Alexander-Barth/NCDatasets.jl) module, which is automatically installed with `DIVAnd`.      \n",
    "You will find more information in the notebook [03-netCDF](03-netCDF.ipynb).\n",
    "\n",
    "* Reading a variable called `var`  from a netCDF file\n",
    "\n",
    "```julia\n",
    "using NCDatasets\n",
    "ds = Dataset(\"file.nc\")\n",
    "data = ds[\"var\"][:];\n",
    "close(ds)\n",
    "```"
   ]
  },
  {
   "cell_type": "markdown",
   "metadata": {},
   "source": [
    "* Writing a variable called `var` data to a netCDF file\n",
    "\n",
    "```julia\n",
    "ds = Dataset(\"file.nc\",\"c\")\n",
    "\n",
    "# Define the dimension \"lon\" and \"lat\" with the size 100 and 110 resp.\n",
    "defDim(ds,\"lon\",100)\n",
    "defDim(ds,\"lat\",110)\n",
    "\n",
    "\n",
    "# Define the variables temperature and salinity\n",
    "v = defVar(ds,\"temperature\",Float32,(\"lon\",\"lat\"))\n",
    "# write a the complete data set\n",
    "v[:,:] = data\n",
    "close(ds)\n",
    "```"
   ]
  },
  {
   "cell_type": "markdown",
   "metadata": {},
   "source": [
    "## Scripts\n",
    "\n",
    "A script is a series of commands that can be collected in a script file.    \n",
    "A script file has the extension `.jl`.\n",
    "\n",
    "How can Julia find your script file?     \n",
    "* it must be either in your current work directory\n",
    "* the directory containing the script file must be added to the search path using `LOAD_PATH`. For example\n",
    "\n",
    "```julia\n",
    "push!(LOAD_PATH,\"/some/path\")   \n",
    "```\n",
    "\n",
    "The code in a script is executed when using [`include`](https://docs.julialang.org/en/stable/base/base/#Base.include), which evaluates the contents of the input source file:\n",
    "\n",
    "```julia-repl\n",
    "include(\"filename.jl\")\n",
    "```"
   ]
  },
  {
   "cell_type": "markdown",
   "metadata": {},
   "source": [
    "### Functions\n",
    "\n",
    "Functions are similar to scripts.     \n",
    "Unlike scripts, functions can have input/output parameters.    \n",
    "For example a function calculating the speed of ocean current based on the zonal and meridional component"
   ]
  },
  {
   "cell_type": "code",
   "execution_count": 55,
   "metadata": {},
   "outputs": [
    {
     "data": {
      "text/plain": [
       "current_speed (generic function with 1 method)"
      ]
     },
     "execution_count": 55,
     "metadata": {},
     "output_type": "execute_result"
    }
   ],
   "source": [
    "function current_speed(u, v)\n",
    "    speed = sqrt(u^2 + v^2)\n",
    "    return speed\n",
    "end"
   ]
  },
  {
   "cell_type": "code",
   "execution_count": 56,
   "metadata": {},
   "outputs": [
    {
     "data": {
      "text/plain": [
       "7.0710678118654755"
      ]
     },
     "execution_count": 56,
     "metadata": {},
     "output_type": "execute_result"
    }
   ],
   "source": [
    "speed2 = current_speed(5, 5)"
   ]
  },
  {
   "cell_type": "markdown",
   "metadata": {},
   "source": [
    "Another example of function: we compute naively the number of days without rain:"
   ]
  },
  {
   "cell_type": "code",
   "execution_count": 57,
   "metadata": {},
   "outputs": [
    {
     "data": {
      "text/plain": [
       "dayswithoutrain (generic function with 1 method)"
      ]
     },
     "execution_count": 57,
     "metadata": {},
     "output_type": "execute_result"
    }
   ],
   "source": [
    "function dayswithoutrain(P)\n",
    "    #....\n",
    "    days = 0\n",
    "    for i = 1:length(P)\n",
    "        # do something with i\n",
    "        if P[i] == 0\n",
    "            # count\n",
    "            days = days + 1\n",
    "        end\n",
    "        @show days\n",
    "    end\n",
    "    return days\n",
    "\n",
    "    # Note: what comes after the `return` is not exectuted\n",
    "    print(\"The function has already finished\")\n",
    "end"
   ]
  },
  {
   "cell_type": "code",
   "execution_count": 58,
   "metadata": {},
   "outputs": [
    {
     "name": "stdout",
     "output_type": "stream",
     "text": [
      "days = 1\n",
      "days = 2\n",
      "days = 3\n",
      "days = 3\n",
      "days = 3\n",
      "days = 3\n",
      "days = 3\n",
      "days = 4\n",
      "days = 5\n"
     ]
    },
    {
     "data": {
      "text/plain": [
       "5"
      ]
     },
     "execution_count": 58,
     "metadata": {},
     "output_type": "execute_result"
    }
   ],
   "source": [
    "P = [0, 0, 0, 3, 4, 5, 3, 0, 0]\n",
    "days = dayswithoutrain(P)"
   ]
  },
  {
   "cell_type": "markdown",
   "metadata": {},
   "source": [
    "### Multiple dispatch\n",
    "In Julia you can easily create a function that behaves differently, according to the type of input. Concretely, this is done by specifying the type of each input, using the `::` notation after the name of the function argument.    \n",
    "Let's see with a very simple example that works on Strings but also on Floats."
   ]
  },
  {
   "cell_type": "code",
   "execution_count": 59,
   "metadata": {},
   "outputs": [
    {
     "data": {
      "text/plain": [
       "twice (generic function with 2 methods)"
      ]
     },
     "execution_count": 59,
     "metadata": {},
     "output_type": "execute_result"
    }
   ],
   "source": [
    "function twice(word::String)\n",
    "    return word * \" \" * word\n",
    "end\n",
    "function twice(aaa::Float64)\n",
    "    return 2.0 * aaa\n",
    "end"
   ]
  },
  {
   "cell_type": "markdown",
   "metadata": {},
   "source": [
    "The output of the previous cell shows that the function has 2 methods (according to the type of input)."
   ]
  },
  {
   "cell_type": "code",
   "execution_count": 60,
   "metadata": {},
   "outputs": [
    {
     "data": {
      "text/plain": [
       "(\"bonjour bonjour\", 4.37)"
      ]
     },
     "execution_count": 60,
     "metadata": {},
     "output_type": "execute_result"
    }
   ],
   "source": [
    "twice(\"bonjour\"), twice(2.185)"
   ]
  },
  {
   "cell_type": "markdown",
   "metadata": {},
   "source": [
    "## Modules\n",
    "\n",
    "Functions can be grouped into a module.      \n",
    "The documentation describing how to create a module can be found at https://pkgdocs.julialang.org/v1/creating-packages/.\n",
    "\n",
    "\n",
    "### Update module list\n",
    "\n",
    "Before installing a module is it recommended to update the module list to ensure that the latest version of a module will be installed.\n",
    "\n",
    "```julia\n",
    "using Pkg\n",
    "Pkg.update()\n",
    "```\n",
    "\n",
    "### Installation of modules\n",
    "\n",
    "Packages can be install by using `Pkg.add` or by using the  Pkg REPL-mode entered from the Julia REPL using the key `]` (https://docs.julialang.org/en/stable/stdlib/Pkg/#Getting-Started-1).     \n",
    "To install the package `DIVAnd` one should use for example:\n",
    "\n",
    "```julia\n",
    "using Pkg\n",
    "Pkg.add(\"DIVAnd\")      \n",
    "```\n",
    "\n",
    "<div class=\"alert alert-block alert-info\">\n",
    "ℹ️ For some packages, one might need to follow specific installation instructions, which are usually available in the documentation of the corresponding package.\n",
    "</div>\n"
   ]
  },
  {
   "cell_type": "markdown",
   "metadata": {},
   "source": [
    "Module can also be installed directly from a repository:\n",
    "```julia\n",
    "Pkg.add(\"https://github.com/gher-uliege/DIVAnd.jl\")\n",
    "```\n",
    "\n",
    "A module can be upgraded with:\n",
    "```julia\n",
    "using Pkg\n",
    "Pkg.update(\"DIVAnd\")\n",
    "```\n",
    "\n",
    "A no-longer used module can be removed with \n",
    "```julia\n",
    "Pkg.rm(\"ModuleName\")\n",
    "```\n",
    "\n",
    "The list of available packages is obtained as follows:\n",
    "\n",
    "```julia\n",
    "Pkg.status()\n",
    "```"
   ]
  },
  {
   "cell_type": "markdown",
   "metadata": {},
   "source": [
    "## Using modules\n",
    "\n",
    "To access a function (e.g. the function `diva3d`) inside a module (e.g. `DIVAnd`), one needs to load the module with `using`. The following loads the module `DIVAnd`:\n",
    "\n",
    "```julia\n",
    "using DIVAnd\n",
    "```\n",
    "\n",
    "Now the function `diva3d` can be called."
   ]
  },
  {
   "cell_type": "markdown",
   "metadata": {},
   "source": [
    "## Dates\n",
    "The [`Dates`](https://docs.julialang.org/en/v1/stdlib/Dates/index.html) module provides several functions to deal with date and time."
   ]
  },
  {
   "cell_type": "code",
   "execution_count": 61,
   "metadata": {},
   "outputs": [],
   "source": [
    "using Dates"
   ]
  },
  {
   "cell_type": "markdown",
   "metadata": {},
   "source": [
    "### The DateTime and Date objects\n",
    "Julia has a structure called `DateTime` to represent a date and time."
   ]
  },
  {
   "cell_type": "code",
   "execution_count": 62,
   "metadata": {},
   "outputs": [
    {
     "data": {
      "text/plain": [
       "1999-12-31T23:59:59"
      ]
     },
     "execution_count": 62,
     "metadata": {},
     "output_type": "execute_result"
    }
   ],
   "source": [
    "lastsecond = Dates.DateTime(1999, 12, 31, 23, 59, 59)"
   ]
  },
  {
   "cell_type": "code",
   "execution_count": 63,
   "metadata": {},
   "outputs": [
    {
     "name": "stdout",
     "output_type": "stream",
     "text": [
      "Today = Date(\"2025-01-07\")\n",
      "typeof(Today) = Date\n"
     ]
    }
   ],
   "source": [
    "Today = Dates.today()\n",
    "@show(Today, typeof(Today));"
   ]
  },
  {
   "cell_type": "markdown",
   "metadata": {},
   "source": [
    "The difference between two `DateTime` objects returns a structure representing the number of milliseconds."
   ]
  },
  {
   "cell_type": "code",
   "execution_count": 64,
   "metadata": {},
   "outputs": [
    {
     "data": {
      "text/plain": [
       "31622400000 milliseconds"
      ]
     },
     "execution_count": 64,
     "metadata": {},
     "output_type": "execute_result"
    }
   ],
   "source": [
    "dt = Dates.DateTime(2001, 1, 1) - Dates.DateTime(2000, 1, 1)"
   ]
  },
  {
   "cell_type": "code",
   "execution_count": 65,
   "metadata": {},
   "outputs": [
    {
     "name": "stdout",
     "output_type": "stream",
     "text": [
      "typeof(dt) = Millisecond\n"
     ]
    },
    {
     "data": {
      "text/plain": [
       "Millisecond"
      ]
     },
     "execution_count": 65,
     "metadata": {},
     "output_type": "execute_result"
    }
   ],
   "source": [
    "@show typeof(dt)"
   ]
  },
  {
   "cell_type": "markdown",
   "metadata": {},
   "source": [
    "The time difference can be converted into days:"
   ]
  },
  {
   "cell_type": "code",
   "execution_count": 66,
   "metadata": {},
   "outputs": [
    {
     "data": {
      "text/plain": [
       "366 days"
      ]
     },
     "execution_count": 66,
     "metadata": {},
     "output_type": "execute_result"
    }
   ],
   "source": [
    "Dates.Day(Dates.DateTime(2001, 1, 1) - Dates.DateTime(2000, 1, 1))"
   ]
  },
  {
   "cell_type": "markdown",
   "metadata": {},
   "source": [
    "One can also add a duration to a date:"
   ]
  },
  {
   "cell_type": "code",
   "execution_count": 67,
   "metadata": {},
   "outputs": [
    {
     "data": {
      "text/plain": [
       "(DateTime(\"2001-01-01T00:00:00\"), DateTime(\"2000-03-01T00:00:00\"))"
      ]
     },
     "execution_count": 67,
     "metadata": {},
     "output_type": "execute_result"
    }
   ],
   "source": [
    "Dates.DateTime(2000, 1, 1) + Dates.Day(366), Dates.DateTime(2000, 1, 1) + Dates.Month(2)"
   ]
  },
  {
   "cell_type": "markdown",
   "metadata": {},
   "source": [
    "Compute number of days before or after `now()`:"
   ]
  },
  {
   "cell_type": "code",
   "execution_count": 68,
   "metadata": {},
   "outputs": [
    {
     "data": {
      "text/plain": [
       "-2314.6547294328707"
      ]
     },
     "execution_count": 68,
     "metadata": {},
     "output_type": "execute_result"
    }
   ],
   "source": [
    "Dates.value(Dates.DateTime(2018, 9, 7) - Dates.now()) / 1000 / 60 / 60 / 24"
   ]
  },
  {
   "cell_type": "code",
   "execution_count": 69,
   "metadata": {},
   "outputs": [
    {
     "data": {
      "text/plain": [
       "-2679.6547294791667"
      ]
     },
     "execution_count": 69,
     "metadata": {},
     "output_type": "execute_result"
    }
   ],
   "source": [
    "Dates.value(Dates.DateTime(2017, 9, 7) - Dates.now()) / (24 * 60 * 60 * 1000)"
   ]
  },
  {
   "cell_type": "markdown",
   "metadata": {},
   "source": [
    "**Exercice:**     \n",
    "Compute in how many days is your next birthday using the previous functions."
   ]
  },
  {
   "cell_type": "markdown",
   "metadata": {},
   "source": [
    "## Control Flow\n",
    "### Loops\n",
    "Let your computer do repetitive tasks!      \n",
    "Loops have a counter which takes successively all elements of a row vector"
   ]
  },
  {
   "cell_type": "code",
   "execution_count": 70,
   "metadata": {},
   "outputs": [
    {
     "name": "stdout",
     "output_type": "stream",
     "text": [
      "i = 1\n",
      "i = 2\n",
      "i = 10\n",
      "i = 20\n"
     ]
    }
   ],
   "source": [
    "for i in [1 2 10 20]\n",
    "    @show i\n",
    "end"
   ]
  },
  {
   "cell_type": "markdown",
   "metadata": {},
   "source": [
    "Loops are often used with a range of values"
   ]
  },
  {
   "cell_type": "code",
   "execution_count": 71,
   "metadata": {},
   "outputs": [
    {
     "name": "stdout",
     "output_type": "stream",
     "text": [
      "i = 1\n",
      "i = 2\n",
      "i = 3\n",
      "i = 4\n",
      "i = 5\n"
     ]
    }
   ],
   "source": [
    "for i = 1:5\n",
    "    @show i\n",
    "end"
   ]
  },
  {
   "cell_type": "markdown",
   "metadata": {},
   "source": [
    "Explicit loops can sometimes be avoided,     \n",
    "for example, sum all integer from 1 to 10"
   ]
  },
  {
   "cell_type": "code",
   "execution_count": 72,
   "metadata": {},
   "outputs": [
    {
     "data": {
      "text/plain": [
       "55"
      ]
     },
     "execution_count": 72,
     "metadata": {},
     "output_type": "execute_result"
    }
   ],
   "source": [
    "total = 0;\n",
    "for i = 1:10\n",
    "    total = total + i\n",
    "end\n",
    "total"
   ]
  },
  {
   "cell_type": "markdown",
   "metadata": {},
   "source": [
    "Can simply be computed as `sum(1:10)`."
   ]
  },
  {
   "cell_type": "markdown",
   "metadata": {},
   "source": [
    "### Enumerate\n",
    "When you want to loop over a list (containing strings for example) and need to count at the same time, you can use `enumerate`: "
   ]
  },
  {
   "cell_type": "code",
   "execution_count": 73,
   "metadata": {},
   "outputs": [
    {
     "name": "stdout",
     "output_type": "stream",
     "text": [
      "Planet #1: Mercury\n",
      "Planet #2: Venus\n",
      "Planet #3: Earth\n",
      "Planet #4: Mars\n",
      "Planet #5: Jupiter\n",
      "Planet #6: Saturn\n",
      "Planet #7: Uranus\n",
      "Planet #8: Neptune\n"
     ]
    }
   ],
   "source": [
    "planets = [\"Mercury\", \"Venus\", \"Earth\", \"Mars\", \"Jupiter\", \"Saturn\", \"Uranus\", \"Neptune\"]\n",
    "for (pindex, planetname) in enumerate(planets)\n",
    "    println(\"Planet #$(pindex): $(planetname)\")\n",
    "end"
   ]
  },
  {
   "cell_type": "markdown",
   "metadata": {},
   "source": [
    "### Loop over dictionaries"
   ]
  },
  {
   "cell_type": "code",
   "execution_count": 74,
   "metadata": {},
   "outputs": [
    {
     "name": "stdout",
     "output_type": "stream",
     "text": [
      "The capital of Somalia is Mogadishu\n",
      "The capital of Afghanistan is Kabul\n",
      "The capital of Japan is Tokyo\n",
      "The capital of Cyprus is Nicosia\n"
     ]
    }
   ],
   "source": [
    "capitals = Dict(\n",
    "    \"Japan\" => \"Tokyo\",\n",
    "    \"Afghanistan\" => \"Kabul\",\n",
    "    \"Cyprus\" => \"Nicosia\",\n",
    "    \"Somalia\" => \"Mogadishu\",\n",
    ")\n",
    "\n",
    "for (country, capital) in capitals\n",
    "    println(\"The capital of $(country) is $(capital)\")\n",
    "end"
   ]
  },
  {
   "cell_type": "markdown",
   "metadata": {},
   "source": [
    "If you need to loop over the keys only:"
   ]
  },
  {
   "cell_type": "code",
   "execution_count": 75,
   "metadata": {},
   "outputs": [
    {
     "name": "stdout",
     "output_type": "stream",
     "text": [
      "Somalia\n",
      "Afghanistan\n",
      "Japan\n",
      "Cyprus\n"
     ]
    }
   ],
   "source": [
    "for country in keys(capitals)\n",
    "    println(country)\n",
    "end"
   ]
  },
  {
   "cell_type": "markdown",
   "metadata": {},
   "source": [
    "## if-statement\n",
    "\n",
    "It is used when your code needs to behave differently depending on some conditions.       \n",
    "It has the following structure.\n",
    "\n",
    "```julia\n",
    "if some_conditions\n",
    "  # do something\n",
    "else\n",
    "  # do something else\n",
    "end\n",
    "```\n",
    "The else section can be omitted.\n",
    "\n",
    "For example.\n",
    "\n",
    "```julia\n",
    "if x < 0\n",
    "   x = -x;\n",
    "end\n",
    "```\n",
    "\n",
    "<div class=\"alert alert-block alert-info\">\n",
    "<b>Quiz:</b>  Which Julia function implements the last code example?\n",
    "</div>"
   ]
  },
  {
   "cell_type": "code",
   "execution_count": 76,
   "metadata": {},
   "outputs": [],
   "source": [
    "if Dates.dayname(Dates.dayofweek(Dates.today())) == \"Friday\"\n",
    "    print(\"Have a nice weekend\")\n",
    "end"
   ]
  },
  {
   "cell_type": "markdown",
   "metadata": {},
   "source": [
    "### Ternary operator\n",
    "If statement can also be written in one line using the `?` and `:` synatax, for example:"
   ]
  },
  {
   "cell_type": "code",
   "execution_count": 78,
   "metadata": {},
   "outputs": [
    {
     "name": "stderr",
     "output_type": "stream",
     "text": [
      "\u001b[36m\u001b[1m[ \u001b[22m\u001b[39m\u001b[36m\u001b[1mInfo: \u001b[22m\u001b[39mThe data directory exists\n"
     ]
    }
   ],
   "source": [
    "isdir(\"../data/\") ? @info(\"The data directory exists\") : @warn(\"No data directory\")"
   ]
  },
  {
   "cell_type": "markdown",
   "metadata": {},
   "source": [
    "## Plots\n",
    "Plots can be generated either with [`Makie`](https://docs.makie.org/) or [`Plots`](https://docs.juliaplots.org/stable/) (pure Julia), or with [`PyPlot`](https://github.com/JuliaPy/PyPlot.jl), which make a Julia interface to the Python [`Matplotlib`](https://matplotlib.org/) library.\n",
    "\n",
    "Several examples can be found in notebook [05-plots-maps](05-plots-maps.ipynb)"
   ]
  },
  {
   "cell_type": "code",
   "execution_count": null,
   "metadata": {},
   "outputs": [],
   "source": []
  }
 ],
 "metadata": {
  "@webio": {
   "lastCommId": null,
   "lastKernelId": null
  },
  "kernelspec": {
   "display_name": "Julia 1.11.2",
   "language": "julia",
   "name": "julia-1.11"
  },
  "language_info": {
   "file_extension": ".jl",
   "mimetype": "application/julia",
   "name": "julia",
   "version": "1.11.2"
  },
  "toc": {
   "base_numbering": 1,
   "nav_menu": {},
   "number_sections": true,
   "sideBar": true,
   "skip_h1_title": false,
   "title_cell": "Table of Contents",
   "title_sidebar": "Contents",
   "toc_cell": false,
   "toc_position": {},
   "toc_section_display": true,
   "toc_window_display": false
  }
 },
 "nbformat": 4,
 "nbformat_minor": 4
}
