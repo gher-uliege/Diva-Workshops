{
 "cells": [
  {
   "cell_type": "markdown",
   "metadata": {},
   "source": [
    "# NetCDF read/write\n",
    "[netCDF](https://www.unidata.ucar.edu/software/netcdf/) is one of the most widely used format in oceanography.\n",
    "This notebook explains how to read and write data from/in this format.   \n",
    "\n",
    "Historically, the first Julia module to work with netCDF was https://github.com/JuliaGeo/NetCDF.jl, then another module was developed by [@abarth](https://github.com/Alexander-Barth): [NCDatasets](https://github.com/Alexander-Barth/NCDatasets.jl). This is the one we will use it in this notebook and in the rest of the training material."
   ]
  },
  {
   "cell_type": "code",
   "execution_count": null,
   "metadata": {},
   "outputs": [],
   "source": [
    "using NCDatasets\n",
    "using Downloads\n",
    "include(\"../config.jl\")"
   ]
  },
  {
   "cell_type": "markdown",
   "metadata": {},
   "source": [
    "## Read a netCDF\n",
    "We will use the GEBCO bathymetry as an example."
   ]
  },
  {
   "cell_type": "code",
   "execution_count": null,
   "metadata": {},
   "outputs": [],
   "source": [
    "download_check(gebco16file, gebco16fileURL)"
   ]
  },
  {
   "cell_type": "markdown",
   "metadata": {},
   "source": [
    "First we open the file for reading (`\"r\"` option) and can get the equivalent of a `ncdump` command with `@show`:   "
   ]
  },
  {
   "cell_type": "code",
   "execution_count": null,
   "metadata": {},
   "outputs": [],
   "source": [
    "ds = Dataset(gebco16file, \"r\");\n",
    "@show ds;"
   ]
  },
  {
   "cell_type": "markdown",
   "metadata": {},
   "source": [
    "We now know the variable name and attributes, as well as the dimensions.    \n",
    "Let's read the longitude, latitude and bathymetry."
   ]
  },
  {
   "cell_type": "code",
   "execution_count": null,
   "metadata": {},
   "outputs": [],
   "source": [
    "lon = ds[\"lon\"];\n",
    "lat = ds[\"lat\"];\n",
    "bathymetry = ds[\"bat\"];"
   ]
  },
  {
   "cell_type": "markdown",
   "metadata": {},
   "source": [
    "Note that with the previous commands, we load both the variable values and their attributes."
   ]
  },
  {
   "cell_type": "code",
   "execution_count": null,
   "metadata": {},
   "outputs": [],
   "source": [
    "@show typeof(lon);"
   ]
  },
  {
   "cell_type": "markdown",
   "metadata": {},
   "source": [
    "Then if we want to access the values only, we can use similar commands but with the `[:]` (or `[:,:]` for 2D variables) at the end:"
   ]
  },
  {
   "cell_type": "code",
   "execution_count": null,
   "metadata": {},
   "outputs": [],
   "source": [
    "lonval = ds[\"lon\"][:];\n",
    "latval = ds[\"lat\"][:];\n",
    "b = ds[\"bat\"][:, :];"
   ]
  },
  {
   "cell_type": "markdown",
   "metadata": {},
   "source": [
    "which yield different arrays, for instance:"
   ]
  },
  {
   "cell_type": "code",
   "execution_count": null,
   "metadata": {},
   "outputs": [],
   "source": [
    "@show typeof(b);"
   ]
  },
  {
   "cell_type": "markdown",
   "metadata": {},
   "source": [
    "⚠️ Don't forget to close the dataset!"
   ]
  },
  {
   "cell_type": "code",
   "execution_count": null,
   "metadata": {},
   "outputs": [],
   "source": [
    "close(ds);"
   ]
  },
  {
   "cell_type": "markdown",
   "metadata": {},
   "source": [
    "### Ensure the netCDF is closed\n",
    "A clean way to ensure a file (not only a netCDF) is closed) is to use the *do-block syntax*.      \n",
    "Previous operations can be re-written as:"
   ]
  },
  {
   "cell_type": "code",
   "execution_count": null,
   "metadata": {},
   "outputs": [],
   "source": [
    "Dataset(gebco16file, \"r\") do ds\n",
    "    lonval = ds[\"lon\"][:]\n",
    "    latval = ds[\"lat\"][:]\n",
    "    b = ds[\"bat\"][:, :]\n",
    "end;"
   ]
  },
  {
   "cell_type": "markdown",
   "metadata": {},
   "source": [
    "and even if an error occurs within the do-block, the file will be closed."
   ]
  },
  {
   "cell_type": "markdown",
   "metadata": {},
   "source": [
    "### Making a simple plot\n",
    "We present the plotting modules in more details in [this notebook](./1-05-plots-maps.ipynb).  \n",
    "Here we represent the bathymetry on a global map, with a decreased resolution (factor `NN`)."
   ]
  },
  {
   "cell_type": "code",
   "execution_count": null,
   "metadata": {},
   "outputs": [],
   "source": [
    "using Makie, CairoMakie, GeoMakie"
   ]
  },
  {
   "cell_type": "code",
   "execution_count": null,
   "metadata": {},
   "outputs": [],
   "source": [
    "NN = 10\n",
    "f = Figure()\n",
    "ax = GeoAxis(f[1, 1], title = \"GEBCO bathymetry at a lower resolution\", dest = \"+proj=moll\")\n",
    "hm = heatmap!(ax, lonval[1:NN:end], latval[1:NN:end], b[1:NN:end, 1:NN:end])\n",
    "display(f)"
   ]
  },
  {
   "cell_type": "markdown",
   "metadata": {},
   "source": [
    "## Write a netCDF\n",
    "### Time series\n",
    "Let's start with a very simple example: a temperature time series (1-dimensional dataset), corresponding to the mean temperature in Uccle, Belgium              \n",
    "(source: [IRM](https://www.meteo.be/fr/climat/climat-de-la-belgique/normales-climatiques-a-uccle/temperature/temperature-moyenne))."
   ]
  },
  {
   "cell_type": "code",
   "execution_count": null,
   "metadata": {},
   "outputs": [],
   "source": [
    "temperatureUccle = [3.3, 3.7, 6.8, 9.8, 13.6, 16.2, 18.4, 18.0, 14.9, 11.1, 6.8, 3.9];"
   ]
  },
  {
   "cell_type": "code",
   "execution_count": null,
   "metadata": {},
   "outputs": [],
   "source": [
    "length(temperatureUccle)"
   ]
  },
  {
   "cell_type": "markdown",
   "metadata": {},
   "source": [
    "First, let's create the file (clobber mode indicated by `\"c\"`).    \n",
    "Note that we need to ensure the file doesn't already exist (otherwise we remove it)."
   ]
  },
  {
   "cell_type": "code",
   "execution_count": null,
   "metadata": {},
   "outputs": [],
   "source": [
    "outputfile = joinpath(datadir, \"temperature_belgium.nc\")\n",
    "if isfile(outputfile)\n",
    "    rm(outputfile)\n",
    "    @info \"Removing file $(outputfile)\"\n",
    "else\n",
    "    @info \"Creating a new netCDF\"\n",
    "end\n",
    "ds = Dataset(outputfile, \"c\");"
   ]
  },
  {
   "cell_type": "markdown",
   "metadata": {},
   "source": [
    "Then we create a time dimension. Its size should match that of the temperature vector."
   ]
  },
  {
   "cell_type": "code",
   "execution_count": null,
   "metadata": {},
   "outputs": [],
   "source": [
    "defDim(ds, \"time\", length(temperatureUccle))"
   ]
  },
  {
   "cell_type": "markdown",
   "metadata": {},
   "source": [
    "Now we can also create the *temperature* variable, which has *time* as dimension."
   ]
  },
  {
   "cell_type": "code",
   "execution_count": null,
   "metadata": {},
   "outputs": [],
   "source": [
    "temperature = defVar(ds, \"temperature\", Float64, (\"time\",));"
   ]
  },
  {
   "cell_type": "markdown",
   "metadata": {},
   "source": [
    "We will fill this variable with the values previously defined (note again the `[:]`):"
   ]
  },
  {
   "cell_type": "code",
   "execution_count": null,
   "metadata": {},
   "outputs": [],
   "source": [
    "temperature[:] = temperatureUccle;"
   ]
  },
  {
   "cell_type": "markdown",
   "metadata": {},
   "source": [
    "and don't forget to close the `ds`:"
   ]
  },
  {
   "cell_type": "code",
   "execution_count": null,
   "metadata": {},
   "outputs": [],
   "source": [
    "close(ds);"
   ]
  },
  {
   "cell_type": "markdown",
   "metadata": {},
   "source": [
    "If you have [`ncdump`](https://www.unidata.ucar.edu/software/netcdf/netcdf-4/newdocs/netcdf/ncdump.html) available on your machine, you can easily check the file content:\n",
    "```julia\n",
    "run(`ncdump temperature_series.nc`)\n",
    "```\n",
    "Otherwise you can use the first part of the notebook, in which we've shown how to read a netCDF file."
   ]
  },
  {
   "cell_type": "code",
   "execution_count": null,
   "metadata": {},
   "outputs": [],
   "source": [
    "# command = `ncdump $(outputfile)`\n",
    "# run(command)"
   ]
  },
  {
   "cell_type": "markdown",
   "metadata": {
    "collapsed": true,
    "jupyter": {
     "outputs_hidden": true
    }
   },
   "source": [
    "## Exercice\n",
    "Create a netCDF file storing a 2D field (it can be a random field or real data).     \n",
    "The procedure is similar to the previous example, except that we will work with longitude and latitude dimensions, instead of time.\n",
    "\n",
    "The solution is available in [1-03-netCDF-2Dimensions.ipynb](../Exercises/1-03-netCDF-2Dimensions.ipynb)."
   ]
  },
  {
   "cell_type": "code",
   "execution_count": null,
   "metadata": {},
   "outputs": [],
   "source": []
  }
 ],
 "metadata": {
  "@webio": {
   "lastCommId": null,
   "lastKernelId": null
  },
  "kernelspec": {
   "display_name": "Julia 1.11.2",
   "language": "julia",
   "name": "julia-1.11"
  },
  "language_info": {
   "file_extension": ".jl",
   "mimetype": "application/julia",
   "name": "julia",
   "version": "1.11.2"
  },
  "toc": {
   "base_numbering": 1,
   "nav_menu": {},
   "number_sections": true,
   "sideBar": true,
   "skip_h1_title": false,
   "title_cell": "Table of Contents",
   "title_sidebar": "Contents",
   "toc_cell": false,
   "toc_position": {},
   "toc_section_display": true,
   "toc_window_display": false
  }
 },
 "nbformat": 4,
 "nbformat_minor": 4
}
