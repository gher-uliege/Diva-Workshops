{
 "cells": [
  {
   "cell_type": "markdown",
   "metadata": {},
   "source": [
    "# What is a Jupyter Notebook?"
   ]
  },
  {
   "cell_type": "markdown",
   "metadata": {
    "slideshow": {
     "slide_type": "slide"
    }
   },
   "source": [
    "A *notebook* is an interactive environment where code fragments and rich text element are combined.     \n",
    "The notebook is made up of *cells* and these cells can be edited and evaluated,      \n",
    "either by clicking on the **Play** button in the Toolbar,     \n",
    "or by hitting **SHIFT + ENTER** keys.\n",
    "\n",
    "```\n",
    "Jupyter = Julia + Python + R\n",
    "```"
   ]
  },
  {
   "cell_type": "markdown",
   "metadata": {},
   "source": [
    "## Some papers\n",
    "> Shen H. (2014). Interactive notebooks: Sharing the code. *Nature* **515**, 151–152. doi: [10.1038/515151a](http://dx.doi.org/10.1038/515151a)\n",
    "\n",
    "<img src=\"./Images/notebooks_paper.png\" width=\"450px\">\n",
    "\n",
    "> Perkel, J. M. (2018). Why Jupyter is data scientists' computational notebook of choice. *Nature*, **563**, 145–146. doi: [10.1038/d41586-018-07196-1](http://dx.doi.org/10.1038/d41586-018-07196-1)\n",
    "\n",
    "<img src=\"./Images/notebook_nature2.png\" width=\"450px\">\n",
    "\n",
    "\n",
    "> Randles, B. M.; Pasquetto, I. V.; Golshan, M. S. & Borgman, C. L. (2017). Using the Jupyter Notebook as a Tool for Open Science: An Empirical Study. *2017 ACM/IEEE Joint Conference on Digital Libraries (JCDL)*. doi: [10.1109/JCDL.2017.7991618](http://dx.doi.org/10.1109/JCDL.2017.7991618)"
   ]
  },
  {
   "cell_type": "markdown",
   "metadata": {
    "slideshow": {
     "slide_type": "slide"
    }
   },
   "source": [
    "## Cell types\n",
    "The two main cell types are **Markdown** (text) and **Code**. The type is selected using the dropdown in the Toolbar.\n",
    "\n",
    "<img src=\"./Images/cell_type.png\" width=\"450px\">\n",
    "\n",
    "**Headings** are also markdown cells, they are used to structure the document with section, subsections etc.      \n",
    "**Raw NBConvert** can be used to render different code formats into HTML or LaTeX by [Sphinx](https://nbsphinx.readthedocs.io/en/0.3.1/raw-cells.html). We won't use this type of cells in this series of notebooks."
   ]
  },
  {
   "cell_type": "markdown",
   "metadata": {
    "slideshow": {
     "slide_type": "subslide"
    }
   },
   "source": [
    "## Markdown cells\n",
    "[Markdown](https://en.wikipedia.org/wiki/Markdown) is a markup language with plain text formatting syntax, that can be converted into other formats.    \n",
    "The syntax is simple and allows the documentation of the operations carried out in the notebook."
   ]
  },
  {
   "cell_type": "markdown",
   "metadata": {
    "slideshow": {
     "slide_type": "subslide"
    }
   },
   "source": [
    "### Markdown synthax\n",
    "You can find guide for example at      \n",
    "https://guides.github.com/features/mastering-markdown/     \n",
    "https://github.com/adam-p/markdown-here/wiki/Markdown-Cheatsheet\n",
    "\n",
    "\n",
    "#### Markdown example\n",
    "This is an explanation\n",
    "- item one\n",
    "- item two\n",
    "   * sub item one\n",
    "   * sub item two\n",
    "$$ c^2 = a^2 + b^2 $$\n",
    "\n",
    "`DIVAnd` is the package name.     \n",
    "It was developed at the [GHER](https://github.com/gher-uliege)"
   ]
  },
  {
   "cell_type": "markdown",
   "metadata": {
    "slideshow": {
     "slide_type": "subslide"
    }
   },
   "source": [
    "## Code cells\n",
    "They store code fragments that can be evaluated individually.     \n",
    "To the left of the code cells, you will see a text `In []:`.     \n",
    "Once the cell code has been executed, a number will appear inside the square brackets (e.g., `In [2]:`) and the results of the evaluation are shown below the cell, with the text `Out [2]:` to its left.     \n",
    "**Example:**"
   ]
  },
  {
   "cell_type": "code",
   "execution_count": 1,
   "metadata": {
    "slideshow": {
     "slide_type": "fragment"
    }
   },
   "outputs": [
    {
     "data": {
      "text/plain": [
       "2.3456"
      ]
     },
     "execution_count": 1,
     "metadata": {},
     "output_type": "execute_result"
    }
   ],
   "source": [
    "a = 2.3456"
   ]
  },
  {
   "cell_type": "code",
   "execution_count": 2,
   "metadata": {},
   "outputs": [
    {
     "data": {
      "text/plain": [
       "6.0"
      ]
     },
     "execution_count": 2,
     "metadata": {},
     "output_type": "execute_result"
    }
   ],
   "source": [
    "b = 6."
   ]
  },
  {
   "cell_type": "markdown",
   "metadata": {},
   "source": [
    "You may want to have the line numbers in the code celle. This can be turned on by typing `SHIFT + L`, or by using the \"View\" menu.\n",
    "\n",
    "<img src=\"./Images/linenumber.png\" width=\"450px\">"
   ]
  },
  {
   "cell_type": "markdown",
   "metadata": {
    "slideshow": {
     "slide_type": "slide"
    }
   },
   "source": [
    "# Menu and toolbar\n",
    "We present some useful features provided in the jupyter interface.\n",
    "## Operations on the cells\n",
    "The toolbar allows you to save the notebook, add a new cell, move it up or down, copy it, ...      \n",
    "\n",
    "It is possible to undo the operations so one can play safely (*Undo Delete Cell* is good to know).    \n",
    "Most of these operations are also available within the menu under the *Edit* tab. "
   ]
  },
  {
   "cell_type": "markdown",
   "metadata": {},
   "source": [
    "### How to copy several cells from one notebook to another?  \n",
    "1. Select Cell and press `Esc` to go to command mode.\n",
    "2. Hit `Shift + Up` or `Shift + Down` to select multiple cells.\n",
    "3. Copy with `Ctrl + C`.\n",
    "4. Paste with `Ctrl + V` (also possible in different notebook, make sure to be in command mode)\n",
    "You maybe asked to repeat `Ctrl + V`."
   ]
  },
  {
   "cell_type": "markdown",
   "metadata": {
    "slideshow": {
     "slide_type": "subslide"
    }
   },
   "source": [
    "## Selection of the language kernel\n",
    "A dropdown menu provides the list of the installed kernels.    \n",
    "If you want to use notebooks to work not only with Julia, a list of available kernels is available at     \n",
    "https://github.com/jupyter/jupyter/wiki/Jupyter-kernels.     \n",
    "Note that you can have a different kernel for each environment you have (in Python or in Julia).\n",
    "\n",
    "<img src=\"./Images/julia_kernel.png\" width=\"450px\">\n"
   ]
  },
  {
   "cell_type": "markdown",
   "metadata": {
    "slideshow": {
     "slide_type": "subslide"
    }
   },
   "source": [
    "## Download as ...\n",
    "Once you are finished with your notebook, you may want convert it into another format: .jl (julia), .html, markdown, LaTeX...    \n",
    "Hence if the notebook describes properly all the data processing, it is already close to a publicable document that you can export in LaTeX for example.\n",
    "\n",
    "<img src=\"./Images/notebook_download_as.png\" width=\"250px\">\n",
    "\n",
    "The notebook can be seen as a sandbox where you prepare your final script step-by-step, then you export it to julia format and run it in production.\n",
    "\n",
    "If you export the present notebook to *.jl* format, you will end up with a file containing only the code cells, in this case \n",
    "```julia\n",
    "a = 2.3456\n",
    "```"
   ]
  },
  {
   "cell_type": "markdown",
   "metadata": {},
   "source": [
    "## Using more CPUs\n",
    "\n",
    "In jupyter, a \"kernel\" is the part of the backend responsible for executing code written by the user. It is possible to install a kernel with e.g. 4 CPUs (or more) by running:\n",
    "```julia\n",
    "using IJulia\n",
    "IJulia.installkernel(\"Julia with 4 CPUs\",env = Dict(\"JULIA_NUM_THREADS\" => \"4\"))\n",
    "```\n",
    "\n",
    "Saving and reloading the notebook in your browser make this new kernel available. To choose it for a new notebook, go to `Kernel` -> `Change Kernel`. Note that all variables are lost when the kernel is changed.\n",
    "\n",
    "## Closing a notebook\n",
    "\n",
    "The memory allocated for all variables are only freed when you shutdown the kernel for example using `Kernel` -> `Shutdown`."
   ]
  },
  {
   "cell_type": "markdown",
   "metadata": {
    "slideshow": {
     "slide_type": "subslide"
    }
   },
   "source": [
    "# Generating slides\n",
    "Creating a presentation from a notebook is straightforward, but you first need to install:\n",
    "* `jupyter`\n",
    "* [`Tornado`](https://www.tornadoweb.org/en/stable/) (Python web server).\n",
    "\n",
    "Precedure:\n",
    "1. In the *View* tab, enable *Slideshow* in the *Cell toolbar*\n",
    "<img src=\"./Images/jupyter_slideshow.png\" width=\"250px\">\n",
    "2. For each cell, decide the type of slide in the presentation: slide, sub-slide, fragment, ... \n",
    "<img src=\"./Images/jupyter_slideshow2.png\" width=\"250px\">\n",
    "3. In bash, run \n",
    "```bash\n",
    "jupyter nbconvert your_slides.ipynb --to slides --post serve\n",
    "```\n",
    "where your_slides.ipynb should be replaced by the notebook file name.      \n",
    "For the present notebook, we would then have:\n",
    "```bash\n",
    "jupyter nbconvert 01-notebooks-basics.ipynb --to slides --post serve\n",
    "```\n",
    "The resulting presentation is available by clicking [here](./01-notebooks-basics.slides.html).    "
   ]
  },
  {
   "cell_type": "markdown",
   "metadata": {
    "slideshow": {
     "slide_type": "skip"
    }
   },
   "source": [
    "Another way to share and view the presentation is as follows:\n",
    "1. Copy the github link into the form in https://nbviewer.jupyter.org/    \n",
    "(for example, https://github.com/gher-uliege/Diva-Workshops/blob/master/notebooks/1-Intro/01-notebooks-basics.ipynb)\n",
    "and click on the *Go* button.\n",
    "2. Once you're in nbviewer, click on the *View as slides* icon.\n",
    "<img src=\"./Images/jupyter_slideshow3.png\" width=\"300px\">\n",
    "3. Copy the URL if you want to share the presentation:     \n",
    "https://nbviewer.jupyter.org/format/slides/github/gher-uliege/Diva-Workshops/blob/master/notebooks/01-notebooks-basics.ipynb#"
   ]
  },
  {
   "cell_type": "markdown",
   "metadata": {},
   "source": [
    "## Exercise\n",
    "Modify the type of the cell (slide, subslide, skip, fragment), regenerate the presentation in html and compare the results."
   ]
  },
  {
   "cell_type": "markdown",
   "metadata": {
    "slideshow": {
     "slide_type": "subslide"
    }
   },
   "source": [
    "## Slides in pdf\n",
    "Finally, you may want to export the slides into a pdf. This can be done by adding `?print-pdf` to the url of the slides, for instance:\n",
    "```html\n",
    "http://localhost:8890/notebooks/01_notebooks_basics.html?print-pdf\n",
    "```\n",
    "then you can use the `Print to file` option of your browser.      \n",
    "A most elaborated method consists of exporting the notebook into a `.tex` file, edit it and finally compile it with `LaTeX`."
   ]
  }
 ],
 "metadata": {
  "@webio": {
   "lastCommId": null,
   "lastKernelId": null
  },
  "celltoolbar": "Raw Cell Format",
  "kernelspec": {
   "display_name": "Julia 1.10.5",
   "language": "julia",
   "name": "julia-1.10"
  },
  "language_info": {
   "file_extension": ".jl",
   "mimetype": "application/julia",
   "name": "julia",
   "version": "1.10.5"
  },
  "toc": {
   "base_numbering": 1,
   "nav_menu": {},
   "number_sections": true,
   "sideBar": true,
   "skip_h1_title": false,
   "title_cell": "Table of Contents",
   "title_sidebar": "Contents",
   "toc_cell": false,
   "toc_position": {},
   "toc_section_display": true,
   "toc_window_display": false
  }
 },
 "nbformat": 4,
 "nbformat_minor": 2
}
