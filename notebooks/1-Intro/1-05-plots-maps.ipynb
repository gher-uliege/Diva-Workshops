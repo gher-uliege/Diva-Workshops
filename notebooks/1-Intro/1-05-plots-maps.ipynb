{
 "cells": [
  {
   "cell_type": "markdown",
   "id": "0e35d3fe",
   "metadata": {},
   "source": [
    "# Plots and maps\n",
    "In this notebook we show how to create plots from the data and the 2D fields.\n",
    "\n",
    "There are different Julia packages allowing users to display their data.\n",
    "- [`PyPlot`](https://github.com/JuliaPy/PyPlot.jl) is a Julia interface to the [`Matplotlib`](https://matplotlib.org/) (Python) plotting library, which uses the `PyCall` package to call the Python code.\n",
    "- [`Makie`](https://docs.makie.org), a data visualization ecosystem written in Julia.\n",
    "\n",
    "🗺️ For the creation of maps:\n",
    "- `PyPlot` can work with modules such as [`cartopy`](https://scitools.org.uk/cartopy/docs/latest/) or [`Basemap`](https://matplotlib.org/basemap/stable/).\n",
    "- `Makie` can be used in combination with [`GeoMakie`](https://geo.makie.or), which allows one to manage different coordinate reference systems (CRS).\n",
    "\n",
    "<div class=\"alert alert-block alert-warning\"> \n",
    "  ⚠️ The use of `PyPlot` (+ <code>cartopy</code> or <code>Basemap</code>) can lead to installation errors which are not always easy to solve. <br> \n",
    "This is why we will focus more on the creation of figures with <code>Makie</code>.\n",
    "</div>"
   ]
  },
  {
   "cell_type": "markdown",
   "id": "597ca501",
   "metadata": {},
   "source": [
    "## Packages"
   ]
  },
  {
   "cell_type": "code",
   "execution_count": null,
   "id": "d3ed3904",
   "metadata": {},
   "outputs": [
    {
     "name": "stderr",
     "output_type": "stream",
     "text": [
      "\u001b[36m\u001b[1m[ \u001b[22m\u001b[39m\u001b[36m\u001b[1mInfo: \u001b[22m\u001b[39mPrecompiling Makie [ee78f7c6-11fb-53f2-987a-cfe4a2b5a57a] (cache misses: incompatible header (18))\n",
      "\u001b[36m\u001b[1m[ \u001b[22m\u001b[39m\u001b[36m\u001b[1mInfo: \u001b[22m\u001b[39mPrecompiling CairoMakie [13f3f980-e62b-5c42-98c6-ff1f3baf88f0] (cache misses: incompatible header (18))\n",
      "\u001b[36m\u001b[1m[ \u001b[22m\u001b[39m\u001b[36m\u001b[1mInfo: \u001b[22m\u001b[39mPrecompiling GeoMakie [db073c08-6b98-4ee5-b6a4-5efafb3259c6] (cache misses: wrong dep version loaded (2), incompatible header (18))\n",
      "\u001b[36m\u001b[1m[ \u001b[22m\u001b[39m\u001b[36m\u001b[1mInfo: \u001b[22m\u001b[39mPrecompiling DIVAnd [efc8151c-67de-5a8f-9a35-d8f54746ae9d] (cache misses: incompatible header (18))\n"
     ]
    }
   ],
   "source": [
    "using Dates\n",
    "using Makie, CairoMakie, GeoMakie\n",
    "using DIVAnd\n",
    "using NCDatasets\n",
    "using ColorSchemes\n",
    "include(\"../config.jl\")"
   ]
  },
  {
   "cell_type": "markdown",
   "id": "4611f21e",
   "metadata": {},
   "source": [
    "## Bathymetry and mask\n",
    "### Download and load file"
   ]
  },
  {
   "cell_type": "code",
   "execution_count": null,
   "id": "3a2e612f",
   "metadata": {},
   "outputs": [],
   "source": [
    "download_check(gebco08file, gebco08fileURL);\n",
    "bx, by, b = extract_bath(gebco08file, true, 9.0:15.0, 54.0:60.0);\n",
    "lonmask, latmask, mask = load_mask(gebco08file, true, 9.0:0.1:15.0, 54.0:0.1:60.0, [0.0])"
   ]
  },
  {
   "cell_type": "markdown",
   "id": "50774fc7",
   "metadata": {},
   "source": [
    "### Plots\n",
    "Here we will show the results obtained with `Makie` and with `GeoMakie` to show the difference.     \n",
    "Then the plots will be only produced with `GeoMakie`\n",
    "#### With Makie\n",
    "We represent the bathymetry and specify\n",
    "- the colormap (`Reverse(ColorSchemes.delta)`)\n",
    "- the limits (`colorrange=[-500, 500]`).      \n",
    "\n",
    "In addition, the contour corresponding to the surface (`levels=[0.]`) is added to show the coastline.     \n",
    "\n",
    "A list of available colormaps can be found at https://docs.makie.org/dev/explanations/colors."
   ]
  },
  {
   "cell_type": "code",
   "execution_count": null,
   "id": "40c52011",
   "metadata": {},
   "outputs": [],
   "source": [
    "topocmap = Reverse(ColorSchemes.delta);"
   ]
  },
  {
   "cell_type": "code",
   "execution_count": null,
   "id": "0d53df68",
   "metadata": {},
   "outputs": [],
   "source": [
    "f = Figure()\n",
    "ax = Axis(f[1, 1], title = \"Bathymetry with Makie\")\n",
    "hm = heatmap!(ax, bx, by, b, colormap = topocmap, colorrange = [-500, 500])\n",
    "contour!(ax, bx, by, b, levels = [0.0], color = :black)\n",
    "Colorbar(f[1, 2], hm, label = \"(m)\")\n",
    "f"
   ]
  },
  {
   "cell_type": "markdown",
   "id": "a3b17df6",
   "metadata": {},
   "source": [
    "#### With GeoMakie\n",
    "The main difference with the previous plot is that we use a `GeoAxis` (instead of an `Axis`),      \n",
    "for which we can define the coordinate reference system with the argument `dest = \"+proj=merc\"`.     \n",
    "The available projections are those listed at https://proj.org/en/stable/operations/projections/index.html.      \n",
    "The coastline can be added with `lines!(ax, GeoMakie.coastlines())`."
   ]
  },
  {
   "cell_type": "code",
   "execution_count": null,
   "id": "575b611c",
   "metadata": {},
   "outputs": [],
   "source": [
    "f = Figure()\n",
    "ax = GeoAxis(f[1, 1], title = \"Bathymetry with Makie\", dest = \"+proj=hatano\")\n",
    "hm = heatmap!(ax, bx, by, b, colormap = topocmap, colorrange = [-500, 500])\n",
    "contour!(ax, bx, by, b, levels = [0.0, 1], color = :black, label = \"From GEBCO topography\")\n",
    "lines!(ax, GeoMakie.coastlines(), color = :red, label = \"From GeoMakie\")\n",
    "Colorbar(f[1, 2], hm, label = \"(m)\")\n",
    "f[1, 3] = Legend(f, ax, \"Coastline\")\n",
    "xlims!(9.0, 15.0)\n",
    "ylims!(54.0, 60.0)\n",
    "f"
   ]
  },
  {
   "cell_type": "markdown",
   "id": "f19e5057",
   "metadata": {},
   "source": [
    "### Land-sea mask\n",
    "The mask contains `0`s and `1`s, we can display it using the function `heatmap` with for instance a black-and-white colormap (`:binary`)."
   ]
  },
  {
   "cell_type": "code",
   "execution_count": null,
   "id": "4fc714e3",
   "metadata": {},
   "outputs": [],
   "source": [
    "f = Figure()\n",
    "ax = GeoAxis(f[1, 1], title = \"Bathymetry with Makie\", dest = \"+proj=merc\")\n",
    "hm = heatmap!(ax, lonmask, latmask, mask[:, :, 1], colormap = Reverse(:binary))\n",
    "f"
   ]
  },
  {
   "cell_type": "markdown",
   "id": "9efb6633",
   "metadata": {},
   "source": [
    "## Observations\n",
    "### Load file\n",
    "We work with salinity data in the Baltic Sea."
   ]
  },
  {
   "cell_type": "code",
   "execution_count": null,
   "id": "5079ef30",
   "metadata": {},
   "outputs": [],
   "source": [
    "download_check(balticfile, balticfileURL)\n",
    "obsvalue, obslon, obslat, obsdepth, obstime, obsids =\n",
    "    loadobs(Float64, balticfile, \"salinity\");"
   ]
  },
  {
   "cell_type": "code",
   "execution_count": null,
   "id": "2c8e8a1c",
   "metadata": {},
   "outputs": [],
   "source": [
    "sel = findall((obslon .<= 15.0) .& (obstime .>= DateTime(2011, 1, 1)));\n",
    "@info(length(sel))"
   ]
  },
  {
   "cell_type": "markdown",
   "id": "771443d0",
   "metadata": {},
   "source": [
    "### Positions only\n",
    "We can use either `Makie` (left panel) or `GeoMakie` (right panel) for the plots.        "
   ]
  },
  {
   "cell_type": "code",
   "execution_count": null,
   "id": "a6b11cba",
   "metadata": {},
   "outputs": [],
   "source": [
    "f = Figure()\n",
    "ax1 = Axis(f[1, 1])\n",
    "plot!(ax1, obslon[sel], obslat[sel], color = :blue, markersize = 2)\n",
    "ax2 = GeoAxis(f[1, 2], dest = \"+proj=merc\")\n",
    "plot!(ax2, obslon[sel], obslat[sel], color = :blue, markersize = 2)\n",
    "f"
   ]
  },
  {
   "cell_type": "markdown",
   "id": "62252129",
   "metadata": {},
   "source": [
    "### Scatter plot\n",
    "The color depends on the data value"
   ]
  },
  {
   "cell_type": "code",
   "execution_count": null,
   "id": "d872d214",
   "metadata": {},
   "outputs": [],
   "source": [
    "f = Figure()\n",
    "ax1 = Axis(f[1, 1])\n",
    "plot!(ax1, obslon[sel], obslat[sel], color = obsvalue[sel], markersize = 5)\n",
    "ax2 = GeoAxis(f[1, 2], dest = \"+proj=merc\")\n",
    "plot!(ax2, obslon[sel], obslat[sel], color = obsvalue[sel], markersize = 5)\n",
    "f"
   ]
  },
  {
   "cell_type": "markdown",
   "id": "7328d744-7c43-4d7a-a587-233845c7c590",
   "metadata": {},
   "source": [
    "## Horizontal maps\n",
    "There are different functions that allow us to represent 2-dimensional fields.\n",
    "- As we have seen with the topography, we can use [`heatmap`](https://docs.makie.org/stable/reference/plots/heatmap), which representes the values as a collection of colored rectangles;\n",
    "- The function [`surface`](https://docs.makie.org/v0.21/reference/plots/surface) works similarly but with different options and rendering.\n",
    "\n",
    "We will illustrate both functions with the salinity in the Black Sea.\n",
    "\n",
    "<div class=\"alert alert-block alert-warning\">\n",
    "⚠️ <code>heatmap</code> requires the coordinates to be defined as vectors, not matrices.\n",
    "</div>"
   ]
  },
  {
   "cell_type": "code",
   "execution_count": null,
   "id": "939c814f",
   "metadata": {},
   "outputs": [],
   "source": [
    "download_check(outputsalinity, outputsalinityURL)\n",
    "\n",
    "ds = NCDataset(outputsalinity)\n",
    "lon = ds[\"lon\"][:]\n",
    "lat = ds[\"lat\"][:]\n",
    "salinity = ds[\"Salinity\"][:, :, 1, 1]\n",
    "close(ds)"
   ]
  },
  {
   "cell_type": "markdown",
   "id": "8000c7c1-790e-4b19-8dbc-62376bf3f5e4",
   "metadata": {},
   "source": [
    "### Heatmap\n",
    "With `heatmap` the grid is visible as no interpolation if performed by default (optional parameter `interpolate=false`)."
   ]
  },
  {
   "cell_type": "code",
   "execution_count": null,
   "id": "53b35bd6-e2c0-4b46-8eff-b25becedc01a",
   "metadata": {},
   "outputs": [],
   "source": [
    "f = Figure()\n",
    "ax = GeoAxis(\n",
    "    f[1, 1],\n",
    "    title = \"Interpolated salinity field\",\n",
    "    dest = \"+proj=merc\",\n",
    "    xticks = 27:2:42,\n",
    ")\n",
    "hm = heatmap!(\n",
    "    ax,\n",
    "    lon,\n",
    "    lat,\n",
    "    salinity,\n",
    "    colormap = ColorSchemes.haline,\n",
    "    colorrange = [16.0, 18.5],\n",
    ")\n",
    "Colorbar(f[1, 2], hm, label = \"S\")\n",
    "f"
   ]
  },
  {
   "cell_type": "markdown",
   "id": "ecf451e8-2f89-4786-ad9f-1022393b9085",
   "metadata": {},
   "source": [
    "### Surface\n",
    "The `surface` function has a different behaviour by default, as it performs interpolation and also shading effects. This can be avoided using the following options:    \n",
    "- `shading=NoShading`\n",
    "- `interpolate=false`\n",
    "\n",
    "even if the latter doesn't seem to affect the plot. "
   ]
  },
  {
   "cell_type": "code",
   "execution_count": null,
   "id": "b979f28c-3d1a-4f4d-afb9-9fee71aba343",
   "metadata": {},
   "outputs": [],
   "source": [
    "f = Figure()\n",
    "ax = GeoAxis(\n",
    "    f[1, 1],\n",
    "    title = \"Interpolated salinity field\",\n",
    "    dest = \"+proj=merc\",\n",
    "    xticks = 27:2:42,\n",
    ")\n",
    "hm = surface!(\n",
    "    ax,\n",
    "    lon,\n",
    "    lat,\n",
    "    salinity,\n",
    "    colormap = ColorSchemes.haline,\n",
    "    colorrange = [16.0, 18.5],\n",
    "    shading = NoShading,\n",
    "    interpolate = false,\n",
    ")\n",
    "Colorbar(f[1, 2], hm, label = \"S\")\n",
    "f"
   ]
  },
  {
   "cell_type": "markdown",
   "id": "203805d7-b38f-497e-b726-c2fd1b25a99b",
   "metadata": {},
   "source": [
    "### Vertical section\n",
    "We extract the salinity at the latitude 42°N."
   ]
  },
  {
   "cell_type": "code",
   "execution_count": null,
   "id": "35f4aa29-b52e-4313-92b5-87705c357019",
   "metadata": {},
   "outputs": [],
   "source": [
    "indexlat = findfirst(lat .== 42.0)\n",
    "\n",
    "ds = NCDataset(outputsalinity)\n",
    "lon = ds[\"lon\"][:]\n",
    "lat_s = ds[\"lat\"][indexlat]\n",
    "salinity_s = ds[\"Salinity\"][:, indexlat, :, 1]\n",
    "depth = ds[\"depth\"][:]\n",
    "close(ds)"
   ]
  },
  {
   "cell_type": "code",
   "execution_count": null,
   "id": "5355adac-1ee7-4e07-9b11-afb9c8f1bd52",
   "metadata": {},
   "outputs": [],
   "source": [
    "f = Figure()\n",
    "ax = Axis(\n",
    "    f[1, 1],\n",
    "    xlabel = \"Longitude (°E)\",\n",
    "    ylabel = \"Depth (m)\",\n",
    "    title = \"Vertical section at $(lat_s)°N\",\n",
    ")\n",
    "heatmap!(ax, lon, -depth, salinity_s)\n",
    "f"
   ]
  },
  {
   "cell_type": "markdown",
   "id": "6c65e16d",
   "metadata": {},
   "source": [
    "## Velocity field"
   ]
  },
  {
   "cell_type": "code",
   "execution_count": null,
   "id": "a4def39c",
   "metadata": {},
   "outputs": [],
   "source": [
    "download_check(velfilename, velfilenameURL)"
   ]
  },
  {
   "cell_type": "code",
   "execution_count": null,
   "id": "8d1b62d3",
   "metadata": {},
   "outputs": [],
   "source": [
    "nc = NCDataset(velfilename)\n",
    "uvlon = nc[\"lon\"][:]\n",
    "uvlat = nc[\"lat\"][:]\n",
    "uvel = coalesce.(nc[\"vozocrtx\"][:, :, 1, 1], NaN)\n",
    "vvel = coalesce.(nc[\"vomecrty\"][:, :, 1, 1], NaN)\n",
    "close(nc)"
   ]
  },
  {
   "cell_type": "markdown",
   "id": "8c0bbe7b",
   "metadata": {},
   "source": [
    "### Simple arrows"
   ]
  },
  {
   "cell_type": "code",
   "execution_count": null,
   "id": "04f23180",
   "metadata": {},
   "outputs": [],
   "source": [
    "fig = Figure();\n",
    "r = 2;\n",
    "ga = Axis(\n",
    "    fig[1, 1];\n",
    "    # dest = \"+proj=merc\",\n",
    "    title = \"Velocity field\",\n",
    "    xticks = 8:4:20,\n",
    "    yticks = 38:2:46,\n",
    ")\n",
    "arrows!(\n",
    "    ga,\n",
    "    uvlon[1:r:end],\n",
    "    uvlat[1:r:end],\n",
    "    uvel[1:r:end, 1:r:end, 1],\n",
    "    vvel[1:r:end, 1:r:end],\n",
    "    arrowsize = 4,\n",
    "    lengthscale = 4,\n",
    ")\n",
    "# Reference vector\n",
    "arrows!(ga, [18.0], [44.5], [0.25], [0.0], arrowsize = 4, lengthscale = 4)\n",
    "text!(ga, 18, 44.6, text = \"0.25 m/s\")\n",
    "fig"
   ]
  },
  {
   "cell_type": "markdown",
   "id": "48b228ee",
   "metadata": {},
   "source": [
    "### Colored arrows\n",
    "We use the velocity norm to specify the color.      \n",
    "To limit the density of vectors, we decrease the resolution of a factor `r` (`=2` by the value can be changed)."
   ]
  },
  {
   "cell_type": "code",
   "execution_count": null,
   "id": "c7e21d13",
   "metadata": {},
   "outputs": [],
   "source": [
    "r = 2;\n",
    "velnorm = vec(\n",
    "    sqrt.(\n",
    "        uvel[1:r:end, 1:r:end] .* uvel[1:r:end, 1:r:end] .+\n",
    "        vvel[1:r:end, 1:r:end] .* vvel[1:r:end, 1:r:end]\n",
    "    ),\n",
    ");"
   ]
  },
  {
   "cell_type": "markdown",
   "id": "0324c113-de9a-417d-9eeb-6dd72bc6dfb9",
   "metadata": {},
   "source": [
    "The color of the arrow and of the line can be set seperately with the options `arrowcolor` and `linecolor`:"
   ]
  },
  {
   "cell_type": "code",
   "execution_count": null,
   "id": "30536895-481f-413c-8e8b-bb12ee7c59e0",
   "metadata": {},
   "outputs": [],
   "source": [
    "fig = Figure();\n",
    "r = 2;\n",
    "ga = Axis(\n",
    "    fig[1, 1];\n",
    "    # dest = \"+proj=merc\",\n",
    "    title = \"Velocity field\",\n",
    "    xticks = 8:4:20,\n",
    "    yticks = 38:2:46,\n",
    ")\n",
    "arrows!(\n",
    "    ga,\n",
    "    uvlon[1:r:end],\n",
    "    uvlat[1:r:end],\n",
    "    uvel[1:r:end, 1:r:end, 1],\n",
    "    vvel[1:r:end, 1:r:end],\n",
    "    arrowsize = 4,\n",
    "    lengthscale = 2,\n",
    "    arrowcolor = velnorm,\n",
    "    linecolor = velnorm,\n",
    ")\n",
    "fig"
   ]
  },
  {
   "cell_type": "code",
   "execution_count": null,
   "id": "4d95849a",
   "metadata": {},
   "outputs": [],
   "source": []
  }
 ],
 "metadata": {
  "kernelspec": {
   "display_name": "Julia 1.11.3",
   "language": "julia",
   "name": "julia-1.11"
  },
  "language_info": {
   "file_extension": ".jl",
   "mimetype": "application/julia",
   "name": "julia",
   "version": "1.11.3"
  },
  "toc": {
   "base_numbering": 1,
   "nav_menu": {},
   "number_sections": true,
   "sideBar": true,
   "skip_h1_title": false,
   "title_cell": "Table of Contents",
   "title_sidebar": "Contents",
   "toc_cell": false,
   "toc_position": {},
   "toc_section_display": true,
   "toc_window_display": false
  }
 },
 "nbformat": 4,
 "nbformat_minor": 5
}
