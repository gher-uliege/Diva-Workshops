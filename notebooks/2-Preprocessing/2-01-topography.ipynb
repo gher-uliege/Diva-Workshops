{
 "cells": [
  {
   "cell_type": "markdown",
   "metadata": {},
   "source": [
    "# Preparing bathymetry and land-sea mask\n",
    "The land-sea mask is an essential input in `DIVAnd`, as it indicates where the interpolation has to be performed.      \n",
    "The most straightforward method to build the mask is to rely on a bathymetry."
   ]
  },
  {
   "cell_type": "code",
   "execution_count": null,
   "metadata": {},
   "outputs": [],
   "source": [
    "using DIVAnd\n",
    "using Dates\n",
    "using Statistics\n",
    "using Makie, CairoMakie, GeoMakie\n",
    "include(\"../config.jl\")"
   ]
  },
  {
   "cell_type": "markdown",
   "metadata": {},
   "source": [
    "The full EMODnet Bathymetry is a quite big file (~1GB) that can be obtained from the bathymetry portal: http://portal.emodnet-bathymetry.eu/?menu=19. In the present notebook, we will work with the GEBCO bathymetry with a resolution that has been decreased.\n",
    "\n",
    "<div class=\"alert alert-block alert-info\">\n",
    "ℹ️ An extremely fine bathymetry is only necessary when working on small, regional domains.\n",
    "</div>"
   ]
  },
  {
   "cell_type": "markdown",
   "metadata": {},
   "source": [
    "## Data download and domain selection\n",
    "We create a domain encompassing the north of Corsica.     \n",
    "The bathymetry file is automatically downloaded (if not already present)."
   ]
  },
  {
   "cell_type": "code",
   "execution_count": null,
   "metadata": {},
   "outputs": [],
   "source": [
    "dx = dy = 0.125\n",
    "lonr = 2.5:dx:12.0\n",
    "latr = 42.3:dy:44.6\n",
    "depthr = [0, 10, 20, 500]\n",
    "\n",
    "bathname = gebco08file\n",
    "download_check(gebco08file, gebco08fileURL)\n",
    "bathisglobal = true;"
   ]
  },
  {
   "cell_type": "markdown",
   "metadata": {},
   "source": [
    "We have two main tools to load the bathymetry:\n",
    "1. `DIVAnd.extract_bath` loads the bathymetry at the resolution defined in the netCDF file while \n",
    "2. `DIVAnd.load_bath` reduces the resolution to match the resolution of the analysis."
   ]
  },
  {
   "cell_type": "markdown",
   "metadata": {},
   "source": [
    "## Extract bathymetry"
   ]
  },
  {
   "cell_type": "code",
   "execution_count": null,
   "metadata": {},
   "outputs": [],
   "source": [
    "?extract_bath"
   ]
  },
  {
   "cell_type": "code",
   "execution_count": null,
   "metadata": {},
   "outputs": [],
   "source": [
    "bx, by, b = extract_bath(bathname, true, lonr, latr)\n",
    "@show size(b);"
   ]
  },
  {
   "cell_type": "markdown",
   "metadata": {},
   "source": [
    "### Plot"
   ]
  },
  {
   "cell_type": "code",
   "execution_count": null,
   "metadata": {},
   "outputs": [],
   "source": [
    "plot_bathy(bx, by, b)"
   ]
  },
  {
   "cell_type": "markdown",
   "metadata": {},
   "source": [
    "## Load bathymetry\n",
    "With a change of its original resolution"
   ]
  },
  {
   "cell_type": "code",
   "execution_count": null,
   "metadata": {},
   "outputs": [],
   "source": [
    "?load_bath"
   ]
  },
  {
   "cell_type": "code",
   "execution_count": null,
   "metadata": {},
   "outputs": [],
   "source": [
    "bx, by, b = load_bath(bathname, true, lonr, latr)"
   ]
  },
  {
   "cell_type": "markdown",
   "metadata": {},
   "source": [
    "### Plot"
   ]
  },
  {
   "cell_type": "code",
   "execution_count": null,
   "metadata": {},
   "outputs": [],
   "source": [
    "plot_bathy(bx, by, b)"
   ]
  },
  {
   "cell_type": "markdown",
   "metadata": {},
   "source": [
    "## Mask creation\n",
    "The land-sea mask delimitates the region where the interpolation will be performed.    \n",
    "It is a 3 dimensional binary matrix.\n",
    "\n",
    "### Using a loop on the depth levels\n",
    "We start by defining the mask as a 3D matrix containing only `false` values, then we set the values to `true` when the actual depth is deeper than the selected values stored in the vector `depthr`."
   ]
  },
  {
   "cell_type": "code",
   "execution_count": null,
   "metadata": {},
   "outputs": [],
   "source": [
    "mask = falses(size(b, 1), size(b, 2), length(depthr))\n",
    "\n",
    "for k = 1:length(depthr)\n",
    "    for j = 1:size(b, 2)\n",
    "        for i = 1:size(b, 1)\n",
    "            mask[i, j, k] = b[i, j] >= depthr[k]\n",
    "        end\n",
    "    end\n",
    "end\n",
    "@show typeof(mask)"
   ]
  },
  {
   "cell_type": "markdown",
   "metadata": {},
   "source": [
    "The mask can be represented at any depth from the provided list of depth `depthr`."
   ]
  },
  {
   "cell_type": "code",
   "execution_count": null,
   "metadata": {},
   "outputs": [],
   "source": [
    "NN = 3\n",
    "plot_mask(bx, by, mask[:, :, NN], depth = depthr[NN])"
   ]
  },
  {
   "cell_type": "markdown",
   "metadata": {},
   "source": [
    "### Using the `load_mask` function\n",
    "A more direct solution is to use the `load_mask` function, where we provide the bathymetry, the grid and the depth levels as inputs."
   ]
  },
  {
   "cell_type": "code",
   "execution_count": null,
   "metadata": {},
   "outputs": [],
   "source": [
    "xmask, ymask, mmask = load_mask(bathname, true, lonr, latr, depthr);"
   ]
  },
  {
   "cell_type": "code",
   "execution_count": null,
   "metadata": {},
   "outputs": [],
   "source": [
    "NN = 3\n",
    "plot_mask(bx, by, mmask[:, :, NN], depth = depthr[NN])"
   ]
  },
  {
   "cell_type": "markdown",
   "metadata": {},
   "source": [
    "## Flood filling\n",
    "This tool allows user to remove small lakes or islands.     \n",
    "To demonstrate it, we add an artificial make on land."
   ]
  },
  {
   "cell_type": "code",
   "execution_count": null,
   "metadata": {},
   "outputs": [],
   "source": [
    "mask[3, 3, 1] = true"
   ]
  },
  {
   "cell_type": "markdown",
   "metadata": {},
   "source": [
    "## Mask editing\n",
    "To edit the mask, you can either \n",
    "- modify directly its values if you know the indices, or\n",
    "- use a selection based on the coordinates.\n",
    "### Create an artificial island\n",
    "We simply modify the mask at a given location."
   ]
  },
  {
   "cell_type": "code",
   "execution_count": null,
   "metadata": {},
   "outputs": [],
   "source": [
    "# Create a copy of the mask for ediding\n",
    "mask_copy = copy(mask);\n",
    "mask_copy[63, 8, :] .= false;"
   ]
  },
  {
   "cell_type": "code",
   "execution_count": null,
   "metadata": {},
   "outputs": [],
   "source": [
    "plot_mask(bx, by, mask_copy[:, :, 1], depth = depthr[1])"
   ]
  },
  {
   "cell_type": "markdown",
   "metadata": {},
   "source": [
    "### Remove an island (based on indices)"
   ]
  },
  {
   "cell_type": "code",
   "execution_count": null,
   "metadata": {},
   "outputs": [],
   "source": [
    "mask_copy = copy(mask);\n",
    "mask_copy[48:59, 1:10, :] .= true;"
   ]
  },
  {
   "cell_type": "code",
   "execution_count": null,
   "metadata": {},
   "outputs": [],
   "source": [
    "plot_mask(bx, by, mask_copy[:, :, 1], depth = depthr[1])"
   ]
  },
  {
   "cell_type": "markdown",
   "metadata": {},
   "source": [
    "### Remove an island (based on coordinates). \n",
    "\n",
    "This is the recommended approach as you can change resolution easily\n",
    "`sel_lon` and `sel_lat` are obtained by checking the longitude and latitudes."
   ]
  },
  {
   "cell_type": "code",
   "execution_count": null,
   "metadata": {},
   "outputs": [],
   "source": [
    "mask_copy = copy(mask);\n",
    "sel_lon = (bx .> 8) .& (bx .< 10.0);\n",
    "sel_lat = (by .< 43.25);\n",
    "mask_copy[sel_lon, sel_lat, :] .= true;\n",
    "\n",
    "plot_mask(bx, by, mask_copy[:, :, 1], depth = depthr[1])"
   ]
  },
  {
   "cell_type": "markdown",
   "metadata": {},
   "source": [
    "### Removing isolated sea pixels\n",
    "Let's edit the previous mask and add an isolated sea point in the western part of the domain.    "
   ]
  },
  {
   "cell_type": "code",
   "execution_count": null,
   "metadata": {
    "scrolled": true
   },
   "outputs": [],
   "source": [
    "mask[3, 3, 1] = true\n",
    "plot_mask(bx, by, mask[:, :, 1], depth = depthr[1])"
   ]
  },
  {
   "cell_type": "markdown",
   "metadata": {},
   "source": [
    "The function `floofill` can help us identify the position of this pixel:\n",
    "\n",
    "Let's plot the `label` values as obtained by the execution of `floodfill`:"
   ]
  },
  {
   "cell_type": "code",
   "execution_count": null,
   "metadata": {
    "scrolled": true
   },
   "outputs": [],
   "source": [
    "label = DIVAnd.floodfill(mask)\n",
    "\n",
    "fig = Figure()\n",
    "ga = GeoAxis(\n",
    "    fig[1, 1];\n",
    "    dest = \"+proj=merc\",\n",
    "    title = \"Flood fill\",\n",
    "    xticks = 2.0:1.0:14,\n",
    "    yticks = 42.0:1.0:45.0,\n",
    ")\n",
    "hm = heatmap!(ga, bx, by, label[:, :, 1], interpolate = false)\n",
    "xlims!(ga, (bx[1], bx[end]))\n",
    "ylims!(ga, (by[1], by[end]))\n",
    "Colorbar(fig[2, 1], hm, vertical = false)\n",
    "fig"
   ]
  },
  {
   "cell_type": "markdown",
   "metadata": {},
   "source": [
    "We see that the isolated sea point is characterised by `label = 2`,        \n",
    "hence we can discard it by taking the cells for which `label = 1`."
   ]
  },
  {
   "cell_type": "code",
   "execution_count": null,
   "metadata": {
    "scrolled": true
   },
   "outputs": [],
   "source": [
    "mask3 = label .== 1\n",
    "\n",
    "fig = Figure()\n",
    "ga = GeoAxis(\n",
    "    fig[1, 1];\n",
    "    dest = \"+proj=merc\",\n",
    "    title = \"Flood fill\",\n",
    "    xticks = 2.0:1.0:14,\n",
    "    yticks = 42.0:1.0:45.0,\n",
    ")\n",
    "hm = heatmap!(ga, bx, by, mask3[:, :, 1], interpolate = false)\n",
    "xlims!(ga, (bx[1], bx[end]))\n",
    "ylims!(ga, (by[1], by[end]))\n",
    "Colorbar(fig[2, 1], hm, vertical = false)\n",
    "fig"
   ]
  },
  {
   "cell_type": "markdown",
   "metadata": {
    "collapsed": true,
    "jupyter": {
     "outputs_hidden": true
    }
   },
   "source": [
    "## Exercice\n",
    "1. Load the bathymetry around the Black Sea.\n",
    "2. Create a land sea mask for the following levels: 0, 150, 500 and 1000 meters.\n",
    "3. Remove the Sea of Azov and the Sea of Marmara.\n",
    "4. Plot the result.\n",
    "\n",
    "The solution is available in [`2-01-topography-BlackSea`](./solutions/2-01-topography-BlackSea.ipynb) and should look like this:\n",
    "\n",
    "<img src=\"./Images/BlackSea_mask.png\" width=\"250px\">"
   ]
  },
  {
   "cell_type": "markdown",
   "metadata": {},
   "source": [
    "## Adapt your own bathymetry (advanced)"
   ]
  },
  {
   "cell_type": "markdown",
   "metadata": {},
   "source": [
    "To use a local bathymetry, one needs to create a netCDF file which has a similar structure than GEBCO files.\n",
    "In particular, the netCDF file is expected to have the one-dimensional variables `lon` (longitude in _degrees East_) and `lat` (latitude in _degrees North_), and the two-dimentional array `bat` containing the digital terrain model (negative in water and positive above water). \n",
    "\n",
    "The order of the dimensions should be: longitude and then latitude in *Column-major* ordering (or latitude and then longitude if the tool ncdump is used, which is based on *Row-major* ordering).\n",
    "\n",
    "The module `NCDatasets`, provide the utility function `ncgen` which returns the Julia code that creates a netCDF file with the same metadata:"
   ]
  },
  {
   "cell_type": "code",
   "execution_count": null,
   "metadata": {},
   "outputs": [],
   "source": [
    "using NCDatasets\n",
    "ncgen(bathname)"
   ]
  },
  {
   "cell_type": "markdown",
   "metadata": {},
   "source": [
    "In this example, one would need to adapt:\n",
    "* the title attribute of the NetCDF file \n",
    "* the size of the dimensions\n",
    "* define the variables `nclon`, `nclat` and `ncbat`"
   ]
  },
  {
   "cell_type": "markdown",
   "metadata": {},
   "source": [
    "With this code, you only have to use the coordinates and the bathymetry read from your own file to generate the new bathymetry file."
   ]
  }
 ],
 "metadata": {
  "@webio": {
   "lastCommId": null,
   "lastKernelId": null
  },
  "kernelspec": {
   "display_name": "Julia 1.11.2",
   "language": "julia",
   "name": "julia-1.11"
  },
  "language_info": {
   "file_extension": ".jl",
   "mimetype": "application/julia",
   "name": "julia",
   "version": "1.11.2"
  },
  "toc": {
   "base_numbering": 1,
   "nav_menu": {},
   "number_sections": true,
   "sideBar": true,
   "skip_h1_title": false,
   "title_cell": "Table of Contents",
   "title_sidebar": "Contents",
   "toc_cell": false,
   "toc_position": {},
   "toc_section_display": true,
   "toc_window_display": false
  }
 },
 "nbformat": 4,
 "nbformat_minor": 4
}
