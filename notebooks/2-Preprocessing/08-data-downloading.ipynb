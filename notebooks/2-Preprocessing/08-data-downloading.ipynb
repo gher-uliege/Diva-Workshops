{
 "cells": [
  {
   "cell_type": "markdown",
   "metadata": {},
   "source": [
    "# Automatic data downloading\n",
    "\n",
    "In this example we will show how one can download data from a Jupyter notebook.\n",
    "\n",
    "The [PhysOcean](https://github.com/gher-uliege/PhysOcean.jl) module provides ways to automatically download data from \n",
    "- the [World Ocean Database](https://www.nodc.noaa.gov/OC5/WOD/pr_wod.html) and\n",
    "- the [CMEMS](http://marine.copernicus.eu/) In-Situ TAC.\n",
    "\n",
    "This module can be installed by: \n",
    "\n",
    "```julia\n",
    "using Pkg\n",
    "Pkg.add(\"PhysOcean\")\n",
    "\n",
    "```\n",
    "or in the package REPL\n",
    "```julia\n",
    "(@v1.11) pkg> add PhysOcean\n",
    "```\n",
    "We make sure that the latest version is installed."
   ]
  },
  {
   "cell_type": "code",
   "execution_count": null,
   "metadata": {},
   "outputs": [],
   "source": [
    "using Pkg\n",
    "Pkg.add(PackageSpec(name=\"PhysOcean\", rev=\"master\"))"
   ]
  },
  {
   "cell_type": "code",
   "execution_count": null,
   "metadata": {
    "slideshow": {
     "slide_type": "fragment"
    }
   },
   "outputs": [],
   "source": [
    "using CairoMakie\n",
    "using GeoMakie\n",
    "using PhysOcean           # Download data from the World Ocean Database and Copernicus\n",
    "using DIVAnd              # DIVAnd \n",
    "using Dates\n",
    "using Statistics\n",
    "include(\"../config.jl\")"
   ]
  },
  {
   "cell_type": "markdown",
   "metadata": {},
   "source": [
    "## Settings\n",
    "Define the time and geospatial bounding box for downloading the data"
   ]
  },
  {
   "cell_type": "code",
   "execution_count": null,
   "metadata": {
    "slideshow": {
     "slide_type": "subslide"
    }
   },
   "outputs": [],
   "source": [
    "# resolution (the resolution is only used for DIVAnd analyses)\n",
    "dx = dy = 0.25   # medium size test \n",
    "\n",
    "# vectors defining the longitude and latitudes grids\n",
    "# Here longitude and latitude correspond to the Mediterranean Sea\n",
    "lonr = -7:dx:37\n",
    "latr = 30:dy:46\n",
    "\n",
    "# time range of the in-situ data\n",
    "timerange = [Date(2016,1,1),Date(2016,12,31)]"
   ]
  },
  {
   "cell_type": "code",
   "execution_count": null,
   "metadata": {
    "slideshow": {
     "slide_type": "subslide"
    }
   },
   "outputs": [],
   "source": [
    "# Name of the variable\n",
    "varname = \"Salinity\""
   ]
  },
  {
   "cell_type": "markdown",
   "metadata": {},
   "source": [
    "Please use your own email address (!) 😉     \n",
    "It is only use to get notified by mail once the dataset is ready."
   ]
  },
  {
   "cell_type": "code",
   "execution_count": null,
   "metadata": {
    "slideshow": {
     "slide_type": "subslide"
    }
   },
   "outputs": [],
   "source": [
    "if isfile(\"email.txt\")\n",
    "    email = strip(read(\"email.txt\",String));\n",
    "    @info(\"Getting email address from email.txt\");\n",
    "else\n",
    "    @warn(\"Create a file 'email.txt' if you want to query data to the World Ocean Database\")\n",
    "end\n",
    "\n",
    "# Email for downloading the data\n",
    "# Indicate here your email address\n",
    "email = \"ctroupin@uliege.be\""
   ]
  },
  {
   "cell_type": "markdown",
   "metadata": {
    "slideshow": {
     "slide_type": "slide"
    }
   },
   "source": [
    "## Download the data\n",
    "\n",
    "* World Ocean Database: example for bulk access data by simulating a web-user.\n",
    "* Downloading can take several tens of minutes.\n",
    "* SeaDataNet will provide a dedicated machine-to-machine interface during the SeaDataCloud project"
   ]
  },
  {
   "cell_type": "code",
   "execution_count": null,
   "metadata": {},
   "outputs": [],
   "source": [
    "?WorldOceanDatabase.download"
   ]
  },
  {
   "cell_type": "markdown",
   "metadata": {},
   "source": [
    "Define the directory where the results will be saved. This directory must exists and must be empty.   \n",
    "The command `mkpath` will create this path (including parent path)."
   ]
  },
  {
   "cell_type": "code",
   "execution_count": null,
   "metadata": {
    "slideshow": {
     "slide_type": "fragment"
    }
   },
   "outputs": [],
   "source": [
    "basedir = joinpath(datadir, \"WOD-temporary-dir2\")\n",
    "isdir(basedir) ? rm(basedir,recursive=true) : mkpath(basedir)\n",
    "WorldOceanDatabase.download(lonr, latr, timerange, varname, email, basedir);"
   ]
  },
  {
   "cell_type": "markdown",
   "metadata": {},
   "source": [
    "Downloading from World Ocean Database can take some time, the result from the previous request can be download directly:"
   ]
  },
  {
   "cell_type": "code",
   "execution_count": null,
   "metadata": {},
   "outputs": [],
   "source": [
    "download_check(WODdatafile, WODdatafileURL)\n",
    "extractcommand = `tar -C $(datadir) -xzf $(WODdatafile)`\n",
    "run(extractcommand);"
   ]
  },
  {
   "cell_type": "markdown",
   "metadata": {
    "slideshow": {
     "slide_type": "slide"
    }
   },
   "source": [
    "## Load data\n",
    "Load the data into memory and perform, if needed, an additional subsetting"
   ]
  },
  {
   "cell_type": "code",
   "execution_count": null,
   "metadata": {
    "slideshow": {
     "slide_type": "fragment"
    }
   },
   "outputs": [],
   "source": [
    "# load all data under basedir as a double-precision floating point variable\n",
    "obsval, obslon, obslat, obsdepth, obstime, obsid = \n",
    "WorldOceanDatabase.load(Float64, basedir, \"Salinity\");\n",
    "@info(\"Number of data points: $(length(obsval))\")"
   ]
  },
  {
   "cell_type": "markdown",
   "metadata": {},
   "source": [
    "Check some observation IDs"
   ]
  },
  {
   "cell_type": "code",
   "execution_count": null,
   "metadata": {},
   "outputs": [],
   "source": [
    "@show obsid[1];\n",
    "@show obsid[2];"
   ]
  },
  {
   "cell_type": "markdown",
   "metadata": {},
   "source": [
    "With `checkobs` we get an overview of the extremal values of each dimension and variable."
   ]
  },
  {
   "cell_type": "code",
   "execution_count": null,
   "metadata": {},
   "outputs": [],
   "source": [
    "checkobs((obslon, obslat, obsdepth, obstime), obsval, obsid)"
   ]
  },
  {
   "cell_type": "markdown",
   "metadata": {},
   "source": [
    "## Additional sub-setting \n",
    "Based on time and depth for plotting.     \n",
    "For instance the month can be extracted from the `Date` using:"
   ]
  },
  {
   "cell_type": "code",
   "execution_count": null,
   "metadata": {},
   "outputs": [],
   "source": [
    "Dates.month.(obstime)"
   ]
  },
  {
   "cell_type": "code",
   "execution_count": null,
   "metadata": {},
   "outputs": [],
   "source": [
    "# depth range levels\n",
    "depthr = [0., 20.]\n",
    "\n",
    "# month range (January to March)\n",
    "timer = [1, 3]\n",
    "\n",
    "# additional sub-setting and discard wrong negative salinities\n",
    "sel = ((obsval .> 0 )\n",
    "       .& (minimum(depthr) .<= obsdepth .<= maximum(depthr))\n",
    "       .& (minimum(timer) .<= Dates.month.(obstime) .<= maximum(timer)));\n",
    "\n",
    "@show typeof(sel);\n",
    "@show size(sel);"
   ]
  },
  {
   "cell_type": "markdown",
   "metadata": {},
   "source": [
    "The new variables (ending by `sel`) are a sub-selection based on the previous criteria."
   ]
  },
  {
   "cell_type": "code",
   "execution_count": null,
   "metadata": {
    "slideshow": {
     "slide_type": "fragment"
    }
   },
   "outputs": [],
   "source": [
    "valsel = obsval[sel]\n",
    "lonsel = obslon[sel]\n",
    "latsel = obslat[sel]\n",
    "depthsel = obsdepth[sel]\n",
    "timesel = obstime[sel]\n",
    "idssel = obsid[sel];"
   ]
  },
  {
   "cell_type": "markdown",
   "metadata": {},
   "source": [
    "Let's perform again the check."
   ]
  },
  {
   "cell_type": "code",
   "execution_count": null,
   "metadata": {},
   "outputs": [],
   "source": [
    "checkobs((lonsel,latsel,depthsel,timesel),valsel,idssel)"
   ]
  },
  {
   "cell_type": "markdown",
   "metadata": {},
   "source": [
    "Number of selected data points"
   ]
  },
  {
   "cell_type": "code",
   "execution_count": null,
   "metadata": {},
   "outputs": [],
   "source": [
    "length(valsel)"
   ]
  },
  {
   "cell_type": "markdown",
   "metadata": {},
   "source": [
    "## Bathymetry download \n",
    "For plotting purpose. See [06-topography](06-topography.ipynb) for details."
   ]
  },
  {
   "cell_type": "code",
   "execution_count": null,
   "metadata": {},
   "outputs": [],
   "source": [
    "bathname = gebco16file\n",
    "download_check(gebco16file, gebco16fileURL)\n",
    "bathisglobal = true\n",
    "\n",
    "# Extract the bathymetry for plotting\n",
    "bx, by, b = DIVAnd.extract_bath(bathname, bathisglobal, lonr, latr);"
   ]
  },
  {
   "cell_type": "markdown",
   "metadata": {},
   "source": [
    "Create a simple plot to show the domain."
   ]
  },
  {
   "cell_type": "code",
   "execution_count": null,
   "metadata": {},
   "outputs": [],
   "source": [
    "plot_bathy(bx, by, b, xticks=-7.:4.:37, yticks=30.:3.:48.)"
   ]
  },
  {
   "cell_type": "markdown",
   "metadata": {},
   "source": [
    "## Data plotting\n",
    "The bathymetry is used to display a land-sea mask using the `contourf` function with 2 levels.      \n",
    "The data are shown as colored circles using `scatter`."
   ]
  },
  {
   "cell_type": "code",
   "execution_count": null,
   "metadata": {},
   "outputs": [],
   "source": [
    "f = GeoMakie.Figure()\n",
    "ax = GeoAxis(f[1,1], title=\"Observations\")\n",
    "GeoMakie.contourf!(ax, bx, by, b, levels = [-1e5,0,1e5], colormap=Reverse(\"binary\"))\n",
    "GeoMakie.scatter!(ax, obslon[sel],obslat[sel]; color = obsval[sel])\n",
    "f"
   ]
  },
  {
   "cell_type": "markdown",
   "metadata": {},
   "source": [
    "# Check for duplicates\n",
    "\n",
    "There are two ways to call the function `checkduplicates`:"
   ]
  },
  {
   "cell_type": "code",
   "execution_count": null,
   "metadata": {},
   "outputs": [],
   "source": [
    "?DIVAnd.Quadtrees.checkduplicates"
   ]
  },
  {
   "cell_type": "markdown",
   "metadata": {},
   "source": [
    "We load a small ODV file containing data in the same domain to test the duplicate detection.     \n",
    "We use the function `ODVspreadsheet.load` available within `DIVAnd.jl`."
   ]
  },
  {
   "cell_type": "code",
   "execution_count": null,
   "metadata": {},
   "outputs": [],
   "source": [
    "download_check(smallODVsamplefile, smallODVsamplefileURL)"
   ]
  },
  {
   "cell_type": "code",
   "execution_count": null,
   "metadata": {},
   "outputs": [],
   "source": [
    "obsval_ODV,obslon_ODV,obslat_ODV,obsdepth_ODV,obstime_ODV,obsid_ODV = ODVspreadsheet.load(Float64,[smallODVfile],\n",
    "                           [\"Water body salinity\"]; nametype = :localname );"
   ]
  },
  {
   "cell_type": "code",
   "execution_count": null,
   "metadata": {},
   "outputs": [],
   "source": [
    "length(obsval_ODV)"
   ]
  },
  {
   "cell_type": "code",
   "execution_count": null,
   "metadata": {},
   "outputs": [],
   "source": [
    "checkobs((obslon_ODV,obslat_ODV,obsdepth_ODV,obstime_ODV),obsval_ODV,obsid_ODV)"
   ]
  },
  {
   "cell_type": "code",
   "execution_count": null,
   "metadata": {},
   "outputs": [],
   "source": [
    "f = GeoMakie.Figure()\n",
    "ax = GeoAxis(f[1,1], title=\"Observations from ODV file\")\n",
    "GeoMakie.contourf!(ax, bx, by, b, levels = [-1e5,0,1e5], colormap=Reverse(\"binary\"))\n",
    "GeoMakie.scatter!(ax, obslon_ODV, obslat_ODV; color = obsval_ODV)\n",
    "f"
   ]
  },
  {
   "cell_type": "markdown",
   "metadata": {},
   "source": [
    "Look for duplicates\n",
    "* within 0.01 degree (about 1km)\n",
    "* within 0.01 m depth\n",
    "* within 1 minute.      \n",
    "\n",
    "Difference in value is 0.01 psu."
   ]
  },
  {
   "cell_type": "code",
   "execution_count": null,
   "metadata": {},
   "outputs": [],
   "source": [
    "dupl = DIVAnd.Quadtrees.checkduplicates((obslon_ODV,obslat_ODV,obsdepth_ODV,obstime_ODV),\n",
    "    obsval_ODV,(obslon,obslat,obsdepth,obstime),\n",
    "    obsval,(0.01,0.01,0.01,1/(24*60)),0.01);"
   ]
  },
  {
   "cell_type": "code",
   "execution_count": null,
   "metadata": {},
   "outputs": [],
   "source": [
    "size(obsval) == size(dupl)"
   ]
  },
  {
   "cell_type": "markdown",
   "metadata": {},
   "source": [
    "* `dupl` is an array of the same length as `obsval`\n",
    "* If the i-th element of `dupl` is an empty list, then the i-th element in `obsval` is probably not a duplicate\n",
    "* Otherwise, the i-th element in `obsval` is probably a duplicate of the element `val_ODV` with the indices `dupl[i]`."
   ]
  },
  {
   "cell_type": "code",
   "execution_count": null,
   "metadata": {},
   "outputs": [],
   "source": [
    "dupl[1]"
   ]
  },
  {
   "cell_type": "markdown",
   "metadata": {},
   "source": [
    "To get a list of possible duplicates, we check for the elements of `dupl` that are not empty."
   ]
  },
  {
   "cell_type": "code",
   "execution_count": null,
   "metadata": {},
   "outputs": [],
   "source": [
    "index = findall(.!isempty.(dupl))"
   ]
  },
  {
   "cell_type": "markdown",
   "metadata": {},
   "source": [
    "Number of duplicate candidates"
   ]
  },
  {
   "cell_type": "code",
   "execution_count": null,
   "metadata": {},
   "outputs": [],
   "source": [
    "length(index)"
   ]
  },
  {
   "cell_type": "markdown",
   "metadata": {},
   "source": [
    "Check the first reported duplicate"
   ]
  },
  {
   "cell_type": "code",
   "execution_count": null,
   "metadata": {},
   "outputs": [],
   "source": [
    "if length(index) > 0\n",
    "    index_WOD = index[1]\n",
    "else\n",
    "    @info(\"No duplicate detected\")\n",
    "end"
   ]
  },
  {
   "cell_type": "markdown",
   "metadata": {},
   "source": [
    "Show its coordinates and value from the ODV file:"
   ]
  },
  {
   "cell_type": "code",
   "execution_count": null,
   "metadata": {},
   "outputs": [],
   "source": [
    "obslon[index_WOD],obslat[index_WOD],obsdepth[index_WOD],obstime[index_WOD],obsval[index_WOD]"
   ]
  },
  {
   "cell_type": "markdown",
   "metadata": {},
   "source": [
    "They are quite close to the data point with the index:"
   ]
  },
  {
   "cell_type": "code",
   "execution_count": null,
   "metadata": {},
   "outputs": [],
   "source": [
    "dupl[index_WOD]"
   ]
  },
  {
   "cell_type": "code",
   "execution_count": null,
   "metadata": {},
   "outputs": [],
   "source": [
    "index_ODV = dupl[index_WOD][1]"
   ]
  },
  {
   "cell_type": "code",
   "execution_count": null,
   "metadata": {},
   "outputs": [],
   "source": [
    "obslon_ODV[index_ODV],obslat_ODV[index_ODV],\n",
    "obsdepth_ODV[index_ODV],obstime_ODV[index_ODV],\n",
    "obsval_ODV[index_ODV]"
   ]
  },
  {
   "cell_type": "markdown",
   "metadata": {},
   "source": [
    "Indeed, it is quite likely that they are duplicates.\n",
    "\n",
    "Combine the dataset and retain only new points from WOD"
   ]
  },
  {
   "cell_type": "code",
   "execution_count": null,
   "metadata": {},
   "outputs": [],
   "source": [
    "newpoints = findall(isempty.(dupl));\n",
    "@show length(newpoints)"
   ]
  },
  {
   "cell_type": "code",
   "execution_count": null,
   "metadata": {},
   "outputs": [],
   "source": [
    "obslon_combined   = [obslon_ODV;   obslon[newpoints]];\n",
    "obslat_combined   = [obslat_ODV;   obslat[newpoints]];\n",
    "obsdepth_combined = [obsdepth_ODV; obsdepth[newpoints]];\n",
    "obstime_combined  = [obstime_ODV;  obstime[newpoints]];\n",
    "obsval_combined   = [obsval_ODV;   obsval[newpoints]];\n",
    "obsids_combined   = [obsid_ODV;   obsid[newpoints]];"
   ]
  },
  {
   "cell_type": "markdown",
   "metadata": {},
   "source": [
    "## CMEMS data download\n",
    "The function works in a similar way."
   ]
  },
  {
   "cell_type": "code",
   "execution_count": null,
   "metadata": {},
   "outputs": [],
   "source": [
    "?CMEMS.download"
   ]
  },
  {
   "cell_type": "markdown",
   "metadata": {},
   "source": [
    "## Exercice\n",
    "1. Download data from CMEMS in the same domain and for the same time period.\n",
    "2. Plot the data location on a map along with the WOD observations.\n",
    "3. Check for the duplicates between the two datasets."
   ]
  },
  {
   "cell_type": "code",
   "execution_count": null,
   "metadata": {},
   "outputs": [],
   "source": []
  }
 ],
 "metadata": {
  "@webio": {
   "lastCommId": null,
   "lastKernelId": null
  },
  "kernelspec": {
   "display_name": "Julia 1.11.1",
   "language": "julia",
   "name": "julia-1.11"
  },
  "language_info": {
   "file_extension": ".jl",
   "mimetype": "application/julia",
   "name": "julia",
   "version": "1.11.1"
  }
 },
 "nbformat": 4,
 "nbformat_minor": 4
}
