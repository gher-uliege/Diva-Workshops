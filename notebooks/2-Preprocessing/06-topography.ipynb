{
 "cells": [
  {
   "cell_type": "markdown",
   "metadata": {},
   "source": [
    "# Reading and editing a topography\n",
    "A topograph/bathymetry is needed to create the domain of interpolation (land-sea mask). The topography/bathymetry is usually extracted from a netCDF file.     \n",
    "Adapted topographies:\n",
    "* General Bathymetric Chart of the Oceans ([GEBCO](https://www.gebco.net/))\n",
    "* [EMODnet Bathymetry](http://www.emodnet-bathymetry.eu)\n",
    "* Other topographies can be used as long as they define the netCDF variables `lon`, `lat` and `bat` (positive above sea-level and negative below, in `DIVAnd` however, the convention is that `z` is positive in sea water).\n",
    "\n",
    "This notebook illustrates how the land-sea mask can be modified, for example to exclude a lake."
   ]
  },
  {
   "cell_type": "markdown",
   "metadata": {},
   "source": [
    "\n",
    "![mask](./Images/2020-01-12-more-prime-images-1.png)\n",
    "\n",
    "This 7500 digits long number in binary is actually a prime number ([Gilles Esposito-Farèse](http://www.gef.free.fr/oulipo34.html#date060120))."
   ]
  },
  {
   "cell_type": "code",
   "execution_count": 28,
   "metadata": {},
   "outputs": [
    {
     "data": {
      "text/plain": [
       "\"https://dox.uliege.be/index.php/s/h8d3pyqmuea6J9H/download\""
      ]
     },
     "execution_count": 28,
     "metadata": {},
     "output_type": "execute_result"
    }
   ],
   "source": [
    "using DIVAnd\n",
    "using PyPlot\n",
    "using Dates\n",
    "using Statistics\n",
    "using CairoMakie\n",
    "using GeoMakie\n",
    "include(\"../config.jl\")"
   ]
  },
  {
   "cell_type": "markdown",
   "metadata": {},
   "source": [
    "The full EMODnet Bathymetry is a quite big file (~1GB) that can be obtained from the bathymetry portal: http://portal.emodnet-bathymetry.eu/?menu=19. In the present notebook, we will work with the GEBCO bathymetry with a resolution that has been decreased.\n",
    "\n",
    "Note that an extremely fine bathymetry is only necessary when working on small, regional domains."
   ]
  },
  {
   "cell_type": "markdown",
   "metadata": {},
   "source": [
    "## Data download and domain selection\n",
    "We create a domain encompassing the north of Corsica.     \n",
    "The bathymetry file is automatically downloaded (if not already present)."
   ]
  },
  {
   "cell_type": "code",
   "execution_count": 29,
   "metadata": {},
   "outputs": [
    {
     "name": "stderr",
     "output_type": "stream",
     "text": [
      "\u001b[36m\u001b[1m[ \u001b[22m\u001b[39m\u001b[36m\u001b[1mInfo: \u001b[22m\u001b[39mFile already downloaded\n"
     ]
    }
   ],
   "source": [
    "dx = dy = 0.125\n",
    "lonr = 2.5:dx:12.\n",
    "latr = 42.3:dy:44.6\n",
    "\n",
    "bathname = gebco08file\n",
    "download_check(gebco08file, gebco08fileURL)\n",
    "bathisglobal = true;"
   ]
  },
  {
   "cell_type": "markdown",
   "metadata": {},
   "source": [
    "We have two main tools to load the bathymetry:\n",
    "1. `DIVAnd.extract_bath` loads the bathymetry at the resolution defined in the netCDF file while \n",
    "2. `DIVAnd.load_bath` reduces the resolution to match the resolution of the analysis."
   ]
  },
  {
   "cell_type": "markdown",
   "metadata": {},
   "source": [
    "### Extract bathymetry"
   ]
  },
  {
   "cell_type": "code",
   "execution_count": 30,
   "metadata": {},
   "outputs": [
    {
     "name": "stdout",
     "output_type": "stream",
     "text": [
      "search: \u001b[0m\u001b[1me\u001b[22m\u001b[0m\u001b[1mx\u001b[22m\u001b[0m\u001b[1mt\u001b[22m\u001b[0m\u001b[1mr\u001b[22m\u001b[0m\u001b[1ma\u001b[22m\u001b[0m\u001b[1mc\u001b[22m\u001b[0m\u001b[1mt\u001b[22m\u001b[0m\u001b[1m_\u001b[22m\u001b[0m\u001b[1mb\u001b[22m\u001b[0m\u001b[1ma\u001b[22m\u001b[0m\u001b[1mt\u001b[22m\u001b[0m\u001b[1mh\u001b[22m AbstractMatch @\u001b[0m\u001b[1me\u001b[22m\u001b[0m\u001b[1mx\u001b[22m\u001b[0m\u001b[1mt\u001b[22m\u001b[0m\u001b[1mr\u001b[22m\u001b[0m\u001b[1ma\u001b[22m\u001b[0m\u001b[1mc\u001b[22m\u001b[0m\u001b[1mt\u001b[22mvalue @\u001b[0m\u001b[1me\u001b[22m\u001b[0m\u001b[1mx\u001b[22m\u001b[0m\u001b[1mt\u001b[22m\u001b[0m\u001b[1mr\u001b[22m\u001b[0m\u001b[1ma\u001b[22m\u001b[0m\u001b[1mc\u001b[22m\u001b[0m\u001b[1mt\u001b[22m load_bath\n",
      "\n"
     ]
    },
    {
     "data": {
      "text/latex": [
       "\\begin{verbatim}\n",
       "bx,by,b = DIVAnd.extract_bath(bath_name,isglobal,xi,yi)\n",
       "\\end{verbatim}\n",
       "Extract the bathymetry from the NetCDF file \\texttt{bathname}. The parameter \\texttt{isglobal} is true if the NetCDF file covers the whole globe and thus the last longitude point can be considered to be right next to the first longitude point. \\texttt{xi} and \\texttt{yi} are vectors defining the bounding box of the data. No interpolation is performed.\n",
       "\n",
       "\\textbf{Convention:} b is positive in the water and negative in the air.\n",
       "\n",
       "The NetCDF file is expected to have the one dimensional variables \\texttt{lon} and \\texttt{lat} with the longitude (degrees East) and latitude (degrees North) and the two dimentional array \\texttt{bat} with the digital terrain model (negative in water and positive above water). The order of the dimension should follow be: longitude and then latitude in \\href{https://en.wikipedia.org/wiki/Row-_and_column-major_order}{Column-major ordering} (or latitude and then longitude if the tool \\texttt{ncdump} is used, which is based on Row-major ordering).\n",
       "\n",
       "Example of the output of \\texttt{ncdump -h}:\n",
       "\n",
       "\\begin{verbatim}\n",
       "netcdf gebco_30sec_8 {\n",
       "dimensions:\n",
       "     lat = 2702 ;\n",
       "     lon = 5400 ;\n",
       "variables:\n",
       "     double lat(lat) ;\n",
       "          lat:long_name = \"Latitude\" ;\n",
       "          lat:standard_name = \"latitude\" ;\n",
       "          lat:units = \"degrees_north\" ;\n",
       "     double lon(lon) ;\n",
       "          lon:long_name = \"Longitude\" ;\n",
       "          lon:standard_name = \"longitude\" ;\n",
       "          lon:units = \"degrees_east\" ;\n",
       "     float bat(lat, lon) ;\n",
       "          bat:long_name = \"elevation above sea level\" ;\n",
       "          bat:standard_name = \"height\" ;\n",
       "          bat:units = \"meters\" ;\n",
       "\n",
       "// global attributes:\n",
       "          :title = \"GEBCO\" ;\n",
       "}\n",
       "\\end{verbatim}\n"
      ],
      "text/markdown": [
       "```\n",
       "bx,by,b = DIVAnd.extract_bath(bath_name,isglobal,xi,yi)\n",
       "```\n",
       "\n",
       "Extract the bathymetry from the NetCDF file `bathname`. The parameter `isglobal` is true if the NetCDF file covers the whole globe and thus the last longitude point can be considered to be right next to the first longitude point. `xi` and `yi` are vectors defining the bounding box of the data. No interpolation is performed.\n",
       "\n",
       "**Convention:** b is positive in the water and negative in the air.\n",
       "\n",
       "The NetCDF file is expected to have the one dimensional variables `lon` and `lat` with the longitude (degrees East) and latitude (degrees North) and the two dimentional array `bat` with the digital terrain model (negative in water and positive above water). The order of the dimension should follow be: longitude and then latitude in [Column-major ordering](https://en.wikipedia.org/wiki/Row-_and_column-major_order) (or latitude and then longitude if the tool `ncdump` is used, which is based on Row-major ordering).\n",
       "\n",
       "Example of the output of `ncdump -h`:\n",
       "\n",
       "```\n",
       "netcdf gebco_30sec_8 {\n",
       "dimensions:\n",
       "     lat = 2702 ;\n",
       "     lon = 5400 ;\n",
       "variables:\n",
       "     double lat(lat) ;\n",
       "          lat:long_name = \"Latitude\" ;\n",
       "          lat:standard_name = \"latitude\" ;\n",
       "          lat:units = \"degrees_north\" ;\n",
       "     double lon(lon) ;\n",
       "          lon:long_name = \"Longitude\" ;\n",
       "          lon:standard_name = \"longitude\" ;\n",
       "          lon:units = \"degrees_east\" ;\n",
       "     float bat(lat, lon) ;\n",
       "          bat:long_name = \"elevation above sea level\" ;\n",
       "          bat:standard_name = \"height\" ;\n",
       "          bat:units = \"meters\" ;\n",
       "\n",
       "// global attributes:\n",
       "          :title = \"GEBCO\" ;\n",
       "}\n",
       "```\n"
      ],
      "text/plain": [
       "\u001b[36m  bx,by,b = DIVAnd.extract_bath(bath_name,isglobal,xi,yi)\u001b[39m\n",
       "\n",
       "  Extract the bathymetry from the NetCDF file \u001b[36mbathname\u001b[39m. The parameter \u001b[36misglobal\u001b[39m\n",
       "  is true if the NetCDF file covers the whole globe and thus the last\n",
       "  longitude point can be considered to be right next to the first longitude\n",
       "  point. \u001b[36mxi\u001b[39m and \u001b[36myi\u001b[39m are vectors defining the bounding box of the data. No\n",
       "  interpolation is performed.\n",
       "\n",
       "  \u001b[1mConvention:\u001b[22m b is positive in the water and negative in the air.\n",
       "\n",
       "  The NetCDF file is expected to have the one dimensional variables \u001b[36mlon\u001b[39m and\n",
       "  \u001b[36mlat\u001b[39m with the longitude (degrees East) and latitude (degrees North) and the\n",
       "  two dimentional array \u001b[36mbat\u001b[39m with the digital terrain model (negative in water\n",
       "  and positive above water). The order of the dimension should follow be:\n",
       "  longitude and then latitude in Column-major ordering\n",
       "  (https://en.wikipedia.org/wiki/Row-_and_column-major_order) (or latitude and\n",
       "  then longitude if the tool \u001b[36mncdump\u001b[39m is used, which is based on Row-major\n",
       "  ordering).\n",
       "\n",
       "  Example of the output of \u001b[36mncdump -h\u001b[39m:\n",
       "\n",
       "\u001b[36m  netcdf gebco_30sec_8 {\u001b[39m\n",
       "\u001b[36m  dimensions:\u001b[39m\n",
       "\u001b[36m       lat = 2702 ;\u001b[39m\n",
       "\u001b[36m       lon = 5400 ;\u001b[39m\n",
       "\u001b[36m  variables:\u001b[39m\n",
       "\u001b[36m       double lat(lat) ;\u001b[39m\n",
       "\u001b[36m            lat:long_name = \"Latitude\" ;\u001b[39m\n",
       "\u001b[36m            lat:standard_name = \"latitude\" ;\u001b[39m\n",
       "\u001b[36m            lat:units = \"degrees_north\" ;\u001b[39m\n",
       "\u001b[36m       double lon(lon) ;\u001b[39m\n",
       "\u001b[36m            lon:long_name = \"Longitude\" ;\u001b[39m\n",
       "\u001b[36m            lon:standard_name = \"longitude\" ;\u001b[39m\n",
       "\u001b[36m            lon:units = \"degrees_east\" ;\u001b[39m\n",
       "\u001b[36m       float bat(lat, lon) ;\u001b[39m\n",
       "\u001b[36m            bat:long_name = \"elevation above sea level\" ;\u001b[39m\n",
       "\u001b[36m            bat:standard_name = \"height\" ;\u001b[39m\n",
       "\u001b[36m            bat:units = \"meters\" ;\u001b[39m\n",
       "\u001b[36m  \u001b[39m\n",
       "\u001b[36m  // global attributes:\u001b[39m\n",
       "\u001b[36m            :title = \"GEBCO\" ;\u001b[39m\n",
       "\u001b[36m  }\u001b[39m"
      ]
     },
     "execution_count": 30,
     "metadata": {},
     "output_type": "execute_result"
    }
   ],
   "source": [
    "?extract_bath"
   ]
  },
  {
   "cell_type": "code",
   "execution_count": 31,
   "metadata": {},
   "outputs": [
    {
     "name": "stdout",
     "output_type": "stream",
     "text": [
      "size(b) = (75, 21)\n"
     ]
    }
   ],
   "source": [
    "bx,by,b = extract_bath(bathname,true,lonr,latr)\n",
    "@show size(b);"
   ]
  },
  {
   "cell_type": "code",
   "execution_count": 34,
   "metadata": {},
   "outputs": [
    {
     "name": "stdout",
     "output_type": "stream",
     "text": [
      "search: \u001b[0m\u001b[1mG\u001b[22m\u001b[0m\u001b[1me\u001b[22m\u001b[0m\u001b[1mo\u001b[22m\u001b[0m\u001b[1mA\u001b[22m\u001b[0m\u001b[1mx\u001b[22m\u001b[0m\u001b[1mi\u001b[22m\u001b[0m\u001b[1ms\u001b[22m OldAxis Axis \u001b[0m\u001b[1mG\u001b[22m\u001b[0m\u001b[1me\u001b[22m\u001b[0m\u001b[1mo\u001b[22mM\u001b[0m\u001b[1ma\u001b[22mkie\n",
      "\n"
     ]
    },
    {
     "data": {
      "text/latex": [
       "\\textbf{\\texttt{GeoMakie.GeoAxis <: Block}}\n",
       "\n",
       "No docstring defined.\n",
       "\n",
       "\\textbf{Attributes}\n",
       "\n",
       "(type \\texttt{?GeoMakie.GeoAxis.x} in the REPL for more information about attribute \\texttt{x})\n",
       "\n",
       "\\texttt{alignmode}, \\texttt{aspect}, \\texttt{autolimitaspect}, \\texttt{dest}, \\texttt{fonts}, \\texttt{halign}, \\texttt{height}, \\texttt{limits}, \\texttt{panbutton}, \\texttt{source}, \\texttt{subtitle}, \\texttt{subtitlecolor}, \\texttt{subtitlefont}, \\texttt{subtitlegap}, \\texttt{subtitlelineheight}, \\texttt{subtitlesize}, \\texttt{subtitlevisible}, \\texttt{tellheight}, \\texttt{tellwidth}, \\texttt{title}, \\texttt{titlealign}, \\texttt{titlecolor}, \\texttt{titlefont}, \\texttt{titlegap}, \\texttt{titlelineheight}, \\texttt{titlesize}, \\texttt{titlevisible}, \\texttt{valign}, \\texttt{width}, \\texttt{xautolimitmargin}, \\texttt{xaxisposition}, \\texttt{xgridcolor}, \\texttt{xgridstyle}, \\texttt{xgridvisible}, \\texttt{xgridwidth}, \\texttt{xlabel}, \\texttt{xlabelcolor}, \\texttt{xlabelfont}, \\texttt{xlabelpadding}, \\texttt{xlabelrotation}, \\texttt{xlabelsize}, \\texttt{xlabelvisible}, \\texttt{xminorgridcolor}, \\texttt{xminorgridstyle}, \\texttt{xminorgridvisible}, \\texttt{xminorgridwidth}, \\texttt{xminortickalign}, \\texttt{xminortickcolor}, \\texttt{xminorticks}, \\texttt{xminorticksize}, \\texttt{xminorticksvisible}, \\texttt{xminortickwidth}, \\texttt{xpankey}, \\texttt{xpanlock}, \\texttt{xrectzoom}, \\texttt{xreversed}, \\texttt{xscale}, \\texttt{xtickalign}, \\texttt{xtickcolor}, \\texttt{xtickformat}, \\texttt{xticklabelalign}, \\texttt{xticklabelcolor}, \\texttt{xticklabelfont}, \\texttt{xticklabelpad}, \\texttt{xticklabelrotation}, \\texttt{xticklabelsize}, \\texttt{xticklabelspace}, \\texttt{xticklabelsvisible}, \\texttt{xticks}, \\texttt{xticksize}, \\texttt{xticksvisible}, \\texttt{xtickwidth}, \\texttt{xzoomkey}, \\texttt{xzoomlock}, \\texttt{yautolimitmargin}, \\texttt{yaxisposition}, \\texttt{ygridcolor}, \\texttt{ygridstyle}, \\texttt{ygridvisible}, \\texttt{ygridwidth}, \\texttt{ylabel}, \\texttt{ylabelcolor}, \\texttt{ylabelfont}, \\texttt{ylabelpadding}, \\texttt{ylabelrotation}, \\texttt{ylabelsize}, \\texttt{ylabelvisible}, \\texttt{yminorgridcolor}, \\texttt{yminorgridstyle}, \\texttt{yminorgridvisible}, \\texttt{yminorgridwidth}, \\texttt{yminortickalign}, \\texttt{yminortickcolor}, \\texttt{yminorticks}, \\texttt{yminorticksize}, \\texttt{yminorticksvisible}, \\texttt{yminortickwidth}, \\texttt{ypankey}, \\texttt{ypanlock}, \\texttt{yrectzoom}, \\texttt{yreversed}, \\texttt{yscale}, \\texttt{ytickalign}, \\texttt{ytickcolor}, \\texttt{ytickformat}, \\texttt{yticklabelalign}, \\texttt{yticklabelcolor}, \\texttt{yticklabelfont}, \\texttt{yticklabelpad}, \\texttt{yticklabelrotation}, \\texttt{yticklabelsize}, \\texttt{yticklabelspace}, \\texttt{yticklabelsvisible}, \\texttt{yticks}, \\texttt{yticksize}, \\texttt{yticksvisible}, \\texttt{ytickwidth}, \\texttt{yzoomkey}, \\texttt{yzoomlock}\n",
       "\n"
      ],
      "text/markdown": [
       "**`GeoMakie.GeoAxis <: Block`**\n",
       "\n",
       "No docstring defined.\n",
       "\n",
       "**Attributes**\n",
       "\n",
       "(type `?GeoMakie.GeoAxis.x` in the REPL for more information about attribute `x`)\n",
       "\n",
       "`alignmode`, `aspect`, `autolimitaspect`, `dest`, `fonts`, `halign`, `height`, `limits`, `panbutton`, `source`, `subtitle`, `subtitlecolor`, `subtitlefont`, `subtitlegap`, `subtitlelineheight`, `subtitlesize`, `subtitlevisible`, `tellheight`, `tellwidth`, `title`, `titlealign`, `titlecolor`, `titlefont`, `titlegap`, `titlelineheight`, `titlesize`, `titlevisible`, `valign`, `width`, `xautolimitmargin`, `xaxisposition`, `xgridcolor`, `xgridstyle`, `xgridvisible`, `xgridwidth`, `xlabel`, `xlabelcolor`, `xlabelfont`, `xlabelpadding`, `xlabelrotation`, `xlabelsize`, `xlabelvisible`, `xminorgridcolor`, `xminorgridstyle`, `xminorgridvisible`, `xminorgridwidth`, `xminortickalign`, `xminortickcolor`, `xminorticks`, `xminorticksize`, `xminorticksvisible`, `xminortickwidth`, `xpankey`, `xpanlock`, `xrectzoom`, `xreversed`, `xscale`, `xtickalign`, `xtickcolor`, `xtickformat`, `xticklabelalign`, `xticklabelcolor`, `xticklabelfont`, `xticklabelpad`, `xticklabelrotation`, `xticklabelsize`, `xticklabelspace`, `xticklabelsvisible`, `xticks`, `xticksize`, `xticksvisible`, `xtickwidth`, `xzoomkey`, `xzoomlock`, `yautolimitmargin`, `yaxisposition`, `ygridcolor`, `ygridstyle`, `ygridvisible`, `ygridwidth`, `ylabel`, `ylabelcolor`, `ylabelfont`, `ylabelpadding`, `ylabelrotation`, `ylabelsize`, `ylabelvisible`, `yminorgridcolor`, `yminorgridstyle`, `yminorgridvisible`, `yminorgridwidth`, `yminortickalign`, `yminortickcolor`, `yminorticks`, `yminorticksize`, `yminorticksvisible`, `yminortickwidth`, `ypankey`, `ypanlock`, `yrectzoom`, `yreversed`, `yscale`, `ytickalign`, `ytickcolor`, `ytickformat`, `yticklabelalign`, `yticklabelcolor`, `yticklabelfont`, `yticklabelpad`, `yticklabelrotation`, `yticklabelsize`, `yticklabelspace`, `yticklabelsvisible`, `yticks`, `yticksize`, `yticksvisible`, `ytickwidth`, `yzoomkey`, `yzoomlock`\n"
      ],
      "text/plain": [
       "  \u001b[1m\u001b[36mGeoMakie.GeoAxis <: Block\u001b[39m\u001b[22m\n",
       "\n",
       "  No docstring defined.\n",
       "\n",
       "  \u001b[1mAttributes\u001b[22m\n",
       "\n",
       "  (type \u001b[36m?GeoMakie.GeoAxis.x\u001b[39m in the REPL for more information about attribute\n",
       "  \u001b[36mx\u001b[39m)\n",
       "\n",
       "  \u001b[36malignmode\u001b[39m, \u001b[36maspect\u001b[39m, \u001b[36mautolimitaspect\u001b[39m, \u001b[36mdest\u001b[39m, \u001b[36mfonts\u001b[39m, \u001b[36mhalign\u001b[39m, \u001b[36mheight\u001b[39m, \u001b[36mlimits\u001b[39m,\n",
       "  \u001b[36mpanbutton\u001b[39m, \u001b[36msource\u001b[39m, \u001b[36msubtitle\u001b[39m, \u001b[36msubtitlecolor\u001b[39m, \u001b[36msubtitlefont\u001b[39m, \u001b[36msubtitlegap\u001b[39m,\n",
       "  \u001b[36msubtitlelineheight\u001b[39m, \u001b[36msubtitlesize\u001b[39m, \u001b[36msubtitlevisible\u001b[39m, \u001b[36mtellheight\u001b[39m, \u001b[36mtellwidth\u001b[39m,\n",
       "  \u001b[36mtitle\u001b[39m, \u001b[36mtitlealign\u001b[39m, \u001b[36mtitlecolor\u001b[39m, \u001b[36mtitlefont\u001b[39m, \u001b[36mtitlegap\u001b[39m, \u001b[36mtitlelineheight\u001b[39m,\n",
       "  \u001b[36mtitlesize\u001b[39m, \u001b[36mtitlevisible\u001b[39m, \u001b[36mvalign\u001b[39m, \u001b[36mwidth\u001b[39m, \u001b[36mxautolimitmargin\u001b[39m, \u001b[36mxaxisposition\u001b[39m,\n",
       "  \u001b[36mxgridcolor\u001b[39m, \u001b[36mxgridstyle\u001b[39m, \u001b[36mxgridvisible\u001b[39m, \u001b[36mxgridwidth\u001b[39m, \u001b[36mxlabel\u001b[39m, \u001b[36mxlabelcolor\u001b[39m,\n",
       "  \u001b[36mxlabelfont\u001b[39m, \u001b[36mxlabelpadding\u001b[39m, \u001b[36mxlabelrotation\u001b[39m, \u001b[36mxlabelsize\u001b[39m, \u001b[36mxlabelvisible\u001b[39m,\n",
       "  \u001b[36mxminorgridcolor\u001b[39m, \u001b[36mxminorgridstyle\u001b[39m, \u001b[36mxminorgridvisible\u001b[39m, \u001b[36mxminorgridwidth\u001b[39m,\n",
       "  \u001b[36mxminortickalign\u001b[39m, \u001b[36mxminortickcolor\u001b[39m, \u001b[36mxminorticks\u001b[39m, \u001b[36mxminorticksize\u001b[39m,\n",
       "  \u001b[36mxminorticksvisible\u001b[39m, \u001b[36mxminortickwidth\u001b[39m, \u001b[36mxpankey\u001b[39m, \u001b[36mxpanlock\u001b[39m, \u001b[36mxrectzoom\u001b[39m,\n",
       "  \u001b[36mxreversed\u001b[39m, \u001b[36mxscale\u001b[39m, \u001b[36mxtickalign\u001b[39m, \u001b[36mxtickcolor\u001b[39m, \u001b[36mxtickformat\u001b[39m, \u001b[36mxticklabelalign\u001b[39m,\n",
       "  \u001b[36mxticklabelcolor\u001b[39m, \u001b[36mxticklabelfont\u001b[39m, \u001b[36mxticklabelpad\u001b[39m, \u001b[36mxticklabelrotation\u001b[39m,\n",
       "  \u001b[36mxticklabelsize\u001b[39m, \u001b[36mxticklabelspace\u001b[39m, \u001b[36mxticklabelsvisible\u001b[39m, \u001b[36mxticks\u001b[39m, \u001b[36mxticksize\u001b[39m,\n",
       "  \u001b[36mxticksvisible\u001b[39m, \u001b[36mxtickwidth\u001b[39m, \u001b[36mxzoomkey\u001b[39m, \u001b[36mxzoomlock\u001b[39m, \u001b[36myautolimitmargin\u001b[39m,\n",
       "  \u001b[36myaxisposition\u001b[39m, \u001b[36mygridcolor\u001b[39m, \u001b[36mygridstyle\u001b[39m, \u001b[36mygridvisible\u001b[39m, \u001b[36mygridwidth\u001b[39m, \u001b[36mylabel\u001b[39m,\n",
       "  \u001b[36mylabelcolor\u001b[39m, \u001b[36mylabelfont\u001b[39m, \u001b[36mylabelpadding\u001b[39m, \u001b[36mylabelrotation\u001b[39m, \u001b[36mylabelsize\u001b[39m,\n",
       "  \u001b[36mylabelvisible\u001b[39m, \u001b[36myminorgridcolor\u001b[39m, \u001b[36myminorgridstyle\u001b[39m, \u001b[36myminorgridvisible\u001b[39m,\n",
       "  \u001b[36myminorgridwidth\u001b[39m, \u001b[36myminortickalign\u001b[39m, \u001b[36myminortickcolor\u001b[39m, \u001b[36myminorticks\u001b[39m,\n",
       "  \u001b[36myminorticksize\u001b[39m, \u001b[36myminorticksvisible\u001b[39m, \u001b[36myminortickwidth\u001b[39m, \u001b[36mypankey\u001b[39m, \u001b[36mypanlock\u001b[39m,\n",
       "  \u001b[36myrectzoom\u001b[39m, \u001b[36myreversed\u001b[39m, \u001b[36myscale\u001b[39m, \u001b[36mytickalign\u001b[39m, \u001b[36mytickcolor\u001b[39m, \u001b[36mytickformat\u001b[39m,\n",
       "  \u001b[36myticklabelalign\u001b[39m, \u001b[36myticklabelcolor\u001b[39m, \u001b[36myticklabelfont\u001b[39m, \u001b[36myticklabelpad\u001b[39m,\n",
       "  \u001b[36myticklabelrotation\u001b[39m, \u001b[36myticklabelsize\u001b[39m, \u001b[36myticklabelspace\u001b[39m, \u001b[36myticklabelsvisible\u001b[39m,\n",
       "  \u001b[36myticks\u001b[39m, \u001b[36myticksize\u001b[39m, \u001b[36myticksvisible\u001b[39m, \u001b[36mytickwidth\u001b[39m, \u001b[36myzoomkey\u001b[39m, \u001b[36myzoomlock\u001b[39m"
      ]
     },
     "execution_count": 34,
     "metadata": {},
     "output_type": "execute_result"
    }
   ],
   "source": [
    "?GeoAxis"
   ]
  },
  {
   "cell_type": "code",
   "execution_count": 65,
   "metadata": {},
   "outputs": [
    {
     "data": {
      "text/plain": [
       "plot_bathy (generic function with 1 method)"
      ]
     },
     "execution_count": 65,
     "metadata": {},
     "output_type": "execute_result"
    }
   ],
   "source": [
    "function plot_bathy(bx, by, b)\n",
    "    fig = GeoMakie.Figure()\n",
    "    ga = GeoAxis(fig[1, 1];  dest = \"+proj=merc\", title = \"GEBCO bathymetry\", xticks=2.:1.:14, yticks=42.:1.:45.)\n",
    "    hm = GeoMakie.heatmap!(ga, bx, by, b, interpolate = false)\n",
    "    GeoMakie.xlims!(ga, (bx[1], bx[end]))\n",
    "    GeoMakie.ylims!(ga, (by[1], by[end]))\n",
    "    GeoMakie.contour!(ga, bx, by, b, levels=[0.], color=:black)\n",
    "    Colorbar(fig[2, 1], hm, vertical = false, label = \"(m)\")\n",
    "    fig\n",
    "end"
   ]
  },
  {
   "cell_type": "code",
   "execution_count": 66,
   "metadata": {},
   "outputs": [
    {
     "data": {
      "image/png": "[encoded data removed]"
     },
     "execution_count": 66,
     "metadata": {},
     "output_type": "execute_result"
    }
   ],
   "source": [
    "plot_bathy(bx, by, b)"
   ]
  },
  {
   "cell_type": "markdown",
   "metadata": {},
   "source": [
    "### Load bathymetry\n",
    "With a change of its original resolution"
   ]
  },
  {
   "cell_type": "code",
   "execution_count": 7,
   "metadata": {},
   "outputs": [
    {
     "name": "stdout",
     "output_type": "stream",
     "text": [
      "search: \u001b[0m\u001b[1ml\u001b[22m\u001b[0m\u001b[1mo\u001b[22m\u001b[0m\u001b[1ma\u001b[22m\u001b[0m\u001b[1md\u001b[22m\u001b[0m\u001b[1m_\u001b[22m\u001b[0m\u001b[1mb\u001b[22m\u001b[0m\u001b[1ma\u001b[22m\u001b[0m\u001b[1mt\u001b[22m\u001b[0m\u001b[1mh\u001b[22m Base.\u001b[0m\u001b[1ml\u001b[22m\u001b[0m\u001b[1mo\u001b[22m\u001b[0m\u001b[1ma\u001b[22m\u001b[0m\u001b[1md\u001b[22m\u001b[0m\u001b[1m_\u001b[22mpath \u001b[0m\u001b[1ml\u001b[22m\u001b[0m\u001b[1mo\u001b[22m\u001b[0m\u001b[1ma\u001b[22m\u001b[0m\u001b[1md\u001b[22m\u001b[0m\u001b[1m_\u001b[22mmask \u001b[0m\u001b[1ml\u001b[22m\u001b[0m\u001b[1mo\u001b[22m\u001b[0m\u001b[1ma\u001b[22m\u001b[0m\u001b[1md\u001b[22mobs extract_bath\n",
      "\n"
     ]
    },
    {
     "data": {
      "text/latex": [
       "\\begin{verbatim}\n",
       "xi,yi,bath = DIVAnd.load_bath(bath_name,isglobal,xi,yi)\n",
       "\\end{verbatim}\n",
       "Load the bathymetry from the netCDF file \\texttt{bathname}. The parameter \\texttt{isglobal} is true if the NetCDF file covers the whole globe and thus the last longitude point can be considered to be right next to the first longitude point. \\texttt{xi} and \\texttt{yi} are vectors containing the longitude and latitude grid onto which the bathymetry should be interpolated.\n",
       "\n"
      ],
      "text/markdown": [
       "```\n",
       "xi,yi,bath = DIVAnd.load_bath(bath_name,isglobal,xi,yi)\n",
       "```\n",
       "\n",
       "Load the bathymetry from the netCDF file `bathname`. The parameter `isglobal` is true if the NetCDF file covers the whole globe and thus the last longitude point can be considered to be right next to the first longitude point. `xi` and `yi` are vectors containing the longitude and latitude grid onto which the bathymetry should be interpolated.\n"
      ],
      "text/plain": [
       "\u001b[36m  xi,yi,bath = DIVAnd.load_bath(bath_name,isglobal,xi,yi)\u001b[39m\n",
       "\n",
       "  Load the bathymetry from the netCDF file \u001b[36mbathname\u001b[39m. The parameter \u001b[36misglobal\u001b[39m is\n",
       "  true if the NetCDF file covers the whole globe and thus the last longitude\n",
       "  point can be considered to be right next to the first longitude point. \u001b[36mxi\u001b[39m\n",
       "  and \u001b[36myi\u001b[39m are vectors containing the longitude and latitude grid onto which the\n",
       "  bathymetry should be interpolated."
      ]
     },
     "execution_count": 7,
     "metadata": {},
     "output_type": "execute_result"
    }
   ],
   "source": [
    "?load_bath"
   ]
  },
  {
   "cell_type": "code",
   "execution_count": 8,
   "metadata": {},
   "outputs": [
    {
     "ename": "LoadError",
     "evalue": "UndefVarError: `bathname` not defined in `Main`\nSuggestion: check for spelling errors or missing imports.",
     "output_type": "error",
     "traceback": [
      "UndefVarError: `bathname` not defined in `Main`\nSuggestion: check for spelling errors or missing imports.",
      "",
      "Stacktrace:",
      " [1] top-level scope",
      "   @ In[8]:1"
     ]
    }
   ],
   "source": [
    "bx,by,b = load_bath(bathname,true,lonr,latr)\n",
    "\n",
    "pcolor(bx,by,b'); \n",
    "colorbar(orientation=\"horizontal\")\n",
    "gca().set_aspect(1/cos(mean([ylim()...]) * pi/180))\n",
    "\n",
    "@show size(b)"
   ]
  },
  {
   "cell_type": "markdown",
   "metadata": {},
   "source": [
    "## Mask creation\n",
    "We start by defining the mask as a 3D matrix containing only `False`, then we set the values to `True` when the actual depth is deeper than the selected values stored in the vector `depthr`."
   ]
  },
  {
   "cell_type": "code",
   "execution_count": 9,
   "metadata": {},
   "outputs": [
    {
     "ename": "LoadError",
     "evalue": "UndefVarError: `b` not defined in `Main`\nSuggestion: check for spelling errors or missing imports.",
     "output_type": "error",
     "traceback": [
      "UndefVarError: `b` not defined in `Main`\nSuggestion: check for spelling errors or missing imports.",
      "",
      "Stacktrace:",
      " [1] top-level scope",
      "   @ In[9]:2"
     ]
    }
   ],
   "source": [
    "depthr = [0,10,20,500]\n",
    "mask = falses(size(b,1),size(b,2),length(depthr))\n",
    "\n",
    "for k = 1:length(depthr)\n",
    "    for j = 1:size(b,2)\n",
    "        for i = 1:size(b,1)\n",
    "            mask[i,j,k] = b[i,j] >= depthr[k]\n",
    "        end\n",
    "    end\n",
    "end\n",
    "@show typeof(mask)"
   ]
  },
  {
   "cell_type": "code",
   "execution_count": 10,
   "metadata": {
    "scrolled": true
   },
   "outputs": [
    {
     "ename": "LoadError",
     "evalue": "UndefVarError: `bx` not defined in `Main`\nSuggestion: check for spelling errors or missing imports.",
     "output_type": "error",
     "traceback": [
      "UndefVarError: `bx` not defined in `Main`\nSuggestion: check for spelling errors or missing imports.",
      "",
      "Stacktrace:",
      " [1] top-level scope",
      "   @ In[10]:1"
     ]
    }
   ],
   "source": [
    "pcolor(bx,by,Float64.(mask[:,:,1]'), cmap=PyPlot.cm.binary_r)\n",
    "colorbar(orientation=\"horizontal\")\n",
    "gca().set_aspect(1/cos(mean([ylim()...]) * pi/180)) # fixes the aspect ratio"
   ]
  },
  {
   "cell_type": "markdown",
   "metadata": {},
   "source": [
    "Another solution is to use the `load_mask` function:"
   ]
  },
  {
   "cell_type": "code",
   "execution_count": 11,
   "metadata": {},
   "outputs": [
    {
     "ename": "LoadError",
     "evalue": "UndefVarError: `bathname` not defined in `Main`\nSuggestion: check for spelling errors or missing imports.",
     "output_type": "error",
     "traceback": [
      "UndefVarError: `bathname` not defined in `Main`\nSuggestion: check for spelling errors or missing imports.",
      "",
      "Stacktrace:",
      " [1] top-level scope",
      "   @ In[11]:1"
     ]
    }
   ],
   "source": [
    "xmask,ymask,mmask = load_mask(bathname,true,lonr,latr,depthr);"
   ]
  },
  {
   "cell_type": "code",
   "execution_count": 12,
   "metadata": {},
   "outputs": [
    {
     "ename": "LoadError",
     "evalue": "UndefVarError: `xmask` not defined in `Main`\nSuggestion: check for spelling errors or missing imports.",
     "output_type": "error",
     "traceback": [
      "UndefVarError: `xmask` not defined in `Main`\nSuggestion: check for spelling errors or missing imports.",
      "",
      "Stacktrace:",
      " [1] top-level scope",
      "   @ In[12]:1"
     ]
    }
   ],
   "source": [
    "pcolor(xmask,ymask,Float64.(mask[:,:,1]'), cmap=PyPlot.cm.binary_r)\n",
    "colorbar(orientation=\"horizontal\")\n",
    "gca().set_aspect(1/cos(mean([ylim()...]) * pi/180)) # fixes the aspect ratio"
   ]
  },
  {
   "cell_type": "code",
   "execution_count": 13,
   "metadata": {},
   "outputs": [
    {
     "ename": "LoadError",
     "evalue": "UndefVarError: `mask` not defined in `Main`\nSuggestion: check for spelling errors or missing imports.\nHint: a global variable of this name may be made accessible by importing VectorizationBase in the current active module Main",
     "output_type": "error",
     "traceback": [
      "UndefVarError: `mask` not defined in `Main`\nSuggestion: check for spelling errors or missing imports.\nHint: a global variable of this name may be made accessible by importing VectorizationBase in the current active module Main",
      "",
      "Stacktrace:",
      " [1] top-level scope",
      "   @ In[13]:1"
     ]
    }
   ],
   "source": [
    "mask[3,3,1] = true\n",
    "pcolor(Float64.(mask[:,:,1])', cmap=PyPlot.cm.binary_r)\n",
    "colorbar(orientation=\"horizontal\")\n",
    "gca().set_aspect(1/cos(mean([ylim()...]) * pi/180)) # fixes the aspect ratio"
   ]
  },
  {
   "cell_type": "markdown",
   "metadata": {},
   "source": [
    "## Flood filling\n",
    "This tool allows user to remove small lakes or islands."
   ]
  },
  {
   "cell_type": "code",
   "execution_count": 14,
   "metadata": {},
   "outputs": [
    {
     "data": {
      "text/latex": [
       "\\begin{quote}\n",
       "\\textbf{warning}\n",
       "\n",
       "Warning\n",
       "\n",
       "The following bindings may be internal; they may change or be removed in future versions:\n",
       "\n",
       "\\begin{itemize}\n",
       "\\item \\texttt{DIVAnd.floodfill}\n",
       "\n",
       "\\end{itemize}\n",
       "\\end{quote}\n",
       "\\begin{verbatim}\n",
       "label = floodfill(mask)\n",
       "\\end{verbatim}\n",
       "Attribute an integer number (a numeric label) to every element in mask such that all grid points connected by a von Neumann neighborhood (without crossing elements which are \\texttt{false} in mask) have the same label. Labels are sorted such that the label 1 corresponds to the largest area, label 2 the 2nd largest and so on.\n",
       "\n"
      ],
      "text/markdown": [
       "!!! warning\n",
       "    The following bindings may be internal; they may change or be removed in future versions:\n",
       "\n",
       "      * `DIVAnd.floodfill`\n",
       "\n",
       "\n",
       "```\n",
       "label = floodfill(mask)\n",
       "```\n",
       "\n",
       "Attribute an integer number (a numeric label) to every element in mask such that all grid points connected by a von Neumann neighborhood (without crossing elements which are `false` in mask) have the same label. Labels are sorted such that the label 1 corresponds to the largest area, label 2 the 2nd largest and so on.\n"
      ],
      "text/plain": [
       "\u001b[33m\u001b[1m  │ \u001b[22m\u001b[39m\u001b[33m\u001b[1mWarning\u001b[22m\u001b[39m\n",
       "\u001b[33m\u001b[1m  │\u001b[22m\u001b[39m\n",
       "\u001b[33m\u001b[1m  │\u001b[22m\u001b[39m  The following bindings may be internal; they may change or be\n",
       "\u001b[33m\u001b[1m  │\u001b[22m\u001b[39m  removed in future versions:\n",
       "\u001b[33m\u001b[1m  │\u001b[22m\u001b[39m\n",
       "\u001b[33m\u001b[1m  │\u001b[22m\u001b[39m    •  \u001b[36mDIVAnd.floodfill\u001b[39m\n",
       "\n",
       "\u001b[36m  label = floodfill(mask)\u001b[39m\n",
       "\n",
       "  Attribute an integer number (a numeric label) to every element in mask such\n",
       "  that all grid points connected by a von Neumann neighborhood (without\n",
       "  crossing elements which are \u001b[36mfalse\u001b[39m in mask) have the same label. Labels are\n",
       "  sorted such that the label 1 corresponds to the largest area, label 2 the\n",
       "  2nd largest and so on."
      ]
     },
     "execution_count": 14,
     "metadata": {},
     "output_type": "execute_result"
    }
   ],
   "source": [
    "?DIVAnd.floodfill"
   ]
  },
  {
   "cell_type": "code",
   "execution_count": 15,
   "metadata": {},
   "outputs": [
    {
     "ename": "LoadError",
     "evalue": "UndefVarError: `mask` not defined in `Main`\nSuggestion: check for spelling errors or missing imports.\nHint: a global variable of this name may be made accessible by importing VectorizationBase in the current active module Main",
     "output_type": "error",
     "traceback": [
      "UndefVarError: `mask` not defined in `Main`\nSuggestion: check for spelling errors or missing imports.\nHint: a global variable of this name may be made accessible by importing VectorizationBase in the current active module Main",
      "",
      "Stacktrace:",
      " [1] top-level scope",
      "   @ In[15]:1"
     ]
    }
   ],
   "source": [
    "label = DIVAnd.floodfill(mask)\n",
    "pcolor(label[:,:,1]')\n",
    "colorbar(orientation=\"horizontal\")\n",
    "gca().set_aspect(1/cos(mean([ylim()...]) * pi/180)) # fixes the aspect ratio"
   ]
  },
  {
   "cell_type": "code",
   "execution_count": 16,
   "metadata": {},
   "outputs": [
    {
     "ename": "LoadError",
     "evalue": "UndefVarError: `label` not defined in `Main`\nSuggestion: check for spelling errors or missing imports.",
     "output_type": "error",
     "traceback": [
      "UndefVarError: `label` not defined in `Main`\nSuggestion: check for spelling errors or missing imports.",
      "",
      "Stacktrace:",
      " [1] top-level scope",
      "   @ In[16]:1"
     ]
    }
   ],
   "source": [
    "mask3 = label .== 1\n",
    "pcolor(Float64.(mask3[:,:,1])', cmap=PyPlot.cm.binary_r)\n",
    "colorbar(orientation=\"horizontal\")\n",
    "gca().set_aspect(1/cos(mean([ylim()...]) * pi/180)) # fixes the aspect ratio"
   ]
  },
  {
   "cell_type": "markdown",
   "metadata": {},
   "source": [
    "## Mask editing\n",
    "To edit the mask, you can either modify directly its values if you know the indices, or you can use a selection based on the coordinates.\n",
    "### Create an artificial island\n",
    "We simply modify the mask at a given location."
   ]
  },
  {
   "cell_type": "code",
   "execution_count": 17,
   "metadata": {},
   "outputs": [
    {
     "ename": "LoadError",
     "evalue": "UndefVarError: `mask` not defined in `Main`\nSuggestion: check for spelling errors or missing imports.\nHint: a global variable of this name may be made accessible by importing VectorizationBase in the current active module Main",
     "output_type": "error",
     "traceback": [
      "UndefVarError: `mask` not defined in `Main`\nSuggestion: check for spelling errors or missing imports.\nHint: a global variable of this name may be made accessible by importing VectorizationBase in the current active module Main",
      "",
      "Stacktrace:",
      " [1] top-level scope",
      "   @ In[17]:1"
     ]
    }
   ],
   "source": [
    "# Create a copy of the mask for ediding\n",
    "mask_copy = copy(mask);\n",
    "mask_copy[63,8,:] .= false;"
   ]
  },
  {
   "cell_type": "code",
   "execution_count": 18,
   "metadata": {},
   "outputs": [
    {
     "ename": "LoadError",
     "evalue": "UndefVarError: `bx` not defined in `Main`\nSuggestion: check for spelling errors or missing imports.",
     "output_type": "error",
     "traceback": [
      "UndefVarError: `bx` not defined in `Main`\nSuggestion: check for spelling errors or missing imports.",
      "",
      "Stacktrace:",
      " [1] top-level scope",
      "   @ In[18]:1"
     ]
    }
   ],
   "source": [
    "pcolor(bx, by, Float64.(mask_copy[:,:,1]'), cmap=PyPlot.cm.binary_r)\n",
    "colorbar(orientation=\"horizontal\")\n",
    "gca().set_aspect(1/cos(mean([ylim()...]) * pi/180))"
   ]
  },
  {
   "cell_type": "markdown",
   "metadata": {},
   "source": [
    "### Remove an island (based on indices)"
   ]
  },
  {
   "cell_type": "code",
   "execution_count": 19,
   "metadata": {},
   "outputs": [
    {
     "ename": "LoadError",
     "evalue": "UndefVarError: `mask` not defined in `Main`\nSuggestion: check for spelling errors or missing imports.\nHint: a global variable of this name may be made accessible by importing VectorizationBase in the current active module Main",
     "output_type": "error",
     "traceback": [
      "UndefVarError: `mask` not defined in `Main`\nSuggestion: check for spelling errors or missing imports.\nHint: a global variable of this name may be made accessible by importing VectorizationBase in the current active module Main",
      "",
      "Stacktrace:",
      " [1] top-level scope",
      "   @ In[19]:1"
     ]
    }
   ],
   "source": [
    "mask_copy = copy(mask);\n",
    "mask_copy[48:59,1:10,:] .= true;"
   ]
  },
  {
   "cell_type": "code",
   "execution_count": 20,
   "metadata": {},
   "outputs": [
    {
     "ename": "LoadError",
     "evalue": "UndefVarError: `bx` not defined in `Main`\nSuggestion: check for spelling errors or missing imports.",
     "output_type": "error",
     "traceback": [
      "UndefVarError: `bx` not defined in `Main`\nSuggestion: check for spelling errors or missing imports.",
      "",
      "Stacktrace:",
      " [1] top-level scope",
      "   @ In[20]:1"
     ]
    }
   ],
   "source": [
    "pcolor(bx, by, Float64.(mask_copy[:,:,1]'), cmap=PyPlot.cm.binary_r)\n",
    "colorbar(orientation=\"horizontal\")\n",
    "gca().set_aspect(1/cosd(mean(ylim())))\n",
    "#[ylim()...]"
   ]
  },
  {
   "cell_type": "markdown",
   "metadata": {},
   "source": [
    "### Remove an island (based on coordinates). \n",
    "\n",
    "This is the recommended approach as you can change resolution easily\n",
    "`sel_lon` and `sel_lat` are obtained by checking the longitude and latitudes."
   ]
  },
  {
   "cell_type": "code",
   "execution_count": 21,
   "metadata": {},
   "outputs": [
    {
     "ename": "LoadError",
     "evalue": "UndefVarError: `mask` not defined in `Main`\nSuggestion: check for spelling errors or missing imports.\nHint: a global variable of this name may be made accessible by importing VectorizationBase in the current active module Main",
     "output_type": "error",
     "traceback": [
      "UndefVarError: `mask` not defined in `Main`\nSuggestion: check for spelling errors or missing imports.\nHint: a global variable of this name may be made accessible by importing VectorizationBase in the current active module Main",
      "",
      "Stacktrace:",
      " [1] top-level scope",
      "   @ In[21]:1"
     ]
    }
   ],
   "source": [
    "mask_copy = copy(mask);\n",
    "sel_lon = (bx.>8) .& (bx.<10.);\n",
    "sel_lat = (by.<43.25);\n",
    "mask_copy[sel_lon, sel_lat, :] .= true;\n",
    "pcolor(bx, by, Float64.(mask_copy[:,:,1]'), cmap=PyPlot.cm.binary_r); \n",
    "colorbar(orientation=\"horizontal\")\n",
    "gca().set_aspect(1/cos(mean([ylim()...]) * pi/180))"
   ]
  },
  {
   "cell_type": "code",
   "execution_count": 22,
   "metadata": {},
   "outputs": [
    {
     "ename": "LoadError",
     "evalue": "UndefVarError: `sel_lon` not defined in `Main`\nSuggestion: check for spelling errors or missing imports.",
     "output_type": "error",
     "traceback": [
      "UndefVarError: `sel_lon` not defined in `Main`\nSuggestion: check for spelling errors or missing imports.",
      "",
      "Stacktrace:",
      " [1] macro expansion",
      "   @ show.jl:1229 [inlined]",
      " [2] top-level scope",
      "   @ In[22]:1"
     ]
    }
   ],
   "source": [
    "@show sel_lon;"
   ]
  },
  {
   "cell_type": "markdown",
   "metadata": {},
   "source": [
    "### Removing isolated sea pixels\n",
    "Let's edit the previous mask and add an isolated sea point in the western part of the domain.    "
   ]
  },
  {
   "cell_type": "code",
   "execution_count": 23,
   "metadata": {
    "scrolled": true
   },
   "outputs": [
    {
     "ename": "LoadError",
     "evalue": "UndefVarError: `mask` not defined in `Main`\nSuggestion: check for spelling errors or missing imports.\nHint: a global variable of this name may be made accessible by importing VectorizationBase in the current active module Main",
     "output_type": "error",
     "traceback": [
      "UndefVarError: `mask` not defined in `Main`\nSuggestion: check for spelling errors or missing imports.\nHint: a global variable of this name may be made accessible by importing VectorizationBase in the current active module Main",
      "",
      "Stacktrace:",
      " [1] top-level scope",
      "   @ In[23]:1"
     ]
    }
   ],
   "source": [
    "mask[3,3,1] = true\n",
    "pcolor(Float64.(mask[:,:,1])')\n",
    "colorbar(orientation=\"horizontal\")\n",
    "gca().set_aspect(1/cos(mean([ylim()...]) * pi/180)) # fixes the aspect ratio"
   ]
  },
  {
   "cell_type": "markdown",
   "metadata": {},
   "source": [
    "The function `floofill` can help us identify the position of this pixel:"
   ]
  },
  {
   "cell_type": "code",
   "execution_count": 24,
   "metadata": {},
   "outputs": [
    {
     "data": {
      "text/latex": [
       "\\begin{quote}\n",
       "\\textbf{warning}\n",
       "\n",
       "Warning\n",
       "\n",
       "The following bindings may be internal; they may change or be removed in future versions:\n",
       "\n",
       "\\begin{itemize}\n",
       "\\item \\texttt{DIVAnd.floodfill}\n",
       "\n",
       "\\end{itemize}\n",
       "\\end{quote}\n",
       "\\begin{verbatim}\n",
       "label = floodfill(mask)\n",
       "\\end{verbatim}\n",
       "Attribute an integer number (a numeric label) to every element in mask such that all grid points connected by a von Neumann neighborhood (without crossing elements which are \\texttt{false} in mask) have the same label. Labels are sorted such that the label 1 corresponds to the largest area, label 2 the 2nd largest and so on.\n",
       "\n"
      ],
      "text/markdown": [
       "!!! warning\n",
       "    The following bindings may be internal; they may change or be removed in future versions:\n",
       "\n",
       "      * `DIVAnd.floodfill`\n",
       "\n",
       "\n",
       "```\n",
       "label = floodfill(mask)\n",
       "```\n",
       "\n",
       "Attribute an integer number (a numeric label) to every element in mask such that all grid points connected by a von Neumann neighborhood (without crossing elements which are `false` in mask) have the same label. Labels are sorted such that the label 1 corresponds to the largest area, label 2 the 2nd largest and so on.\n"
      ],
      "text/plain": [
       "\u001b[33m\u001b[1m  │ \u001b[22m\u001b[39m\u001b[33m\u001b[1mWarning\u001b[22m\u001b[39m\n",
       "\u001b[33m\u001b[1m  │\u001b[22m\u001b[39m\n",
       "\u001b[33m\u001b[1m  │\u001b[22m\u001b[39m  The following bindings may be internal; they may change or be\n",
       "\u001b[33m\u001b[1m  │\u001b[22m\u001b[39m  removed in future versions:\n",
       "\u001b[33m\u001b[1m  │\u001b[22m\u001b[39m\n",
       "\u001b[33m\u001b[1m  │\u001b[22m\u001b[39m    •  \u001b[36mDIVAnd.floodfill\u001b[39m\n",
       "\n",
       "\u001b[36m  label = floodfill(mask)\u001b[39m\n",
       "\n",
       "  Attribute an integer number (a numeric label) to every element in mask such\n",
       "  that all grid points connected by a von Neumann neighborhood (without\n",
       "  crossing elements which are \u001b[36mfalse\u001b[39m in mask) have the same label. Labels are\n",
       "  sorted such that the label 1 corresponds to the largest area, label 2 the\n",
       "  2nd largest and so on."
      ]
     },
     "execution_count": 24,
     "metadata": {},
     "output_type": "execute_result"
    }
   ],
   "source": [
    "?DIVAnd.floodfill"
   ]
  },
  {
   "cell_type": "markdown",
   "metadata": {},
   "source": [
    "Let's plot the `label` values as obtained by the execution of `floodfill`:"
   ]
  },
  {
   "cell_type": "code",
   "execution_count": 25,
   "metadata": {
    "scrolled": true
   },
   "outputs": [
    {
     "ename": "LoadError",
     "evalue": "UndefVarError: `mask` not defined in `Main`\nSuggestion: check for spelling errors or missing imports.\nHint: a global variable of this name may be made accessible by importing VectorizationBase in the current active module Main",
     "output_type": "error",
     "traceback": [
      "UndefVarError: `mask` not defined in `Main`\nSuggestion: check for spelling errors or missing imports.\nHint: a global variable of this name may be made accessible by importing VectorizationBase in the current active module Main",
      "",
      "Stacktrace:",
      " [1] top-level scope",
      "   @ In[25]:1"
     ]
    }
   ],
   "source": [
    "label = DIVAnd.floodfill(mask)\n",
    "pcolor(label[:,:,1]')\n",
    "colorbar(orientation=\"horizontal\")\n",
    "gca().set_aspect(1/cos(mean([ylim()...]) * pi/180)) # fixes the aspect ratio"
   ]
  },
  {
   "cell_type": "markdown",
   "metadata": {},
   "source": [
    "We see that the isolated sea point is characterised by `label = 2`,        \n",
    "hence we can discard it by taking the cells for which `label = 1`."
   ]
  },
  {
   "cell_type": "code",
   "execution_count": 26,
   "metadata": {
    "scrolled": true
   },
   "outputs": [
    {
     "ename": "LoadError",
     "evalue": "UndefVarError: `label` not defined in `Main`\nSuggestion: check for spelling errors or missing imports.",
     "output_type": "error",
     "traceback": [
      "UndefVarError: `label` not defined in `Main`\nSuggestion: check for spelling errors or missing imports.",
      "",
      "Stacktrace:",
      " [1] top-level scope",
      "   @ In[26]:1"
     ]
    }
   ],
   "source": [
    "mask3 = label .== 1\n",
    "pcolor(Float64.(mask3[:,:,1])')\n",
    "colorbar(orientation=\"horizontal\")\n",
    "gca().set_aspect(1/cos(mean([ylim()...]) * pi/180)) # fixes the aspect ratio"
   ]
  },
  {
   "cell_type": "markdown",
   "metadata": {
    "collapsed": true,
    "jupyter": {
     "outputs_hidden": true
    }
   },
   "source": [
    "## Exercice\n",
    "1. Load the bathymetry around the Black Sea.\n",
    "2. Create a land sea mask for the following levels: 0, 150, 500 and 1000 meters.\n",
    "3. Remove the Sea of Azov and the Sea of Marmara.\n",
    "4. Plot the result.\n",
    "\n",
    "The solution is available in [06-topography-BlackSea](./solutions/06-topography-BlackSea.ipynb) and should look like this:\n",
    "\n",
    "<img src=\"./Images/BlackSea_mask.png\" width=\"250px\">"
   ]
  },
  {
   "cell_type": "markdown",
   "metadata": {},
   "source": [
    "# Adapt your own bathymetry (advanced)"
   ]
  },
  {
   "cell_type": "markdown",
   "metadata": {},
   "source": [
    "To use a local bathymetry, one needs to create a netCDF file which has a similar structure than GEBCO files.\n",
    "In particular, the netCDF file is expected to have the one-dimensional variables `lon` (longitude in _degrees East_) and `lat` (latitude in _degrees North_), and the two-dimentional array `bat` containing the digital terrain model (negative in water and positive above water). \n",
    "\n",
    "The order of the dimensions should be: longitude and then latitude in *Column-major* ordering (or latitude and then longitude if the tool ncdump is used, which is based on *Row-major* ordering).\n",
    "\n",
    "The module `NCDatasets`, provide the utility function `ncgen` which returns the Julia code that creates a netCDF file with the same metadata:"
   ]
  },
  {
   "cell_type": "code",
   "execution_count": 27,
   "metadata": {},
   "outputs": [
    {
     "ename": "LoadError",
     "evalue": "UndefVarError: `bathname` not defined in `Main`\nSuggestion: check for spelling errors or missing imports.",
     "output_type": "error",
     "traceback": [
      "UndefVarError: `bathname` not defined in `Main`\nSuggestion: check for spelling errors or missing imports.",
      "",
      "Stacktrace:",
      " [1] top-level scope",
      "   @ In[27]:2"
     ]
    }
   ],
   "source": [
    "using NCDatasets\n",
    "ncgen(bathname)"
   ]
  },
  {
   "cell_type": "markdown",
   "metadata": {},
   "source": [
    "In this example, one would need to adapt:\n",
    "* the title attribute of the NetCDF file \n",
    "* the size of the dimensions\n",
    "* define the variables `nclon`, `nclat` and `ncbat`"
   ]
  },
  {
   "cell_type": "markdown",
   "metadata": {},
   "source": [
    "With this code, you only have to use the coordinates and the bathymetry read from your own file to generate the new bathymetry file."
   ]
  }
 ],
 "metadata": {
  "@webio": {
   "lastCommId": null,
   "lastKernelId": null
  },
  "kernelspec": {
   "display_name": "Julia 1.11.1",
   "language": "julia",
   "name": "julia-1.11"
  },
  "language_info": {
   "file_extension": ".jl",
   "mimetype": "application/julia",
   "name": "julia",
   "version": "1.11.1"
  },
  "toc": {
   "base_numbering": 1,
   "nav_menu": {},
   "number_sections": true,
   "sideBar": true,
   "skip_h1_title": false,
   "title_cell": "Table of Contents",
   "title_sidebar": "Contents",
   "toc_cell": false,
   "toc_position": {},
   "toc_section_display": true,
   "toc_window_display": false
  }
 },
 "nbformat": 4,
 "nbformat_minor": 4
}
