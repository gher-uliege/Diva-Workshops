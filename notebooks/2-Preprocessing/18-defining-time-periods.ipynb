{
 "cells": [
  {
   "cell_type": "markdown",
   "metadata": {},
   "source": [
    "# Definining the time periods for the creation of products\n",
    "\n",
    "They are several ways to define the periods over which the climatologies have to be computed.<br> Common ways are:\n",
    "* monthly climatology, aggregating all observations per month,\n",
    "* seasonal climatology,\n",
    "* yearly climatology,\n",
    "* decadal climatology.\n",
    "\n",
    "If the data coverage is sufficient, one can also make a seasonal climatology per decades, which allows to resolve the seasonal cycle and long term changes.\n",
    "\n",
    "In `DIVAnd`, the temporal aggregation is represented by a structure called time selector. The most common is `TimeSelectorYearListMonthList` which behaves similarly than the `yearlist` and `monthlist` files the [Fortran version of `DIVA`](https://github.com/gher-uliege/DIVA).\n",
    "\n",
    "In this notebook we present different approaches:\n",
    "1. `TimeSelectorYW`,\n",
    "2. `TimeSelectorYearListMonthList` and \n",
    "3. `TimeSelectorRunningAverage`.     \n",
    "\n",
    "The most common is `TimeSelectorYearListMonthList` (which behaves similarly than the `yearlist` and `monthlist` files in the Fortran version of `DIVA`)."
   ]
  },
  {
   "cell_type": "code",
   "execution_count": null,
   "metadata": {},
   "outputs": [],
   "source": [
    "using DIVAnd\n",
    "using Dates\n",
    "using Statistics"
   ]
  },
  {
   "cell_type": "markdown",
   "metadata": {},
   "source": [
    "## Specify lists of months and of years\n",
    "Use `TimeSelectorYearListMonthList`.      \n",
    "Let's work on two time periods: 1970-1990 and 1991-2010, on a monthly basis"
   ]
  },
  {
   "cell_type": "code",
   "execution_count": null,
   "metadata": {},
   "outputs": [],
   "source": [
    "yearlist = [[1970:1990], [1991:2010]];\n",
    "monthlists = 1:12;\n",
    "TS1 = DIVAnd.TimeSelectorYearListMonthList(yearlist, monthlists)"
   ]
  },
  {
   "cell_type": "code",
   "execution_count": null,
   "metadata": {},
   "outputs": [],
   "source": [
    "@show length(TS1);"
   ]
  },
  {
   "cell_type": "markdown",
   "metadata": {},
   "source": [
    "Another example:"
   ]
  },
  {
   "cell_type": "code",
   "execution_count": null,
   "metadata": {},
   "outputs": [],
   "source": [
    "yearlist = [1900:2017]\n",
    "monthlist = [1:3, 4:6, 7:9, 10:12]\n",
    "TS1b = DIVAnd.TimeSelectorYearListMonthList(yearlist, monthlist);\n",
    "@show length(TS1b);"
   ]
  },
  {
   "cell_type": "markdown",
   "metadata": {},
   "source": [
    "Assume that we have a time vector with these dates:"
   ]
  },
  {
   "cell_type": "code",
   "execution_count": null,
   "metadata": {},
   "outputs": [],
   "source": [
    "obstime = [DateTime(2001, 4, 1), DateTime(2002, 2, 1), DateTime(2018, 3, 1)]"
   ]
  },
  {
   "cell_type": "markdown",
   "metadata": {},
   "source": [
    "Which observation would be used for the first winter analysis?"
   ]
  },
  {
   "cell_type": "code",
   "execution_count": null,
   "metadata": {},
   "outputs": [],
   "source": [
    "sel = DIVAnd.select(TS1b, 1, obstime)"
   ]
  },
  {
   "cell_type": "code",
   "execution_count": null,
   "metadata": {},
   "outputs": [],
   "source": [
    "obstime[sel]"
   ]
  },
  {
   "cell_type": "markdown",
   "metadata": {},
   "source": [
    "Note that a time instance in the \"center\" of a given time interval is given by `DIVAnd.ctimes(TS)`.      \n",
    "These dates are saved in the NetCDF file together with the `climatology_bounds` from the [NetCDF CF convention](http://cfconventions.org/Data/cf-conventions/cf-conventions-1.7/cf-conventions.html#climatological-statistics)."
   ]
  },
  {
   "cell_type": "code",
   "execution_count": null,
   "metadata": {},
   "outputs": [],
   "source": [
    "DIVAnd.ctimes(TS1b)"
   ]
  },
  {
   "cell_type": "code",
   "execution_count": null,
   "metadata": {},
   "outputs": [],
   "source": [
    "yearlist = [y:y+9 for y = 1950:10:2000]"
   ]
  },
  {
   "cell_type": "code",
   "execution_count": null,
   "metadata": {},
   "outputs": [],
   "source": [
    "yearlist2 = []\n",
    "for y = 1950:10:2020\n",
    "    push!(yearlist2, y:y+9)\n",
    "end\n",
    "@show yearlist2"
   ]
  },
  {
   "cell_type": "markdown",
   "metadata": {},
   "source": [
    "Note that the duration of every year range is 10 years because the upper bound is inclusive.      \n",
    "The last year range covers the 10 years:"
   ]
  },
  {
   "cell_type": "code",
   "execution_count": null,
   "metadata": {},
   "outputs": [],
   "source": [
    "collect(yearlist[end])'\n",
    "\n",
    "TS = DIVAnd.TimeSelectorYearListMonthList(yearlist, monthlist);"
   ]
  },
  {
   "cell_type": "markdown",
   "metadata": {},
   "source": [
    "For this time selector, there are now $4 × 6=24$ time slices"
   ]
  },
  {
   "cell_type": "code",
   "execution_count": null,
   "metadata": {},
   "outputs": [],
   "source": [
    "length(TS)\n",
    "\n",
    "DIVAnd.ctimes(TS)[1:3]"
   ]
  },
  {
   "cell_type": "markdown",
   "metadata": {},
   "source": [
    "## Specify lists of months and years with a time window\n",
    "Use `TimeSelectorYW`.     \n",
    "Let's work with 10-year window periods centered on 1950, 1960, 1970... "
   ]
  },
  {
   "cell_type": "code",
   "execution_count": null,
   "metadata": {},
   "outputs": [],
   "source": [
    "years = 1950:10:2010;\n",
    "yearwindow = 10;\n",
    "monthlists = 1:12;\n",
    "TS2 = TimeSelectorYW(years, yearwindow, monthlists)"
   ]
  },
  {
   "cell_type": "markdown",
   "metadata": {},
   "source": [
    "Note that with `TimeSelectorYW`, we can almost obtain the same solution as the 1st case:"
   ]
  },
  {
   "cell_type": "code",
   "execution_count": null,
   "metadata": {},
   "outputs": [],
   "source": [
    "TS2b = TimeSelectorYW([1980, 2000], 20, monthlists)"
   ]
  },
  {
   "cell_type": "markdown",
   "metadata": {},
   "source": [
    "## Specify the total year range and the total window\n",
    "The difference with the previous case is that the minimal and maximal years are conserved in the created periods.     \n",
    "Thanks to Lennert (VLIZ) for providing the example and the code.     "
   ]
  },
  {
   "cell_type": "code",
   "execution_count": null,
   "metadata": {},
   "outputs": [],
   "source": [
    "function yearlists_(dataset_range, total_window_yrs)\n",
    "    # dataset_range = 2000:2012\n",
    "    # total_window_yrs = 10\n",
    "    # will return: [2000:2009, 2001:2010, 2002:2011, 2003:2012]\n",
    "\n",
    "    n_windows = length(dataset_range) - total_window_yrs + 1\n",
    "    a = Array{UnitRange{Int64},1}(undef, n_windows)\n",
    "\n",
    "    for i = 1:n_windows\n",
    "        a[i] = dataset_range[i]:(dataset_range[i]+total_window_yrs-1)\n",
    "    end\n",
    "    return (a)\n",
    "end"
   ]
  },
  {
   "cell_type": "code",
   "execution_count": null,
   "metadata": {},
   "outputs": [],
   "source": [
    "yearlists = yearlists_(1990:2010, 10);\n",
    "TS3 = TimeSelectorYearListMonthList(yearlists, monthlists)\n",
    "@show(TS3.yearlists[1]);\n",
    "@show(TS3.yearlists[2])"
   ]
  },
  {
   "cell_type": "markdown",
   "metadata": {},
   "source": [
    "## Time aggregation in climatologies\n",
    "\n",
    "For a climatology, there are different ways to aggregate data in time. Common ways are:\n",
    "* monthly climatology, aggregating all observations per month\n",
    "* seasonal climatology\n",
    "* yearly climatology\n",
    "* decadal climatology\n",
    "\n",
    "If the data coverage is sufficient, one can also make a seasonal climatology per decades which allows one to resolve the seasonal cycle and long term changes."
   ]
  },
  {
   "cell_type": "markdown",
   "metadata": {},
   "source": [
    "### Overlapping years\n",
    "\n",
    "Sometimes is it desirable to have overlapping year range to make a climatology similar to a running average.   \n",
    "This can be achieved by a suitable definition of `yearlist`:"
   ]
  },
  {
   "cell_type": "code",
   "execution_count": null,
   "metadata": {},
   "outputs": [],
   "source": [
    "yearlist = [y:y+5 for y = 1990:2000]"
   ]
  },
  {
   "cell_type": "markdown",
   "metadata": {},
   "source": [
    "Every time slice is a 6-year average form data from the same season and there are $4 × 11=44$ time slices in this example. "
   ]
  },
  {
   "cell_type": "code",
   "execution_count": null,
   "metadata": {},
   "outputs": [],
   "source": [
    "monthlist"
   ]
  },
  {
   "cell_type": "code",
   "execution_count": null,
   "metadata": {},
   "outputs": [],
   "source": [
    "TS = DIVAnd.TimeSelectorYearListMonthList(yearlist, monthlist);\n",
    "length(TS)"
   ]
  },
  {
   "cell_type": "markdown",
   "metadata": {},
   "source": [
    "Since the data is overlapping, the same observation is used in multiple time instances:"
   ]
  },
  {
   "cell_type": "code",
   "execution_count": null,
   "metadata": {},
   "outputs": [],
   "source": [
    "obstime = [DateTime(2000, 1, 1)]\n",
    "for n = 1:length(TS)\n",
    "    nobs = sum(DIVAnd.select(TS, n, obstime))\n",
    "    if nobs > 0\n",
    "        println(\"$nobs observation(s) are used in time slice $n\")\n",
    "    end\n",
    "end"
   ]
  },
  {
   "cell_type": "markdown",
   "metadata": {},
   "source": [
    "As expected an observation is used 6 times."
   ]
  }
 ],
 "metadata": {
  "@webio": {
   "lastCommId": null,
   "lastKernelId": null
  },
  "kernelspec": {
   "display_name": "Julia 1.11.2",
   "language": "julia",
   "name": "julia-1.11"
  },
  "language_info": {
   "file_extension": ".jl",
   "mimetype": "application/julia",
   "name": "julia",
   "version": "1.11.2"
  },
  "toc": {
   "base_numbering": 1,
   "nav_menu": {},
   "number_sections": true,
   "sideBar": true,
   "skip_h1_title": false,
   "title_cell": "Table of Contents",
   "title_sidebar": "Contents",
   "toc_cell": false,
   "toc_position": {},
   "toc_section_display": true,
   "toc_window_display": false
  }
 },
 "nbformat": 4,
 "nbformat_minor": 4
}
