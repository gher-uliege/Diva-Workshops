{
 "cells": [
  {
   "cell_type": "markdown",
   "metadata": {},
   "source": [
    "# Automatic data downloading\n",
    "\n",
    "In this example we will show how one can download data from a Jupyter notebook.\n",
    "\n",
    "The [PhysOcean](https://github.com/gher-uliege/PhysOcean.jl) module provides ways to automatically download data from \n",
    "- the [World Ocean Database](https://www.nodc.noaa.gov/OC5/WOD/pr_wod.html) and\n",
    "- the [CMEMS](http://marine.copernicus.eu/) In-Situ TAC.\n",
    "\n",
    "This module can be installed by: \n",
    "\n",
    "```julia\n",
    "using Pkg\n",
    "Pkg.add(\"PhysOcean\")\n",
    "\n",
    "```\n",
    "or in the package REPL\n",
    "```julia\n",
    "(@v1.11) pkg> add PhysOcean\n",
    "```\n",
    "We make sure that the latest version is installed."
   ]
  },
  {
   "cell_type": "code",
   "execution_count": null,
   "metadata": {},
   "outputs": [],
   "source": [
    "using Pkg\n",
    "Pkg.add(PackageSpec(name=\"PhysOcean\", rev=\"master\"))"
   ]
  },
  {
   "cell_type": "code",
   "execution_count": 3,
   "metadata": {
    "slideshow": {
     "slide_type": "fragment"
    }
   },
   "outputs": [
    {
     "data": {
      "text/plain": [
       "\"https://dox.uliege.be/index.php/s/qJtEotmkCZVqcx8/download\""
      ]
     },
     "execution_count": 3,
     "metadata": {},
     "output_type": "execute_result"
    }
   ],
   "source": [
    "using Makie, CairoMakie, GeoMakie\n",
    "using PhysOcean           # Download data from the World Ocean Database and Copernicus\n",
    "using DIVAnd              # DIVAnd \n",
    "using Dates\n",
    "using Statistics\n",
    "include(\"../config.jl\")"
   ]
  },
  {
   "cell_type": "markdown",
   "metadata": {},
   "source": [
    "## Settings\n",
    "Define the time and geospatial bounding box for downloading the data"
   ]
  },
  {
   "cell_type": "code",
   "execution_count": null,
   "metadata": {
    "slideshow": {
     "slide_type": "subslide"
    }
   },
   "outputs": [],
   "source": [
    "# resolution (the resolution is only used for DIVAnd analyses)\n",
    "dx = dy = 0.25   # medium size test \n",
    "\n",
    "# vectors defining the longitude and latitudes grids\n",
    "# Here longitude and latitude correspond to the Mediterranean Sea\n",
    "lonr = -7:dx:37\n",
    "latr = 30:dy:46\n",
    "\n",
    "# time range of the in-situ data\n",
    "timerange = [Date(2016, 1, 1), Date(2016, 12, 31)]"
   ]
  },
  {
   "cell_type": "code",
   "execution_count": null,
   "metadata": {
    "slideshow": {
     "slide_type": "subslide"
    }
   },
   "outputs": [],
   "source": [
    "# Name of the variable\n",
    "varname = \"Salinity\""
   ]
  },
  {
   "cell_type": "markdown",
   "metadata": {},
   "source": [
    "<div class=\"alert alert-block alert-warning\">\n",
    "⚠️ Please use your own email address (!)<br>\n",
    "It is only use to get notified by mail once the dataset is ready.\n",
    "</div>"
   ]
  },
  {
   "cell_type": "code",
   "execution_count": null,
   "metadata": {
    "slideshow": {
     "slide_type": "subslide"
    }
   },
   "outputs": [],
   "source": [
    "if isfile(\"email.txt\")\n",
    "    email = strip(read(\"email.txt\", String))\n",
    "    @info(\"Getting email address from email.txt\")\n",
    "else\n",
    "    @warn(\"Create a file 'email.txt' if you want to query data to the World Ocean Database\")\n",
    "end"
   ]
  },
  {
   "cell_type": "markdown",
   "metadata": {
    "slideshow": {
     "slide_type": "slide"
    }
   },
   "source": [
    "## Download the data\n",
    "\n",
    "An example for bulk access data from the World Ocean Database (WOD), simulating a web-user.    \n",
    "Here you have to possibilities:\n",
    "1. Execute the next cell to query data from the WOD. It can take several tens of minutes.\n",
    "2. Use an archive already extracted from the WOD, so there is no need to wait <br>\n",
    "(cell starting with `download_check(...)`).\n",
    "\n",
    "Next define the directory where the results will be saved. This directory must exist and must be empty.   \n",
    "The command `mkpath` will create this path (including parent path)."
   ]
  },
  {
   "cell_type": "code",
   "execution_count": null,
   "metadata": {
    "slideshow": {
     "slide_type": "fragment"
    }
   },
   "outputs": [],
   "source": [
    "basedir = joinpath(datadir, \"WOD-temporary-dir\")\n",
    "isdir(basedir) ? rm(basedir, recursive=true) : mkpath(basedir)\n",
    "WorldOceanDatabase.download(lonr, latr, timerange, varname, email, basedir);"
   ]
  },
  {
   "cell_type": "markdown",
   "metadata": {},
   "source": [
    "__2nd possibility:__ download and extract archive containing a sample of WOD data."
   ]
  },
  {
   "cell_type": "code",
   "execution_count": null,
   "metadata": {},
   "outputs": [],
   "source": [
    "download_check(WODdatafile, WODdatafileURL)\n",
    "extractcommand = `tar -C $(datadir) -xzf $(WODdatafile)`\n",
    "run(extractcommand);"
   ]
  },
  {
   "cell_type": "markdown",
   "metadata": {
    "slideshow": {
     "slide_type": "slide"
    }
   },
   "source": [
    "## Load data\n",
    "Load the data into memory and perform, if needed, an additional subsetting"
   ]
  },
  {
   "cell_type": "code",
   "execution_count": null,
   "metadata": {
    "slideshow": {
     "slide_type": "fragment"
    }
   },
   "outputs": [],
   "source": [
    "# load all data under basedir as a double-precision floating point variable\n",
    "obsval, obslon, obslat, obsdepth, obstime, obsid =\n",
    "    WorldOceanDatabase.load(Float64, basedir, \"Salinity\");\n",
    "@info(\"Number of data points: $(length(obsval))\")"
   ]
  },
  {
   "cell_type": "markdown",
   "metadata": {},
   "source": [
    "Check some observation IDs"
   ]
  },
  {
   "cell_type": "code",
   "execution_count": null,
   "metadata": {},
   "outputs": [],
   "source": [
    "@show obsid[1], obsid[2];"
   ]
  },
  {
   "cell_type": "markdown",
   "metadata": {},
   "source": [
    "With `checkobs` we get an overview of the extremal values of each dimension and variable."
   ]
  },
  {
   "cell_type": "code",
   "execution_count": null,
   "metadata": {},
   "outputs": [],
   "source": [
    "checkobs((obslon, obslat, obsdepth, obstime), obsval, obsid)"
   ]
  },
  {
   "cell_type": "markdown",
   "metadata": {},
   "source": [
    "## Additional sub-setting \n",
    "Based on time and depth for plotting.     \n",
    "For instance the month can be extracted from the `Date` using `Dates.month.(obstime)`."
   ]
  },
  {
   "cell_type": "code",
   "execution_count": null,
   "metadata": {},
   "outputs": [],
   "source": [
    "# depth range levels\n",
    "depthr = [0.0, 20.0]\n",
    "\n",
    "# month range (January to March)\n",
    "timer = [1, 3]\n",
    "\n",
    "# additional sub-setting and discard wrong negative salinities\n",
    "sel = (\n",
    "    (obsval .> 0) .&\n",
    "    (minimum(depthr) .<= obsdepth .<= maximum(depthr)) .&\n",
    "    (minimum(timer) .<= Dates.month.(obstime) .<= maximum(timer))\n",
    ");\n",
    "\n",
    "@show typeof(sel);\n",
    "@show size(sel);"
   ]
  },
  {
   "cell_type": "markdown",
   "metadata": {},
   "source": [
    "The new variables (ending by `sel`) are a sub-selection based on the previous criteria."
   ]
  },
  {
   "cell_type": "code",
   "execution_count": null,
   "metadata": {
    "slideshow": {
     "slide_type": "fragment"
    }
   },
   "outputs": [],
   "source": [
    "valsel = obsval[sel]\n",
    "lonsel = obslon[sel]\n",
    "latsel = obslat[sel]\n",
    "depthsel = obsdepth[sel]\n",
    "timesel = obstime[sel]\n",
    "idssel = obsid[sel];"
   ]
  },
  {
   "cell_type": "markdown",
   "metadata": {},
   "source": [
    "Let's perform again the check."
   ]
  },
  {
   "cell_type": "code",
   "execution_count": null,
   "metadata": {},
   "outputs": [],
   "source": [
    "checkobs((lonsel, latsel, depthsel, timesel), valsel, idssel)"
   ]
  },
  {
   "cell_type": "markdown",
   "metadata": {},
   "source": [
    "Number of selected data points"
   ]
  },
  {
   "cell_type": "code",
   "execution_count": null,
   "metadata": {},
   "outputs": [],
   "source": [
    "length(valsel)"
   ]
  },
  {
   "cell_type": "markdown",
   "metadata": {},
   "source": [
    "## Bathymetry download \n",
    "For plotting purpose. See [06-topography](06-topography.ipynb) for details."
   ]
  },
  {
   "cell_type": "code",
   "execution_count": null,
   "metadata": {},
   "outputs": [],
   "source": [
    "bathname = gebco16file\n",
    "download_check(gebco16file, gebco16fileURL)\n",
    "bathisglobal = true\n",
    "\n",
    "# Extract the bathymetry for plotting\n",
    "bx, by, b = DIVAnd.extract_bath(bathname, bathisglobal, lonr, latr);"
   ]
  },
  {
   "cell_type": "markdown",
   "metadata": {},
   "source": [
    "Create a simple plot to show the domain."
   ]
  },
  {
   "cell_type": "code",
   "execution_count": null,
   "metadata": {},
   "outputs": [],
   "source": [
    "plot_bathy(bx, by, b, xticks = -7.0:4.0:37, yticks = 30.0:3.0:48.0)"
   ]
  },
  {
   "cell_type": "markdown",
   "metadata": {},
   "source": [
    "## Data plotting\n",
    "The bathymetry is used to display a land-sea mask using the `contourf` function with 2 levels.      \n",
    "The data are shown as colored circles using `scatter`."
   ]
  },
  {
   "cell_type": "code",
   "execution_count": null,
   "metadata": {},
   "outputs": [],
   "source": [
    "f = Figure()\n",
    "ax = GeoAxis(f[1, 1], title = \"Observations\")\n",
    "contourf!(ax, bx, by, b, levels = [-1e5, 0, 1e5], colormap = Reverse(\"binary\"))\n",
    "sc = scatter!(ax, obslon[sel], obslat[sel]; color = obsval[sel], markersize = 3)\n",
    "Colorbar(f[2, 1], sc, vertical = false)\n",
    "f"
   ]
  },
  {
   "cell_type": "markdown",
   "metadata": {},
   "source": [
    "# Check for duplicates\n",
    "\n",
    "There are two ways to call the function `checkduplicates`:"
   ]
  },
  {
   "cell_type": "code",
   "execution_count": null,
   "metadata": {},
   "outputs": [],
   "source": [
    "?DIVAnd.Quadtrees.checkduplicates"
   ]
  },
  {
   "cell_type": "markdown",
   "metadata": {},
   "source": [
    "We load a small ODV file containing data in the same domain to test the duplicate detection.     \n",
    "We use the function `ODVspreadsheet.load` available within `DIVAnd.jl`."
   ]
  },
  {
   "cell_type": "code",
   "execution_count": null,
   "metadata": {},
   "outputs": [],
   "source": [
    "download_check(smallODVsamplefile, smallODVsamplefileURL)"
   ]
  },
  {
   "cell_type": "code",
   "execution_count": null,
   "metadata": {},
   "outputs": [],
   "source": [
    "obsval_ODV, obslon_ODV, obslat_ODV, obsdepth_ODV, obstime_ODV, obsid_ODV =\n",
    "    ODVspreadsheet.load(\n",
    "        Float64,\n",
    "        [smallODVfile],\n",
    "        [\"Water body salinity\"];\n",
    "        nametype = :localname,\n",
    "    );"
   ]
  },
  {
   "cell_type": "code",
   "execution_count": null,
   "metadata": {},
   "outputs": [],
   "source": [
    "length(obsval_ODV)"
   ]
  },
  {
   "cell_type": "code",
   "execution_count": null,
   "metadata": {},
   "outputs": [],
   "source": [
    "checkobs((obslon_ODV, obslat_ODV, obsdepth_ODV, obstime_ODV), obsval_ODV, obsid_ODV)"
   ]
  },
  {
   "cell_type": "code",
   "execution_count": null,
   "metadata": {},
   "outputs": [],
   "source": [
    "f = Figure()\n",
    "ax = GeoAxis(f[1, 1], title = \"Observations from ODV file\")\n",
    "contourf!(ax, bx, by, b, levels = [-1e5, 0, 1e5], colormap = Reverse(\"binary\"))\n",
    "scatter!(ax, obslon_ODV, obslat_ODV, color = obsval_ODV, markersize = 3)\n",
    "Colorbar(f[2, 1], sc, vertical = false)\n",
    "f"
   ]
  },
  {
   "cell_type": "markdown",
   "metadata": {},
   "source": [
    "Look for duplicates\n",
    "* within 0.01 degree (about 1km)\n",
    "* within 0.01 m depth\n",
    "* within 1 minute.      \n",
    "\n",
    "Difference in value is 0.01 psu."
   ]
  },
  {
   "cell_type": "code",
   "execution_count": null,
   "metadata": {},
   "outputs": [],
   "source": [
    "dupl = DIVAnd.Quadtrees.checkduplicates(\n",
    "    (obslon_ODV, obslat_ODV, obsdepth_ODV, obstime_ODV),\n",
    "    obsval_ODV,\n",
    "    (obslon, obslat, obsdepth, obstime),\n",
    "    obsval,\n",
    "    (0.01, 0.01, 0.01, 1 / (24 * 60)),\n",
    "    0.01,\n",
    ");"
   ]
  },
  {
   "cell_type": "code",
   "execution_count": null,
   "metadata": {},
   "outputs": [],
   "source": [
    "size(obsval) == size(dupl)"
   ]
  },
  {
   "cell_type": "markdown",
   "metadata": {},
   "source": [
    "* `dupl` is an array of the same length as `obsval`\n",
    "* If the i-th element of `dupl` is an empty list, then the i-th element in `obsval` is probably not a duplicate\n",
    "* Otherwise, the i-th element in `obsval` is probably a duplicate of the element `val_ODV` with the indices `dupl[i]`."
   ]
  },
  {
   "cell_type": "code",
   "execution_count": null,
   "metadata": {},
   "outputs": [],
   "source": [
    "dupl[1]"
   ]
  },
  {
   "cell_type": "markdown",
   "metadata": {},
   "source": [
    "To get a list of possible duplicates, we check for the elements of `dupl` that are not empty."
   ]
  },
  {
   "cell_type": "code",
   "execution_count": null,
   "metadata": {},
   "outputs": [],
   "source": [
    "index = findall(.!isempty.(dupl))"
   ]
  },
  {
   "cell_type": "markdown",
   "metadata": {},
   "source": [
    "Number of duplicate candidates"
   ]
  },
  {
   "cell_type": "code",
   "execution_count": null,
   "metadata": {},
   "outputs": [],
   "source": [
    "length(index)"
   ]
  },
  {
   "cell_type": "markdown",
   "metadata": {},
   "source": [
    "Check the first reported duplicate"
   ]
  },
  {
   "cell_type": "code",
   "execution_count": null,
   "metadata": {},
   "outputs": [],
   "source": [
    "if length(index) > 0\n",
    "    index_WOD = index[1]\n",
    "else\n",
    "    @info(\"No duplicate detected\")\n",
    "end"
   ]
  },
  {
   "cell_type": "markdown",
   "metadata": {},
   "source": [
    "Show its coordinates and value from the ODV file:"
   ]
  },
  {
   "cell_type": "code",
   "execution_count": null,
   "metadata": {},
   "outputs": [],
   "source": [
    "obslon[index_WOD],\n",
    "obslat[index_WOD],\n",
    "obsdepth[index_WOD],\n",
    "obstime[index_WOD],\n",
    "obsval[index_WOD]"
   ]
  },
  {
   "cell_type": "markdown",
   "metadata": {},
   "source": [
    "They are quite close to the data point with the index:"
   ]
  },
  {
   "cell_type": "code",
   "execution_count": null,
   "metadata": {},
   "outputs": [],
   "source": [
    "dupl[index_WOD]"
   ]
  },
  {
   "cell_type": "code",
   "execution_count": null,
   "metadata": {},
   "outputs": [],
   "source": [
    "index_ODV = dupl[index_WOD][1]"
   ]
  },
  {
   "cell_type": "code",
   "execution_count": null,
   "metadata": {},
   "outputs": [],
   "source": [
    "obslon_ODV[index_ODV],\n",
    "obslat_ODV[index_ODV],\n",
    "obsdepth_ODV[index_ODV],\n",
    "obstime_ODV[index_ODV],\n",
    "obsval_ODV[index_ODV]"
   ]
  },
  {
   "cell_type": "markdown",
   "metadata": {},
   "source": [
    "Indeed, it is quite likely that they are duplicates.\n",
    "\n",
    "Combine the dataset and retain only new points from WOD"
   ]
  },
  {
   "cell_type": "code",
   "execution_count": null,
   "metadata": {},
   "outputs": [],
   "source": [
    "newpoints = findall(isempty.(dupl));\n",
    "@show length(newpoints)"
   ]
  },
  {
   "cell_type": "code",
   "execution_count": null,
   "metadata": {},
   "outputs": [],
   "source": [
    "obslon_combined = [obslon_ODV; obslon[newpoints]];\n",
    "obslat_combined = [obslat_ODV; obslat[newpoints]];\n",
    "obsdepth_combined = [obsdepth_ODV; obsdepth[newpoints]];\n",
    "obstime_combined = [obstime_ODV; obstime[newpoints]];\n",
    "obsval_combined = [obsval_ODV; obsval[newpoints]];\n",
    "obsids_combined = [obsid_ODV; obsid[newpoints]];"
   ]
  },
  {
   "cell_type": "markdown",
   "metadata": {},
   "source": [
    "## CMEMS data download\n",
    "\n",
    "<div class=\"alert alert-block alert-warning\">\n",
    "⚠️ A function <code>CMEMS.download</code> was implemented, but due to the change in CMEMS data access, it is not working anymore.\n",
    "</div>"
   ]
  }
 ],
 "metadata": {
  "@webio": {
   "lastCommId": null,
   "lastKernelId": null
  },
  "kernelspec": {
   "display_name": "Julia 1.11.2",
   "language": "julia",
   "name": "julia-1.11"
  },
  "language_info": {
   "file_extension": ".jl",
   "mimetype": "application/julia",
   "name": "julia",
   "version": "1.11.2"
  },
  "toc": {
   "base_numbering": 1,
   "nav_menu": {},
   "number_sections": true,
   "sideBar": true,
   "skip_h1_title": false,
   "title_cell": "Table of Contents",
   "title_sidebar": "Contents",
   "toc_cell": false,
   "toc_position": {},
   "toc_section_display": true,
   "toc_window_display": false
  }
 },
 "nbformat": 4,
 "nbformat_minor": 4
}
