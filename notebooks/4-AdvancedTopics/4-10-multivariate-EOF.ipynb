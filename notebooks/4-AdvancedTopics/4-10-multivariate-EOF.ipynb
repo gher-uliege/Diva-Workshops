{
 "cells": [
  {
   "cell_type": "markdown",
   "metadata": {},
   "source": [
    "# DIVAnd multivariate - EOF approach\n",
    "This notebook shows a synthetic example of how the _multivariate_ analysis implemented in `DIVAnd`  works.<br>\n",
    "Here the so-called EOF approach is used, while in [`4-11-multivariate-Jacobian`](4-11-multivariate-Jacobian.ipynb) the Jacobian approach is demonstrated.\n",
    "## Packages"
   ]
  },
  {
   "cell_type": "code",
   "execution_count": null,
   "metadata": {},
   "outputs": [],
   "source": [
    "import Pkg\n",
    "Pkg.activate(\"../..\")\n",
    "Pkg.instantiate()\n",
    "using Makie, CairoMakie\n",
    "using LinearAlgebra\n",
    "using Statistics\n",
    "using DIVAnd"
   ]
  },
  {
   "cell_type": "markdown",
   "metadata": {},
   "source": [
    "## Create synthetic observations"
   ]
  },
  {
   "cell_type": "code",
   "execution_count": null,
   "metadata": {},
   "outputs": [],
   "source": [
    "ND = 159\n",
    "NX = 200\n",
    "NY = 250\n",
    "NV = 2\n",
    "\n",
    "# function to interpolate\n",
    "fun(x, y, v) = 2 * (sin.(6x) * cos.(6y)) * (1.5 - v) .+ (v .- 1.0) .* x .* y"
   ]
  },
  {
   "cell_type": "markdown",
   "metadata": {},
   "source": [
    "### Observations\n",
    "The 2 first coordinates `x` and `y` can be considered as the _spatial_ coordinates.     \n",
    "The 3rd coordinate `v` represent the variable that has been measured: \n",
    "- v[i] == __1__ means that at (x[i], y[i]), it is the _first_ variable that has been measured (for example, temperature).\n",
    "- v[i] == __2__ means that the 2nd variable was measured at (x[i], y[i]).\n",
    "\n",
    "In this simple example we will work with only 2 pseudo-variables, hence `v` only takes the values __1__ or __2__."
   ]
  },
  {
   "cell_type": "code",
   "execution_count": null,
   "metadata": {},
   "outputs": [],
   "source": [
    "x = 0.5 .+ 0.25 .* randn(ND);\n",
    "y = 0.5 .+ 0.25 .* randn(ND);\n",
    "v = mod.(rand(Int, ND), 2) .+ 1\n",
    "\n",
    "# The locations of the observations are moved either to the left or to the right, \n",
    "# according to the variable that was measured.\n",
    "\n",
    "x[v.>1.5] .+= 0.2\n",
    "x[v.<1.5] .+= -0.2\n",
    "\n",
    "# Observations\n",
    "f = fun.(x, y, v) + 0.2 * randn(ND);"
   ]
  },
  {
   "cell_type": "markdown",
   "metadata": {},
   "source": [
    "### Mask, grid and metrics\n",
    "<div class=\"alert alert-block alert-info\">\n",
    "<b>Note:</b> the grid has now a 3rd dimension <code>vi</code>.\n",
    "</div>"
   ]
  },
  {
   "cell_type": "code",
   "execution_count": null,
   "metadata": {},
   "outputs": [],
   "source": [
    "# final grid\n",
    "xi, yi, vi = ndgrid(range(0, stop = 1, length = NX), range(0, stop = 1, length = NY), 1:2);\n",
    "\n",
    "# All points are valid points, except a rectangular area.\n",
    "mask = trues(size(xi));\n",
    "mask[10:30, 20:50, :] .= false\n",
    "\n",
    "pm = ones(size(xi)) / (xi[2, 1, 1] - xi[1, 1, 1]);\n",
    "pn = ones(size(xi)) / (yi[1, 2, 1] - yi[1, 1, 1]);\n",
    "pv = ones(size(xi)) / (vi[1, 1, 2] - vi[1, 1, 1]);\n",
    "\n",
    "# Reference field\n",
    "fref = fun.(xi, yi, vi);"
   ]
  },
  {
   "cell_type": "markdown",
   "metadata": {},
   "source": [
    "## Perform simple analysis\n",
    "### Parameters\n",
    "<div class=\"alert alert-block alert-info\">\n",
    "ℹ️ Again note that the correlation length has 3 components and that the 3rd is set to <b>0</b>.\n",
    "</div>"
   ]
  },
  {
   "cell_type": "code",
   "execution_count": null,
   "metadata": {},
   "outputs": [],
   "source": [
    "len = 0.2\n",
    "epsilon2 = 1.0;\n",
    "@time fi, s =\n",
    "    DIVAndrun(mask, (pm, pn, pv), (xi, yi, vi), (x, y, v), f, (len, len, 0.0), epsilon2);"
   ]
  },
  {
   "cell_type": "markdown",
   "metadata": {},
   "source": [
    "### Plot the interpolated field for each _variable_ and the corresponding observations"
   ]
  },
  {
   "cell_type": "code",
   "execution_count": null,
   "metadata": {},
   "outputs": [],
   "source": [
    "fig = Figure(size = (900, 400))\n",
    "ax = Axis(fig[1, 1], aspect = 1, title = \"Variable #1\")\n",
    "hm = heatmap!(\n",
    "    ax,\n",
    "    xi[:, 1, 1],\n",
    "    yi[1, :, 1],\n",
    "    fi[:, :, 1],\n",
    "    colorrange = [-1, 1],\n",
    "    colormap = Reverse(:RdYlBu),\n",
    ")\n",
    "scatter!(ax, x[v.<1.5], y[v.<1.5], color = :black, markersize = 3)\n",
    "xlims!(ax, 0, 1)\n",
    "ylims!(ax, 0, 1)\n",
    "Colorbar(fig[1, 2], hm)\n",
    "\n",
    "ax2 = Axis(fig[1, 3], aspect = 1, title = \"Variable #2\")\n",
    "hm2 = heatmap!(\n",
    "    ax2,\n",
    "    xi[:, 1, 1],\n",
    "    yi[1, :, 1],\n",
    "    fi[:, :, 2],\n",
    "    colorrange = [-1, 1],\n",
    "    colormap = Reverse(:RdYlBu),\n",
    ")\n",
    "scatter!(ax2, x[v.>1.5], y[v.>1.5], color = :black, markersize = 3)\n",
    "Colorbar(fig[1, 4], hm2)\n",
    "xlims!(ax2, 0, 1)\n",
    "ylims!(ax2, 0, 1)\n",
    "fig"
   ]
  },
  {
   "cell_type": "markdown",
   "metadata": {},
   "source": [
    "## Perform multivariate analysis\n",
    "### Transform correlation length to matrix"
   ]
  },
  {
   "cell_type": "code",
   "execution_count": null,
   "metadata": {},
   "outputs": [],
   "source": [
    "len = 0.2 * ones(Float64, size(mask));"
   ]
  },
  {
   "cell_type": "markdown",
   "metadata": {},
   "source": [
    "### Analysis\n",
    "Check the function docstring to know more about the output of a `DIVAnd_multivarEOF` execution."
   ]
  },
  {
   "cell_type": "code",
   "execution_count": null,
   "metadata": {},
   "outputs": [],
   "source": [
    "@time fim, s, eofs, eofamplitudes, emap, emapm = DIVAnd_multivarEOF(\n",
    "    mask,\n",
    "    (pm, pn, pv),\n",
    "    (xi, yi, vi),\n",
    "    (x, y, v),\n",
    "    f,\n",
    "    (len, len, 0.0 .* len),\n",
    "    epsilon2,\n",
    ");"
   ]
  },
  {
   "cell_type": "markdown",
   "metadata": {},
   "source": [
    "### Plot the 2 variables"
   ]
  },
  {
   "cell_type": "code",
   "execution_count": null,
   "metadata": {},
   "outputs": [],
   "source": [
    "fig = Figure(size = (900, 400))\n",
    "ax = Axis(fig[1, 1], aspect = 1, title = \"Variable #1, EOF multivariate approach\")\n",
    "hm = heatmap!(\n",
    "    ax,\n",
    "    xi[:, 1, 1],\n",
    "    yi[1, :, 1],\n",
    "    fim[:, :, 1],\n",
    "    colorrange = [-1, 1],\n",
    "    colormap = Reverse(:RdYlBu),\n",
    ")\n",
    "scatter!(ax, x[v.<1.5], y[v.<1.5], color = :black, markersize = 3)\n",
    "xlims!(ax, 0, 1)\n",
    "ylims!(ax, 0, 1)\n",
    "Colorbar(fig[1, 2], hm)\n",
    "\n",
    "ax2 = Axis(fig[1, 3], aspect = 1, title = \"Variable #2, EOF multivariate approach\")\n",
    "hm2 = heatmap!(\n",
    "    ax2,\n",
    "    xi[:, 1, 1],\n",
    "    yi[1, :, 1],\n",
    "    fim[:, :, 2],\n",
    "    colorrange = [-1, 1],\n",
    "    colormap = Reverse(:RdYlBu),\n",
    ")\n",
    "scatter!(ax2, x[v.>1.5], y[v.>1.5], color = :black, markersize = 3)\n",
    "Colorbar(fig[1, 4], hm2)\n",
    "xlims!(ax2, 0, 1)\n",
    "ylims!(ax2, 0, 1)\n",
    "fig"
   ]
  },
  {
   "cell_type": "markdown",
   "metadata": {},
   "source": [
    "### Additional plots\n",
    "#### Difference between the 2 analysis"
   ]
  },
  {
   "cell_type": "code",
   "execution_count": null,
   "metadata": {},
   "outputs": [],
   "source": [
    "fig = Figure()\n",
    "ax = Axis(\n",
    "    fig[1, 1],\n",
    "    aspect = 1,\n",
    "    title = \"Difference between simple and multivariate analysis\\n(Variable #1)\",\n",
    ")\n",
    "hm = heatmap!(\n",
    "    ax,\n",
    "    xi[:, 1, 1],\n",
    "    yi[1, :, 1],\n",
    "    fi[:, :, 1] .- fim[:, :, 1],\n",
    "    colorrange = [-0.5, 0.5],\n",
    "    colormap = Reverse(:RdBu),\n",
    ")\n",
    "scatter!(ax, x, y, color = :black, markersize = 3)\n",
    "xlims!(ax, 0, 1)\n",
    "ylims!(ax, 0, 1)\n",
    "Colorbar(fig[1, 2], hm)\n",
    "fig"
   ]
  },
  {
   "cell_type": "markdown",
   "metadata": {},
   "source": [
    "#### EOF amplitude"
   ]
  },
  {
   "cell_type": "code",
   "execution_count": null,
   "metadata": {},
   "outputs": [],
   "source": [
    "fig = Figure()\n",
    "ax = Axis(fig[1, 1], aspect = 1, title = \"EOF amplitude\")\n",
    "hm = heatmap!(\n",
    "    ax,\n",
    "    xi[:, 1, 1],\n",
    "    yi[1, :, 1],\n",
    "    eofamplitudes,\n",
    "    colorrange = [-1.0, 1],\n",
    "    colormap = Reverse(:RdYlBu),\n",
    ")\n",
    "xlims!(ax, 0, 1)\n",
    "ylims!(ax, 0, 1)\n",
    "Colorbar(fig[1, 2], hm)\n",
    "fig"
   ]
  },
  {
   "cell_type": "markdown",
   "metadata": {},
   "source": [
    "#### The 2 EOFSs"
   ]
  },
  {
   "cell_type": "code",
   "execution_count": null,
   "metadata": {},
   "outputs": [],
   "source": [
    "fig = Figure(size = (900, 400))\n",
    "ax = Axis(fig[1, 1], aspect = 1, title = \"EOF #1\")\n",
    "hm = heatmap!(\n",
    "    ax,\n",
    "    xi[:, 1, 1],\n",
    "    yi[1, :, 1],\n",
    "    eofamplitudes * eofs[1],\n",
    "    colorrange = [-1, 1],\n",
    "    colormap = Reverse(:RdYlBu),\n",
    ")\n",
    "scatter!(ax, x[v.<1.5], y[v.<1.5], color = :black, markersize = 3)\n",
    "xlims!(ax, 0, 1)\n",
    "ylims!(ax, 0, 1)\n",
    "Colorbar(fig[1, 2], hm)\n",
    "\n",
    "ax2 = Axis(fig[1, 3], aspect = 1, title = \"EOF #2\")\n",
    "hm2 = heatmap!(\n",
    "    ax2,\n",
    "    xi[:, 1, 1],\n",
    "    yi[1, :, 1],\n",
    "    eofamplitudes * eofs[2],\n",
    "    colorrange = [-1, 1],\n",
    "    colormap = Reverse(:RdYlBu),\n",
    ")\n",
    "scatter!(ax2, x[v.>1.5], y[v.>1.5], color = :black, markersize = 3)\n",
    "Colorbar(fig[1, 4], hm2)\n",
    "xlims!(ax2, 0, 1)\n",
    "ylims!(ax2, 0, 1)\n",
    "fig"
   ]
  },
  {
   "cell_type": "markdown",
   "metadata": {},
   "source": [
    "#### Reference field"
   ]
  },
  {
   "cell_type": "code",
   "execution_count": null,
   "metadata": {},
   "outputs": [],
   "source": [
    "fig = Figure()\n",
    "ax = Axis(fig[1, 1], aspect = 1, title = \"\")\n",
    "hm = heatmap!(\n",
    "    ax,\n",
    "    xi[:, 1, 1],\n",
    "    yi[1, :, 1],\n",
    "    fref[:, :, 2],\n",
    "    colorrange = [-1.0, 1],\n",
    "    colormap = Reverse(:RdYlBu),\n",
    ")\n",
    "xlims!(ax, 0, 1)\n",
    "ylims!(ax, 0, 1)\n",
    "Colorbar(fig[1, 2], hm)\n",
    "fig"
   ]
  },
  {
   "cell_type": "markdown",
   "metadata": {},
   "source": [
    "## Compute some statistics"
   ]
  },
  {
   "cell_type": "code",
   "execution_count": null,
   "metadata": {},
   "outputs": [],
   "source": [
    "function nanvar(f)\n",
    "    return var(f[.!isnan.(f)])\n",
    "end\n",
    "@show nanvar(fi - fref), nanvar(fim - fref)\n",
    "@show nanvar(eofamplitudes * eofs[1] - fref[:, :, 1])\n",
    "@show nanvar(fim[:, :, 1] - fref[:, :, 1])\n",
    "@show nanvar(eofamplitudes * eofs[2] - fref[:, :, 2])\n",
    "@show nanvar(fim[:, :, 2] - fref[:, :, 2])"
   ]
  },
  {
   "cell_type": "code",
   "execution_count": null,
   "metadata": {},
   "outputs": [],
   "source": [
    "@show eof,\n",
    "extrema(fref),\n",
    "extrema(f),\n",
    "extrema(fi[mask]),\n",
    "extrema(fim[mask]),\n",
    "extrema(eofamplitudes[mask[:, :, 1]] .* eofs[1]),\n",
    "extrema(eofamplitudes[mask[:, :, 1]] .* eofs[2])"
   ]
  },
  {
   "cell_type": "markdown",
   "metadata": {},
   "source": [
    "## Error fields"
   ]
  },
  {
   "cell_type": "code",
   "execution_count": null,
   "metadata": {},
   "outputs": [],
   "source": [
    "fig = Figure(size = (1000, 300))\n",
    "ax = Axis(fig[1, 1], aspect = 1, title = \"Error field, variable #1, simple approach\")\n",
    "hm = heatmap!(\n",
    "    ax,\n",
    "    xi[:, 1, 1],\n",
    "    yi[1, :, 1],\n",
    "    emap[:, :, 1],\n",
    "    colorrange = [0, 1],\n",
    "    colormap = Reverse(:hot),\n",
    ")\n",
    "scatter!(ax, x[v.<1.5], y[v.<1.5], color = :black, markersize = 3)\n",
    "xlims!(ax, 0, 1)\n",
    "ylims!(ax, 0, 1)\n",
    "Colorbar(fig[1, 2], hm)\n",
    "\n",
    "ax2 = Axis(fig[1, 3], aspect = 1, title = \"Error field, variable #2, simple approach\")\n",
    "hm2 = heatmap!(\n",
    "    ax2,\n",
    "    xi[:, 1, 2],\n",
    "    yi[1, :, 2],\n",
    "    emap[:, :, 2],\n",
    "    colorrange = [0, 1],\n",
    "    colormap = Reverse(:hot),\n",
    ")\n",
    "scatter!(ax2, x[v.>1.5], y[v.>1.5], color = :black, markersize = 3)\n",
    "Colorbar(fig[1, 4], hm2)\n",
    "xlims!(ax2, 0, 1)\n",
    "ylims!(ax2, 0, 1)\n",
    "\n",
    "ax3 = Axis(fig[1, 5], aspect = 1, title = \"Error field, variable #1, multivariate approach\")\n",
    "hm3 = heatmap!(\n",
    "    ax3,\n",
    "    xi[:, 1, 1],\n",
    "    yi[1, :, 1],\n",
    "    emapm[:, :, 1],\n",
    "    colorrange = [0, 1],\n",
    "    colormap = Reverse(:hot),\n",
    ")\n",
    "scatter!(ax3, x[v.<1.5], y[v.<1.5], color = :black, markersize = 3)\n",
    "Colorbar(fig[1, 6], hm3)\n",
    "xlims!(ax3, 0, 1)\n",
    "ylims!(ax3, 0, 1)\n",
    "\n",
    "fig"
   ]
  },
  {
   "cell_type": "markdown",
   "metadata": {},
   "source": [
    "### Comparison between the error fields"
   ]
  },
  {
   "cell_type": "code",
   "execution_count": null,
   "metadata": {},
   "outputs": [],
   "source": [
    "@show nanvar(emap - emapm), nanvar(emap)"
   ]
  },
  {
   "cell_type": "code",
   "execution_count": null,
   "metadata": {},
   "outputs": [],
   "source": [
    "fig = Figure(size = (900, 400))\n",
    "ax = Axis(\n",
    "    fig[1, 1],\n",
    "    aspect = 1,\n",
    "    title = \"Variable #1, difference between simple\\n and multivariate error field\",\n",
    ")\n",
    "hm = heatmap!(\n",
    "    ax,\n",
    "    xi[:, 1, 1],\n",
    "    yi[1, :, 1],\n",
    "    emap[:, :, 1] - emapm[:, :, 1],\n",
    "    colormap = Reverse(:RdBu),\n",
    ")\n",
    "xlims!(ax, 0, 1)\n",
    "ylims!(ax, 0, 1)\n",
    "Colorbar(fig[1, 2], hm)\n",
    "\n",
    "ax2 = Axis(\n",
    "    fig[1, 3],\n",
    "    aspect = 1,\n",
    "    title = \"Variable #2, difference between simple\\n and multivariate error field\",\n",
    ")\n",
    "hm2 = heatmap!(\n",
    "    ax2,\n",
    "    xi[:, 1, 1],\n",
    "    yi[1, :, 1],\n",
    "    emap[:, :, 2] - emapm[:, :, 2],\n",
    "    colormap = Reverse(:RdBu),\n",
    ")\n",
    "Colorbar(fig[1, 4], hm2)\n",
    "xlims!(ax2, 0, 1)\n",
    "ylims!(ax2, 0, 1)\n",
    "fig"
   ]
  },
  {
   "cell_type": "code",
   "execution_count": null,
   "metadata": {},
   "outputs": [],
   "source": []
  }
 ],
 "metadata": {
  "@webio": {
   "lastCommId": null,
   "lastKernelId": null
  },
  "kernelspec": {
   "display_name": "Julia 1.11.6",
   "language": "julia",
   "name": "julia-1.11"
  },
  "language_info": {
   "file_extension": ".jl",
   "mimetype": "application/julia",
   "name": "julia",
   "version": "1.11.6"
  },
  "toc": {
   "base_numbering": 1,
   "nav_menu": {},
   "number_sections": true,
   "sideBar": true,
   "skip_h1_title": false,
   "title_cell": "Table of Contents",
   "title_sidebar": "Contents",
   "toc_cell": false,
   "toc_position": {},
   "toc_section_display": true,
   "toc_window_display": false
  }
 },
 "nbformat": 4,
 "nbformat_minor": 4
}
