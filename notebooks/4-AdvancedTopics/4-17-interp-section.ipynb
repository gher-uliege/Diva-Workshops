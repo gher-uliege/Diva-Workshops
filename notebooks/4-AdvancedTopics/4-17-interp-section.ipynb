{
 "cells": [
  {
   "cell_type": "markdown",
   "metadata": {},
   "source": [
    "# Interpolating along a section\n",
    "In this example we demonstrate how to create a gridded field from data on a section, for instance a set of profiles."
   ]
  },
  {
   "cell_type": "code",
   "execution_count": null,
   "metadata": {},
   "outputs": [],
   "source": [
    "using DIVAnd\n",
    "using DelimitedFiles\n",
    "using Makie, CairoMakie\n",
    "using Interpolations\n",
    "using Statistics\n",
    "include(\"../config.jl\")"
   ]
  },
  {
   "cell_type": "markdown",
   "metadata": {},
   "source": [
    "## Files and directories"
   ]
  },
  {
   "cell_type": "code",
   "execution_count": null,
   "metadata": {},
   "outputs": [],
   "source": [
    "sectionfile = joinpath(datadir, \"temp_seasoar_section_5.dat\")\n",
    "sectionfile_URL = make_dox_url(\"UmvV8JsQt3eS6PO\")\n",
    "datafile = sectionfile\n",
    "download_check(sectionfile, sectionfile_URL)"
   ]
  },
  {
   "cell_type": "markdown",
   "metadata": {},
   "source": [
    "## Read and plot data "
   ]
  },
  {
   "cell_type": "code",
   "execution_count": null,
   "metadata": {},
   "outputs": [],
   "source": [
    "data = readdlm(datafile)\n",
    "lat = data[:, 1]\n",
    "depth = data[:, 2]\n",
    "T = data[:, 3];\n",
    "lon = -11.5 * ones(length(lat));"
   ]
  },
  {
   "cell_type": "markdown",
   "metadata": {},
   "source": [
    "### Plot temperature section"
   ]
  },
  {
   "cell_type": "code",
   "execution_count": null,
   "metadata": {},
   "outputs": [],
   "source": [
    "fig = Figure()\n",
    "ax = Axis(fig[1, 1], xlabel = \"Latitude (°N)\", ylabel = \"Depth (m)\")\n",
    "scat = scatter!(ax, lat, depth, markersize = 5, color = T, colormap = Reverse(:RdYlBu))\n",
    "cb = Colorbar(fig[1, 2], scat)\n",
    "fig"
   ]
  },
  {
   "cell_type": "markdown",
   "metadata": {},
   "source": [
    "## Extract and plot bathymetry\n",
    "Its resolution is chosen according to the extension of the region of interest."
   ]
  },
  {
   "cell_type": "code",
   "execution_count": null,
   "metadata": {},
   "outputs": [],
   "source": [
    "bathname = gebco04file\n",
    "download_check(gebco04file, gebco04fileURL)"
   ]
  },
  {
   "cell_type": "markdown",
   "metadata": {},
   "source": [
    "We create a 2D grid for the bathymetry extraction: the goal is to know the bathymetry where we have the profiles, hence the original bathymetry has to be re-interpolated."
   ]
  },
  {
   "cell_type": "code",
   "execution_count": null,
   "metadata": {},
   "outputs": [],
   "source": [
    "lonmin, lonmax, latmin, latmax = minimum(lon), maximum(lon), minimum(lat), maximum(lat)\n",
    "Δlon = 0.1#, lonmax - lonmin;\n",
    "Δlat = latmax - latmin;\n",
    "xi = lonmin-0.05*Δlon:0.01:lonmax+0.05*Δlon\n",
    "yi = latmin-0.05*Δlat:0.01:latmax+0.05*Δlat\n",
    "\n",
    "bx, by, b = DIVAnd.extract_bath(bathname, true, xi, yi)"
   ]
  },
  {
   "cell_type": "markdown",
   "metadata": {},
   "source": [
    "Plot the bathymetry and the data locations."
   ]
  },
  {
   "cell_type": "code",
   "execution_count": null,
   "metadata": {},
   "outputs": [],
   "source": [
    "fig = Figure()\n",
    "ax = Axis(fig[1, 1])\n",
    "pcm = heatmap!(ax, bx, by, b, colormap = :gist_earth)\n",
    "scatter!(ax, lon, lat, color = :black, markersize = 4)\n",
    "Colorbar(fig[1, 2], pcm)\n",
    "fig"
   ]
  },
  {
   "cell_type": "markdown",
   "metadata": {},
   "source": [
    "### Create the interpolator"
   ]
  },
  {
   "cell_type": "code",
   "execution_count": null,
   "metadata": {},
   "outputs": [],
   "source": [
    "lon_u, lat_u = unique(lon), unique(lat)\n",
    "itp = Interpolations.interpolate((bx, by), b, Gridded(Constant()));\n",
    "depth_interp = itp.(lon_u, lat_u);"
   ]
  },
  {
   "cell_type": "markdown",
   "metadata": {},
   "source": [
    "Plot the interpolated depth over the bathymetry to see if they correspond."
   ]
  },
  {
   "cell_type": "code",
   "execution_count": null,
   "metadata": {},
   "outputs": [],
   "source": [
    "fig = Figure()\n",
    "ax = Axis(fig[1, 1])\n",
    "pcm = heatmap!(ax, bx, by, b, colormap = :gist_earth, colorrange = [2000.0, 3000.0])\n",
    "scatter!(\n",
    "    ax,\n",
    "    lon_u,\n",
    "    lat_u,\n",
    "    color = depth_interp,\n",
    "    markersize = 4,\n",
    "    colormap = :gist_earth,\n",
    "    colorrange = [2000.0, 3000.0],\n",
    ")\n",
    "Colorbar(fig[1, 2], pcm)\n",
    "fig"
   ]
  },
  {
   "cell_type": "code",
   "execution_count": null,
   "metadata": {},
   "outputs": [],
   "source": [
    "fig = Figure()\n",
    "ax = Axis(fig[1, 1], xlabel = \"Latitude (°N)\", ylabel = \"Depth (m)\")\n",
    "scat = scatter!(ax, lat, depth, markersize = 5, color = T, colormap = Reverse(:RdYlBu))\n",
    "cb = Colorbar(fig[1, 2], scat)\n",
    "lines!(ax, unique(lat), -depth_interp)\n",
    "fig"
   ]
  },
  {
   "cell_type": "markdown",
   "metadata": {},
   "source": [
    "## Create interpolation grid"
   ]
  },
  {
   "cell_type": "code",
   "execution_count": null,
   "metadata": {},
   "outputs": [],
   "source": [
    "Δlatg = 0.02 # degrees North\n",
    "Δdepth = 1.0 # meter\n",
    "latgrid = collect(minimum(lat):Δlatg:ceil(maximum(lat)))\n",
    "depthgrid = collect(0.0:Δdepth:ceil(maximum(-depth)));"
   ]
  },
  {
   "cell_type": "markdown",
   "metadata": {},
   "source": [
    "### Land sea mask\n",
    "First we interpolate the bathymetry on the distance grid."
   ]
  },
  {
   "cell_type": "code",
   "execution_count": null,
   "metadata": {},
   "outputs": [],
   "source": [
    "npoints = length(latgrid)\n",
    "lon_grid = range(lon[1] - 0.05 * Δlon, lon[end] + 0.05 * Δlon; length = npoints);\n",
    "lat_grid = range(lat[1], lat[end]; length = npoints)\n",
    "depth_interp_grid = itp.(lon_grid, lat_grid);"
   ]
  },
  {
   "cell_type": "markdown",
   "metadata": {},
   "source": [
    "Then we can construct the mask."
   ]
  },
  {
   "cell_type": "code",
   "execution_count": null,
   "metadata": {},
   "outputs": [],
   "source": [
    "mask = falses(length(lat_grid), length(depthgrid));\n",
    "for (ii, d) in enumerate(lat_grid)\n",
    "    for (jj, h) in enumerate(depthgrid)\n",
    "        if h < depth_interp_grid[ii]\n",
    "            mask[ii, jj] = true\n",
    "        end\n",
    "    end\n",
    "end;"
   ]
  },
  {
   "cell_type": "code",
   "execution_count": null,
   "metadata": {},
   "outputs": [],
   "source": [
    "heatmap(mask)"
   ]
  },
  {
   "cell_type": "markdown",
   "metadata": {},
   "source": [
    "## Analysis\n",
    "### Create metrics"
   ]
  },
  {
   "cell_type": "code",
   "execution_count": null,
   "metadata": {},
   "outputs": [],
   "source": [
    "mask_rect, pmn, xyi = DIVAnd_rectdom(latgrid, depthgrid);"
   ]
  },
  {
   "cell_type": "markdown",
   "metadata": {},
   "source": [
    "### Set parameters"
   ]
  },
  {
   "cell_type": "code",
   "execution_count": null,
   "metadata": {},
   "outputs": [],
   "source": [
    "len = ( 0.05 .* ones(length(latgrid), length(depthgrid)), \n",
    "        5.0 .* ones(length(latgrid), length(depthgrid))) # km, meters\n",
    "epsilon2 = 5."
   ]
  },
  {
   "cell_type": "markdown",
   "metadata": {},
   "source": [
    "### Run analysis\n",
    "We remove the mean value to get the anomalies."
   ]
  },
  {
   "cell_type": "code",
   "execution_count": null,
   "metadata": {},
   "outputs": [],
   "source": [
    "Tinterp, T_struct = DIVAndrun(mask_rect, pmn, xyi, (lat, -depth), T .- mean(T), \n",
    "    len, epsilon2, alphabc=0);"
   ]
  },
  {
   "cell_type": "code",
   "execution_count": null,
   "metadata": {},
   "outputs": [],
   "source": [
    "fig = Figure()\n",
    "ax = Axis(fig[1,1], xlabel = \"Latitude (°N)\", ylabel = \"Depth (m)\")\n",
    "heatmap!(ax, latgrid, -depthgrid, Tinterp, colormap = Reverse(:RdYlBu))\n",
    "xlims!(lat[1], lat[end])\n",
    "fig"
   ]
  }
 ],
 "metadata": {
  "@webio": {
   "lastCommId": null,
   "lastKernelId": null
  },
  "kernelspec": {
   "display_name": "Julia 1.11.3",
   "language": "julia",
   "name": "julia-1.11"
  },
  "language_info": {
   "file_extension": ".jl",
   "mimetype": "application/julia",
   "name": "julia",
   "version": "1.11.3"
  },
  "toc": {
   "base_numbering": 1,
   "nav_menu": {},
   "number_sections": true,
   "sideBar": true,
   "skip_h1_title": false,
   "title_cell": "Table of Contents",
   "title_sidebar": "Contents",
   "toc_cell": false,
   "toc_position": {},
   "toc_section_display": true,
   "toc_window_display": false
  }
 },
 "nbformat": 4,
 "nbformat_minor": 4
}
