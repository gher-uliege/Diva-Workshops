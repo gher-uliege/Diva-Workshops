{
 "cells": [
  {
   "cell_type": "markdown",
   "metadata": {},
   "source": [
    "# Working with a relative correlation length\n",
    "It is sometimes desivable to have a correlation length that is not uniform in space.      \n",
    "In this notebook we explain how to derive a relative correlation length based on the topography gradients."
   ]
  },
  {
   "cell_type": "code",
   "execution_count": null,
   "metadata": {},
   "outputs": [],
   "source": [
    "using DIVAnd\n",
    "using Makie, CairoMakie, GeoMakie\n",
    "using Statistics\n",
    "include(\"../config.jl\")"
   ]
  },
  {
   "cell_type": "code",
   "execution_count": null,
   "metadata": {},
   "outputs": [],
   "source": [
    "dx = dy = 0.1\n",
    "lonr = 2.5:dx:12.0\n",
    "latr = 42.3:dy:44.6\n",
    "depthr = [0.0, 10.0, 20.0]"
   ]
  },
  {
   "cell_type": "markdown",
   "metadata": {},
   "source": [
    "Download bathymetry if necessary"
   ]
  },
  {
   "cell_type": "code",
   "execution_count": null,
   "metadata": {},
   "outputs": [],
   "source": [
    "bathname = gebco04file\n",
    "download_check(gebco04file, gebco04fileURL)\n",
    "bathisglobal = true;"
   ]
  },
  {
   "cell_type": "markdown",
   "metadata": {},
   "source": [
    "Read bathymetry and create mask"
   ]
  },
  {
   "cell_type": "code",
   "execution_count": null,
   "metadata": {},
   "outputs": [],
   "source": [
    "bx, by, b = DIVAnd.load_bath(bathname, true, lonr, latr)\n",
    "xmask, ymask, mmask = load_mask(bathname, true, lonr, latr, depthr);\n",
    "b[b.<0] .= 0;"
   ]
  },
  {
   "cell_type": "markdown",
   "metadata": {},
   "source": [
    "Simple plot to show the mask"
   ]
  },
  {
   "cell_type": "code",
   "execution_count": null,
   "metadata": {},
   "outputs": [],
   "source": [
    "plot_mask(bx, by, mmask[:, :, 1], depth = depthr[1])"
   ]
  },
  {
   "cell_type": "markdown",
   "metadata": {},
   "source": [
    "## Analysis\n",
    "### Parameter setting\n",
    "Prepare the grid and the metrics"
   ]
  },
  {
   "cell_type": "code",
   "execution_count": null,
   "metadata": {},
   "outputs": [],
   "source": [
    "x, y = DIVAnd.ndgrid(bx, by);\n",
    "pm, pn = DIVAnd.DIVAnd_metric(x, y);"
   ]
  },
  {
   "cell_type": "markdown",
   "metadata": {},
   "source": [
    "Set the overal correlation length $L$ and compute the relative correlation length over the domain, based on the topography gradient."
   ]
  },
  {
   "cell_type": "code",
   "execution_count": null,
   "metadata": {},
   "outputs": [],
   "source": [
    "L = 10_000 # meters\n",
    "RL = DIVAnd.lengraddepth((pm, pn), b, L);"
   ]
  },
  {
   "cell_type": "markdown",
   "metadata": {},
   "source": [
    "The following figure show that the correlation length is lower near the coast, where the strongest gradients appear."
   ]
  },
  {
   "cell_type": "code",
   "execution_count": null,
   "metadata": {},
   "outputs": [],
   "source": [
    "fig = Figure()\n",
    "ga = GeoAxis(\n",
    "    fig[1, 1];\n",
    "    dest = \"+proj=merc\",\n",
    "    title = \"Relative correlation length\",\n",
    "    xticks = 2.0:1.0:14,\n",
    "    yticks = 42.0:1.0:45.0,\n",
    ")\n",
    "heatmap!(ga, bx, by, RL, interpolate = false)\n",
    "xlims!(lonr[1], lonr[end])\n",
    "ylims!(latr[1], latr[end])\n",
    "Colorbar(fig[2, 1], vertical = false)\n",
    "rowgap!(fig.layout, -80)\n",
    "fig"
   ]
  },
  {
   "cell_type": "markdown",
   "metadata": {},
   "source": [
    "The RL field is repeated for the different depth levels."
   ]
  },
  {
   "cell_type": "code",
   "execution_count": null,
   "metadata": {},
   "outputs": [],
   "source": [
    "RL3D = repeat(RL, inner = (1, 1, length(depthr)))\n",
    "@show size(RL3D)"
   ]
  },
  {
   "cell_type": "markdown",
   "metadata": {},
   "source": [
    "Parameter `len` for diva3d is then:"
   ]
  },
  {
   "cell_type": "code",
   "execution_count": null,
   "metadata": {},
   "outputs": [],
   "source": [
    "len = (RL3D, RL3D, RL3D);"
   ]
  },
  {
   "cell_type": "markdown",
   "metadata": {},
   "source": [
    "* If the option `fitcorrlen` is true, internally `diva3d` will multiply the relative correlation length with the result of `fithorzcorr` and `fithvertcorr`. \n",
    "* If fitting is not activated, you have to multiply yourself the relative length scales by appropriate values."
   ]
  }
 ],
 "metadata": {
  "@webio": {
   "lastCommId": null,
   "lastKernelId": null
  },
  "kernelspec": {
   "display_name": "Julia 1.11.2",
   "language": "julia",
   "name": "julia-1.11"
  },
  "language_info": {
   "file_extension": ".jl",
   "mimetype": "application/julia",
   "name": "julia",
   "version": "1.11.2"
  },
  "toc": {
   "base_numbering": 1,
   "nav_menu": {},
   "number_sections": true,
   "sideBar": true,
   "skip_h1_title": false,
   "title_cell": "Table of Contents",
   "title_sidebar": "Contents",
   "toc_cell": false,
   "toc_position": {},
   "toc_section_display": true,
   "toc_window_display": false
  }
 },
 "nbformat": 4,
 "nbformat_minor": 4
}
