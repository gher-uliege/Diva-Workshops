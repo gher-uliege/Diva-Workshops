{
 "cells": [
  {
   "cell_type": "markdown",
   "metadata": {},
   "source": [
    "# Example of detrending and geostrophic flow calculation\n",
    "## Load modules"
   ]
  },
  {
   "cell_type": "code",
   "execution_count": null,
   "metadata": {},
   "outputs": [],
   "source": [
    "using DIVAnd\n",
    "using Dates\n",
    "using Statistics\n",
    "using Makie, CairoMakie, GeoMakie\n",
    "using PhysOcean\n",
    "using NCDatasets\n",
    "using DataStructures\n",
    "using ColorSchemes\n",
    "include(\"../config.jl\")"
   ]
  },
  {
   "cell_type": "markdown",
   "metadata": {},
   "source": [
    "### Prepare colormaps\n",
    "(from `cmocean`)"
   ]
  },
  {
   "cell_type": "code",
   "execution_count": null,
   "metadata": {},
   "outputs": [],
   "source": [
    "cmapT = ColorSchemes.thermal\n",
    "cmapS = ColorSchemes.haline"
   ]
  },
  {
   "cell_type": "markdown",
   "metadata": {},
   "source": [
    "## Bathymetry reading"
   ]
  },
  {
   "cell_type": "code",
   "execution_count": null,
   "metadata": {},
   "outputs": [],
   "source": [
    "bathname = gebco08file\n",
    "download_check(gebco08file, gebco08fileURL)\n",
    "bathisglobal = true;"
   ]
  },
  {
   "cell_type": "markdown",
   "metadata": {},
   "source": [
    "## Bathymetry and grid preparation"
   ]
  },
  {
   "cell_type": "code",
   "execution_count": null,
   "metadata": {},
   "outputs": [],
   "source": [
    "dx = dy = 0.125\n",
    "\n",
    "lonr = 27:dx:42\n",
    "latr = 40:dy:47\n",
    "depthr = [\n",
    "    0.0,\n",
    "    5.0,\n",
    "    10,\n",
    "    15.0,\n",
    "    20,\n",
    "    25.0,\n",
    "    30,\n",
    "    40,\n",
    "    50,\n",
    "    60,\n",
    "    75,\n",
    "    85,\n",
    "    100,\n",
    "    125,\n",
    "    150,\n",
    "    200,\n",
    "    250,\n",
    "    300,\n",
    "    400,\n",
    "    500,\n",
    "    600,\n",
    "    700,\n",
    "    800,\n",
    "    900,\n",
    "    1000,\n",
    "    1100,\n",
    "    1200,\n",
    "    1300,\n",
    "    1400,\n",
    "    1500,\n",
    "    1750,\n",
    "    2000,\n",
    "];\n",
    "\n",
    "sz = (length(lonr), length(latr), length(depthr))"
   ]
  },
  {
   "cell_type": "code",
   "execution_count": null,
   "metadata": {},
   "outputs": [],
   "source": [
    "# correlation length in meters (in x, y, and z directions)\n",
    "epsilon2 = 1\n",
    "lenx = [2.5 + depthr[k] / 1000 for i = 1:sz[1], j = 1:sz[2], k = 1:sz[3]]\n",
    "leny = [1.5 + depthr[k] / 1000 for i = 1:sz[1], j = 1:sz[2], k = 1:sz[3]]\n",
    "lenz = [\n",
    "    5 + (depthr[min(k + 1, sz[3])] - depthr[max(1, k - 1)]) for i = 1:sz[1],\n",
    "    j = 1:sz[2], k = 1:sz[3]\n",
    "]\n",
    "\n",
    "mask, (pm, pn, po), (xi, yi, zi) = DIVAnd.DIVAnd_rectdom(lonr, latr, depthr)\n",
    "bx, by, b = DIVAnd.load_bath(bathname, true, lonr, latr)\n",
    "mask = falses(size(b, 1), size(b, 2), size(depthr, 1))\n",
    "\n",
    "\n",
    "for j = 1:size(b, 2)\n",
    "    for i = 1:size(b, 1)\n",
    "        for k = 1:size(depthr, 1)\n",
    "            mask[i, j, k] = b[i, j] >= zi[i, j, k]\n",
    "        end\n",
    "    end\n",
    "end"
   ]
  },
  {
   "cell_type": "markdown",
   "metadata": {},
   "source": [
    "Look at topology"
   ]
  },
  {
   "cell_type": "code",
   "execution_count": null,
   "metadata": {},
   "outputs": [],
   "source": [
    "plot_mask(bx, by, mask[:, :, end], xticks = 24.0:3.0:45, yticks = 40:1.0:47.0)"
   ]
  },
  {
   "cell_type": "markdown",
   "metadata": {},
   "source": [
    "Take out Marmara and Azov sea"
   ]
  },
  {
   "cell_type": "code",
   "execution_count": null,
   "metadata": {},
   "outputs": [],
   "source": [
    "sel1 = (xi .> 34.75) .& (yi .> 45.10)\n",
    "mask[sel1] .= false\n",
    "sel1 = (xi .< 29.5) .& (yi .< 41.125)\n",
    "mask[sel1] .= false\n",
    "\n",
    "plot_mask(bx, by, mask[:, :, 1], depth = 0)"
   ]
  },
  {
   "cell_type": "markdown",
   "metadata": {},
   "source": [
    "## Load data"
   ]
  },
  {
   "cell_type": "code",
   "execution_count": null,
   "metadata": {},
   "outputs": [],
   "source": [
    "datafile = salinitybigfile\n",
    "download_check(salinitybigfile, salinitybigfileURL)\n",
    "value, lon, lat, depth, timeval, ids = DIVAnd.loadbigfile(datafile)\n",
    "@show size(value)"
   ]
  },
  {
   "cell_type": "code",
   "execution_count": null,
   "metadata": {},
   "outputs": [],
   "source": [
    "deepestdata = 5500.0\n",
    "lowestdata = 14.0\n",
    "highestdata = 25.0"
   ]
  },
  {
   "cell_type": "markdown",
   "metadata": {},
   "source": [
    "### Subset data \n",
    "Taking out Marmara and Azov sea"
   ]
  },
  {
   "cell_type": "code",
   "execution_count": null,
   "metadata": {},
   "outputs": [],
   "source": [
    "sel =\n",
    "    (value .> lowestdata) .&\n",
    "    (value .< highestdata) .&\n",
    "    .~((lon .> 34.75) .& (lat .> 45.10)) .&\n",
    "    .~((lon .< 29.5) .& (lat .< 41.125)) .&\n",
    "    (depth .< deepestdata) .&\n",
    "    (timeval .> DateTime(Date(1950)))\n",
    "\n",
    "fig = Figure(size = (900, 400))\n",
    "ax1 = GeoAxis(\n",
    "    fig[1, 1],\n",
    "    dest = \"+proj=merc\",\n",
    "    xticks = 27.0:3.0:42.0,\n",
    "    yticks = 40.0:2.0:48.0,\n",
    "    title = \"Original salinity dataset\",\n",
    ")\n",
    "heatmap!(ax1, bx, by, mask[:, :, 1], colormap = Reverse(:binary))\n",
    "sc1 = scatter!(\n",
    "    ax1,\n",
    "    lon,\n",
    "    lat,\n",
    "    color = value,\n",
    "    markersize = 2,\n",
    "    colorrange = [lowestdata, highestdata],\n",
    "    colormap = cmapS,\n",
    ")\n",
    "Colorbar(fig[2, 1], sc1, vertical = false)\n",
    "\n",
    "# Perform subsetting\n",
    "value = value[sel]\n",
    "lon = lon[sel]\n",
    "lat = lat[sel]\n",
    "depth = depth[sel]\n",
    "timeval = timeval[sel]\n",
    "ids = ids[sel]\n",
    "\n",
    "@show(size(value))\n",
    "ax2 = GeoAxis(\n",
    "    fig[1, 2],\n",
    "    dest = \"+proj=merc\",\n",
    "    xticks = 27.0:3.0:42.0,\n",
    "    yticks = 40.0:2.0:48.0,\n",
    "    title = \"With data subsetting\",\n",
    ")\n",
    "heatmap!(ax2, bx, by, mask[:, :, 1], colormap = Reverse(:binary))\n",
    "sc2 = scatter!(\n",
    "    ax2,\n",
    "    lon,\n",
    "    lat,\n",
    "    color = value,\n",
    "    markersize = 2,\n",
    "    colorrange = [lowestdata, highestdata],\n",
    "    colormap = cmapS,\n",
    ")\n",
    "Colorbar(fig[2, 2], sc2, vertical = false)\n",
    "display(fig)"
   ]
  },
  {
   "cell_type": "markdown",
   "metadata": {},
   "source": [
    "### Observational error variance inflation factor"
   ]
  },
  {
   "cell_type": "code",
   "execution_count": null,
   "metadata": {},
   "outputs": [],
   "source": [
    "rdiag = 1.0 ./ DIVAnd.weight_RtimesOne((lon, lat, depth), (0.03, 0.03, 10));\n",
    "@show (mean(rdiag));"
   ]
  },
  {
   "cell_type": "markdown",
   "metadata": {},
   "source": [
    "### Useful functions to define new coordinates"
   ]
  },
  {
   "cell_type": "code",
   "execution_count": null,
   "metadata": {},
   "outputs": [],
   "source": [
    "function dayinyear(x)\n",
    "    return Dates.value(Date(x) - Date(Dates.year(x)))\n",
    "end\n",
    "function daysince1900(x)\n",
    "    return Dates.value(Date(x) - Date(Dates.year(DateTime(1900))))\n",
    "end"
   ]
  },
  {
   "cell_type": "markdown",
   "metadata": {},
   "source": [
    "### Prepare a new analysis space:\n",
    "- depth, \n",
    "- day-in-a-year, \n",
    "- time-in-days-from-1900"
   ]
  },
  {
   "cell_type": "code",
   "execution_count": null,
   "metadata": {},
   "outputs": [],
   "source": [
    "coordinatesfordetrending = (depth, dayinyear.(timeval), daysince1900.(timeval));\n",
    "tmin, tmax = extrema(daysince1900.(timeval))\n",
    "maskt, (pmt, pnt, pot), (xit, yit, zit) =\n",
    "    DIVAnd.DIVAnd_rectdom(depthr, 0:10:365, tmin:150:tmax);"
   ]
  },
  {
   "cell_type": "code",
   "execution_count": null,
   "metadata": {},
   "outputs": [],
   "source": [
    "sz = size(maskt)\n",
    "lent3 = [15000 + 10 * depthr[i] for i = 1:sz[1], j = 1:sz[2], k = 1:sz[3]]\n",
    "lent2 = [150 + depthr[i] / 20 for i = 1:sz[1], j = 1:sz[2], k = 1:sz[3]]\n",
    "lent1 = [\n",
    "    5 + (depthr[min(i + 1, sz[1])] - depthr[max(1, i - 1)]) for i = 1:sz[1],\n",
    "    j = 1:sz[2], k = 1:sz[3]\n",
    "];"
   ]
  },
  {
   "cell_type": "markdown",
   "metadata": {},
   "source": [
    "Two user functions defining the two scales:\n",
    "1. For the trend analysis, \n",
    "2. for the normal analysis."
   ]
  },
  {
   "cell_type": "code",
   "execution_count": null,
   "metadata": {},
   "outputs": [],
   "source": [
    "function H1K1(data)\n",
    "    K1d, s = DIVAnd.DIVAndrun(\n",
    "        maskt,\n",
    "        (pmt, pnt, pot),\n",
    "        (xit, yit, zit),\n",
    "        coordinatesfordetrending,\n",
    "        data,\n",
    "        (lent1, lent2, lent3),\n",
    "        epsilon2 * rdiag;\n",
    "        moddim = [0, 365, 0],\n",
    "    )\n",
    "    #K1d,s=DIVAndrun(mask[1],pm[1],xi[1],x,data,len[1],epsilon2)    \n",
    "    return K1d, data .- DIVAnd_residual(s, K1d)\n",
    "end\n",
    "function H2K2(data)\n",
    "    K2d, s = DIVAnd.DIVAndrun(\n",
    "        mask,\n",
    "        (pm, pn, po),\n",
    "        (xi, yi, zi),\n",
    "        (lon, lat, depth),\n",
    "        data,\n",
    "        (lenx, leny, lenz),\n",
    "        epsilon2 * rdiag,\n",
    "    )\n",
    "    #K1d,s=DIVAndrun(mask[1],pm[1],xi[1],x,data,len[1],epsilon2)    \n",
    "    return K2d, data .- DIVAnd_residual(s, K2d)\n",
    "end"
   ]
  },
  {
   "cell_type": "markdown",
   "metadata": {},
   "source": [
    "Simple analysis for the trend space"
   ]
  },
  {
   "cell_type": "code",
   "execution_count": null,
   "metadata": {},
   "outputs": [],
   "source": [
    "fdet, bidon = H1K1(value .- mean(value));"
   ]
  },
  {
   "cell_type": "code",
   "execution_count": null,
   "metadata": {},
   "outputs": [],
   "source": [
    "fig = Figure(size = (900, 400))\n",
    "ax = Axis(fig[1, 1])\n",
    "hm = heatmap!(ax, yit[1, :, 1], zit[1, 1, :], mean(value) .+ fdet[1, :, :])\n",
    "Colorbar(fig[1, 2], hm)\n",
    "ax = Axis(fig[1, 3])\n",
    "sc = scatter!(\n",
    "    ax,\n",
    "    coordinatesfordetrending[2],\n",
    "    coordinatesfordetrending[3],\n",
    "    markersize = 2,\n",
    "    color = value,\n",
    "    colorrange = (17.0, 18.4),\n",
    "    colormap = cmapS,\n",
    ")\n",
    "Colorbar(fig[1, 4], sc)\n",
    "# colsize!(fig.layout, 1, Aspect(1, 0.65))\n",
    "fig"
   ]
  },
  {
   "cell_type": "markdown",
   "metadata": {},
   "source": [
    "Simple surface analysis"
   ]
  },
  {
   "cell_type": "code",
   "execution_count": null,
   "metadata": {},
   "outputs": [],
   "source": [
    "fsur, bidon = H2K2(value .- mean(value))\n",
    "fsurori = fsur;"
   ]
  },
  {
   "cell_type": "code",
   "execution_count": null,
   "metadata": {},
   "outputs": [],
   "source": [
    "fig = Figure(size = (900, 400))\n",
    "ga1 =\n",
    "    GeoAxis(fig[1, 1], dest = \"+proj=merc\", xticks = 27.0:3.0:42.0, yticks = 40.0:2.0:48.0)\n",
    "heatmap!(ga1, bx, by, mask[:, :, 1], colormap = Reverse(:binary))\n",
    "hm = heatmap!(ga1, xi[:, 1, 1], yi[1, :, 1], mean(value) .+ fsur[:, :, 1], colormap = cmapS)\n",
    "xlims!(ga1, bx[1], bx[end])\n",
    "ylims!(ga1, by[1], by[end])\n",
    "\n",
    "Colorbar(fig[2, 1], hm, vertical = false)\n",
    "ga2 = GeoAxis(fig[1, 2], dest = \"+proj=merc\")\n",
    "heatmap!(ga2, bx, by, mask[:, :, 1], colormap = Reverse(:binary))\n",
    "sc = scatter!(\n",
    "    ga2,\n",
    "    lon,\n",
    "    lat,\n",
    "    markersize = 2,\n",
    "    color = value,\n",
    "    colorrange = (17.0, 18.4),\n",
    "    colormap = cmapS,\n",
    ")\n",
    "xlims!(ga2, bx[1], bx[end])\n",
    "ylims!(ga2, by[1], by[end])\n",
    "Colorbar(fig[2, 2], sc, vertical = false)\n",
    "# colsize!(fig.layout, 1, Aspect(1, 0.65))\n",
    "fig"
   ]
  },
  {
   "cell_type": "markdown",
   "metadata": {},
   "source": [
    "## Now detrending via scale separation"
   ]
  },
  {
   "cell_type": "code",
   "execution_count": null,
   "metadata": {},
   "outputs": [],
   "source": [
    "# ?scaleseparation"
   ]
  },
  {
   "cell_type": "code",
   "execution_count": null,
   "metadata": {},
   "outputs": [],
   "source": [
    "fdet, dd1, fsur, dd2 = scaleseparation(H1K1, H2K2, value .- mean(value); niter = 3);"
   ]
  },
  {
   "cell_type": "code",
   "execution_count": null,
   "metadata": {},
   "outputs": [],
   "source": [
    "fig = Figure(size = (900, 400))\n",
    "ax = Axis(fig[1, 1])\n",
    "hm = heatmap!(ax, yit[1, :, 1], zit[1, 1, :], mean(value) .+ fdet[1, :, :])\n",
    "Colorbar(fig[1, 2], hm)\n",
    "ax = Axis(fig[1, 3])\n",
    "sc = scatter!(\n",
    "    ax,\n",
    "    coordinatesfordetrending[2],\n",
    "    coordinatesfordetrending[3],\n",
    "    markersize = 2,\n",
    "    color = value,\n",
    "    colorrange = (17.0, 18.4),\n",
    "    colormap = cmapS,\n",
    ")\n",
    "Colorbar(fig[1, 4], sc)\n",
    "fig"
   ]
  },
  {
   "cell_type": "code",
   "execution_count": null,
   "metadata": {},
   "outputs": [],
   "source": [
    "fig = Figure()\n",
    "ga1 = GeoAxis(\n",
    "    fig[1, 1],\n",
    "    dest = \"+proj=merc\",\n",
    "    title = \"Salinity analysis\",\n",
    "    xticks = 27.0:3.0:42.0,\n",
    "    yticks = 40.0:2.0:48.0,\n",
    ")\n",
    "heatmap!(ga1, bx, by, mask[:, :, 1], colormap = Reverse(:binary))\n",
    "hm = heatmap!(ga1, xi[:, 1, 1], yi[1, :, 1], mean(value) .+ fsur[:, :, 1], colormap = cmapS)\n",
    "Colorbar(fig[2, 1], hm, vertical = false)\n",
    "xlims!(ga1, bx[1], bx[end])\n",
    "ylims!(ga1, by[1], by[end])\n",
    "fig"
   ]
  },
  {
   "cell_type": "code",
   "execution_count": null,
   "metadata": {},
   "outputs": [],
   "source": [
    "fig = Figure()\n",
    "ga1 = GeoAxis(\n",
    "    fig[1, 1],\n",
    "    dest = \"+proj=merc\",\n",
    "    title = \"Direct analysis minus detrended analysis\",\n",
    "    xticks = 27.0:3.0:42.0,\n",
    "    yticks = 40.0:2.0:48.0,\n",
    ")\n",
    "heatmap!(ga1, bx, by, mask[:, :, 1], colormap = Reverse(:binary))\n",
    "hm = heatmap!(\n",
    "    ga1,\n",
    "    xi[:, 1, 1],\n",
    "    yi[1, :, 1],\n",
    "    fsurori[:, :, 1] - fsur[:, :, 1],\n",
    "    colormap = Reverse(:RdBu),\n",
    ")\n",
    "Colorbar(fig[2, 1], hm, vertical = false)\n",
    "xlims!(ga1, bx[1], bx[end])\n",
    "ylims!(ga1, by[1], by[end])\n",
    "fig"
   ]
  },
  {
   "cell_type": "code",
   "execution_count": null,
   "metadata": {},
   "outputs": [],
   "source": [
    "plot((fdet[1, 10, :]))"
   ]
  },
  {
   "cell_type": "code",
   "execution_count": null,
   "metadata": {},
   "outputs": [],
   "source": [
    "fsurs = deepcopy(fsur) .+ mean(value);"
   ]
  },
  {
   "cell_type": "code",
   "execution_count": null,
   "metadata": {},
   "outputs": [],
   "source": [
    "latindex = 30\n",
    "fig = Figure()\n",
    "ax = Axis(\n",
    "    fig[1, 1],\n",
    "    title = \"Salinity section at $(latr[latindex])°N\",\n",
    "    ylabel = \"Depth (m)\",\n",
    "    xlabel = \"Longitude (°E)\",\n",
    ")\n",
    "hm = heatmap!(\n",
    "    ax,\n",
    "    xi[:, latindex, 1],\n",
    "    -zi[1, latindex, 1:15],\n",
    "    fsurs[:, latindex, 1:15],\n",
    "    colormap = cmapS,\n",
    ")\n",
    "Colorbar(fig[1, 2], hm)\n",
    "fig"
   ]
  },
  {
   "cell_type": "markdown",
   "metadata": {
    "collapsed": true
   },
   "source": [
    "## Now temperature\n"
   ]
  },
  {
   "cell_type": "code",
   "execution_count": null,
   "metadata": {},
   "outputs": [],
   "source": [
    "value, lon, lat, depth, timeval, ids =\n",
    "    DIVAnd.loadbigfile(joinpath(datadir, \"Temperature.bigfile.interp\"));"
   ]
  },
  {
   "cell_type": "code",
   "execution_count": null,
   "metadata": {},
   "outputs": [],
   "source": [
    "# value,lon,lat,depth,timeval,ids = DIVAnd.loadbigfile(\"Temperature.bigfile\")\n",
    "@show size(value)\n",
    "\n",
    "lowestdata = 4\n",
    "highestdata = 27\n",
    "\n",
    "sel =\n",
    "    (value .> lowestdata) .&\n",
    "    (value .< highestdata) .&\n",
    "    .~((lon .> 34.75) .& (lat .> 45.10)) .&\n",
    "    .~((lon .< 29.5) .& (lat .< 41.125)) .&\n",
    "    (depth .< deepestdata) .&\n",
    "    (timeval .> DateTime(Date(1950)))\n",
    "\n",
    "\n",
    "fig = Figure(size = (900, 400))\n",
    "ax1 = Axis(fig[1, 1], title = \"Original temperature dataset\")\n",
    "heatmap!(ax1, bx, by, mask[:, :, 1], colormap = Reverse(:binary))\n",
    "sc1 = scatter!(\n",
    "    ax1,\n",
    "    lon,\n",
    "    lat,\n",
    "    color = value,\n",
    "    markersize = 2,\n",
    "    colorrange = [lowestdata, highestdata],\n",
    "    colormap = cmapT,\n",
    ")\n",
    "xlims!(ax1, bx[1], bx[end])\n",
    "ylims!(ax1, by[1], by[end])\n",
    "Colorbar(fig[2, 1], sc1, vertical = false, label = \"°C\")\n",
    "\n",
    "# Perform subsetting\n",
    "value = value[sel]\n",
    "lon = lon[sel]\n",
    "lat = lat[sel]\n",
    "depth = depth[sel]\n",
    "timeval = timeval[sel]\n",
    "ids = ids[sel]\n",
    "\n",
    "@show(size(value))\n",
    "\n",
    "ax2 = Axis(fig[1, 2], title = \"With data subsetting\")\n",
    "heatmap!(ax2, bx, by, mask[:, :, 1], colormap = Reverse(:binary))\n",
    "sc2 = scatter!(\n",
    "    ax2,\n",
    "    lon,\n",
    "    lat,\n",
    "    color = value,\n",
    "    markersize = 2,\n",
    "    colorrange = [lowestdata, highestdata],\n",
    "    colormap = cmapT,\n",
    ")\n",
    "xlims!(ax2, bx[1], bx[end])\n",
    "ylims!(ax2, by[1], by[end])\n",
    "Colorbar(fig[2, 2], sc2, vertical = false, label = \"°C\")\n",
    "display(fig)"
   ]
  },
  {
   "cell_type": "code",
   "execution_count": null,
   "metadata": {},
   "outputs": [],
   "source": [
    "coordinatesfordetrending = (depth, dayinyear.(timeval), daysince1900.(timeval));\n",
    "#tmin,tmax=extrema(daysince1900.(timeval))\n",
    "maskt, (pmt, pnt, pot), (xit, yit, zit) =\n",
    "    DIVAnd.DIVAnd_rectdom(depthr, 0:10:365, tmin:150:tmax);"
   ]
  },
  {
   "cell_type": "code",
   "execution_count": null,
   "metadata": {},
   "outputs": [],
   "source": [
    "function H1K1t(data)\n",
    "    K1d, s = DIVAnd.DIVAndrun(\n",
    "        maskt,\n",
    "        (pmt, pnt, pot),\n",
    "        (xit, yit, zit),\n",
    "        coordinatesfordetrending,\n",
    "        data,\n",
    "        (lent1, lent2, lent3),\n",
    "        epsilon2 * rdiag;\n",
    "        moddim = [0, 365, 0],\n",
    "    )\n",
    "    #K1d,s=DIVAndrun(mask[1],pm[1],xi[1],x,data,len[1],epsilon2)    \n",
    "    return K1d, data - DIVAnd_residual(s, K1d)\n",
    "end\n",
    "function H2K2t(data)\n",
    "    K2d, s = DIVAnd.DIVAndrun(\n",
    "        mask,\n",
    "        (pm, pn, po),\n",
    "        (xi, yi, zi),\n",
    "        (lon, lat, depth),\n",
    "        data,\n",
    "        (lenx, leny, lenz),\n",
    "        epsilon2 * rdiag,\n",
    "    )\n",
    "    #K1d,s=DIVAndrun(mask[1],pm[1],xi[1],x,data,len[1],epsilon2)    \n",
    "    return K2d, data - DIVAnd_residual(s, K2d)\n",
    "end"
   ]
  },
  {
   "cell_type": "code",
   "execution_count": null,
   "metadata": {},
   "outputs": [],
   "source": [
    "rdiag = 1.0 ./ DIVAnd.weight_RtimesOne((lon, lat, depth), (0.03, 0.03, 10));\n",
    "mean(rdiag)"
   ]
  },
  {
   "cell_type": "code",
   "execution_count": null,
   "metadata": {},
   "outputs": [],
   "source": [
    "fdet, bidon = H1K1t(value .- mean(value));\n",
    "\n",
    "fig = Figure(size = (900, 400))\n",
    "ax = Axis(fig[1, 1])\n",
    "hm = heatmap!(ax, yit[1, :, 1], zit[1, 1, :], mean(value) .+ fdet[1, :, :])\n",
    "Colorbar(fig[1, 2], hm, label = \"°C\")\n",
    "ax = Axis(fig[1, 3])\n",
    "sc = scatter!(\n",
    "    ax,\n",
    "    coordinatesfordetrending[2],\n",
    "    coordinatesfordetrending[3],\n",
    "    markersize = 2,\n",
    "    color = value,\n",
    "    colorrange = (6.0, 22.0),\n",
    "    colormap = cmapT,\n",
    ")\n",
    "Colorbar(fig[1, 4], sc, label = \"°C\")\n",
    "# colsize!(fig.layout, 1, Aspect(1, 0.65))\n",
    "fig"
   ]
  },
  {
   "cell_type": "code",
   "execution_count": null,
   "metadata": {},
   "outputs": [],
   "source": [
    "fsur, bidon = H2K2t(value .- mean(value))\n",
    "fsurori = fsur;"
   ]
  },
  {
   "cell_type": "code",
   "execution_count": null,
   "metadata": {},
   "outputs": [],
   "source": [
    "fig = Figure(size = (900, 400))\n",
    "ga1 = GeoAxis(\n",
    "    fig[1, 1],\n",
    "    dest = \"+proj=merc\",\n",
    "    title = \"Temperature analysis\",\n",
    "    xticks = 27.0:3.0:42.0,\n",
    "    yticks = 40.0:2.0:48.0,\n",
    ")\n",
    "heatmap!(ga1, bx, by, mask[:, :, 1], colormap = Reverse(:binary))\n",
    "hm = heatmap!(\n",
    "    ga1,\n",
    "    xi[:, 1, 1],\n",
    "    yi[1, :, 1],\n",
    "    mean(value) .+ fsur[:, :, 1],\n",
    "    colormap = cmapT,\n",
    "    colorrange = [12.0, 22.0],\n",
    ")\n",
    "Colorbar(fig[2, 1], hm, vertical = false, label = \"°C\")\n",
    "xlims!(ga1, bx[1], bx[end])\n",
    "ylims!(ga1, by[1], by[end])\n",
    "\n",
    "ga2 = GeoAxis(\n",
    "    fig[1, 2],\n",
    "    dest = \"+proj=merc\",\n",
    "    title = \"Observations\",\n",
    "    xticks = 27.0:3.0:42.0,\n",
    "    yticks = 40.0:2.0:48.0,\n",
    ")\n",
    "heatmap!(ga2, bx, by, mask[:, :, 1], colormap = Reverse(:binary))\n",
    "sc = scatter!(\n",
    "    ga2,\n",
    "    lon,\n",
    "    lat,\n",
    "    markersize = 2,\n",
    "    color = value,\n",
    "    colorrange = [6.0, 22.0],\n",
    "    colormap = cmapT,\n",
    ");\n",
    "Colorbar(fig[2, 2], sc, vertical = false, label = \"°C\")\n",
    "xlims!(ga2, bx[1], bx[end])\n",
    "ylims!(ga2, by[1], by[end])\n",
    "\n",
    "fig"
   ]
  },
  {
   "cell_type": "code",
   "execution_count": null,
   "metadata": {},
   "outputs": [],
   "source": [
    "fdett, dd1, fsurt, dd2 = scaleseparation(H1K1t, H2K2t, value .- mean(value); niter = 3);"
   ]
  },
  {
   "cell_type": "code",
   "execution_count": null,
   "metadata": {},
   "outputs": [],
   "source": [
    "fsurt = fsurt .+ mean(value);"
   ]
  },
  {
   "cell_type": "code",
   "execution_count": null,
   "metadata": {},
   "outputs": [],
   "source": [
    "fig = Figure()\n",
    "ga1 = GeoAxis(\n",
    "    fig[1, 1],\n",
    "    dest = \"+proj=merc\",\n",
    "    title = \"Temperature analysis\",\n",
    "    xticks = 27.0:3.0:42.0,\n",
    "    yticks = 40.0:2.0:48.0,\n",
    ")\n",
    "heatmap!(ga1, bx, by, mask[:, :, 1], colormap = Reverse(:binary))\n",
    "hm = heatmap!(ga1, xi[:, 1, 1], yi[1, :, 1], fsurt[:, :, 1], colormap = cmapT)\n",
    "Colorbar(fig[2, 1], hm, vertical = false, label = \"°C\")\n",
    "xlims!(ga1, bx[1], bx[end])\n",
    "ylims!(ga1, by[1], by[end])\n",
    "fig"
   ]
  },
  {
   "cell_type": "code",
   "execution_count": null,
   "metadata": {},
   "outputs": [],
   "source": [
    "lonindex = 80\n",
    "fig = Figure()\n",
    "ax = Axis(fig[1, 1], title = \"Temperature section at $(lonr[lonindex])°N\")\n",
    "hm = heatmap!(\n",
    "    ax,\n",
    "    yi[lonindex, :, 1],\n",
    "    -zi[lonindex, 1, 1:15],\n",
    "    fsurt[lonindex, :, 1:15],\n",
    "    colormap = cmapT,\n",
    ")\n",
    "Colorbar(fig[1, 2], hm, label = \"°C\")\n",
    "fig"
   ]
  },
  {
   "cell_type": "markdown",
   "metadata": {},
   "source": [
    "## Geostrophic calculation using level of no motion"
   ]
  },
  {
   "cell_type": "code",
   "execution_count": null,
   "metadata": {},
   "outputs": [],
   "source": [
    "FN = zeros(size(depthr)[1])\n",
    "dens = PhysOcean.density.(fsurs, fsurt, 0) .- 1025.0\n",
    "\n",
    "for iz = 1:size(depthr)[1]\n",
    "    velocities, eta, Vflux =\n",
    "        geostrophy(mask, dens, (pm, pn, po), (xi, yi, zi); znomotion = iz)\n",
    "    eta = eta .- mean(eta)\n",
    "    FN[iz] = mean(Vflux[1] .^ 2) .+ mean(Vflux[2] .^ 2)\n",
    "end"
   ]
  },
  {
   "cell_type": "code",
   "execution_count": null,
   "metadata": {},
   "outputs": [],
   "source": [
    "fig = Figure()\n",
    "ax = Axis(fig[1, 1], title = \"Barotropic budget for different levels of no motion\")\n",
    "lines!(ax, FN)\n",
    "fig"
   ]
  },
  {
   "cell_type": "markdown",
   "metadata": {},
   "source": [
    "### Just an arbitrary level, to be corrected later"
   ]
  },
  {
   "cell_type": "code",
   "execution_count": null,
   "metadata": {},
   "outputs": [],
   "source": [
    "minimum(FN), findmin(FN)[2]"
   ]
  },
  {
   "cell_type": "code",
   "execution_count": null,
   "metadata": {},
   "outputs": [],
   "source": [
    "iz = findmin(FN)[2]\n",
    "@show iz\n",
    "iz = 15\n",
    "velocities, eta, Vflux = geostrophy(mask, dens, (pm, pn, po), (xi, yi, zi); znomotion = iz);\n",
    "eta = eta .- mean(eta);\n",
    "eta = DIVAnd_filter3(eta, NaN, 10)\n",
    "velocities, eta, Vflux = geostrophy(mask, dens, (pm, pn, po), (xi, yi, zi); ssh = eta);"
   ]
  },
  {
   "cell_type": "code",
   "execution_count": null,
   "metadata": {},
   "outputs": [],
   "source": [
    "fig = Figure()\n",
    "ga = GeoAxis(\n",
    "    fig[1, 1],\n",
    "    dest = \"+proj=merc\",\n",
    "    title = \"Sea level anomalies\",\n",
    "    xticks = 27.0:3.0:42.0,\n",
    "    yticks = 40.0:2.0:48.0,\n",
    ")\n",
    "cont = contourf!(\n",
    "    ga,\n",
    "    xi[:, 1, 1],\n",
    "    yi[1, :, 1],\n",
    "    eta .+ 0 * fsurt[:, :, 1],\n",
    "    levels = 20,\n",
    "    colormap = cmapT,\n",
    ")\n",
    "Colorbar(fig[2, 1], cont, vertical = false, label = \"(m)\")\n",
    "fig"
   ]
  },
  {
   "cell_type": "markdown",
   "metadata": {},
   "source": [
    "Geostrophic calculation with level of not motion provides non-zero global fluxes:"
   ]
  },
  {
   "cell_type": "code",
   "execution_count": null,
   "metadata": {},
   "outputs": [],
   "source": [
    "mean(Vflux[1] .^ 2) + mean(Vflux[2] .^ 2)"
   ]
  },
  {
   "cell_type": "markdown",
   "metadata": {},
   "source": [
    "Try the correction term "
   ]
  },
  {
   "cell_type": "code",
   "execution_count": null,
   "metadata": {},
   "outputs": [],
   "source": [
    "x = rand(1);\n",
    "y = rand(1);\n",
    "f = x\n",
    "\n",
    "h = deepestpoint(mask, zi)\n",
    "len = 1\n",
    "epsilon2 = 10000\n",
    "rfluxes = 0.000001\n",
    "\n",
    "# Need to scale fluxes by f/g\n",
    "gsf = (earthgravity.(yi)./coriolisfrequency.(yi))[:, :, 1]\n",
    "fi, s = DIVAndrun(\n",
    "    mask[:, :, 1],\n",
    "    (pm[:, :, 1], pn[:, :, 1]),\n",
    "    (xi[:, :, 1], yi[:, :, 1]),\n",
    "    (x, y),\n",
    "    f,\n",
    "    len,\n",
    "    epsilon2;\n",
    "    topographyforfluxes = (gsf .* h, gsf .* h),\n",
    "    fluxes = Vflux,\n",
    "    epsfluxes = rfluxes,\n",
    "    alphabc = 1,\n",
    "    alpha = [1, 0, 1],\n",
    ");"
   ]
  },
  {
   "cell_type": "code",
   "execution_count": null,
   "metadata": {},
   "outputs": [],
   "source": [
    "fim = deepcopy(fi);\n",
    "fi[isnan.(fi)] .= 0.0;"
   ]
  },
  {
   "cell_type": "code",
   "execution_count": null,
   "metadata": {},
   "outputs": [],
   "source": [
    "velafter, etaafter, Vfluxafter =\n",
    "    geostrophy(mask, dens, (pm, pn, po), (xi, yi, zi); ssh = eta + fi);"
   ]
  },
  {
   "cell_type": "code",
   "execution_count": null,
   "metadata": {},
   "outputs": [],
   "source": [
    "fig = Figure()\n",
    "ga = GeoAxis(\n",
    "    fig[1, 1],\n",
    "    dest = \"+proj=merc\",\n",
    "    title = \"Sea-level anomalies afterr correctio \",\n",
    "    xticks = 27.0:3.0:42.0,\n",
    "    yticks = 40.0:2.0:48.0,\n",
    ")\n",
    "cont = contourf!(\n",
    "    ga,\n",
    "    xi[:, 1, 1],\n",
    "    yi[1, :, 1],\n",
    "    etaafter + 0 * fim,\n",
    "    levels = 20,\n",
    "    colormap = cmapT,\n",
    ")\n",
    "Colorbar(fig[2, 1], cont, vertical = false)\n",
    "fig"
   ]
  },
  {
   "cell_type": "markdown",
   "metadata": {},
   "source": [
    "Now much lower global fluxes"
   ]
  },
  {
   "cell_type": "code",
   "execution_count": null,
   "metadata": {},
   "outputs": [],
   "source": [
    "mean(Vfluxafter[1] .^ 2) + mean(Vfluxafter[2] .^ 2)"
   ]
  },
  {
   "cell_type": "code",
   "execution_count": null,
   "metadata": {},
   "outputs": [],
   "source": [
    "ind = 20\n",
    "fig = Figure()\n",
    "ax = Axis(\n",
    "    fig[1, 1],\n",
    "    title = \"Temperature section at $(xi[ind])°E\",\n",
    "    ylabel = \"Depth (m)\",\n",
    "    xlabel = \"Latitude (°N)\",\n",
    ")\n",
    "hm = heatmap!(ax, yi[ind, :, 1], -zi[ind, 1, 1:15], fsurt[ind, :, 1:15], colormap = cmapT)\n",
    "Colorbar(fig[1, 2], hm, label = \"°C\")\n",
    "fig"
   ]
  }
 ],
 "metadata": {
  "anaconda-cloud": {},
  "kernelspec": {
   "display_name": "Julia 1.11.2",
   "language": "julia",
   "name": "julia-1.11"
  },
  "language_info": {
   "file_extension": ".jl",
   "mimetype": "application/julia",
   "name": "julia",
   "version": "1.11.2"
  },
  "toc": {
   "base_numbering": 1,
   "nav_menu": {},
   "number_sections": true,
   "sideBar": true,
   "skip_h1_title": false,
   "title_cell": "Table of Contents",
   "title_sidebar": "Contents",
   "toc_cell": false,
   "toc_position": {},
   "toc_section_display": true,
   "toc_window_display": false
  }
 },
 "nbformat": 4,
 "nbformat_minor": 1
}
