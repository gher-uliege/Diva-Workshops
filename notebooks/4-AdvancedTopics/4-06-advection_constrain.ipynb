{
 "cells": [
  {
   "cell_type": "markdown",
   "metadata": {},
   "source": [
    "# Advection constrain\n",
    "<div class=\"alert alert-block alert-info\">\n",
    "ℹ️ This notebook describes the use of an advection constrain in the gridding.<br>\n",
    "This constrains allows one to take into account a velocity field. \n",
    "</div>"
   ]
  },
  {
   "cell_type": "code",
   "execution_count": null,
   "metadata": {},
   "outputs": [],
   "source": [
    "import Pkg\n",
    "Pkg.activate(\"../..\")\n",
    "Pkg.instantiate()\n",
    "using DIVAnd\n",
    "using Makie, CairoMakie, GeoMakie\n",
    "using Statistics\n",
    "include(\"../config.jl\")"
   ]
  },
  {
   "cell_type": "markdown",
   "metadata": {},
   "source": [
    "## Function to interpolate"
   ]
  },
  {
   "cell_type": "code",
   "execution_count": null,
   "metadata": {},
   "outputs": [],
   "source": [
    "fun(x, y) = sin.(6x) * cos.(6y)\n",
    "\n",
    "# observations\n",
    "x = rand(1);\n",
    "y = rand(1);\n",
    "f = fun.(x, y)\n",
    "\n",
    "# final grid\n",
    "xi, yi = ndgrid(range(0, stop = 100, length = 100), range(0, stop = 110, length = 110));\n",
    "\n",
    "# reference field\n",
    "fref = fun.(xi, yi);"
   ]
  },
  {
   "cell_type": "markdown",
   "metadata": {},
   "source": [
    "### Simple plot"
   ]
  },
  {
   "cell_type": "code",
   "execution_count": null,
   "metadata": {},
   "outputs": [],
   "source": [
    "fig = Figure(size = (500, 500))\n",
    "ax = Axis(fig[1, 1])\n",
    "heatmap!(ax, xi[:, 1], yi[1, :], fref)\n",
    "fig"
   ]
  },
  {
   "cell_type": "markdown",
   "metadata": {},
   "source": [
    "## Create mask"
   ]
  },
  {
   "cell_type": "code",
   "execution_count": null,
   "metadata": {},
   "outputs": [],
   "source": [
    "mask = trues(size(xi));\n",
    "\n",
    "# Add false along the edges\n",
    "mask[1, :] .= false;\n",
    "mask[end, :] .= false;\n",
    "mask[:, 1] .= false;\n",
    "mask[:, end] .= false;\n",
    "\n",
    "# island\n",
    "mask[30:80, 30:80] .= false;"
   ]
  },
  {
   "cell_type": "markdown",
   "metadata": {},
   "source": [
    "### Simple plot\n",
    "Note the `false` values along the borders."
   ]
  },
  {
   "cell_type": "code",
   "execution_count": null,
   "metadata": {},
   "outputs": [],
   "source": [
    "fig = Figure(size = (500, 500))\n",
    "ax = Axis(fig[1, 1])\n",
    "contourf!(ax, xi[:, 1], yi[1, :], mask, levels = [-0.5, 0.5])\n",
    "fig"
   ]
  },
  {
   "cell_type": "markdown",
   "metadata": {},
   "source": [
    "## Set metrics and analysis parameters"
   ]
  },
  {
   "cell_type": "code",
   "execution_count": null,
   "metadata": {},
   "outputs": [],
   "source": [
    "# Metrics\n",
    "pm = ones(size(xi)) / (xi[2, 1] - xi[1, 1]);\n",
    "pn = ones(size(xi)) / (yi[1, 2] - yi[1, 1]);\n",
    "\n",
    "# correlation length\n",
    "len = 10;\n",
    "\n",
    "# obs. error variance normalized by the background error variance\n",
    "epsilon2 = 10000000.0;"
   ]
  },
  {
   "cell_type": "markdown",
   "metadata": {},
   "source": [
    "## Advection along isobaths\n",
    "`h` is the artificial topography, it has the same size as the computation grid "
   ]
  },
  {
   "cell_type": "code",
   "execution_count": null,
   "metadata": {},
   "outputs": [],
   "source": [
    "h = xi .* (100 .- xi) .+ 20;\n",
    "@info(size(h))\n",
    "\n",
    "fig = Figure(size = (550, 500))\n",
    "ax = Axis(fig[1, 1])\n",
    "hm = heatmap!(ax, xi[:, 1], yi[1, :], h)\n",
    "Colorbar(fig[1, 2], hm)\n",
    "fig"
   ]
  },
  {
   "cell_type": "markdown",
   "metadata": {},
   "source": [
    "### Advection through velocity field\n",
    "We define the 2 components of the velocity field field.     \n",
    "`rfluxes` specifies the error variance on the constraint.    "
   ]
  },
  {
   "cell_type": "code",
   "execution_count": null,
   "metadata": {},
   "outputs": [],
   "source": [
    "fluxes1 = sin.(yi[1, :] ./ 10.0) + 0.1 * rand(size(h)[2])\n",
    "fluxes2 = sin.(xi[:, 1] ./ 10.0) + 0.1 * rand(size(h)[1])\n",
    "rfluxes = 1;"
   ]
  },
  {
   "cell_type": "code",
   "execution_count": null,
   "metadata": {},
   "outputs": [],
   "source": [
    "@info(size(fluxes1), size(fluxes2));"
   ]
  },
  {
   "cell_type": "markdown",
   "metadata": {},
   "source": [
    "## Analysis\n",
    "The first arguments of `DIVAndrun` are the same as a classical analysis.     \n",
    "Then we add:\n",
    "* `topographyforfluxes`: a tuple of 2 elements, one for each horizontal component, for the advection along isobath.\n",
    "* `fluxes`: a tuple of 2 elements storing the pseudo-velocity field.\n",
    "* `epsfluxes`: a scalar defining the error variance on the constraint.\n",
    "### Run with one component"
   ]
  },
  {
   "cell_type": "code",
   "execution_count": null,
   "metadata": {},
   "outputs": [],
   "source": [
    "@time fi, s = DIVAndrun(\n",
    "    mask,\n",
    "    (pm, pn),\n",
    "    (xi, yi),\n",
    "    (x, y),\n",
    "    f,\n",
    "    len,\n",
    "    epsilon2;\n",
    "    topographyforfluxes = (h, 0),\n",
    "    fluxes = (fluxes1, 0),\n",
    "    epsfluxes = rfluxes,\n",
    "    alphabc = 1,\n",
    "    alpha = [1, 0, 1],\n",
    ");"
   ]
  },
  {
   "cell_type": "markdown",
   "metadata": {},
   "source": [
    "#### Plot"
   ]
  },
  {
   "cell_type": "code",
   "execution_count": null,
   "metadata": {},
   "outputs": [],
   "source": [
    "fig = Figure(size = (550, 500))\n",
    "ax = Axis(fig[1, 1], title = \"Interpolated field with advection\")\n",
    "hm = heatmap!(ax, xi[:, 1], yi[1, :], fi)\n",
    "Colorbar(fig[1, 2], hm)\n",
    "fig"
   ]
  },
  {
   "cell_type": "markdown",
   "metadata": {},
   "source": [
    "### Run with the other component"
   ]
  },
  {
   "cell_type": "code",
   "execution_count": null,
   "metadata": {},
   "outputs": [],
   "source": [
    "fluxesafter = zeros(size(h)[2])\n",
    "\n",
    "for j = 1:size(h)[2]\n",
    "    for i = 2:size(h)[1]-2\n",
    "        if mask[i, j] && mask[i+1, j]\n",
    "            fluxesafter[j] = fluxesafter[j] + h[i, j] * (fi[i+1, j] - fi[i, j])\n",
    "        end\n",
    "    end\n",
    "end\n",
    "@show var(fluxes1 + fluxesafter)\n",
    "@show var(fluxes1)\n",
    "\n",
    "@time fi, s = DIVAndrun(\n",
    "    mask,\n",
    "    (pm, pn),\n",
    "    (xi, yi),\n",
    "    (x, y),\n",
    "    f,\n",
    "    len,\n",
    "    epsilon2;\n",
    "    topographyforfluxes = (0, h),\n",
    "    fluxes = (0, fluxes2),\n",
    "    epsfluxes = rfluxes,\n",
    "    alphabc = 1,\n",
    "    alpha = [1, 0, 1],\n",
    ");"
   ]
  },
  {
   "cell_type": "markdown",
   "metadata": {},
   "source": [
    "#### Plot"
   ]
  },
  {
   "cell_type": "code",
   "execution_count": null,
   "metadata": {},
   "outputs": [],
   "source": [
    "fig = Figure(size = (550, 500))\n",
    "ax = Axis(fig[1, 1], title = \"Interpolated field with advection\")\n",
    "hm = heatmap!(ax, xi[:, 1], yi[1, :], fi)\n",
    "Colorbar(fig[1, 2], hm)\n",
    "fig"
   ]
  },
  {
   "cell_type": "markdown",
   "metadata": {},
   "source": [
    "### Finally using both components"
   ]
  },
  {
   "cell_type": "code",
   "execution_count": null,
   "metadata": {},
   "outputs": [],
   "source": [
    "fluxesafter = zeros(size(h)[1])\n",
    "\n",
    "for i = 1:size(h)[1]\n",
    "    for j = 2:size(h)[2]-2\n",
    "        if mask[i, j] && mask[i, j+1]\n",
    "            fluxesafter[i] = fluxesafter[i] + h[i, j] * (fi[i, j+1] - fi[i, j])\n",
    "        end\n",
    "    end\n",
    "end\n",
    "\n",
    "@show var(fluxes2 + fluxesafter)\n",
    "@show var(fluxes2)\n",
    "\n",
    "# finally both directions\n",
    "@time fi, s = DIVAndrun(\n",
    "    mask,\n",
    "    (pm, pn),\n",
    "    (xi, yi),\n",
    "    (x, y),\n",
    "    f,\n",
    "    len,\n",
    "    epsilon2;\n",
    "    topographyforfluxes = (h, h),\n",
    "    fluxes = (fluxes1, fluxes2),\n",
    "    epsfluxes = rfluxes,\n",
    "    alphabc = 1,\n",
    "    alpha = [1, 0, 1],\n",
    ");"
   ]
  },
  {
   "cell_type": "code",
   "execution_count": null,
   "metadata": {},
   "outputs": [],
   "source": [
    "fig = Figure(size = (550, 500))\n",
    "ax = Axis(fig[1, 1], title = \"Interpolated field with advection\")\n",
    "hm = heatmap!(ax, xi[:, 1], yi[1, :], fi)\n",
    "Colorbar(fig[1, 2], hm)\n",
    "fig"
   ]
  },
  {
   "cell_type": "code",
   "execution_count": null,
   "metadata": {},
   "outputs": [],
   "source": [
    "fluxesafter = zeros(size(h)[2])\n",
    "\n",
    "for j = 1:size(h)[2]\n",
    "    for i = 2:size(h)[1]-2\n",
    "        if mask[i, j] && mask[i+1, j]\n",
    "            fluxesafter[j] = fluxesafter[j] + h[i, j] * (fi[i+1, j] - fi[i, j])\n",
    "        end\n",
    "    end\n",
    "end\n",
    "@show var(fluxes1 + fluxesafter)\n",
    "@show var(fluxes1)\n",
    "\n",
    "fluxesafter = zeros(size(h)[1])\n",
    "\n",
    "for i = 1:size(h)[1]\n",
    "    for j = 2:size(h)[2]-2\n",
    "        if mask[i, j] && mask[i, j+1]\n",
    "            fluxesafter[i] = fluxesafter[i] + h[i, j] * (fi[i, j+1] - fi[i, j])\n",
    "        end\n",
    "    end\n",
    "end\n",
    "\n",
    "@show var(fluxes2 + fluxesafter)\n",
    "@show var(fluxes2);"
   ]
  }
 ],
 "metadata": {
  "@webio": {
   "lastCommId": null,
   "lastKernelId": null
  },
  "kernelspec": {
   "display_name": "Julia 1.11.6",
   "language": "julia",
   "name": "julia-1.11"
  },
  "language_info": {
   "file_extension": ".jl",
   "mimetype": "application/julia",
   "name": "julia",
   "version": "1.11.6"
  },
  "toc": {
   "base_numbering": 1,
   "nav_menu": {},
   "number_sections": true,
   "sideBar": true,
   "skip_h1_title": false,
   "title_cell": "Table of Contents",
   "title_sidebar": "Contents",
   "toc_cell": false,
   "toc_position": {},
   "toc_section_display": true,
   "toc_window_display": false
  }
 },
 "nbformat": 4,
 "nbformat_minor": 2
}
