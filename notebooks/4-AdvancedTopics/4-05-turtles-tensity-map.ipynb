{
 "cells": [
  {
   "cell_type": "markdown",
   "metadata": {},
   "source": [
    "# 🐢 Turtles sightings 🐢\n",
    "This notebooks illustrates the computation of a _density map_ using observation locations. \n",
    "\n",
    "Dataset: \n",
    "> Marine Turtles\tNational Biodiversity Network Trust. Marine Turtles. National Biodiversity Network Trust, Newark, UK.      \n",
    "https://doi.org/10.15468/fyt9hw,       \n",
    "https://portal.obis.org/dataset/1cfc4d23-9fcd-42b2-95bf-9c4ee9bc50f6"
   ]
  },
  {
   "cell_type": "code",
   "execution_count": null,
   "metadata": {},
   "outputs": [],
   "source": [
    "using DIVAnd\n",
    "using Makie, CairoMakie, GeoMakie\n",
    "using Statistics\n",
    "using DelimitedFiles\n",
    "using LinearAlgebra\n",
    "using Random\n",
    "include(\"../config.jl\")"
   ]
  },
  {
   "cell_type": "markdown",
   "metadata": {},
   "source": [
    "## Read the data retrieved from OBIS\n",
    "The dataset consists of locations (longitude, latitude) of turtle sightings."
   ]
  },
  {
   "cell_type": "code",
   "execution_count": null,
   "metadata": {},
   "outputs": [],
   "source": [
    "download_check(turtlefile, turtlefileURL)\n",
    "AA = readdlm(turtlefile)\n",
    "@show size(AA);\n",
    "lon = AA[:, 1]\n",
    "lat = AA[:, 2]\n",
    "@show mean(lon), mean(lat);"
   ]
  },
  {
   "cell_type": "markdown",
   "metadata": {},
   "source": [
    "### Observation map"
   ]
  },
  {
   "cell_type": "code",
   "execution_count": null,
   "metadata": {},
   "outputs": [],
   "source": [
    "fig = Figure()\n",
    "ga = GeoAxis(\n",
    "    fig[1, 1];\n",
    "    dest = \"+proj=merc\",\n",
    "    title = \"Location of the observations\",\n",
    "    xticks = -20:5:5,\n",
    "    yticks = 40:5.0:65.0,\n",
    ")\n",
    "scatter!(lon, lat, markersize = 3)\n",
    "fig"
   ]
  },
  {
   "cell_type": "markdown",
   "metadata": {},
   "source": [
    "## Simple heatmap without land mask\n",
    "### Domain and data section"
   ]
  },
  {
   "cell_type": "code",
   "execution_count": null,
   "metadata": {},
   "outputs": [],
   "source": [
    "NX = 300\n",
    "NY = 250\n",
    "\n",
    "# Box size\n",
    "LX = 18.0\n",
    "LY = 15.0\n",
    "\n",
    "# Bounding box\n",
    "xleft = -14.0\n",
    "ybot = 47.0\n",
    "xright = xleft + LX\n",
    "ytop = ybot + LY\n",
    "\n",
    "xo = lon\n",
    "yo = lat\n",
    "\n",
    "# Eliminate points out of the box\n",
    "sel = (xo .> xleft) .& (xo .< xright) .& (yo .> ybot) .& (yo .< ytop)\n",
    "xo = xo[sel]\n",
    "yo = yo[sel]\n",
    "inflation = ones(size(xo));"
   ]
  },
  {
   "cell_type": "markdown",
   "metadata": {},
   "source": [
    "### Observation map"
   ]
  },
  {
   "cell_type": "code",
   "execution_count": null,
   "metadata": {
    "scrolled": true
   },
   "outputs": [],
   "source": [
    "fig = Figure()\n",
    "ga = GeoAxis(\n",
    "    fig[1, 1];\n",
    "    dest = \"+proj=merc\",\n",
    "    title = \"Location of the observations\\nin grid box\",\n",
    "    xticks = -20:5:5,\n",
    "    yticks = 40:5.0:65.0,\n",
    ")\n",
    "scatter!(xo, yo, markersize = 3)\n",
    "fig"
   ]
  },
  {
   "cell_type": "markdown",
   "metadata": {},
   "source": [
    "### Heatmap computation\n",
    "#### Define grid and metrics "
   ]
  },
  {
   "cell_type": "code",
   "execution_count": null,
   "metadata": {},
   "outputs": [],
   "source": [
    "dx = LX / (NX)\n",
    "dy = LY / (NY)\n",
    "\n",
    "xg = xleft+dx/2:dx:xleft+LX\n",
    "yg = ybot+dy/2:dy:ybot+LY\n",
    "# for pyplot\n",
    "xp = xleft:dx:xleft+LX\n",
    "yp = ybot:dy:ybot+LY\n",
    "maskp, (pmp, pnp), (xip, yip) = DIVAnd.DIVAnd_rectdom(xp, yp)\n",
    "mask, (pm, pn), (xi, yi) = DIVAnd.DIVAnd_rectdom(xg, yg);\n",
    "\n",
    "# adding a mask\n",
    "#mask[(xi.+0.25)./0.95 .+ (yi.-2.4)./1.1 .<1 ].=false\n",
    "#mask[2*xi.+yi .<3.4 ].=false"
   ]
  },
  {
   "cell_type": "markdown",
   "metadata": {},
   "source": [
    "#### Perform computation\n",
    "The function requires\n",
    "- the mask;\n",
    "- the metrics `pm`, `pn`;\n",
    "- the grid coordinates `xi`, `yi`;\n",
    "- the observation coordinates `xo`, `yo`;\n",
    "- the inflation vector `inflation`;\n",
    "- the length scales `Labs`; if set to zero, an empirical estimate is computed. "
   ]
  },
  {
   "cell_type": "code",
   "execution_count": null,
   "metadata": {},
   "outputs": [],
   "source": [
    "Labs = 0\n",
    "@time dens1, LHM, LCV, LSCV = DIVAnd_heatmap(\n",
    "    mask,\n",
    "    (pm, pn),\n",
    "    (xi, yi),\n",
    "    (xo, yo),\n",
    "    inflation,\n",
    "    Labs;\n",
    "    Ladaptiveiterations = 1,\n",
    ");"
   ]
  },
  {
   "cell_type": "markdown",
   "metadata": {},
   "source": [
    "The outputs are:\n",
    "- `dens1`, the 2D field storing the _heatmap_ (data density field);\n",
    "- `Ltuple`, the _bandwidth_ (either the input value or the calculated ones); \n",
    "- `LCV`, the _Likelihood Cross Validation_ estimator value (the higher the better) \n",
    "- `LSCV`, the `Least Square Cross Validation` estimator (the lower the better)."
   ]
  },
  {
   "cell_type": "markdown",
   "metadata": {},
   "source": [
    "### Plot results"
   ]
  },
  {
   "cell_type": "code",
   "execution_count": null,
   "metadata": {},
   "outputs": [],
   "source": [
    "fig = Figure()\n",
    "ga = GeoAxis(\n",
    "    fig[1, 1];\n",
    "    dest = \"+proj=merc\",\n",
    "    title = \"Density of observations\",\n",
    "    xticks = -20:5:5,\n",
    "    yticks = 40:5.0:65.0,\n",
    ")\n",
    "hm = heatmap!(ga, xp, yp, dens1)\n",
    "scatter!(ga, xo, yo, markersize = 3, color = :white, alpha = 0.5)\n",
    "Colorbar(fig[1, 2], hm)\n",
    "colsize!(fig.layout, 1, Aspect(1, 0.65))\n",
    "fig"
   ]
  },
  {
   "cell_type": "markdown",
   "metadata": {},
   "source": [
    "### Plot logarithm"
   ]
  },
  {
   "cell_type": "code",
   "execution_count": null,
   "metadata": {},
   "outputs": [],
   "source": [
    "fig = Figure()\n",
    "ga = GeoAxis(\n",
    "    fig[1, 1];\n",
    "    dest = \"+proj=merc\",\n",
    "    title = \"Density (log)\",\n",
    "    xticks = -20:5:5,\n",
    "    yticks = 40:5.0:65.0,\n",
    ")\n",
    "hm = heatmap!(ga, xp, yp, log.(dens1))\n",
    "scatter!(ga, xo, yo, markersize = 3, color = :white, alpha = 0.25)\n",
    "Colorbar(fig[1, 2], hm)\n",
    "colsize!(fig.layout, 1, Aspect(1, 0.65))\n",
    "fig"
   ]
  },
  {
   "cell_type": "markdown",
   "metadata": {},
   "source": [
    "## Heatmap with land-sea mask\n",
    "The previous case did not take into account the coastline.\n",
    "### Prepare land mask from topography"
   ]
  },
  {
   "cell_type": "code",
   "execution_count": null,
   "metadata": {},
   "outputs": [],
   "source": [
    "bathname = gebco04file\n",
    "download_check(gebco04file, gebco04fileURL)\n",
    "bx, by, b = load_bath(bathname, true, xg, yg)\n",
    "plot_bathy(bx, by, b[:, :, 1])"
   ]
  },
  {
   "cell_type": "code",
   "execution_count": null,
   "metadata": {},
   "outputs": [],
   "source": [
    "for j = 1:size(b, 2)\n",
    "    for i = 1:size(b, 1)\n",
    "        mask[i, j] = b[i, j] >= 0\n",
    "    end\n",
    "end\n",
    "\n",
    "plot_mask(bx, by, mask)"
   ]
  },
  {
   "cell_type": "markdown",
   "metadata": {},
   "source": [
    "### First heatmap with uniform and automatic bandwidth"
   ]
  },
  {
   "cell_type": "code",
   "execution_count": null,
   "metadata": {},
   "outputs": [],
   "source": [
    "@time dens1, LHM, LCV, LSCV = DIVAnd_heatmap(\n",
    "    mask,\n",
    "    (pm, pn),\n",
    "    (xi, yi),\n",
    "    (xo, yo),\n",
    "    inflation,\n",
    "    0;\n",
    "    Ladaptiveiterations = 0,\n",
    ")"
   ]
  },
  {
   "cell_type": "code",
   "execution_count": null,
   "metadata": {},
   "outputs": [],
   "source": [
    "fig = Figure()\n",
    "ga = GeoAxis(\n",
    "    fig[1, 1];\n",
    "    dest = \"+proj=merc\",\n",
    "    title = \"Density (log)\",\n",
    "    xticks = -20:5:5,\n",
    "    yticks = 40:5.0:65.0,\n",
    ")\n",
    "hm = heatmap!(ga, xp, yp, log.(dens1))\n",
    "scatter!(ga, xo, yo, markersize = 3, color = :red, alpha = 0.25)\n",
    "Colorbar(fig[1, 2], hm)\n",
    "colsize!(fig.layout, 1, Aspect(1, 0.65))\n",
    "display(fig)\n",
    "@show LCV, LSCV, mean(LHM[1]), mean(LHM[2])"
   ]
  },
  {
   "cell_type": "markdown",
   "metadata": {},
   "source": [
    "### Now with adapted bandwidth\n",
    "The parameter `Ladaptiveiterations` is set to 1."
   ]
  },
  {
   "cell_type": "code",
   "execution_count": null,
   "metadata": {},
   "outputs": [],
   "source": [
    "@time dens1, LHM, LCV, LSCV = DIVAnd_heatmap(\n",
    "    mask,\n",
    "    (pm, pn),\n",
    "    (xi, yi),\n",
    "    (xo, yo),\n",
    "    inflation,\n",
    "    0;\n",
    "    Ladaptiveiterations = 1,\n",
    ")"
   ]
  },
  {
   "cell_type": "code",
   "execution_count": null,
   "metadata": {},
   "outputs": [],
   "source": [
    "fig = Figure()\n",
    "ga = GeoAxis(\n",
    "    fig[1, 1];\n",
    "    dest = \"+proj=merc\",\n",
    "    title = \"Density (log)\",\n",
    "    xticks = -20:5:5,\n",
    "    yticks = 40:5.0:65.0,\n",
    ")\n",
    "hm = heatmap!(ga, xp, yp, log.(dens1))\n",
    "scatter!(ga, xo, yo, markersize = 3, color = :red, alpha = 0.25)\n",
    "Colorbar(fig[1, 2], hm)\n",
    "colsize!(fig.layout, 1, Aspect(1, 0.65))\n",
    "display(fig)\n",
    "@show LCV, LSCV, mean(LHM[1]), mean(LHM[2])"
   ]
  },
  {
   "cell_type": "markdown",
   "metadata": {},
   "source": [
    "### But how much iterations ? Cross validation indicators can help \n",
    "We test different values (from 0 to 5) for the parameter `Ladaptiveiterations`."
   ]
  },
  {
   "cell_type": "code",
   "execution_count": null,
   "metadata": {},
   "outputs": [],
   "source": [
    "for iii = 0:5\n",
    "    dens1, LHM, LCV, LSCV = DIVAnd_heatmap(\n",
    "        mask,\n",
    "        (pm, pn),\n",
    "        (xi, yi),\n",
    "        (xo, yo),\n",
    "        inflation,\n",
    "        0;\n",
    "        Ladaptiveiterations = iii,\n",
    "    )\n",
    "\n",
    "    fig = Figure()\n",
    "    ga = GeoAxis(\n",
    "        fig[1, 1];\n",
    "        dest = \"+proj=merc\",\n",
    "        title = \"$(mean(LHM[1]))\\n$LCV\\n$LSCV\",\n",
    "        xticks = -20:5:5,\n",
    "        yticks = 40:5.0:65.0,\n",
    "    )\n",
    "    hm = heatmap!(ga, xp, yp, log.(dens1))\n",
    "    scatter!(ga, xo, yo, markersize = 3, color = :red, alpha = 0.25)\n",
    "    Colorbar(fig[1, 2], hm)\n",
    "    colsize!(fig.layout, 1, Aspect(1, 0.65))\n",
    "    display(fig)\n",
    "end"
   ]
  },
  {
   "cell_type": "markdown",
   "metadata": {},
   "source": [
    "## Best number of iterations\n",
    "4 iterations yield highest likelyhood and lowest RMS."
   ]
  },
  {
   "cell_type": "code",
   "execution_count": null,
   "metadata": {},
   "outputs": [],
   "source": [
    "fig = Figure()\n",
    "ga = GeoAxis(\n",
    "    fig[1, 1];\n",
    "    dest = \"+proj=merc\",\n",
    "    title = \"$(mean(LHM[1]))\\n$LCV\\n$LSCV\",\n",
    "    xticks = -20:5:5,\n",
    "    yticks = 40:5.0:65.0,\n",
    ")\n",
    "hm = heatmap!(ga, xp, yp, log.(dens1))\n",
    "scatter!(ga, xo, yo, markersize = 3, color = :red, alpha = 0.25)\n",
    "Colorbar(fig[1, 2], hm)\n",
    "colsize!(fig.layout, 1, Aspect(1, 0.65))\n",
    "display(fig)"
   ]
  },
  {
   "cell_type": "code",
   "execution_count": null,
   "metadata": {},
   "outputs": [],
   "source": [
    "dens1, LHM, LCV, LSCV = DIVAnd_heatmap(\n",
    "    mask,\n",
    "    (pm, pn),\n",
    "    (xi, yi),\n",
    "    (xo, yo),\n",
    "    inflation,\n",
    "    0;\n",
    "    Ladaptiveiterations = 4,\n",
    ")"
   ]
  },
  {
   "cell_type": "code",
   "execution_count": null,
   "metadata": {},
   "outputs": [],
   "source": [
    "fig = Figure()\n",
    "ga = GeoAxis(\n",
    "    fig[1, 1];\n",
    "    dest = \"+proj=merc\",\n",
    "    title = \"Surface of bandwidth (log)\",\n",
    "    xticks = -20:5:5,\n",
    "    yticks = 40:5.0:65.0,\n",
    ")\n",
    "hm = heatmap!(ga, xp, yp, log.(LHM[1] .* LHM[2]))\n",
    "scatter!(ga, xo, yo, markersize = 3, color = :red, alpha = 0.25)\n",
    "Colorbar(fig[1, 2], hm)\n",
    "colsize!(fig.layout, 1, Aspect(1, 0.65))\n",
    "fig"
   ]
  },
  {
   "cell_type": "markdown",
   "metadata": {},
   "source": [
    "<div class=\"alert alert-block alert-info\">\n",
    "ℹ️ There is no information used on the effort of looking for turtles.<br>\n",
    "Obviously more are seen close to coastlines because of easier spotting.\n",
    "</div>"
   ]
  },
  {
   "cell_type": "code",
   "execution_count": null,
   "metadata": {},
   "outputs": [],
   "source": []
  }
 ],
 "metadata": {
  "@webio": {
   "lastCommId": null,
   "lastKernelId": null
  },
  "anaconda-cloud": {},
  "kernelspec": {
   "display_name": "Julia 1.11.2",
   "language": "julia",
   "name": "julia-1.11"
  },
  "language_info": {
   "file_extension": ".jl",
   "mimetype": "application/julia",
   "name": "julia",
   "version": "1.11.2"
  },
  "toc": {
   "base_numbering": 1,
   "nav_menu": {},
   "number_sections": true,
   "sideBar": true,
   "skip_h1_title": false,
   "title_cell": "Table of Contents",
   "title_sidebar": "Contents",
   "toc_cell": false,
   "toc_position": {},
   "toc_section_display": true,
   "toc_window_display": false
  }
 },
 "nbformat": 4,
 "nbformat_minor": 1
}
