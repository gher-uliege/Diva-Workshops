{
 "cells": [
  {
   "cell_type": "markdown",
   "id": "14adb451",
   "metadata": {},
   "source": [
    "# Make paper figure\n",
    "A simple notebook to prepare a figure for the [JOSE](https://jose.theoj.org/) paper."
   ]
  },
  {
   "cell_type": "code",
   "execution_count": null,
   "id": "fedd6745-af32-4122-8f34-46c515b1e7c6",
   "metadata": {},
   "outputs": [],
   "source": [
    "import Pkg\n",
    "Pkg.activate(\"../..\")\n",
    "Pkg.instantiate()\n",
    "using DIVAnd\n",
    "using Makie, CairoMakie, GeoMakie\n",
    "using Dates\n",
    "using ColorSchemes\n",
    "using Statistics\n",
    "using GeoDatasets\n",
    "cmapS = ColorSchemes.haline\n",
    "include(\"../config.jl\")"
   ]
  },
  {
   "cell_type": "code",
   "execution_count": null,
   "id": "eae2c4d5-d277-4919-a887-2c327a7ecd46",
   "metadata": {},
   "outputs": [],
   "source": [
    "dx, dy = 0.05, 0.05\n",
    "lonr = 11.5:dx:20\n",
    "latr = 39:dy:46\n",
    "depthr = [0.0, 10.0, 20.0];"
   ]
  },
  {
   "cell_type": "markdown",
   "id": "937dcc9b-03bc-4b63-8de4-e1bef97125ef",
   "metadata": {},
   "source": [
    "## Extract land-sea mask (high-res)"
   ]
  },
  {
   "cell_type": "code",
   "execution_count": null,
   "id": "b4b99669-7d15-4098-a275-972023e2dd00",
   "metadata": {},
   "outputs": [],
   "source": [
    "lonmask, latmask, mask = GeoDatasets.landseamask(; resolution = 'f', grid = 1.25)\n",
    "goodlon = findall((lonmask .>= lonr[1]) .& (lonmask .<= lonr[end]))\n",
    "goodlat = findall((latmask .>= latr[1]) .& (latmask .<= latr[end]))\n",
    "lonmask = lonmask[goodlon]\n",
    "latmask = latmask[goodlat]\n",
    "mask = mask[goodlon, goodlat];\n",
    "mask[mask.==2] .= 1;"
   ]
  },
  {
   "cell_type": "markdown",
   "id": "5df4fb75",
   "metadata": {},
   "source": [
    "## Read observations"
   ]
  },
  {
   "cell_type": "code",
   "execution_count": null,
   "id": "dba4a64c-710d-4672-bdc9-51e8de7afcdb",
   "metadata": {},
   "outputs": [],
   "source": [
    "datafile = adriaticfile\n",
    "download_check(datafile, adriaticfileURL)\n",
    "bathfile = gebco04file\n",
    "download_check(bathfile, gebco04fileURL)"
   ]
  },
  {
   "cell_type": "code",
   "execution_count": null,
   "id": "9a1c1b63-fc19-411d-80d3-54076889fd29",
   "metadata": {},
   "outputs": [],
   "source": [
    "@time obsval, obslon, obslat, obsdepth, obstime, obsid =\n",
    "    NCODV.load(Float64, datafile, \"Water body salinity\");"
   ]
  },
  {
   "cell_type": "markdown",
   "id": "c7049858",
   "metadata": {},
   "source": [
    "### Subsetting"
   ]
  },
  {
   "cell_type": "code",
   "execution_count": null,
   "id": "ee54a6ef",
   "metadata": {},
   "outputs": [],
   "source": [
    "sel = findall((obsdepth .<= 5.0) .& (Dates.month.(obstime) .== 4));\n",
    "@info(\"Found $(length(sel)) obs.\")"
   ]
  },
  {
   "cell_type": "markdown",
   "id": "67f9ee80-b328-438b-8a25-043c88701b4a",
   "metadata": {},
   "source": [
    "## Metrics and mask"
   ]
  },
  {
   "cell_type": "code",
   "execution_count": null,
   "id": "d40ff211-8301-4c91-b471-70c8d677c6bd",
   "metadata": {},
   "outputs": [],
   "source": [
    "_, (pm, pn), (xi, yi) = DIVAnd_rectdom(lonr, latr);"
   ]
  },
  {
   "cell_type": "code",
   "execution_count": null,
   "id": "6b20bed2-6928-4da9-8aac-a357b13ceae2",
   "metadata": {},
   "outputs": [],
   "source": [
    "bx, by, mask0 = load_mask(bathfile, true, lonr, latr, 0.0)"
   ]
  },
  {
   "cell_type": "code",
   "execution_count": null,
   "id": "1c72b151",
   "metadata": {},
   "outputs": [],
   "source": [
    "mask_edit = copy(mask0);\n",
    "grid_bx = [i for i in bx, j in by];\n",
    "grid_by = [j for i in bx, j in by];\n",
    "sel_mask1 = (grid_by .<= 42.6) .& (grid_bx .<= 14.0);\n",
    "sel_mask2 = (grid_by .<= 41.2) .& (grid_bx .<= 16.2);\n",
    "mask_edit = mask_edit .* .!sel_mask1 .* .!sel_mask2;"
   ]
  },
  {
   "cell_type": "markdown",
   "id": "e1e026d0",
   "metadata": {},
   "source": [
    "## Analysis"
   ]
  },
  {
   "cell_type": "code",
   "execution_count": null,
   "id": "3e06f404-a470-45cd-9d2c-6e7a6f08b7b2",
   "metadata": {},
   "outputs": [],
   "source": [
    "fi, s = DIVAndrun(\n",
    "    mask_edit,\n",
    "    (pm, pn),\n",
    "    (xi, yi),\n",
    "    (obslon[sel], obslat[sel]),\n",
    "    obsval[sel] .- mean(obsval[sel]),\n",
    "    (2.5, 2.5),\n",
    "    0.5,\n",
    ");"
   ]
  },
  {
   "cell_type": "markdown",
   "id": "32bbd132",
   "metadata": {},
   "source": [
    "## Final plot"
   ]
  },
  {
   "cell_type": "code",
   "execution_count": null,
   "id": "cd02c200-886d-4da6-b953-636514595b9f",
   "metadata": {},
   "outputs": [],
   "source": [
    "fig = Figure(size = (900, 500))\n",
    "ga1 = GeoAxis(\n",
    "    fig[1, 1],\n",
    "    dest = \"+proj=merc\",\n",
    "    title = \"Surface salinity observations in April\",\n",
    "    xticks = 10.0:2.0:20.0,\n",
    "    yticks = 38.0:2.0:48.0,\n",
    ")\n",
    "GeoMakie.heatmap!(ga1, lonmask, latmask, mask, colormap = :binary)\n",
    "sc = scatter!(\n",
    "    ga1,\n",
    "    obslon[sel],\n",
    "    obslat[sel],\n",
    "    color = obsval[sel],\n",
    "    markersize = 5,\n",
    "    colorrange = (35, 38.80),\n",
    "    colormap = cmapS,\n",
    ")\n",
    "xlims!(ga1, lonr[1], lonr[end])\n",
    "ylims!(ga1, latr[1], latr[end])\n",
    "# Colorbar(fig[1, 2], sc)\n",
    "\n",
    "ga2 = GeoAxis(\n",
    "    fig[1, 2],\n",
    "    dest = \"+proj=merc\",\n",
    "    title = \"DIVAnd gridded field\",\n",
    "    xticks = 10.0:2.0:20.0,\n",
    "    yticks = 38.0:2.0:48.0,\n",
    ")\n",
    "GeoMakie.heatmap!(ga2, lonmask, latmask, mask, colormap = :binary)\n",
    "hm = contourf!(\n",
    "    ga2,\n",
    "    lonr,\n",
    "    latr,\n",
    "    fi .+ mean(obsval[sel]),\n",
    "    levels = 35:0.2:38.8,\n",
    "    colormap = cmapS,\n",
    "    extendhigh = :auto,\n",
    "    extendlow = :auto,\n",
    ")\n",
    "xlims!(ga2, lonr[1], lonr[end])\n",
    "ylims!(ga2, latr[1], latr[end])\n",
    "hideydecorations!(ga2, grid = false, ticks = true)\n",
    "Colorbar(fig[1, 3], hm, label = \"S\", labelrotation = 0)\n",
    "save(joinpath(figdir, \"salinity_gridded2.png\"), fig)\n",
    "fig"
   ]
  },
  {
   "cell_type": "code",
   "execution_count": null,
   "id": "14719179",
   "metadata": {},
   "outputs": [],
   "source": []
  }
 ],
 "metadata": {
  "kernelspec": {
   "display_name": "Julia 1.11.6",
   "language": "julia",
   "name": "julia-1.11"
  },
  "language_info": {
   "file_extension": ".jl",
   "mimetype": "application/julia",
   "name": "julia",
   "version": "1.11.6"
  },
  "toc": {
   "base_numbering": 1,
   "nav_menu": {},
   "number_sections": true,
   "sideBar": true,
   "skip_h1_title": false,
   "title_cell": "Table of Contents",
   "title_sidebar": "Contents",
   "toc_cell": false,
   "toc_position": {},
   "toc_section_display": true,
   "toc_window_display": false
  }
 },
 "nbformat": 4,
 "nbformat_minor": 5
}
