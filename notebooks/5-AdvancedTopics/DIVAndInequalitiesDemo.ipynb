{
 "cells": [
  {
   "cell_type": "markdown",
   "metadata": {},
   "source": [
    "# Inequalities in DIVAnd: Proof of concept"
   ]
  },
  {
   "cell_type": "code",
   "execution_count": null,
   "metadata": {},
   "outputs": [],
   "source": [
    "using DIVAnd\n",
    "using Makie, CairoMakie, GeoMakie\n",
    "using LinearAlgebra\n",
    "using SparseArrays\n",
    "include(\"../config.jl\")"
   ]
  },
  {
   "cell_type": "markdown",
   "metadata": {},
   "source": [
    "## Classical analysis"
   ]
  },
  {
   "cell_type": "code",
   "execution_count": null,
   "metadata": {},
   "outputs": [],
   "source": [
    "# observations\n",
    "x = rand(750);\n",
    "y = rand(750);\n",
    "testsize=300\n",
    "\n",
    "f = (sin.(x*6) .* cos.(y*6).+cos.(x*6))\n",
    "#f = (sin.(x*6) .* cos.(y*6).+ cos.(x*6)) .+ randn(750) ;\n",
    "\n",
    "# final grid\n",
    "xi,yi= ndgrid(range(0,stop=1,length=testsize),range(0,stop=1,length=testsize));\n",
    "\n",
    "# reference field\n",
    "fref = (sin.(xi*6) .* cos.(yi*6).+cos.(xi*6))\n",
    "\n",
    "mask = trues(size(xi));\n",
    "pm = ones(size(xi)) / (xi[2,1]-xi[1,1]);\n",
    "pn = ones(size(xi)) / (yi[1,2]-yi[1,1]);\n",
    "\n",
    "# correlation length\n",
    "len = 0.4;\n",
    "# obs. error variance normalized by the background error variance\n",
    "epsilon2 = 1.;\n",
    "\n",
    "# fi is the interpolated field\n",
    "@time fi,s = DIVAndrun(mask,(pm,pn),(xi,yi),(x,y),f,len,epsilon2);\n",
    "@show extrema(fi)"
   ]
  },
  {
   "cell_type": "code",
   "execution_count": null,
   "metadata": {},
   "outputs": [],
   "source": [
    "fig = Figure(size=(900, 400))\n",
    "ga = Axis(fig[1, 1]; title = \"Analytical field and obs.\")\n",
    "sc1 = heatmap!(ga, xi[:,1], yi[1,:], fref, colormap=Reverse(:RdBu))\n",
    "scatter!(ga, x, y, color=:black, markersize=3)\n",
    "Colorbar(fig[1, 2], sc1)\n",
    "\n",
    "ga2 = Axis(fig[1, 3]; title = \"Interpolated field\")\n",
    "sc2 = heatmap!(ga2, xi[:,1], yi[1,:], fi, colormap=Reverse(:RdBu))\n",
    "Colorbar(fig[1, 4], sc2)\n",
    "fig"
   ]
  },
  {
   "cell_type": "markdown",
   "metadata": {},
   "source": [
    "## Analysis with positivness\n",
    "A quick example without any real meaning since imposing a positive solution with a lot of \n",
    "negative input values does not make a lot of sense. "
   ]
  },
  {
   "cell_type": "code",
   "execution_count": null,
   "metadata": {},
   "outputs": [],
   "source": [
    "m=sum(mask)\n",
    "m2c=DIVAnd.DIVAnd_ineqconstrain(0*ones(Float64,m),Diagonal(ones(Float64,m)))\n",
    "fi,s=DIVAndrun(mask,(pm,pn),(xi,yi),(x,y),f,len,epsilon2;ineqconstraints=(m2c,));\n",
    "@show extrema(fi);    "
   ]
  },
  {
   "cell_type": "markdown",
   "metadata": {},
   "source": [
    "Show where you still violate the inequality. Unless an analysis without inequality constraint satisfies \n",
    "the inequality constraint, there will always be points where you violate (slightly) the inequality constraint. "
   ]
  },
  {
   "cell_type": "code",
   "execution_count": null,
   "metadata": {},
   "outputs": [],
   "source": [
    "fih=deepcopy(fi)\n",
    "fih[fi.<0.0] .= -1.0;"
   ]
  },
  {
   "cell_type": "code",
   "execution_count": null,
   "metadata": {},
   "outputs": [],
   "source": [
    "fig = Figure(size=(450, 400))\n",
    "ga = Axis(fig[1, 1]; title = \"Analytical field and obs.\")\n",
    "sc1 = heatmap!(ga, xi[:,1], yi[1,:], fih, colormap=Reverse(:RdBu), colorrange=(-1,1))\n",
    "Colorbar(fig[1, 2], sc1)\n",
    "fig"
   ]
  },
  {
   "cell_type": "markdown",
   "metadata": {},
   "source": [
    "## Analysis with inequality (between two values)"
   ]
  },
  {
   "cell_type": "code",
   "execution_count": null,
   "metadata": {},
   "outputs": [],
   "source": [
    "m=sum(mask)\n",
    "m2ca=DIVAnd.DIVAnd_ineqconstrain(-0.5*ones(Float64,m),Diagonal(ones(Float64,m)))\n",
    "m2cb=DIVAnd.DIVAnd_ineqconstrain(-0.5*ones(Float64,m),-Diagonal(ones(Float64,m)))\n",
    "fi,s=DIVAndrun(mask,(pm,pn),(xi,yi),(x,y),f,len,epsilon2;ineqconstraints=(m2ca,m2cb));\n",
    "@show extrema(fi);"
   ]
  },
  {
   "cell_type": "code",
   "execution_count": null,
   "metadata": {},
   "outputs": [],
   "source": [
    "fig = Figure(size=(450, 400))\n",
    "ga = Axis(fig[1, 1]; title = \"Interpolated field with an inequality constrain\")\n",
    "sc1 = heatmap!(ga, xi[:,1], yi[1,:], fi, colormap=Reverse(:RdBu), colorrange=(-1,1))\n",
    "Colorbar(fig[1, 2], sc1)\n",
    "fig"
   ]
  },
  {
   "cell_type": "markdown",
   "metadata": {},
   "source": [
    "## Increasing in a given direction with gradient of at least 0.1\n",
    "\n",
    "If you want to try the next cell with variations:\n",
    "\n",
    "* `for i = 1:1` Impose increasing values in x direction\n",
    "* `for i = 2:2` Impose increasing values in y direction\n",
    "* `for i = 1:2` Impose increasing value in oblique direction \n",
    "\n",
    "(increase values in both directions is also possible by making two constraints)"
   ]
  },
  {
   "cell_type": "code",
   "execution_count": null,
   "metadata": {},
   "outputs": [],
   "source": [
    "# Creation of gradient operator matrix in direction i\n",
    "A = spzeros(s.sv.n, s.sv.n)\n",
    "\n",
    "for i = 1:2\n",
    "    S = sparse_stagger(size(mask), i, s.iscyclic[i])\n",
    "    m = (S * mask[:]) .== 1\n",
    "    A = A +  sparse_pack(mask) * S' * sparse_pack(m)' * s.Dx[i]\n",
    "end\n",
    "yo=statevector_pack(s.sv, (0.0 .*fi.+0.1,))\n",
    "m2c=DIVAnd.DIVAnd_ineqconstrain(yo, A)\n",
    "fi,s=DIVAndrun(mask,(pm,pn),(xi,yi),(x,y),f,len,epsilon2;ineqconstraints=(m2c,),ntriesmax=20);"
   ]
  },
  {
   "cell_type": "code",
   "execution_count": null,
   "metadata": {},
   "outputs": [],
   "source": [
    "fig = Figure(size=(450, 400))\n",
    "ga = Axis(fig[1, 1]; title = \"Interpolated field\")\n",
    "sc1 = heatmap!(ga, xi[:,1], yi[1,:], fi, colormap=Reverse(:RdBu), colorrange=(-1,1))\n",
    "Colorbar(fig[1, 2], sc1)\n",
    "fig"
   ]
  },
  {
   "cell_type": "code",
   "execution_count": null,
   "metadata": {},
   "outputs": [],
   "source": [
    "fig = Figure(size=(950, 400))\n",
    "ax1 = Axis(fig[1,1])\n",
    "lines!(ax1, xi[:,10],fi[:,10])\n",
    "ax2 = Axis(fig[1,2])\n",
    "lines!(ax2, yi[10,:],fi[10,:])\n",
    "ax3 = Axis(fig[1,3])\n",
    "fd=[fi[i,i] for i = 1:size(fi)[1]]\n",
    "lines!(ax3, fd)\n",
    "fig"
   ]
  },
  {
   "cell_type": "markdown",
   "metadata": {},
   "source": [
    "## Other possible inequalities\n",
    "\n",
    "* Increasing value along trajectories (if closed trajectoy should lead to constant value along closed line)\n",
    "* Average over certain region larger than a value\n",
    "* Stable stratification (do we keep the interface for multivariate variables as in `DIVAnd_multivarEOF` ? What about defining which direction is vertical ? Paramater `vertical=` )\n",
    "* Limitations on gradients (upper and lower values)"
   ]
  },
  {
   "cell_type": "markdown",
   "metadata": {},
   "source": [
    "<div class=\"alert alert-block alert-warning\">\n",
    "<h2>⚠️ To be aware of</h2> \n",
    "Be sure to think about the background field effect when defining the constraints. <br>\n",
    "More general question on how to deal with background fields?<br>\n",
    "Separate creation and tools (user defined or adapted functions) to merge background and anomalies analysis?\n",
    "</div>"
   ]
  },
  {
   "cell_type": "code",
   "execution_count": null,
   "metadata": {},
   "outputs": [],
   "source": []
  }
 ],
 "metadata": {
  "kernelspec": {
   "display_name": "Julia 1.11.2",
   "language": "julia",
   "name": "julia-1.11"
  },
  "language_info": {
   "file_extension": ".jl",
   "mimetype": "application/julia",
   "name": "julia",
   "version": "1.11.2"
  }
 },
 "nbformat": 4,
 "nbformat_minor": 4
}
