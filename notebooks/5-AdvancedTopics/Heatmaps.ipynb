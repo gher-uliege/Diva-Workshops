{
 "cells": [
  {
   "cell_type": "markdown",
   "metadata": {},
   "source": [
    "# Creating density maps (heatmaps) with DIVAnd\n",
    "Density maps are created to show the density of observations on a regular grid.\n",
    "## Packages"
   ]
  },
  {
   "cell_type": "code",
   "execution_count": null,
   "metadata": {},
   "outputs": [],
   "source": [
    "using DIVAnd\n",
    "using Makie, CairoMakie, GeoMakie\n",
    "using Statistics\n",
    "using DelimitedFiles\n",
    "using LinearAlgebra\n",
    "using Random\n",
    "using JupyterFormatter\n",
    "enable_autoformat()"
   ]
  },
  {
   "cell_type": "markdown",
   "metadata": {},
   "source": [
    "## Data\n",
    "The dataset consists of random observations in a rectangular domain."
   ]
  },
  {
   "cell_type": "code",
   "execution_count": null,
   "metadata": {},
   "outputs": [],
   "source": [
    "NX = 100\n",
    "NY = 150\n",
    "# Box size\n",
    "LX = 100\n",
    "LY = 2000\n",
    "# Bounding box\n",
    "xleft = 100\n",
    "ybot = -1000\n",
    "xright = xleft + LX\n",
    "ytop = ybot + LY\n",
    "# For the synthetic case, number of points\n",
    "NP = 200\n",
    "Random.seed!(1234)\n",
    "xo = xleft .+ LX * (rand(NP))\n",
    "xo = xleft .+ LX * (0.5 .+ 0.1 * randn(NP))\n",
    "yo = ybot .+ LY * rand(NP)\n",
    "yo = ybot .+ LY * (0.45 .+ 0.1 * randn(NP))\n",
    "inflation = ones(Float64, NP)\n",
    "#test for weights on poins\n",
    "inflation[yo.>ybot+LY/2] .= 1\n",
    "\n",
    "# Eliminate points out of the box\n",
    "sel = (xo .> xleft) .& (xo .< xright) .& (yo .> ybot) .& (yo .< ytop)\n",
    "\n",
    "xo = xo[sel]\n",
    "yo = yo[sel]\n",
    "inflation = inflation[sel]\n",
    "\n",
    "NP = size(xo)[1]\n",
    "\n",
    "dx = LX / (NX)\n",
    "dy = LY / (NY)\n",
    "\n",
    "xg = xleft+dx/2:dx:xleft+LX\n",
    "yg = ybot+dy/2:dy:ybot+LY\n",
    "# for pyplot\n",
    "xp = xleft:dx:xleft+LX\n",
    "yp = ybot:dy:ybot+LY\n",
    "maskp, (pmp, pnp), (xip, yip) = DIVAnd.DIVAnd_rectdom(xp, yp)\n",
    "mask, (pm, pn), (xi, yi) = DIVAnd.DIVAnd_rectdom(xg, yg)"
   ]
  },
  {
   "cell_type": "markdown",
   "metadata": {},
   "source": [
    "## Perform heatmap computation"
   ]
  },
  {
   "cell_type": "code",
   "execution_count": null,
   "metadata": {},
   "outputs": [],
   "source": [
    "dens2, LHM, LCV, LSCV = DIVAnd_heatmap(mask, (pm, pn), (xi, yi), (xo, yo), inflation, 0)"
   ]
  },
  {
   "cell_type": "markdown",
   "metadata": {},
   "source": [
    "### Plot observations and field"
   ]
  },
  {
   "cell_type": "code",
   "execution_count": null,
   "metadata": {},
   "outputs": [],
   "source": [
    "fig = Figure()\n",
    "ax = Axis(\n",
    "    fig[1, 1],\n",
    "    aspect = 1,\n",
    "    title = \"Simple heatmap in 2D, automatic uniform scale selection\",\n",
    ")\n",
    "hm = heatmap!(ax, xip[:, 1], yip[1, :], dens2)\n",
    "scatter!(ax, xo, yo, color = :white, markersize = 3)\n",
    "Colorbar(fig[1, 2], hm)\n",
    "fig"
   ]
  },
  {
   "cell_type": "markdown",
   "metadata": {},
   "source": [
    "### Adding a wall in the middle"
   ]
  },
  {
   "cell_type": "code",
   "execution_count": null,
   "metadata": {},
   "outputs": [],
   "source": [
    "mask[1:80, 75] .= false\n",
    "\n",
    "dens2, LHM, LCV, LSCV = DIVAnd_heatmap(mask, (pm, pn), (xi, yi), (xo, yo), inflation, 0)\n",
    "\n",
    "fig = Figure()\n",
    "ax = Axis(fig[1, 1], aspect = 1, title = \"Heatmap with a wall\")\n",
    "hm = heatmap!(ax, xip[:, 1], yip[1, :], dens2)\n",
    "scatter!(ax, xo, yo, color = :white, markersize = 3)\n",
    "Colorbar(fig[1, 2], hm)\n",
    "fig"
   ]
  },
  {
   "cell_type": "markdown",
   "metadata": {},
   "source": [
    "### Wall in the middle and observations one only one side"
   ]
  },
  {
   "cell_type": "code",
   "execution_count": null,
   "metadata": {},
   "outputs": [],
   "source": [
    "sel = (yo .< -10.0)\n",
    "\n",
    "xo = xo[sel]\n",
    "yo = yo[sel]\n",
    "inflation = inflation[sel]\n",
    "dens2, LHM, LCV, LSCV = DIVAnd_heatmap(mask, (pm, pn), (xi, yi), (xo, yo), inflation, 0)\n",
    "\n",
    "fig = Figure()\n",
    "ax = Axis(\n",
    "    fig[1, 1],\n",
    "    aspect = 1,\n",
    "    title = \"Adding a wall in the middle and only points to the south\",\n",
    ")\n",
    "hm = heatmap!(ax, xip[:, 1], yip[1, :], dens2)\n",
    "scatter!(ax, xo, yo, color = :white, markersize = 3)\n",
    "Colorbar(fig[1, 2], hm)\n",
    "fig"
   ]
  },
  {
   "cell_type": "markdown",
   "metadata": {},
   "source": [
    "### Open wall in the middle"
   ]
  },
  {
   "cell_type": "code",
   "execution_count": null,
   "metadata": {},
   "outputs": [],
   "source": [
    "mask .= true\n",
    "mask[1:40, 75] .= false\n",
    "mask[60:end, 75] .= false\n",
    "dens2, LHM, LCV, LSCV = DIVAnd_heatmap(mask, (pm, pn), (xi, yi), (xo, yo), inflation, 0)\n",
    "\n",
    "fig = Figure()\n",
    "ax = Axis(fig[1, 1], aspect = 1, title = \"Open wall in the middle\")\n",
    "hm = heatmap!(ax, xip[:, 1], yip[1, :], dens2)\n",
    "scatter!(ax, xo, yo, color = :white, markersize = 3)\n",
    "Colorbar(fig[1, 2], hm)\n",
    "fig"
   ]
  },
  {
   "cell_type": "markdown",
   "metadata": {},
   "source": [
    "### Open wall in the middle and increased Ly"
   ]
  },
  {
   "cell_type": "code",
   "execution_count": null,
   "metadata": {},
   "outputs": [],
   "source": [
    "dens2, LHM, LCV, LSCV =\n",
    "    DIVAnd_heatmap(mask, (pm, pn), (xi, yi), (xo, 2 * yo), inflation, (4, 100))\n",
    "\n",
    "fig = Figure()\n",
    "ax = Axis(fig[1, 1], aspect = 1, title = \"Open wall in the middle and increased Ly\")\n",
    "hm = heatmap!(ax, xip[:, 1], yip[1, :], dens2)\n",
    "scatter!(ax, xo, yo, color = :white, markersize = 3)\n",
    "Colorbar(fig[1, 2], hm)\n",
    "fig"
   ]
  },
  {
   "cell_type": "markdown",
   "metadata": {},
   "source": [
    "## 1-dimensional case"
   ]
  },
  {
   "cell_type": "code",
   "execution_count": null,
   "metadata": {},
   "outputs": [],
   "source": [
    "NX1D = 500\n",
    "LX1D = 8\n",
    "xleft1D = -4\n",
    "dx1D = LX1D / (NX1D)\n",
    "\n",
    "xg1D = xleft1D+dx1D/2:dx1D:xleft1D+LX1D\n",
    "mask1D, pm1D, xi1D = DIVAnd.DIVAnd_rectdom(xg1D)\n",
    "\n",
    "xo = randn(1000)\n",
    "inflation = ones(size(xo))\n",
    "\n",
    "dens1D, LHM, LCV, LSCV =\n",
    "    DIVAnd_heatmap(mask1D, pm1D, xi1D, (xo,), inflation, 0; Ladaptiveiterations = 0)\n",
    "dens1Db, LHM, LCV, LSCV = DIVAnd_heatmap(\n",
    "    mask1D,\n",
    "    pm1D,\n",
    "    xi1D,\n",
    "    (xo,),\n",
    "    inflation,\n",
    "    0;\n",
    "    Ladaptiveiterations = 0,\n",
    "    myheatmapmethod = \"GridKernel\",\n",
    "    alphabc = 0,\n",
    ")\n",
    "dens1Dc, LHM, LCV, LSCV = DIVAnd_heatmap(\n",
    "    mask1D,\n",
    "    pm1D,\n",
    "    xi1D,\n",
    "    (xo,),\n",
    "    inflation,\n",
    "    0;\n",
    "    Ladaptiveiterations = 0,\n",
    "    myheatmapmethod = \"GridKernel\",\n",
    "    optimizeheat = false,\n",
    "    alphabc = 0,\n",
    ")\n",
    "\n",
    "gaussiansol = 1 / sqrt(2 * pi) * exp.(-0.5 * (xi1D[1] .^ 2.0));"
   ]
  },
  {
   "cell_type": "markdown",
   "metadata": {},
   "source": [
    "### Plot density"
   ]
  },
  {
   "cell_type": "code",
   "execution_count": null,
   "metadata": {},
   "outputs": [],
   "source": [
    "fig = Figure()\n",
    "ax = Axis(fig[1, 1], title = \"Density\")\n",
    "lines!(ax, xi1D[1], dens1D)\n",
    "lines!(ax, xi1D[1], gaussiansol)\n",
    "lines!(ax, xi1D[1], dens1Db)\n",
    "display(fig)\n",
    "@show norm(dens1D - dens1Db),\n",
    "norm(dens1D),\n",
    "norm(dens1Db - dens1Dc),\n",
    "norm(gaussiansol - dens1D);"
   ]
  },
  {
   "cell_type": "code",
   "execution_count": null,
   "metadata": {},
   "outputs": [],
   "source": [
    "fig = Figure()\n",
    "ax = Axis(\n",
    "    fig[1, 1],\n",
    "    title = \"Difference between GridPoint and DataPoint method.\\nDifference with or without optimization\",\n",
    ")\n",
    "lines!(ax, xi1D[1], dens1D - dens1Db)\n",
    "lines!(ax, xi1D[1], dens1D - dens1Dc)\n",
    "lines!(ax, xi1D[1], dens1Db - dens1Dc)\n",
    "fig"
   ]
  },
  {
   "cell_type": "code",
   "execution_count": null,
   "metadata": {},
   "outputs": [],
   "source": [
    "NX1D = 500\n",
    "LX1D = 8\n",
    "xleft1D = -4\n",
    "dx1D = LX1D / (NX1D)\n",
    "\n",
    "xg1D = xleft1D+dx1D/2:dx1D:xleft1D+LX1D\n",
    "mask1D, pm1D, xi1D = DIVAnd.DIVAnd_rectdom(xg1D)\n",
    "\n",
    "xo = randn(100)\n",
    "inflation = ones(size(xo))\n",
    "\n",
    "dens1D, LHM, LCV, LSCV =\n",
    "    DIVAnd_heatmap(mask1D, pm1D, xi1D, (xo,), inflation, 0; Ladaptiveiterations = 0)\n",
    "@time dens1D1, LHM, LCV, LSCV =\n",
    "    DIVAnd_heatmap(mask1D, pm1D, xi1D, (xo,), inflation, 1; Ladaptiveiterations = 1)\n",
    "@time dens1D1, LHM, LCV, LSCV =\n",
    "    DIVAnd_heatmap(mask1D, pm1D, xi1D, (xo,), inflation, 1; Ladaptiveiterations = 2)\n",
    "@time dens1D1nopt, LHM, LCV, LSCV = \n",
    "    DIVAnd_heatmap(mask1D, pm1D, xi1D, (xo,), inflation, 1; Ladaptiveiterations = 2, optimizeheat = false)\n",
    "@time dens1D1nopt, LHM, LCV, LSCV = \n",
    "    DIVAnd_heatmap(mask1D, pm1D, xi1D, (xo,), inflation, 1; Ladaptiveiterations = 2, optimizeheat = false)\n",
    ")\n",
    "\n",
    "gaussiansol = 1 / sqrt(2 * pi) * exp.(-0.5 * (xi1D[1] .^ 2.0));"
   ]
  },
  {
   "cell_type": "code",
   "execution_count": null,
   "metadata": {},
   "outputs": [],
   "source": [
    "fig = Figure()\n",
    "ax = Axis(fig[1, 1], title = \"Density\")\n",
    "lines!(ax, xi1D[1], dens1D)\n",
    "lines!(ax, xi1D[1], gaussiansol)\n",
    "lines!(ax, xi1D[1], dens1D1)\n",
    "display(fig)\n",
    "@show norm(dens1D1 - dens1D1nopt);"
   ]
  },
  {
   "cell_type": "code",
   "execution_count": null,
   "metadata": {},
   "outputs": [],
   "source": [
    "NSAM = 100\n",
    "CV1 = zeros(Float64, NSAM)\n",
    "CV2 = zeros(Float64, NSAM)\n",
    "BW = zeros(Float64, NSAM)\n",
    "for jjj = 1:NSAM\n",
    "    HH = 0.005 * jjj\n",
    "    dens1D, LHM, LCV, LSCV =\n",
    "        DIVAnd_heatmap(mask1D, pm1D, xi1D, (xo,), inflation, HH; Ladaptiveiterations = 0)\n",
    "    @show norm(dens1D - gaussiansol), HH, LCV, LSCV\n",
    "    CV1[jjj] = LCV\n",
    "    CV2[jjj] = LSCV\n",
    "    BW[jjj] = HH\n",
    "\n",
    "end\n",
    "dens1D, LHM, LCV, LSCV =\n",
    "    DIVAnd_heatmap(mask1D, pm1D, xi1D, (xo,), inflation, 0.195; Ladaptiveiterations = 0);\n",
    "gaussiansol = 1 / sqrt(2 * pi) * exp.(-0.5 * (xi1D[1] .^ 2.0));"
   ]
  },
  {
   "cell_type": "code",
   "execution_count": null,
   "metadata": {},
   "outputs": [],
   "source": [
    "fig = Figure()\n",
    "ax = Axis(fig[1, 1], title = \"Density\")\n",
    "lines!(ax, xi1D[1], dens1D)\n",
    "lines!(ax, xi1D[1], gaussiansol)\n",
    "display(fig)"
   ]
  },
  {
   "cell_type": "code",
   "execution_count": null,
   "metadata": {},
   "outputs": [],
   "source": [
    "lines(BW, CV1)"
   ]
  },
  {
   "cell_type": "code",
   "execution_count": null,
   "metadata": {},
   "outputs": [],
   "source": [
    "BW[findmax(CV1)[2]]"
   ]
  },
  {
   "cell_type": "code",
   "execution_count": null,
   "metadata": {},
   "outputs": [],
   "source": [
    "lines(BW, CV2)"
   ]
  },
  {
   "cell_type": "code",
   "execution_count": null,
   "metadata": {},
   "outputs": [],
   "source": [
    "BW[findmin(CV2)[2]]"
   ]
  },
  {
   "cell_type": "code",
   "execution_count": null,
   "metadata": {},
   "outputs": [],
   "source": [
    "findmin(CV2)"
   ]
  },
  {
   "cell_type": "code",
   "execution_count": null,
   "metadata": {},
   "outputs": [],
   "source": [
    "NX1D = 500\n",
    "LX1D = 20\n",
    "xleft1D = -10\n",
    "dx1D = LX1D / (NX1D)\n",
    "\n",
    "xg1D = xleft1D+dx1D/2:dx1D:xleft1D+LX1D\n",
    "mask1D, pm1D, xi1D = DIVAnd.DIVAnd_rectdom(xg1D)\n",
    "\n",
    "xa = randn(100) .+ 4\n",
    "xb = 2 * randn(100) .- 4.0\n",
    "xo = [xa..., xb...]\n",
    "\n",
    "inflation = ones(size(xo))\n",
    "\n",
    "dens1D, LHM, LCV, LSCV =\n",
    "    DIVAnd_heatmap(mask1D, pm1D, xi1D, (xo,), inflation, 0; Ladaptiveiterations = 0)\n",
    "dens1D1, LHM, LCV, LSCV =\n",
    "    DIVAnd_heatmap(mask1D, pm1D, xi1D, (xo,), inflation, 0; Ladaptiveiterations = 4)\n",
    "\n",
    "gaussiansol =\n",
    "    0.5 / sqrt(2 * pi) * exp.(-0.5 * ((xi1D[1] .- 4) .^ 2.0)) +\n",
    "    0.5 / (2 * sqrt(2 * pi)) * exp.(-0.5 * (((xi1D[1] .+ 4) ./ 2) .^ 2.0));"
   ]
  },
  {
   "cell_type": "code",
   "execution_count": null,
   "metadata": {},
   "outputs": [],
   "source": [
    "fig = Figure()\n",
    "ax = Axis(fig[1, 1], title = \"Density\")\n",
    "lines!(ax, xi1D[1], dens1D)\n",
    "lines!(ax, xi1D[1], gaussiansol)\n",
    "lines!(ax, xi1D[1], dens1D1)\n",
    "display(fig)"
   ]
  },
  {
   "cell_type": "code",
   "execution_count": null,
   "metadata": {},
   "outputs": [],
   "source": [
    "NX1D = 500\n",
    "LX1D = 40\n",
    "xleft1D = -20\n",
    "dx1D = LX1D / (NX1D)\n",
    "\n",
    "xg1D = xleft1D+dx1D/2:dx1D:xleft1D+LX1D\n",
    "mask1D, pm1D, xi1D = DIVAnd.DIVAnd_rectdom(xg1D)\n",
    "\n",
    "xa = randn(100) .+ 10\n",
    "xb = 2 * randn(100) .- 10.0\n",
    "xo = [xa..., xb...]\n",
    "\n",
    "inflation = ones(size(xo))\n",
    "\n",
    "dens1D, LHM, LCV, LSCV =\n",
    "    DIVAnd_heatmap(mask1D, pm1D, xi1D, (xo,), inflation, 0; Ladaptiveiterations = 0)\n",
    "dens1D1, LHM, LCV, LSCV =\n",
    "    DIVAnd_heatmap(mask1D, pm1D, xi1D, (xo,), inflation, 1; Ladaptiveiterations = 0)\n",
    "dens1D1i, LHM, LCV, LSCV =\n",
    "    DIVAnd_heatmap(mask1D, pm1D, xi1D, (xo,), inflation, 1.3; Ladaptiveiterations = 1)\n",
    "\n",
    "gaussiansol =\n",
    "    0.5 / sqrt(2 * pi) * exp.(-0.5 * ((xi1D[1] .- 10) .^ 2.0)) +\n",
    "    0.5 / (2 * sqrt(2 * pi)) * exp.(-0.5 * (((xi1D[1] .+ 10) ./ 2) .^ 2.0));"
   ]
  },
  {
   "cell_type": "code",
   "execution_count": null,
   "metadata": {},
   "outputs": [],
   "source": [
    "fig = Figure()\n",
    "ax = Axis(fig[1, 1], title = \"Density\")\n",
    "lines!(ax, xi1D[1], dens1D)\n",
    "lines!(ax, xi1D[1], gaussiansol)\n",
    "lines!(ax, xi1D[1], dens1D1)\n",
    "lines!(ax, xi1D[1], dens1D1i)\n",
    "display(fig)"
   ]
  },
  {
   "cell_type": "markdown",
   "metadata": {},
   "source": [
    "## Some effects of Boundary Conditions \n",
    "(uniform data in 0-1)"
   ]
  },
  {
   "cell_type": "code",
   "execution_count": null,
   "metadata": {},
   "outputs": [],
   "source": [
    "NX1D = 500\n",
    "LX1D = 1\n",
    "xleft1D = 0\n",
    "dx1D = LX1D / (NX1D)\n",
    "\n",
    "xg1D = xleft1D+dx1D/2:dx1D:xleft1D+LX1D\n",
    "mask1D, pm1D, xi1D = DIVAnd.DIVAnd_rectdom(xg1D)\n",
    "\n",
    "xo = rand(1000)\n",
    "\n",
    "inflation = ones(size(xo))\n",
    "mask1D[1] = false\n",
    "#mask1D[end]=false\n",
    "dens1D, LHM, LCV, LSCV =\n",
    "    DIVAnd_heatmap(mask1D, pm1D, xi1D, (xo,), inflation, 0; Ladaptiveiterations = 0)\n",
    "dens1D1, LHM, LCV, LSCV = DIVAnd_heatmap(\n",
    "    mask1D,\n",
    "    pm1D,\n",
    "    xi1D,\n",
    "    (xo,),\n",
    "    inflation,\n",
    "    0;\n",
    "    Ladaptiveiterations = 0,\n",
    "    alphabc = 0,\n",
    ")\n",
    "#dens1D1i= DIVAnd_heatmap(mask1D,pm1D,xi1D,(xo,),inflation,0.5;Ladaptiveiterations=10)\n",
    "#dens1D[mask1D.==false].=NaN\n",
    "#dens1D1[mask1D.==false].=NaN"
   ]
  },
  {
   "cell_type": "code",
   "execution_count": null,
   "metadata": {},
   "outputs": [],
   "source": [
    "fig = Figure()\n",
    "ax = Axis(\n",
    "    fig[1, 1],\n",
    "    title = \"Density, left closed domain, right with different boundary conditions\",\n",
    ")\n",
    "lines!(ax, xi1D[1], dens1D)\n",
    "lines!(ax, xi1D[1], dens1D1)\n",
    "display(fig)"
   ]
  },
  {
   "cell_type": "code",
   "execution_count": null,
   "metadata": {},
   "outputs": [],
   "source": [
    "dens1D, LHM, LCV, LSCV =\n",
    "    DIVAnd_heatmap(mask1D, pm1D, xi1D, (xo,), inflation, 0.3; Ladaptiveiterations = 0)\n",
    "dens1D1, LHM, LCV, LSCV = DIVAnd_heatmap(\n",
    "    mask1D,\n",
    "    pm1D,\n",
    "    xi1D,\n",
    "    (xo,),\n",
    "    inflation,\n",
    "    0.3;\n",
    "    Ladaptiveiterations = 0,\n",
    "    alphabc = 0,\n",
    ")\n",
    "#dens1D1i= DIVAnd_heatmap(mask1D,pm1D,xi1D,(xo,),inflation,0.5;Ladaptiveiterations=10)\n",
    "#dens1D[mask1D.==false].=NaN\n",
    "#dens1D1[mask1D.==false].=NaN"
   ]
  },
  {
   "cell_type": "code",
   "execution_count": null,
   "metadata": {},
   "outputs": [],
   "source": [
    "fig = Figure()\n",
    "ax = Axis(\n",
    "    fig[1, 1],\n",
    "    title = \"Density, left closed domain, right with different boundary conditions, L increased\",\n",
    ")\n",
    "lines!(ax, xi1D[1], dens1D)\n",
    "lines!(ax, xi1D[1], dens1D1)\n",
    "display(fig)"
   ]
  }
 ],
 "metadata": {
  "@webio": {
   "lastCommId": null,
   "lastKernelId": null
  },
  "anaconda-cloud": {},
  "kernelspec": {
   "display_name": "Julia 1.11.2",
   "language": "julia",
   "name": "julia-1.11"
  },
  "language_info": {
   "file_extension": ".jl",
   "mimetype": "application/julia",
   "name": "julia",
   "version": "1.11.2"
  }
 },
 "nbformat": 4,
 "nbformat_minor": 4
}
