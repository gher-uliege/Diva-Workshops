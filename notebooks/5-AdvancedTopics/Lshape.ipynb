{
 "cells": [
  {
   "cell_type": "markdown",
   "metadata": {},
   "source": [
    "# The L-shape\n",
    "https://www.sintef.no/globalassets/project/evitameeting/2005/lcurve.pdf\n",
    "\n",
    "## Packages"
   ]
  },
  {
   "cell_type": "code",
   "execution_count": null,
   "metadata": {},
   "outputs": [],
   "source": [
    "using SparseArrays\n",
    "using LinearAlgebra\n",
    "using DIVAnd\n",
    "using Makie, CairoMakie\n",
    "using Statistics\n",
    "using JupyterFormatter\n",
    "# enable_autoformat()"
   ]
  },
  {
   "cell_type": "markdown",
   "metadata": {},
   "source": [
    "## Data"
   ]
  },
  {
   "cell_type": "code",
   "execution_count": null,
   "metadata": {},
   "outputs": [],
   "source": [
    "ND = 100\n",
    "NX = 500\n",
    "\n",
    "len = 0.1\n",
    "# obs. error variance normalized by the background error variance\n",
    "epsilon2 = 1.0\n",
    "\n",
    "fun(x) = 2 * sin.(10 .* x) .+ (0 .- 1) .* x\n",
    "x = 0.5 .+ 0.25 .* randn(ND);\n",
    "f = fun.(x) + 0.1 * randn(ND)\n",
    "# final grid\n",
    "xi = collect(range(0, stop = 1, length = NX));\n",
    "\n",
    "@show size(xi)\n",
    "\n",
    "# all points are valid points\n",
    "mask = trues(size(xi));\n",
    "\n",
    "fi = fun.(xi)\n",
    "\n",
    "pm = ones(size(xi)) / (xi[2] - xi[1]);\n",
    "\n",
    "Ntest = 100\n",
    "ee1 = zeros(Float64, Ntest)\n",
    "ee2 = zeros(Float64, Ntest)\n",
    "ee3 = zeros(Float64, Ntest)\n",
    "epsval = zeros(Float64, Ntest);"
   ]
  },
  {
   "cell_type": "code",
   "execution_count": null,
   "metadata": {},
   "outputs": [],
   "source": [
    "?DIVAnd_norms"
   ]
  },
  {
   "cell_type": "code",
   "execution_count": null,
   "metadata": {},
   "outputs": [],
   "source": [
    "for jjj = 1:Ntest\n",
    "    epsilon2 = 10^(-8.0 + jjj / Ntest * 10)\n",
    "    fi, s = DIVAndrun(mask, (pm,), (xi,), (x,), f, (len,), epsilon2)\n",
    "\n",
    "    #pcolor(xi[:,10,:],zi[:,10,:],fi[:,10,:],shading=\"nearest\"),colorbar()\n",
    "\n",
    "    myz = 2\n",
    "    #pcolor(xi[:,:,myz],yi[:,:,myz],fi[:,:,myz],shading=\"nearest\"),colorbar()\n",
    "\n",
    "    ee1[jjj], ee2[jjj], ee3[jjj], epsval[jjj] = DIVAnd_norms(fi, s)\n",
    "end"
   ]
  },
  {
   "cell_type": "markdown",
   "metadata": {},
   "source": [
    "### Plot for a given value"
   ]
  },
  {
   "cell_type": "code",
   "execution_count": null,
   "metadata": {},
   "outputs": [],
   "source": [
    "mychoice = 70\n",
    "@show log10.(ee2[mychoice] .* (epsval[mychoice])), log10.(ee1[mychoice]), epsval[mychoice]\n",
    "fig = Figure()\n",
    "ax = Axis(\n",
    "    fig[1, 1],\n",
    "    title = \"L-shape, \\$ \\\\log_{10} \\\\epsilon^2 \\$ (error variance on observations) by color\",\n",
    "    xlabel = \"\\$\\\\log_{10} ||H x -yo||^2\\$\",\n",
    "    ylabel = \"\\$\\\\log_{10} ||x||^2\\$\",\n",
    ")\n",
    "sc = scatter!(ax, log10.(ee2 .* (epsval)), log10.(ee1), color = log10.(epsval))\n",
    "scatter!(\n",
    "    ax,\n",
    "    log10.(ee2[mychoice] .* (epsval[mychoice])),\n",
    "    log10.(ee1[mychoice]),\n",
    "    color = :red,\n",
    "    markersize = 12,\n",
    ")\n",
    "Colorbar(fig[1, 2], sc)\n",
    "fig"
   ]
  },
  {
   "cell_type": "code",
   "execution_count": null,
   "metadata": {},
   "outputs": [],
   "source": [
    "fig = Figure()\n",
    "ax = Axis(fig[1, 1], xlabel = \"\\$\\\\log_{10} \\\\epsilon^2\\$\")\n",
    "lines!(ax, log10.(epsval), log10.(ee2 .* epsval))\n",
    "lines!(ax, log10.(epsval), log10.(ee1))\n",
    "scatter!(ax, log10.(epsval[mychoice]), log10.(ee2[mychoice] .* (epsval[mychoice])))\n",
    "scatter!(ax, log10.(epsval[mychoice]), log10.(ee1[mychoice]))\n",
    "fig"
   ]
  },
  {
   "cell_type": "code",
   "execution_count": null,
   "metadata": {},
   "outputs": [],
   "source": [
    "epsilon2 = epsval[mychoice]\n",
    "fi, s = DIVAndrun(mask, (pm,), (xi,), (x,), f, (len,), epsilon2);"
   ]
  },
  {
   "cell_type": "code",
   "execution_count": null,
   "metadata": {},
   "outputs": [],
   "source": [
    "fig = Figure()\n",
    "ax = Axis(fig[1, 1], xlabel = \"\\$\\\\log_{10} \\\\epsilon^2\\$\")\n",
    "lines!(ax, xi, fi, label = \"Interpolated field\")\n",
    "lines!(ax, xi, fun.(xi), label = \"True field\")\n",
    "scatter!(ax, x, f, label = \"Observations\")\n",
    "axislegend()\n",
    "fig"
   ]
  },
  {
   "cell_type": "code",
   "execution_count": null,
   "metadata": {},
   "outputs": [],
   "source": []
  }
 ],
 "metadata": {
  "kernelspec": {
   "display_name": "Julia 1.11.2",
   "language": "julia",
   "name": "julia-1.11"
  },
  "language_info": {
   "file_extension": ".jl",
   "mimetype": "application/julia",
   "name": "julia",
   "version": "1.11.2"
  },
  "toc": {
   "base_numbering": 1,
   "nav_menu": {},
   "number_sections": true,
   "sideBar": true,
   "skip_h1_title": false,
   "title_cell": "Table of Contents",
   "title_sidebar": "Contents",
   "toc_cell": false,
   "toc_position": {},
   "toc_section_display": true,
   "toc_window_display": false
  }
 },
 "nbformat": 4,
 "nbformat_minor": 4
}
