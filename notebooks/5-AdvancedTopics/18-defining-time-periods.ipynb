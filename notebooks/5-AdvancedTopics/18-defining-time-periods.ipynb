{
 "cells": [
  {
   "cell_type": "markdown",
   "metadata": {},
   "source": [
    "# Definining the time periods for the creation of products\n",
    "\n",
    "They are several ways to define the periods over which the climatologies have to be computed.     \n",
    "In this notebook we present different approaches:\n",
    "1. `TimeSelectorYW`,\n",
    "2. `TimeSelectorYearListMonthList` and \n",
    "3. `TimeSelectorRunningAverage`.     \n",
    "\n",
    "The most common is `TimeSelectorYearListMonthList` (which behaves similarly than the `yearlist` and `monthlist` files in the Fortran version of `DIVA`)."
   ]
  },
  {
   "cell_type": "code",
   "execution_count": 1,
   "metadata": {},
   "outputs": [],
   "source": [
    "using DIVAnd\n",
    "using Dates\n",
    "using Statistics"
   ]
  },
  {
   "cell_type": "markdown",
   "metadata": {},
   "source": [
    "## Specify lists of months and of years\n",
    "Use `TimeSelectorYearListMonthList`.      \n",
    "Let's work on two time periods: 1970-1990 and 1991-2010, on a monthly basis"
   ]
  },
  {
   "cell_type": "code",
   "execution_count": 2,
   "metadata": {},
   "outputs": [
    {
     "data": {
      "text/plain": [
       "TimeSelectorYearListMonthList{Vector{Vector{UnitRange{Int64}}}, UnitRange{Int64}}(Vector{UnitRange{Int64}}[[1970:1990], [1991:2010]], 1:12)"
      ]
     },
     "execution_count": 2,
     "metadata": {},
     "output_type": "execute_result"
    }
   ],
   "source": [
    "yearlist = [[1970:1990], [1991:2010]];\n",
    "monthlists = 1:12;\n",
    "TS1 = DIVAnd.TimeSelectorYearListMonthList(yearlist, monthlists)"
   ]
  },
  {
   "cell_type": "code",
   "execution_count": 3,
   "metadata": {},
   "outputs": [
    {
     "name": "stdout",
     "output_type": "stream",
     "text": [
      "length(TS1) = 24\n"
     ]
    }
   ],
   "source": [
    "@show length(TS1);"
   ]
  },
  {
   "cell_type": "markdown",
   "metadata": {},
   "source": [
    "Another example:"
   ]
  },
  {
   "cell_type": "code",
   "execution_count": 4,
   "metadata": {},
   "outputs": [
    {
     "name": "stdout",
     "output_type": "stream",
     "text": [
      "length(TS1b) = 4\n"
     ]
    }
   ],
   "source": [
    "yearlist = [1900:2017]\n",
    "monthlist = [1:3,4:6,7:9,10:12]\n",
    "TS1b = DIVAnd.TimeSelectorYearListMonthList(yearlist,monthlist);\n",
    "@show length(TS1b);"
   ]
  },
  {
   "cell_type": "markdown",
   "metadata": {},
   "source": [
    "Assume that we have a time vector with these dates:"
   ]
  },
  {
   "cell_type": "code",
   "execution_count": 5,
   "metadata": {},
   "outputs": [
    {
     "data": {
      "text/plain": [
       "3-element Vector{DateTime}:\n",
       " 2001-04-01T00:00:00\n",
       " 2002-02-01T00:00:00\n",
       " 2018-03-01T00:00:00"
      ]
     },
     "execution_count": 5,
     "metadata": {},
     "output_type": "execute_result"
    }
   ],
   "source": [
    "obstime = [DateTime(2001,4,1),DateTime(2002,2,1),DateTime(2018,3,1)]"
   ]
  },
  {
   "cell_type": "markdown",
   "metadata": {},
   "source": [
    "Which observation would be used for the first winter analysis?"
   ]
  },
  {
   "cell_type": "code",
   "execution_count": 6,
   "metadata": {},
   "outputs": [
    {
     "data": {
      "text/plain": [
       "3-element BitVector:\n",
       " 0\n",
       " 1\n",
       " 0"
      ]
     },
     "execution_count": 6,
     "metadata": {},
     "output_type": "execute_result"
    }
   ],
   "source": [
    "sel = DIVAnd.select(TS1b,1,obstime)"
   ]
  },
  {
   "cell_type": "code",
   "execution_count": 7,
   "metadata": {},
   "outputs": [
    {
     "data": {
      "text/plain": [
       "1-element Vector{DateTime}:\n",
       " 2002-02-01T00:00:00"
      ]
     },
     "execution_count": 7,
     "metadata": {},
     "output_type": "execute_result"
    }
   ],
   "source": [
    "obstime[sel]"
   ]
  },
  {
   "cell_type": "markdown",
   "metadata": {},
   "source": [
    "Note that a time instance in the \"center\" of a given time interval is given by `DIVAnd.ctimes(TS)`.      \n",
    "These dates are saved in the NetCDF file together with the `climatology_bounds` from the [NetCDF CF convention](http://cfconventions.org/Data/cf-conventions/cf-conventions-1.7/cf-conventions.html#climatological-statistics)."
   ]
  },
  {
   "cell_type": "code",
   "execution_count": 8,
   "metadata": {},
   "outputs": [
    {
     "data": {
      "text/plain": [
       "4-element Vector{DateTime}:\n",
       " 1958-02-16T00:00:00\n",
       " 1958-05-16T00:00:00\n",
       " 1958-08-16T00:00:00\n",
       " 1958-11-16T00:00:00"
      ]
     },
     "execution_count": 8,
     "metadata": {},
     "output_type": "execute_result"
    }
   ],
   "source": [
    "DIVAnd.ctimes(TS1b)"
   ]
  },
  {
   "cell_type": "code",
   "execution_count": 9,
   "metadata": {},
   "outputs": [
    {
     "data": {
      "text/plain": [
       "6-element Vector{UnitRange{Int64}}:\n",
       " 1950:1959\n",
       " 1960:1969\n",
       " 1970:1979\n",
       " 1980:1989\n",
       " 1990:1999\n",
       " 2000:2009"
      ]
     },
     "execution_count": 9,
     "metadata": {},
     "output_type": "execute_result"
    }
   ],
   "source": [
    "yearlist = [y:y+9 for y in 1950:10:2000]"
   ]
  },
  {
   "cell_type": "code",
   "execution_count": 10,
   "metadata": {},
   "outputs": [
    {
     "name": "stdout",
     "output_type": "stream",
     "text": [
      "yearlist2 = Any[1950:1959, 1960:1969, 1970:1979, 1980:1989, 1990:1999, 2000:2009, 2010:2019, 2020:2029]\n"
     ]
    },
    {
     "data": {
      "text/plain": [
       "8-element Vector{Any}:\n",
       " 1950:1959\n",
       " 1960:1969\n",
       " 1970:1979\n",
       " 1980:1989\n",
       " 1990:1999\n",
       " 2000:2009\n",
       " 2010:2019\n",
       " 2020:2029"
      ]
     },
     "execution_count": 10,
     "metadata": {},
     "output_type": "execute_result"
    }
   ],
   "source": [
    "yearlist2 = []\n",
    "for y in 1950:10:2020\n",
    "    push!(yearlist2, y:y+9)\n",
    "end\n",
    "@show yearlist2"
   ]
  },
  {
   "cell_type": "markdown",
   "metadata": {},
   "source": [
    "Note that the duration of every year range is 10 years because the upper bound is inclusive.      \n",
    "The last year range covers the 10 years:"
   ]
  },
  {
   "cell_type": "code",
   "execution_count": 11,
   "metadata": {},
   "outputs": [],
   "source": [
    "collect(yearlist[end])'\n",
    "\n",
    "TS = DIVAnd.TimeSelectorYearListMonthList(yearlist,monthlist);"
   ]
  },
  {
   "cell_type": "markdown",
   "metadata": {},
   "source": [
    "For this time selector, there are now $4 × 6=24$ time slices"
   ]
  },
  {
   "cell_type": "code",
   "execution_count": 12,
   "metadata": {},
   "outputs": [
    {
     "data": {
      "text/plain": [
       "3-element Vector{DateTime}:\n",
       " 1954-02-16T00:00:00\n",
       " 1954-05-16T00:00:00\n",
       " 1954-08-16T00:00:00"
      ]
     },
     "execution_count": 12,
     "metadata": {},
     "output_type": "execute_result"
    }
   ],
   "source": [
    "length(TS)\n",
    "\n",
    "DIVAnd.ctimes(TS)[1:3]"
   ]
  },
  {
   "cell_type": "markdown",
   "metadata": {},
   "source": [
    "## Specify lists of months and years with a time window\n",
    "Use `TimeSelectorYW`.     \n",
    "Let's work with 10-year window periods centered on 1950, 1960, 1970... "
   ]
  },
  {
   "cell_type": "code",
   "execution_count": 13,
   "metadata": {},
   "outputs": [
    {
     "data": {
      "text/plain": [
       "TimeSelectorYearListMonthList{Vector{StepRangeLen{Float64, Base.TwicePrecision{Float64}, Base.TwicePrecision{Float64}, Int64}}, UnitRange{Int64}}(StepRangeLen{Float64, Base.TwicePrecision{Float64}, Base.TwicePrecision{Float64}, Int64}[1945.0:1.0:1955.0, 1955.0:1.0:1965.0, 1965.0:1.0:1975.0, 1975.0:1.0:1985.0, 1985.0:1.0:1995.0, 1995.0:1.0:2005.0, 2005.0:1.0:2015.0], 1:12)"
      ]
     },
     "execution_count": 13,
     "metadata": {},
     "output_type": "execute_result"
    }
   ],
   "source": [
    "years = 1950:10:2010;\n",
    "yearwindow = 10;\n",
    "monthlists = 1:12;\n",
    "TS2 = TimeSelectorYW(years,yearwindow,monthlists)"
   ]
  },
  {
   "cell_type": "markdown",
   "metadata": {},
   "source": [
    "Note that with `TimeSelectorYW`, we can almost obtain the same solution as the 1st case:"
   ]
  },
  {
   "cell_type": "code",
   "execution_count": 14,
   "metadata": {},
   "outputs": [
    {
     "data": {
      "text/plain": [
       "TimeSelectorYearListMonthList{Vector{StepRangeLen{Float64, Base.TwicePrecision{Float64}, Base.TwicePrecision{Float64}, Int64}}, UnitRange{Int64}}(StepRangeLen{Float64, Base.TwicePrecision{Float64}, Base.TwicePrecision{Float64}, Int64}[1970.0:1.0:1990.0, 1990.0:1.0:2010.0], 1:12)"
      ]
     },
     "execution_count": 14,
     "metadata": {},
     "output_type": "execute_result"
    }
   ],
   "source": [
    "TS2b = TimeSelectorYW([1980, 2000], 20, monthlists)"
   ]
  },
  {
   "cell_type": "markdown",
   "metadata": {},
   "source": [
    "## Specify the total year range and the total window\n",
    "The difference with the previous case is that the minimal and maximal years are conserved in the created periods.     \n",
    "Thanks to Lennert (VLIZ) for providing the example and the code.     "
   ]
  },
  {
   "cell_type": "code",
   "execution_count": 15,
   "metadata": {},
   "outputs": [
    {
     "data": {
      "text/plain": [
       "yearlists_ (generic function with 1 method)"
      ]
     },
     "execution_count": 15,
     "metadata": {},
     "output_type": "execute_result"
    }
   ],
   "source": [
    "function yearlists_(dataset_range, total_window_yrs)\n",
    "    # dataset_range = 2000:2012\n",
    "    # total_window_yrs = 10\n",
    "    # will return: [2000:2009, 2001:2010, 2002:2011, 2003:2012]\n",
    "    \n",
    "    n_windows = length(dataset_range) - total_window_yrs + 1\n",
    "    a = Array{UnitRange{Int64}, 1}(undef, n_windows)\n",
    "    \n",
    "    for i = 1:n_windows\n",
    "        a[i] = dataset_range[i]:(dataset_range[i] + total_window_yrs -1)\n",
    "    end\n",
    "    return(a)\n",
    "end"
   ]
  },
  {
   "cell_type": "code",
   "execution_count": 16,
   "metadata": {},
   "outputs": [
    {
     "name": "stdout",
     "output_type": "stream",
     "text": [
      "TS3.yearlists[1] = 1990:1999\n",
      "TS3.yearlists[2] = 1991:2000\n"
     ]
    },
    {
     "data": {
      "text/plain": [
       "1991:2000"
      ]
     },
     "execution_count": 16,
     "metadata": {},
     "output_type": "execute_result"
    }
   ],
   "source": [
    "yearlists = yearlists_(1990:2010, 10);\n",
    "TS3 = TimeSelectorYearListMonthList(yearlists,monthlists)\n",
    "@show(TS3.yearlists[1]);\n",
    "@show(TS3.yearlists[2])"
   ]
  },
  {
   "cell_type": "markdown",
   "metadata": {},
   "source": [
    "## Time aggregation in climatologies\n",
    "\n",
    "For a climatology, there are different ways to aggregate data in time. Common ways are:\n",
    "* monthly climatology, aggregating all observations per month\n",
    "* seasonal climatology\n",
    "* yearly climatology\n",
    "* decadal climatology\n",
    "\n",
    "If the data coverage is sufficient, one can also make a seasonal climatology per decades which allows one to resolve the seasonal cycle and long term changes."
   ]
  },
  {
   "cell_type": "markdown",
   "metadata": {},
   "source": [
    "### Overlapping years\n",
    "\n",
    "Sometimes is it desirable to have overlapping year range to make a climatology similar to a running average.   \n",
    "This can be achieved by a suitable definition of `yearlist`:"
   ]
  },
  {
   "cell_type": "code",
   "execution_count": 17,
   "metadata": {},
   "outputs": [
    {
     "data": {
      "text/plain": [
       "11-element Vector{UnitRange{Int64}}:\n",
       " 1990:1995\n",
       " 1991:1996\n",
       " 1992:1997\n",
       " 1993:1998\n",
       " 1994:1999\n",
       " 1995:2000\n",
       " 1996:2001\n",
       " 1997:2002\n",
       " 1998:2003\n",
       " 1999:2004\n",
       " 2000:2005"
      ]
     },
     "execution_count": 17,
     "metadata": {},
     "output_type": "execute_result"
    }
   ],
   "source": [
    "yearlist = [y:y+5 for y in 1990:2000]"
   ]
  },
  {
   "cell_type": "markdown",
   "metadata": {},
   "source": [
    "Every time slice is a 6-year average form data from the same season and there are $4 × 11=44$ time slices in this example. "
   ]
  },
  {
   "cell_type": "code",
   "execution_count": 18,
   "metadata": {},
   "outputs": [
    {
     "data": {
      "text/plain": [
       "4-element Vector{UnitRange{Int64}}:\n",
       " 1:3\n",
       " 4:6\n",
       " 7:9\n",
       " 10:12"
      ]
     },
     "execution_count": 18,
     "metadata": {},
     "output_type": "execute_result"
    }
   ],
   "source": [
    "monthlist"
   ]
  },
  {
   "cell_type": "code",
   "execution_count": 19,
   "metadata": {},
   "outputs": [
    {
     "data": {
      "text/plain": [
       "44"
      ]
     },
     "execution_count": 19,
     "metadata": {},
     "output_type": "execute_result"
    }
   ],
   "source": [
    "TS = DIVAnd.TimeSelectorYearListMonthList(yearlist,monthlist);\n",
    "length(TS)"
   ]
  },
  {
   "cell_type": "markdown",
   "metadata": {},
   "source": [
    "Since the data is overlapping, the same observation is used in multiple time instances:"
   ]
  },
  {
   "cell_type": "code",
   "execution_count": 20,
   "metadata": {},
   "outputs": [
    {
     "name": "stdout",
     "output_type": "stream",
     "text": [
      "1 observation(s) are used in time slice 21\n",
      "1 observation(s) are used in time slice 25\n",
      "1 observation(s) are used in time slice 29\n",
      "1 observation(s) are used in time slice 33\n",
      "1 observation(s) are used in time slice 37\n",
      "1 observation(s) are used in time slice 41\n"
     ]
    }
   ],
   "source": [
    "obstime = [DateTime(2000,1,1)]\n",
    "for n = 1:length(TS)\n",
    "    nobs = sum(DIVAnd.select(TS,n,obstime))\n",
    "    if nobs > 0\n",
    "        println(\"$nobs observation(s) are used in time slice $n\")\n",
    "    end\n",
    "end"
   ]
  },
  {
   "cell_type": "markdown",
   "metadata": {},
   "source": [
    "As expected an observation is used 6 times."
   ]
  }
 ],
 "metadata": {
  "@webio": {
   "lastCommId": null,
   "lastKernelId": null
  },
  "kernelspec": {
   "display_name": "Julia 1.11.2",
   "language": "julia",
   "name": "julia-1.11"
  },
  "language_info": {
   "file_extension": ".jl",
   "mimetype": "application/julia",
   "name": "julia",
   "version": "1.11.2"
  },
  "toc": {
   "base_numbering": 1,
   "nav_menu": {},
   "number_sections": true,
   "sideBar": true,
   "skip_h1_title": false,
   "title_cell": "Table of Contents",
   "title_sidebar": "Contents",
   "toc_cell": false,
   "toc_position": {},
   "toc_section_display": true,
   "toc_window_display": false
  }
 },
 "nbformat": 4,
 "nbformat_minor": 2
}
