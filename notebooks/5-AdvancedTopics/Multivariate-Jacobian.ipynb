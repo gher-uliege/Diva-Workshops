{
 "cells": [
  {
   "cell_type": "markdown",
   "metadata": {},
   "source": [
    "# DIVAnd multivariate - Jacobian approach\n",
    "This notebook shows a synthetic example of how the _multivariate_ analysis implemented in `DIVAnd`  works.<br>\n",
    "Here the so-called Jacobian approach is used, while in [`DIVAndmultivar`](DIVAndmultivar.ipynb) the EOF approach is demonstrated.\n",
    "## Packages"
   ]
  },
  {
   "cell_type": "code",
   "execution_count": null,
   "metadata": {},
   "outputs": [],
   "source": [
    "using DIVAnd\n",
    "using Makie, CairoMakie\n",
    "using LinearAlgebra\n",
    "using Statistics"
   ]
  },
  {
   "cell_type": "markdown",
   "metadata": {},
   "source": [
    "## Create synthetic observations"
   ]
  },
  {
   "cell_type": "code",
   "execution_count": null,
   "metadata": {},
   "outputs": [],
   "source": [
    "ND = 559\n",
    "NX = 200\n",
    "NY = 250\n",
    "NV = 2\n",
    "len = 0.2\n",
    "# obs. error variance normalized by the background error variance\n",
    "epsilon2 = 1.0;\n",
    "\n",
    "# function to interpolate\n",
    "fun(x, y, v) = 2 * (sin.(6x) * cos.(6y)) * (1.5 - v) .+ (v .- 1.0) .* x .* y"
   ]
  },
  {
   "cell_type": "markdown",
   "metadata": {},
   "source": [
    "### Observations"
   ]
  },
  {
   "cell_type": "code",
   "execution_count": null,
   "metadata": {},
   "outputs": [],
   "source": [
    "x = 0.5 .+ 0.25 .* randn(ND);\n",
    "y = 0.5 .+ 0.25 .* randn(ND);\n",
    "v = mod.(rand(Int, ND), 20) .+ 1\n",
    "v[v.>1.3] .= 2\n",
    "\n",
    "x[v.>1.5] .+= 0.2\n",
    "x[v.<1.5] .+= -0.2\n",
    "f = fun.(x, y, v) + 0.2 * randn(ND)\n",
    "# final grid\n",
    "xi, yi, vi = ndgrid(range(0, stop = 1, length = NX), range(0, stop = 1, length = NY), 1:2);\n",
    "\n",
    "# reference field\n",
    "fref = fun.(xi, yi, vi)\n",
    "\n",
    "# all points are valid points\n",
    "mask = trues(size(xi));\n",
    "\n",
    "mask[10:30, 20:50, :] .= false\n",
    "\n",
    "# this problem has a simple cartesian metric\n",
    "# pm is the inverse of the resolution along the 1st dimension\n",
    "# pn is the inverse of the resolution along the 2nd dimension\n",
    "\n",
    "pm = ones(size(xi)) / (xi[2, 1, 1] - xi[1, 1, 1]);\n",
    "pn = ones(size(xi)) / (yi[1, 2, 1] - yi[1, 1, 1]);\n",
    "pv = ones(size(xi)) / (vi[1, 1, 2] - vi[1, 1, 1]);"
   ]
  },
  {
   "cell_type": "code",
   "execution_count": null,
   "metadata": {},
   "outputs": [],
   "source": [
    "# fi is the interpolated field\n",
    "@time fi, s =\n",
    "    DIVAndrun(mask, (pm, pn, pv), (xi, yi, vi), (x, y, v), f, (len, len, 0.0), epsilon2);"
   ]
  },
  {
   "cell_type": "code",
   "execution_count": null,
   "metadata": {},
   "outputs": [],
   "source": [
    "fig = Figure(size = (900, 400))\n",
    "ax = Axis(fig[1, 1], aspect = 1, title = \"Variable #1\")\n",
    "hm = heatmap!(\n",
    "    ax,\n",
    "    xi[:, 1, 1],\n",
    "    yi[1, :, 1],\n",
    "    fi[:, :, 1],\n",
    "    colorrange = [-1, 1],\n",
    "    colormap = Reverse(:RdYlBu),\n",
    ")\n",
    "scatter!(ax, x[v.<1.5], y[v.<1.5], color = :black, markersize = 3)\n",
    "xlims!(ax, 0, 1)\n",
    "ylims!(ax, 0, 1)\n",
    "Colorbar(fig[1, 2], hm)\n",
    "\n",
    "ax2 = Axis(fig[1, 3], aspect = 1, title = \"Variable #2\")\n",
    "hm2 = heatmap!(\n",
    "    ax2,\n",
    "    xi[:, 1, 2],\n",
    "    yi[1, :, 2],\n",
    "    fi[:, :, 2],\n",
    "    colorrange = [-1, 1],\n",
    "    colormap = Reverse(:RdYlBu),\n",
    ")\n",
    "scatter!(ax2, x[v.>1.5], y[v.>1.5], color = :black, markersize = 3)\n",
    "Colorbar(fig[1, 4], hm2)\n",
    "xlims!(ax2, 0, 1)\n",
    "ylims!(ax2, 0, 1)\n",
    "fig"
   ]
  },
  {
   "cell_type": "code",
   "execution_count": null,
   "metadata": {},
   "outputs": [],
   "source": [
    "len = 0.2 * ones(Float64, size(mask));"
   ]
  },
  {
   "cell_type": "code",
   "execution_count": null,
   "metadata": {},
   "outputs": [],
   "source": [
    "@time fim, s, emap, emapm, pv = DIVAnd_multivarJAC(\n",
    "    mask,\n",
    "    (pm, pn, pv),\n",
    "    (xi, yi, vi),\n",
    "    (x, y, v),\n",
    "    f,\n",
    "    (len, len, 0.0 .* len),\n",
    "    epsilon2;\n",
    "    epsilon2jacobian = (1.0, 10.0),\n",
    ");"
   ]
  },
  {
   "cell_type": "markdown",
   "metadata": {},
   "source": [
    "### Plot the 2 variables"
   ]
  },
  {
   "cell_type": "code",
   "execution_count": null,
   "metadata": {},
   "outputs": [],
   "source": [
    "fig = Figure(size = (900, 400))\n",
    "ax = Axis(fig[1, 1], aspect = 1, title = \"Variable #1\")\n",
    "hm = heatmap!(\n",
    "    ax,\n",
    "    xi[:, 1, 1],\n",
    "    yi[1, :, 1],\n",
    "    fim[:, :, 1],\n",
    "    colorrange = [-1, 1],\n",
    "    colormap = Reverse(:RdYlBu),\n",
    ")\n",
    "scatter!(ax, x[v.<1.5], y[v.<1.5], color = :black, markersize = 3)\n",
    "xlims!(ax, 0, 1)\n",
    "ylims!(ax, 0, 1)\n",
    "Colorbar(fig[1, 2], hm)\n",
    "\n",
    "ax2 = Axis(fig[1, 3], aspect = 1, title = \"Variable #2\")\n",
    "hm2 = heatmap!(\n",
    "    ax2,\n",
    "    xi[:, 1, 2],\n",
    "    yi[1, :, 2],\n",
    "    fim[:, :, 2],\n",
    "    colorrange = [-1, 1],\n",
    "    colormap = Reverse(:RdYlBu),\n",
    ")\n",
    "scatter!(ax2, x[v.>1.5], y[v.>1.5], color = :black, markersize = 3)\n",
    "Colorbar(fig[1, 4], hm2)\n",
    "xlims!(ax2, 0, 1)\n",
    "ylims!(ax2, 0, 1)\n",
    "fig"
   ]
  },
  {
   "cell_type": "markdown",
   "metadata": {},
   "source": [
    "## Compute some statistics"
   ]
  },
  {
   "cell_type": "code",
   "execution_count": null,
   "metadata": {},
   "outputs": [],
   "source": [
    "function nanvar(f)\n",
    "    return var(f[.!isnan.(f)])\n",
    "end\n",
    "\n",
    "@show nanvar(fi - fref), nanvar(fim - fref)\n",
    "@show nanvar(fim[:, :, 1] - fref[:, :, 1])\n",
    "@show nanvar(fi[:, :, 1] - fref[:, :, 1])\n",
    "@show nanvar(fim[:, :, 2] - fref[:, :, 2])\n",
    "@show nanvar(fi[:, :, 2] - fref[:, :, 2])"
   ]
  },
  {
   "cell_type": "code",
   "execution_count": null,
   "metadata": {},
   "outputs": [],
   "source": [
    "@show extrema(fref), extrema(f), extrema(fi), extrema(fim)"
   ]
  },
  {
   "cell_type": "markdown",
   "metadata": {},
   "source": [
    "## Error fields"
   ]
  },
  {
   "cell_type": "code",
   "execution_count": null,
   "metadata": {},
   "outputs": [],
   "source": [
    "fig = Figure(size = (1000, 300))\n",
    "ax = Axis(fig[1, 1], aspect = 1, title = \"Error field, variable #1, simple approach\")\n",
    "hm = heatmap!(\n",
    "    ax,\n",
    "    xi[:, 1, 1],\n",
    "    yi[1, :, 1],\n",
    "    emap[:, :, 1],\n",
    "    colorrange = [0, 1],\n",
    "    colormap = Reverse(:hot),\n",
    ")\n",
    "scatter!(ax, x[v.<1.5], y[v.<1.5], color = :black, markersize = 3)\n",
    "xlims!(ax, 0, 1)\n",
    "ylims!(ax, 0, 1)\n",
    "Colorbar(fig[1, 2], hm)\n",
    "\n",
    "ax2 = Axis(fig[1, 3], aspect = 1, title = \"Error field, variable #2, simple approach\")\n",
    "hm2 = heatmap!(\n",
    "    ax2,\n",
    "    xi[:, 1, 2],\n",
    "    yi[1, :, 2],\n",
    "    emap[:, :, 2],\n",
    "    colorrange = [0, 1],\n",
    "    colormap = Reverse(:hot),\n",
    ")\n",
    "scatter!(ax2, x[v.>1.5], y[v.>1.5], color = :black, markersize = 3)\n",
    "Colorbar(fig[1, 4], hm2)\n",
    "xlims!(ax2, 0, 1)\n",
    "ylims!(ax2, 0, 1)\n",
    "\n",
    "ax3 = Axis(fig[1, 5], aspect = 1, title = \"Error field, variable #1, multivariate approach\")\n",
    "hm3 = heatmap!(\n",
    "    ax3,\n",
    "    xi[:, 1, 1],\n",
    "    yi[1, :, 1],\n",
    "    emapm[:, :, 1],\n",
    "    colorrange = [0, 1],\n",
    "    colormap = Reverse(:hot),\n",
    ")\n",
    "scatter!(ax3, x[v.<1.5], y[v.<1.5], color = :black, markersize = 3)\n",
    "Colorbar(fig[1, 6], hm3)\n",
    "xlims!(ax3, 0, 1)\n",
    "ylims!(ax3, 0, 1)\n",
    "\n",
    "fig"
   ]
  },
  {
   "cell_type": "code",
   "execution_count": null,
   "metadata": {},
   "outputs": [],
   "source": [
    "@show var(emap - emapm), var(emap)"
   ]
  },
  {
   "cell_type": "code",
   "execution_count": null,
   "metadata": {},
   "outputs": [],
   "source": [
    "fig = Figure(size = (900, 400))\n",
    "ax = Axis(\n",
    "    fig[1, 1],\n",
    "    aspect = 1,\n",
    "    title = \"Variable #1, difference between simple\\n and multivariate error field\",\n",
    ")\n",
    "hm = heatmap!(\n",
    "    ax,\n",
    "    xi[:, 1, 1],\n",
    "    yi[1, :, 1],\n",
    "    emap[:, :, 1] - emapm[:, :, 1],\n",
    "    colormap = Reverse(:RdBu),\n",
    ")\n",
    "xlims!(ax, 0, 1)\n",
    "ylims!(ax, 0, 1)\n",
    "Colorbar(fig[1, 2], hm)\n",
    "\n",
    "ax2 = Axis(\n",
    "    fig[1, 3],\n",
    "    aspect = 1,\n",
    "    title = \"Variable #2, difference between simple\\n and multivariate error field\",\n",
    ")\n",
    "hm2 = heatmap!(\n",
    "    ax2,\n",
    "    xi[:, 1, 1],\n",
    "    yi[1, :, 1],\n",
    "    emap[:, :, 2] - emapm[:, :, 2],\n",
    "    colormap = Reverse(:RdBu),\n",
    ")\n",
    "Colorbar(fig[1, 4], hm2)\n",
    "xlims!(ax2, 0, 1)\n",
    "ylims!(ax2, 0, 1)\n",
    "fig"
   ]
  },
  {
   "cell_type": "markdown",
   "metadata": {},
   "source": [
    "## Display the pseudovelocity field\n",
    "The last output `pv` of \n",
    "[`DIVAnd_multivarJAC`](https://github.com/gher-uliege/DIVAnd.jl/blob/master/src/DIVAnd_multivarJAC.jl) provides an _advection_ field that _guided_ the analysis."
   ]
  },
  {
   "cell_type": "code",
   "execution_count": null,
   "metadata": {},
   "outputs": [],
   "source": [
    "fig = Figure();\n",
    "r = 2;\n",
    "ax = Axis(fig[1, 1], aspect = 1, title = \"\")\n",
    "arrows!(\n",
    "    ax,\n",
    "    xi[1:r:end, 1, 1],\n",
    "    yi[1, 1:r:end, 1],\n",
    "    pv[1][1:r:end, 1:r:end, 1],\n",
    "    pv[2][1:r:end, 1:r:end, 1],\n",
    "    arrowsize = 4,\n",
    "    lengthscale = 0.05,\n",
    ")\n",
    "fig"
   ]
  },
  {
   "cell_type": "code",
   "execution_count": null,
   "metadata": {},
   "outputs": [],
   "source": [
    "@show var(pv[1][:, :, 1]), var(pv[1][:, :, 2])"
   ]
  }
 ],
 "metadata": {
  "kernelspec": {
   "display_name": "Julia 1.11.2",
   "language": "julia",
   "name": "julia-1.11"
  },
  "language_info": {
   "file_extension": ".jl",
   "mimetype": "application/julia",
   "name": "julia",
   "version": "1.11.2"
  }
 },
 "nbformat": 4,
 "nbformat_minor": 4
}
