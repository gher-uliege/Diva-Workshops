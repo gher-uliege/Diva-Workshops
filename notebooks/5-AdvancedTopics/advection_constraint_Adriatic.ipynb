{
 "cells": [
  {
   "cell_type": "markdown",
   "metadata": {},
   "source": [
    "# Analysis with currents from CMEMS\n",
    "\n",
    "Here we will use currents from [CMEMS](https://marine.copernicus.eu/) to illustrate the use of an advection constrain.      \n",
    "The data access is now provided through the Copernicus [Marine Data Store](https://marine.copernicus.eu/news/introducing-new-copernicus-marine-data-store) (the `motu` client has been discontinued since April 2024).\n",
    "\n",
    "In this application we use a subset of the CMEMS data for the year 2018.\n",
    "## Load modules"
   ]
  },
  {
   "cell_type": "code",
   "execution_count": 1,
   "metadata": {},
   "outputs": [
    {
     "ename": "LoadError",
     "evalue": "ArgumentError: Package JupyterFormatter [b8b539d8-55b4-4e60-a505-d7876c054e58] is required but does not seem to be installed:\n - Run `Pkg.instantiate()` to install all recorded dependencies.\n",
     "output_type": "error",
     "traceback": [
      "ArgumentError: Package JupyterFormatter [b8b539d8-55b4-4e60-a505-d7876c054e58] is required but does not seem to be installed:\n - Run `Pkg.instantiate()` to install all recorded dependencies.\n",
      "",
      "Stacktrace:",
      "  [1] _require(pkg::Base.PkgId, env::String)",
      "    @ Base ./loading.jl:2515",
      "  [2] __require_prelocked(uuidkey::Base.PkgId, env::String)",
      "    @ Base ./loading.jl:2388",
      "  [3] #invoke_in_world#3",
      "    @ ./essentials.jl:1089 [inlined]",
      "  [4] invoke_in_world",
      "    @ ./essentials.jl:1086 [inlined]",
      "  [5] _require_prelocked(uuidkey::Base.PkgId, env::String)",
      "    @ Base ./loading.jl:2375",
      "  [6] macro expansion",
      "    @ ./loading.jl:2314 [inlined]",
      "  [7] macro expansion",
      "    @ ./lock.jl:273 [inlined]",
      "  [8] __require(into::Module, mod::Symbol)",
      "    @ Base ./loading.jl:2271",
      "  [9] #invoke_in_world#3",
      "    @ ./essentials.jl:1089 [inlined]",
      " [10] invoke_in_world",
      "    @ ./essentials.jl:1086 [inlined]",
      " [11] require(into::Module, mod::Symbol)",
      "    @ Base ./loading.jl:2260"
     ]
    }
   ],
   "source": [
    "using NCDatasets\n",
    "using DIVAnd\n",
    "using Makie, CairoMakie, GeoMakie\n",
    "using Dates\n",
    "using Statistics\n",
    "using JupyterFormatter\n",
    "enable_autoformat()\n",
    "include(\"../config.jl\")"
   ]
  },
  {
   "cell_type": "code",
   "execution_count": null,
   "metadata": {},
   "outputs": [],
   "source": []
  },
  {
   "cell_type": "code",
   "execution_count": 2,
   "metadata": {},
   "outputs": [
    {
     "data": {
      "text/plain": [
       "\"../output/\""
      ]
     },
     "execution_count": 2,
     "metadata": {},
     "output_type": "execute_result"
    }
   ],
   "source": [
    "varname = \"Salinity\"\n",
    "outputdir = \"../output/\""
   ]
  },
  {
   "cell_type": "markdown",
   "metadata": {},
   "source": [
    "## Set domain\n",
    "The domain is identifical to the full example notebook."
   ]
  },
  {
   "cell_type": "code",
   "execution_count": 3,
   "metadata": {},
   "outputs": [],
   "source": [
    "dx, dy = 0.125, 0.125\n",
    "lonr = 11.5:dx:20\n",
    "latr = 39:dy:46\n",
    "depthr = [0.0, 10.0, 20.0];"
   ]
  },
  {
   "cell_type": "markdown",
   "metadata": {},
   "source": [
    "## Load data\n",
    "### Observations\n",
    "We work with salinity measurements from SeaDataNet."
   ]
  },
  {
   "cell_type": "code",
   "execution_count": 4,
   "metadata": {},
   "outputs": [
    {
     "ename": "LoadError",
     "evalue": "UndefVarError: `download_check` not defined in `Main`\nSuggestion: check for spelling errors or missing imports.",
     "output_type": "error",
     "traceback": [
      "UndefVarError: `download_check` not defined in `Main`\nSuggestion: check for spelling errors or missing imports.",
      "",
      "Stacktrace:",
      " [1] top-level scope",
      "   @ In[4]:1"
     ]
    }
   ],
   "source": [
    "download_check(largeadriaticfile, largeadriaticfileURL)\n",
    "@time obsval, obslon, obslat, obsdepth, obstime, obsid = ODVspreadsheet.load(\n",
    "    Float64,\n",
    "    [largeadriaticfile],\n",
    "    [\"Water body salinity\"];\n",
    "    nametype = :localname,\n",
    ");\n",
    "\n",
    "checkobs((obslon, obslat, obsdepth, obstime), obsval, obsid)"
   ]
  },
  {
   "cell_type": "markdown",
   "metadata": {},
   "source": [
    "Perform a simple range check."
   ]
  },
  {
   "cell_type": "code",
   "execution_count": 5,
   "metadata": {},
   "outputs": [
    {
     "ename": "LoadError",
     "evalue": "UndefVarError: `obsval` not defined in `Main`\nSuggestion: check for spelling errors or missing imports.",
     "output_type": "error",
     "traceback": [
      "UndefVarError: `obsval` not defined in `Main`\nSuggestion: check for spelling errors or missing imports.",
      "",
      "Stacktrace:",
      " [1] top-level scope",
      "   @ In[5]:1"
     ]
    }
   ],
   "source": [
    "sel = (obsval .<= 40) .& (obsval .>= 25);\n",
    "\n",
    "obsval = obsval[sel]\n",
    "obslon = obslon[sel]\n",
    "obslat = obslat[sel]\n",
    "obsdepth = obsdepth[sel]\n",
    "obstime = obstime[sel]\n",
    "obsid = obsid[sel];"
   ]
  },
  {
   "cell_type": "markdown",
   "metadata": {},
   "source": [
    "### Velocity\n",
    "For simplicity we download an already prepared netCDF file storing the velocity."
   ]
  },
  {
   "cell_type": "code",
   "execution_count": 6,
   "metadata": {},
   "outputs": [
    {
     "ename": "LoadError",
     "evalue": "UndefVarError: `download_check` not defined in `Main`\nSuggestion: check for spelling errors or missing imports.",
     "output_type": "error",
     "traceback": [
      "UndefVarError: `download_check` not defined in `Main`\nSuggestion: check for spelling errors or missing imports.",
      "",
      "Stacktrace:",
      " [1] top-level scope",
      "   @ In[6]:1"
     ]
    }
   ],
   "source": [
    "download_check(velfilename, velfilenameURL)\n",
    "\n",
    "yearlist = [1900:2017];\n",
    "monthlist = [[1,2,3],[4,5,6],[7,8,9],[10,11,12]];\n",
    "monthlist = [[1,2,3]];\n",
    "TSvelocity = DIVAnd.TimeSelectorYearListMonthList(yearlist,monthlist);\n",
    "\n",
    "varnames = (\"vozocrtx\",\"vomecrty\")\n",
    "outvarnames = (\"u\",\"v\")\n",
    "outfilevel = joinpath(outputdir, \"average-currents.nc\")\n",
    "\n",
    "if isfile(outfilevel)\n",
    "    rm(outfilevel)\n",
    "end"
   ]
  },
  {
   "cell_type": "markdown",
   "metadata": {},
   "source": [
    "We use the function `DIVAnd.average_files` to average the gridded variables from the a set of netCDF files over the selected time period. The first argument of `DIVAnd.average_files` can also be a list of filenames."
   ]
  },
  {
   "cell_type": "code",
   "execution_count": 7,
   "metadata": {},
   "outputs": [
    {
     "ename": "LoadError",
     "evalue": "UndefVarError: `velfilename` not defined in `Main`\nSuggestion: check for spelling errors or missing imports.",
     "output_type": "error",
     "traceback": [
      "UndefVarError: `velfilename` not defined in `Main`\nSuggestion: check for spelling errors or missing imports.",
      "",
      "Stacktrace:",
      " [1] top-level scope",
      "   @ In[7]:1"
     ]
    }
   ],
   "source": [
    "DIVAnd.average_files([velfilename],varnames,TSvelocity,outfilevel,outvarnames)"
   ]
  },
  {
   "cell_type": "markdown",
   "metadata": {},
   "source": [
    "### Load the bathymetry"
   ]
  },
  {
   "cell_type": "code",
   "execution_count": 8,
   "metadata": {},
   "outputs": [
    {
     "ename": "LoadError",
     "evalue": "UndefVarError: `gebco08file` not defined in `Main`\nSuggestion: check for spelling errors or missing imports.",
     "output_type": "error",
     "traceback": [
      "UndefVarError: `gebco08file` not defined in `Main`\nSuggestion: check for spelling errors or missing imports.",
      "",
      "Stacktrace:",
      " [1] top-level scope",
      "   @ In[8]:1"
     ]
    }
   ],
   "source": [
    "bathname = gebco08file\n",
    "download_check(gebco08file, gebco08fileURL)\n",
    "bx,by,b = load_bath(bathname,true,lonr,latr);\n",
    "_,_, mask = load_mask(bathname,true,lonr,latr,depthr)"
   ]
  },
  {
   "cell_type": "markdown",
   "metadata": {},
   "source": [
    "### Prepare the mask"
   ]
  },
  {
   "cell_type": "code",
   "execution_count": 9,
   "metadata": {},
   "outputs": [
    {
     "ename": "LoadError",
     "evalue": "UndefVarError: `b` not defined in `Main`\nSuggestion: check for spelling errors or missing imports.",
     "output_type": "error",
     "traceback": [
      "UndefVarError: `b` not defined in `Main`\nSuggestion: check for spelling errors or missing imports.",
      "",
      "Stacktrace:",
      " [1] top-level scope",
      "   @ In[9]:1"
     ]
    }
   ],
   "source": [
    "mask = falses(size(b,1),size(b,2),length(depthr))\n",
    "for k = 1:length(depthr)\n",
    "    for j = 1:size(b,2)\n",
    "        for i = 1:size(b,1)\n",
    "            mask[i,j,k] = b[i,j] >= depthr[k]\n",
    "        end\n",
    "    end\n",
    "end\n",
    "@show size(mask)\n",
    "\n",
    "grid_bx = [i for i in bx, j in by];\n",
    "grid_by = [j for i in bx, j in by];\n",
    "\n",
    "mask_edit = copy(mask);\n",
    "sel_mask1 = (grid_by .<= 42.6) .& (grid_bx .<= 14.);\n",
    "sel_mask2 = (grid_by .<= 41.2) .& (grid_bx .<= 16.2);\n",
    "mask_edit = mask_edit .* .!sel_mask1 .* .!sel_mask2;\n",
    "@show size(mask_edit)"
   ]
  },
  {
   "cell_type": "markdown",
   "metadata": {},
   "source": [
    "### Read the winter average"
   ]
  },
  {
   "cell_type": "code",
   "execution_count": 10,
   "metadata": {},
   "outputs": [
    {
     "ename": "LoadError",
     "evalue": "UndefVarError: `outfilevel` not defined in `Main`\nSuggestion: check for spelling errors or missing imports.",
     "output_type": "error",
     "traceback": [
      "UndefVarError: `outfilevel` not defined in `Main`\nSuggestion: check for spelling errors or missing imports.",
      "",
      "Stacktrace:",
      " [1] top-level scope",
      "   @ In[10]:1"
     ]
    }
   ],
   "source": [
    "ds = Dataset(outfilevel);\n",
    "u = nomissing(ds[\"u\"][:,:,1,1],NaN);\n",
    "v = nomissing(ds[\"v\"][:,:,1,1],NaN);\n",
    "uvlon = nomissing(ds[\"lon\"][:]);\n",
    "uvlat = nomissing(ds[\"lat\"][:])\n",
    "close(ds)"
   ]
  },
  {
   "cell_type": "markdown",
   "metadata": {},
   "source": [
    "### Make plot"
   ]
  },
  {
   "cell_type": "code",
   "execution_count": 11,
   "metadata": {},
   "outputs": [
    {
     "ename": "LoadError",
     "evalue": "UndefVarError: `mask_edit` not defined in `Main`\nSuggestion: check for spelling errors or missing imports.",
     "output_type": "error",
     "traceback": [
      "UndefVarError: `mask_edit` not defined in `Main`\nSuggestion: check for spelling errors or missing imports.",
      "",
      "Stacktrace:",
      " [1] top-level scope",
      "   @ In[11]:5"
     ]
    }
   ],
   "source": [
    "fig = Figure();\n",
    "r = 2; \n",
    "ga = GeoAxis(fig[1,1];  dest = \"+proj=merc\", title = \"Velocity field\", \n",
    "    xticks=8:4:20, yticks=38:2:46)\n",
    "heatmap!(ga, bx, by, mask_edit[:,:,1], colormap=Reverse(:binary))\n",
    "arrows!(ga, uvlon[1:r:end], uvlat[1:r:end], u[1:r:end,1:r:end], v[1:r:end,1:r:end], \n",
    "    arrowsize = 4, lengthscale = 4)\n",
    "xlims!(lonr[1], lonr[end])\n",
    "ylims!(latr[1], latr[end])\n",
    "# Reference vector\n",
    "arrows!(ga, [18.], [44.5], [0.25], [0.], color=:white, arrowsize = 4, lengthscale = 4)\n",
    "text!(ga, 18, 44.6, text = \"0.25 m/s\", color=:white)\n",
    "fig"
   ]
  },
  {
   "cell_type": "markdown",
   "metadata": {},
   "source": [
    "## Analysis\n",
    "### Set parameter values"
   ]
  },
  {
   "cell_type": "code",
   "execution_count": 12,
   "metadata": {},
   "outputs": [
    {
     "data": {
      "text/plain": [
       "\"../output/Water_body_Salinity_Adriatic_advection_constraint.4Danl.nc\""
      ]
     },
     "execution_count": 12,
     "metadata": {},
     "output_type": "execute_result"
    }
   ],
   "source": [
    "#@time rdiag=1.0./DIVAnd.weight_RtimesOne((obslon,obslat),(0.03,0.03));\n",
    "#@show maximum(rdiag),mean(rdiag)\n",
    "\n",
    "sz = (length(lonr),length(latr),length(depthr));\n",
    "lenx = fill(100_000.,sz)   # 100 km\n",
    "leny = fill(100_000.,sz)   # 100 km\n",
    "lenz = fill(25.,sz);      # 25 m\n",
    "len = (lenx, leny, lenz);\n",
    "epsilon2 = 0.1;\n",
    "#epsilon2 = epsilon2 * rdiag;\n",
    "\n",
    "outputfile = joinpath(outputdir, \"Water_body_$(varname)_Adriatic_advection_constraint.4Danl.nc\")"
   ]
  },
  {
   "cell_type": "markdown",
   "metadata": {},
   "source": [
    "### Define function to create plots"
   ]
  },
  {
   "cell_type": "code",
   "execution_count": 13,
   "metadata": {},
   "outputs": [],
   "source": [
    "figdir = \"../figures/Adriatic/\"\n",
    "isdir(figdir) ? @debug(\"Figure directory already exists\") : mkpath(figdir)"
   ]
  },
  {
   "cell_type": "code",
   "execution_count": 14,
   "metadata": {},
   "outputs": [
    {
     "data": {
      "text/plain": [
       "plotres (generic function with 1 method)"
      ]
     },
     "execution_count": 14,
     "metadata": {},
     "output_type": "execute_result"
    }
   ],
   "source": [
    "function plotres(timeindex,sel,fit,erri)\n",
    "    tmp = copy(fit)\n",
    "    tmp[erri .> .5] .= NaN;\n",
    "    \n",
    "    for i in 1:length(depthr)\n",
    "        fig = Figure(size = (600, 400))\n",
    "\n",
    "        # select the data near the surface\n",
    "        selsurface = (obsdepth .< 5)\n",
    "        vmin,vmax = quantile(obsval[selsurface],(0.01,0.99))\n",
    "\n",
    "        # plot the data\n",
    "        ga = GeoAxis(fig[1, 1];  dest = \"+proj=merc\", title = \"Salinity at $(depthr[i]) m\")\n",
    "        heatmap!(ga, lonr, latr, mask_edit[:,:,1], colormap=Reverse(:binary))\n",
    "        hm = heatmap!(ga, lonr, latr, tmp[:,:,i], colorrange=[33., 40.], colormap=:haline)\n",
    "\n",
    "        xlims!(ga, (lonr[1], lonr[end]))\n",
    "        ylims!(ga, (latr[1], latr[end]))\n",
    "        Colorbar(fig[2, 1], hm, vertical = false)\n",
    "\n",
    "        figname = varname * lpad(i, 2, '0') * lpad(timeindex, 3, '0') * \"_advection_constraint.png\"\n",
    "        save(joinpath(figdir, figname), fig)\n",
    "        display(fig)\n",
    "    end\n",
    "end"
   ]
  },
  {
   "cell_type": "markdown",
   "metadata": {},
   "source": [
    "### Run analysis using velocity from file\n",
    "We use the function `DIVAnd.velocityfile`, which allows one to specify the velocity field used for the advection constrain."
   ]
  },
  {
   "cell_type": "code",
   "execution_count": 15,
   "metadata": {},
   "outputs": [],
   "source": [
    "# ?DIVAnd.velocityfile"
   ]
  },
  {
   "cell_type": "code",
   "execution_count": 16,
   "metadata": {},
   "outputs": [
    {
     "ename": "LoadError",
     "evalue": "UndefVarError: `TSvelocity` not defined in `Main`\nSuggestion: check for spelling errors or missing imports.",
     "output_type": "error",
     "traceback": [
      "UndefVarError: `TSvelocity` not defined in `Main`\nSuggestion: check for spelling errors or missing imports.",
      "",
      "Stacktrace:",
      " [1] top-level scope",
      "   @ In[16]:1"
     ]
    }
   ],
   "source": [
    "TS = TSvelocity\n",
    "isfile(outputfile) ? rm(outputfile) : @debug(\"Output file doesn't exist\")\n",
    "\n",
    "@time dbinfo = diva3d((lonr,latr,depthr,TS),\n",
    "                      (obslon,obslat,obsdepth,obstime), obsval,\n",
    "                      len, epsilon2 / 50,\n",
    "                      outputfile,varname,\n",
    "                      bathname=bathname,\n",
    "                      plotres = plotres,\n",
    "                      mask = mask_edit,\n",
    "                      fitcorrlen = false,\n",
    "                      surfextend = true,\n",
    "                      velocity = DIVAnd.velocityfile(outfilevel,(\"u\",\"v\"),TSvelocity,24*60*60*10),\n",
    "                      );"
   ]
  },
  {
   "cell_type": "code",
   "execution_count": null,
   "metadata": {},
   "outputs": [],
   "source": []
  }
 ],
 "metadata": {
  "kernelspec": {
   "display_name": "Julia 1.11.2",
   "language": "julia",
   "name": "julia-1.11"
  },
  "language_info": {
   "file_extension": ".jl",
   "mimetype": "application/julia",
   "name": "julia",
   "version": "1.11.2"
  },
  "toc": {
   "base_numbering": 1,
   "nav_menu": {},
   "number_sections": true,
   "sideBar": true,
   "skip_h1_title": false,
   "title_cell": "Table of Contents",
   "title_sidebar": "Contents",
   "toc_cell": false,
   "toc_position": {},
   "toc_section_display": true,
   "toc_window_display": false
  }
 },
 "nbformat": 4,
 "nbformat_minor": 4
}
