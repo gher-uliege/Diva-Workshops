{
 "cells": [
  {
   "cell_type": "markdown",
   "metadata": {},
   "source": [
    "# Analysis with currents from CMEMS"
   ]
  },
  {
   "cell_type": "markdown",
   "metadata": {},
   "source": [
    "Here we will use currents from CMEMS to illustrate the use of an advection constrain. A user registered at CMEMS can download model data using the motu tool.\n",
    "Unfortunately, it is not possible to downloading with a single request a large amount of data with motu and one need to split the request per month (or per day).\n",
    "\n",
    "In Julia, one could download the current for the Adriatic for example by:\n",
    "\n",
    "```julia\n",
    "cmems_username  = \"...\"\n",
    "cmems_password  = \"...\"\n",
    "basedir = \"...\"\n",
    "\n",
    "for dt = DateTime(1987,1,1):Dates.Month(1):DateTime(2018,12,31)\n",
    "   outname = \"currents-\" * Dates.format(dt,\"yyyy-mm-dd\") * \".nc\"\n",
    "   datemin = Dates.format(dt,\"yyyy-mm-dd HH:MM:SS\")\n",
    "   datemax = Dates.format(dt + Dates.Month(1) - Dates.Day(1),\"yyyy-mm-dd HH:MM:SS\")\n",
    "   command = `python3 -m motuclient  --user $(cmems_username) --pwd $(cmems_password) --date-min $(datemin) --date-max $(datemax)    --motu http://my.cmems-du.eu/motu-web/Motu --service-id MEDSEA_REANALYSIS_PHYS_006_004-TDS --product-id sv03-med-ingv-cur-rean-m  --longitude-min 11.4 --longitude-max 20.1 --latitude-min 38.9 --latitude-max 46.1 --depth-min 0 --depth-max 7000 --variable vozocrtx --variable vomecrty    --out-dir $(basedir) --out-name $outname`\n",
    "   @show command\n",
    "   run(command)\n",
    "end\n",
    "```\n",
    "\n",
    "For issues with motu and the downloading, please refer to the [CMEMS forum](http://forum.marine.copernicus.eu/) and in particular: http://forum.marine.copernicus.eu/discussion/202/how-to-download-a-large-amount-of-cmems-data-how-to-perform-a-loop-on-dates-new/p1 and http://marine.copernicus.eu/faq/what-are-the-motu-and-python-requirements/ .\n",
    "Please pay attention to the supported version of the motu client and python.\n",
    "Version of the motu client of 1.8.3 and older [will not work](http://marine.copernicus.eu/newsflash/cmems10731-retiring-tls-versions-below-v1-2-immediate-action-required/?idpage=166)\n",
    "\n"
   ]
  },
  {
   "cell_type": "markdown",
   "metadata": {},
   "source": [
    "For the example here we use a subset of the CMEMS data for the year 2018:\n"
   ]
  },
  {
   "cell_type": "code",
   "execution_count": 1,
   "metadata": {},
   "outputs": [
    {
     "data": {
      "text/plain": [
       "\"./\""
      ]
     },
     "execution_count": 1,
     "metadata": {},
     "output_type": "execute_result"
    }
   ],
   "source": [
    "using NCDatasets\n",
    "using DIVAnd\n",
    "using PyPlot\n",
    "using Dates\n",
    "using Statistics\n",
    "using Random\n",
    "using Printf\n",
    "\n",
    "\n",
    "varname = \"Salinity\"\n",
    "basedir = \"./\""
   ]
  },
  {
   "cell_type": "markdown",
   "metadata": {},
   "source": [
    "The domain is identifical to the full example notebook."
   ]
  },
  {
   "cell_type": "code",
   "execution_count": 2,
   "metadata": {},
   "outputs": [],
   "source": [
    "dx, dy = 0.125, 0.125\n",
    "lonr = 11.5:dx:20\n",
    "latr = 39:dy:46\n",
    "timerange = [Date(1950,1,1),Date(2017,12,31)];\n",
    "\n",
    "depthr = [0.,5., 10., 15., 20., 25., 30., 40., 50., 66,\n",
    "          75, 85, 100, 112, 125, 135, 150, 175, 200, 225, 250,\n",
    "          275, 300, 350, 400, 450, 500, 550, 600, 650, 700, 750,\n",
    "          800, 850, 900, 950, 1000, 1050, 1100, 1150, 1200, 1250,\n",
    "          1300, 1350, 1400, 1450, 1500, 1600, 1750, 1850, 2000];\n",
    "depthr = [0.,10.,20.];"
   ]
  },
  {
   "cell_type": "markdown",
   "metadata": {},
   "source": [
    "For simplicity we download an already prepared NetCDF velocity."
   ]
  },
  {
   "cell_type": "code",
   "execution_count": 3,
   "metadata": {},
   "outputs": [
    {
     "name": "stderr",
     "output_type": "stream",
     "text": [
      "┌ Info: average vozocrtx\n",
      "└ @ DIVAnd /home/abarth/projects/Julia/DIVAnd.jl/src/utils.jl:904\n",
      "┌ Info: time instance 1 of 1\n",
      "└ @ DIVAnd /home/abarth/projects/Julia/DIVAnd.jl/src/utils.jl:983\n",
      "┌ Info: average vomecrty\n",
      "└ @ DIVAnd /home/abarth/projects/Julia/DIVAnd.jl/src/utils.jl:904\n",
      "┌ Info: time instance 1 of 1\n",
      "└ @ DIVAnd /home/abarth/projects/Julia/DIVAnd.jl/src/utils.jl:983\n"
     ]
    }
   ],
   "source": [
    "velfilename = \"all-monthly-currents-2018.nc\"\n",
    "\n",
    "if !isfile(velfilename)\n",
    "    download(\"https://dox.uliege.be/index.php/s/qJtEotmkCZVqcx8/download\",velfilename)\n",
    "end\n",
    "\n",
    "\n",
    "yearlist = [1900:2017];\n",
    "monthlist = [[1,2,3],[4,5,6],[7,8,9],[10,11,12]];\n",
    "monthlist = [[1,2,3]];\n",
    "TSvelocity = DIVAnd.TimeSelectorYearListMonthList(yearlist,monthlist);\n",
    "\n",
    "\n",
    "varnames = (\"vozocrtx\",\"vomecrty\")\n",
    "outvarnames = (\"u\",\"v\")\n",
    "outfilename = joinpath(basedir,\"average-currents.nc\")\n",
    "\n",
    "if isfile(outfilename)\n",
    "    rm(outfilename)\n",
    "end\n",
    "\n",
    "# the first argument of DIVAnd.average_files can also be a list of filenames\n",
    "DIVAnd.average_files([velfilename],varnames,TSvelocity,outfilename,outvarnames)"
   ]
  },
  {
   "cell_type": "markdown",
   "metadata": {},
   "source": [
    "Load the bathymetry"
   ]
  },
  {
   "cell_type": "code",
   "execution_count": 4,
   "metadata": {},
   "outputs": [
    {
     "name": "stderr",
     "output_type": "stream",
     "text": [
      "┌ Info: Bathymetry file already downloaded\n",
      "└ @ Main In[4]:5\n"
     ]
    },
    {
     "name": "stdout",
     "output_type": "stream",
     "text": [
      "  1.651463 seconds (5.98 M allocations: 302.935 MiB, 11.29% gc time)\n"
     ]
    },
    {
     "data": {
      "text/plain": [
       "1.3563417049092568"
      ]
     },
     "execution_count": 4,
     "metadata": {},
     "output_type": "execute_result"
    }
   ],
   "source": [
    "bathname = \"gebco_30sec_8.nc\"\n",
    "if !isfile(bathname)\n",
    "    download(\"https://dox.uliege.be/index.php/s/U0pqyXhcQrXjEUX/download\",bathname)\n",
    "else\n",
    "    @info(\"Bathymetry file already downloaded\")\n",
    "end\n",
    "\n",
    "@time bx,by,b = load_bath(bathname,true,lonr,latr);\n",
    "\n",
    "aspect_ratio = 1/cos(mean(latr) * pi/180)\n",
    "\n"
   ]
  },
  {
   "cell_type": "markdown",
   "metadata": {},
   "source": [
    "Plot the winter average"
   ]
  },
  {
   "cell_type": "code",
   "execution_count": 5,
   "metadata": {},
   "outputs": [
    {
     "data": {
      "image/png": "[encoded data removed]",
      "text/plain": [
       "Figure(PyObject <Figure size 640x480 with 1 Axes>)"
      ]
     },
     "metadata": {},
     "output_type": "display_data"
    }
   ],
   "source": [
    "ds = Dataset(outfilename);\n",
    "\n",
    "u = nomissing(ds[\"u\"][:,:,1,1],NaN);\n",
    "v = nomissing(ds[\"v\"][:,:,1,1],NaN);\n",
    "uvlon = nomissing(ds[\"lon\"][:]);\n",
    "uvlat = nomissing(ds[\"lat\"][:])\n",
    "close(ds)\n",
    "\n",
    "figure();\n",
    "r = 2; \n",
    "aspect_ratio = 1/cos(mean(latr) * pi/180)\n",
    "gca().set_aspect(aspect_ratio)\n",
    "qq = quiver(uvlon[1:r:end],uvlat[1:r:end],u[1:r:end,1:r:end]',v[1:r:end,1:r:end]', label =\"currents\"); \n",
    "xlim(extrema(bx))\n",
    "ylim(extrema(by))\n",
    "contourf(bx,by,b', levels = [-1e5,0],colors = [[.5,.5,.5]]);  \n",
    "quiverkey(qq,0.8,0.9,1,\"1 m/s\");\n"
   ]
  },
  {
   "cell_type": "markdown",
   "metadata": {},
   "source": [
    "Download and check data"
   ]
  },
  {
   "cell_type": "code",
   "execution_count": 6,
   "metadata": {},
   "outputs": [
    {
     "name": "stderr",
     "output_type": "stream",
     "text": [
      "┌ Info: Data file already downloaded\n",
      "└ @ Main In[6]:13\n",
      "┌ Info: Data file already downloaded\n",
      "└ @ Main In[6]:20\n",
      "┌ Info: Reading data from file ./Adriatic/AdriaticSea_SDC_1000.txt\n",
      "└ @ DIVAnd.ODVspreadsheet /home/abarth/projects/Julia/DIVAnd.jl/src/ODVspreadsheet.jl:76\n",
      "┌ Info: No. of profiles in the file: 79\n",
      "└ @ DIVAnd.ODVspreadsheet /home/abarth/projects/Julia/DIVAnd.jl/src/ODVspreadsheet.jl:253\n",
      "┌ Info: Working on variable Water body salinity\n",
      "└ @ DIVAnd.ODVspreadsheet /home/abarth/projects/Julia/DIVAnd.jl/src/ODVspreadsheet.jl:777\n",
      "┌ Info: Starting loop on the 79 profiles\n",
      "└ @ DIVAnd.ODVspreadsheet /home/abarth/projects/Julia/DIVAnd.jl/src/ODVspreadsheet.jl:794\n"
     ]
    },
    {
     "name": "stdout",
     "output_type": "stream",
     "text": [
      "  2.116901 seconds (7.73 M allocations: 372.390 MiB, 3.56% gc time)\n"
     ]
    },
    {
     "name": "stderr",
     "output_type": "stream",
     "text": [
      "┌ Info: Done reading the profiles\n",
      "└ @ DIVAnd.ODVspreadsheet /home/abarth/projects/Julia/DIVAnd.jl/src/ODVspreadsheet.jl:836\n"
     ]
    },
    {
     "name": "stdout",
     "output_type": "stream",
     "text": [
      "              minimum and maximum of obs. dimension 1: (12.75, 19.266)\n",
      "              minimum and maximum of obs. dimension 2: (39.566, 44.8)\n",
      "              minimum and maximum of obs. dimension 3: (0.0, 1130.0)\n",
      "              minimum and maximum of obs. dimension 4: (1977-02-13T06:00:00, 1978-10-07T07:00:00)\n",
      "                          minimum and maximum of data: (30.559999, 38.967999)\n"
     ]
    },
    {
     "name": "stderr",
     "output_type": "stream",
     "text": [
      "┌ Info: Checking ranges for dimensions and observations\n",
      "└ @ DIVAnd /home/abarth/projects/Julia/DIVAnd.jl/src/obsstat.jl:75\n"
     ]
    }
   ],
   "source": [
    "datadir = \"./Adriatic/\"\n",
    "smalldatafile = joinpath(datadir, \"AdriaticSea_SDC_1000.txt\")\n",
    "datafile = joinpath(datadir, \"AdriaticSea_SDC.txt\")\n",
    "if !isdir(datadir)\n",
    "    @info(\"Creating data directory\")\n",
    "    mkdir(datadir)\n",
    "end\n",
    "\n",
    "if !isfile(smalldatafile)\n",
    "    @info(\"Downloading test data file (1000 lines)\")\n",
    "    download(\"https://dox.uliege.be/index.php/s/FtJdbLDk11buP47/download\", smalldatafile)\n",
    "else\n",
    "    @info(\"Data file already downloaded\")\n",
    "end\n",
    "\n",
    "if !isfile(datafile)\n",
    "    @info(\"Downloading data file\")\n",
    "    download(\"https://dox.uliege.be/index.php/s/A4Eu9nEoovYLtGr/download\", datafile)\n",
    "else\n",
    "    @info(\"Data file already downloaded\")\n",
    "end\n",
    "\n",
    "\n",
    "\n",
    "@time obsval,obslon,obslat,obsdepth,obstime,obsid = ODVspreadsheet.load(Float64,[smalldatafile],\n",
    "                                                                        [\"Water body salinity\"]; nametype = :localname );\n",
    "\n",
    "\n",
    "checkobs((obslon,obslat,obsdepth,obstime),obsval,obsid)"
   ]
  },
  {
   "cell_type": "code",
   "execution_count": 7,
   "metadata": {},
   "outputs": [
    {
     "name": "stdout",
     "output_type": "stream",
     "text": [
      "length(obslon) = 916\n",
      "length(obslat) = 916\n",
      "length(obsval) = 916\n",
      "length(obstime) = 916\n",
      "length(obsid) = 916\n"
     ]
    }
   ],
   "source": [
    "@show length(obslon);\n",
    "@show length(obslat);\n",
    "@show length(obsval);\n",
    "@show length(obstime);\n",
    "@show length(obsid);"
   ]
  },
  {
   "cell_type": "markdown",
   "metadata": {},
   "source": [
    "Prepare the mask a before"
   ]
  },
  {
   "cell_type": "code",
   "execution_count": 8,
   "metadata": {},
   "outputs": [
    {
     "name": "stdout",
     "output_type": "stream",
     "text": [
      "size(mask) = (69, 57, 3)\n",
      "size(mask_edit) = (69, 57, 3)\n"
     ]
    },
    {
     "data": {
      "text/plain": [
       "(69, 57, 3)"
      ]
     },
     "execution_count": 8,
     "metadata": {},
     "output_type": "execute_result"
    }
   ],
   "source": [
    "mask = falses(size(b,1),size(b,2),length(depthr))\n",
    "for k = 1:length(depthr)\n",
    "    for j = 1:size(b,2)\n",
    "        for i = 1:size(b,1)\n",
    "            mask[i,j,k] = b[i,j] >= depthr[k]\n",
    "        end\n",
    "    end\n",
    "end\n",
    "@show size(mask)\n",
    "\n",
    "\n",
    "grid_bx = [i for i in bx, j in by];\n",
    "grid_by = [j for i in bx, j in by];\n",
    "\n",
    "mask_edit = copy(mask);\n",
    "sel_mask1 = (grid_by .<= 42.6) .& (grid_bx .<= 14.);\n",
    "sel_mask2 = (grid_by .<= 41.2) .& (grid_bx .<= 16.2);\n",
    "mask_edit = mask_edit .* .!sel_mask1 .* .!sel_mask2;\n",
    "@show size(mask_edit)"
   ]
  },
  {
   "cell_type": "markdown",
   "metadata": {},
   "source": [
    "Make a simple range check"
   ]
  },
  {
   "cell_type": "code",
   "execution_count": 9,
   "metadata": {},
   "outputs": [],
   "source": [
    "sel = (obsval .<= 40) .& (obsval .>= 25);\n",
    "\n",
    "obsval = obsval[sel]\n",
    "obslon = obslon[sel]\n",
    "obslat = obslat[sel]\n",
    "obsdepth = obsdepth[sel]\n",
    "obstime = obstime[sel]\n",
    "obsid = obsid[sel];"
   ]
  },
  {
   "cell_type": "markdown",
   "metadata": {},
   "source": [
    "Parameter for the analysis"
   ]
  },
  {
   "cell_type": "code",
   "execution_count": 10,
   "metadata": {},
   "outputs": [
    {
     "data": {
      "text/plain": [
       "\"Water_body_Salinity_Adriatic_advection_constraint.4Danl.nc\""
      ]
     },
     "execution_count": 10,
     "metadata": {},
     "output_type": "execute_result"
    }
   ],
   "source": [
    "#@time rdiag=1.0./DIVAnd.weight_RtimesOne((obslon,obslat),(0.03,0.03));\n",
    "#@show maximum(rdiag),mean(rdiag)\n",
    "\n",
    "sz = (length(lonr),length(latr),length(depthr));\n",
    "lenx = fill(100_000.,sz)   # 100 km\n",
    "leny = fill(100_000.,sz)   # 100 km\n",
    "lenz = fill(25.,sz);      # 25 m\n",
    "len = (lenx, leny, lenz);\n",
    "epsilon2 = 0.1;\n",
    "#epsilon2 = epsilon2 * rdiag;\n",
    "\n",
    "filename = \"Water_body_$(replace(varname,\" \"=>\"_\"))_Adriatic_advection_constraint.4Danl.nc\""
   ]
  },
  {
   "cell_type": "code",
   "execution_count": 11,
   "metadata": {},
   "outputs": [
    {
     "name": "stderr",
     "output_type": "stream",
     "text": [
      "┌ Info: Figure directory already exists\n",
      "└ @ Main In[11]:5\n"
     ]
    },
    {
     "data": {
      "text/plain": [
       "plotres (generic function with 1 method)"
      ]
     },
     "execution_count": 11,
     "metadata": {},
     "output_type": "execute_result"
    }
   ],
   "source": [
    "figdir = \"./Adriatic/figures/\"\n",
    "if ~(isdir(figdir))\n",
    "    mkdir(figdir)\n",
    "else\n",
    "    @info(\"Figure directory already exists\")\n",
    "end\n",
    "\n",
    "function plotres(timeindex,sel,fit,erri)\n",
    "    tmp = copy(fit)\n",
    "    nx,ny,nz = size(tmp)\n",
    "    #for i in 1:nz\n",
    "    for i in 1:1\n",
    "        #figure(\"Adriatic-Additional-Data\")\n",
    "        figure()\n",
    "        ax = subplot(1,1,1)\n",
    "        ax.tick_params(\"both\",labelsize=6)\n",
    "        ylim(39.0, 46.0);\n",
    "        xlim(11.5, 20.0);\n",
    "        title(\"Depth: $(depthr[i]) \\n Time index: $(timeindex)\", fontsize=6)\n",
    "        pcolor(lonr.-dx/2.,latr.-dy/2, permutedims(tmp[:,:,i], [2,1]);\n",
    "               vmin = 33, vmax = 40)\n",
    "        colorbar(extend=\"both\", orientation=\"vertical\", shrink=0.8).ax.tick_params(labelsize=8)\n",
    "\n",
    "        contourf(bx,by,b', levels = [-1e5,0],colors = [[.5,.5,.5]])\n",
    "        gca().set_aspect(aspect_ratio)\n",
    "\n",
    "        figname = varname * @sprintf(\"_%02d\",i) * @sprintf(\"_%03d_advection_constraint.png\",timeindex)\n",
    "        PyPlot.savefig(joinpath(figdir, figname), dpi=600, bbox_inches=\"tight\");\n",
    "        #PyPlot.close_figs()\n",
    "    end\n",
    "end"
   ]
  },
  {
   "cell_type": "code",
   "execution_count": 14,
   "metadata": {},
   "outputs": [
    {
     "data": {
      "text/latex": [
       "\\begin{verbatim}\n",
       "fun = velocityfile(fname,(varnameu,varnamev),TSvelocity,scale)\n",
       "fun = velocityfile(fname,(varnameu,varnamev,varnamew),TSvelocity,scale)\n",
       "\\end{verbatim}\n",
       "Return a function \\texttt{fun} which is used in DIVAnd as a advection constraint using fields defined in the NetCDF variable \\texttt{varnameu}, \\texttt{varnamev} and \\texttt{varnamew}  (zonal, meridional and vertical velocity components) in the NetCDF file \\texttt{fname}. If the parameter \\texttt{varnamew} is omitted, the vertical velicity is neglected. It is assumed that the NetCDF variables has the variable \\texttt{lon}, \\texttt{lat} and \\texttt{depth} and that the fields have been average according to the provided time selector \\texttt{TSvelocity} (\\texttt{TimeSelectorYearListMonthList} or \\texttt{TimeSelectorRunningAverage}).\n",
       "\n",
       "See also \\texttt{DIVAnd.average\\_files}.\n",
       "\n",
       "\\begin{quote}\n",
       "\\textbf{note}\n",
       "\n",
       "Note\n",
       "\n",
       "NetCDF \\_FillValues are treated as zeros.\n",
       "\n",
       "\\end{quote}\n"
      ],
      "text/markdown": [
       "```\n",
       "fun = velocityfile(fname,(varnameu,varnamev),TSvelocity,scale)\n",
       "fun = velocityfile(fname,(varnameu,varnamev,varnamew),TSvelocity,scale)\n",
       "```\n",
       "\n",
       "Return a function `fun` which is used in DIVAnd as a advection constraint using fields defined in the NetCDF variable `varnameu`, `varnamev` and `varnamew`  (zonal, meridional and vertical velocity components) in the NetCDF file `fname`. If the parameter `varnamew` is omitted, the vertical velicity is neglected. It is assumed that the NetCDF variables has the variable `lon`, `lat` and `depth` and that the fields have been average according to the provided time selector `TSvelocity` (`TimeSelectorYearListMonthList` or `TimeSelectorRunningAverage`).\n",
       "\n",
       "See also `DIVAnd.average_files`.\n",
       "\n",
       "!!! note\n",
       "    NetCDF _FillValues are treated as zeros.\n",
       "\n"
      ],
      "text/plain": [
       "\u001b[36m  fun = velocityfile(fname,(varnameu,varnamev),TSvelocity,scale)\u001b[39m\n",
       "\u001b[36m  fun = velocityfile(fname,(varnameu,varnamev,varnamew),TSvelocity,scale)\u001b[39m\n",
       "\n",
       "  Return a function \u001b[36mfun\u001b[39m which is used in DIVAnd as a advection constraint\n",
       "  using fields defined in the NetCDF variable \u001b[36mvarnameu\u001b[39m, \u001b[36mvarnamev\u001b[39m and \u001b[36mvarnamew\u001b[39m\n",
       "  (zonal, meridional and vertical velocity components) in the NetCDF file\n",
       "  \u001b[36mfname\u001b[39m. If the parameter \u001b[36mvarnamew\u001b[39m is omitted, the vertical velicity is\n",
       "  neglected. It is assumed that the NetCDF variables has the variable \u001b[36mlon\u001b[39m, \u001b[36mlat\u001b[39m\n",
       "  and \u001b[36mdepth\u001b[39m and that the fields have been average according to the provided\n",
       "  time selector \u001b[36mTSvelocity\u001b[39m (\u001b[36mTimeSelectorYearListMonthList\u001b[39m or\n",
       "  \u001b[36mTimeSelectorRunningAverage\u001b[39m).\n",
       "\n",
       "  See also \u001b[36mDIVAnd.average_files\u001b[39m.\n",
       "\n",
       "\u001b[36m\u001b[1m  │ \u001b[22m\u001b[39m\u001b[36m\u001b[1mNote\u001b[22m\u001b[39m\n",
       "\u001b[36m\u001b[1m  │\u001b[22m\u001b[39m\n",
       "\u001b[36m\u001b[1m  │\u001b[22m\u001b[39m  NetCDF _FillValues are treated as zeros."
      ]
     },
     "execution_count": 14,
     "metadata": {},
     "output_type": "execute_result"
    }
   ],
   "source": [
    "?DIVAnd.velocityfile"
   ]
  },
  {
   "cell_type": "code",
   "execution_count": 15,
   "metadata": {},
   "outputs": [
    {
     "name": "stderr",
     "output_type": "stream",
     "text": [
      "┌ Info: Creating netCDF file\n",
      "└ @ DIVAnd /home/abarth/projects/Julia/DIVAnd.jl/src/diva.jl:330\n",
      "┌ Info: Time step 1 / 1\n",
      "└ @ DIVAnd /home/abarth/projects/Julia/DIVAnd.jl/src/diva.jl:382\n",
      "┌ Info: scaled correlation length (min,max) in dimension 1: (100000.0, 100000.0)\n",
      "└ @ DIVAnd /home/abarth/projects/Julia/DIVAnd.jl/src/diva.jl:567\n",
      "┌ Info: scaled correlation length (min,max) in dimension 2: (100000.0, 100000.0)\n",
      "└ @ DIVAnd /home/abarth/projects/Julia/DIVAnd.jl/src/diva.jl:567\n",
      "┌ Info: scaled correlation length (min,max) in dimension 3: (25.0, 25.0)\n",
      "└ @ DIVAnd /home/abarth/projects/Julia/DIVAnd.jl/src/diva.jl:567\n",
      "┌ Info: analysis uses the velocity time index 1\n",
      "└ @ DIVAnd /home/abarth/projects/Julia/DIVAnd.jl/src/utils.jl:849\n",
      "┌ Info: number of windows: 1\n",
      "└ @ DIVAnd /home/abarth/projects/Julia/DIVAnd.jl/src/DIVAndgo.jl:111\n",
      "┌ Warning: There is an advection constraint; make sure the window sizes are large enough for the increased correlation length\n",
      "└ @ DIVAnd /home/abarth/projects/Julia/DIVAnd.jl/src/DIVAndgo.jl:138\n"
     ]
    },
    {
     "data": {
      "image/png": "[encoded data removed]",
      "text/plain": [
       "Figure(PyObject <Figure size 640x480 with 2 Axes>)"
      ]
     },
     "metadata": {},
     "output_type": "display_data"
    },
    {
     "name": "stdout",
     "output_type": "stream",
     "text": [
      " 40.419798 seconds (147.30 M allocations: 7.702 GiB, 6.43% gc time)\n"
     ]
    }
   ],
   "source": [
    "TS = TSvelocity\n",
    "if isfile(filename)\n",
    "    rm(filename) # delete the previous analysis\n",
    "    @info \"Removing file $filename\"\n",
    "end\n",
    "@time dbinfo = diva3d((lonr,latr,depthr,TS),\n",
    "                      (obslon,obslat,obsdepth,obstime), obsval,\n",
    "                      len, epsilon2 / 50,\n",
    "                      filename,varname,\n",
    "                      bathname=bathname,\n",
    "                      plotres = plotres,\n",
    "                      mask = mask_edit,\n",
    "                      fitcorrlen = false,\n",
    "                      surfextend = true,\n",
    "                      velocity = DIVAnd.velocityfile(outfilename,(\"u\",\"v\"),TSvelocity,24*60*60*10),\n",
    "                      );"
   ]
  }
 ],
 "metadata": {
  "kernelspec": {
   "display_name": "Julia 1.11.1",
   "language": "julia",
   "name": "julia-1.11"
  },
  "language_info": {
   "file_extension": ".jl",
   "mimetype": "application/julia",
   "name": "julia",
   "version": "1.11.1"
  }
 },
 "nbformat": 4,
 "nbformat_minor": 2
}
