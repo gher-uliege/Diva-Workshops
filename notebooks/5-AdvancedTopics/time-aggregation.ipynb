{
 "cells": [
  {
   "cell_type": "markdown",
   "metadata": {},
   "source": [
    "# Time aggregation\n",
    "\n",
    "For a climatology, there are different ways to aggregate data in time. Common ways are:\n",
    "* monthly climatology, aggregating all observations per month\n",
    "* seasonal climatology\n",
    "* yearly climatology\n",
    "* decadal climatology\n",
    "\n",
    "If the data coverage is sufficient, one can also make a seasonal climatology per decades which allows to resolve the seasonal cycle and long term changes.\n",
    "\n",
    "In `DIVAnd`, the temporal aggregation is represented by a structure called time selector. The most common is `TimeSelectorYearListMonthList` which behaves similarly than the `yearlist` and `monthlist` files the Fortran version of DIVA."
   ]
  },
  {
   "cell_type": "code",
   "execution_count": 7,
   "metadata": {},
   "outputs": [],
   "source": [
    "using Dates\n",
    "using DIVAnd"
   ]
  },
  {
   "cell_type": "code",
   "execution_count": 2,
   "metadata": {},
   "outputs": [
    {
     "name": "stdout",
     "output_type": "stream",
     "text": [
      "search: \u001b[0m\u001b[1mT\u001b[22m\u001b[0m\u001b[1mi\u001b[22m\u001b[0m\u001b[1mm\u001b[22m\u001b[0m\u001b[1me\u001b[22m\u001b[0m\u001b[1mS\u001b[22m\u001b[0m\u001b[1me\u001b[22m\u001b[0m\u001b[1ml\u001b[22m\u001b[0m\u001b[1me\u001b[22m\u001b[0m\u001b[1mc\u001b[22m\u001b[0m\u001b[1mt\u001b[22m\u001b[0m\u001b[1mo\u001b[22m\u001b[0m\u001b[1mr\u001b[22m\u001b[0m\u001b[1mY\u001b[22m\u001b[0m\u001b[1me\u001b[22m\u001b[0m\u001b[1ma\u001b[22m\u001b[0m\u001b[1mr\u001b[22m\u001b[0m\u001b[1mL\u001b[22m\u001b[0m\u001b[1mi\u001b[22m\u001b[0m\u001b[1ms\u001b[22m\u001b[0m\u001b[1mt\u001b[22m\u001b[0m\u001b[1mM\u001b[22m\u001b[0m\u001b[1mo\u001b[22m\u001b[0m\u001b[1mn\u001b[22m\u001b[0m\u001b[1mt\u001b[22m\u001b[0m\u001b[1mh\u001b[22m\u001b[0m\u001b[1mL\u001b[22m\u001b[0m\u001b[1mi\u001b[22m\u001b[0m\u001b[1ms\u001b[22m\u001b[0m\u001b[1mt\u001b[22m\n",
      "\n"
     ]
    },
    {
     "data": {
      "text/latex": [
       "\\begin{verbatim}\n",
       "TS = TimeSelectorYearListMonthList(yearlists,monthlists)\n",
       "\\end{verbatim}\n",
       "The structure \\texttt{TS} handles the time aggregation based on \\texttt{yearlists} and \\texttt{monthlists}. \\texttt{yearlists} is a vector of ranges (containing start and end years), for example \\texttt{[1980:1990,1990:2000,2000:2010]}.\n",
       "\n",
       "\\texttt{monthlists} is a vector of two-element vector (containing start and end months), for example \\texttt{[1:3,4:6,7:9,10:12]}\n",
       "\n",
       "If a month range spans beyond December, then all Months must be specified, e.g. example \\texttt{[2:4,5:6,7:9,[10,11,12,1]]} or \\texttt{[2:4,5:6,7:9,[10:12;1]]}. However using \\texttt{[2:4,5:6,7:9,10:1]} (bug!) will result in an empty month range.\n",
       "\n",
       "\\subsection{Example}\n",
       "\\begin{verbatim}\n",
       "# seasonal climatology using all data from 1900 to 2017\n",
       "# for winter (December-February), spring, summer, autumn\n",
       "\n",
       "TS = DIVAnd.TimeSelectorYearListMonthList([1900:2017],[[12,1,2],[3,4,5],[6,7,8],[9,10,11]])\n",
       "\\end{verbatim}\n"
      ],
      "text/markdown": [
       "```\n",
       "TS = TimeSelectorYearListMonthList(yearlists,monthlists)\n",
       "```\n",
       "\n",
       "The structure `TS` handles the time aggregation based on `yearlists` and `monthlists`. `yearlists` is a vector of ranges (containing start and end years), for example `[1980:1990,1990:2000,2000:2010]`.\n",
       "\n",
       "`monthlists` is a vector of two-element vector (containing start and end months), for example `[1:3,4:6,7:9,10:12]`\n",
       "\n",
       "If a month range spans beyond December, then all Months must be specified, e.g. example `[2:4,5:6,7:9,[10,11,12,1]]` or `[2:4,5:6,7:9,[10:12;1]]`. However using `[2:4,5:6,7:9,10:1]` (bug!) will result in an empty month range.\n",
       "\n",
       "## Example\n",
       "\n",
       "```julia\n",
       "# seasonal climatology using all data from 1900 to 2017\n",
       "# for winter (December-February), spring, summer, autumn\n",
       "\n",
       "TS = DIVAnd.TimeSelectorYearListMonthList([1900:2017],[[12,1,2],[3,4,5],[6,7,8],[9,10,11]])\n",
       "```\n"
      ],
      "text/plain": [
       "\u001b[36m  TS = TimeSelectorYearListMonthList(yearlists,monthlists)\u001b[39m\n",
       "\n",
       "  The structure \u001b[36mTS\u001b[39m handles the time aggregation based on \u001b[36myearlists\u001b[39m and\n",
       "  \u001b[36mmonthlists\u001b[39m. \u001b[36myearlists\u001b[39m is a vector of ranges (containing start and end\n",
       "  years), for example \u001b[36m[1980:1990,1990:2000,2000:2010]\u001b[39m.\n",
       "\n",
       "  \u001b[36mmonthlists\u001b[39m is a vector of two-element vector (containing start and end\n",
       "  months), for example \u001b[36m[1:3,4:6,7:9,10:12]\u001b[39m\n",
       "\n",
       "  If a month range spans beyond December, then all Months must be specified,\n",
       "  e.g. example \u001b[36m[2:4,5:6,7:9,[10,11,12,1]]\u001b[39m or \u001b[36m[2:4,5:6,7:9,[10:12;1]]\u001b[39m. However\n",
       "  using \u001b[36m[2:4,5:6,7:9,10:1]\u001b[39m (bug!) will result in an empty month range.\n",
       "\n",
       "\u001b[1m  Example\u001b[22m\n",
       "\u001b[1m  =========\u001b[22m\n",
       "\n",
       "\u001b[36m  # seasonal climatology using all data from 1900 to 2017\u001b[39m\n",
       "\u001b[36m  # for winter (December-February), spring, summer, autumn\u001b[39m\n",
       "\u001b[36m  \u001b[39m\n",
       "\u001b[36m  TS = DIVAnd.TimeSelectorYearListMonthList([1900:2017],[[12,1,2],[3,4,5],[6,7,8],[9,10,11]])\u001b[39m"
      ]
     },
     "execution_count": 2,
     "metadata": {},
     "output_type": "execute_result"
    }
   ],
   "source": [
    "?TimeSelectorYearListMonthList"
   ]
  },
  {
   "cell_type": "code",
   "execution_count": 33,
   "metadata": {},
   "outputs": [
    {
     "data": {
      "text/plain": [
       "TimeSelectorYearListMonthList{Array{UnitRange{Int64},1},Array{UnitRange{Int64},1}}(UnitRange{Int64}[1900:2017], UnitRange{Int64}[1:3, 4:6, 7:9, 10:12])"
      ]
     },
     "execution_count": 33,
     "metadata": {},
     "output_type": "execute_result"
    }
   ],
   "source": [
    "yearlist = [1900:2017]\n",
    "monthlist = [1:3,4:6,7:9,10:12]\n",
    "\n",
    "TS = DIVAnd.TimeSelectorYearListMonthList(yearlist,monthlist)"
   ]
  },
  {
   "cell_type": "markdown",
   "metadata": {},
   "source": [
    "The number of time instances defined in this time selector is 4:"
   ]
  },
  {
   "cell_type": "code",
   "execution_count": 17,
   "metadata": {},
   "outputs": [
    {
     "data": {
      "text/plain": [
       "4"
      ]
     },
     "execution_count": 17,
     "metadata": {},
     "output_type": "execute_result"
    }
   ],
   "source": [
    "length(TS)"
   ]
  },
  {
   "cell_type": "markdown",
   "metadata": {},
   "source": [
    "Assume that we have a time vector with these dates:"
   ]
  },
  {
   "cell_type": "code",
   "execution_count": 9,
   "metadata": {},
   "outputs": [
    {
     "data": {
      "text/plain": [
       "3-element Array{DateTime,1}:\n",
       " 2001-04-01T00:00:00\n",
       " 2002-02-01T00:00:00\n",
       " 2018-03-01T00:00:00"
      ]
     },
     "execution_count": 9,
     "metadata": {},
     "output_type": "execute_result"
    }
   ],
   "source": [
    "obstime = [DateTime(2001,4,1),DateTime(2002,2,1),DateTime(2018,3,1)]"
   ]
  },
  {
   "cell_type": "markdown",
   "metadata": {},
   "source": [
    "Which observation would be used for the first winter analysis?"
   ]
  },
  {
   "cell_type": "code",
   "execution_count": 12,
   "metadata": {},
   "outputs": [
    {
     "data": {
      "text/plain": [
       "3-element BitArray{1}:\n",
       " 0\n",
       " 1\n",
       " 0"
      ]
     },
     "execution_count": 12,
     "metadata": {},
     "output_type": "execute_result"
    }
   ],
   "source": [
    "sel = DIVAnd.select(TS,1,obstime)"
   ]
  },
  {
   "cell_type": "code",
   "execution_count": 13,
   "metadata": {},
   "outputs": [
    {
     "data": {
      "text/plain": [
       "1-element Array{DateTime,1}:\n",
       " 2002-02-01T00:00:00"
      ]
     },
     "execution_count": 13,
     "metadata": {},
     "output_type": "execute_result"
    }
   ],
   "source": [
    "obstime[sel]"
   ]
  },
  {
   "cell_type": "markdown",
   "metadata": {},
   "source": [
    "Note that "
   ]
  },
  {
   "cell_type": "markdown",
   "metadata": {},
   "source": [
    "A time instance in the \"center\" of a give time insterval is given by `DIVAnd.ctimes(TS)`. These dates are saved in the NetCDF file together with the `climatology_bounds` from the [NetCDF CF convention](http://cfconventions.org/Data/cf-conventions/cf-conventions-1.7/cf-conventions.html#climatological-statistics)."
   ]
  },
  {
   "cell_type": "code",
   "execution_count": 6,
   "metadata": {},
   "outputs": [
    {
     "data": {
      "text/plain": [
       "4-element Array{Dates.DateTime,1}:\n",
       " 1958-01-16T00:00:00\n",
       " 1958-04-16T00:00:00\n",
       " 1958-07-16T00:00:00\n",
       " 1958-10-16T00:00:00"
      ]
     },
     "execution_count": 6,
     "metadata": {},
     "output_type": "execute_result"
    }
   ],
   "source": [
    "DIVAnd.ctimes(TS)"
   ]
  },
  {
   "cell_type": "code",
   "execution_count": 34,
   "metadata": {},
   "outputs": [
    {
     "data": {
      "text/plain": [
       "6-element Array{UnitRange{Int64},1}:\n",
       " 1950:1959\n",
       " 1960:1969\n",
       " 1970:1979\n",
       " 1980:1989\n",
       " 1990:1999\n",
       " 2000:2009"
      ]
     },
     "execution_count": 34,
     "metadata": {},
     "output_type": "execute_result"
    }
   ],
   "source": [
    "yearlist = [y:y+9 for y in 1950:10:2000]\n"
   ]
  },
  {
   "cell_type": "markdown",
   "metadata": {},
   "source": [
    "Note that the duration of every year range is 10 years becasue the upper bound is inclusive. The last year range coveres the 10 years:"
   ]
  },
  {
   "cell_type": "code",
   "execution_count": 30,
   "metadata": {},
   "outputs": [
    {
     "data": {
      "text/plain": [
       "1×10 LinearAlgebra.Adjoint{Int64,Array{Int64,1}}:\n",
       " 2000  2001  2002  2003  2004  2005  2006  2007  2008  2009"
      ]
     },
     "execution_count": 30,
     "metadata": {},
     "output_type": "execute_result"
    }
   ],
   "source": [
    "collect(yearlist[end])'"
   ]
  },
  {
   "cell_type": "code",
   "execution_count": 35,
   "metadata": {},
   "outputs": [],
   "source": [
    "TS = DIVAnd.TimeSelectorYearListMonthList(yearlist,monthlist);\n"
   ]
  },
  {
   "cell_type": "markdown",
   "metadata": {},
   "source": [
    "For this time selector, there are now $4 × 6=24$ time slices"
   ]
  },
  {
   "cell_type": "code",
   "execution_count": 26,
   "metadata": {},
   "outputs": [
    {
     "data": {
      "text/plain": [
       "24"
      ]
     },
     "execution_count": 26,
     "metadata": {},
     "output_type": "execute_result"
    }
   ],
   "source": [
    "length(TS)"
   ]
  },
  {
   "cell_type": "code",
   "execution_count": 27,
   "metadata": {},
   "outputs": [
    {
     "data": {
      "text/plain": [
       "3-element Array{DateTime,1}:\n",
       " 1954-01-16T00:00:00\n",
       " 1954-04-16T00:00:00\n",
       " 1954-07-16T00:00:00"
      ]
     },
     "execution_count": 27,
     "metadata": {},
     "output_type": "execute_result"
    }
   ],
   "source": [
    "DIVAnd.ctimes(TS)[1:3]"
   ]
  },
  {
   "cell_type": "markdown",
   "metadata": {},
   "source": [
    "# Overlapping years\n",
    "\n",
    "Sometimes is it desirable to have overlapping year range to make a climatology similar to a running average. This can be achieved by a suitable definition of `yearlist`:"
   ]
  },
  {
   "cell_type": "code",
   "execution_count": 37,
   "metadata": {},
   "outputs": [
    {
     "data": {
      "text/plain": [
       "11-element Array{UnitRange{Int64},1}:\n",
       " 1990:1995\n",
       " 1991:1996\n",
       " 1992:1997\n",
       " 1993:1998\n",
       " 1994:1999\n",
       " 1995:2000\n",
       " 1996:2001\n",
       " 1997:2002\n",
       " 1998:2003\n",
       " 1999:2004\n",
       " 2000:2005"
      ]
     },
     "execution_count": 37,
     "metadata": {},
     "output_type": "execute_result"
    }
   ],
   "source": [
    "yearlist = [y:y+5 for y in 1990:2000]\n"
   ]
  },
  {
   "cell_type": "markdown",
   "metadata": {},
   "source": [
    "Every time slice is a 6-year average form data from the same season and there are $4 × 11=44$ time slices in this example. "
   ]
  },
  {
   "cell_type": "code",
   "execution_count": 39,
   "metadata": {},
   "outputs": [
    {
     "data": {
      "text/plain": [
       "44"
      ]
     },
     "execution_count": 39,
     "metadata": {},
     "output_type": "execute_result"
    }
   ],
   "source": [
    "TS = DIVAnd.TimeSelectorYearListMonthList(yearlist,monthlist);\n",
    "length(TS)"
   ]
  },
  {
   "cell_type": "markdown",
   "metadata": {},
   "source": [
    "Since the data is overlapping, the same observation are used in multiple time instances:"
   ]
  },
  {
   "cell_type": "code",
   "execution_count": 44,
   "metadata": {},
   "outputs": [
    {
     "name": "stdout",
     "output_type": "stream",
     "text": [
      "1 observation(s) are used in time slice 21\n",
      "1 observation(s) are used in time slice 25\n",
      "1 observation(s) are used in time slice 29\n",
      "1 observation(s) are used in time slice 33\n",
      "1 observation(s) are used in time slice 37\n",
      "1 observation(s) are used in time slice 41\n"
     ]
    }
   ],
   "source": [
    "obstime = [DateTime(2000,1,1)]\n",
    "for n = 1:length(TS)\n",
    "    nobs = sum(DIVAnd.select(TS,n,obstime))\n",
    "    if nobs > 0\n",
    "        println(\"$nobs observation(s) are used in time slice $n\")\n",
    "    end\n",
    "end"
   ]
  },
  {
   "cell_type": "markdown",
   "metadata": {},
   "source": [
    "As expected an observations is used 6 times."
   ]
  }
 ],
 "metadata": {
  "kernelspec": {
   "display_name": "Julia 1.11.1",
   "language": "julia",
   "name": "julia-1.11"
  },
  "language_info": {
   "file_extension": ".jl",
   "mimetype": "application/julia",
   "name": "julia",
   "version": "1.11.1"
  }
 },
 "nbformat": 4,
 "nbformat_minor": 2
}
