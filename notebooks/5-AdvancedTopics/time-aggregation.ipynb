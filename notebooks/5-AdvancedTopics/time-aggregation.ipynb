{
 "cells": [
  {
   "cell_type": "markdown",
   "metadata": {},
   "source": [
    "# Time aggregation\n",
    "\n",
    "For a climatology, there are different ways to aggregate data in time. Common ways are:\n",
    "* monthly climatology, aggregating all observations per month\n",
    "* seasonal climatology\n",
    "* yearly climatology\n",
    "* decadal climatology\n",
    "\n",
    "If the data coverage is sufficient, one can also make a seasonal climatology per decades which allows to resolve the seasonal cycle and long term changes.\n",
    "\n",
    "In `DIVAnd`, the temporal aggregation is represented by a structure called time selector. The most common is `TimeSelectorYearListMonthList` which behaves similarly than the `yearlist` and `monthlist` files the Fortran version of DIVA."
   ]
  },
  {
   "cell_type": "code",
   "execution_count": 1,
   "metadata": {},
   "outputs": [
    {
     "ename": "LoadError",
     "evalue": "ArgumentError: Package JupyterFormatter [b8b539d8-55b4-4e60-a505-d7876c054e58] is required but does not seem to be installed:\n - Run `Pkg.instantiate()` to install all recorded dependencies.\n",
     "output_type": "error",
     "traceback": [
      "ArgumentError: Package JupyterFormatter [b8b539d8-55b4-4e60-a505-d7876c054e58] is required but does not seem to be installed:\n - Run `Pkg.instantiate()` to install all recorded dependencies.\n",
      "",
      "Stacktrace:",
      "  [1] _require(pkg::Base.PkgId, env::String)",
      "    @ Base ./loading.jl:2515",
      "  [2] __require_prelocked(uuidkey::Base.PkgId, env::String)",
      "    @ Base ./loading.jl:2388",
      "  [3] #invoke_in_world#3",
      "    @ ./essentials.jl:1089 [inlined]",
      "  [4] invoke_in_world",
      "    @ ./essentials.jl:1086 [inlined]",
      "  [5] _require_prelocked(uuidkey::Base.PkgId, env::String)",
      "    @ Base ./loading.jl:2375",
      "  [6] macro expansion",
      "    @ ./loading.jl:2314 [inlined]",
      "  [7] macro expansion",
      "    @ ./lock.jl:273 [inlined]",
      "  [8] __require(into::Module, mod::Symbol)",
      "    @ Base ./loading.jl:2271",
      "  [9] #invoke_in_world#3",
      "    @ ./essentials.jl:1089 [inlined]",
      " [10] invoke_in_world",
      "    @ ./essentials.jl:1086 [inlined]",
      " [11] require(into::Module, mod::Symbol)",
      "    @ Base ./loading.jl:2260"
     ]
    }
   ],
   "source": [
    "using Dates\n",
    "using DIVAnd\n",
    "using JupyterFormatter\n",
    "enable_autoformat()"
   ]
  },
  {
   "cell_type": "code",
   "execution_count": null,
   "metadata": {},
   "outputs": [
    {
     "name": "stderr",
     "output_type": "stream",
     "text": [
      "\u001b[32m\u001b[1m    Updating\u001b[22m\u001b[39m registry at `~/.julia/registries/General.toml`\n",
      "\u001b[32m\u001b[1m    Updating\u001b[22m\u001b[39m git-repo `https://github.com/weech/GRIB.jl`\n",
      "\u001b[32m\u001b[1m    Updating\u001b[22m\u001b[39m git-repo `https://github.com/gher-uliege/PhysOcean.jl.git`\n",
      "\u001b[32m\u001b[1m   Installed\u001b[22m\u001b[39m libpng_jll ──── v1.6.45+1\n",
      "\u001b[32m\u001b[1m   Installed\u001b[22m\u001b[39m NaNMath ─────── v1.0.3\n",
      "\u001b[32m\u001b[1m   Installed\u001b[22m\u001b[39m Accessors ───── v0.1.40\n",
      "\u001b[32m\u001b[1m   Installed\u001b[22m\u001b[39m SIMD ────────── v3.7.1\n",
      "\u001b[32m\u001b[1m   Installed\u001b[22m\u001b[39m PlotlyKaleido ─ v2.2.5\n",
      "\u001b[32m\u001b[1m   Installed\u001b[22m\u001b[39m PlotlyBase ──── v0.8.19\n",
      "\u001b[32m\u001b[1m   Installed\u001b[22m\u001b[39m GLMakie ─────── v0.10.18\n",
      "\u001b[32m\u001b[1m   Installed\u001b[22m\u001b[39m Extents ─────── v0.1.5\n",
      "\u001b[32m\u001b[1m   Installed\u001b[22m\u001b[39m Kaleido_jll ─── v0.2.1+0\n",
      "\u001b[32m\u001b[1m   Installed\u001b[22m\u001b[39m ArchGDAL ────── v0.10.7\n",
      "\u001b[32m\u001b[1m   Installed\u001b[22m\u001b[39m GeometryTypes ─ v0.8.5\n",
      "\u001b[32m\u001b[1m   Installed\u001b[22m\u001b[39m MeshIO ──────── v0.4.13\n",
      "\u001b[32m\u001b[1m   Installed\u001b[22m\u001b[39m Roots ───────── v2.2.3\n",
      "\u001b[32m\u001b[1m   Installed\u001b[22m\u001b[39m PlotlyJS ────── v0.18.15\n",
      "\u001b[32m\u001b[1m    Updating\u001b[22m\u001b[39m `~/Projects/Diva-Workshops/Project.toml`\n",
      "  \u001b[90m[13f3f980] \u001b[39m\u001b[93m↑ CairoMakie v0.12.16 ⇒ v0.12.18\u001b[39m\n",
      "  \u001b[90m[e9467ef8] \u001b[39m\u001b[92m+ GLMakie v0.10.18\u001b[39m\n",
      "  \u001b[90m[2fb1d81b] \u001b[39m\u001b[93m↑ GeoArrays v0.9.0 ⇒ v0.9.3\u001b[39m\n",
      "  \u001b[90m[4d00f742] \u001b[39m\u001b[92m+ GeometryTypes v0.8.5\u001b[39m\n",
      "  \u001b[90m[b8b539d8] \u001b[39m\u001b[92m+ JupyterFormatter v0.1.1\u001b[39m\n",
      "  \u001b[90m[ee78f7c6] \u001b[39m\u001b[93m↑ Makie v0.21.16 ⇒ v0.21.18\u001b[39m\n",
      "  \u001b[90m[f0f68f2c] \u001b[39m\u001b[92m+ PlotlyJS v0.18.15\u001b[39m\n",
      "  \u001b[90m[f2b01f46] \u001b[39m\u001b[93m↑ Roots v2.2.2 ⇒ v2.2.3\u001b[39m\n",
      "\u001b[32m\u001b[1m    Updating\u001b[22m\u001b[39m `~/Projects/Diva-Workshops/Manifest.toml`\n",
      "  \u001b[90m[7d9f7c33] \u001b[39m\u001b[93m↑ Accessors v0.1.39 ⇒ v0.1.40\u001b[39m\n",
      "  \u001b[90m[c9ce4bd3] \u001b[39m\u001b[93m↑ ArchGDAL v0.10.6 ⇒ v0.10.7\u001b[39m\n",
      "  \u001b[90m[bf4720bc] \u001b[39m\u001b[92m+ AssetRegistry v0.1.0\u001b[39m\n",
      "  \u001b[90m[ad839575] \u001b[39m\u001b[92m+ Blink v0.12.9\u001b[39m\n",
      "  \u001b[90m[00ebfdb7] \u001b[39m\u001b[92m+ CSTParser v3.4.3\u001b[39m\n",
      "  \u001b[90m[13f3f980] \u001b[39m\u001b[93m↑ CairoMakie v0.12.16 ⇒ v0.12.18\u001b[39m\n",
      "  \u001b[90m[a80b9123] \u001b[39m\u001b[92m+ CommonMark v0.8.15\u001b[39m\n",
      "  \u001b[90m[a8cc5b0e] \u001b[39m\u001b[92m+ Crayons v4.1.1\u001b[39m\n",
      "  \u001b[90m[31c24e10] \u001b[39m\u001b[93m↑ Distributions v0.25.115 ⇒ v0.25.116\u001b[39m\n",
      "  \u001b[90m[411431e0] \u001b[39m\u001b[93m↑ Extents v0.1.4 ⇒ v0.1.5\u001b[39m\n",
      "  \u001b[90m[de31a74c] \u001b[39m\u001b[92m+ FunctionalCollections v0.5.0\u001b[39m\n",
      "  \u001b[90m[f7f18e0c] \u001b[39m\u001b[92m+ GLFW v3.4.3\u001b[39m\n",
      "  \u001b[90m[e9467ef8] \u001b[39m\u001b[92m+ GLMakie v0.10.18\u001b[39m\n",
      "  \u001b[90m[2fb1d81b] \u001b[39m\u001b[93m↑ GeoArrays v0.9.0 ⇒ v0.9.3\u001b[39m\n",
      "  \u001b[90m[4d00f742] \u001b[39m\u001b[92m+ GeometryTypes v0.8.5\u001b[39m\n",
      "  \u001b[90m[9fb69e20] \u001b[39m\u001b[92m+ Hiccup v0.2.2\u001b[39m\n",
      "  \u001b[90m[97c1335a] \u001b[39m\u001b[92m+ JSExpr v0.5.4\u001b[39m\n",
      "  \u001b[90m[98e50ef6] \u001b[39m\u001b[92m+ JuliaFormatter v1.0.62\u001b[39m\n",
      "  \u001b[90m[b8b539d8] \u001b[39m\u001b[92m+ JupyterFormatter v0.1.1\u001b[39m\n",
      "  \u001b[90m[50d2b5c4] \u001b[39m\u001b[92m+ Lazy v0.15.1\u001b[39m\n",
      "  \u001b[90m[ee78f7c6] \u001b[39m\u001b[93m↑ Makie v0.21.16 ⇒ v0.21.18\u001b[39m\n",
      "  \u001b[90m[20f20a25] \u001b[39m\u001b[93m↑ MakieCore v0.8.10 ⇒ v0.8.12\u001b[39m\n",
      "\u001b[33m⌅\u001b[39m \u001b[90m[7269a6da] \u001b[39m\u001b[92m+ MeshIO v0.4.13\u001b[39m\n",
      "  \u001b[90m[66fc600b] \u001b[39m\u001b[92m+ ModernGL v1.1.7\u001b[39m\n",
      "  \u001b[90m[a975b10e] \u001b[39m\u001b[92m+ Mux v1.0.2\u001b[39m\n",
      "  \u001b[90m[77ba4419] \u001b[39m\u001b[93m↑ NaNMath v1.0.2 ⇒ v1.0.3\u001b[39m\n",
      "  \u001b[90m[d96e819e] \u001b[39m\u001b[92m+ Parameters v0.12.3\u001b[39m\n",
      "  \u001b[90m[fa939f87] \u001b[39m\u001b[92m+ Pidfile v1.3.0\u001b[39m\n",
      "  \u001b[90m[a03496cd] \u001b[39m\u001b[92m+ PlotlyBase v0.8.19\u001b[39m\n",
      "  \u001b[90m[f0f68f2c] \u001b[39m\u001b[92m+ PlotlyJS v0.18.15\u001b[39m\n",
      "  \u001b[90m[f2990250] \u001b[39m\u001b[92m+ PlotlyKaleido v2.2.5\u001b[39m\n",
      "  \u001b[90m[f2b01f46] \u001b[39m\u001b[93m↑ Roots v2.2.2 ⇒ v2.2.3\u001b[39m\n",
      "  \u001b[90m[fdea26ae] \u001b[39m\u001b[93m↑ SIMD v3.7.0 ⇒ v3.7.1\u001b[39m\n",
      "  \u001b[90m[0796e94c] \u001b[39m\u001b[92m+ Tokenize v0.5.29\u001b[39m\n",
      "  \u001b[90m[0f1e0344] \u001b[39m\u001b[92m+ WebIO v0.8.21\u001b[39m\n",
      "  \u001b[90m[104b5d7c] \u001b[39m\u001b[92m+ WebSockets v1.6.0\u001b[39m\n",
      "  \u001b[90m[cc8bc4a8] \u001b[39m\u001b[92m+ Widgets v0.6.7\u001b[39m\n",
      "  \u001b[90m[ee1fde0b] \u001b[39m\u001b[92m+ Dbus_jll v1.14.10+0\u001b[39m\n",
      "  \u001b[90m[2702e6a9] \u001b[39m\u001b[92m+ EpollShim_jll v0.0.20230411+1\u001b[39m\n",
      "  \u001b[90m[0656b61e] \u001b[39m\u001b[92m+ GLFW_jll v3.4.0+2\u001b[39m\n",
      "  \u001b[90m[f7e6163d] \u001b[39m\u001b[92m+ Kaleido_jll v0.2.1+0\u001b[39m\n",
      "  \u001b[90m[a2964d1f] \u001b[39m\u001b[92m+ Wayland_jll v1.21.0+2\u001b[39m\n",
      "  \u001b[90m[2381bf8a] \u001b[39m\u001b[92m+ Wayland_protocols_jll v1.36.0+0\u001b[39m\n",
      "  \u001b[90m[935fb764] \u001b[39m\u001b[92m+ Xorg_libXcursor_jll v1.2.3+0\u001b[39m\n",
      "  \u001b[90m[d091e8ba] \u001b[39m\u001b[92m+ Xorg_libXfixes_jll v6.0.0+0\u001b[39m\n",
      "  \u001b[90m[a51aa0fd] \u001b[39m\u001b[92m+ Xorg_libXi_jll v1.8.2+0\u001b[39m\n",
      "  \u001b[90m[d1454406] \u001b[39m\u001b[92m+ Xorg_libXinerama_jll v1.1.5+0\u001b[39m\n",
      "  \u001b[90m[ec84b674] \u001b[39m\u001b[92m+ Xorg_libXrandr_jll v1.5.4+0\u001b[39m\n",
      "  \u001b[90m[cc61e674] \u001b[39m\u001b[92m+ Xorg_libxkbfile_jll v1.1.2+1\u001b[39m\n",
      "  \u001b[90m[35661453] \u001b[39m\u001b[92m+ Xorg_xkbcomp_jll v1.4.6+1\u001b[39m\n",
      "  \u001b[90m[33bec58e] \u001b[39m\u001b[92m+ Xorg_xkeyboard_config_jll v2.39.0+0\u001b[39m\n",
      "  \u001b[90m[1183f4f0] \u001b[39m\u001b[92m+ libdecor_jll v0.2.2+0\u001b[39m\n",
      "  \u001b[90m[b53b4c65] \u001b[39m\u001b[93m↑ libpng_jll v1.6.45+0 ⇒ v1.6.45+1\u001b[39m\n",
      "  \u001b[90m[d8fb68d0] \u001b[39m\u001b[92m+ xkbcommon_jll v1.4.1+2\u001b[39m\n",
      "\u001b[36m\u001b[1m        Info\u001b[22m\u001b[39m Packages marked with \u001b[33m⌅\u001b[39m have new versions available but compatibility constraints restrict them from upgrading. To see why use `status --outdated -m`\n",
      "\u001b[32m\u001b[1m    Building\u001b[22m\u001b[39m PlotlyJS → `~/.julia/scratchspaces/44cfe95a-1eb2-52ea-b672-e2afdf69b78f/e415b25fdec06e57590a7d5ac8e0cf662fa317e2/build.log`\n",
      "\u001b[92m\u001b[1mPrecompiling\u001b[22m\u001b[39m project...\n",
      "   1660.9 ms\u001b[32m  ✓ \u001b[39m\u001b[90mExtents\u001b[39m\n",
      "   1037.6 ms\u001b[32m  ✓ \u001b[39m\u001b[90mParameters\u001b[39m\n",
      "   1375.3 ms\u001b[32m  ✓ \u001b[39m\u001b[90mNaNMath\u001b[39m\n",
      "   1552.3 ms\u001b[32m  ✓ \u001b[39m\u001b[90mKaleido_jll\u001b[39m\n",
      "   1590.4 ms\u001b[32m  ✓ \u001b[39m\u001b[90mlibpng_jll\u001b[39m\n",
      "   1211.7 ms\u001b[32m  ✓ \u001b[39m\u001b[90mGraphics\u001b[39m\n",
      "   1195.7 ms\u001b[32m  ✓ \u001b[39m\u001b[90mPlotlyKaleido\u001b[39m\n",
      "   1248.6 ms\u001b[32m  ✓ \u001b[39m\u001b[90mlibsixel_jll\u001b[39m\n",
      "   1980.1 ms\u001b[32m  ✓ \u001b[39m\u001b[90mGeoInterface\u001b[39m\n",
      "   3969.7 ms\u001b[32m  ✓ \u001b[39mGeometryTypes\n",
      "   4205.5 ms\u001b[32m  ✓ \u001b[39m\u001b[90mModernGL\u001b[39m\n",
      "   4253.1 ms\u001b[33m  ✓ \u001b[39m\u001b[90mAccessors\u001b[39m\n",
      "   1627.5 ms\u001b[32m  ✓ \u001b[39m\u001b[90mCairo_jll\u001b[39m\n",
      "   1889.5 ms\u001b[32m  ✓ \u001b[39m\u001b[90mOpenJpeg_jll\u001b[39m\n",
      "   1865.3 ms\u001b[32m  ✓ \u001b[39m\u001b[90mlibwebp_jll\u001b[39m\n",
      "   1514.0 ms\u001b[32m  ✓ \u001b[39m\u001b[90mSortTileRecursiveTree\u001b[39m\n",
      "   1669.6 ms\u001b[32m  ✓ \u001b[39m\u001b[90mGeoInterfaceRecipes\u001b[39m\n",
      "   2380.0 ms\u001b[32m  ✓ \u001b[39m\u001b[90mAccessors → TestExt\u001b[39m\n",
      "   1280.0 ms\u001b[32m  ✓ \u001b[39m\u001b[90mAccessors → StructArraysExt\u001b[39m\n",
      "   3183.4 ms\u001b[32m  ✓ \u001b[39m\u001b[90mProj\u001b[39m\n",
      "   1873.4 ms\u001b[32m  ✓ \u001b[39m\u001b[90mAccessors → StaticArraysExt\u001b[39m\n",
      "   1162.9 ms\u001b[32m  ✓ \u001b[39m\u001b[90mAccessors → LinearAlgebraExt\u001b[39m\n",
      "   1387.0 ms\u001b[32m  ✓ \u001b[39m\u001b[90mAccessors → IntervalSetsExt\u001b[39m\n",
      "   1255.6 ms\u001b[32m  ✓ \u001b[39m\u001b[90mAccessors → UnitfulExt\u001b[39m\n",
      "   1237.5 ms\u001b[32m  ✓ \u001b[39m\u001b[90mAccessors → DatesExt\u001b[39m\n",
      "   1886.2 ms\u001b[32m  ✓ \u001b[39m\u001b[90meccodes_jll\u001b[39m\n",
      "   2200.3 ms\u001b[32m  ✓ \u001b[39m\u001b[90mHarfBuzz_jll\u001b[39m\n",
      "   6715.2 ms\u001b[32m  ✓ \u001b[39m\u001b[90mSixel\u001b[39m\n",
      "   8237.5 ms\u001b[32m  ✓ \u001b[39m\u001b[90mPNGFiles\u001b[39m\n",
      "   9917.8 ms\u001b[32m  ✓ \u001b[39m\u001b[90mPlotlyBase\u001b[39m\n",
      "   1437.8 ms\u001b[32m  ✓ \u001b[39mGRIB\n",
      "   1443.7 ms\u001b[32m  ✓ \u001b[39m\u001b[90mlibass_jll\u001b[39m\n",
      "   1771.0 ms\u001b[32m  ✓ \u001b[39m\u001b[90mPango_jll\u001b[39m\n",
      "   4155.0 ms\u001b[32m  ✓ \u001b[39m\u001b[90mGDAL_jll\u001b[39m\n",
      "   9368.3 ms\u001b[32m  ✓ \u001b[39m\u001b[90mGeometryBasics\u001b[39m\n",
      "   1767.2 ms\u001b[32m  ✓ \u001b[39m\u001b[90mFFMPEG_jll\u001b[39m\n",
      "   1478.0 ms\u001b[32m  ✓ \u001b[39m\u001b[90mlibdecor_jll\u001b[39m\n",
      "   5437.4 ms\u001b[32m  ✓ \u001b[39m\u001b[90mWebP\u001b[39m\n",
      "   3272.5 ms\u001b[32m  ✓ \u001b[39m\u001b[90mCairo\u001b[39m\n",
      "   5560.1 ms\u001b[32m  ✓ \u001b[39mRoots\n",
      "   2475.9 ms\u001b[32m  ✓ \u001b[39m\u001b[90mPacking\u001b[39m\n",
      "  17635.4 ms\u001b[32m  ✓ \u001b[39m\u001b[90mSIMD\u001b[39m\n",
      "   3414.9 ms\u001b[32m  ✓ \u001b[39m\u001b[90mShaderAbstractions\u001b[39m\n",
      "   1110.8 ms\u001b[32m  ✓ \u001b[39mRoots → RootsChainRulesCoreExt\n",
      "   1560.6 ms\u001b[32m  ✓ \u001b[39m\u001b[90mGLFW_jll\u001b[39m\n",
      "   4182.0 ms\u001b[32m  ✓ \u001b[39m\u001b[90mMeshIO\u001b[39m\n",
      "   4336.6 ms\u001b[32m  ✓ \u001b[39m\u001b[90mFreeTypeAbstraction\u001b[39m\n",
      "   9414.4 ms\u001b[32m  ✓ \u001b[39mPlotlyJS\n",
      "   7902.1 ms\u001b[32m  ✓ \u001b[39m\u001b[90mGDAL\u001b[39m\n",
      "   6388.7 ms\u001b[32m  ✓ \u001b[39m\u001b[90mGeometryOps\u001b[39m\n",
      "   3180.6 ms\u001b[32m  ✓ \u001b[39m\u001b[90mGLFW\u001b[39m\n",
      "   9363.2 ms\u001b[32m  ✓ \u001b[39m\u001b[90mMakieCore\u001b[39m\n",
      "   2350.7 ms\u001b[32m  ✓ \u001b[39m\u001b[90mGeometryOps → GeometryOpsProjExt\u001b[39m\n",
      "   2050.6 ms\u001b[32m  ✓ \u001b[39m\u001b[90mGeoInterfaceMakie\u001b[39m\n",
      "   5545.6 ms\u001b[32m  ✓ \u001b[39mPlotlyJS → JSON3Ext\n",
      "   6285.2 ms\u001b[32m  ✓ \u001b[39mPlotlyJS → CSVExt\n",
      "  12818.1 ms\u001b[32m  ✓ \u001b[39m\u001b[90mGridLayoutBase\u001b[39m\n",
      "   6087.5 ms\u001b[32m  ✓ \u001b[39mPlotlyJS → IJuliaExt\n",
      "  17098.2 ms\u001b[32m  ✓ \u001b[39m\u001b[90mAutoma\u001b[39m\n",
      "  17887.1 ms\u001b[32m  ✓ \u001b[39m\u001b[90mArchGDAL\u001b[39m\n",
      "  10409.5 ms\u001b[32m  ✓ \u001b[39m\u001b[90mMathTeXEngine\u001b[39m\n",
      "   4984.5 ms\u001b[32m  ✓ \u001b[39mTIFFDatasets\n",
      "   7205.2 ms\u001b[32m  ✓ \u001b[39mGeoArrays\n",
      "  29827.7 ms\u001b[32m  ✓ \u001b[39mGeoJSON\n",
      "    960.0 ms\u001b[32m  ✓ \u001b[39m\u001b[90mNaturalEarth\u001b[39m\n"
     ]
    }
   ],
   "source": [
    "Pkg.update()"
   ]
  },
  {
   "cell_type": "code",
   "execution_count": 2,
   "metadata": {},
   "outputs": [],
   "source": [
    "# ?TimeSelectorYearListMonthList"
   ]
  },
  {
   "cell_type": "code",
   "execution_count": 3,
   "metadata": {},
   "outputs": [
    {
     "data": {
      "text/plain": [
       "TimeSelectorYearListMonthList{Vector{UnitRange{Int64}}, Vector{UnitRange{Int64}}}(UnitRange{Int64}[1900:2017], UnitRange{Int64}[1:3, 4:6, 7:9, 10:12])"
      ]
     },
     "execution_count": 3,
     "metadata": {},
     "output_type": "execute_result"
    }
   ],
   "source": [
    "yearlist = [1900:2017]\n",
    "monthlist = [1:3,4:6,7:9,10:12]\n",
    "\n",
    "TS = DIVAnd.TimeSelectorYearListMonthList(yearlist,monthlist)"
   ]
  },
  {
   "cell_type": "markdown",
   "metadata": {},
   "source": [
    "The number of time instances defined in this time selector is 4:"
   ]
  },
  {
   "cell_type": "code",
   "execution_count": 4,
   "metadata": {},
   "outputs": [
    {
     "data": {
      "text/plain": [
       "4"
      ]
     },
     "execution_count": 4,
     "metadata": {},
     "output_type": "execute_result"
    }
   ],
   "source": [
    "length(TS)"
   ]
  },
  {
   "cell_type": "markdown",
   "metadata": {},
   "source": [
    "Assume that we have a time vector with these dates:"
   ]
  },
  {
   "cell_type": "code",
   "execution_count": 5,
   "metadata": {},
   "outputs": [
    {
     "data": {
      "text/plain": [
       "3-element Vector{DateTime}:\n",
       " 2001-04-01T00:00:00\n",
       " 2002-02-01T00:00:00\n",
       " 2018-03-01T00:00:00"
      ]
     },
     "execution_count": 5,
     "metadata": {},
     "output_type": "execute_result"
    }
   ],
   "source": [
    "obstime = [DateTime(2001,4,1),DateTime(2002,2,1),DateTime(2018,3,1)]"
   ]
  },
  {
   "cell_type": "markdown",
   "metadata": {},
   "source": [
    "Which observation would be used for the first winter analysis?"
   ]
  },
  {
   "cell_type": "code",
   "execution_count": 6,
   "metadata": {},
   "outputs": [
    {
     "data": {
      "text/plain": [
       "3-element BitVector:\n",
       " 0\n",
       " 1\n",
       " 0"
      ]
     },
     "execution_count": 6,
     "metadata": {},
     "output_type": "execute_result"
    }
   ],
   "source": [
    "sel = DIVAnd.select(TS,1,obstime)"
   ]
  },
  {
   "cell_type": "code",
   "execution_count": 7,
   "metadata": {},
   "outputs": [
    {
     "data": {
      "text/plain": [
       "1-element Vector{DateTime}:\n",
       " 2002-02-01T00:00:00"
      ]
     },
     "execution_count": 7,
     "metadata": {},
     "output_type": "execute_result"
    }
   ],
   "source": [
    "obstime[sel]"
   ]
  },
  {
   "cell_type": "markdown",
   "metadata": {},
   "source": [
    "Note that "
   ]
  },
  {
   "cell_type": "markdown",
   "metadata": {},
   "source": [
    "A time instance in the \"center\" of a give time insterval is given by `DIVAnd.ctimes(TS)`. These dates are saved in the NetCDF file together with the `climatology_bounds` from the [NetCDF CF convention](http://cfconventions.org/Data/cf-conventions/cf-conventions-1.7/cf-conventions.html#climatological-statistics)."
   ]
  },
  {
   "cell_type": "code",
   "execution_count": 8,
   "metadata": {},
   "outputs": [
    {
     "data": {
      "text/plain": [
       "4-element Vector{DateTime}:\n",
       " 1958-02-16T00:00:00\n",
       " 1958-05-16T00:00:00\n",
       " 1958-08-16T00:00:00\n",
       " 1958-11-16T00:00:00"
      ]
     },
     "execution_count": 8,
     "metadata": {},
     "output_type": "execute_result"
    }
   ],
   "source": [
    "DIVAnd.ctimes(TS)"
   ]
  },
  {
   "cell_type": "code",
   "execution_count": 9,
   "metadata": {},
   "outputs": [
    {
     "data": {
      "text/plain": [
       "6-element Vector{UnitRange{Int64}}:\n",
       " 1950:1959\n",
       " 1960:1969\n",
       " 1970:1979\n",
       " 1980:1989\n",
       " 1990:1999\n",
       " 2000:2009"
      ]
     },
     "execution_count": 9,
     "metadata": {},
     "output_type": "execute_result"
    }
   ],
   "source": [
    "yearlist = [y:y+9 for y in 1950:10:2000]"
   ]
  },
  {
   "cell_type": "markdown",
   "metadata": {},
   "source": [
    "Note that the duration of every year range is 10 years becasue the upper bound is inclusive. The last year range coveres the 10 years:"
   ]
  },
  {
   "cell_type": "code",
   "execution_count": 10,
   "metadata": {},
   "outputs": [
    {
     "data": {
      "text/plain": [
       "1×10 adjoint(::Vector{Int64}) with eltype Int64:\n",
       " 2000  2001  2002  2003  2004  2005  2006  2007  2008  2009"
      ]
     },
     "execution_count": 10,
     "metadata": {},
     "output_type": "execute_result"
    }
   ],
   "source": [
    "collect(yearlist[end])'"
   ]
  },
  {
   "cell_type": "code",
   "execution_count": 11,
   "metadata": {},
   "outputs": [],
   "source": [
    "TS = DIVAnd.TimeSelectorYearListMonthList(yearlist,monthlist);"
   ]
  },
  {
   "cell_type": "markdown",
   "metadata": {},
   "source": [
    "For this time selector, there are now $4 × 6=24$ time slices"
   ]
  },
  {
   "cell_type": "code",
   "execution_count": 12,
   "metadata": {},
   "outputs": [
    {
     "data": {
      "text/plain": [
       "24"
      ]
     },
     "execution_count": 12,
     "metadata": {},
     "output_type": "execute_result"
    }
   ],
   "source": [
    "length(TS)"
   ]
  },
  {
   "cell_type": "code",
   "execution_count": 13,
   "metadata": {},
   "outputs": [
    {
     "data": {
      "text/plain": [
       "3-element Vector{DateTime}:\n",
       " 1954-02-16T00:00:00\n",
       " 1954-05-16T00:00:00\n",
       " 1954-08-16T00:00:00"
      ]
     },
     "execution_count": 13,
     "metadata": {},
     "output_type": "execute_result"
    }
   ],
   "source": [
    "DIVAnd.ctimes(TS)[1:3]"
   ]
  },
  {
   "cell_type": "markdown",
   "metadata": {},
   "source": [
    "# Overlapping years\n",
    "\n",
    "Sometimes is it desirable to have overlapping year range to make a climatology similar to a running average. This can be achieved by a suitable definition of `yearlist`:"
   ]
  },
  {
   "cell_type": "code",
   "execution_count": 14,
   "metadata": {},
   "outputs": [
    {
     "data": {
      "text/plain": [
       "11-element Vector{UnitRange{Int64}}:\n",
       " 1990:1995\n",
       " 1991:1996\n",
       " 1992:1997\n",
       " 1993:1998\n",
       " 1994:1999\n",
       " 1995:2000\n",
       " 1996:2001\n",
       " 1997:2002\n",
       " 1998:2003\n",
       " 1999:2004\n",
       " 2000:2005"
      ]
     },
     "execution_count": 14,
     "metadata": {},
     "output_type": "execute_result"
    }
   ],
   "source": [
    "yearlist = [y:y+5 for y in 1990:2000]"
   ]
  },
  {
   "cell_type": "markdown",
   "metadata": {},
   "source": [
    "Every time slice is a 6-year average form data from the same season and there are $4 × 11=44$ time slices in this example. "
   ]
  },
  {
   "cell_type": "code",
   "execution_count": 15,
   "metadata": {},
   "outputs": [
    {
     "data": {
      "text/plain": [
       "44"
      ]
     },
     "execution_count": 15,
     "metadata": {},
     "output_type": "execute_result"
    }
   ],
   "source": [
    "TS = DIVAnd.TimeSelectorYearListMonthList(yearlist,monthlist);\n",
    "length(TS)"
   ]
  },
  {
   "cell_type": "markdown",
   "metadata": {},
   "source": [
    "Since the data is overlapping, the same observation are used in multiple time instances:"
   ]
  },
  {
   "cell_type": "code",
   "execution_count": 16,
   "metadata": {},
   "outputs": [
    {
     "name": "stdout",
     "output_type": "stream",
     "text": [
      "1 observation(s) are used in time slice 21\n",
      "1 observation(s) are used in time slice 25\n",
      "1 observation(s) are used in time slice 29\n",
      "1 observation(s) are used in time slice 33\n",
      "1 observation(s) are used in time slice 37\n",
      "1 observation(s) are used in time slice 41\n"
     ]
    }
   ],
   "source": [
    "obstime = [DateTime(2000,1,1)]\n",
    "for n = 1:length(TS)\n",
    "    nobs = sum(DIVAnd.select(TS,n,obstime))\n",
    "    if nobs > 0\n",
    "        println(\"$nobs observation(s) are used in time slice $n\")\n",
    "    end\n",
    "end"
   ]
  },
  {
   "cell_type": "markdown",
   "metadata": {},
   "source": [
    "As expected an observations is used 6 times."
   ]
  }
 ],
 "metadata": {
  "kernelspec": {
   "display_name": "Julia 1.11.2",
   "language": "julia",
   "name": "julia-1.11"
  },
  "language_info": {
   "file_extension": ".jl",
   "mimetype": "application/julia",
   "name": "julia",
   "version": "1.11.2"
  },
  "toc": {
   "base_numbering": 1,
   "nav_menu": {},
   "number_sections": true,
   "sideBar": true,
   "skip_h1_title": false,
   "title_cell": "Table of Contents",
   "title_sidebar": "Contents",
   "toc_cell": false,
   "toc_position": {},
   "toc_section_display": true,
   "toc_window_display": false
  }
 },
 "nbformat": 4,
 "nbformat_minor": 2
}
