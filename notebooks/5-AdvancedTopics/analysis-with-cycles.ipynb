{
 "cells": [
  {
   "cell_type": "markdown",
   "metadata": {},
   "source": [
    "# Non traditional use of coordinates"
   ]
  },
  {
   "cell_type": "code",
   "execution_count": null,
   "metadata": {},
   "outputs": [],
   "source": [
    "using DIVAnd\n",
    "using Statistics\n",
    "using Makie, CairoMakie, GeoMakie"
   ]
  },
  {
   "cell_type": "markdown",
   "metadata": {},
   "source": [
    "Imagine a signal as the following"
   ]
  },
  {
   "cell_type": "code",
   "execution_count": null,
   "metadata": {},
   "outputs": [],
   "source": [
    "years=50\n",
    "samplingdistance=1\n",
    "t=collect(0:samplingdistance:365*years);\n",
    "f= (1 .+ 0.5 .* sin.(2 * pi .* t /3600.)) .* sin.(2 * pi .* t ./ 365) + exp.(t/10000.)\n",
    "\n",
    "ff=f\n",
    "tf=t\n",
    "lines(t, f, linewidth=1)"
   ]
  },
  {
   "cell_type": "markdown",
   "metadata": {},
   "source": [
    "But which you sample only marginally"
   ]
  },
  {
   "cell_type": "code",
   "execution_count": null,
   "metadata": {},
   "outputs": [],
   "source": [
    "samplingdistance=150\n",
    "t=collect(0:samplingdistance:365*years);\n",
    "\n",
    "f=(1 .+ 0.5*sin.(2*pi*t/3600.)).*sin.(2*pi*t/365)+ exp.(t/10000.)\n",
    "lines(t,f)"
   ]
  },
  {
   "cell_type": "markdown",
   "metadata": {},
   "source": [
    "To which you add some noise"
   ]
  },
  {
   "cell_type": "code",
   "execution_count": null,
   "metadata": {},
   "outputs": [],
   "source": [
    "f = f .+ rand(size(f));\n",
    "lines(t,f)"
   ]
  },
  {
   "cell_type": "markdown",
   "metadata": {},
   "source": [
    "If you KNOW there is a periodic signal with KNOWN period use a new coordinate"
   ]
  },
  {
   "cell_type": "code",
   "execution_count": null,
   "metadata": {},
   "outputs": [],
   "source": [
    "t1=mod.(t,365);"
   ]
  },
  {
   "cell_type": "markdown",
   "metadata": {},
   "source": [
    "Now analyse in the (t,t1) space ! Length scale for t: 1000 and for t1: 100. And force periodicity in t1."
   ]
  },
  {
   "cell_type": "code",
   "execution_count": null,
   "metadata": {},
   "outputs": [],
   "source": [
    "xiii,yiii = ndgrid(range(0,years*365,length=years+1),range(0,365,length=2));\n",
    "pm2 = ones(size(xiii)) / (xiii[2,1]-xiii[1,1]);\n",
    "pn2 = ones(size(xiii)) / (yiii[1,2]-yiii[1,1]);"
   ]
  },
  {
   "cell_type": "code",
   "execution_count": null,
   "metadata": {},
   "outputs": [],
   "source": [
    "# xi,yi = ndgrid(range(0,years*365,length=years+1),range(0,365,length=2))\n",
    "mask,(pm,pn),(xi,yi) = DIVAnd_rectdom(range(0,years*365,length=years),range(0,365,366))\n",
    "\n",
    "@time fi,s=DIVAndrun(mask,(pm,pn),(xi,yi),(t,t1),f.-mean(f),(1000.,100.),0.5;moddim=[0,365]) ;"
   ]
  },
  {
   "cell_type": "code",
   "execution_count": null,
   "metadata": {},
   "outputs": [],
   "source": [
    "heatmap(xi[:,1],yi[1,:],fi)"
   ]
  },
  {
   "cell_type": "code",
   "execution_count": null,
   "metadata": {},
   "outputs": [],
   "source": [
    "fig = Figure()\n",
    "ax = Axis(fig[1,1], title=\"In new t1 space\")\n",
    "lines!(ax, yi[1,:],fi[35,:])\n",
    "fig"
   ]
  },
  {
   "cell_type": "code",
   "execution_count": null,
   "metadata": {},
   "outputs": [],
   "source": [
    "fig = Figure()\n",
    "ax = Axis(fig[1,1], title=\"In standard t space\")\n",
    "lines!(ax, xi[:,70], fi[:,70])\n",
    "lines!(ax, xi[:,55], fi[:,55])\n",
    "fig"
   ]
  },
  {
   "cell_type": "markdown",
   "metadata": {},
   "source": [
    "<div class=\"alert alert-block alert-info\">\n",
    "ℹ️ The procedure can be used for daily cycles, annual cycles, but also tidal cycles\n",
    "</div> "
   ]
  },
  {
   "cell_type": "code",
   "execution_count": null,
   "metadata": {},
   "outputs": [],
   "source": [
    "lines(reshape(fi', 50*366))"
   ]
  },
  {
   "cell_type": "code",
   "execution_count": null,
   "metadata": {},
   "outputs": [],
   "source": [
    "lines(tf,ff)"
   ]
  },
  {
   "cell_type": "code",
   "execution_count": null,
   "metadata": {},
   "outputs": [],
   "source": []
  }
 ],
 "metadata": {
  "anaconda-cloud": {},
  "kernelspec": {
   "display_name": "Julia 1.11.2",
   "language": "julia",
   "name": "julia-1.11"
  },
  "language_info": {
   "file_extension": ".jl",
   "mimetype": "application/julia",
   "name": "julia",
   "version": "1.11.2"
  },
  "toc": {
   "base_numbering": 1,
   "nav_menu": {},
   "number_sections": true,
   "sideBar": true,
   "skip_h1_title": false,
   "title_cell": "Table of Contents",
   "title_sidebar": "Contents",
   "toc_cell": false,
   "toc_position": {},
   "toc_section_display": true,
   "toc_window_display": false
  }
 },
 "nbformat": 4,
 "nbformat_minor": 1
}
