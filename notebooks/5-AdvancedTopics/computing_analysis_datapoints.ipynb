{
 "cells": [
  {
   "cell_type": "markdown",
   "metadata": {},
   "source": [
    "# How to get the analysis at data points\n",
    "This notebook show we can obtain the values of the gridded field at the locations of the observations."
   ]
  },
  {
   "cell_type": "code",
   "execution_count": null,
   "metadata": {},
   "outputs": [],
   "source": [
    "using DIVAnd\n",
    "using Makie, CairoMakie, GeoMakie\n",
    "using Dates\n",
    "using Statistics\n",
    "using Random\n",
    "include(\"../config.jl\")"
   ]
  },
  {
   "cell_type": "markdown",
   "metadata": {},
   "source": [
    "## Data reading\n",
    "Download the data file `Salinity.bigfile` (if it is not already present). It will be placed in the same directory as this notebook. This file is a space-separated file containing data based on the [World Ocean Database](https://www.nodc.noaa.gov/OC5/WOD/pr_wod.html)."
   ]
  },
  {
   "cell_type": "code",
   "execution_count": null,
   "metadata": {},
   "outputs": [],
   "source": [
    "fname = salinitybigfile\n",
    "download_check(salinitybigfile, salinitybigfileURL)"
   ]
  },
  {
   "cell_type": "markdown",
   "metadata": {},
   "source": [
    "Load the data"
   ]
  },
  {
   "cell_type": "code",
   "execution_count": null,
   "metadata": {},
   "outputs": [],
   "source": [
    "obsval, obslon, obslat, obsdepth, obstime, obsid = loadbigfile(fname);"
   ]
  },
  {
   "cell_type": "code",
   "execution_count": null,
   "metadata": {},
   "outputs": [],
   "source": [
    "# surface values for the month January\n",
    "sel = (obsdepth .< 10)\n",
    "x = (obslon[sel], obslat[sel]);\n",
    "v = obsval[sel] .- mean(obsval[sel]);\n",
    "@info(\"$(length(findall(sel))) selected data points\")"
   ]
  },
  {
   "cell_type": "markdown",
   "metadata": {},
   "source": [
    "We create a grid around the Black Sea."
   ]
  },
  {
   "cell_type": "code",
   "execution_count": null,
   "metadata": {},
   "outputs": [],
   "source": [
    "dx = dy = 0.1\n",
    "lonr = 27:dx:42.0\n",
    "latr = 40:dy:47.5\n",
    "mask, (pm, pn), (xi, yi) = DIVAnd_rectdom(lonr, latr);"
   ]
  },
  {
   "cell_type": "code",
   "execution_count": null,
   "metadata": {},
   "outputs": [],
   "source": [
    "bathname = gebco04file\n",
    "download_check(gebco04file, gebco04fileURL)"
   ]
  },
  {
   "cell_type": "code",
   "execution_count": null,
   "metadata": {},
   "outputs": [],
   "source": [
    "bx, by, b = load_bath(bathname, true, lonr, latr);"
   ]
  },
  {
   "cell_type": "code",
   "execution_count": null,
   "metadata": {},
   "outputs": [],
   "source": [
    "mask = falses(size(b, 1), size(b, 2))\n",
    "\n",
    "for j = 1:size(b, 2)\n",
    "    for i = 1:size(b, 1)\n",
    "        mask[i, j] = b[i, j] >= 1.0\n",
    "    end\n",
    "end"
   ]
  },
  {
   "cell_type": "markdown",
   "metadata": {},
   "source": [
    "## Make the analysis"
   ]
  },
  {
   "cell_type": "code",
   "execution_count": null,
   "metadata": {},
   "outputs": [],
   "source": [
    "len = 0.3\n",
    "epsilon2 = 1.0;\n",
    "fi, s = DIVAndrun(mask, (pm, pn), (xi, yi), x, v, len, epsilon2);"
   ]
  },
  {
   "cell_type": "markdown",
   "metadata": {},
   "source": [
    "### Analysis plot + data"
   ]
  },
  {
   "cell_type": "code",
   "execution_count": null,
   "metadata": {},
   "outputs": [],
   "source": [
    "Smin = 5.0\n",
    "Smax = 22.0"
   ]
  },
  {
   "cell_type": "code",
   "execution_count": null,
   "metadata": {},
   "outputs": [],
   "source": [
    "fig = Figure()\n",
    "ga = GeoAxis(\n",
    "    fig[1, 1];\n",
    "    dest = \"+proj=merc\",\n",
    "    title = \"Gridded field and observations\",\n",
    "    xticks = 25:3.0:42,\n",
    "    yticks = 40.0:1.0:48,\n",
    ")\n",
    "hm = heatmap!(\n",
    "    ga,\n",
    "    lonr,\n",
    "    latr,\n",
    "    fi .+ mean(obsval[sel]),\n",
    "    interpolate = false,\n",
    "    colorrange = (Smin, Smax),\n",
    ")\n",
    "sc = scatter!(\n",
    "    ga,\n",
    "    obslon[sel],\n",
    "    obslat[sel],\n",
    "    color = obsval[sel],\n",
    "    markersize = 5,\n",
    "    colorrange = (Smin, Smax),\n",
    ")\n",
    "xlims!(ga, (bx[1], bx[end]))\n",
    "ylims!(ga, (by[1], by[end]))\n",
    "contour!(ga, bx, by, b, levels = [0.0], color = :black)\n",
    "Colorbar(fig[1, 2], hm)\n",
    "fig"
   ]
  },
  {
   "cell_type": "markdown",
   "metadata": {},
   "source": [
    "## Compute residuals\n",
    "The function `DIVAnd_residualobs` computes the residuals at the real data location, meaning that the artificial data points possibly used with the constrains are not taken into account."
   ]
  },
  {
   "cell_type": "code",
   "execution_count": null,
   "metadata": {},
   "outputs": [],
   "source": [
    "dataresidual = DIVAnd_residualobs(s, fi);"
   ]
  },
  {
   "cell_type": "code",
   "execution_count": null,
   "metadata": {},
   "outputs": [],
   "source": [
    "fig = Figure()\n",
    "ga = GeoAxis(\n",
    "    fig[1, 1];\n",
    "    dest = \"+proj=merc\",\n",
    "    title = \"Residuals\",\n",
    "    xticks = 25:3.0:42,\n",
    "    yticks = 40.0:1.0:48,\n",
    ")\n",
    "sc = scatter!(\n",
    "    ga,\n",
    "    obslon[sel],\n",
    "    obslat[sel],\n",
    "    color = dataresidual,\n",
    "    markersize = 5,\n",
    "    colorrange = (-5, 5),\n",
    "    colormap = Reverse(:RdBu),\n",
    ")\n",
    "xlims!(ga, (bx[1], bx[end]))\n",
    "ylims!(ga, (by[1], by[end]))\n",
    "contour!(ga, bx, by, b, levels = [0.0], color = :black)\n",
    "Colorbar(fig[1, 2], sc)\n",
    "fig"
   ]
  },
  {
   "cell_type": "markdown",
   "metadata": {},
   "source": [
    "## Analysis at data points\n",
    "\n",
    "The residuals are defined as the difference between the observations and the analysis at the observation locations, hence the analysis at data points can be recovered as:"
   ]
  },
  {
   "cell_type": "code",
   "execution_count": null,
   "metadata": {},
   "outputs": [],
   "source": [
    "fi_obs = obsval[sel] - dataresidual;\n",
    "@show size(fi_obs);"
   ]
  },
  {
   "cell_type": "markdown",
   "metadata": {},
   "source": [
    "### Plot obs vs. analysis at data points\n",
    "They look similar, we take a tighter interval for the colorbar to make the difference more visible."
   ]
  },
  {
   "cell_type": "code",
   "execution_count": null,
   "metadata": {},
   "outputs": [],
   "source": [
    "fig = Figure(size = (900, 400))\n",
    "ga = GeoAxis(\n",
    "    fig[1, 1];\n",
    "    dest = \"+proj=merc\",\n",
    "    title = \"Analysis at data points\",\n",
    "    xticks = 25:3.0:42,\n",
    "    yticks = 40.0:1.0:48,\n",
    ")\n",
    "sc1 = scatter!(\n",
    "    ga,\n",
    "    obslon[sel],\n",
    "    obslat[sel],\n",
    "    color = fi_obs,\n",
    "    markersize = 5,\n",
    "    colorrange = (12, 20.0),\n",
    ")\n",
    "xlims!(ga, (bx[1], bx[end]))\n",
    "ylims!(ga, (by[1], by[end]))\n",
    "contour!(ga, bx, by, b, levels = [0.0], color = :black)\n",
    "Colorbar(fig[1, 2], sc1)\n",
    "\n",
    "ga2 = GeoAxis(\n",
    "    fig[1, 3];\n",
    "    dest = \"+proj=merc\",\n",
    "    title = \"Original observations\",\n",
    "    xticks = 25:3.0:42,\n",
    "    yticks = 40.0:1.0:48,\n",
    ")\n",
    "sc2 = scatter!(\n",
    "    ga2,\n",
    "    obslon[sel],\n",
    "    obslat[sel],\n",
    "    color = obsval[sel],\n",
    "    markersize = 5,\n",
    "    colorrange = (12, 20.0),\n",
    ")\n",
    "xlims!(ga2, (bx[1], bx[end]))\n",
    "ylims!(ga2, (by[1], by[end]))\n",
    "contour!(ga2, bx, by, b, levels = [0.0], color = :black)\n",
    "Colorbar(fig[1, 4], sc2)\n",
    "fig"
   ]
  },
  {
   "cell_type": "code",
   "execution_count": null,
   "metadata": {},
   "outputs": [],
   "source": []
  }
 ],
 "metadata": {
  "@webio": {
   "lastCommId": null,
   "lastKernelId": null
  },
  "kernelspec": {
   "display_name": "Julia 1.11.2",
   "language": "julia",
   "name": "julia-1.11"
  },
  "language_info": {
   "file_extension": ".jl",
   "mimetype": "application/julia",
   "name": "julia",
   "version": "1.11.2"
  },
  "nbdime-conflicts": {
   "local_diff": [
    {
     "diff": [
      {
       "diff": [
        {
         "diff": [
          {
           "key": 10,
           "op": "addrange",
           "valuelist": "2"
          },
          {
           "key": 10,
           "length": 1,
           "op": "removerange"
          }
         ],
         "key": 0,
         "op": "patch"
        }
       ],
       "key": "display_name",
       "op": "patch"
      }
     ],
     "key": "kernelspec",
     "op": "patch"
    },
    {
     "diff": [
      {
       "diff": [
        {
         "diff": [
          {
           "key": 4,
           "op": "addrange",
           "valuelist": "2"
          },
          {
           "key": 4,
           "length": 1,
           "op": "removerange"
          }
         ],
         "key": 0,
         "op": "patch"
        }
       ],
       "key": "version",
       "op": "patch"
      }
     ],
     "key": "language_info",
     "op": "patch"
    }
   ],
   "remote_diff": [
    {
     "diff": [
      {
       "diff": [
        {
         "diff": [
          {
           "key": 10,
           "op": "addrange",
           "valuelist": "0"
          },
          {
           "key": 10,
           "length": 1,
           "op": "removerange"
          }
         ],
         "key": 0,
         "op": "patch"
        }
       ],
       "key": "display_name",
       "op": "patch"
      }
     ],
     "key": "kernelspec",
     "op": "patch"
    },
    {
     "diff": [
      {
       "diff": [
        {
         "diff": [
          {
           "key": 4,
           "op": "addrange",
           "valuelist": "0"
          },
          {
           "key": 4,
           "length": 1,
           "op": "removerange"
          }
         ],
         "key": 0,
         "op": "patch"
        }
       ],
       "key": "version",
       "op": "patch"
      }
     ],
     "key": "language_info",
     "op": "patch"
    }
   ]
  },
  "toc": {
   "base_numbering": 1,
   "nav_menu": {},
   "number_sections": true,
   "sideBar": true,
   "skip_h1_title": false,
   "title_cell": "Table of Contents",
   "title_sidebar": "Contents",
   "toc_cell": false,
   "toc_position": {},
   "toc_section_display": true,
   "toc_window_display": false
  }
 },
 "nbformat": 4,
 "nbformat_minor": 4
}
