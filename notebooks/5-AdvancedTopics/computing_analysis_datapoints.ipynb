{
 "cells": [
  {
   "cell_type": "markdown",
   "metadata": {},
   "source": [
    "# How to get the analysis at data points\n",
    "This notebook show we can obtain the values of the gridded field at the locations of the observations."
   ]
  },
  {
   "cell_type": "code",
   "execution_count": null,
   "metadata": {},
   "outputs": [],
   "source": [
    "using DIVAnd\n",
    "using Makie, CairoMakie, GeoMakie\n",
    "using Dates\n",
    "using Statistics\n",
    "using Random\n",
    "include(\"../config.jl\")"
   ]
  },
  {
   "cell_type": "markdown",
   "metadata": {},
   "source": [
    "## Data reading\n",
    "Download the data file `Salinity.bigfile` (if it is not already present). It will be placed in the same directory as this notebook. This file is a space-separated file containing data based on the [World Ocean Database](https://www.nodc.noaa.gov/OC5/WOD/pr_wod.html)."
   ]
  },
  {
   "cell_type": "code",
   "execution_count": null,
   "metadata": {},
   "outputs": [],
   "source": [
    "fname = salinitybigfile\n",
    "download_check(salinitybigfile, salinitybigfileURL)"
   ]
  },
  {
   "cell_type": "markdown",
   "metadata": {},
   "source": [
    "Load the data"
   ]
  },
  {
   "cell_type": "code",
   "execution_count": null,
   "metadata": {},
   "outputs": [],
   "source": [
    "obsval,obslon,obslat,obsdepth,obstime,obsid = loadbigfile(fname);"
   ]
  },
  {
   "cell_type": "code",
   "execution_count": null,
   "metadata": {},
   "outputs": [],
   "source": [
    "# surface values for the month January\n",
    "sel = (obsdepth .< 10)\n",
    "x = (obslon[sel], obslat[sel]);\n",
    "v = obsval[sel] .- mean(obsval[sel]);\n",
    "@info(\"$(length(findall(sel))) selected data points\")"
   ]
  },
  {
   "cell_type": "markdown",
   "metadata": {},
   "source": [
    "We create a grid around the Black Sea."
   ]
  },
  {
   "cell_type": "code",
   "execution_count": null,
   "metadata": {},
   "outputs": [],
   "source": [
    "dx = dy = 0.1\n",
    "lonr = 27:dx:42.\n",
    "latr = 40:dy:47.5\n",
    "mask,(pm,pn),(xi,yi) = DIVAnd_rectdom(lonr,latr);"
   ]
  },
  {
   "cell_type": "code",
   "execution_count": null,
   "metadata": {},
   "outputs": [],
   "source": [
    "bathname = gebco04file\n",
    "download_check(gebco04file, gebco04fileURL)"
   ]
  },
  {
   "cell_type": "code",
   "execution_count": null,
   "metadata": {},
   "outputs": [],
   "source": [
    "bx,by,b = load_bath(bathname,true,lonr,latr);"
   ]
  },
  {
   "cell_type": "code",
   "execution_count": null,
   "metadata": {},
   "outputs": [],
   "source": [
    "mask = falses(size(b,1),size(b,2))\n",
    "\n",
    "for j = 1:size(b,2)\n",
    "    for i = 1:size(b,1)\n",
    "        mask[i,j] = b[i,j] >=1.0\n",
    "    end\n",
    "end"
   ]
  },
  {
   "cell_type": "markdown",
   "metadata": {},
   "source": [
    "## Make the analysis"
   ]
  },
  {
   "cell_type": "code",
   "execution_count": null,
   "metadata": {},
   "outputs": [],
   "source": [
    "len=0.3\n",
    "epsilon2=1.0;\n",
    "fi, s = DIVAndrun(mask, (pm,pn), (xi,yi), x , v, len, epsilon2);"
   ]
  },
  {
   "cell_type": "markdown",
   "metadata": {},
   "source": [
    "### Analysis plot + data"
   ]
  },
  {
   "cell_type": "code",
   "execution_count": null,
   "metadata": {},
   "outputs": [],
   "source": [
    "Smin = 5.\n",
    "Smax = 22."
   ]
  },
  {
   "cell_type": "code",
   "execution_count": null,
   "metadata": {},
   "outputs": [],
   "source": [
    "fig = Figure()\n",
    "ga = GeoAxis(fig[1, 1];  dest = \"+proj=merc\", title = \"Gridded field and observations\", xticks=25:3.:42, yticks=40.:1.:48)\n",
    "hm = heatmap!(ga, lonr, latr, fi .+ mean(obsval[sel]), interpolate = false, colorrange=(Smin, Smax))\n",
    "sc = scatter!(ga, obslon[sel], obslat[sel], color=obsval[sel], markersize=5, colorrange=(Smin, Smax))\n",
    "xlims!(ga, (bx[1], bx[end]))\n",
    "ylims!(ga, (by[1], by[end]))\n",
    "contour!(ga, bx, by, b, levels=[0.], color=:black)\n",
    "Colorbar(fig[1, 2], hm)\n",
    "fig"
   ]
  },
  {
   "cell_type": "markdown",
   "metadata": {},
   "source": [
    "## Compute residuals\n",
    "The function `DIVAnd_residualobs` computes the residuals at the real data location, meaning that the artificial data points possibly used with the constrains are not taken into account."
   ]
  },
  {
   "cell_type": "code",
   "execution_count": null,
   "metadata": {},
   "outputs": [],
   "source": [
    "dataresidual = DIVAnd_residualobs(s, fi);"
   ]
  },
  {
   "cell_type": "code",
   "execution_count": null,
   "metadata": {},
   "outputs": [],
   "source": [
    "fig = Figure()\n",
    "ga = GeoAxis(fig[1, 1];  dest = \"+proj=merc\", title = \"Residuals\", xticks=25:3.:42, yticks=40.:1.:48)\n",
    "sc = scatter!(ga, obslon[sel], obslat[sel], color=dataresidual, markersize=5, colorrange=(-5, 5), colormap=Reverse(:RdBu))\n",
    "xlims!(ga, (bx[1], bx[end]))\n",
    "ylims!(ga, (by[1], by[end]))\n",
    "contour!(ga, bx, by, b, levels=[0.], color=:black)\n",
    "Colorbar(fig[1, 2], sc)\n",
    "fig"
   ]
  },
  {
   "cell_type": "markdown",
   "metadata": {},
   "source": [
    "## Analysis at data points\n",
    "\n",
    "The residuals are defined as the difference between the observations and the analysis at the observation locations, hence the analysis at data points can be recovered as:"
   ]
  },
  {
   "cell_type": "code",
   "execution_count": null,
   "metadata": {},
   "outputs": [],
   "source": [
    "fi_obs = obsval[sel] - dataresidual;\n",
    "@show size(fi_obs);"
   ]
  },
  {
   "cell_type": "markdown",
   "metadata": {},
   "source": [
    "### Plot obs vs. analysis at data points\n",
    "They look similar, we take a tighter interval for the colorbar to make the difference more visible."
   ]
  },
  {
   "cell_type": "code",
   "execution_count": null,
   "metadata": {},
   "outputs": [],
   "source": [
    "fig = Figure(size=(900, 400))\n",
    "ga = GeoAxis(fig[1, 1];  dest = \"+proj=merc\", title = \"Analysis at data points\", xticks=25:3.:42, yticks=40.:1.:48)\n",
    "sc1 = scatter!(ga, obslon[sel], obslat[sel], color=fi_obs, markersize=5, colorrange=(12, 20.))\n",
    "xlims!(ga, (bx[1], bx[end]))\n",
    "ylims!(ga, (by[1], by[end]))\n",
    "contour!(ga, bx, by, b, levels=[0.], color=:black)\n",
    "Colorbar(fig[1, 2], sc1)\n",
    "\n",
    "ga2 = GeoAxis(fig[1, 3];  dest = \"+proj=merc\", title = \"Original observations\", xticks=25:3.:42, yticks=40.:1.:48)\n",
    "sc2 = scatter!(ga2, obslon[sel], obslat[sel], color=obsval[sel], markersize=5, colorrange=(12, 20.))\n",
    "xlims!(ga2, (bx[1], bx[end]))\n",
    "ylims!(ga2, (by[1], by[end]))\n",
    "contour!(ga2, bx, by, b, levels=[0.], color=:black)\n",
    "Colorbar(fig[1, 4], sc2)\n",
    "fig"
   ]
  },
  {
   "cell_type": "code",
   "execution_count": null,
   "metadata": {},
   "outputs": [],
   "source": []
  }
 ],
 "metadata": {
  "@webio": {
   "lastCommId": null,
   "lastKernelId": null
  },
  "kernelspec": {
   "display_name": "Julia 1.11.2",
   "language": "julia",
   "name": "julia-1.11"
  },
  "language_info": {
   "file_extension": ".jl",
   "mimetype": "application/julia",
   "name": "julia",
   "version": "1.11.2"
  },
  "nbdime-conflicts": {
   "local_diff": [
    {
     "diff": [
      {
       "diff": [
        {
         "diff": [
          {
           "key": 10,
           "op": "addrange",
           "valuelist": "2"
          },
          {
           "key": 10,
           "length": 1,
           "op": "removerange"
          }
         ],
         "key": 0,
         "op": "patch"
        }
       ],
       "key": "display_name",
       "op": "patch"
      }
     ],
     "key": "kernelspec",
     "op": "patch"
    },
    {
     "diff": [
      {
       "diff": [
        {
         "diff": [
          {
           "key": 4,
           "op": "addrange",
           "valuelist": "2"
          },
          {
           "key": 4,
           "length": 1,
           "op": "removerange"
          }
         ],
         "key": 0,
         "op": "patch"
        }
       ],
       "key": "version",
       "op": "patch"
      }
     ],
     "key": "language_info",
     "op": "patch"
    }
   ],
   "remote_diff": [
    {
     "diff": [
      {
       "diff": [
        {
         "diff": [
          {
           "key": 10,
           "op": "addrange",
           "valuelist": "0"
          },
          {
           "key": 10,
           "length": 1,
           "op": "removerange"
          }
         ],
         "key": 0,
         "op": "patch"
        }
       ],
       "key": "display_name",
       "op": "patch"
      }
     ],
     "key": "kernelspec",
     "op": "patch"
    },
    {
     "diff": [
      {
       "diff": [
        {
         "diff": [
          {
           "key": 4,
           "op": "addrange",
           "valuelist": "0"
          },
          {
           "key": 4,
           "length": 1,
           "op": "removerange"
          }
         ],
         "key": 0,
         "op": "patch"
        }
       ],
       "key": "version",
       "op": "patch"
      }
     ],
     "key": "language_info",
     "op": "patch"
    }
   ]
  }
 },
 "nbformat": 4,
 "nbformat_minor": 4
}
