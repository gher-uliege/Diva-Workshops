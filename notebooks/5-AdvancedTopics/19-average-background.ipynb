{
 "cells": [
  {
   "cell_type": "markdown",
   "metadata": {},
   "source": [
    "# Create a background profile for your analysis\n",
    "The background field is the first-guess field. It will be subtracted from your observations in order to work with anomalies in the analysis.      \n",
    "The background field is then added to recover the original values."
   ]
  },
  {
   "cell_type": "code",
   "execution_count": null,
   "metadata": {},
   "outputs": [],
   "source": [
    "using DIVAnd\n",
    "using NCDatasets\n",
    "using Statistics\n",
    "using Makie, CairoMakie, GeoMakie\n",
    "include(\"../config.jl\")"
   ]
  },
  {
   "cell_type": "markdown",
   "metadata": {},
   "source": [
    "We consider the salinity data in the Procençal domain"
   ]
  },
  {
   "cell_type": "code",
   "execution_count": null,
   "metadata": {},
   "outputs": [],
   "source": [
    "varname = \"Salinity\""
   ]
  },
  {
   "cell_type": "markdown",
   "metadata": {},
   "source": [
    "Download the files (if needed) and set up domain extent and resolution."
   ]
  },
  {
   "cell_type": "code",
   "execution_count": null,
   "metadata": {},
   "outputs": [],
   "source": [
    "obsname = salinityprovencalfile\n",
    "download_check(salinityprovencalfile, salinityprovencalfileURL)\n",
    "bathname = gebco04file\n",
    "download_check(gebco04file, gebco04fileURL)\n",
    "\n",
    "lonr = 3.:0.1:11.8\n",
    "latr = 42.:0.1:44.5\n",
    "depthr = [0.,5, 10, 15, 20, 25, 30, 40, 50, 66, 75, 85, 100, 112, 125, 135, 150, 175, 200, \n",
    "         225, 250, 275, 300, 350, 400, 450, 500, 550, 600, 650, 700, 750, 800, 850, 900, 950, \n",
    "         1000, 1050, 1100, 1150, 1200, 1250, 1300, 1350, 1400, 1450, 1500, 1600, 1750, 1850, 2000];\n",
    "\n",
    "bathisglobal = true\n",
    "# Extract the bathymetry for plotting\n",
    "bx,by,b = extract_bath(bathname,bathisglobal,lonr,latr);"
   ]
  },
  {
   "cell_type": "markdown",
   "metadata": {},
   "source": [
    "## Data reading"
   ]
  },
  {
   "cell_type": "code",
   "execution_count": null,
   "metadata": {},
   "outputs": [],
   "source": [
    "obsvalue, obslon, obslat, obsdepth, obstime, obsids = DIVAnd.loadobs(Float64, obsname, varname);"
   ]
  },
  {
   "cell_type": "markdown",
   "metadata": {},
   "source": [
    "### Exclude some outliers\n",
    "We provide a list of identifiers corresponding to bad measurements, and also restrict the salinity value in the internal 37.6 - 38.75."
   ]
  },
  {
   "cell_type": "code",
   "execution_count": null,
   "metadata": {},
   "outputs": [],
   "source": [
    "badid = [\"wod_015600782O\",\"wod_015602753O\",\"wod_015604717O\",\"wod_015606732O\",\"wod_015607117O\",\n",
    "         \"wod_015607524O\",\"wod_015607893O\",\"wod_015924970O\",\"wod_015926914O\",\"wod_015928739O\",\n",
    "         \"wod_016650545O\",\"wod_008518725O\",\"wod_007643915O\",\"wod_015875365O\",\"wod_006614816O\",\n",
    "         \"wod_006614929O\",\"wod_006614937O\",\"wod_007644875O\",\"wod_009996947O\",\"wod_010742471O\",\n",
    "         \"wod_010742472O\",\"wod_006614931O\",\"wod_006614934O\",\"wod_006625408O\",\"wod_006752127O\",\n",
    "         \"wod_006752129O\"]\n",
    "\n",
    "good = (37.6 .< obsvalue .< 38.75) .& map(id -> !(id in badid),obsids)\n",
    "\n",
    "obsvalue = obsvalue[good]\n",
    "obslon = obslon[good]\n",
    "obslat = obslat[good]\n",
    "obsdepth = obsdepth[good]\n",
    "obstime = obstime[good]\n",
    "obsids = obsids[good];"
   ]
  },
  {
   "cell_type": "markdown",
   "metadata": {},
   "source": [
    "Verify the data range"
   ]
  },
  {
   "cell_type": "code",
   "execution_count": null,
   "metadata": {},
   "outputs": [],
   "source": [
    "DIVAnd.checkobs((obslon, obslat, obsdepth, obstime),obsvalue,obsids)"
   ]
  },
  {
   "cell_type": "markdown",
   "metadata": {},
   "source": [
    "## Prepare background\n",
    "\n",
    "We make a seasonal profile for all data within 1950 and 2017"
   ]
  },
  {
   "cell_type": "code",
   "execution_count": null,
   "metadata": {},
   "outputs": [],
   "source": [
    "yearlist = [1950:2017]\n",
    "\n",
    "# winter: January-March    1,2,3\n",
    "# spring: April-June       4,5,6\n",
    "# summer: July-September   7,8,9\n",
    "# autumn: October-December 10,11,12\n",
    "\n",
    "monthlists = [[1, 2, 3], [4, 5, 6], [7, 8, 9], [10, 11, 12]];\n",
    "\n",
    "TS = DIVAnd.TimeSelectorYearListMonthList(yearlist, monthlists)\n",
    "\n",
    "epsilon2 = ones(size(obsvalue));"
   ]
  },
  {
   "cell_type": "code",
   "execution_count": null,
   "metadata": {},
   "outputs": [],
   "source": [
    "?DIVAnd.average_background_profile"
   ]
  },
  {
   "cell_type": "markdown",
   "metadata": {},
   "source": [
    "### Create the background"
   ]
  },
  {
   "cell_type": "code",
   "execution_count": null,
   "metadata": {},
   "outputs": [],
   "source": [
    "background_filename = joinpath(outputdir, \"average_background_profile_$(varname).nc\")\n",
    "\n",
    "if isfile(background_filename)\n",
    "    rm(background_filename)\n",
    "end\n",
    "\n",
    "DIVAnd.average_background_profile(\n",
    "    background_filename, (lonr,latr,depthr,TS), (obslon, obslat, obsdepth, obstime), obsvalue,\n",
    "    epsilon2,\n",
    "    varname)"
   ]
  },
  {
   "cell_type": "markdown",
   "metadata": {},
   "source": [
    "### Plot the salinity profile"
   ]
  },
  {
   "cell_type": "code",
   "execution_count": null,
   "metadata": {
    "scrolled": true
   },
   "outputs": [],
   "source": [
    "ds = Dataset(background_filename)\n",
    "S = ds[\"Salinity\"][1,1,:,:]\n",
    "close(ds)"
   ]
  },
  {
   "cell_type": "code",
   "execution_count": null,
   "metadata": {},
   "outputs": [],
   "source": [
    "f = Figure()\n",
    "ax = Axis(f[1,1], ylabel=\"Depth (m)\", xlabel=\"S\", xaxisposition=:top)\n",
    "seasons = [\"winter\",\"spring\",\"summer\",\"autumn\"]\n",
    "for n = 1:length(seasons)\n",
    "    lines!(ax, S[:,n],-depthr,label=seasons[n], linewidth=2)\n",
    "end\n",
    "axislegend();\n",
    "ylims!(-500, 10)\n",
    "f"
   ]
  },
  {
   "cell_type": "markdown",
   "metadata": {},
   "source": [
    "### Plot the observations"
   ]
  },
  {
   "cell_type": "code",
   "execution_count": null,
   "metadata": {},
   "outputs": [],
   "source": [
    "sel = DIVAnd.select(TS,2,obstime) .& (obsdepth .< 5);"
   ]
  },
  {
   "cell_type": "code",
   "execution_count": null,
   "metadata": {},
   "outputs": [],
   "source": [
    "fig = Figure()\n",
    "ga = GeoAxis(fig[1,1];  dest = \"+proj=merc\", xticks=2.:1.:14, yticks=42.:1.:45., title=\"Observations\")\n",
    "sc = scatter!(ga, obslon[sel], obslat[sel], color=obsvalue[sel], colormap=:jet)\n",
    "contourf!(ga, bx, by, b, levels=[-1e5,0, 1.], colormap=Reverse(:binary))\n",
    "xlims!(bx[1], bx[end])\n",
    "ylims!(by[1], by[end])\n",
    "Colorbar(fig[2, 1], sc, vertical = false, label = \"S\")\n",
    "fig"
   ]
  },
  {
   "cell_type": "markdown",
   "metadata": {},
   "source": [
    "The vertical average is controled by a parameter `searchz` defined using the vertical resolution. `searchz` is a list of tuples where every tuple composed by an upper and lower bound."
   ]
  },
  {
   "cell_type": "code",
   "execution_count": null,
   "metadata": {},
   "outputs": [],
   "source": [
    "searchz = DIVAnd.background_profile_searchz(depthr);"
   ]
  },
  {
   "cell_type": "markdown",
   "metadata": {},
   "source": [
    "The surface value is this the average between 0 and 2.5 meters. Let's check:"
   ]
  },
  {
   "cell_type": "code",
   "execution_count": null,
   "metadata": {},
   "outputs": [],
   "source": [
    "sel = DIVAnd.select(TS,1,obstime) .& (0 .<= obsdepth .<= 2.5);\n",
    "@show mean(obsvalue[sel])\n",
    "@show S[1,1];"
   ]
  },
  {
   "cell_type": "markdown",
   "metadata": {},
   "source": [
    "Additional smoothing by increasing the value of the optional argument factor"
   ]
  },
  {
   "cell_type": "code",
   "execution_count": null,
   "metadata": {},
   "outputs": [],
   "source": [
    "searchz = DIVAnd.background_profile_searchz(depthr, factor=3);"
   ]
  },
  {
   "cell_type": "code",
   "execution_count": null,
   "metadata": {},
   "outputs": [],
   "source": [
    "background_filename2 = joinpath(outputdir, \"average_background_profile2_$(varname).nc\")\n",
    "\n",
    "if isfile(background_filename2)\n",
    "    rm(background_filename2)\n",
    "end\n",
    "\n",
    "DIVAnd.average_background_profile(\n",
    "    background_filename2, (lonr,latr,depthr,TS), (obslon, obslat, obsdepth, obstime), obsvalue,\n",
    "    epsilon2,\n",
    "    varname, searchz = searchz)"
   ]
  },
  {
   "cell_type": "markdown",
   "metadata": {},
   "source": [
    "### Plot the seasonal profiles"
   ]
  },
  {
   "cell_type": "code",
   "execution_count": null,
   "metadata": {},
   "outputs": [],
   "source": [
    "ds = Dataset(background_filename2)\n",
    "S2 = ds[\"Salinity\"][1,1,:,:]\n",
    "close(ds)"
   ]
  },
  {
   "cell_type": "code",
   "execution_count": null,
   "metadata": {},
   "outputs": [],
   "source": [
    "f = Figure()\n",
    "ax = Axis(f[1,1], ylabel=\"Depth (m)\", xlabel=\"S\", xaxisposition=:top)\n",
    "for n = 1:length(seasons)\n",
    "    line1 = lines!(ax, S2[:,n],-depthr,label=seasons[n], linewidth=3)\n",
    "    lines!(ax, S[:,n],-depthr, color=line1.color, linewidth=3, alpha=.5)\n",
    "end\n",
    "axislegend();\n",
    "ylims!(-100, 10)\n",
    "xlims!(37.98, 38.3)\n",
    "f"
   ]
  },
  {
   "cell_type": "markdown",
   "metadata": {},
   "source": [
    "## Exercise\n",
    "* Comment-out the quality check in the beginning and redo the other plots\n",
    "* Compare the results"
   ]
  }
 ],
 "metadata": {
  "@webio": {
   "lastCommId": null,
   "lastKernelId": null
  },
  "kernelspec": {
   "display_name": "Julia 1.11.2",
   "language": "julia",
   "name": "julia-1.11"
  },
  "language_info": {
   "file_extension": ".jl",
   "mimetype": "application/julia",
   "name": "julia",
   "version": "1.11.2"
  },
  "toc": {
   "base_numbering": 1,
   "nav_menu": {},
   "number_sections": true,
   "sideBar": true,
   "skip_h1_title": false,
   "title_cell": "Table of Contents",
   "title_sidebar": "Contents",
   "toc_cell": false,
   "toc_position": {},
   "toc_section_display": true,
   "toc_window_display": false
  }
 },
 "nbformat": 4,
 "nbformat_minor": 2
}
