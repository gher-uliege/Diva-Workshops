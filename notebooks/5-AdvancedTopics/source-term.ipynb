{
 "cells": [
  {
   "cell_type": "markdown",
   "metadata": {},
   "source": [
    "# DIVAnd with advection-diffusion-decay-sources\n",
    "\n",
    "## Implementation into DIVAnd: add constraint on tracer equation via C and accept error on sources $s_o$ via last term:\n",
    "\n",
    "\n",
    "Try to find field $x$ and sources $s$ to minimize\n",
    "\n",
    "$x^T B^{-1} x+  (Hx-y_o)^TR^{-1}(Hx-y_o) + (Cx -H_s^T s)^T Q^{-1}(Cx -H_s^T s)+ (s-s_o)^T R_s^{-1} (s-s_o)$ \n",
    "\n",
    "Since sources unknown or with errors: minimisation on them \n",
    "\n",
    "$-H_s Q^{-1}(Cx -H_s^T s)+R_s^{-1} (s-s_o)=0$ \n",
    "\n",
    "Provides\n",
    "\n",
    "$s=(H_s Q^{-1} H_s^T + R_s^{-1})^{-1}  [ H_s Q^{-1} Cx+ R_s^{-1}s_o]$\n",
    "\n",
    "Putting back into function to minimize\n",
    "\n",
    "$(Cx -H_s^T s)= [I - H_s^T (H_s Q^{-1} H_s^T + R_s^{-1})^{-1}H_s Q^{-1}   ] Cx  - H_s^T (H_s Q^{-1} H_s^T + R_s^{-1})^{-1} R_s^{-1}s_o= \\tilde{C}x - {H}_s^T \\tilde{s}_o$\n",
    "\n",
    "$\\tilde{s}_o=(H_s Q^{-1} H_s^T + R_s^{-1})^{-1} R_s^{-1} s_o$\n",
    "\n",
    "$\\tilde{S}=(H_s Q^{-1} H_s^T + R_s^{-1})^{-1} H_s Q^{-1} $\n",
    "\n",
    "$\\tilde{C}= [I-H_s^T \\tilde{S}]  C$\n",
    "\n",
    "\n",
    "\n",
    "\n",
    "$ (s-s_o) = (H_s Q^{-1} H_s^T + R_s^{-1})^{-1}  H_s Q^{-1} Cx    +  \\tilde{s}_o - s_o = \\tilde{S} C x - (s_o - \\tilde{s}_o)$\n",
    "\n",
    "So basically solve using virtual sources $\\tilde{s}_o$ and adapted constraint $\\tilde{C}$ and term on error on sources replaced by \n",
    "\n",
    "$\\tilde{S} C x - (s_o - \\tilde{s}_o)$\n",
    "\n",
    "\n",
    "\n",
    "$H_s$ is just the obs operator for the sources points.\n",
    "\n",
    "Once the solution $x$ found, one can calculate the estimated sources \n",
    "\n",
    "$s= \\tilde{S} C x + \\tilde{s}_o$\n",
    "\n"
   ]
  },
  {
   "cell_type": "code",
   "execution_count": 1,
   "metadata": {},
   "outputs": [
    {
     "name": "stderr",
     "output_type": "stream",
     "text": [
      "\u001b[32m\u001b[1m   Resolving\u001b[22m\u001b[39m package versions...\n",
      "\u001b[32m\u001b[1m  No Changes\u001b[22m\u001b[39m to `~/Projects/Diva-Workshops/Project.toml`\n",
      "\u001b[32m\u001b[1m  No Changes\u001b[22m\u001b[39m to `~/Projects/Diva-Workshops/Manifest.toml`\n"
     ]
    }
   ],
   "source": [
    "import Pkg; Pkg.add(\"SpecialFunctions\")"
   ]
  },
  {
   "cell_type": "code",
   "execution_count": 2,
   "metadata": {},
   "outputs": [
    {
     "data": {
      "text/plain": [
       "1-element Vector{Function}:\n",
       " format_current_cell (generic function with 1 method)"
      ]
     },
     "execution_count": 2,
     "metadata": {},
     "output_type": "execute_result"
    }
   ],
   "source": [
    "using DIVAnd\n",
    "using Makie, CairoMakie\n",
    "using LinearAlgebra\n",
    "using SparseArrays\n",
    "using SpecialFunctions\n",
    "using Statistics\n",
    "using JupyterFormatter\n",
    "enable_autoformat()"
   ]
  },
  {
   "cell_type": "markdown",
   "metadata": {},
   "source": [
    "## Observations"
   ]
  },
  {
   "cell_type": "code",
   "execution_count": 3,
   "metadata": {},
   "outputs": [
    {
     "data": {
      "text/plain": [
       "1-element Vector{Float64}:\n",
       " 1.0"
      ]
     },
     "execution_count": 3,
     "metadata": {},
     "output_type": "execute_result"
    }
   ],
   "source": [
    "# pseudo observations at source places\n",
    "x = [0.0];\n",
    "y = [0.0];\n",
    "testsize = 1991\n",
    "so = [1.0]\n",
    "#f = (sin.(x*6) .* cos.(y*6).+ cos.(x*6)) .+ randn(750) ;"
   ]
  },
  {
   "cell_type": "markdown",
   "metadata": {},
   "source": [
    "## Grid and mask"
   ]
  },
  {
   "cell_type": "code",
   "execution_count": 4,
   "metadata": {},
   "outputs": [
    {
     "data": {
      "text/plain": [
       "([1.0 1.0 … 1.0 1.0; 1.0 1.0 … 1.0 1.0; … ; 1.0 1.0 … 1.0 1.0; 1.0 1.0 … 1.0 1.0], [0.0 0.0 … 0.0 0.0; 0.0 0.0 … 0.0 0.0; … ; 0.0 0.0 … 0.0 0.0; 0.0 0.0 … 0.0 0.0])"
      ]
     },
     "execution_count": 4,
     "metadata": {},
     "output_type": "execute_result"
    }
   ],
   "source": [
    "xi, yi =\n",
    "    ndgrid(range(-6, stop = 10, length = testsize), range(-8, stop = 8, length = testsize));\n",
    "\n",
    "# all points are valid points\n",
    "mask = trues(size(xi));\n",
    "\n",
    "# this problem has a simple cartesian metric\n",
    "# pm is the inverse of the resolution along the 1st dimension\n",
    "# pn is the inverse of the resolution along the 2nd dimension\n",
    "\n",
    "pm = ones(size(xi)) / (xi[2, 1] - xi[1, 1]);\n",
    "pn = ones(size(xi)) / (yi[1, 2] - yi[1, 1]);\n",
    "\n",
    "# correlation length\n",
    "len = 1.0;\n",
    "\n",
    "# obs. error variance normalized by the background error variance\n",
    "epsilon2 = 0.1;\n",
    "\n",
    "gamma = 1\n",
    "\n",
    "uscale = 1\n",
    "u = uscale * ones(Float64, size(xi))\n",
    "v = 0.0 .* ones(Float64, size(xi))\n",
    "velocity = (u, v)\n",
    "\n",
    "# fi is the interpolated field"
   ]
  },
  {
   "cell_type": "markdown",
   "metadata": {},
   "source": [
    "To create the advection diffusion constraint DO NOT USE ANY OTHER CONSTRAINT HERE\n",
    "If expensive use iterative solver with no iterations, result is not important but `s` is needed\n",
    "```julia\n",
    "@time fi,s = DIVAndrun(mask,(pm,pn),(xi,yi),(x,y),so,len,epsilon2;maxit = 0,\n",
    "                inversion = :pcg);\n",
    "@show extrema(fi)\n",
    "```"
   ]
  },
  {
   "cell_type": "code",
   "execution_count": 5,
   "metadata": {},
   "outputs": [
    {
     "data": {
      "text/plain": [
       "DIVAconstr_advdifftracer (generic function with 1 method)"
      ]
     },
     "execution_count": 5,
     "metadata": {},
     "output_type": "execute_result"
    }
   ],
   "source": [
    "function DIVAconstr_advdifftracer(\n",
    "    mask,\n",
    "    pmn,\n",
    "    xyi,\n",
    "    xy,\n",
    "    so,\n",
    "    epsilon2advdiff,\n",
    "    epsilon2source;\n",
    "    velocity = ([zeros(Float64, size(mask)) for k in pmn]...,),\n",
    "    diffusivity = zeros(Float64, ndims(mask)),\n",
    "    decayrate = 0.0,\n",
    "    moddim = zeros(ndims(mask)),\n",
    ")\n",
    "    # To add an advection-diffusion-decay-source equation.\n",
    "    #  u*grad(f)=Div(K grad(f)) - gamma f + Sum so_i delta(x_i)\n",
    "    # xy are the coordinates of the source terms \n",
    "    # so is a vector containing all local sources. They are dirac values. \n",
    "    # epsilon2advdiff: error on the constraint (TODO: check overall scaling)\n",
    "    # epsilon2source: error in each individual local source term (can be a scalar or vector) (TODO: check overall scaling)\n",
    "    # velocity contains the velocity components on the output grid xyi\n",
    "    # Diffusivity contains the diffusion coefficient (scalar for isotropic, array for anisotropic)\n",
    "    # Decayrate contains the decay rate gamma\n",
    "    #\n",
    "    #  Notes: units/dimensions of velocities, and diffusivities need to be consistent with the metrics pmn.\n",
    "    #    so that in fine all terms have the same units [f]/[time], so you also need the decay rate have the same\n",
    "    #    time units\n",
    "    #  To add time-evolution, just deal with it as an additional dimension but \n",
    "    #      with unit advection velocity in that direction\n",
    "    #      zero diffusivity in that direction\n",
    "    #      repeated sources at the same position if the source is distributed over time\n",
    "\n",
    "    #  For line sources in general (be it in time or space): create an array of sources WHICH COVER THE LINE\n",
    "    #   ONE POINT PER OUTPUT GRID\n",
    "\n",
    "    # As an output if this function, you get two constraints to be added to your other constraints as well \n",
    "    # as utility arrays that allow to assess a posterio source values consistent with the tracer observations\n",
    "\n",
    "    iscyclic = moddim .> 0\n",
    "\n",
    "    Labs = DIVAnd.len_harmonize(1.0, mask)\n",
    "\n",
    "    s, D = DIVAnd.DIVAnd_operators(\n",
    "        Val{:sparse},\n",
    "        collect(mask),\n",
    "        pmn,\n",
    "        ([L .^ 2 for L in Labs]...,),\n",
    "        iscyclic,\n",
    "        [],\n",
    "        Labs;\n",
    "        coeff_laplacian = diffusivity, #ones(Float64,ndims(mask))\n",
    "    )\n",
    "\n",
    "    #@show size(s.D)\n",
    "\n",
    "    RS = DIVAnd_obscovar(epsilon2source, length(so))\n",
    "\n",
    "    # add observation constrain to cost function\n",
    "    #@info \"Adding observation constraint to cost function\"\n",
    "    obscon = DIVAnd.DIVAnd_obs(s, xyi, xy, so, RS, Matrix(undef, 0, 0))\n",
    "\n",
    "\n",
    "    advc = DIVAnd_constr_advec(s, velocity)\n",
    "\n",
    "    # Need to get the inverse volumes at sources to make the integral correct\n",
    "    d = .*(pmn[:]...)\n",
    "\n",
    "    ivol = dropdims(\n",
    "        sum(\n",
    "            obscon.H * oper_diag(Val{:sparse}, statevector_pack(s.sv, (d,))[:, 1]),\n",
    "            dims = 2,\n",
    "        );\n",
    "        dims = 2,\n",
    "    )\n",
    "\n",
    "\n",
    "\n",
    "    HS = obscon.H\n",
    "    C = advc.H - s.D + decayrate * I\n",
    "    QS = advc.R * epsilon2advdiff\n",
    "\n",
    "    # inverses are used here for convenience assuming QS and RS are diagonal\n",
    "    # For line sources, one could introduce a correlation by using a tridiagonal matrix, easy to invers\n",
    "    W1 = lu(HS * inv(QS) * HS' + inv(RS))\n",
    "\n",
    "    sot = W1 \\ (inv(RS) * so)\n",
    "\n",
    "    ST = sparse(W1 \\ Matrix(HS * inv(QS)))\n",
    "\n",
    "    #\n",
    "    STC = ST * C\n",
    "    CT = C - HS' * STC\n",
    "\n",
    "    #CT=C-HS'*(ST*C)\n",
    "\n",
    "    # Advection diffusion constraint\n",
    "    sourcec1 = DIVAnd.DIVAnd_constrain(HS' * sot .* ivol, QS, CT)\n",
    "    # Initial guess on source constraint\n",
    "    sourcec2 = DIVAnd.DIVAnd_constrain((so - sot) .* ivol, RS, STC)\n",
    "\n",
    "    # Returns two constrains and tools for postprocessing   \n",
    "    return sourcec1, sourcec2, STC, ivol, sot\n",
    "end"
   ]
  },
  {
   "cell_type": "markdown",
   "metadata": {},
   "source": [
    "## Run analsis with constrain"
   ]
  },
  {
   "cell_type": "code",
   "execution_count": null,
   "metadata": {},
   "outputs": [],
   "source": [
    "sourcec1,sourcec2,STC,ivol,sot=DIVAconstr_advdifftracer(mask,(pm,pn),(xi,yi),(x,y),so,0.000001,0.000000001;\n",
    "        velocity=velocity, diffusivity=[0.25,0.25],decayrate=gamma)"
   ]
  },
  {
   "cell_type": "code",
   "execution_count": null,
   "metadata": {},
   "outputs": [],
   "source": []
  },
  {
   "cell_type": "code",
   "execution_count": null,
   "metadata": {},
   "outputs": [],
   "source": [
    "# use the two constraints in addition to any other analysis parameters\n",
    "@time fi,sb = DIVAndrun(mask,(pm,pn),(xi,yi),(x,y),[1.],len,epsilon2*100000;constraints=(sourcec1,sourcec2));\n",
    "@show extrema(fi)\n",
    "\n",
    "# Add diagnostic on actual source:\n",
    "sbest=STC*statevector_pack(sb.sv, (fi,))[:, 1]./ivol+sot\n"
   ]
  },
  {
   "cell_type": "code",
   "execution_count": null,
   "metadata": {},
   "outputs": [],
   "source": [
    "\n",
    "\n",
    "figure()\n",
    "pcolor(xi[:,:],yi[:,:],fi[:,:],cmap=\"RdBu_r\",shading=\"nearest\");\n",
    "colorbar()\n",
    "clim(0,0.5)\n",
    "title(\"Interpolated field\");\n",
    "    "
   ]
  },
  {
   "cell_type": "code",
   "execution_count": null,
   "metadata": {},
   "outputs": [],
   "source": [
    "fi2=so[1]/pi*2*exp.(2*(xi.*u.+yi.*v)).*SpecialFunctions.besselk.(0, 2*sqrt.((1+gamma).*(xi.^2+yi.^2)))"
   ]
  },
  {
   "cell_type": "code",
   "execution_count": null,
   "metadata": {},
   "outputs": [],
   "source": [
    "figure()\n",
    "pcolor(xi[:,:],yi[:,:],fi2[:,:],cmap=\"RdBu_r\",shading=\"nearest\");\n",
    "colorbar()\n",
    "clim(0,0.5)\n",
    "title(\"Interpolated field\");"
   ]
  },
  {
   "cell_type": "code",
   "execution_count": null,
   "metadata": {},
   "outputs": [],
   "source": [
    "for r in 0.5:0.01:1.5\n",
    "    @show r,norm(fi2[isfinite.(fi2)].-r.*fi[isfinite.(fi2)])./norm(fi2[isfinite.(fi2)])\n",
    "end"
   ]
  },
  {
   "cell_type": "code",
   "execution_count": null,
   "metadata": {},
   "outputs": [],
   "source": [
    "norm(fi2[isfinite.(fi2)])"
   ]
  },
  {
   "cell_type": "code",
   "execution_count": null,
   "metadata": {},
   "outputs": [],
   "source": [
    "s.WD[10,10]"
   ]
  },
  {
   "cell_type": "code",
   "execution_count": null,
   "metadata": {},
   "outputs": [],
   "source": [
    "pm[10,10]*pn[10,10]"
   ]
  },
  {
   "cell_type": "code",
   "execution_count": null,
   "metadata": {},
   "outputs": [],
   "source": []
  }
 ],
 "metadata": {
  "kernelspec": {
   "display_name": "Julia 1.11.3",
   "language": "julia",
   "name": "julia-1.11"
  },
  "language_info": {
   "file_extension": ".jl",
   "mimetype": "application/julia",
   "name": "julia",
   "version": "1.11.3"
  },
  "toc": {
   "base_numbering": 1,
   "nav_menu": {},
   "number_sections": true,
   "sideBar": true,
   "skip_h1_title": false,
   "title_cell": "Table of Contents",
   "title_sidebar": "Contents",
   "toc_cell": false,
   "toc_position": {},
   "toc_section_display": true,
   "toc_window_display": false
  }
 },
 "nbformat": 4,
 "nbformat_minor": 4
}
