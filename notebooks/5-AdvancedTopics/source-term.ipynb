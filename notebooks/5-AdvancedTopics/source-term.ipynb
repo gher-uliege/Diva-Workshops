{
 "cells": [
  {
   "cell_type": "markdown",
   "metadata": {},
   "source": [
    "# DIVAnd with advection-diffusion-decay-sources\n",
    "\n",
    "## Implementation into DIVAnd: add constraint on tracer equation via C and accept error on sources $s_o$ via last term:\n",
    "\n",
    "\n",
    "Try to find field $x$ and sources $s$ to minimize\n",
    "\n",
    "$x^T B^{-1} x+  (Hx-y_o)^TR^{-1}(Hx-y_o) + (Cx -H_s^T s)^T Q^{-1}(Cx -H_s^T s)+ (s-s_o)^T R_s^{-1} (s-s_o)$ \n",
    "\n",
    "Since sources unknown or with errors: minimisation on them \n",
    "\n",
    "$-H_s Q^{-1}(Cx -H_s^T s)+R_s^{-1} (s-s_o)=0$ \n",
    "\n",
    "Provides\n",
    "\n",
    "$s=(H_s Q^{-1} H_s^T + R_s^{-1})^{-1}  [ H_s Q^{-1} Cx+ R_s^{-1}s_o]$\n",
    "\n",
    "Putting back into function to minimize\n",
    "\n",
    "$(Cx -H_s^T s)= [I - H_s^T (H_s Q^{-1} H_s^T + R_s^{-1})^{-1}H_s Q^{-1}   ] Cx  - H_s^T (H_s Q^{-1} H_s^T + R_s^{-1})^{-1} R_s^{-1}s_o= \\tilde{C}x - {H}_s^T \\tilde{s}_o$\n",
    "\n",
    "$\\tilde{s}_o=(H_s Q^{-1} H_s^T + R_s^{-1})^{-1} R_s^{-1} s_o$\n",
    "\n",
    "$\\tilde{S}=(H_s Q^{-1} H_s^T + R_s^{-1})^{-1} H_s Q^{-1} $\n",
    "\n",
    "$\\tilde{C}= [I-H_s^T \\tilde{S}]  C$\n",
    "\n",
    "\n",
    "\n",
    "\n",
    "$ (s-s_o) = (H_s Q^{-1} H_s^T + R_s^{-1})^{-1}  H_s Q^{-1} Cx    +  \\tilde{s}_o - s_o = \\tilde{S} C x - (s_o - \\tilde{s}_o)$\n",
    "\n",
    "So basically solve using virtual sources $\\tilde{s}_o$ and adapted constraint $\\tilde{C}$ and term on error on sources replaced by \n",
    "\n",
    "$\\tilde{S} C x - (s_o - \\tilde{s}_o)$\n",
    "\n",
    "\n",
    "\n",
    "$H_s$ is just the obs operator for the sources points.\n",
    "\n",
    "Once the solution $x$ found, one can calculate the estimated sources \n",
    "\n",
    "$s= \\tilde{S} C x + \\tilde{s}_o$\n",
    "\n"
   ]
  },
  {
   "cell_type": "code",
   "execution_count": 13,
   "metadata": {},
   "outputs": [
    {
     "ename": "LoadError",
     "evalue": "MethodError: no method matching pipe_writer(::IJulia.IJuliaStdio{Base.PipeEndpoint})\nThe applicable method may be too new: running in world age 26675, while current world is 26721.\n\n\u001b[0mClosest candidates are:\n\u001b[0m  pipe_writer(::IJulia.IJuliaStdio) (method too new to be called from this world context.)\n\u001b[0m\u001b[90m   @\u001b[39m \u001b[36mIJulia\u001b[39m \u001b[90m~/.julia/packages/IJulia/dR0lE/src/\u001b[39m\u001b[90m\u001b[4mstdio.jl:15\u001b[24m\u001b[39m\n\u001b[0m  pipe_writer(\u001b[91m::Base.Process\u001b[39m)\n\u001b[0m\u001b[90m   @\u001b[39m \u001b[90mBase\u001b[39m \u001b[90m\u001b[4mprocess.jl:23\u001b[24m\u001b[39m\n\u001b[0m  pipe_writer(\u001b[91m::Pipe\u001b[39m)\n\u001b[0m\u001b[90m   @\u001b[39m \u001b[90mBase\u001b[39m \u001b[90m\u001b[4mstream.jl:780\u001b[24m\u001b[39m\n\u001b[0m  ...\n",
     "output_type": "error",
     "traceback": [
      "MethodError: no method matching pipe_writer(::IJulia.IJuliaStdio{Base.PipeEndpoint})\nThe applicable method may be too new: running in world age 26675, while current world is 26721.\n\n\u001b[0mClosest candidates are:\n\u001b[0m  pipe_writer(::IJulia.IJuliaStdio) (method too new to be called from this world context.)\n\u001b[0m\u001b[90m   @\u001b[39m \u001b[36mIJulia\u001b[39m \u001b[90m~/.julia/packages/IJulia/dR0lE/src/\u001b[39m\u001b[90m\u001b[4mstdio.jl:15\u001b[24m\u001b[39m\n\u001b[0m  pipe_writer(\u001b[91m::Base.Process\u001b[39m)\n\u001b[0m\u001b[90m   @\u001b[39m \u001b[90mBase\u001b[39m \u001b[90m\u001b[4mprocess.jl:23\u001b[24m\u001b[39m\n\u001b[0m  pipe_writer(\u001b[91m::Pipe\u001b[39m)\n\u001b[0m\u001b[90m   @\u001b[39m \u001b[90mBase\u001b[39m \u001b[90m\u001b[4mstream.jl:780\u001b[24m\u001b[39m\n\u001b[0m  ...\n",
      "",
      "Stacktrace:",
      " [1] unsafe_write(io::IJulia.IJuliaStdio{Base.PipeEndpoint}, p::Ptr{UInt8}, nb::UInt64)",
      "   @ Base ./io.jl:452",
      " [2] precompilepkgs(pkgs::Vector{String}; internal_call::Bool, strict::Bool, warn_loaded::Bool, timing::Bool, _from_loading::Bool, configs::Pair{Cmd, Base.CacheFlags}, io::IJulia.IJuliaStdio{Base.PipeEndpoint}, fancyprint::Bool)",
      "   @ Base.Precompilation ./precompilation.jl:409"
     ]
    }
   ],
   "source": [
    "using DIVAnd\n",
    "using PythonPlot\n",
    "using LinearAlgebra\n",
    "using SparseArrays\n",
    "using SpecialFunctions\n",
    "using Statistics"
   ]
  },
  {
   "cell_type": "code",
   "execution_count": 2,
   "metadata": {},
   "outputs": [
    {
     "ename": "LoadError",
     "evalue": "UndefVarError: `ndgrid` not defined in `Main`\nSuggestion: check for spelling errors or missing imports.",
     "output_type": "error",
     "traceback": [
      "UndefVarError: `ndgrid` not defined in `Main`\nSuggestion: check for spelling errors or missing imports.",
      "",
      "Stacktrace:",
      " [1] top-level scope",
      "   @ In[2]:7"
     ]
    }
   ],
   "source": [
    "# pseudo observations at source places\n",
    "x = [0.];\n",
    "y = [0.];\n",
    "\n",
    "testsize=1991\n",
    "\n",
    "so=[1.]\n",
    "\n",
    "#f = (sin.(x*6) .* cos.(y*6).+ cos.(x*6)) .+ randn(750) ;\n",
    "\n",
    "# final grid\n",
    "#\n",
    "\n",
    "\n",
    "xi,yi= ndgrid(range(-6,stop=10,length=testsize),range(-8,stop=8,length=testsize));\n",
    "\n",
    "\n",
    "\n",
    "# all points are valid points\n",
    "mask = trues(size(xi));\n",
    "\n",
    "# this problem has a simple cartesian metric\n",
    "# pm is the inverse of the resolution along the 1st dimension\n",
    "# pn is the inverse of the resolution along the 2nd dimension\n",
    "\n",
    "pm = ones(size(xi)) / (xi[2,1]-xi[1,1]);\n",
    "pn = ones(size(xi)) / (yi[1,2]-yi[1,1]);\n",
    "\n",
    "\n",
    "# correlation length\n",
    "len = 1.;\n",
    "\n",
    "# obs. error variance normalized by the background error variance\n",
    "epsilon2 = .1;\n",
    "\n",
    "gamma=1\n",
    "\n",
    "uscale=1\n",
    "u=uscale*ones(Float64,size(xi))\n",
    "v=0.0 .* ones(Float64,size(xi))\n",
    "velocity=(u,v)\n",
    "# fi is the interpolated field\n",
    "\n",
    "# To create the advection diffusion constraint DO NOT USE ANY OTHER CONSTRAINT HERE\n",
    "# If expensive use iterative solver with no iterations, result is not important but s is needed\n",
    "#@time fi,s = DIVAndrun(mask,(pm,pn),(xi,yi),(x,y),so,len,epsilon2;maxit = 0,\n",
    "#                inversion = :pcg);\n",
    "#@show extrema(fi)"
   ]
  },
  {
   "cell_type": "code",
   "execution_count": 3,
   "metadata": {},
   "outputs": [
    {
     "data": {
      "text/plain": [
       "DIVAconstr_advdifftracer (generic function with 1 method)"
      ]
     },
     "execution_count": 3,
     "metadata": {},
     "output_type": "execute_result"
    }
   ],
   "source": [
    "\n",
    "\n",
    "\n",
    "\n",
    "function DIVAconstr_advdifftracer(mask,pmn,xyi,xy,so,epsilon2advdiff,epsilon2source;\n",
    "        velocity=([zeros(Float64,size(mask)) for k in pmn]...,), \n",
    "        diffusivity=zeros(Float64,ndims(mask)),decayrate=0.0,moddim=zeros(ndims(mask)))\n",
    "# To add an advection-diffusion-decay-source equation.\n",
    "#  u*grad(f)=Div(K grad(f)) - gamma f + Sum so_i delta(x_i)\n",
    "# xy are the coordinates of the source terms \n",
    "# so is a vector containing all local sources. They are dirac values. \n",
    "# epsilon2advdiff: error on the constraint (TODO: check overall scaling)\n",
    "# epsilon2source: error in each individual local source term (can be a scalar or vector) (TODO: check overall scaling)\n",
    "# velocity contains the velocity components on the output grid xyi\n",
    "# Diffusivity contains the diffusion coefficient (scalar for isotropic, array for anisotropic)\n",
    "# Decayrate contains the decay rate gamma\n",
    "#\n",
    "#  Notes: units/dimensions of velocities, and diffusivities need to be consistent with the metrics pmn.\n",
    "#    so that in fine all terms have the same units [f]/[time], so you also need the decay rate have the same\n",
    "#    time units\n",
    "#  To add time-evolution, just deal with it as an additional dimension but \n",
    "#      with unit advection velocity in that direction\n",
    "#      zero diffusivity in that direction\n",
    "#      repeated sources at the same position if the source is distributed over time\n",
    "\n",
    "#  For line sources in general (be it in time or space): create an array of sources WHICH COVER THE LINE\n",
    "#   ONE POINT PER OUTPUT GRID\n",
    "\n",
    "# As an output if this function, you get two constraints to be added to your other constraints as well \n",
    "# as utility arrays that allow to assess a posterio source values consistent with the tracer observations\n",
    "    \n",
    "    iscyclic = moddim .> 0\n",
    "\n",
    "\n",
    "\n",
    "\n",
    "Labs=DIVAnd.len_harmonize(1.0, mask)\n",
    "\n",
    "s,D=DIVAnd.DIVAnd_operators(\n",
    "    Val{:sparse},\n",
    "    collect(mask),\n",
    "    pmn,\n",
    "    ([L .^ 2 for L in Labs]...,),\n",
    "    iscyclic,\n",
    "    [],\n",
    "    Labs;\n",
    "    coeff_laplacian = diffusivity #ones(Float64,ndims(mask))\n",
    "    )\n",
    "\n",
    "#@show size(s.D)\n",
    "\n",
    "RS = DIVAnd_obscovar(epsilon2source, length(so))\n",
    "\n",
    "    # add observation constrain to cost function\n",
    "    #@info \"Adding observation constraint to cost function\"\n",
    "obscon = DIVAnd.DIVAnd_obs(s, xyi, xy, so, RS,  Matrix(undef, 0, 0))\n",
    "\n",
    "\n",
    "advc= DIVAnd_constr_advec(s, velocity)\n",
    "   \n",
    "\n",
    " \n",
    "\n",
    "# Need to get the inverse volumes at sources to make the integral correct\n",
    "    d = .*(pmn[:]...)\n",
    "\n",
    "    ivol=dropdims(sum(obscon.H*oper_diag(Val{:sparse}, statevector_pack(s.sv, (d,))[:, 1]),dims=2);dims=2)\n",
    "\n",
    "\n",
    "\n",
    "HS=obscon.H\n",
    "\n",
    "\n",
    "\n",
    "C=advc.H-s.D+decayrate*I\n",
    "\n",
    "\n",
    "\n",
    "QS=advc.R*epsilon2advdiff\n",
    "\n",
    "# inverses are used here for convenience assuming QS and RS are diagonal\n",
    "# For line sources, one could introduce a correlation by using a tridiagonal matrix, easy to invers\n",
    "W1=lu(HS*inv(QS)*HS'+inv(RS))\n",
    "\n",
    "sot=W1\\(inv(RS)*so)\n",
    "\n",
    "\n",
    "\n",
    "\n",
    "\n",
    "ST= sparse(W1\\Matrix(HS*inv(QS)))\n",
    "\n",
    "#\n",
    "STC=ST*C\n",
    "CT=C-HS'*STC\n",
    "\n",
    "#CT=C-HS'*(ST*C)\n",
    "\n",
    "\n",
    "\n",
    "\n",
    "# Advection diffusion constraint\n",
    "sourcec1=DIVAnd.DIVAnd_constrain(HS'*sot.*ivol, QS, CT)\n",
    "# Initial guess on source constraint\n",
    "sourcec2=DIVAnd.DIVAnd_constrain((so-sot).*ivol, RS, STC)\n",
    "# Returns two constrains and tools for postprocessing   \n",
    "return sourcec1,sourcec2,STC,ivol,sot\n",
    "end"
   ]
  },
  {
   "cell_type": "code",
   "execution_count": 4,
   "metadata": {},
   "outputs": [
    {
     "ename": "LoadError",
     "evalue": "UndefVarError: `pm` not defined in `Main`\nSuggestion: check for spelling errors or missing imports.",
     "output_type": "error",
     "traceback": [
      "UndefVarError: `pm` not defined in `Main`\nSuggestion: check for spelling errors or missing imports.",
      "",
      "Stacktrace:",
      " [1] top-level scope",
      "   @ In[4]:1"
     ]
    }
   ],
   "source": [
    "sourcec1,sourcec2,STC,ivol,sot=DIVAconstr_advdifftracer(mask,(pm,pn),(xi,yi),(x,y),so,0.000001,0.000000001;\n",
    "        velocity=velocity, diffusivity=[0.25,0.25],decayrate=gamma)"
   ]
  },
  {
   "cell_type": "code",
   "execution_count": null,
   "metadata": {},
   "outputs": [],
   "source": []
  },
  {
   "cell_type": "code",
   "execution_count": 5,
   "metadata": {},
   "outputs": [
    {
     "ename": "LoadError",
     "evalue": "UndefVarError: `pm` not defined in `Main`\nSuggestion: check for spelling errors or missing imports.",
     "output_type": "error",
     "traceback": [
      "UndefVarError: `pm` not defined in `Main`\nSuggestion: check for spelling errors or missing imports.",
      "",
      "Stacktrace:",
      " [1] macro expansion",
      "   @ ./timing.jl:581 [inlined]",
      " [2] top-level scope",
      "   @ ./In[5]:2"
     ]
    }
   ],
   "source": [
    "# use the two constraints in addition to any other analysis parameters\n",
    "@time fi,sb = DIVAndrun(mask,(pm,pn),(xi,yi),(x,y),[1.],len,epsilon2*100000;constraints=(sourcec1,sourcec2));\n",
    "@show extrema(fi)\n",
    "\n",
    "# Add diagnostic on actual source:\n",
    "sbest=STC*statevector_pack(sb.sv, (fi,))[:, 1]./ivol+sot\n"
   ]
  },
  {
   "cell_type": "code",
   "execution_count": 6,
   "metadata": {},
   "outputs": [
    {
     "ename": "LoadError",
     "evalue": "UndefVarError: `figure` not defined in `Main`\nSuggestion: check for spelling errors or missing imports.",
     "output_type": "error",
     "traceback": [
      "UndefVarError: `figure` not defined in `Main`\nSuggestion: check for spelling errors or missing imports.",
      "",
      "Stacktrace:",
      " [1] top-level scope",
      "   @ In[6]:3"
     ]
    }
   ],
   "source": [
    "\n",
    "\n",
    "figure()\n",
    "pcolor(xi[:,:],yi[:,:],fi[:,:],cmap=\"RdBu_r\",shading=\"nearest\");\n",
    "colorbar()\n",
    "clim(0,0.5)\n",
    "title(\"Interpolated field\");\n",
    "    "
   ]
  },
  {
   "cell_type": "code",
   "execution_count": 7,
   "metadata": {},
   "outputs": [
    {
     "ename": "LoadError",
     "evalue": "UndefVarError: `xi` not defined in `Main`\nSuggestion: check for spelling errors or missing imports.",
     "output_type": "error",
     "traceback": [
      "UndefVarError: `xi` not defined in `Main`\nSuggestion: check for spelling errors or missing imports.",
      "",
      "Stacktrace:",
      " [1] top-level scope",
      "   @ In[7]:1"
     ]
    }
   ],
   "source": [
    "fi2=so[1]/pi*2*exp.(2*(xi.*u.+yi.*v)).*SpecialFunctions.besselk.(0, 2*sqrt.((1+gamma).*(xi.^2+yi.^2)))"
   ]
  },
  {
   "cell_type": "code",
   "execution_count": 8,
   "metadata": {},
   "outputs": [
    {
     "ename": "LoadError",
     "evalue": "UndefVarError: `figure` not defined in `Main`\nSuggestion: check for spelling errors or missing imports.",
     "output_type": "error",
     "traceback": [
      "UndefVarError: `figure` not defined in `Main`\nSuggestion: check for spelling errors or missing imports.",
      "",
      "Stacktrace:",
      " [1] top-level scope",
      "   @ In[8]:1"
     ]
    }
   ],
   "source": [
    "figure()\n",
    "pcolor(xi[:,:],yi[:,:],fi2[:,:],cmap=\"RdBu_r\",shading=\"nearest\");\n",
    "colorbar()\n",
    "clim(0,0.5)\n",
    "title(\"Interpolated field\");"
   ]
  },
  {
   "cell_type": "code",
   "execution_count": 9,
   "metadata": {},
   "outputs": [
    {
     "ename": "LoadError",
     "evalue": "UndefVarError: `norm` not defined in `Main`\nSuggestion: check for spelling errors or missing imports.\nHint: a global variable of this name may be made accessible by importing LinearAlgebra in the current active module Main",
     "output_type": "error",
     "traceback": [
      "UndefVarError: `norm` not defined in `Main`\nSuggestion: check for spelling errors or missing imports.\nHint: a global variable of this name may be made accessible by importing LinearAlgebra in the current active module Main",
      "",
      "Stacktrace:",
      " [1] macro expansion",
      "   @ ./show.jl:1232 [inlined]",
      " [2] top-level scope",
      "   @ ./In[9]:2"
     ]
    }
   ],
   "source": [
    "for r in 0.5:0.01:1.5\n",
    "    @show r,norm(fi2[isfinite.(fi2)].-r.*fi[isfinite.(fi2)])./norm(fi2[isfinite.(fi2)])\n",
    "end"
   ]
  },
  {
   "cell_type": "code",
   "execution_count": 10,
   "metadata": {},
   "outputs": [
    {
     "ename": "LoadError",
     "evalue": "UndefVarError: `norm` not defined in `Main`\nSuggestion: check for spelling errors or missing imports.\nHint: a global variable of this name may be made accessible by importing LinearAlgebra in the current active module Main",
     "output_type": "error",
     "traceback": [
      "UndefVarError: `norm` not defined in `Main`\nSuggestion: check for spelling errors or missing imports.\nHint: a global variable of this name may be made accessible by importing LinearAlgebra in the current active module Main",
      "",
      "Stacktrace:",
      " [1] top-level scope",
      "   @ In[10]:1"
     ]
    }
   ],
   "source": [
    "norm(fi2[isfinite.(fi2)])"
   ]
  },
  {
   "cell_type": "code",
   "execution_count": 11,
   "metadata": {},
   "outputs": [
    {
     "ename": "LoadError",
     "evalue": "UndefVarError: `s` not defined in `Main`\nSuggestion: check for spelling errors or missing imports.",
     "output_type": "error",
     "traceback": [
      "UndefVarError: `s` not defined in `Main`\nSuggestion: check for spelling errors or missing imports.",
      "",
      "Stacktrace:",
      " [1] top-level scope",
      "   @ In[11]:1"
     ]
    }
   ],
   "source": [
    "s.WD[10,10]"
   ]
  },
  {
   "cell_type": "code",
   "execution_count": 12,
   "metadata": {},
   "outputs": [
    {
     "ename": "LoadError",
     "evalue": "UndefVarError: `pm` not defined in `Main`\nSuggestion: check for spelling errors or missing imports.",
     "output_type": "error",
     "traceback": [
      "UndefVarError: `pm` not defined in `Main`\nSuggestion: check for spelling errors or missing imports.",
      "",
      "Stacktrace:",
      " [1] top-level scope",
      "   @ In[12]:1"
     ]
    }
   ],
   "source": [
    "pm[10,10]*pn[10,10]"
   ]
  },
  {
   "cell_type": "code",
   "execution_count": null,
   "metadata": {},
   "outputs": [],
   "source": []
  }
 ],
 "metadata": {
  "kernelspec": {
   "display_name": "Julia 1.11.2",
   "language": "julia",
   "name": "julia-1.11"
  },
  "language_info": {
   "file_extension": ".jl",
   "mimetype": "application/julia",
   "name": "julia",
   "version": "1.11.2"
  },
  "toc": {
   "base_numbering": 1,
   "nav_menu": {},
   "number_sections": true,
   "sideBar": true,
   "skip_h1_title": false,
   "title_cell": "Table of Contents",
   "title_sidebar": "Contents",
   "toc_cell": false,
   "toc_position": {},
   "toc_section_display": true,
   "toc_window_display": false
  }
 },
 "nbformat": 4,
 "nbformat_minor": 4
}
