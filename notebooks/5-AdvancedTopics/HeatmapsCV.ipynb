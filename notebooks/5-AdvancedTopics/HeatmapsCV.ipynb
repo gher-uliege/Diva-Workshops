{
 "cells": [
  {
   "cell_type": "markdown",
   "metadata": {},
   "source": [
    "# Density map with cross validation"
   ]
  },
  {
   "cell_type": "code",
   "execution_count": null,
   "metadata": {
    "collapsed": false,
    "jupyter": {
     "outputs_hidden": false
    }
   },
   "outputs": [],
   "source": [
    "using DIVAnd\n",
    "using Makie, CairoMakie\n",
    "using Statistics\n",
    "using DelimitedFiles\n",
    "using LinearAlgebra\n",
    "using Random\n",
    "using JupyterFormatter\n",
    "enable_autoformat()"
   ]
  },
  {
   "cell_type": "markdown",
   "metadata": {
    "collapsed": true,
    "jupyter": {
     "outputs_hidden": true
    }
   },
   "source": [
    "## Data"
   ]
  },
  {
   "cell_type": "code",
   "execution_count": null,
   "metadata": {
    "collapsed": false,
    "jupyter": {
     "outputs_hidden": false
    }
   },
   "outputs": [],
   "source": [
    "NX = 200\n",
    "NY = 200\n",
    "# Box size\n",
    "LX = 10.0\n",
    "LY = 10.0\n",
    "# Bounding box\n",
    "xleft = -5.0\n",
    "ybot = -5.0\n",
    "xright = xleft + LX\n",
    "ytop = ybot + LY\n",
    "# For the synthetic case, number of points\n",
    "NP = 2000\n",
    "Random.seed!(1234)\n",
    "xo = randn(NP)\n",
    "yo = randn(NP)\n",
    "inflation = ones(Float64, NP)\n",
    "#test for weights on poins\n",
    "\n",
    "# Eliminate points out of the box\n",
    "sel = (xo .> xleft) .& (xo .< xright) .& (yo .> ybot) .& (yo .< ytop)\n",
    "\n",
    "xo = xo[sel]\n",
    "yo = yo[sel]\n",
    "inflation = inflation[sel]\n",
    "NP = size(xo)[1]\n",
    "\n",
    "dx = LX / (NX)\n",
    "dy = LY / (NY)\n",
    "\n",
    "xg = xleft+dx/2:dx:xleft+LX\n",
    "yg = ybot+dy/2:dy:ybot+LY\n",
    "# for pyplot\n",
    "xp = xleft:dx:xleft+LX\n",
    "yp = ybot:dy:ybot+LY\n",
    "maskp, (pmp, pnp), (xip, yip) = DIVAnd.DIVAnd_rectdom(xp, yp)\n",
    "mask, (pm, pn), (xi, yi) = DIVAnd.DIVAnd_rectdom(xg, yg);"
   ]
  },
  {
   "cell_type": "markdown",
   "metadata": {},
   "source": [
    "### Function to display the results"
   ]
  },
  {
   "cell_type": "code",
   "execution_count": null,
   "metadata": {},
   "outputs": [],
   "source": [
    "function plot_density(dens2, title, showobs = true)\n",
    "    fig = Figure()\n",
    "    ax = Axis(fig[1, 1], aspect = 1, title = title)\n",
    "    hm = heatmap!(ax, xip[:, 1], yip[1, :], dens2)#, colormap=Reverse(:RdYlBu))\n",
    "    if showobs\n",
    "        scatter!(ax, xo, yo, color = :white, markersize = 3)\n",
    "    end\n",
    "    Colorbar(fig[1, 2], hm)\n",
    "    fig\n",
    "end"
   ]
  },
  {
   "cell_type": "code",
   "execution_count": null,
   "metadata": {},
   "outputs": [],
   "source": [
    "dens2, LHM, LCV, LSCV = DIVAnd_heatmap(mask, (pm, pn), (xi, yi), (xo, yo), inflation, 0)\n",
    "plot_density(dens2, \"Automatic uniform scale selection\\n$(LHM)\")"
   ]
  },
  {
   "cell_type": "code",
   "execution_count": null,
   "metadata": {
    "collapsed": false,
    "jupyter": {
     "outputs_hidden": false
    }
   },
   "outputs": [],
   "source": [
    "LHMIN = 0.28 * 0.6\n",
    "dens2, LHM, LCV, LSCV = DIVAnd_heatmap(mask, (pm, pn), (xi, yi), (xo, yo), inflation, LHMIN)\n",
    "plot_density(dens2, \"Automatic uniform scale selection\\n$(LHM)\", false)"
   ]
  },
  {
   "cell_type": "markdown",
   "metadata": {},
   "source": [
    "## Cross validation"
   ]
  },
  {
   "cell_type": "code",
   "execution_count": null,
   "metadata": {
    "collapsed": false,
    "jupyter": {
     "outputs_hidden": false
    }
   },
   "outputs": [],
   "source": [
    "gaussiansol=1/(2*pi)*exp.(-0.5*(xi.^2.0)-0.5*(yi.^2.0))\n",
    "\n",
    "LS=collect(0.01:0.005:.3)\n",
    "NSP=size(LS)[1]\n",
    "\n",
    "CV1=zeros(Float64,NSP)\n",
    "CV2=zeros(Float64,NSP)\n",
    "CVex=zeros(Float64,NSP)\n",
    "for i=1:NSP\n",
    "    dens2,LHM,LCV,LSCV=DIVAnd_heatmap(mask,(pm,pn),(xi,yi),(xo,yo),inflation,LS[i])\n",
    "    CV1[i]=LCV\n",
    "    CV2[i]=LSCV\n",
    "    CVex[i]=norm(gaussiansol-dens2)\n",
    "end\n",
    "@show findmax(CV1), findmin(CV2),findmin(CVex)"
   ]
  },
  {
   "cell_type": "code",
   "execution_count": null,
   "metadata": {},
   "outputs": [],
   "source": [
    "fig = Figure(size = (900, 400))\n",
    "ax1 = Axis(fig[1, 1])\n",
    "lines!(ax1, LS, CV1)\n",
    "ax2 = Axis(fig[1, 2])\n",
    "lines!(ax2, LS, CV2)\n",
    "ax3 = Axis(fig[1, 3])\n",
    "lines!(ax3, LS, CVex)\n",
    "display(fig)\n",
    "@show LS[findmax(CV1)[2]], LS[findmin(CV2)[2]], LS[findmin(CVex)[2]]"
   ]
  },
  {
   "cell_type": "code",
   "execution_count": null,
   "metadata": {},
   "outputs": [],
   "source": [
    "# Ok factor 0.62 seems correct. Now try with inflation?"
   ]
  },
  {
   "cell_type": "code",
   "execution_count": null,
   "metadata": {
    "collapsed": false,
    "jupyter": {
     "outputs_hidden": false
    }
   },
   "outputs": [],
   "source": [
    "0.284 * 0.62"
   ]
  },
  {
   "cell_type": "code",
   "execution_count": null,
   "metadata": {
    "collapsed": false,
    "jupyter": {
     "outputs_hidden": false
    }
   },
   "outputs": [],
   "source": [
    "NX = 200\n",
    "NY = 200\n",
    "# Box size\n",
    "LX = 10.0\n",
    "LY = 10.0\n",
    "# Bounding box\n",
    "xleft = -5.0\n",
    "ybot = -5.0\n",
    "xright = xleft + LX\n",
    "ytop = ybot + LY\n",
    "# For the synthetic case, number of points\n",
    "NP = 200000\n",
    "nmax = 15000\n",
    "Random.seed!(1234)\n",
    "xo = randn(NP)\n",
    "yo = randn(NP)\n",
    "inflation = ones(Float64, NP)\n",
    "#test for weights on poins\n",
    "\n",
    "# Eliminate points out of the box\n",
    "sel = (xo .> xleft) .& (xo .< xright) .& (yo .> ybot) .& (yo .< ytop)\n",
    "\n",
    "xo = xo[sel]\n",
    "yo = yo[sel]\n",
    "inflation = inflation[sel]\n",
    "\n",
    "NP = size(xo)[1]\n",
    "\n",
    "dx = LX / (NX)\n",
    "dy = LY / (NY)\n",
    "\n",
    "xg = xleft+dx/2:dx:xleft+LX\n",
    "yg = ybot+dy/2:dy:ybot+LY\n",
    "# for pyplot\n",
    "xp = xleft:dx:xleft+LX\n",
    "yp = ybot:dy:ybot+LY\n",
    "maskp, (pmp, pnp), (xip, yip) = DIVAnd.DIVAnd_rectdom(xp, yp)\n",
    "\n",
    "mask, (pm, pn), (xi, yi) = DIVAnd.DIVAnd_rectdom(xg, yg)\n",
    "\n",
    "dens2, LHM, LCV, LSCV =\n",
    "    DIVAnd_heatmap(mask, (pm, pn), (xi, yi), (xo, yo), inflation, 0; nmax = nmax)"
   ]
  },
  {
   "cell_type": "code",
   "execution_count": null,
   "metadata": {},
   "outputs": [],
   "source": [
    "plot_density(dens2, \"Automatic uniform scale selection\\n$(LHM)\")"
   ]
  },
  {
   "cell_type": "code",
   "execution_count": null,
   "metadata": {
    "collapsed": false,
    "jupyter": {
     "outputs_hidden": false
    }
   },
   "outputs": [],
   "source": [
    "figure()\n",
    "pcolor(xip,yip,dens2),colorbar()\n",
    "scatter(xo,yo,s=2,c=\"white\")\n",
    "title(\"Automatic uniform scale selection $(LHM)\")\n",
    "\n",
    "gaussiansol=1/(2*pi)*exp.(-0.5*(xi.^2.0)-0.5*(yi.^2.0))\n",
    "\n",
    "LS=collect(0.03:0.005:.3)\n",
    "NSP=size(LS)[1]\n",
    "\n",
    "CV1=zeros(Float64,NSP)\n",
    "CV2=zeros(Float64,NSP)\n",
    "CVex=zeros(Float64,NSP)\n",
    "for i=1:NSP\n",
    "    dens2,LHM,LCV,LSCV=DIVAnd_heatmap(mask,(pm,pn),(xi,yi),(xo,yo),inflation,LS[i];nmax=nmax)\n",
    "    CV1[i]=LCV\n",
    "    CV2[i]=LSCV\n",
    "    CVex[i]=norm(gaussiansol-dens2)\n",
    "end"
   ]
  },
  {
   "cell_type": "code",
   "execution_count": null,
   "metadata": {
    "collapsed": false,
    "jupyter": {
     "outputs_hidden": false
    }
   },
   "outputs": [],
   "source": [
    "@show findmax(CV1), findmin(CV2), findmin(CVex)\n",
    "fig = Figure(size = (900, 400))\n",
    "ax1 = Axis(fig[1, 1])\n",
    "lines!(ax1, LS, CV1)\n",
    "ax2 = Axis(fig[1, 2])\n",
    "lines!(ax2, LS, CV2)\n",
    "ax3 = Axis(fig[1, 3])\n",
    "lines!(ax3, LS, CVex)\n",
    "display(fig)\n",
    "@show LS[findmax(CV1)[2]], LS[findmin(CV2)[2]], LS[findmin(CVex)[2]]"
   ]
  },
  {
   "cell_type": "code",
   "execution_count": null,
   "metadata": {
    "collapsed": false,
    "jupyter": {
     "outputs_hidden": false
    }
   },
   "outputs": [],
   "source": [
    "0.13 * 0.62"
   ]
  },
  {
   "cell_type": "code",
   "execution_count": null,
   "metadata": {
    "collapsed": false,
    "jupyter": {
     "outputs_hidden": false
    }
   },
   "outputs": [],
   "source": [
    "dens2, LHM, LCV, LSCV = DIVAnd_heatmap(\n",
    "    mask,\n",
    "    (pm, pn),\n",
    "    (xi, yi),\n",
    "    (xo, yo),\n",
    "    inflation,\n",
    "    LS[findmin(CVex)[2]];\n",
    "    nmax = nmax,\n",
    ")\n",
    "plot_density(dens2, \"\", false)"
   ]
  },
  {
   "cell_type": "code",
   "execution_count": null,
   "metadata": {
    "collapsed": false,
    "jupyter": {
     "outputs_hidden": false
    }
   },
   "outputs": [],
   "source": [
    "dens2, LHM, LCV, LSCV =\n",
    "    DIVAnd_heatmap(mask, (pm, pn), (xi, yi), (xo, yo), inflation, 0.13; nmax = nmax)\n",
    "plot_density(dens2, \"\", false)"
   ]
  },
  {
   "cell_type": "code",
   "execution_count": null,
   "metadata": {
    "collapsed": false,
    "jupyter": {
     "outputs_hidden": false
    }
   },
   "outputs": [],
   "source": [
    "dens2, LHM, LCV, LSCV = DIVAnd_heatmap(\n",
    "    mask,\n",
    "    (pm, pn),\n",
    "    (xi, yi),\n",
    "    (xo, yo),\n",
    "    inflation,\n",
    "    LS[findmin(CV2)[2]];\n",
    "    nmax = nmax,\n",
    ")\n",
    "plot_density(dens2, \"\", false)"
   ]
  },
  {
   "cell_type": "code",
   "execution_count": null,
   "metadata": {
    "collapsed": false,
    "jupyter": {
     "outputs_hidden": false
    }
   },
   "outputs": [],
   "source": [
    "dens2, LHM, LCV, LSCV = DIVAnd_heatmap(\n",
    "    mask,\n",
    "    (pm, pn),\n",
    "    (xi, yi),\n",
    "    (xo, yo),\n",
    "    inflation,\n",
    "    LS[findmax(CV1)[2]];\n",
    "    nmax = nmax,\n",
    ")\n",
    "plot_density(dens2, \"\", false)"
   ]
  }
 ],
 "metadata": {
  "anaconda-cloud": {},
  "kernelspec": {
   "display_name": "Julia 1.11.2",
   "language": "julia",
   "name": "julia-1.11"
  },
  "language_info": {
   "file_extension": ".jl",
   "mimetype": "application/julia",
   "name": "julia",
   "version": "1.11.2"
  }
 },
 "nbformat": 4,
 "nbformat_minor": 4
}
