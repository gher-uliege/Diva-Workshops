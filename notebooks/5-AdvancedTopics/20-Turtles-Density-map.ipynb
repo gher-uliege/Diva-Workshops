{
 "cells": [
  {
   "cell_type": "markdown",
   "metadata": {},
   "source": [
    "# 🐢 Turtles sightings 🐢\n",
    "This notebooks illustrates the computation of a heatmap using observation locations. \n",
    "\n",
    "Dataset: Marine Turtles\tNational Biodiversity Network Trust. Marine Turtles. National Biodiversity Network Trust, Newark, UK.      \n",
    "https://doi.org/10.15468/fyt9hw,       \n",
    "https://portal.obis.org/dataset/1cfc4d23-9fcd-42b2-95bf-9c4ee9bc50f6"
   ]
  },
  {
   "cell_type": "code",
   "execution_count": null,
   "metadata": {},
   "outputs": [],
   "source": [
    "using DIVAnd\n",
    "using PyPlot\n",
    "using Statistics\n",
    "using DelimitedFiles\n",
    "using LinearAlgebra\n",
    "using Random"
   ]
  },
  {
   "cell_type": "code",
   "execution_count": null,
   "metadata": {},
   "outputs": [],
   "source": [
    "# Read the data retrieved from OBIS\n",
    "turtlefile = \"../data/turtles.dat\"\n",
    "if !isfile(turtlefile)\n",
    "    download(\"https://dox.uliege.be/index.php/s/IsWWlNxWeQDuarJ\", turtlefile)\n",
    "end\n",
    "AA = readdlm(turtlefile)\n",
    "@show size(AA);"
   ]
  },
  {
   "cell_type": "code",
   "execution_count": null,
   "metadata": {},
   "outputs": [],
   "source": [
    "lon=AA[:,1]\n",
    "lat=AA[:,2]\n",
    "mean(lon), mean(lat)"
   ]
  },
  {
   "cell_type": "code",
   "execution_count": null,
   "metadata": {},
   "outputs": [],
   "source": [
    "scatter(lon,lat,s=1)\n",
    "xlabel(\"Longitude\")\n",
    "ylabel(\"Latitude\")\n",
    "title(\"Location of observations\")"
   ]
  },
  {
   "cell_type": "markdown",
   "metadata": {},
   "source": [
    "## A simple heatmap without land mask"
   ]
  },
  {
   "cell_type": "code",
   "execution_count": null,
   "metadata": {},
   "outputs": [],
   "source": [
    "NX=300\n",
    "NY=250\n",
    "# Box size\n",
    "LX=18.\n",
    "LY=15.\n",
    "# Bounding box\n",
    "xleft=-14.\n",
    "ybot=47.\n",
    "xright=xleft+LX\n",
    "ytop=ybot+LY\n",
    "\n",
    "xo=lon\n",
    "yo=lat\n",
    "\n",
    "# Eliminate points out of the box\n",
    "sel=(xo.>xleft) .& (xo.<xright) .& (yo.>ybot) .& (yo.<ytop)\n",
    "\n",
    "xo=xo[sel]\n",
    "yo=yo[sel]\n",
    "inflation=ones(size(xo))\n",
    "scatter(xo,yo,s=1)\n",
    "xlabel(\"Longitude\")\n",
    "ylabel(\"Latitude\")\n",
    "title(\"Location of observations in grid box\")"
   ]
  },
  {
   "cell_type": "markdown",
   "metadata": {},
   "source": [
    "### Heatmap"
   ]
  },
  {
   "cell_type": "code",
   "execution_count": null,
   "metadata": {},
   "outputs": [],
   "source": [
    "dx=LX/(NX)\n",
    "dy=LY/(NY)\n",
    "\n",
    "xg = xleft+dx/2:dx:xleft+LX\n",
    "yg = ybot+dy/2:dy:ybot+LY\n",
    "# for pyplot\n",
    "xp=xleft:dx:xleft+LX\n",
    "yp = ybot:dy:ybot+LY\n",
    "maskp,(pmp,pnp),(xip,yip) = DIVAnd.DIVAnd_rectdom(xp,yp)\n",
    "\n",
    "mask,(pm,pn),(xi,yi) = DIVAnd.DIVAnd_rectdom(xg,yg)\n",
    "\n",
    "\n",
    "# adding a mask\n",
    "#mask[(xi.+0.25)./0.95 .+ (yi.-2.4)./1.1 .<1 ].=false\n",
    "#mask[2*xi.+yi .<3.4 ].=false\n",
    "\n",
    "@show size(xi)\n",
    "# From here generic approach \n",
    "@time dens1,LHM,LCV,LSCV = DIVAnd.DIVAnd_heatmap(mask,(pm,pn),(xi,yi),(xo,yo),inflation,0;Ladaptiveiterations=1)\n",
    "\n",
    "figure()\n",
    "pcolor(xip,yip,dens1),colorbar()\n",
    "scatter(xo,yo,s=1,c=\"white\")\n",
    "xlabel(\"Longitude\")\n",
    "ylabel(\"Latitude\")\n",
    "title(\"Density and observations\")\n",
    "@show LCV,LSCV,mean(LHM[1]),mean(LHM[2])"
   ]
  },
  {
   "cell_type": "code",
   "execution_count": null,
   "metadata": {},
   "outputs": [],
   "source": []
  },
  {
   "cell_type": "code",
   "execution_count": null,
   "metadata": {},
   "outputs": [],
   "source": [
    "figure()\n",
    "pcolormesh(xip,yip,log.(dens1)),colorbar()\n",
    "xlabel(\"Longitude\")\n",
    "ylabel(\"Latitude\")\n",
    "title(\"Density (log)\")"
   ]
  },
  {
   "cell_type": "markdown",
   "metadata": {},
   "source": [
    "## Now prepare land mask"
   ]
  },
  {
   "cell_type": "code",
   "execution_count": null,
   "metadata": {},
   "outputs": [],
   "source": [
    "bathname = \"../data/gebco_30sec_4.nc\"\n",
    "\n",
    "if !isfile(bathname)\n",
    "    download(\"https://dox.uliege.be/index.php/s/RSwm4HPHImdZoQP/download\", bathname)\n",
    "else\n",
    "    @info(\"Bathymetry file already downloaded\")\n",
    "end"
   ]
  },
  {
   "cell_type": "code",
   "execution_count": null,
   "metadata": {},
   "outputs": [],
   "source": [
    "bx,by,b = load_bath(bathname,true,xg,yg)\n",
    "\n",
    "pcolor(bx,by,b'); colorbar(orientation=\"horizontal\")\n",
    "xlabel(\"Longitude\")\n",
    "ylabel(\"Latitude\")\n",
    "title(\"Depth\")\n",
    "\n",
    "@show size(b)"
   ]
  },
  {
   "cell_type": "code",
   "execution_count": null,
   "metadata": {},
   "outputs": [],
   "source": [
    "for j = 1:size(b,2)\n",
    "    for i = 1:size(b,1)\n",
    "        mask[i,j] = b[i,j] >= 0\n",
    "    end\n",
    "end\n",
    "pcolor(bx,by,Float64.(mask)', cmap=PyPlot.cm.binary_r)\n",
    "xlabel(\"Longitude\")\n",
    "ylabel(\"Latitude\")\n",
    "title(\"Mask\")"
   ]
  },
  {
   "cell_type": "markdown",
   "metadata": {},
   "source": [
    "### First heatmap with uniform and automatic bandwidth"
   ]
  },
  {
   "cell_type": "code",
   "execution_count": null,
   "metadata": {},
   "outputs": [],
   "source": [
    "@time dens1,LHM,LCV,LSCV= DIVAnd_heatmap(mask,(pm,pn),(xi,yi),(xo,yo),inflation,0;Ladaptiveiterations=0)\n",
    "\n",
    "figure()\n",
    "pcolormesh(xip,yip,log.(dens1)),colorbar()\n",
    "xlabel(\"Longitude\")\n",
    "ylabel(\"Latitude\")\n",
    "#scatter(xo,yo,s=1,c=\"white\")\n",
    "title(\"Density (log)\")\n",
    "@show LCV,LSCV,mean(LHM[1]),mean(LHM[2])"
   ]
  },
  {
   "cell_type": "markdown",
   "metadata": {},
   "source": [
    "## Now with adapted bandwidth"
   ]
  },
  {
   "cell_type": "code",
   "execution_count": null,
   "metadata": {},
   "outputs": [],
   "source": [
    "@time dens1,LHM,LCV,LSCV= DIVAnd_heatmap(mask,(pm,pn),(xi,yi),(xo,yo),inflation,0;Ladaptiveiterations=1)\n",
    "\n",
    "figure()\n",
    "pcolormesh(xip,yip,log.(dens1)),colorbar()\n",
    "xlabel(\"Longitude\")\n",
    "ylabel(\"Latitude\")\n",
    "#scatter(xo,yo,s=1,c=\"white\")\n",
    "title(\"Density (log)\")\n",
    "\n",
    "\n",
    "@show LCV,LSCV,mean(LHM[1]),mean(LHM[2])"
   ]
  },
  {
   "cell_type": "markdown",
   "metadata": {},
   "source": [
    "### But how much iterations ? Cross validation indicators can help "
   ]
  },
  {
   "cell_type": "code",
   "execution_count": null,
   "metadata": {},
   "outputs": [],
   "source": [
    "dens1,LHM,LCV,LSCV= DIVAnd_heatmap(mask,(pm,pn),(xi,yi),(xo,yo),inflation,0;Ladaptiveiterations=0)\n",
    "figure()\n",
    "pcolormesh(xip,yip,log.(dens1)),colorbar()\n",
    "xlabel(\"Longitude\")\n",
    "ylabel(\"Latitude\")\n",
    "title(\"$(mean(LHM[1])),$LCV,$LSCV\")"
   ]
  },
  {
   "cell_type": "code",
   "execution_count": null,
   "metadata": {},
   "outputs": [],
   "source": [
    "dens1,LHM,LCV,LSCV= DIVAnd_heatmap(mask,(pm,pn),(xi,yi),(xo,yo),inflation,0;Ladaptiveiterations=1)\n",
    "figure()\n",
    "pcolormesh(xip,yip,log.(dens1)),colorbar()\n",
    "xlabel(\"Longitude\")\n",
    "ylabel(\"Latitude\")\n",
    "title(\"$(mean(LHM[1])),$LCV,$LSCV\")"
   ]
  },
  {
   "cell_type": "code",
   "execution_count": null,
   "metadata": {},
   "outputs": [],
   "source": [
    "dens1,LHM,LCV,LSCV= DIVAnd_heatmap(mask,(pm,pn),(xi,yi),(xo,yo),inflation,0;Ladaptiveiterations=2)\n",
    "figure()\n",
    "pcolormesh(xip,yip,log.(dens1)),colorbar()\n",
    "xlabel(\"Longitude\")\n",
    "ylabel(\"Latitude\")\n",
    "title(\"$(mean(LHM[1])),$LCV,$LSCV\")"
   ]
  },
  {
   "cell_type": "code",
   "execution_count": null,
   "metadata": {},
   "outputs": [],
   "source": [
    "dens1,LHM,LCV,LSCV= DIVAnd_heatmap(mask,(pm,pn),(xi,yi),(xo,yo),inflation,0;Ladaptiveiterations=3)\n",
    "figure()\n",
    "pcolormesh(xip,yip,log.(dens1)),colorbar()\n",
    "xlabel(\"Longitude\")\n",
    "ylabel(\"Latitude\")\n",
    "title(\"$(mean(LHM[1])),$LCV,$LSCV\")"
   ]
  },
  {
   "cell_type": "code",
   "execution_count": null,
   "metadata": {},
   "outputs": [],
   "source": [
    "dens1,LHM,LCV,LSCV= DIVAnd_heatmap(mask,(pm,pn),(xi,yi),(xo,yo),inflation,0;Ladaptiveiterations=4)\n",
    "figure()\n",
    "pcolormesh(xip,yip,log.(dens1)),colorbar()\n",
    "xlabel(\"Longitude\")\n",
    "ylabel(\"Latitude\")\n",
    "title(\"$(mean(LHM[1])),$LCV,$LSCV\")"
   ]
  },
  {
   "cell_type": "code",
   "execution_count": null,
   "metadata": {},
   "outputs": [],
   "source": [
    "dens1,LHM,LCV,LSCV= DIVAnd_heatmap(mask,(pm,pn),(xi,yi),(xo,yo),inflation,0;Ladaptiveiterations=5)\n",
    "figure()\n",
    "pcolormesh(xip,yip,log.(dens1)),colorbar()\n",
    "xlabel(\"Longitude\")\n",
    "ylabel(\"Latitude\")\n",
    "title(\"$(mean(LHM[1])),$LCV,$LSCV\")"
   ]
  },
  {
   "cell_type": "markdown",
   "metadata": {},
   "source": [
    "## 4 iterations yield highest likelyhood and lowest rms"
   ]
  },
  {
   "cell_type": "code",
   "execution_count": null,
   "metadata": {},
   "outputs": [],
   "source": [
    "dens1,LHM,LCV,LSCV= DIVAnd_heatmap(mask,(pm,pn),(xi,yi),(xo,yo),inflation,0;Ladaptiveiterations=4)\n",
    "figure()\n",
    "pcolormesh(xip,yip,log.(dens1)),colorbar()\n",
    "xlabel(\"Longitude\")\n",
    "ylabel(\"Latitude\")\n",
    "title(\"$(mean(LHM[1])),$LCV,$LSCV\")"
   ]
  },
  {
   "cell_type": "code",
   "execution_count": null,
   "metadata": {},
   "outputs": [],
   "source": [
    "pcolormesh(xip,yip,log.(LHM[1].*LHM[2])),colorbar()\n",
    "xlabel(\"Longitude\")\n",
    "ylabel(\"Latitude\")\n",
    "title(\"Surface of bandwidth (log)\")"
   ]
  },
  {
   "cell_type": "markdown",
   "metadata": {},
   "source": [
    "# Important note\n",
    "\n",
    "There is no information used on the effort of looking for turtles. Obviously more are seen close to coastlines because of easier spotting."
   ]
  },
  {
   "cell_type": "code",
   "execution_count": null,
   "metadata": {},
   "outputs": [],
   "source": []
  }
 ],
 "metadata": {
  "@webio": {
   "lastCommId": null,
   "lastKernelId": null
  },
  "anaconda-cloud": {},
  "kernelspec": {
   "display_name": "Julia 1.10.0",
   "language": "julia",
   "name": "julia-1.10"
  },
  "language_info": {
   "file_extension": ".jl",
   "mimetype": "application/julia",
   "name": "julia",
   "version": "1.10.0"
  },
  "toc": {
   "base_numbering": 1,
   "nav_menu": {},
   "number_sections": true,
   "sideBar": true,
   "skip_h1_title": false,
   "title_cell": "Table of Contents",
   "title_sidebar": "Contents",
   "toc_cell": false,
   "toc_position": {},
   "toc_section_display": true,
   "toc_window_display": false
  }
 },
 "nbformat": 4,
 "nbformat_minor": 1
}
