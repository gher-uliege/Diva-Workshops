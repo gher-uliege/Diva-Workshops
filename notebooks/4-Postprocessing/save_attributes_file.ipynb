{
 "cells": [
  {
   "cell_type": "markdown",
   "metadata": {},
   "source": [
    "This notebook show how to get the global and variable attributes and save them into a file that can be read later.     \n",
    "This is useful when one is working on a machine which has not internet connection to the Vocab Server."
   ]
  },
  {
   "cell_type": "code",
   "execution_count": 1,
   "metadata": {},
   "outputs": [],
   "source": [
    "using DIVAnd\n",
    "using DataStructures"
   ]
  },
  {
   "cell_type": "markdown",
   "metadata": {},
   "source": [
    "## 1. Define the metadata\n",
    "It takes the form of a dictionary."
   ]
  },
  {
   "cell_type": "code",
   "execution_count": 2,
   "metadata": {},
   "outputs": [],
   "source": [
    "metadata = OrderedDict(\n",
    "\"project\" => \"SeaDataCloud\",\n",
    "\"institution_urn\" => \"SDN:EDMO::3330\",\n",
    "\"production\" => \"DIVA group\",\n",
    "\"Author_e-mail\" => [\"Name <email@something.com>\"],\n",
    "\"source\" => \"Observational data from SeaDataNet\",\n",
    "\"comment\" => \" \",\n",
    "\"parameter_keyword_urn\" => \"SDN:P35::WATERTEMP\",\n",
    "\"search_keywords_urn\" => [\"SDN:P02::TEMP\"],\n",
    "\"area_keywords_urn\" => [\"SDN:C19::1_2\"],\n",
    "\"product_version\" => \"1.0\",\n",
    "\"product_code\" => \"something-to-decide\",\n",
    "\"bathymetry_source\" => \"The GEBCO Digital Atlas published by the British Oceanographic Data Centre on behalf of IOC and IHO, 2003\",\n",
    "\"netcdf_standard_name\" => \"sea_water_temperature\",\n",
    "\"netcdf_long_name\" => \"sea water temperature\",\n",
    "\"netcdf_units\" => \"degrees C\",\n",
    "\"abstract\" => \"...\",\n",
    "\"acknowledgement\" => \"...\",\n",
    "\"documentation\" => \"http://dx.doi.org/doi_of_doc\",\n",
    "\"doi\" => \"...\");"
   ]
  },
  {
   "cell_type": "markdown",
   "metadata": {},
   "source": [
    "You also need to have defined the file name, the variable and the domain. These pieces of informations are used to build the preview URL."
   ]
  },
  {
   "cell_type": "code",
   "execution_count": 3,
   "metadata": {},
   "outputs": [],
   "source": [
    "fname = \"./test.nc\"\n",
    "varname = \"Temperature\"\n",
    "dx, dy = 0.125, 0.125\n",
    "lonr = -4.0:dx:10.\n",
    "latr = 48.5:dy:62.;"
   ]
  },
  {
   "cell_type": "markdown",
   "metadata": {},
   "source": [
    "## 2. Get the attributes from the Vocab server"
   ]
  },
  {
   "cell_type": "code",
   "execution_count": 4,
   "metadata": {},
   "outputs": [
    {
     "data": {
      "text/plain": [
       "(OrderedDict(\"project\" => \"SeaDataCloud\", \"institution\" => \"Royal Belgian Institute of Natural Sciences, Operational Directorate Natural Environment, Belgian Marine Data Centre\", \"institution_urn\" => \"SDN:EDMO::3330\", \"production\" => \"DIVA group\", \"Author_e-mail\" => \"Name <email@something.com>\", \"source\" => \"Observational data from SeaDataNet\", \"comment\" => \" \", \"parameter_keyword\" => \"ITS-90 water temperature\", \"parameter_keyword_urn\" => \"SDN:P35::WATERTEMP\", \"search_keywords\" => \"Temperature of the water column\"…), OrderedDict(\"units\" => \"degrees C\", \"standard_name\" => \"sea_water_temperature\", \"long_name\" => \"sea water temperature\"))"
      ]
     },
     "execution_count": 4,
     "metadata": {},
     "output_type": "execute_result"
    }
   ],
   "source": [
    "ncglobalattrib, ncvarattrib = SDNMetadata(metadata,fname,varname,lonr,latr)"
   ]
  },
  {
   "cell_type": "markdown",
   "metadata": {},
   "source": [
    "### 3. Save the information in a text file\n",
    "The keys and values are separated by \"|\", but another separator can be used."
   ]
  },
  {
   "cell_type": "code",
   "execution_count": 5,
   "metadata": {},
   "outputs": [],
   "source": [
    "open(\"ncglobalattrib.txt\", \"w\") do f\n",
    "    for (i, j) in ncglobalattrib\n",
    "        write(f, \"$i|$j\\n\")\n",
    "    end\n",
    "end"
   ]
  },
  {
   "cell_type": "code",
   "execution_count": 6,
   "metadata": {},
   "outputs": [],
   "source": [
    "open(\"ncvarattrib.txt\", \"w\") do f\n",
    "    for (i, j) in ncvarattrib\n",
    "        write(f, \"$i|$j\\n\")\n",
    "    end\n",
    "end"
   ]
  },
  {
   "cell_type": "markdown",
   "metadata": {},
   "source": [
    "## 4. Reading\n",
    "The files generated in the previous step can be read as follows."
   ]
  },
  {
   "cell_type": "code",
   "execution_count": 7,
   "metadata": {},
   "outputs": [
    {
     "data": {
      "text/plain": [
       "read_attrib_file"
      ]
     },
     "execution_count": 7,
     "metadata": {},
     "output_type": "execute_result"
    }
   ],
   "source": [
    "\"\"\"\n",
    "Read the attributes from the text file storing the \n",
    "different key-value pairs.\n",
    "\"\"\"\n",
    "function read_attrib_file(filename::String, colsep::String=\"|\")::OrderedDict\n",
    "    ncattrib = OrderedDict{String,String}()\n",
    "    open(filename, \"r\") do fr\n",
    "        while !eof(fr)\n",
    "            line = readline(fr)\n",
    "            linesplit = split(line,colsep)\n",
    "            global key\n",
    "            if length(linesplit) == 2\n",
    "                key = String(linesplit[1]);\n",
    "                value = String(linesplit[2])\n",
    "                ncattrib[key] = value\n",
    "            elseif length(linesplit) == 1\n",
    "                ncattrib[key] = ncattrib[key] * linesplit[1]\n",
    "            else\n",
    "                @warn(\"There is a problem with the number of column in the text file\")\n",
    "                @show linesplit\n",
    "            end\n",
    "        end\n",
    "    end\n",
    "    return ncattrib\n",
    "end"
   ]
  },
  {
   "cell_type": "code",
   "execution_count": 8,
   "metadata": {},
   "outputs": [
    {
     "data": {
      "text/plain": [
       "OrderedDict{String, String} with 22 entries:\n",
       "  \"project\"               => \"SeaDataCloud\"\n",
       "  \"institution\"           => \"Royal Belgian Institute of Natural Sciences, Oper…\n",
       "  \"institution_urn\"       => \"SDN:EDMO::3330\"\n",
       "  \"production\"            => \"DIVA group\"\n",
       "  \"Author_e-mail\"         => \"Name <email@something.com>\"\n",
       "  \"source\"                => \"Observational data from SeaDataNet\"\n",
       "  \"comment\"               => \" \"\n",
       "  \"parameter_keyword\"     => \"ITS-90 water temperature\"\n",
       "  \"parameter_keyword_urn\" => \"SDN:P35::WATERTEMP\"\n",
       "  \"search_keywords\"       => \"Temperature of the water column\"\n",
       "  \"search_keywords_urn\"   => \"SDN:P02::TEMP\"\n",
       "  \"area_keywords\"         => \"North Sea\"\n",
       "  \"area_keywords_urn\"     => \"SDN:C19::1_2\"\n",
       "  \"product_code\"          => \"something-to-decide\"\n",
       "  \"product_version\"       => \"1.0\"\n",
       "  \"bathymetry_source\"     => \"The GEBCO Digital Atlas published by the British …\n",
       "  \"abstract\"              => \"...\"\n",
       "  \"acknowledgement\"       => \"...\"\n",
       "  \"documentation\"         => \"http://dx.doi.org/doi_of_doc\"\n",
       "  \"doi\"                   => \"...\"\n",
       "  \"data_access\"           => \"http://sdn.oceanbrowser.net/data/SeaDataCloud-dom…\n",
       "  \"WEB_visualisation\"     => \"http://sdn.oceanbrowser.net/web-vis/\""
      ]
     },
     "execution_count": 8,
     "metadata": {},
     "output_type": "execute_result"
    }
   ],
   "source": [
    "ncglobalattrib_read = read_attrib_file(\"./ncglobalattrib.txt\")"
   ]
  },
  {
   "cell_type": "code",
   "execution_count": 9,
   "metadata": {},
   "outputs": [
    {
     "data": {
      "text/plain": [
       "OrderedDict{String, String} with 3 entries:\n",
       "  \"units\"         => \"degrees C\"\n",
       "  \"standard_name\" => \"sea_water_temperature\"\n",
       "  \"long_name\"     => \"sea water temperature\""
      ]
     },
     "execution_count": 9,
     "metadata": {},
     "output_type": "execute_result"
    }
   ],
   "source": [
    "ncvarattrib_read = read_attrib_file(\"./ncvarattrib.txt\")"
   ]
  }
 ],
 "metadata": {
  "@webio": {
   "lastCommId": null,
   "lastKernelId": null
  },
  "kernelspec": {
   "display_name": "Julia 1.11.1",
   "language": "julia",
   "name": "julia-1.11"
  },
  "language_info": {
   "file_extension": ".jl",
   "mimetype": "application/julia",
   "name": "julia",
   "version": "1.11.1"
  }
 },
 "nbformat": 4,
 "nbformat_minor": 2
}
