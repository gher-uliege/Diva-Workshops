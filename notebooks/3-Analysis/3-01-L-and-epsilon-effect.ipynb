{
 "cells": [
  {
   "cell_type": "markdown",
   "metadata": {},
   "source": [
    "# Influence of the analysis parameters\n",
    "The notebook shows how the main analysis parameters:\n",
    "* $L$ = correlation length (can be horizontal, vertical or temporal);     \n",
    "* $\\epsilon^2$ = noise-to-signal ratio;     \n",
    "\n",
    "influence the resulting interpolated field."
   ]
  },
  {
   "cell_type": "code",
   "execution_count": null,
   "metadata": {},
   "outputs": [],
   "source": [
    "import Pkg\n",
    "Pkg.activate(\"../..\")\n",
    "Pkg.instantiate()\n",
    "using DIVAnd\n",
    "using Makie, CairoMakie, GeoMakie\n",
    "using Dates\n",
    "using Statistics\n",
    "include(\"../config.jl\")"
   ]
  },
  {
   "cell_type": "markdown",
   "metadata": {},
   "source": [
    "## Data reading\n",
    "From a netCDF file containing salinity measurements in the Provençal Basin."
   ]
  },
  {
   "cell_type": "code",
   "execution_count": null,
   "metadata": {},
   "outputs": [],
   "source": [
    "varname = \"Salinity\"\n",
    "download_check(salinityprovencalfile, salinityprovencalfileURL)\n",
    "obsval, obslon, obslat, obsdepth, obstime, obsid =\n",
    "    loadobs(Float64, salinityprovencalfile, varname);"
   ]
  },
  {
   "cell_type": "markdown",
   "metadata": {},
   "source": [
    "## Topography and grid definition\n",
    "\n",
    "See the notebook on [bathymetry](../2-Preprocessing/2-01-topography.ipynb) for more explanations about the bathymetry preparation."
   ]
  },
  {
   "cell_type": "code",
   "execution_count": null,
   "metadata": {},
   "outputs": [],
   "source": [
    "dx = dy = 0.125 / 2.0\n",
    "lonr = 2.5:dx:12.0\n",
    "latr = 42.3:dy:44.6\n",
    "\n",
    "mask, (pm, pn), (xi, yi) = DIVAnd_rectdom(lonr, latr)\n",
    "\n",
    "bathname = gebco04file\n",
    "download_check(gebco04file, gebco04fileURL)"
   ]
  },
  {
   "cell_type": "markdown",
   "metadata": {},
   "source": [
    "### Create the mask"
   ]
  },
  {
   "cell_type": "code",
   "execution_count": null,
   "metadata": {},
   "outputs": [],
   "source": [
    "bx, by, b = load_bath(bathname, true, lonr, latr)\n",
    "\n",
    "mask = falses(size(b, 1), size(b, 2))\n",
    "\n",
    "for j = 1:size(b, 2)\n",
    "    for i = 1:size(b, 1)\n",
    "        mask[i, j] = b[i, j] >= 1.0\n",
    "    end\n",
    "end"
   ]
  },
  {
   "cell_type": "markdown",
   "metadata": {},
   "source": [
    "## Data selection for example\n",
    "\n",
    "Cross validation, error calculations etc. assume independant data.     \n",
    "Hence we do not take high-resolution vertical profiles with all data but restrict yourself to specific small depth range.     \n",
    "For this example we select data from August data near surface (depth between 0 and 1 m)."
   ]
  },
  {
   "cell_type": "code",
   "execution_count": null,
   "metadata": {},
   "outputs": [],
   "source": [
    "sel = (obsdepth .< 1) .& (Dates.month.(obstime) .== 8)\n",
    "\n",
    "obsval = obsval[sel]\n",
    "obslon = obslon[sel]\n",
    "obslat = obslat[sel]\n",
    "obsdepth = obsdepth[sel]\n",
    "obstime = obstime[sel]\n",
    "obsids = obsid[sel];\n",
    "@show(size(obsval))\n",
    "checkobs((obslon, obslat, obsdepth, obstime), obsval, obsid)"
   ]
  },
  {
   "cell_type": "markdown",
   "metadata": {
    "collapsed": true
   },
   "source": [
    "## Analysis\n",
    "### Simple analysis\n",
    "The function to call is `DIVAndrun`:\n",
    "```\n",
    "fi,s = DIVAndrun(mask,(pm,pn),(xi,yi),(obslon,obslat),obsval.-mean(obsval),\n",
    "            len,epsilon2;alphabc=0);\n",
    "```\n",
    "where \n",
    "Analysis `fi` using mean data as background.        \n",
    "Structure `s` is stored for later use.     \n",
    "\n",
    "* `mask` is the land-sea mask,     \n",
    "* `(pm,pn)` are the metrics (inverse of resolution)     \n",
    "* `(xi,yi)` is the grid on which the interpolation is performed.   \n",
    "\n",
    "These 3 inputs were created before using `DIVAnd_rectdom`.\n",
    "\n",
    "* `(obslon,obslat)` are the positions of the observations, obtained using `loadobs` (beginning of this notebook).     \n",
    "* `obsval.-mean(obsval)` is the data anomalies (observations minus mean value).\n",
    "\n",
    "`len` (correlation length) and `epsilon2` (noise-to-signal ratio) are the main two analysis paramerers that we will test hereinafter."
   ]
  },
  {
   "cell_type": "markdown",
   "metadata": {},
   "source": [
    "### Loop on the parameters\n",
    "Perform the analysis for different values for $L$ and $\\epsilon^2$.   \n",
    "<div class=\"alert alert-block alert-warning\">\n",
    "⚠️ Don't forget to add back the mean value when plotting the results: <code>fi .+ mean(obsval)</code>.\n",
    "</div>"
   ]
  },
  {
   "cell_type": "code",
   "execution_count": null,
   "metadata": {},
   "outputs": [],
   "source": [
    "fig = Figure()\n",
    "for i = 1:3\n",
    "    for j = 0:3\n",
    "        len = 5 * 10.0^(i - 2)\n",
    "        epsilon2 = 10.0^(-2 * j + 2)\n",
    "\n",
    "        # Perform analysis\n",
    "        fi, s = DIVAndrun(\n",
    "            mask,\n",
    "            (pm, pn),\n",
    "            (xi, yi),\n",
    "            (obslon, obslat),\n",
    "            obsval .- mean(obsval),\n",
    "            len,\n",
    "            epsilon2;\n",
    "            alphabc = 0,\n",
    "        )\n",
    "\n",
    "        # Make plot\n",
    "        ga = GeoAxis(\n",
    "            fig[i, j];\n",
    "            dest = \"+proj=merc\",\n",
    "            title = \"L=$len\\nepsilon2=$(round(epsilon2, digits=6))\",\n",
    "        )\n",
    "        heatmap!(\n",
    "            ga,\n",
    "            lonr,\n",
    "            latr,\n",
    "            fi .+ mean(obsval),\n",
    "            interpolate = false,\n",
    "            colorrange = (37.0, 38.5),\n",
    "        )\n",
    "\n",
    "    end\n",
    "end\n",
    "colgap!(fig.layout, 0)\n",
    "rowgap!(fig.layout, 0)\n",
    "fig"
   ]
  },
  {
   "cell_type": "markdown",
   "metadata": {},
   "source": [
    "## But which combination to use ?\n",
    "\n",
    "Visual inspection tells you which analyses are obvisouly (?) too noisy or too smooth.     \n",
    "Also some suspect data points are seen when $L$ and $\\epsilon^2$ are small.     \n",
    "Let's create some figures showing the analysis, data values and residuals."
   ]
  },
  {
   "cell_type": "markdown",
   "metadata": {},
   "source": [
    "### Data values over analysis"
   ]
  },
  {
   "cell_type": "code",
   "execution_count": null,
   "metadata": {},
   "outputs": [],
   "source": [
    "bx[1], bx[end], by[1], by[end]"
   ]
  },
  {
   "cell_type": "code",
   "execution_count": null,
   "metadata": {},
   "outputs": [],
   "source": [
    "len = 1\n",
    "epsilon2 = 1\n",
    "fi, s = DIVAndrun(\n",
    "    mask,\n",
    "    (pm, pn),\n",
    "    (xi, yi),\n",
    "    (obslon, obslat),\n",
    "    obsval .- mean(obsval),\n",
    "    len,\n",
    "    epsilon2,\n",
    ");\n",
    "\n",
    "fig = Figure()\n",
    "ga = GeoAxis(\n",
    "    fig[1, 1];\n",
    "    dest = \"+proj=merc\",\n",
    "    xticks = 2.0:1.0:14,\n",
    "    yticks = 42.0:1.0:45.0,\n",
    "    title = \"Observations and analysis with L=$len, epsilon2=$(round(epsilon2, digits=6))\",\n",
    ")\n",
    "hm = heatmap!(\n",
    "    ga,\n",
    "    lonr,\n",
    "    latr,\n",
    "    fi .+ mean(obsval),\n",
    "    interpolate = false,\n",
    "    colorrange = (37.0, 38.5),\n",
    ")\n",
    "sc = scatter!(ga, obslon, obslat, color = obsval, colorrange = (37.0, 38.5))\n",
    "contourf!(ga, bx, by, b, levels = [-1e5, 0, 1.0], colormap = Reverse(:binary))\n",
    "xlims!(bx[1], bx[end])\n",
    "ylims!(by[1], by[end])\n",
    "Colorbar(fig[2, 1], sc, vertical = false, label = \"S\")\n",
    "fig"
   ]
  },
  {
   "cell_type": "markdown",
   "metadata": {},
   "source": [
    "### Residuals\n",
    "We get them using `DIVAnd_residualobs`."
   ]
  },
  {
   "cell_type": "code",
   "execution_count": null,
   "metadata": {},
   "outputs": [],
   "source": [
    "dataresiduals = DIVAnd_residualobs(s, fi)\n",
    "rscale = sqrt(var(obsval))\n",
    "\n",
    "fig = Figure()\n",
    "ga = GeoAxis(\n",
    "    fig[1, 1];\n",
    "    dest = \"+proj=merc\",\n",
    "    title = \"Residuals\",\n",
    "    xticks = 2.0:1.0:14,\n",
    "    yticks = 42.0:1.0:45.0,\n",
    ")\n",
    "sc = GeoMakie.scatter!(\n",
    "    ga,\n",
    "    obslon,\n",
    "    obslat,\n",
    "    color = dataresiduals,\n",
    "    colorrange = (-rscale, rscale),\n",
    "    colormap = Reverse(:RdBu)\n",
    ")\n",
    "contourf!(ga, bx, by, b, levels = [-1e5, 0, 1.0], colormap = Reverse(:binary))\n",
    "xlims!(bx[1], bx[end])\n",
    "ylims!(by[1], by[end])\n",
    "Colorbar(fig[2, 1], sc, vertical = false, label = \"S\")\n",
    "fig"
   ]
  },
  {
   "cell_type": "markdown",
   "metadata": {},
   "source": [
    "### Observed values vs. residuals"
   ]
  },
  {
   "cell_type": "code",
   "execution_count": null,
   "metadata": {},
   "outputs": [],
   "source": [
    "fig = Figure()\n",
    "ax = Axis(\n",
    "    fig[1, 1],\n",
    "    xlabel = \"Data values\",\n",
    "    ylabel = \"Residuals\",\n",
    "    title = \"Residuals as function of value\",\n",
    ")\n",
    "scatter!(ax, obsval, dataresiduals)\n",
    "fig"
   ]
  },
  {
   "cell_type": "markdown",
   "metadata": {},
   "source": [
    "\n",
    "Note how residuals change (decrease if you decrease $\\epsilon^2$). \n",
    "\n",
    "<div class=\"alert alert-block alert-warning\">\n",
    "⚠️ Low residuals are not necessarily a good sign as the analysis used the data points to which you compare your analysis.\n",
    "</div>"
   ]
  },
  {
   "cell_type": "code",
   "execution_count": null,
   "metadata": {},
   "outputs": [],
   "source": [
    "var(dataresiduals[(dataresiduals.!==NaN)]), var(obsval), var(fi[(fi.!==NaN)])"
   ]
  },
  {
   "cell_type": "markdown",
   "metadata": {},
   "source": [
    "## Exercise\n",
    "\n",
    "Change parameters $L$ or $\\epsilon^2$ and see what happens       \n",
    "(do not rerun the whole notebook, just the last cells)"
   ]
  },
  {
   "cell_type": "code",
   "execution_count": null,
   "metadata": {},
   "outputs": [],
   "source": []
  },
  {
   "cell_type": "markdown",
   "metadata": {},
   "source": [
    "<div class=\"alert alert-block alert-warning\">\n",
    "<h2> ⚠️ Important take-home messages</h2>\n",
    "</div>\n",
    "\n",
    "1. Remember analyses are not very sensitive to changes in $L$ or $\\epsilon^2$ if (in 2D) $L$ $\\sqrt{\\epsilon^2}$ remains constant and data coverage is reasonable.     \n",
    "2. To see changes in the analysis, you need significant changes in $L$ or $\\epsilon^2$ changing $L$ $\\sqrt{\\epsilon^2}$.         \n",
    "3. A few percent changes on the parameters does not really modify things even if $L$ $\\sqrt{\\epsilon^2}$ changes."
   ]
  }
 ],
 "metadata": {
  "@webio": {
   "lastCommId": null,
   "lastKernelId": null
  },
  "anaconda-cloud": {},
  "kernelspec": {
   "display_name": "Julia 1.11.6",
   "language": "julia",
   "name": "julia-1.11"
  },
  "language_info": {
   "file_extension": ".jl",
   "mimetype": "application/julia",
   "name": "julia",
   "version": "1.11.6"
  },
  "toc": {
   "base_numbering": 1,
   "nav_menu": {},
   "number_sections": true,
   "sideBar": true,
   "skip_h1_title": false,
   "title_cell": "Table of Contents",
   "title_sidebar": "Contents",
   "toc_cell": false,
   "toc_position": {},
   "toc_section_display": true,
   "toc_window_display": false
  }
 },
 "nbformat": 4,
 "nbformat_minor": 1
}
