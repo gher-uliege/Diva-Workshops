{
 "cells": [
  {
   "cell_type": "markdown",
   "metadata": {},
   "source": [
    "# Working with a curvilinear grid\n",
    "\n",
    "We use polar coordinates ($r,\\theta$) with the singularity at $r=0$."
   ]
  },
  {
   "cell_type": "code",
   "execution_count": null,
   "metadata": {},
   "outputs": [],
   "source": [
    "using Makie, CairoMakie\n",
    "using DIVAnd"
   ]
  },
  {
   "cell_type": "markdown",
   "metadata": {},
   "source": [
    "## Create polar grid\n",
    "\n",
    "<div class=\"alert alert-block alert-info\">\n",
    "ℹ️ We take out the last theta to not close, that will be done by the parameter `moddim`.\n",
    "</div>"
   ]
  },
  {
   "cell_type": "code",
   "execution_count": null,
   "metadata": {},
   "outputs": [],
   "source": [
    "ri,ti = ndgrid(range(0.001,stop=1,length=100),range(0,stop=2pi,length=210));\n",
    "ri=ri[:,1:end-1]\n",
    "ti=ti[:,1:end-1]\n",
    "mask = trues(size(ri));"
   ]
  },
  {
   "cell_type": "markdown",
   "metadata": {},
   "source": [
    "## Create plots\n",
    "Using synthetic observations"
   ]
  },
  {
   "cell_type": "code",
   "execution_count": null,
   "metadata": {},
   "outputs": [],
   "source": [
    "xi=ri.*cos.(ti)\n",
    "yi=ri.*sin.(ti);\n",
    "fi=sin.(4*xi) .* cos.(4*yi);"
   ]
  },
  {
   "cell_type": "code",
   "execution_count": null,
   "metadata": {},
   "outputs": [],
   "source": [
    "fig = Figure()\n",
    "ax1 = Axis(fig[1,1], aspect=1)\n",
    "surface!(ax1, ri, ti, fi, shading=NoShading, interpolate=false)\n",
    "ax2 = Axis(fig[1,2], aspect=1)\n",
    "surface!(ax2, xi, yi, fi, shading=NoShading, interpolate=false)\n",
    "display(fig)"
   ]
  },
  {
   "cell_type": "markdown",
   "metadata": {},
   "source": [
    "Naive interpolation; note how the scale of the patch changes depending on the position"
   ]
  },
  {
   "cell_type": "code",
   "execution_count": null,
   "metadata": {},
   "outputs": [],
   "source": [
    "# naive analysis as if polar coordinates where cartesian\n",
    "pmc = ones(size(ri)) / (ri[2,1]-ri[1,1]);\n",
    "pnc = ones(size(ti)) / (ti[1,2]-ti[1,1]);\n",
    "r=[0.25,0.5,0.75]\n",
    "t=[pi,0.0,pi]\n",
    "f=[1.0,-1.0,-1.0]\n",
    "fi,s = DIVAndrun(mask,(pmc,pnc),(ri,ti),(r,t),f,(0.1,pi/7),1.0);"
   ]
  },
  {
   "cell_type": "code",
   "execution_count": null,
   "metadata": {},
   "outputs": [],
   "source": [
    "fig = Figure()\n",
    "ax = Axis(fig[1,1], aspect=1, title=\"Interpolated field\")\n",
    "su = surface!(ax, xi, yi, fi, shading=NoShading, interpolate=false, colorrange=[-1,1])\n",
    "Colorbar(fig[1, 2], su)\n",
    "display(fig)"
   ]
  },
  {
   "cell_type": "markdown",
   "metadata": {},
   "source": [
    "Now using the real metrics. Here done by hand; for lon,lat coordinates on Earth, there is a predefined function DIVAnd_metric you can use directly"
   ]
  },
  {
   "cell_type": "markdown",
   "metadata": {},
   "source": [
    "## Metrics"
   ]
  },
  {
   "cell_type": "code",
   "execution_count": null,
   "metadata": {},
   "outputs": [],
   "source": [
    "function mydistance(r1,t1,r2,t2)\n",
    "   \n",
    "    x1=r1*cos(t1)\n",
    "    y1=r1*sin(t1)\n",
    "    x2=r2*cos(t2)\n",
    "    y2=r2*sin(t2)\n",
    "    \n",
    "    return sqrt((x2-x1)^2+(y2-y1)^2)\n",
    "    \n",
    "end\n",
    "\n",
    "function DIVAnd_mymetric(rad::Array{T,2}, t::Array{T,2}) where {T}\n",
    "    sz = size(rad)\n",
    "    pm = zeros(sz)\n",
    "    pn = zeros(sz)\n",
    "\n",
    "\n",
    "    for i = 1:sz[1]\n",
    "        i0 = max(i - 1, 1)\n",
    "        i1 = min(i + 1, sz[1])\n",
    "\n",
    "        for j = 1:sz[2]\n",
    "            j0 = max(j - 1, 1)\n",
    "            j1 = min(j + 1, sz[2])\n",
    "\n",
    "            dx = mydistance(rad[i0, j], t[i0, j], rad[i1, j], t[i1, j]) / (i1 - i0)\n",
    "            dy = mydistance(rad[i, j0], t[i, j0], rad[i, j1], t[i, j1]) / (j1 - j0)\n",
    "\n",
    "            dx = real(dx)\n",
    "            dy = real(dy)\n",
    "\n",
    "            pm[i, j] = 1 / dx\n",
    "            pn[i, j] = 1 / dy\n",
    "        end\n",
    "    end\n",
    "\n",
    "    return pm, pn\n",
    "end"
   ]
  },
  {
   "cell_type": "markdown",
   "metadata": {},
   "source": [
    "## Analysis\n",
    "### Simple analysis"
   ]
  },
  {
   "cell_type": "code",
   "execution_count": null,
   "metadata": {},
   "outputs": [],
   "source": [
    "pm,pn=DIVAnd_mymetric(ri,ti)\n",
    "\n",
    "r=[0.25,0.5,0.75]\n",
    "t=[pi,0.0,pi]\n",
    "f=[1.0,-1.0,-1.0]\n",
    "fi,s = DIVAndrun(mask,(pm,pn),(ri,ti),(r,t),f,(0.1,0.1),1.0);\n",
    "\n",
    "fig = Figure()\n",
    "ax = Axis(fig[1,1], aspect=1, title=\"Interpolated field\")\n",
    "su = surface!(ax, xi, yi, fi, shading=NoShading, interpolate=false, colorrange=[-1,1])\n",
    "Colorbar(fig[1, 2], su)\n",
    "display(fig)"
   ]
  },
  {
   "cell_type": "markdown",
   "metadata": {},
   "source": [
    "### With periodicity\n",
    "Now adding periodicy. Note how the analyses wraps around       \n",
    "(the gap is just a plotting artefact due to pcolor not aware of the periodicity closing"
   ]
  },
  {
   "cell_type": "code",
   "execution_count": null,
   "metadata": {},
   "outputs": [],
   "source": [
    "r=[0.25,0.5,0.75]\n",
    "t=[pi,0.0,pi]\n",
    "f=[1.0,-1.0,-1.0]\n",
    "fi,s = DIVAndrun(mask,(pm,pn),(ri,ti),(r,t),f,(0.1,0.1),1.0,moddim=[0,1]);\n",
    "\n",
    "fig = Figure()\n",
    "ax = Axis(fig[1,1], aspect=1, title=\"Interpolated field\")\n",
    "su = surface!(ax, xi, yi, fi, shading=NoShading, interpolate=false, colorrange=[-1,1])\n",
    "Colorbar(fig[1, 2], su)\n",
    "display(fig)"
   ]
  },
  {
   "cell_type": "markdown",
   "metadata": {},
   "source": [
    "Now look at the real data for correct and naive analysis. Sample in real domain of course!"
   ]
  },
  {
   "cell_type": "code",
   "execution_count": null,
   "metadata": {},
   "outputs": [],
   "source": [
    "x=-1 .+ 2*rand(100)\n",
    "y=-1 .+ 2*rand(100)\n",
    "r=sqrt.(x.^2 .+ y.^2)\n",
    "t=atan.(y,x) .+ pi # to map to 0 to 2 pi\n",
    "f=sin.(4*x) .* cos.(4*y);"
   ]
  },
  {
   "cell_type": "code",
   "execution_count": null,
   "metadata": {},
   "outputs": [],
   "source": [
    "fi,s = DIVAndrun(mask,(pm,pn),(ri,ti),(r,t),f,(0.1,0.1),1.0,moddim=[0,1]);\n",
    "\n",
    "fig = Figure()\n",
    "ax = Axis(fig[1,1], aspect=1, title=\"Interpolated field, correct metrics\")\n",
    "su = surface!(ax, xi, yi, fi, shading=NoShading, interpolate=false, colorrange=[-1,1])\n",
    "scatter!(ax, x, y, color=f, colorrange=[-1,1])\n",
    "Colorbar(fig[1, 2], su)\n",
    "display(fig)"
   ]
  },
  {
   "cell_type": "code",
   "execution_count": null,
   "metadata": {},
   "outputs": [],
   "source": [
    "fig = Figure(size = (850, 400))\n",
    "ax1 = Axis(fig[1,1], aspect=1)\n",
    "su1 = surface!(ax1, ri, ti, fi, shading=NoShading, interpolate=false)\n",
    "Colorbar(fig[1, 2], su1)\n",
    "ax2 = Axis(fig[1,3], aspect=1)\n",
    "su2 = surface!(ax2, xi, yi, fi, shading=NoShading, interpolate=false)\n",
    "Colorbar(fig[1, 4], su2)\n",
    "display(fig)"
   ]
  },
  {
   "cell_type": "code",
   "execution_count": null,
   "metadata": {},
   "outputs": [],
   "source": [
    "fi,s = DIVAndrun(mask,(pmc,pnc),(ri,ti),(r,t),f,(0.1,pi/7),1.0);\n",
    "fig = Figure()\n",
    "ax = Axis(fig[1,1], aspect=1, title=\"Interpolated field false cartesian\")\n",
    "su = surface!(ax, xi, yi, fi, shading=NoShading, interpolate=false, colorrange=[-1,1])\n",
    "scatter!(ax, x, y)\n",
    "Colorbar(fig[1, 2], su)\n",
    "display(fig)"
   ]
  },
  {
   "cell_type": "code",
   "execution_count": null,
   "metadata": {},
   "outputs": [],
   "source": [
    "fig = Figure(size = (850, 400))\n",
    "ax1 = Axis(fig[1,1], aspect=1)\n",
    "su1 = surface!(ax1, ri, ti, fi, shading=NoShading, interpolate=false)\n",
    "Colorbar(fig[1, 2], su1)\n",
    "ax2 = Axis(fig[1,3], aspect=1)\n",
    "su2 = surface!(ax2, xi, yi, fi, shading=NoShading, interpolate=false)\n",
    "Colorbar(fig[1, 4], su2)\n",
    "display(fig)"
   ]
  },
  {
   "cell_type": "code",
   "execution_count": null,
   "metadata": {},
   "outputs": [],
   "source": [
    "xx = range(0, 10)\n",
    "yy = range(1, 20)\n",
    "xxx, yyy = ndgrid(xx, yy)\n",
    "fff = 3. .* cos.(xxx) .* sin.(2*yyy)"
   ]
  },
  {
   "cell_type": "code",
   "execution_count": null,
   "metadata": {},
   "outputs": [],
   "source": [
    "fig = Figure(size = (850, 400))\n",
    "ax1 = Axis(fig[1,1], aspect=1)\n",
    "heatmap!(xx, yy, fff)\n",
    "display(fig)"
   ]
  },
  {
   "cell_type": "code",
   "execution_count": null,
   "metadata": {},
   "outputs": [],
   "source": [
    "fig = Figure(size = (850, 400))\n",
    "ax1 = Axis(fig[1,1], aspect=1)\n",
    "surface!(xxx, yyy, fff, shading=NoShading, interpolate=false)\n",
    "display(fig)"
   ]
  },
  {
   "cell_type": "code",
   "execution_count": null,
   "metadata": {},
   "outputs": [],
   "source": []
  }
 ],
 "metadata": {
  "kernelspec": {
   "display_name": "Julia 1.11.2",
   "language": "julia",
   "name": "julia-1.11"
  },
  "language_info": {
   "file_extension": ".jl",
   "mimetype": "application/julia",
   "name": "julia",
   "version": "1.11.2"
  },
  "toc": {
   "base_numbering": 1,
   "nav_menu": {},
   "number_sections": true,
   "sideBar": true,
   "skip_h1_title": false,
   "title_cell": "Table of Contents",
   "title_sidebar": "Contents",
   "toc_cell": false,
   "toc_position": {},
   "toc_section_display": true,
   "toc_window_display": false
  }
 },
 "nbformat": 4,
 "nbformat_minor": 4
}
