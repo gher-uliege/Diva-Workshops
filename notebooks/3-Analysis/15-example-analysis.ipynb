{
 "cells": [
  {
   "cell_type": "markdown",
   "metadata": {},
   "source": [
    "# DIVAnd analysis using the sample data set\n",
    "\n",
    "This example performs a salinity analysis using data from the Black Sea.     \n",
    "The analysis is done for every season and year (using all data with 10-year sliding windows form the same season).\n",
    "\n",
    "For testing purposes, let's start with a low resolution.\n",
    "\n",
    "A slightly large test case:\n",
    "* horizontal resolution of 0.1 degree for the Black Sea\n",
    "* 51 depths levels\n",
    "* 8 time instance\n",
    "* fixed correlation length\n",
    "* CPU time: 21 minutes\n",
    "* CPU time increases linearly with the number of time instance."
   ]
  },
  {
   "cell_type": "code",
   "execution_count": 1,
   "metadata": {},
   "outputs": [
    {
     "data": {
      "text/plain": [
       "\"https://dox.uliege.be/index.php/s/IRYJyNZ5KuKVoQL/download\""
      ]
     },
     "execution_count": 1,
     "metadata": {},
     "output_type": "execute_result"
    }
   ],
   "source": [
    "using DIVAnd\n",
    "using PyPlot\n",
    "using NCDatasets\n",
    "using DataStructures\n",
    "using Dates\n",
    "using Statistics\n",
    "include(\"../config.jl\")"
   ]
  },
  {
   "cell_type": "markdown",
   "metadata": {},
   "source": [
    "Download the file `Salinity.bigfile` (if it is not already present). It will be placed in the same directory as this notebook. This file based on the World Ocean Database."
   ]
  },
  {
   "cell_type": "code",
   "execution_count": 2,
   "metadata": {},
   "outputs": [
    {
     "name": "stderr",
     "output_type": "stream",
     "text": [
      "\u001b[36m\u001b[1m[ \u001b[22m\u001b[39m\u001b[36m\u001b[1mInfo: \u001b[22m\u001b[39mFile already downloaded\n"
     ]
    }
   ],
   "source": [
    "fname = salinitybigfile\n",
    "download_check(fname, salinitybigfileURL)"
   ]
  },
  {
   "cell_type": "markdown",
   "metadata": {},
   "source": [
    "Download the bathymetry if it is not already present"
   ]
  },
  {
   "cell_type": "code",
   "execution_count": 3,
   "metadata": {},
   "outputs": [
    {
     "name": "stderr",
     "output_type": "stream",
     "text": [
      "\u001b[36m\u001b[1m[ \u001b[22m\u001b[39m\u001b[36m\u001b[1mInfo: \u001b[22m\u001b[39mFile already downloaded\n"
     ]
    },
    {
     "data": {
      "text/plain": [
       "true"
      ]
     },
     "execution_count": 3,
     "metadata": {},
     "output_type": "execute_result"
    }
   ],
   "source": [
    "bathname = gebco16file\n",
    "download_check(gebco16file, gebco16fileURL)\n",
    "bathisglobal = true"
   ]
  },
  {
   "cell_type": "markdown",
   "metadata": {},
   "source": [
    "Load the data which is here a simple text file with the following columns\n",
    "\n",
    "| longitude | latitude | value | depth | flag | year | month | day | hour | time string | identifier | bottom depth |\n",
    "|----------:|---------:|------:|------:|-------:|------:|-----:|-----|------:|-------:|-------:|-------:|\n",
    "| 28.3333 | 43.167 | 15.7020 | 0.0 | 0 | 1991 | 09 | 03 | 16 | 1991-09-03T16:25 | Cruise:WOD05_BG000003-11570900-28.3333-43.167 | 36 | \n",
    "| 28.3333 | 43.167 | 15.7380 | 10.0 | 0 | 1991 | 09 | 03 | 16 | 1991-09-03T16:25 | Cruise:WOD05_BG000003-11570900-28.3333-43.167 | 36 |\n",
    "\n",
    "Only longitude, latitude, depth, time and the values are used."
   ]
  },
  {
   "cell_type": "code",
   "execution_count": 4,
   "metadata": {},
   "outputs": [
    {
     "name": "stderr",
     "output_type": "stream",
     "text": [
      "\u001b[36m\u001b[1m[ \u001b[22m\u001b[39m\u001b[36m\u001b[1mInfo: \u001b[22m\u001b[39mLoading data from 'big file' ../data/Salinity.bigfile\n"
     ]
    },
    {
     "name": "stdout",
     "output_type": "stream",
     "text": [
      "size(obsval) = (139230,)\n"
     ]
    }
   ],
   "source": [
    "obsval,obslon,obslat,obsdepth,obstime,obsid = loadbigfile(fname);\n",
    "@show size(obsval);"
   ]
  },
  {
   "cell_type": "code",
   "execution_count": 5,
   "metadata": {},
   "outputs": [
    {
     "data": {
      "text/plain": [
       "\"WOD05-BG000003-11570900-28.3333-43.167\""
      ]
     },
     "execution_count": 5,
     "metadata": {},
     "output_type": "execute_result"
    }
   ],
   "source": [
    "replace(split(obsid[1], \":\")[2], \"_\"=>\"-\")"
   ]
  },
  {
   "cell_type": "code",
   "execution_count": 6,
   "metadata": {},
   "outputs": [],
   "source": [
    "obsid_mod = [join((split(replace(split(oo, \":\")[2], \"_\"=>\"-\"), \"-\")[1:3]), \"-\") for oo in obsid];"
   ]
  },
  {
   "cell_type": "markdown",
   "metadata": {},
   "source": [
    "The file contains about 140000 measurements.     \n",
    "Print some basic statistics about the data. Keep an eye on the ranges."
   ]
  },
  {
   "cell_type": "code",
   "execution_count": 7,
   "metadata": {},
   "outputs": [
    {
     "name": "stderr",
     "output_type": "stream",
     "text": [
      "\u001b[36m\u001b[1m[ \u001b[22m\u001b[39m\u001b[36m\u001b[1mInfo: \u001b[22m\u001b[39mChecking ranges for dimensions and observations\n"
     ]
    },
    {
     "name": "stdout",
     "output_type": "stream",
     "text": [
      "              minimum and maximum of obs. dimension 1: (27.1005, 41.65)\n",
      "              minimum and maximum of obs. dimension 2: (40.517, 47.272)\n",
      "              minimum and maximum of obs. dimension 3: (0.0, 2000.0)\n",
      "              minimum and maximum of obs. dimension 4: (DateTime(\"1977-03-27T04:00:00\"), DateTime(\"2006-12-15T09:52:00\"))\n",
      "                          minimum and maximum of data: (0.0, 38.6573)\n"
     ]
    }
   ],
   "source": [
    "checkobs((obslon,obslat,obsdepth,obstime),obsval,obsid)"
   ]
  },
  {
   "cell_type": "markdown",
   "metadata": {},
   "source": [
    "Define the resolution. It is recommended to start with a low resolution and increase the resolution when the results are suitable."
   ]
  },
  {
   "cell_type": "code",
   "execution_count": 8,
   "metadata": {},
   "outputs": [
    {
     "data": {
      "text/plain": [
       "0.2"
      ]
     },
     "execution_count": 8,
     "metadata": {},
     "output_type": "execute_result"
    }
   ],
   "source": [
    "dx = 0.2 # longitude resolution in degrees\n",
    "dy = 0.2 # latitude resolution in degrees"
   ]
  },
  {
   "cell_type": "markdown",
   "metadata": {},
   "source": [
    "Define the bounding box of the spatial domain"
   ]
  },
  {
   "cell_type": "code",
   "execution_count": 9,
   "metadata": {},
   "outputs": [],
   "source": [
    "lonr = 27.:dx:42.; # the range of longitudes (start:step:end)\n",
    "latr = 40.:dy:47.; # the range of latitudes (start:step:end)"
   ]
  },
  {
   "cell_type": "markdown",
   "metadata": {},
   "source": [
    "Define the depth levels"
   ]
  },
  {
   "cell_type": "code",
   "execution_count": 10,
   "metadata": {},
   "outputs": [
    {
     "name": "stdout",
     "output_type": "stream",
     "text": [
      "size(depthr) = (3,)\n"
     ]
    }
   ],
   "source": [
    "depthr = [0.,5., 10., 15., 20., 25., 30., 40., 50., 66, \n",
    "    75, 85, 100, 112, 125, 135, 150, 175, 200, 225, 250, \n",
    "    275, 300, 350, 400, 450, 500, 550, 600, 650, 700, 750, \n",
    "    800, 850, 900, 950, 1000, 1050, 1100, 1150, 1200, 1250, \n",
    "    1300, 1350, 1400, 1450, 1500, 1600, 1750, 1850, 2000]\n",
    "\n",
    "# or for testing just a few levels\n",
    "depthr = [0.,20.,50.]\n",
    "\n",
    "@show size(depthr);"
   ]
  },
  {
   "cell_type": "markdown",
   "metadata": {},
   "source": [
    "The error variance of the observation (scaled by the error variance of the background).    \n",
    "Note that this is the inverse of the signal-to-noise ratio used in the 2D version of `DIVA`."
   ]
  },
  {
   "cell_type": "code",
   "execution_count": 11,
   "metadata": {},
   "outputs": [],
   "source": [
    "epsilon2 = 0.01;"
   ]
  },
  {
   "cell_type": "markdown",
   "metadata": {},
   "source": [
    "* Correlation length in meters (in x, y, and z directions)\n",
    "* 200_000. is the same as 200000., but the former is easier to read."
   ]
  },
  {
   "cell_type": "code",
   "execution_count": 12,
   "metadata": {},
   "outputs": [],
   "source": [
    "sz = (length(lonr),length(latr),length(depthr))\n",
    "\n",
    "lenx = fill(200_000.,sz)\n",
    "leny = fill(200_000.,sz)\n",
    "lenz = [10+depthr[k]/15 for i = 1:sz[1], j = 1:sz[2], k = 1:sz[3]];"
   ]
  },
  {
   "cell_type": "markdown",
   "metadata": {},
   "source": [
    "Year range and averaging time window"
   ]
  },
  {
   "cell_type": "code",
   "execution_count": 13,
   "metadata": {},
   "outputs": [],
   "source": [
    "years = 1993:1994\n",
    "\n",
    "year_window = 10\n",
    "\n",
    "# winter: January-March    1,2,3\n",
    "# spring: April-June       4,5,6\n",
    "# summer: July-September   7,8,9\n",
    "# autumn: October-December 10,11,12\n",
    "\n",
    "monthlists = [\n",
    "    [1,2,3],\n",
    "    [4,5,6],\n",
    "    [7,8,9],\n",
    "    [10,11,12]\n",
    "];"
   ]
  },
  {
   "cell_type": "markdown",
   "metadata": {},
   "source": [
    "* Other possible choises for the time selector are `TimeSelectorYearListMonthList` and `TimeSelectorRunningAverage`.\n",
    "* Type `?` followed by these functions"
   ]
  },
  {
   "cell_type": "code",
   "execution_count": 14,
   "metadata": {},
   "outputs": [
    {
     "name": "stdout",
     "output_type": "stream",
     "text": [
      "search: \u001b[0m\u001b[1mT\u001b[22m\u001b[0m\u001b[1mi\u001b[22m\u001b[0m\u001b[1mm\u001b[22m\u001b[0m\u001b[1me\u001b[22m\u001b[0m\u001b[1mS\u001b[22m\u001b[0m\u001b[1me\u001b[22m\u001b[0m\u001b[1ml\u001b[22m\u001b[0m\u001b[1me\u001b[22m\u001b[0m\u001b[1mc\u001b[22m\u001b[0m\u001b[1mt\u001b[22m\u001b[0m\u001b[1mo\u001b[22m\u001b[0m\u001b[1mr\u001b[22m\u001b[0m\u001b[1mY\u001b[22m\u001b[0m\u001b[1mW\u001b[22m \u001b[0m\u001b[1mT\u001b[22m\u001b[0m\u001b[1mi\u001b[22m\u001b[0m\u001b[1mm\u001b[22m\u001b[0m\u001b[1me\u001b[22m\u001b[0m\u001b[1mS\u001b[22m\u001b[0m\u001b[1me\u001b[22m\u001b[0m\u001b[1ml\u001b[22m\u001b[0m\u001b[1me\u001b[22m\u001b[0m\u001b[1mc\u001b[22m\u001b[0m\u001b[1mt\u001b[22m\u001b[0m\u001b[1mo\u001b[22m\u001b[0m\u001b[1mr\u001b[22m\u001b[0m\u001b[1mY\u001b[22mearListMonthList \u001b[0m\u001b[1mT\u001b[22m\u001b[0m\u001b[1mi\u001b[22m\u001b[0m\u001b[1mm\u001b[22m\u001b[0m\u001b[1me\u001b[22m\u001b[0m\u001b[1mS\u001b[22m\u001b[0m\u001b[1me\u001b[22m\u001b[0m\u001b[1ml\u001b[22m\u001b[0m\u001b[1me\u001b[22m\u001b[0m\u001b[1mc\u001b[22m\u001b[0m\u001b[1mt\u001b[22m\u001b[0m\u001b[1mo\u001b[22m\u001b[0m\u001b[1mr\u001b[22mRunningAverage\n",
      "\n"
     ]
    },
    {
     "data": {
      "text/latex": [
       "\\begin{verbatim}\n",
       "TS = TimeSelectorYW(years,yearwindow,monthlists)\n",
       "\\end{verbatim}\n",
       "The structure \\texttt{TS} handles the time aggregation based on \\texttt{years} and \\texttt{monthlists}. It is similar to \\texttt{TimeSelectorYearListMonthList} except that the elements of \\texttt{yearlists} are centred around \\texttt{years} and span \\texttt{yearwindow} years. \\texttt{yearlists} is in fact constructed by adding and subtracting \\texttt{yearwindow/2} to every element of years.\n",
       "\n"
      ],
      "text/markdown": [
       "```\n",
       "TS = TimeSelectorYW(years,yearwindow,monthlists)\n",
       "```\n",
       "\n",
       "The structure `TS` handles the time aggregation based on `years` and `monthlists`. It is similar to `TimeSelectorYearListMonthList` except that the elements of `yearlists` are centred around `years` and span `yearwindow` years. `yearlists` is in fact constructed by adding and subtracting `yearwindow/2` to every element of years.\n"
      ],
      "text/plain": [
       "\u001b[36m  TS = TimeSelectorYW(years,yearwindow,monthlists)\u001b[39m\n",
       "\n",
       "  The structure \u001b[36mTS\u001b[39m handles the time aggregation based on \u001b[36myears\u001b[39m and \u001b[36mmonthlists\u001b[39m.\n",
       "  It is similar to \u001b[36mTimeSelectorYearListMonthList\u001b[39m except that the elements of\n",
       "  \u001b[36myearlists\u001b[39m are centred around \u001b[36myears\u001b[39m and span \u001b[36myearwindow\u001b[39m years. \u001b[36myearlists\u001b[39m is\n",
       "  in fact constructed by adding and subtracting \u001b[36myearwindow/2\u001b[39m to every element\n",
       "  of years."
      ]
     },
     "execution_count": 14,
     "metadata": {},
     "output_type": "execute_result"
    }
   ],
   "source": [
    "?TimeSelectorYW"
   ]
  },
  {
   "cell_type": "code",
   "execution_count": 15,
   "metadata": {},
   "outputs": [],
   "source": [
    "TS = TimeSelectorYW(years,year_window,monthlists)\n",
    "\n",
    "varname = \"Salinity\"\n",
    "\n",
    "# File name based on the variable (but all spaces are replaced by _)\n",
    "filename = \"Water_body_$(replace(varname, \" \"=>\"_\")).4Danl.nc\"\n",
    "\n",
    "# Time origin for the NetCDF file\n",
    "timeorigin = DateTime(1900,1,1,0,0,0)\n",
    "\n",
    "# Extract the bathymetry for plotting\n",
    "bx,by,b = extract_bath(bathname,bathisglobal,lonr,latr);"
   ]
  },
  {
   "cell_type": "code",
   "execution_count": 16,
   "metadata": {},
   "outputs": [
    {
     "data": {
      "text/plain": [
       "TimeSelectorYearListMonthList{Vector{StepRangeLen{Float64, Base.TwicePrecision{Float64}, Base.TwicePrecision{Float64}, Int64}}, Vector{Vector{Int64}}}(StepRangeLen{Float64, Base.TwicePrecision{Float64}, Base.TwicePrecision{Float64}, Int64}[1988.0:1.0:1998.0, 1989.0:1.0:1999.0], [[1, 2, 3], [4, 5, 6], [7, 8, 9], [10, 11, 12]])"
      ]
     },
     "execution_count": 16,
     "metadata": {},
     "output_type": "execute_result"
    }
   ],
   "source": [
    "TS"
   ]
  },
  {
   "cell_type": "markdown",
   "metadata": {},
   "source": [
    "A list of all metadata"
   ]
  },
  {
   "cell_type": "code",
   "execution_count": 17,
   "metadata": {},
   "outputs": [
    {
     "data": {
      "text/plain": [
       "OrderedDict{String, Any} with 18 entries:\n",
       "  \"project\"               => \"SeaDataCloud\"\n",
       "  \"institution_urn\"       => \"SDN:EDMO::1579\"\n",
       "  \"Author_e-mail\"         => [\"Your Name1 <name1@example.com>\", \"Other Name <na…\n",
       "  \"source\"                => \"observational data from SeaDataNet/EMODNet Chemis…\n",
       "  \"comment\"               => \"...\"\n",
       "  \"parameter_keyword_urn\" => \"SDN:P35::EPC00001\"\n",
       "  \"search_keywords_urn\"   => [\"SDN:P02::PSAL\"]\n",
       "  \"area_keywords_urn\"     => [\"SDN:C19::3_3\"]\n",
       "  \"product_version\"       => \"1.0\"\n",
       "  \"product_code\"          => \"something-to-decide\"\n",
       "  \"bathymetry_source\"     => \"The GEBCO Digital Atlas published by the British …\n",
       "  \"netcdf_standard_name\"  => \"sea_water_salinity\"\n",
       "  \"netcdf_long_name\"      => \"sea water salinity\"\n",
       "  \"netcdf_units\"          => \"1e-3\"\n",
       "  \"abstract\"              => \"...\"\n",
       "  \"acknowledgement\"       => \"...\"\n",
       "  \"documentation\"         => \"https://doi.org/doi_of_doc\"\n",
       "  \"doi\"                   => \"...\""
      ]
     },
     "execution_count": 17,
     "metadata": {},
     "output_type": "execute_result"
    }
   ],
   "source": [
    "metadata = OrderedDict(\n",
    "    # Name of the project (SeaDataCloud, SeaDataNet, EMODNET-chemistry, ...)\n",
    "    \"project\" => \"SeaDataCloud\",\n",
    "\n",
    "    # URN code for the institution EDMO registry,\n",
    "    # e.g. SDN:EDMO::1579\n",
    "    \"institution_urn\" => \"SDN:EDMO::1579\",\n",
    "\n",
    "    # Production group\n",
    "    #\"production\" => \"Diva group\",\n",
    "\n",
    "    # Name and emails from authors\n",
    "    \"Author_e-mail\" => [\"Your Name1 <name1@example.com>\", \"Other Name <name2@example.com>\"],\n",
    "\n",
    "    # Source of the observation\n",
    "    \"source\" => \"observational data from SeaDataNet/EMODNet Chemistry Data Network\",\n",
    "\n",
    "    # Additional comment\n",
    "    \"comment\" => \"...\",\n",
    "\n",
    "    # SeaDataNet Vocabulary P35 URN\n",
    "    # http://seadatanet.maris2.nl/v_bodc_vocab_v2/search.asp?lib=p35\n",
    "    # example: SDN:P35::WATERTEMP\n",
    "    \"parameter_keyword_urn\" => \"SDN:P35::EPC00001\",\n",
    "\n",
    "    # List of SeaDataNet Parameter Discovery Vocabulary P02 URNs\n",
    "    # http://seadatanet.maris2.nl/v_bodc_vocab_v2/search.asp?lib=p02\n",
    "    # example: [\"SDN:P02::TEMP\"]\n",
    "    \"search_keywords_urn\" => [\"SDN:P02::PSAL\"],\n",
    "\n",
    "    # List of SeaDataNet Vocabulary C19 area URNs\n",
    "    # SeaVoX salt and fresh water body gazetteer (C19)\n",
    "    # http://seadatanet.maris2.nl/v_bodc_vocab_v2/search.asp?lib=C19\n",
    "    # example: [\"SDN:C19::3_1\"]\n",
    "    \"area_keywords_urn\" => [\"SDN:C19::3_3\"],\n",
    "\n",
    "    \"product_version\" => \"1.0\",\n",
    "    \n",
    "    \"product_code\" => \"something-to-decide\",\n",
    "    \n",
    "    # bathymetry source acknowledgement\n",
    "    # see, e.g.\n",
    "    # * EMODnet Bathymetry Consortium (2016): EMODnet Digital Bathymetry (DTM).\n",
    "    # https://doi.org/10.12770/c7b53704-999d-4721-b1a3-04ec60c87238\n",
    "    # \n",
    "    # taken from\n",
    "    # http://www.emodnet-bathymetry.eu/data-products/acknowledgement-in-publications\n",
    "    #\n",
    "    # * The GEBCO Digital Atlas published by the British Oceanographic Data Centre on behalf of IOC and IHO, 2003\n",
    "    #\n",
    "    # taken from\n",
    "    # https://www.bodc.ac.uk/projects/data_management/international/gebco/gebco_digital_atlas/copyright_and_attribution/\n",
    "        \n",
    "    \"bathymetry_source\" => \"The GEBCO Digital Atlas published by the British Oceanographic Data Centre on behalf of IOC and IHO, 2003\",\n",
    "\n",
    "    # NetCDF CF standard name\n",
    "    # http://cfconventions.org/Data/cf-standard-names/current/build/cf-standard-name-table.html\n",
    "    # example \"standard_name\" = \"sea_water_temperature\",\n",
    "    \"netcdf_standard_name\" => \"sea_water_salinity\",\n",
    "\n",
    "    \"netcdf_long_name\" => \"sea water salinity\",\n",
    "\n",
    "    \"netcdf_units\" => \"1e-3\",\n",
    "\n",
    "    # Abstract for the product\n",
    "    \"abstract\" => \"...\",\n",
    "\n",
    "    # This option provides a place to acknowledge various types of support for the\n",
    "    # project that produced the data\n",
    "    \"acknowledgement\" => \"...\",\n",
    "\n",
    "    \"documentation\" => \"https://doi.org/doi_of_doc\",\n",
    "\n",
    "    # Digital Object Identifier of the data product\n",
    "    \"doi\" => \"...\")"
   ]
  },
  {
   "cell_type": "markdown",
   "metadata": {},
   "source": [
    "* Make the NetCDF global and variable attributes based on the metadata.\n",
    "* Custom attributes can be added by changing `ncglobalattrib`:\n",
    "\n",
    "```julia\n",
    "ncglobalattrib[\"attribute_name\"] = \"attribute_value\"\n",
    "```\n"
   ]
  },
  {
   "cell_type": "code",
   "execution_count": 21,
   "metadata": {},
   "outputs": [
    {
     "data": {
      "text/plain": [
       "\"*\""
      ]
     },
     "execution_count": 21,
     "metadata": {},
     "output_type": "execute_result"
    }
   ],
   "source": [
    "\n",
    "const PROJECTS = Dict(\n",
    "    \"EMODNET-chemistry\" => Dict(\n",
    "        \"name\" => \"EMODnet Chemistry\",\n",
    "        \"URL\" => \"https://emodnet.ec.europa.eu/en/chemistry\",\n",
    "        \"baseurl_visualization\" => \"http://ec.oceanbrowser.net/emodnet/\",\n",
    "        \"baseurl_wms\" => \"http://ec.oceanbrowser.net/emodnet/Python/web/wms\",\n",
    "        \"baseurl_http\" => \"http://ec.oceanbrowser.net/data/emodnet-domains\",\n",
    "        \"baseurl_opendap\" => \"http://opendap.oceanbrowser.net/thredds/dodsC/data/emodnet-domains\",\n",
    "        \"template\" => joinpath(pathname, \"templates\", \"emodnet-chemistry.mustache\"),\n",
    "    ),\n",
    "    \"SeaDataNet\" => Dict(\n",
    "        \"name\" => \"SeaDataNet\",\n",
    "        \"URL\" => \"http://www.seadatanet.org/\",\n",
    "        \"baseurl_visualization\" => \"http://sdn.oceanbrowser.net/web-vis/\",\n",
    "        \"baseurl_wms\" => \"http://sdn.oceanbrowser.net/web-vis/Python/web/wms\",\n",
    "        \"baseurl_http\" => \"http://sdn.oceanbrowser.net/data/SeaDataNet-domains\",\n",
    "        \"baseurl_opendap\" => \"http://opendap.oceanbrowser.net/thredds/dodsC/data/SeaDataNet-domains\",\n",
    "        \"template\" => joinpath(pathname, \"templates\", \"seadatanet.mustache\"),\n",
    "    ),\n",
    "    \"SeaDataCloud\" => Dict(\n",
    "        \"name\" => \"SeaDataCloud\",\n",
    "        \"URL\" => \"http://www.seadatanet.org/\",\n",
    "        \"baseurl_visualization\" => \"http://sdn.oceanbrowser.net/web-vis/\",\n",
    "        \"baseurl_wms\" => \"http://sdn.oceanbrowser.net/web-vis/Python/web/wms\",\n",
    "        \"baseurl_http\" => \"http://sdn.oceanbrowser.net/data/SeaDataCloud-domains\",\n",
    "        \"baseurl_opendap\" => \"http://opendap.oceanbrowser.net/thredds/dodsC/data/SeaDataNet-domains\",\n",
    "        \"template\" => joinpath(pathname, \"templates\", \"seadatanet.mustache\"),\n",
    "    ),\n",
    ")\n",
    "\n",
    "const OriginatorEDMO_URL = \"https://emodnet-chemistry.maris.nl/download/export.zip\"\n",
    "\n",
    "\n",
    "const layersep = \"*\""
   ]
  },
  {
   "cell_type": "code",
   "execution_count": 18,
   "metadata": {},
   "outputs": [
    {
     "data": {
      "text/plain": [
       "\"Water body salinity\""
      ]
     },
     "execution_count": 18,
     "metadata": {},
     "output_type": "execute_result"
    }
   ],
   "source": [
    "pathname = joinpath(dirname(@__FILE__), \"..\")\n",
    "\n",
    "sdn_parameter_urn = metadata[\"parameter_keyword_urn\"]\n",
    "sdn_parameter = Vocab.resolve(sdn_parameter_urn)\n",
    "sdn_parameter_name = Vocab.prefLabel(sdn_parameter)"
   ]
  },
  {
   "cell_type": "code",
   "execution_count": 22,
   "metadata": {},
   "outputs": [
    {
     "data": {
      "text/plain": [
       "OrderedDict{String, String}()"
      ]
     },
     "execution_count": 22,
     "metadata": {},
     "output_type": "execute_result"
    }
   ],
   "source": [
    "sdn_uom = Vocab.findfirst(sdn_parameter, \"related\", \"P06\")\n",
    "sdn_uom_urn = Vocab.urn(sdn_uom)\n",
    "sdn_uom_name = Vocab.prefLabel(sdn_uom)\n",
    "\n",
    "\n",
    "# derived attributes\n",
    "\n",
    "project = PROJECTS[metadata[\"project\"]]\n",
    "\n",
    "ncglobalattrib = OrderedDict{String,String}()"
   ]
  },
  {
   "cell_type": "code",
   "execution_count": 23,
   "metadata": {},
   "outputs": [
    {
     "data": {
      "text/plain": [
       "(OrderedDict(\"project\" => \"SeaDataCloud\", \"institution\" => \"University of Liège, GeoHydrodynamics and Environment Research\", \"institution_urn\" => \"SDN:EDMO::1579\", \"Author_e-mail\" => \"Your Name1 <name1@example.com>, Other Name <name2@example.com>\", \"source\" => \"observational data from SeaDataNet/EMODNet Chemistry Data Network\", \"comment\" => \"...\", \"parameter_keyword\" => \"Water body salinity\", \"parameter_keyword_urn\" => \"SDN:P35::EPC00001\", \"search_keywords\" => \"Salinity of the water column\", \"search_keywords_urn\" => \"SDN:P02::PSAL\"…), OrderedDict(\"units\" => \"1e-3\", \"standard_name\" => \"sea_water_salinity\", \"long_name\" => \"sea water salinity\"))"
      ]
     },
     "execution_count": 23,
     "metadata": {},
     "output_type": "execute_result"
    }
   ],
   "source": [
    "ncglobalattrib, ncvarattrib = SDNMetadata(metadata,filename,varname,lonr,latr)"
   ]
  },
  {
   "cell_type": "markdown",
   "metadata": {},
   "source": [
    "Plot the results near the surface for debugging and quick inspection.\n",
    "\n",
    "To generate the plots, we define a function `plotres` (see next cell) that will be used as an optional argument when we call the interpolation with `DIVAnd`."
   ]
  },
  {
   "cell_type": "code",
   "execution_count": null,
   "metadata": {},
   "outputs": [],
   "source": [
    "function plotres(timeindex,sel,fit,erri)\n",
    "    tmp = copy(fit)\n",
    "    tmp[erri .> .5] .= NaN;\n",
    "    figure(figsize = (10,5))\n",
    "\n",
    "    # select the data near the surface\n",
    "    selsurface = sel .& (obsdepth .< 5)\n",
    "    vmin,vmax = quantile(obsval[selsurface],(0.01,0.99))\n",
    "\n",
    "    # plot the data\n",
    "    subplot(1,2,1)\n",
    "    scatter(obslon[selsurface],obslat[selsurface],10,obsval[selsurface];\n",
    "            vmin = vmin, vmax = vmax)\n",
    "    xlim(minimum(lonr),maximum(lonr))\n",
    "    ylim(minimum(latr),maximum(latr))\n",
    "    colorbar(orientation=\"horizontal\")\n",
    "    contourf(bx,by,b', levels = [-1e5,0],colors = [[.5,.5,.5]])\n",
    "    gca().set_aspect(1/cosd(mean(by)))\n",
    "    title(\"Observations ($(timeindex))\")\n",
    "\n",
    "    # plot the analysis\n",
    "    subplot(1,2,2)\n",
    "    pcolor(lonr,latr,permutedims(tmp[:,:,1],[2,1]);\n",
    "           vmin = vmin, vmax = vmax)\n",
    "    colorbar(orientation=\"horizontal\")\n",
    "    contourf(bx,by,b', levels = [-1e5,0],colors = [[.5,.5,.5]])\n",
    "    gca().set_aspect(1/cosd(mean(by)))\n",
    "    title(\"Analysis ($(timeindex))\")\n",
    "end"
   ]
  },
  {
   "cell_type": "markdown",
   "metadata": {},
   "source": [
    "If you do not want to generate plots but print the time index at every time slice\n",
    "you can use the function `plotres_timeindex`."
   ]
  },
  {
   "cell_type": "code",
   "execution_count": null,
   "metadata": {},
   "outputs": [],
   "source": [
    "function plotres_timeindex(timeindex,sel,fit,erri)\n",
    "    @show timeindex\n",
    "end"
   ]
  },
  {
   "cell_type": "markdown",
   "metadata": {},
   "source": [
    "Launch the analysis. Plotting can be disabled by commenting the line containing `plotres`.\n",
    "\n",
    "Here we use `diva3d`, which performs a series of 3D analyses (lon, lat and depth) for the different periods defined previously."
   ]
  },
  {
   "cell_type": "code",
   "execution_count": null,
   "metadata": {},
   "outputs": [],
   "source": [
    "if isfile(filename)\n",
    "   rm(filename) # delete the previous analysis\n",
    "end\n",
    "\n",
    "@time dbinfo = diva3d((lonr,latr,depthr,TS),\n",
    "              (obslon,obslat,obsdepth,obstime),\n",
    "              obsval,\n",
    "              (lenx,leny,lenz),\n",
    "              epsilon2,\n",
    "              filename,varname,\n",
    "              bathname = bathname,\n",
    "              bathisglobal = bathisglobal,\n",
    "              plotres = plotres,\n",
    "              ncvarattrib = ncvarattrib,\n",
    "              ncglobalattrib = ncglobalattrib,\n",
    "              timeorigin = timeorigin\n",
    "       );\n",
    "\n",
    "\n",
    "residual = dbinfo[:residuals];"
   ]
  },
  {
   "cell_type": "markdown",
   "metadata": {},
   "source": [
    "This generates many plots (one for every time instance).     \n",
    "The number in the title is the time index starting with the first season and year.\n"
   ]
  },
  {
   "cell_type": "markdown",
   "metadata": {},
   "source": [
    "Save the observation metadata in the NetCDF file"
   ]
  },
  {
   "cell_type": "code",
   "execution_count": null,
   "metadata": {},
   "outputs": [],
   "source": [
    "DIVAnd.saveobs(filename,(obslon,obslat,obsdepth,obstime),obsid_mod)"
   ]
  },
  {
   "cell_type": "markdown",
   "metadata": {},
   "source": [
    "# Residuals"
   ]
  },
  {
   "cell_type": "markdown",
   "metadata": {},
   "source": [
    "Range of the residuals"
   ]
  },
  {
   "cell_type": "code",
   "execution_count": null,
   "metadata": {},
   "outputs": [],
   "source": [
    "res = get(dbinfo, :residuals, 0)\n",
    "@show extrema(res);"
   ]
  },
  {
   "cell_type": "markdown",
   "metadata": {},
   "source": [
    "Residuals with NaNs removed"
   ]
  },
  {
   "cell_type": "code",
   "execution_count": null,
   "metadata": {},
   "outputs": [],
   "source": [
    "res = residual[.!isnan.(residual)]\n",
    "\n",
    "@show extrema(res);\n",
    "@show quantile(res,[0.01,0.99]);"
   ]
  },
  {
   "cell_type": "markdown",
   "metadata": {},
   "source": [
    "Get the identifier of the anomalous point"
   ]
  },
  {
   "cell_type": "code",
   "execution_count": null,
   "metadata": {},
   "outputs": [],
   "source": [
    "i = findfirst(minimum(res) .== residual)\n",
    "obsid[i]"
   ]
  },
  {
   "cell_type": "markdown",
   "metadata": {},
   "source": [
    "For future analysis the residuals can also be saved."
   ]
  },
  {
   "cell_type": "code",
   "execution_count": null,
   "metadata": {},
   "outputs": [],
   "source": [
    "outputdir = \"./output/\"\n",
    "if !isdir(outputdir)\n",
    "    mkpath(outputdir)\n",
    "end\n",
    "\n",
    "resname = joinpath(outputdir, \"Water_body_$(replace(varname, \" \"=>\"_\")).residuals.nc\")\n",
    "if isfile(resname)\n",
    "   rm(resname)\n",
    "end\n",
    "DIVAnd.saveobs(resname,\"$(varname)_residual\",residual,(obslon,obslat,obsdepth,obstime),obsid)"
   ]
  },
  {
   "cell_type": "markdown",
   "metadata": {},
   "source": [
    "* Visualize the residuals (observations minus analysis)\n",
    "* Change depth and time\n",
    "* Adjust colorbare range (`clim`) to see large residuals"
   ]
  },
  {
   "cell_type": "code",
   "execution_count": null,
   "metadata": {},
   "outputs": [],
   "source": [
    "sel = (obsdepth .<  50) .& (Dates.month.(obstime) .== 1)\n",
    "print(\"Number of data points: $(sum(sel))\")\n",
    "contourf(bx,by,b', levels = [-1e5,0],colors = [[.5,.5,.5]])\n",
    "scatter(obslon[sel],obslat[sel],10,residual[sel]; cmap=\"RdBu_r\")\n",
    "clim(-1,1)\n",
    "# set the correct aspect ratio\n",
    "gca().set_aspect(1/cosd(mean(latr)))\n",
    "colorbar(orientation = \"horizontal\");"
   ]
  },
  {
   "cell_type": "code",
   "execution_count": null,
   "metadata": {},
   "outputs": [],
   "source": [
    "filename"
   ]
  },
  {
   "cell_type": "code",
   "execution_count": null,
   "metadata": {},
   "outputs": [],
   "source": []
  }
 ],
 "metadata": {
  "@webio": {
   "lastCommId": null,
   "lastKernelId": null
  },
  "kernelspec": {
   "display_name": "Julia 1.10.4",
   "language": "julia",
   "name": "julia-1.10"
  },
  "language_info": {
   "file_extension": ".jl",
   "mimetype": "application/julia",
   "name": "julia",
   "version": "1.10.4"
  },
  "toc": {
   "base_numbering": 1,
   "nav_menu": {},
   "number_sections": true,
   "sideBar": true,
   "skip_h1_title": false,
   "title_cell": "Table of Contents",
   "title_sidebar": "Contents",
   "toc_cell": false,
   "toc_position": {},
   "toc_section_display": true,
   "toc_window_display": false
  }
 },
 "nbformat": 4,
 "nbformat_minor": 2
}
