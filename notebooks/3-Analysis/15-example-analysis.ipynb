{
 "cells": [
  {
   "cell_type": "markdown",
   "metadata": {},
   "source": [
    "# DIVAnd analysis using the sample data set\n",
    "\n",
    "This example performs a salinity analysis using data from the Black Sea.     \n",
    "The analysis is performed for every season and year (using all data with 10-year sliding windows form the same season).\n",
    "\n",
    "For testing purposes, let's start with a low resolution.\n",
    "\n",
    "A slightly large test case:\n",
    "* [ ] horizontal resolution of 0.1 degree for the Black Sea\n",
    "* [ ] 51 depths levels\n",
    "* [ ] time instance\n",
    "* [ ] fixed correlation length\n",
    "* [ ] CPU time: 21 minutes\n",
    "* [ ] CPU time increases linearly with the number of time instance."
   ]
  },
  {
   "cell_type": "code",
   "execution_count": null,
   "metadata": {},
   "outputs": [],
   "source": [
    "using DIVAnd\n",
    "using Makie, CairoMakie, GeoMakie\n",
    "using NCDatasets\n",
    "using DataStructures\n",
    "using Dates\n",
    "using Statistics\n",
    "include(\"../config.jl\")"
   ]
  },
  {
   "cell_type": "markdown",
   "metadata": {},
   "source": [
    "## Read data\n",
    "### Observations\n",
    "Download the file `Salinity.bigfile` (if it is not already present). It will be placed in the same directory as this notebook.      \n",
    "This file is based on the World Ocean Database."
   ]
  },
  {
   "cell_type": "code",
   "execution_count": null,
   "metadata": {},
   "outputs": [],
   "source": [
    "fname = salinitybigfile\n",
    "download_check(fname, salinitybigfileURL)"
   ]
  },
  {
   "cell_type": "markdown",
   "metadata": {},
   "source": [
    "The observations are stored in a simple text file with the following columns:\n",
    "\n",
    "| longitude | latitude | value | depth | flag | year | month | day | hour | time string | identifier | bottom depth |\n",
    "|----------:|---------:|------:|------:|-------:|------:|-----:|-----|------:|-------:|-------:|-------:|\n",
    "| 28.3333 | 43.167 | 15.7020 | 0.0 | 0 | 1991 | 09 | 03 | 16 | 1991-09-03T16:25 | Cruise:WOD05_BG000003-11570900-28.3333-43.167 | 36 | \n",
    "| 28.3333 | 43.167 | 15.7380 | 10.0 | 0 | 1991 | 09 | 03 | 16 | 1991-09-03T16:25 | Cruise:WOD05_BG000003-11570900-28.3333-43.167 | 36 |\n",
    "\n",
    "The longitude, latitude, depth, time, values and identifiers are used."
   ]
  },
  {
   "cell_type": "code",
   "execution_count": null,
   "metadata": {},
   "outputs": [],
   "source": [
    "obsval, obslon, obslat, obsdepth, obstime, obsid = loadbigfile(fname);\n",
    "@show size(obsval);"
   ]
  },
  {
   "cell_type": "markdown",
   "metadata": {},
   "source": [
    "We perform some string manipulations to the observation IDs, to ensure the format is working."
   ]
  },
  {
   "cell_type": "code",
   "execution_count": null,
   "metadata": {},
   "outputs": [],
   "source": [
    "obsid_mod =\n",
    "    [join((split(replace(split(oo, \":\")[2], \"_\" => \"-\"), \"-\")[1:3]), \"-\") for oo in obsid];\n",
    "@show(obsid_mod[1:5]);"
   ]
  },
  {
   "cell_type": "markdown",
   "metadata": {},
   "source": [
    "The file contains about 140000 measurements.     \n",
    "Let's print some basic statistics about the data, keeping an eye on the ranges."
   ]
  },
  {
   "cell_type": "code",
   "execution_count": null,
   "metadata": {},
   "outputs": [],
   "source": [
    "checkobs((obslon, obslat, obsdepth, obstime), obsval, obsid)"
   ]
  },
  {
   "cell_type": "markdown",
   "metadata": {},
   "source": [
    "### Bathymetry\n",
    "Download the bathymetry if it is not already present"
   ]
  },
  {
   "cell_type": "code",
   "execution_count": null,
   "metadata": {},
   "outputs": [],
   "source": [
    "bathname = gebco16file\n",
    "download_check(gebco16file, gebco16fileURL)\n",
    "bathisglobal = true"
   ]
  },
  {
   "cell_type": "markdown",
   "metadata": {},
   "source": [
    "## Analysis setting\n",
    "### Grid parameters\n",
    "Define the resolution. It is recommended to start with a low resolution and increase the resolution when the results are suitable."
   ]
  },
  {
   "cell_type": "code",
   "execution_count": null,
   "metadata": {},
   "outputs": [],
   "source": [
    "dx = 0.2 # longitude resolution in degrees\n",
    "dy = 0.2 # latitude resolution in degrees"
   ]
  },
  {
   "cell_type": "markdown",
   "metadata": {},
   "source": [
    "Define the bounding box of the spatial domain"
   ]
  },
  {
   "cell_type": "code",
   "execution_count": null,
   "metadata": {},
   "outputs": [],
   "source": [
    "lonr = 27.0:dx:42.0; # the range of longitudes (start:step:end)\n",
    "latr = 40.0:dy:47.0; # the range of latitudes (start:step:end)"
   ]
  },
  {
   "cell_type": "markdown",
   "metadata": {},
   "source": [
    "Define the depth levels"
   ]
  },
  {
   "cell_type": "code",
   "execution_count": null,
   "metadata": {},
   "outputs": [],
   "source": [
    "depthr = [0.,5., 10., 15., 20., 25., 30., 40., 50., 66, \n",
    "    75, 85, 100, 112, 125, 135, 150, 175, 200, 225, 250, \n",
    "    275, 300, 350, 400, 450, 500, 550, 600, 650, 700, 750, \n",
    "    800, 850, 900, 950, 1000, 1050, 1100, 1150, 1200, 1250, \n",
    "    1300, 1350, 1400, 1450, 1500, 1600, 1750, 1850, 2000]\n",
    "\n",
    "# or for testing just a few levels\n",
    "depthr = [0.,20.,50.]\n",
    "\n",
    "@show size(depthr);"
   ]
  },
  {
   "cell_type": "markdown",
   "metadata": {},
   "source": [
    "We extract the bathymetry and the mask for plotting:"
   ]
  },
  {
   "cell_type": "code",
   "execution_count": null,
   "metadata": {},
   "outputs": [],
   "source": [
    "bx, by, b = extract_bath(bathname, bathisglobal, lonr, latr);\n",
    "_, _, mask = load_mask(bathname, bathisglobal, lonr, latr, 0)"
   ]
  },
  {
   "cell_type": "markdown",
   "metadata": {},
   "source": [
    "### Analysis parameters\n",
    "The error variance of the observation (scaled by the error variance of the background).    \n",
    "Note that this is the inverse of the signal-to-noise ratio used in the 2D version of `DIVA`."
   ]
  },
  {
   "cell_type": "code",
   "execution_count": null,
   "metadata": {},
   "outputs": [],
   "source": [
    "epsilon2 = 0.01;"
   ]
  },
  {
   "cell_type": "markdown",
   "metadata": {},
   "source": [
    "* Correlation length in meters (in x, y, and z directions)\n",
    "* 200_000. is the same as 200000., but the former is easier to read."
   ]
  },
  {
   "cell_type": "code",
   "execution_count": null,
   "metadata": {},
   "outputs": [],
   "source": [
    "sz = (length(lonr), length(latr), length(depthr))\n",
    "\n",
    "lenx = fill(200_000.0, sz)\n",
    "leny = fill(200_000.0, sz)\n",
    "lenz = [10 + depthr[k] / 15 for i = 1:sz[1], j = 1:sz[2], k = 1:sz[3]];"
   ]
  },
  {
   "cell_type": "markdown",
   "metadata": {},
   "source": [
    "### Time periods\n",
    "The analysis is performed using a 10-year window."
   ]
  },
  {
   "cell_type": "code",
   "execution_count": null,
   "metadata": {},
   "outputs": [],
   "source": [
    "years = 1993:1994\n",
    "\n",
    "year_window = 10\n",
    "\n",
    "# winter: January-March    1,2,3\n",
    "# spring: April-June       4,5,6\n",
    "# summer: July-September   7,8,9\n",
    "# autumn: October-December 10,11,12\n",
    "\n",
    "monthlists = [[1, 2, 3], [4, 5, 6], [7, 8, 9], [10, 11, 12]];"
   ]
  },
  {
   "cell_type": "markdown",
   "metadata": {},
   "source": [
    "* Other possible choises for the time selector are `TimeSelectorYearListMonthList` and `TimeSelectorRunningAverage`.\n",
    "* Type `?` followed by these functions"
   ]
  },
  {
   "cell_type": "code",
   "execution_count": null,
   "metadata": {},
   "outputs": [],
   "source": [
    "?TimeSelectorYW"
   ]
  },
  {
   "cell_type": "code",
   "execution_count": null,
   "metadata": {},
   "outputs": [],
   "source": [
    "TS = TimeSelectorYW(years, year_window, monthlists)"
   ]
  },
  {
   "cell_type": "markdown",
   "metadata": {},
   "source": [
    "There are four monthly periods (on per season) and 2 years, leading to a total of 8 time periods for the analysis.\n"
   ]
  },
  {
   "cell_type": "code",
   "execution_count": null,
   "metadata": {},
   "outputs": [],
   "source": [
    "@info(\"Workong on $(length(TS)) time periods\");"
   ]
  },
  {
   "cell_type": "markdown",
   "metadata": {},
   "source": [
    "### Other parameters\n",
    "Let's define the variable name, the file name and the time origin."
   ]
  },
  {
   "cell_type": "code",
   "execution_count": null,
   "metadata": {},
   "outputs": [],
   "source": [
    "varname = \"Salinity\"\n",
    "\n",
    "# File name based on the variable (but all spaces are replaced by _)\n",
    "filename = \"Water_body_$(replace(varname, \" \"=>\"_\")).4Danl.nc\"\n",
    "\n",
    "# Time origin for the NetCDF file\n",
    "timeorigin = DateTime(1900, 1, 1, 0, 0, 0)"
   ]
  },
  {
   "cell_type": "markdown",
   "metadata": {},
   "source": [
    "### Metadata \n",
    "The metadata are essential when one is ready to publish their product(s), since metadata contain all the relevant information concerning how the products were prepared and by who.\n",
    "#### List of all metadata"
   ]
  },
  {
   "cell_type": "code",
   "execution_count": null,
   "metadata": {},
   "outputs": [],
   "source": [
    "metadata = OrderedDict(\n",
    "    # Name of the project (SeaDataCloud, SeaDataNet, EMODNET-chemistry, ...)\n",
    "    \"project\" => \"SeaDataCloud\",\n",
    "\n",
    "    # URN code for the institution EDMO registry,\n",
    "    # e.g. SDN:EDMO::1579\n",
    "    \"institution_urn\" => \"SDN:EDMO::1579\",\n",
    "\n",
    "    # Production group\n",
    "    #\"production\" => \"Diva group\",\n",
    "\n",
    "    # Name and emails from authors\n",
    "    \"Author_e-mail\" =>\n",
    "        [\"Your Name1 <name1@example.com>\", \"Other Name <name2@example.com>\"],\n",
    "\n",
    "    # Source of the observation\n",
    "    \"source\" => \"observational data from SeaDataNet/EMODNet Chemistry Data Network\",\n",
    "\n",
    "    # Additional comment\n",
    "    \"comment\" => \"...\",\n",
    "\n",
    "    # SeaDataNet Vocabulary P35 URN\n",
    "    # http://seadatanet.maris2.nl/v_bodc_vocab_v2/search.asp?lib=p35\n",
    "    # example: SDN:P35::WATERTEMP\n",
    "    \"parameter_keyword_urn\" => \"SDN:P35::EPC00001\",\n",
    "\n",
    "    # List of SeaDataNet Parameter Discovery Vocabulary P02 URNs\n",
    "    # http://seadatanet.maris2.nl/v_bodc_vocab_v2/search.asp?lib=p02\n",
    "    # example: [\"SDN:P02::TEMP\"]\n",
    "    \"search_keywords_urn\" => [\"SDN:P02::PSAL\"],\n",
    "\n",
    "    # List of SeaDataNet Vocabulary C19 area URNs\n",
    "    # SeaVoX salt and fresh water body gazetteer (C19)\n",
    "    # http://seadatanet.maris2.nl/v_bodc_vocab_v2/search.asp?lib=C19\n",
    "    # example: [\"SDN:C19::3_1\"]\n",
    "    \"area_keywords_urn\" => [\"SDN:C19::3_3\"],\n",
    "    \"product_version\" => \"1.0\",\n",
    "    \"product_code\" => \"something-to-decide\",\n",
    "\n",
    "    # bathymetry source acknowledgement\n",
    "    # see, e.g.\n",
    "    # * EMODnet Bathymetry Consortium (2016): EMODnet Digital Bathymetry (DTM).\n",
    "    # https://doi.org/10.12770/c7b53704-999d-4721-b1a3-04ec60c87238\n",
    "    # \n",
    "    # taken from\n",
    "    # http://www.emodnet-bathymetry.eu/data-products/acknowledgement-in-publications\n",
    "    #\n",
    "    # * The GEBCO Digital Atlas published by the British Oceanographic Data Centre on behalf of IOC and IHO, 2003\n",
    "    #\n",
    "    # taken from\n",
    "    # https://www.bodc.ac.uk/projects/data_management/international/gebco/gebco_digital_atlas/copyright_and_attribution/\n",
    "\n",
    "    \"bathymetry_source\" => \"The GEBCO Digital Atlas published by the British Oceanographic Data Centre on behalf of IOC and IHO, 2003\",\n",
    "\n",
    "    # NetCDF CF standard name\n",
    "    # http://cfconventions.org/Data/cf-standard-names/current/build/cf-standard-name-table.html\n",
    "    # example \"standard_name\" = \"sea_water_temperature\",\n",
    "    \"netcdf_standard_name\" => \"sea_water_salinity\",\n",
    "    \"netcdf_long_name\" => \"sea water salinity\",\n",
    "    \"netcdf_units\" => \"1e-3\",\n",
    "\n",
    "    # Abstract for the product\n",
    "    \"abstract\" => \"...\",\n",
    "\n",
    "    # This option provides a place to acknowledge various types of support for the\n",
    "    # project that produced the data\n",
    "    \"acknowledgement\" => \"...\",\n",
    "    \"documentation\" => \"https://doi.org/doi_of_doc\",\n",
    "\n",
    "    # Digital Object Identifier of the data product\n",
    "    \"doi\" => \"...\",\n",
    ")"
   ]
  },
  {
   "cell_type": "markdown",
   "metadata": {},
   "source": [
    "* Make the NetCDF global and variable attributes based on the metadata.\n",
    "* Custom attributes can be added by changing `ncglobalattrib`:\n",
    "\n",
    "```julia\n",
    "ncglobalattrib[\"attribute_name\"] = \"attribute_value\"\n",
    "```\n"
   ]
  },
  {
   "cell_type": "code",
   "execution_count": null,
   "metadata": {},
   "outputs": [],
   "source": [
    "pathname = joinpath(dirname(@__FILE__), \"..\")\n",
    "\n",
    "const PROJECTS = Dict(\n",
    "    \"EMODNET-chemistry\" => Dict(\n",
    "        \"name\" => \"EMODnet Chemistry\",\n",
    "        \"URL\" => \"https://emodnet.ec.europa.eu/en/chemistry\",\n",
    "        \"baseurl_visualization\" => \"http://ec.oceanbrowser.net/emodnet/\",\n",
    "        \"baseurl_wms\" => \"http://ec.oceanbrowser.net/emodnet/Python/web/wms\",\n",
    "        \"baseurl_http\" => \"http://ec.oceanbrowser.net/data/emodnet-domains\",\n",
    "        \"baseurl_opendap\" => \"http://opendap.oceanbrowser.net/thredds/dodsC/data/emodnet-domains\",\n",
    "        \"template\" => joinpath(pathname, \"templates\", \"emodnet-chemistry.mustache\"),\n",
    "    ),\n",
    "    \"SeaDataNet\" => Dict(\n",
    "        \"name\" => \"SeaDataNet\",\n",
    "        \"URL\" => \"http://www.seadatanet.org/\",\n",
    "        \"baseurl_visualization\" => \"http://sdn.oceanbrowser.net/web-vis/\",\n",
    "        \"baseurl_wms\" => \"http://sdn.oceanbrowser.net/web-vis/Python/web/wms\",\n",
    "        \"baseurl_http\" => \"http://sdn.oceanbrowser.net/data/SeaDataNet-domains\",\n",
    "        \"baseurl_opendap\" => \"http://opendap.oceanbrowser.net/thredds/dodsC/data/SeaDataNet-domains\",\n",
    "        \"template\" => joinpath(pathname, \"templates\", \"seadatanet.mustache\"),\n",
    "    ),\n",
    "    \"SeaDataCloud\" => Dict(\n",
    "        \"name\" => \"SeaDataCloud\",\n",
    "        \"URL\" => \"http://www.seadatanet.org/\",\n",
    "        \"baseurl_visualization\" => \"http://sdn.oceanbrowser.net/web-vis/\",\n",
    "        \"baseurl_wms\" => \"http://sdn.oceanbrowser.net/web-vis/Python/web/wms\",\n",
    "        \"baseurl_http\" => \"http://sdn.oceanbrowser.net/data/SeaDataCloud-domains\",\n",
    "        \"baseurl_opendap\" => \"http://opendap.oceanbrowser.net/thredds/dodsC/data/SeaDataNet-domains\",\n",
    "        \"template\" => joinpath(pathname, \"templates\", \"seadatanet.mustache\"),\n",
    "    ),\n",
    ")\n",
    "\n",
    "const OriginatorEDMO_URL = \"https://emodnet-chemistry.maris.nl/download/export.zip\"\n",
    "\n",
    "\n",
    "const layersep = \"*\""
   ]
  },
  {
   "cell_type": "markdown",
   "metadata": {},
   "source": [
    "Whenever possible, we make use of the [Seadatanet controled vocabulary](https://www.seadatanet.org/Standards/Common-Vocabularies). \n",
    "\n",
    "<div class=\"alert alert-block alert-warning\"> \n",
    "⚠️ The next steps require an internet connection in order to obtain information from the vocabulary server.\n",
    "</div>"
   ]
  },
  {
   "cell_type": "code",
   "execution_count": null,
   "metadata": {},
   "outputs": [],
   "source": [
    "sdn_parameter_urn = metadata[\"parameter_keyword_urn\"]\n",
    "sdn_parameter = Vocab.resolve(sdn_parameter_urn)\n",
    "sdn_parameter_name = Vocab.prefLabel(sdn_parameter)\n",
    "sdn_uom = Vocab.findfirst(sdn_parameter, \"related\", \"P06\")\n",
    "sdn_uom_urn = Vocab.urn(sdn_uom)\n",
    "sdn_uom_name = Vocab.prefLabel(sdn_uom)\n",
    "\n",
    "\n",
    "# derived attributes\n",
    "project = PROJECTS[metadata[\"project\"]]\n",
    "ncglobalattrib = OrderedDict{String,String}();"
   ]
  },
  {
   "cell_type": "markdown",
   "metadata": {},
   "source": [
    "Finally, the function [`SDNMetadata`](https://gher-uliege.github.io/DIVAnd.jl/stable/#DIVAnd.SDNMetadata) creates the dictionary containing the global and variable attributes to be used in the netCDF storing the results."
   ]
  },
  {
   "cell_type": "code",
   "execution_count": null,
   "metadata": {},
   "outputs": [],
   "source": [
    "ncglobalattrib, ncvarattrib = SDNMetadata(metadata, filename, varname, lonr, latr)"
   ]
  },
  {
   "cell_type": "markdown",
   "metadata": {},
   "source": [
    "### Plots\n",
    "Plot the results near the surface for debugging and quick inspection.\n",
    "\n",
    "To generate the plots, we define a function `plotres` (see next cell) that will be used as an optional argument when we call the interpolation with `DIVAnd`."
   ]
  },
  {
   "cell_type": "code",
   "execution_count": null,
   "metadata": {},
   "outputs": [],
   "source": [
    "function plotres(timeindex, sel, fit, erri)\n",
    "    tmp = copy(fit)\n",
    "    tmp[erri.>0.5] .= NaN\n",
    "\n",
    "    fig = Figure(size = (600, 400))\n",
    "\n",
    "    # select the data near the surface\n",
    "    selsurface = (obsdepth .< 5)\n",
    "    vmin, vmax = quantile(obsval[selsurface], (0.01, 0.99))\n",
    "\n",
    "    # plot the data\n",
    "    ga1 = GeoAxis(fig[1, 1]; dest = \"+proj=merc\", title = \"Observations ($(timeindex))\")\n",
    "    heatmap!(ga1, lonr, latr, mask, colormap = Reverse(:binary))\n",
    "    sc = scatter!(\n",
    "        ga1,\n",
    "        obslon[selsurface],\n",
    "        obslat[selsurface],\n",
    "        color = obsval[selsurface],\n",
    "        markersize = 5,\n",
    "        colorrange = [vmin, vmax],\n",
    "    )\n",
    "\n",
    "    xlims!(ga1, (lonr[1], lonr[end]))\n",
    "    ylims!(ga1, (latr[1], latr[end]))\n",
    "    Colorbar(fig[2, 1], sc, vertical = false)\n",
    "\n",
    "    # plot the analysis\n",
    "    ga2 = GeoAxis(fig[1, 2]; dest = \"+proj=merc\", title = \"Analysis ($(timeindex))\")\n",
    "    heatmap!(ga2, lonr, latr, mask, colormap = Reverse(:binary))\n",
    "    hm = heatmap!(\n",
    "        ga2,\n",
    "        lonr,\n",
    "        latr,\n",
    "        tmp[:, :, 1],\n",
    "        interpolate = false,\n",
    "        colorrange = [vmin, vmax],\n",
    "    )\n",
    "\n",
    "    xlims!(ga2, (lonr[1], lonr[end]))\n",
    "    ylims!(ga2, (latr[1], latr[end]))\n",
    "    Colorbar(fig[2, 2], hm, vertical = false)\n",
    "\n",
    "    display(fig)\n",
    "\n",
    "end"
   ]
  },
  {
   "cell_type": "markdown",
   "metadata": {},
   "source": [
    "If you do not want to generate plots but print the time index at every time slice,       \n",
    "you can use the function `plotres_timeindex`."
   ]
  },
  {
   "cell_type": "code",
   "execution_count": null,
   "metadata": {},
   "outputs": [],
   "source": [
    "function plotres_timeindex(timeindex, sel, fit, erri)\n",
    "    @show timeindex\n",
    "end"
   ]
  },
  {
   "cell_type": "markdown",
   "metadata": {},
   "source": [
    "## Run analysis\n",
    "Here we use [`diva3d`](https://gher-uliege.github.io/DIVAnd.jl/stable/#DIVAnd.diva3d), which performs a series of 3D analyses (lon, lat and depth) for the different periods defined previously.\n",
    "\n",
    "<div class=\"alert alert-block alert-info\"> \n",
    "🛈 Plotting can be disabled by commenting the line containing `plotres`, or by re-defining the function `plotres`.\n",
    "</div>"
   ]
  },
  {
   "cell_type": "code",
   "execution_count": null,
   "metadata": {},
   "outputs": [],
   "source": [
    "if isfile(filename)\n",
    "    rm(filename) # delete the previous analysis\n",
    "end\n",
    "\n",
    "@time dbinfo = diva3d(\n",
    "    (lonr, latr, depthr, TS),\n",
    "    (obslon, obslat, obsdepth, obstime),\n",
    "    obsval,\n",
    "    (lenx, leny, lenz),\n",
    "    epsilon2,\n",
    "    filename,\n",
    "    varname,\n",
    "    bathname = bathname,\n",
    "    bathisglobal = bathisglobal,\n",
    "    plotres = plotres,\n",
    "    ncvarattrib = ncvarattrib,\n",
    "    ncglobalattrib = ncglobalattrib,\n",
    "    timeorigin = timeorigin,\n",
    ")"
   ]
  },
  {
   "cell_type": "markdown",
   "metadata": {},
   "source": [
    "This generates many plots (one for every time instance).     \n",
    "The number in the title is the time index starting with the first season and year.\n"
   ]
  },
  {
   "cell_type": "markdown",
   "metadata": {},
   "source": [
    "### Save the observation metadata in the NetCDF file"
   ]
  },
  {
   "cell_type": "code",
   "execution_count": null,
   "metadata": {},
   "outputs": [],
   "source": [
    "DIVAnd.saveobs(filename, (obslon, obslat, obsdepth, obstime), obsid_mod)"
   ]
  },
  {
   "cell_type": "markdown",
   "metadata": {},
   "source": [
    "## Residuals\n",
    "The residuals are obtained from the structure `dbinfo`):"
   ]
  },
  {
   "cell_type": "code",
   "execution_count": null,
   "metadata": {},
   "outputs": [],
   "source": [
    "res = get(dbinfo, :residuals, 0)\n",
    "@show extrema(res);"
   ]
  },
  {
   "cell_type": "markdown",
   "metadata": {},
   "source": [
    "Residuals with NaNs removed"
   ]
  },
  {
   "cell_type": "code",
   "execution_count": null,
   "metadata": {},
   "outputs": [],
   "source": [
    "res2 = res[.!isnan.(res)]\n",
    "\n",
    "@show extrema(res2);\n",
    "@show quantile(res2, [0.01, 0.99]);"
   ]
  },
  {
   "cell_type": "markdown",
   "metadata": {},
   "source": [
    "Get the identifier of the anomalous point (lowest residual):"
   ]
  },
  {
   "cell_type": "code",
   "execution_count": null,
   "metadata": {},
   "outputs": [],
   "source": [
    "i = findfirst(minimum(res2) .== res)\n",
    "obsid[i]"
   ]
  },
  {
   "cell_type": "markdown",
   "metadata": {},
   "source": [
    "For future analysis the residuals can also be saved."
   ]
  },
  {
   "cell_type": "code",
   "execution_count": null,
   "metadata": {},
   "outputs": [],
   "source": [
    "resname = joinpath(outputdir, \"Water_body_$(replace(varname, \" \"=>\"_\")).residuals.nc\")\n",
    "if isfile(resname)\n",
    "    rm(resname)\n",
    "end\n",
    "DIVAnd.saveobs(\n",
    "    resname,\n",
    "    \"$(varname)_residual\",\n",
    "    res,\n",
    "    (obslon, obslat, obsdepth, obstime),\n",
    "    obsid,\n",
    ")"
   ]
  },
  {
   "cell_type": "markdown",
   "metadata": {},
   "source": [
    "* Visualize the residuals (observations minus analysis)\n",
    "* Change depth and time\n",
    "* Adjust colorbare range (`clim`) to see large residuals"
   ]
  },
  {
   "cell_type": "code",
   "execution_count": null,
   "metadata": {},
   "outputs": [],
   "source": [
    "sel = (obsdepth .< 50) .& (Dates.month.(obstime) .== 1)\n",
    "print(\"Number of data points: $(sum(sel))\")\n",
    "\n",
    "fig = Figure(size = (600, 400))\n",
    "ga = GeoAxis(fig[1, 1]; dest = \"+proj=merc\", title = \"Residuals\")\n",
    "heatmap!(ga, lonr, latr, mask, colormap = Reverse(:binary))\n",
    "sc = scatter!(\n",
    "    ga,\n",
    "    obslon[sel],\n",
    "    obslat[sel],\n",
    "    color = res[sel],\n",
    "    colormap = Reverse(:RdYlBu),\n",
    "    markersize = 10,\n",
    "    colorrange = [-1.0, 1.0],\n",
    ")\n",
    "\n",
    "xlims!(ga, (lonr[1], lonr[end]))\n",
    "ylims!(ga, (latr[1], latr[end]))\n",
    "Colorbar(fig[2, 1], sc, vertical = false)\n",
    "fig"
   ]
  },
  {
   "cell_type": "code",
   "execution_count": null,
   "metadata": {},
   "outputs": [],
   "source": []
  }
 ],
 "metadata": {
  "@webio": {
   "lastCommId": null,
   "lastKernelId": null
  },
  "kernelspec": {
   "display_name": "Julia 1.11.2",
   "language": "julia",
   "name": "julia-1.11"
  },
  "language_info": {
   "file_extension": ".jl",
   "mimetype": "application/julia",
   "name": "julia",
   "version": "1.11.2"
  },
  "toc": {
   "base_numbering": 1,
   "nav_menu": {},
   "number_sections": true,
   "sideBar": true,
   "skip_h1_title": false,
   "title_cell": "Table of Contents",
   "title_sidebar": "Contents",
   "toc_cell": false,
   "toc_position": {},
   "toc_section_display": true,
   "toc_window_display": false
  }
 },
 "nbformat": 4,
 "nbformat_minor": 4
}
