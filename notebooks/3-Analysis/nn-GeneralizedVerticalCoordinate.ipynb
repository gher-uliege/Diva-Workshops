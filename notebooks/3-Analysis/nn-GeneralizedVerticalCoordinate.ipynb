{
 "cells": [
  {
   "cell_type": "markdown",
   "metadata": {
    "slideshow": {
     "slide_type": "slide"
    }
   },
   "source": [
    "# DIVAnd in generalized vertical coordinates\n",
    "## Import packages"
   ]
  },
  {
   "cell_type": "code",
   "execution_count": null,
   "metadata": {
    "slideshow": {
     "slide_type": "subslide"
    }
   },
   "outputs": [],
   "source": [
    "using NCDatasets\n",
    "using DataStructures\n",
    "using DIVAnd\n",
    "using Dates\n",
    "using Statistics\n",
    "using Random\n",
    "using Makie, CairoMakie, GeoMakie\n",
    "using Interpolations\n",
    "using Roots\n",
    "include(\"../config.jl\")"
   ]
  },
  {
   "cell_type": "markdown",
   "metadata": {
    "slideshow": {
     "slide_type": "subslide"
    }
   },
   "source": [
    "## Configuration\n",
    "* Define the horizontal, vertical (depth levels) and temporal resolutions.\n",
    "* Select the variable of interest"
   ]
  },
  {
   "cell_type": "code",
   "execution_count": null,
   "metadata": {
    "slideshow": {
     "slide_type": "subslide"
    }
   },
   "outputs": [],
   "source": [
    "dx, dy = 0.125, 0.125\n",
    "lonr = 11.5:dx:20\n",
    "latr = 39:dy:46\n",
    "\n",
    "depthr = [0.,5., 10., 15., 20., 25., 30., 40., 50., 66, \n",
    "    75, 85, 100, 112, 125, 135, 150, 175, 200, 225, 250, \n",
    "    275, 300, 350, 400, 450, 500, 550, 600, 650, 700, 750, \n",
    "    800, 850, 900, 950, 1000, 1050, 1100, 1150, 1200, 1250, \n",
    "    1300, 1350, 1400, 1450, 1500, 1600, 1750, 1850, 2000];\n",
    "#depthr = depthr[1:30];"
   ]
  },
  {
   "cell_type": "markdown",
   "metadata": {
    "slideshow": {
     "slide_type": "slide"
    }
   },
   "source": [
    "## Read your ODV file\n",
    "Adapt the `datadir` and `datafile` values.     \n",
    "The example is based on a sub-setting of the [Mediterranean Sea](https://www.seadatanet.org/Products#/metadata/cd552057-b604-4004-b838-a4f73cc98fcf) aggregated dataset.      \n",
    "The dataset has been extracted around the Adriatic Sea and exported to a netCDF using [Ocean Data View](https://odv.awi.de/).\n",
    "<img src=\"./Images/MedSeaAggreg.jpg\" width=\"450px\">"
   ]
  },
  {
   "cell_type": "markdown",
   "metadata": {},
   "source": [
    "Download the data files (test and full) if needed."
   ]
  },
  {
   "cell_type": "code",
   "execution_count": null,
   "metadata": {
    "slideshow": {
     "slide_type": "fragment"
    }
   },
   "outputs": [],
   "source": [
    "datafile = adriaticfile\n",
    "download_check(datafile, adriaticfileURL)"
   ]
  },
  {
   "cell_type": "markdown",
   "metadata": {},
   "source": [
    "Read the full file:"
   ]
  },
  {
   "cell_type": "code",
   "execution_count": null,
   "metadata": {
    "slideshow": {
     "slide_type": "fragment"
    }
   },
   "outputs": [],
   "source": [
    "@time obsval,obslon,obslat,obsdepth,obstime,obsid = NCODV.load(Float64, datafile, \n",
    "    \"Water body salinity\");\n",
    "aspectratio = 1/cos(mean(latr) * pi/180)"
   ]
  },
  {
   "cell_type": "code",
   "execution_count": null,
   "metadata": {
    "slideshow": {
     "slide_type": "subslide"
    }
   },
   "outputs": [],
   "source": [
    "f = Figure()\n",
    "ax = GeoAxis(f[1,1], dest = \"+proj=merc\", title=\"Observations\")\n",
    "scatter!(ax, obslon, obslat; markersize=2, color = :black)\n",
    "f"
   ]
  },
  {
   "cell_type": "markdown",
   "metadata": {
    "slideshow": {
     "slide_type": "subslide"
    }
   },
   "source": [
    "Check the extremal values of the observations"
   ]
  },
  {
   "cell_type": "code",
   "execution_count": null,
   "metadata": {},
   "outputs": [],
   "source": [
    "checkobs((obslon,obslat,obsdepth,obstime),obsval,obsid)"
   ]
  },
  {
   "cell_type": "markdown",
   "metadata": {
    "slideshow": {
     "slide_type": "slide"
    }
   },
   "source": [
    "## Extract the bathymetry\n",
    "It is used to delimit the domain where the interpolation is performed.\n",
    "\n",
    "### Choice of bathymetry\n",
    "Modify `bathname` according to the resolution required."
   ]
  },
  {
   "cell_type": "code",
   "execution_count": null,
   "metadata": {
    "slideshow": {
     "slide_type": "fragment"
    }
   },
   "outputs": [],
   "source": [
    "bathname = gebco08file\n",
    "download_check(bathname, gebco08fileURL)"
   ]
  },
  {
   "cell_type": "code",
   "execution_count": null,
   "metadata": {
    "slideshow": {
     "slide_type": "fragment"
    }
   },
   "outputs": [],
   "source": [
    "@time bx,by,b = load_bath(bathname,true,lonr,latr);"
   ]
  },
  {
   "cell_type": "code",
   "execution_count": null,
   "metadata": {
    "slideshow": {
     "slide_type": "subslide"
    }
   },
   "outputs": [],
   "source": [
    "plot_bathy(bx, by, b, xticks=10.:2.:20., yticks=39.:2:48.)"
   ]
  },
  {
   "cell_type": "markdown",
   "metadata": {
    "slideshow": {
     "slide_type": "subslide"
    }
   },
   "source": [
    "### Create mask\n",
    "* False for sea        \n",
    "* True for land"
   ]
  },
  {
   "cell_type": "code",
   "execution_count": null,
   "metadata": {
    "slideshow": {
     "slide_type": "fragment"
    }
   },
   "outputs": [],
   "source": [
    "mask = falses(size(b,1),size(b,2),length(depthr))\n",
    "for k = 1:length(depthr)\n",
    "    for j = 1:size(b,2)\n",
    "        for i = 1:size(b,1)\n",
    "            mask[i,j,k] = b[i,j] >= depthr[k]\n",
    "        end\n",
    "    end\n",
    "end\n",
    "@show size(mask)"
   ]
  },
  {
   "cell_type": "markdown",
   "metadata": {},
   "source": [
    "We plot the surface mask, other levels can be shown by changing the last index in `Mask[]`."
   ]
  },
  {
   "cell_type": "code",
   "execution_count": null,
   "metadata": {
    "slideshow": {
     "slide_type": "subslide"
    }
   },
   "outputs": [],
   "source": [
    "plot_mask(bx, by, mask[:,:,1], xticks=10.:2.:20., yticks=39.:2:48.)"
   ]
  },
  {
   "cell_type": "markdown",
   "metadata": {
    "slideshow": {
     "slide_type": "subslide"
    }
   },
   "source": [
    "### Edit the mask\n",
    "As an example we will remove the Tyrrhenian Sea from the domain."
   ]
  },
  {
   "cell_type": "code",
   "execution_count": null,
   "metadata": {
    "slideshow": {
     "slide_type": "fragment"
    }
   },
   "outputs": [],
   "source": [
    "grid_bx = [i for i in bx, j in by];\n",
    "grid_by = [j for i in bx, j in by];"
   ]
  },
  {
   "cell_type": "code",
   "execution_count": null,
   "metadata": {
    "slideshow": {
     "slide_type": "fragment"
    }
   },
   "outputs": [],
   "source": [
    "mask_edit = copy(mask);\n",
    "sel_mask1 = (grid_by .<= 42.6) .& (grid_bx .<= 14.);\n",
    "sel_mask2 = (grid_by .<= 41.2) .& (grid_bx .<= 16.2);\n",
    "mask_edit = mask_edit .* .!sel_mask1 .* .!sel_mask2;\n",
    "@show size(mask_edit)"
   ]
  },
  {
   "cell_type": "markdown",
   "metadata": {
    "slideshow": {
     "slide_type": "subslide"
    }
   },
   "source": [
    "The edited mask (also at the surface) now looks like this:"
   ]
  },
  {
   "cell_type": "code",
   "execution_count": null,
   "metadata": {
    "slideshow": {
     "slide_type": "fragment"
    }
   },
   "outputs": [],
   "source": [
    "plot_mask(bx, by, mask_edit[:,:,1], xticks=10.:2.:20., yticks=39.:2:48.)"
   ]
  },
  {
   "cell_type": "markdown",
   "metadata": {},
   "source": [
    "## Define a vertical correlation length function in real space"
   ]
  },
  {
   "cell_type": "code",
   "execution_count": null,
   "metadata": {},
   "outputs": [],
   "source": [
    "function Lvert(x,y,z)\n",
    "    return 5.0 + z/5.0\n",
    "end\n",
    "\n",
    "LHOR=.5\n",
    "eps2=0.01\n",
    "iscyclic=falses(3)"
   ]
  },
  {
   "cell_type": "markdown",
   "metadata": {
    "slideshow": {
     "slide_type": "slide"
    }
   },
   "source": [
    "## For comparison, analysis in Cartesian Coordinates (degrees for simplicity)"
   ]
  },
  {
   "cell_type": "code",
   "execution_count": null,
   "metadata": {},
   "outputs": [],
   "source": [
    "xc,yc,zc=ndgrid(lonr,latr,depthr)\n",
    "pmc = ones(size(xc)) / (xc[2,1,1]-xc[1,1,1]);\n",
    "pnc = ones(size(xc)) / (yc[1,2,1]-yc[1,1,1]);\n",
    "poc = ones(size(xc)) / (zc[1,1,2]-zc[1,1,1]);"
   ]
  },
  {
   "cell_type": "markdown",
   "metadata": {},
   "source": [
    "### Set the correlation length and noise-to-signal ratio"
   ]
  },
  {
   "cell_type": "code",
   "execution_count": null,
   "metadata": {
    "slideshow": {
     "slide_type": "fragment"
    }
   },
   "outputs": [],
   "source": [
    "sz = (length(lonr),length(latr),length(depthr));\n",
    "lenx = fill(LHOR,sz)  \n",
    "leny = lenx./aspectratio\n",
    "lenz = Lvert.(xc,yc,zc);\n",
    "@show mean(lenx),mean(leny),mean(lenz)\n",
    "epsilon2 = eps2;\n",
    "#epsilon2 = epsilon2 * rdiag;"
   ]
  },
  {
   "cell_type": "markdown",
   "metadata": {},
   "source": [
    "### Create observations"
   ]
  },
  {
   "cell_type": "code",
   "execution_count": null,
   "metadata": {},
   "outputs": [],
   "source": [
    "obsval=obsdepth\n",
    "obsmean=mean(obsval)\n",
    "\n",
    "obslon=[18.]\n",
    "obslat=[41.375]\n",
    "obsdepth=[80.]\n",
    "obsval=[1.]\n",
    "obsmean=0."
   ]
  },
  {
   "cell_type": "markdown",
   "metadata": {},
   "source": [
    "### Run analysis"
   ]
  },
  {
   "cell_type": "code",
   "execution_count": null,
   "metadata": {},
   "outputs": [],
   "source": [
    "fi,s=DIVAndrun(mask_edit,(pmc,pnc,poc),(xc,yc,zc),(obslon,obslat,obsdepth),\n",
    "obsval.-obsmean,(lenx,leny,lenz),epsilon2);"
   ]
  },
  {
   "cell_type": "markdown",
   "metadata": {},
   "source": [
    "### Plots\n",
    "#### Vertical section"
   ]
  },
  {
   "cell_type": "code",
   "execution_count": null,
   "metadata": {},
   "outputs": [],
   "source": [
    "jcut=20\n",
    "\n",
    "f = Figure()\n",
    "ax = Axis(f[1,1], title=\"Vertical section\", ylabel = \"Depth (m)\", xlabel = \"longitude (°N)\")\n",
    "hm = heatmap!(ax, xc[:,jcut,1],-zc[1,jcut,:],fi[:,jcut,:].+obsmean)\n",
    "lines!(ax, bx,-b[:,jcut], color=:black)\n",
    "Colorbar(f[1, 2], hm)\n",
    "xlims!(16.5,19.5)\n",
    "ylims!(-1200,50)\n",
    "f"
   ]
  },
  {
   "cell_type": "markdown",
   "metadata": {},
   "source": [
    "#### Horizontal"
   ]
  },
  {
   "cell_type": "code",
   "execution_count": null,
   "metadata": {},
   "outputs": [],
   "source": [
    "f = Figure()\n",
    "ax = GeoAxis(f[1,1], dest = \"+proj=merc\", title=\"Interpolated field at surface\")\n",
    "heatmap!(ax, lonr, latr, mask_edit[:,:,1], colormap=Reverse(:binary))\n",
    "hm = heatmap!(ax, lonr, latr,fi[:,:,1].+obsmean)\n",
    "Colorbar(f[1, 2], hm)\n",
    "f"
   ]
  },
  {
   "cell_type": "code",
   "execution_count": null,
   "metadata": {},
   "outputs": [],
   "source": [
    "kcut=10\n",
    "\n",
    "f = Figure()\n",
    "ax = GeoAxis(f[1,1], dest = \"+proj=merc\", title=\"Interpolated field at $(depthr[kcut]) m\")\n",
    "heatmap!(ax, lonr, latr, mask_edit[:,:,1], colormap=Reverse(:binary))\n",
    "hm = heatmap!(ax, lonr, latr,fi[:,:,kcut].+obsmean)\n",
    "Colorbar(f[1, 2], hm)\n",
    "f"
   ]
  },
  {
   "cell_type": "markdown",
   "metadata": {},
   "source": [
    "## Coordinate change\n",
    "### First define sigma coordinates (from 0 to 1)"
   ]
  },
  {
   "cell_type": "code",
   "execution_count": null,
   "metadata": {},
   "outputs": [],
   "source": [
    "Nsigma=20\n",
    "xs,ys,sigma=ndgrid(lonr,latr,range(0;stop=1,length=Nsigma))\n",
    "pms = ones(size(xs)) / (xs[2,1,1]-xs[1,1,1]);\n",
    "pns = ones(size(xs)) / (ys[1,2,1]-ys[1,1,1]);\n",
    "pos = ones(size(xs)) / (sigma[1,1,2]-sigma[1,1,1]);\n",
    "sz=size(xs)\n",
    "masks=trues(size(xs))\n",
    "masks[:,:,:].=mask_edit[:,:,1];"
   ]
  },
  {
   "cell_type": "code",
   "execution_count": null,
   "metadata": {},
   "outputs": [],
   "source": [
    "jcut=20"
   ]
  },
  {
   "cell_type": "markdown",
   "metadata": {},
   "source": [
    "A way to create a fake bottomgraphy just to guide the vertical grid generation.      \n",
    "Take the original one with the desired mask, then filter and finally make it deep in the shallow regions (to avoid too strong changes of z lines)"
   ]
  },
  {
   "cell_type": "code",
   "execution_count": null,
   "metadata": {},
   "outputs": [],
   "source": [
    "bfake=b.*mask_edit[:,:,1]\n",
    "bfake2=DIVAnd.diffusion(trues(size(mask_edit[:,:,1])),(pms[:,:,1],pns[:,:,1]),(.09,.09),bfake)\n",
    "bmax=maximum(bfake2)\n",
    "bfake3=0.5.*bfake2 .+ 0.5.*(bfake2./bmax).^0.3*bmax\n",
    "\n",
    "f = Makie.Figure()\n",
    "ax = Axis(f[1,1], title=\"Fake topography\", ylabel = \"Depth (m)\", xlabel = \"longitude (°N)\")\n",
    "lines!(ax, bx,-bfake2[:,jcut])\n",
    "lines!(ax, bx,-bfake[:,jcut])\n",
    "lines!(ax, bx,-bfake3[:,jcut])\n",
    "f"
   ]
  },
  {
   "cell_type": "markdown",
   "metadata": {},
   "source": [
    "Now you can chose to create the vertical coordinate using the \"exact\" topography or the fake one."
   ]
  },
  {
   "cell_type": "code",
   "execution_count": null,
   "metadata": {},
   "outputs": [],
   "source": [
    "#bfun=linear_interpolation((bx,by),b.*masks[:,:,1];extrapolation_bc=0.0)\n",
    "bfun=linear_interpolation((bx,by),bfake3.*masks[:,:,1];extrapolation_bc=0.0);"
   ]
  },
  {
   "cell_type": "markdown",
   "metadata": {},
   "source": [
    "Parameters for the vertical grid generation, adapted from https://getm.eu/files/GETM/doc/html/node14.html"
   ]
  },
  {
   "cell_type": "code",
   "execution_count": null,
   "metadata": {},
   "outputs": [],
   "source": [
    "du=5.001\n",
    "dl=.001\n",
    "\n",
    "DG=200\n",
    "sk=sigma[1,1,2]\n",
    "skm=sigma[1,1,1]\n",
    "if iszero(du) && iszero(dl)\n",
    "    function betaHB(sigma)\n",
    "        return sigma\n",
    "    end\n",
    "    function invbetaHB(beta)\n",
    "        return beta\n",
    "    end\n",
    "else\n",
    "    function betaHB(sigma)\n",
    "        #if du and dl are zero just return sigma\n",
    "        return -(tanh((dl+du)*(1.0 - sigma) - dl)+tanh(dl))/(tanh(du)+tanh(dl))+1.0\n",
    "    end\n",
    "    function invbetaHB(beta)\n",
    "    # test needed, not for the gridding but for data that might fall outside of the grid\n",
    "        if beta>1.0 || beta<-1.0\n",
    "            return beta\n",
    "        end\n",
    "    #if du and dl are zero just return beta\n",
    "        return 1.0-(atanh(-(beta-1.0)*(tanh(du)+tanh(dl))-tanh(dl))+dl)/(dl+du)\n",
    "    \n",
    "    end\n",
    "end\n",
    "    \n",
    "function alphaHB(x,y)\n",
    "   \n",
    "    alphanum=(betaHB(sk)-betaHB(skm))+DG/max(2.0,bfun(x,y))*(sk-skm)\n",
    "    alphaden=(betaHB(sk)-betaHB(skm))+(sk-skm)\n",
    "    alpha=max(min(alphanum/alphaden,1.0),0.0)\n",
    "    return alpha\n",
    "end\n",
    "    \n",
    "function sigmatoz(x,y,sigma)\n",
    "    alpha=alphaHB(x,y)\n",
    "    return ((1-alpha)*betaHB(sigma)+alpha*sigma)*max(2.0,bfun(x,y))\n",
    "end\n",
    "# For more general cases the inverse will need some\n",
    "# search of zeros. Needed to get fracional indexes and horizontal plots\n",
    "\n",
    "function ztosigma(x,y,z)\n",
    "    gamma=z/max(2.0,bfun(x,y))\n",
    "    alpha=alphaHB(x,y)\n",
    "    if alpha<0.001 \n",
    "        return invbetaHB(gamma)\n",
    "    end\n",
    "    if alpha>0.999\n",
    "        return gamma\n",
    "    end\n",
    "    guess=alpha*gamma+(1-alpha)*invbetaHB(gamma)\n",
    "    # now improve by finding zero\n",
    "    guess=find_zero(x->alpha*x+(1-alpha)*betaHB(x)-gamma, guess)\n",
    "    return guess\n",
    "end"
   ]
  },
  {
   "cell_type": "code",
   "execution_count": null,
   "metadata": {},
   "outputs": [],
   "source": [
    "# Check inverse function\n",
    "var(invbetaHB.(betaHB.(sigma))-sigma),var(sigma)"
   ]
  },
  {
   "cell_type": "code",
   "execution_count": null,
   "metadata": {},
   "outputs": [],
   "source": [
    "zs=sigmatoz.(xs,ys,sigma)\n",
    "# Check inverse function\n",
    "testsigma=ztosigma.(xs,ys,zs)\n",
    "var(testsigma.-sigma),var(sigma)"
   ]
  },
  {
   "cell_type": "markdown",
   "metadata": {},
   "source": [
    "We already have the `z` positions of the sigma layers `zs`.        \n",
    "So now just recalculate the metrics:"
   ]
  },
  {
   "cell_type": "code",
   "execution_count": null,
   "metadata": {},
   "outputs": [],
   "source": [
    "pozc=deepcopy(pos)\n",
    "for i = 1:sz[3]\n",
    "    i0 = max(i - 1, 1)\n",
    "    i1 = min(i + 1, sz[3])\n",
    "    pozc[:,:,i].=(i1-i0)./(zs[:,:,i1].-zs[:,:,i0])\n",
    "end"
   ]
  },
  {
   "cell_type": "markdown",
   "metadata": {},
   "source": [
    "Now make the mask by using the zs positions of the grid and use the \"real\" topography for the mask:"
   ]
  },
  {
   "cell_type": "code",
   "execution_count": null,
   "metadata": {},
   "outputs": [],
   "source": [
    "bm=b.*mask_edit[:,:,1]\n",
    "for k=1:size(zs)[3]\n",
    "    masks[:,:,k].=zs[:,:,k].<bm[:,:] .&& mask_edit[:,:,1]\n",
    "end"
   ]
  },
  {
   "cell_type": "markdown",
   "metadata": {},
   "source": [
    "### Plots"
   ]
  },
  {
   "cell_type": "code",
   "execution_count": null,
   "metadata": {},
   "outputs": [],
   "source": [
    "extrema(-zs[:,jcut,:])"
   ]
  },
  {
   "cell_type": "code",
   "execution_count": null,
   "metadata": {},
   "outputs": [],
   "source": [
    "f = Figure()\n",
    "ax = Axis(f[1,1], title=\"Sigma coordinates\", ylabel = \"Depth (m)\", xlabel = \"longitude (°N)\")\n",
    "hm = surface!(ax, xs[:,jcut,:],-zs[:,jcut,:],sigma[:,jcut,:], shading=NoShading, interpolate=false)\n",
    "xlims!(16.5,19.5)\n",
    "Colorbar(f[1, 2], hm)\n",
    "f"
   ]
  },
  {
   "cell_type": "code",
   "execution_count": null,
   "metadata": {},
   "outputs": [],
   "source": [
    "f = Figure()\n",
    "ax = Axis(f[1,1], title=\"Vertical coordinates\", ylabel = \"Depth (m)\", xlabel = \"longitude (°N)\")\n",
    "hm = surface!(ax, xs[:,jcut,:],-zs[:,jcut,:],zs[:,jcut,:], shading=NoShading)\n",
    "xlims!(16.5,19.5)\n",
    "Colorbar(f[1, 2], hm)\n",
    "f"
   ]
  },
  {
   "cell_type": "markdown",
   "metadata": {},
   "source": [
    "### Vertical position in sigma space"
   ]
  },
  {
   "cell_type": "code",
   "execution_count": null,
   "metadata": {},
   "outputs": [],
   "source": [
    "obssigma=ztosigma.(obslon,obslat,obsdepth)"
   ]
  },
  {
   "cell_type": "markdown",
   "metadata": {},
   "source": [
    "### Get fractional indexes by working in sigma space:"
   ]
  },
  {
   "cell_type": "code",
   "execution_count": null,
   "metadata": {},
   "outputs": [],
   "source": [
    "Igrid = localize_separable_grid((obslon,obslat,obssigma), masks, (xs,ys,sigma), iscyclic)\n",
    "\n",
    "lenx = fill(LHOR,sz)  \n",
    "leny = lenx./aspectratio\n",
    "lenz = Lvert.(xs,ys,zs);\n",
    "epsilon2 = eps2;\n",
    "\n",
    "fi,s=DIVAndrun(masks,(pms,pns,pozc),(xs,ys,zs),(obslon,obslat,obsdepth),obsval.-obsmean,\n",
    "    (lenx,leny,lenz),epsilon2;fracindex =Igrid);"
   ]
  },
  {
   "cell_type": "code",
   "execution_count": null,
   "metadata": {},
   "outputs": [],
   "source": [
    "f = Figure()\n",
    "ax = Axis(f[1,1], title=\"Vertical section\", ylabel = \"Depth (m)\", xlabel = \"longitude (°N)\")\n",
    "hm = surface!(ax, xs[:,jcut,:],-zs[:,jcut,:],fi[:,jcut,:].+obsmean, interpolate=false, \n",
    "    colorrange=[0,1], shading=NoShading)\n",
    "xlims!(16.5,19.5)\n",
    "ylims!(-1200,50)\n",
    "f"
   ]
  },
  {
   "cell_type": "markdown",
   "metadata": {},
   "source": [
    "## How to make a horizontal plot\n",
    "\n"
   ]
  },
  {
   "cell_type": "code",
   "execution_count": null,
   "metadata": {},
   "outputs": [],
   "source": [
    "# Define depth for cut\n",
    "zcut=zc[1,1,kcut]\n",
    "# Create fake data and calculte sigma values on the constant z surface\n",
    "sigmaonzlevel=ztosigma.(xs[:,:,1],ys[:,:,1],zcut.+ 0.0 .*ys[:,:,1])\n",
    "\n",
    "# Get fractional indexes of the fake data and the observing operator\n",
    "Igridcut=localize_separable_grid((xs[:,:,1],ys[:,:,1],sigmaonzlevel), masks, (xs,ys,sigma), )\n",
    "Htoz, out, outbbox = sparse_interp(masks, Igridcut, iscyclic)\n",
    "Htoz=Htoz*transpose(sparse_pack(masks))\n",
    "\n",
    "# Now observe the gridded field with that observation operator\n",
    "zlevelsol=Htoz*statevector_pack(s.sv, (fi,))\n",
    "\n",
    "# Put it in shape for plotting\n",
    "soltoplot=reshape(zlevelsol,size(xs)[1:2])\n",
    "# Need to apply mask because that is not included in the interpolation\n",
    "soltoplot[zcut.>b].=NaN\n",
    "soltoplot[mask_edit[:,:,1].==0].=NaN;"
   ]
  },
  {
   "cell_type": "code",
   "execution_count": null,
   "metadata": {},
   "outputs": [],
   "source": [
    "f = Figure()\n",
    "ax = GeoAxis(f[1,1], dest = \"+proj=merc\", title=\"Interpolated field\")\n",
    "heatmap!(ax, lonr, latr, mask_edit[:,:,1], colormap=Reverse(:binary))\n",
    "su = surface!(ax, xs[:,:,1],ys[:,:,1],soltoplot.+obsmean, shading=NoShading)\n",
    "Colorbar(f[1, 2], su)\n",
    "f"
   ]
  },
  {
   "cell_type": "code",
   "execution_count": null,
   "metadata": {},
   "outputs": [],
   "source": [
    "f = Figure()\n",
    "ax = GeoAxis(f[1,1], dest = \"+proj=merc\", title=\"Interpolated field\")\n",
    "heatmap!(ax, lonr, latr, mask_edit[:,:,1], colormap=Reverse(:binary))\n",
    "su = surface!(ax, xs[:,:,1],ys[:,:,1],fi[:,:,1].+obsmean, shading=NoShading)\n",
    "Colorbar(f[1, 2], su)\n",
    "f"
   ]
  }
 ],
 "metadata": {
  "@webio": {
   "lastCommId": null,
   "lastKernelId": null
  },
  "kernelspec": {
   "display_name": "Julia 1.11.2",
   "language": "julia",
   "name": "julia-1.11"
  },
  "language_info": {
   "file_extension": ".jl",
   "mimetype": "application/julia",
   "name": "julia",
   "version": "1.11.2"
  },
  "toc": {
   "base_numbering": 1,
   "nav_menu": {},
   "number_sections": true,
   "sideBar": true,
   "skip_h1_title": false,
   "title_cell": "Table of Contents",
   "title_sidebar": "Contents",
   "toc_cell": false,
   "toc_position": {},
   "toc_section_display": true,
   "toc_window_display": false
  }
 },
 "nbformat": 4,
 "nbformat_minor": 4
}
