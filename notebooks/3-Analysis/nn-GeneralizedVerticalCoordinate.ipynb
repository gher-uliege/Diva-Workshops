{
 "cells": [
  {
   "cell_type": "markdown",
   "metadata": {
    "slideshow": {
     "slide_type": "slide"
    }
   },
   "source": [
    "# DIVAnd in generalized vertical coordinates\n",
    "## Import packages"
   ]
  },
  {
   "cell_type": "code",
   "execution_count": 7,
   "metadata": {
    "slideshow": {
     "slide_type": "subslide"
    }
   },
   "outputs": [
    {
     "ename": "LoadError",
     "evalue": "failed to find source of parent package: \"Pkg\"",
     "output_type": "error",
     "traceback": [
      "failed to find source of parent package: \"Pkg\"",
      "",
      "Stacktrace:",
      " [1] locate_package",
      "   @ ./loading.jl:473 [inlined]",
      " [2] precompilepkgs(pkgs::Vector{String}; internal_call::Bool, strict::Bool, warn_loaded::Bool, timing::Bool, _from_loading::Bool, configs::Pair{Cmd, Base.CacheFlags}, io::IJulia.IJuliaStdio{Base.PipeEndpoint}, fancyprint::Bool)",
      "   @ Base.Precompilation ./precompilation.jl:743"
     ]
    }
   ],
   "source": [
    "using NCDatasets\n",
    "using DataStructures\n",
    "using DIVAnd\n",
    "using Dates\n",
    "using Statistics\n",
    "using Random\n",
    "using Makie\n",
    "using CairoMakie\n",
    "using GeoMakie\n",
    "using Interpolations\n",
    "using Roots\n",
    "include(\"../config.jl\")"
   ]
  },
  {
   "cell_type": "markdown",
   "metadata": {
    "slideshow": {
     "slide_type": "subslide"
    }
   },
   "source": [
    "## Configuration\n",
    "* Define the horizontal, vertical (depth levels) and temporal resolutions.\n",
    "* Select the variable of interest"
   ]
  },
  {
   "cell_type": "code",
   "execution_count": 2,
   "metadata": {
    "slideshow": {
     "slide_type": "subslide"
    }
   },
   "outputs": [],
   "source": [
    "dx, dy = 0.125, 0.125\n",
    "lonr = 11.5:dx:20\n",
    "latr = 39:dy:46\n",
    "\n",
    "depthr = [0.,5., 10., 15., 20., 25., 30., 40., 50., 66, \n",
    "    75, 85, 100, 112, 125, 135, 150, 175, 200, 225, 250, \n",
    "    275, 300, 350, 400, 450, 500, 550, 600, 650, 700, 750, \n",
    "    800, 850, 900, 950, 1000, 1050, 1100, 1150, 1200, 1250, \n",
    "    1300, 1350, 1400, 1450, 1500, 1600, 1750, 1850, 2000];\n",
    "#depthr = depthr[1:30];"
   ]
  },
  {
   "cell_type": "markdown",
   "metadata": {
    "slideshow": {
     "slide_type": "slide"
    }
   },
   "source": [
    "## Read your ODV file\n",
    "Adapt the `datadir` and `datafile` values.     \n",
    "The example is based on a sub-setting of the [Mediterranean Sea](https://www.seadatanet.org/Products#/metadata/cd552057-b604-4004-b838-a4f73cc98fcf) aggregated dataset.      \n",
    "The dataset has been extracted around the Adriatic Sea and exported to a netCDF using [Ocean Data View](https://odv.awi.de/).\n",
    "<img src=\"./Images/MedSeaAggreg.jpg\" width=\"450px\">"
   ]
  },
  {
   "cell_type": "markdown",
   "metadata": {},
   "source": [
    "Download the data files (test and full) if needed."
   ]
  },
  {
   "cell_type": "code",
   "execution_count": 3,
   "metadata": {
    "slideshow": {
     "slide_type": "fragment"
    }
   },
   "outputs": [
    {
     "name": "stderr",
     "output_type": "stream",
     "text": [
      "\u001b[36m\u001b[1m[ \u001b[22m\u001b[39m\u001b[36m\u001b[1mInfo: \u001b[22m\u001b[39mFile already downloaded\n"
     ]
    }
   ],
   "source": [
    "datafile = adriaticfile\n",
    "download_check(datafile, adriaticfileURL)"
   ]
  },
  {
   "cell_type": "markdown",
   "metadata": {},
   "source": [
    "Read the full file:"
   ]
  },
  {
   "cell_type": "code",
   "execution_count": 4,
   "metadata": {
    "slideshow": {
     "slide_type": "fragment"
    }
   },
   "outputs": [
    {
     "name": "stdout",
     "output_type": "stream",
     "text": [
      "  6.329560 seconds (13.86 M allocations: 947.536 MiB, 7.16% gc time, 74.28% compilation time)\n"
     ]
    }
   ],
   "source": [
    "@time obsval,obslon,obslat,obsdepth,obstime,obsid = NCODV.load(Float64, datafile, \n",
    "    \"Water body salinity\");"
   ]
  },
  {
   "cell_type": "code",
   "execution_count": 5,
   "metadata": {
    "slideshow": {
     "slide_type": "subslide"
    }
   },
   "outputs": [
    {
     "ename": "LoadError",
     "evalue": "UndefVarError: `GeoMakie` not defined in `Main`\nSuggestion: check for spelling errors or missing imports.",
     "output_type": "error",
     "traceback": [
      "UndefVarError: `GeoMakie` not defined in `Main`\nSuggestion: check for spelling errors or missing imports.",
      "",
      "Stacktrace:",
      " [1] top-level scope",
      "   @ In[5]:1"
     ]
    }
   ],
   "source": [
    "f = GeoMakie.Figure()\n",
    "ax = GeoAxis(f[1,1], dest = \"+proj=merc\", title=\"Observations\")\n",
    "GeoMakie.scatter!(ax, obslon, obslat; markersize=2, color = :black)\n",
    "f"
   ]
  },
  {
   "cell_type": "markdown",
   "metadata": {
    "slideshow": {
     "slide_type": "subslide"
    }
   },
   "source": [
    "Check the extremal values of the observations"
   ]
  },
  {
   "cell_type": "code",
   "execution_count": null,
   "metadata": {},
   "outputs": [],
   "source": [
    "checkobs((obslon,obslat,obsdepth,obstime),obsval,obsid)"
   ]
  },
  {
   "cell_type": "markdown",
   "metadata": {
    "slideshow": {
     "slide_type": "slide"
    }
   },
   "source": [
    "## 2. Extract the bathymetry\n",
    "It is used to delimit the domain where the interpolation is performed.\n",
    "\n",
    "### 2.1 Choice of bathymetry\n",
    "Modify `bathname` according to the resolution required."
   ]
  },
  {
   "cell_type": "code",
   "execution_count": null,
   "metadata": {
    "slideshow": {
     "slide_type": "fragment"
    }
   },
   "outputs": [],
   "source": [
    "bathname = gebco08file\n",
    "download_check(bathname, gebco08fileURL)"
   ]
  },
  {
   "cell_type": "code",
   "execution_count": null,
   "metadata": {
    "slideshow": {
     "slide_type": "fragment"
    }
   },
   "outputs": [],
   "source": [
    "@time bx,by,b = load_bath(bathname,true,lonr,latr);"
   ]
  },
  {
   "cell_type": "code",
   "execution_count": null,
   "metadata": {
    "slideshow": {
     "slide_type": "subslide"
    }
   },
   "outputs": [],
   "source": [
    "figure(\"Adriatic-Bathymetry\")\n",
    "ax = subplot(1,1,1)\n",
    "pcolor(bx, by, permutedims(b, [2,1]));\n",
    "colorbar(orientation=\"vertical\", shrink=0.8).ax.tick_params(labelsize=8)\n",
    "contour(bx, by, permutedims(b, [2,1]), [0, 0.1], colors=\"k\", linewidths=.5)\n",
    "gca().set_aspect(aspectratio)\n",
    "ax.tick_params(\"both\",labelsize=6)"
   ]
  },
  {
   "cell_type": "markdown",
   "metadata": {
    "slideshow": {
     "slide_type": "subslide"
    }
   },
   "source": [
    "### 2.2 Create mask\n",
    "* False for sea        \n",
    "* True for land"
   ]
  },
  {
   "cell_type": "code",
   "execution_count": null,
   "metadata": {
    "slideshow": {
     "slide_type": "fragment"
    }
   },
   "outputs": [],
   "source": [
    "mask = falses(size(b,1),size(b,2),length(depthr))\n",
    "for k = 1:length(depthr)\n",
    "    for j = 1:size(b,2)\n",
    "        for i = 1:size(b,1)\n",
    "            mask[i,j,k] = b[i,j] >= depthr[k]\n",
    "        end\n",
    "    end\n",
    "end\n",
    "@show size(mask)"
   ]
  },
  {
   "cell_type": "code",
   "execution_count": null,
   "metadata": {
    "slideshow": {
     "slide_type": "subslide"
    }
   },
   "outputs": [],
   "source": [
    "figure(\"Adriatic-Mask\")\n",
    "ax = subplot(1,1,1)\n",
    "gca().set_aspect(aspectratio)\n",
    "ax.tick_params(\"both\",labelsize=6)\n",
    "ax.pcolor(bx, by, transpose(mask[:,:,1]), cmap=PyPlot.cm.binary_r)\n",
    "ax.set_title(\"Land-sea mask\")"
   ]
  },
  {
   "cell_type": "markdown",
   "metadata": {
    "slideshow": {
     "slide_type": "subslide"
    }
   },
   "source": [
    "### 2.3 Edit the mask\n",
    "As an example we will remove the Tyrrhenian Sea from the domain."
   ]
  },
  {
   "cell_type": "code",
   "execution_count": null,
   "metadata": {
    "slideshow": {
     "slide_type": "fragment"
    }
   },
   "outputs": [],
   "source": [
    "grid_bx = [i for i in bx, j in by];\n",
    "grid_by = [j for i in bx, j in by];"
   ]
  },
  {
   "cell_type": "code",
   "execution_count": null,
   "metadata": {
    "slideshow": {
     "slide_type": "fragment"
    }
   },
   "outputs": [],
   "source": [
    "mask_edit = copy(mask);\n",
    "sel_mask1 = (grid_by .<= 42.6) .& (grid_bx .<= 14.);\n",
    "sel_mask2 = (grid_by .<= 41.2) .& (grid_bx .<= 16.2);\n",
    "mask_edit = mask_edit .* .!sel_mask1 .* .!sel_mask2;\n",
    "@show size(mask_edit)"
   ]
  },
  {
   "cell_type": "code",
   "execution_count": null,
   "metadata": {},
   "outputs": [],
   "source": [
    "#sel = (obslon .<  maximum(bx)) .& (obslon .>  minimum(bx)) .& (obslat .<  maximum(by)) .& (obslat .>  minimum(bx))\n",
    "#obslon=obslon[sel]\n",
    "#obslat=obslat[sel]\n",
    "#obsdepth=obsdepth[sel]\n",
    "#obsval=obsval[sel]"
   ]
  },
  {
   "cell_type": "markdown",
   "metadata": {
    "slideshow": {
     "slide_type": "subslide"
    }
   },
   "source": [
    "The edited mask now looks like this:"
   ]
  },
  {
   "cell_type": "code",
   "execution_count": null,
   "metadata": {
    "slideshow": {
     "slide_type": "fragment"
    }
   },
   "outputs": [],
   "source": [
    "figure(\"Adriatic-Mask-Edited\")\n",
    "ax = subplot(1,1,1)\n",
    "ax.tick_params(\"both\",labelsize=6)\n",
    "ax.pcolor(bx, by, mask_edit[:,:,1]', cmap=cmap=PyPlot.cm.binary_r)\n",
    "ax.set_title(\"Edited land-sea mask\")\n",
    "gca().set_aspect(aspectratio)"
   ]
  },
  {
   "cell_type": "markdown",
   "metadata": {},
   "source": [
    "## Define a vertical correlation length function in real space"
   ]
  },
  {
   "cell_type": "code",
   "execution_count": null,
   "metadata": {},
   "outputs": [],
   "source": [
    "function Lvert(x,y,z)\n",
    "    return 5.0 + z/5.0\n",
    "end\n",
    "\n",
    "LHOR=.5\n",
    "\n",
    "eps2=0.01\n",
    "\n",
    "iscyclic=falses(3)"
   ]
  },
  {
   "cell_type": "markdown",
   "metadata": {
    "slideshow": {
     "slide_type": "slide"
    }
   },
   "source": [
    "## 3. For comparison, analysis in Cartesian Coordinates (degrees for simplicity)"
   ]
  },
  {
   "cell_type": "code",
   "execution_count": null,
   "metadata": {},
   "outputs": [],
   "source": [
    "xc,yc,zc=ndgrid(lonr,latr,depthr)\n",
    "pmc = ones(size(xc)) / (xc[2,1,1]-xc[1,1,1]);\n",
    "pnc = ones(size(xc)) / (yc[1,2,1]-yc[1,1,1]);\n",
    "poc = ones(size(xc)) / (zc[1,1,2]-zc[1,1,1]);\n"
   ]
  },
  {
   "cell_type": "code",
   "execution_count": null,
   "metadata": {
    "slideshow": {
     "slide_type": "fragment"
    }
   },
   "outputs": [],
   "source": [
    "sz = (length(lonr),length(latr),length(depthr));\n",
    "lenx = fill(LHOR,sz)  \n",
    "leny = lenx./aspectratio\n",
    "lenz = Lvert.(xc,yc,zc);\n",
    "@show mean(lenx),mean(leny),mean(lenz)\n",
    "epsilon2 = eps2;\n",
    "#epsilon2 = epsilon2 * rdiag;"
   ]
  },
  {
   "cell_type": "code",
   "execution_count": null,
   "metadata": {},
   "outputs": [],
   "source": [
    "obsval=obsdepth\n",
    "obsmean=mean(obsval)\n",
    "\n",
    "obslon=[18.]\n",
    "obslat=[41.375]\n",
    "obsdepth=[80.]\n",
    "obsval=[1.]\n",
    "obsmean=0."
   ]
  },
  {
   "cell_type": "code",
   "execution_count": null,
   "metadata": {},
   "outputs": [],
   "source": [
    "fi,s=DIVAndrun(mask_edit,(pmc,pnc,poc),(xc,yc,zc),(obslon,obslat,obsdepth),obsval.-obsmean,(lenx,leny,lenz),epsilon2);"
   ]
  },
  {
   "cell_type": "code",
   "execution_count": null,
   "metadata": {},
   "outputs": [],
   "source": [
    "jcut=20\n",
    "pcolor(xc[:,jcut,:],-zc[:,jcut,:],fi[:,jcut,:].+obsmean,shading=\"nearest\"),colorbar()\n",
    "plot(bx,-b[:,jcut])\n",
    "xlim(16.5,19.5)\n",
    "ylim(-1200,50)"
   ]
  },
  {
   "cell_type": "code",
   "execution_count": null,
   "metadata": {},
   "outputs": [],
   "source": [
    "pcolor(xc[:,:,1],yc[:,:,1],fi[:,:,1].+obsmean,shading=\"nearest\"),colorbar()\n",
    "gca().set_aspect(aspectratio)"
   ]
  },
  {
   "cell_type": "code",
   "execution_count": null,
   "metadata": {},
   "outputs": [],
   "source": [
    "kcut=10\n",
    "pcolor(xc[:,:,kcut],yc[:,:,kcut],fi[:,:,kcut].+obsmean,shading=\"nearest\"),colorbar()\n",
    "gca().set_aspect(aspectratio)"
   ]
  },
  {
   "cell_type": "code",
   "execution_count": null,
   "metadata": {},
   "outputs": [],
   "source": [
    "@show zc[1,1,kcut],yc[1,jcut,1]"
   ]
  },
  {
   "cell_type": "markdown",
   "metadata": {},
   "source": [
    "# 4.  Coordinate change"
   ]
  },
  {
   "cell_type": "markdown",
   "metadata": {},
   "source": [
    "## First define sigma coordinates (from 0 to 1)"
   ]
  },
  {
   "cell_type": "code",
   "execution_count": null,
   "metadata": {},
   "outputs": [],
   "source": [
    "Nsigma=20\n",
    "xs,ys,sigma=ndgrid(lonr,latr,range(0;stop=1,length=Nsigma))\n",
    "pms = ones(size(xs)) / (xs[2,1,1]-xs[1,1,1]);\n",
    "pns = ones(size(xs)) / (ys[1,2,1]-ys[1,1,1]);\n",
    "pos = ones(size(xs)) / (sigma[1,1,2]-sigma[1,1,1]);\n",
    "sz=size(xs)\n",
    "masks=trues(size(xs))\n",
    "masks[:,:,:].=mask_edit[:,:,1];"
   ]
  },
  {
   "cell_type": "code",
   "execution_count": null,
   "metadata": {},
   "outputs": [],
   "source": [
    "jcut=20"
   ]
  },
  {
   "cell_type": "code",
   "execution_count": null,
   "metadata": {},
   "outputs": [],
   "source": [
    "# A way to create a fake bottomgraphy just to guide the vertical grid generation\n",
    "# Take the original one with the desired mask, then filter and finally make it deep in the shallow regions (to avoid\n",
    "# to strong changes of z lines)\n",
    "bfake=b.*mask_edit[:,:,1]\n",
    "bfake2=DIVAnd.diffusion(trues(size(mask_edit[:,:,1])),(pms[:,:,1],pns[:,:,1]),(.09,.09),bfake)\n",
    "bmax=maximum(bfake2)\n",
    "bfake3=0.5.*bfake2 .+ 0.5.*(bfake2./bmax).^0.3*bmax\n",
    "\n",
    "plot(bx,-bfake2[:,jcut])\n",
    "plot(bx,-bfake[:,jcut])\n",
    "plot(bx,-bfake3[:,jcut])"
   ]
  },
  {
   "cell_type": "code",
   "execution_count": null,
   "metadata": {},
   "outputs": [],
   "source": [
    "# Now you can chose to create the vertical coordinate using the \"exact\" topography or the fake on\n",
    "\n",
    "#bfun=linear_interpolation((bx,by),b.*masks[:,:,1];extrapolation_bc=0.0)\n",
    "bfun=linear_interpolation((bx,by),bfake3.*masks[:,:,1];extrapolation_bc=0.0)\n",
    "\n",
    "\n",
    "# Parameters for the vertical grid generation, adapted from https://getm.eu/files/GETM/doc/html/node14.html\n",
    "\n",
    "du=5.001\n",
    "dl=.001\n",
    "\n",
    "DG=200\n",
    "sk=sigma[1,1,2]\n",
    "skm=sigma[1,1,1]\n",
    "if iszero(du) && iszero(dl)\n",
    "    function betaHB(sigma)\n",
    "        return sigma\n",
    "    end\n",
    "    function invbetaHB(beta)\n",
    "        return beta\n",
    "    end\n",
    "else\n",
    "    function betaHB(sigma)\n",
    "        #if du and dl are zero just return sigma\n",
    "        return -(tanh((dl+du)*(1.0 - sigma) - dl)+tanh(dl))/(tanh(du)+tanh(dl))+1.0\n",
    "    end\n",
    "    function invbetaHB(beta)\n",
    "    # test needed, not for the gridding but for data that might fall outside of the grid\n",
    "        if beta>1.0 || beta<-1.0\n",
    "            return beta\n",
    "        end\n",
    "    #if du and dl are zero just return beta\n",
    "        return 1.0-(atanh(-(beta-1.0)*(tanh(du)+tanh(dl))-tanh(dl))+dl)/(dl+du)\n",
    "    \n",
    "    end\n",
    "end\n",
    "    \n",
    "    \n",
    "    \n",
    "function alphaHB(x,y)\n",
    "   \n",
    "    alphanum=(betaHB(sk)-betaHB(skm))+DG/max(2.0,bfun(x,y))*(sk-skm)\n",
    "    alphaden=(betaHB(sk)-betaHB(skm))+(sk-skm)\n",
    "    alpha=max(min(alphanum/alphaden,1.0),0.0)\n",
    "    return alpha\n",
    "end\n",
    "    \n",
    "function sigmatoz(x,y,sigma)\n",
    "    alpha=alphaHB(x,y)\n",
    "    return  ((1-alpha)*betaHB(sigma)+alpha*sigma)*max(2.0,bfun(x,y))\n",
    "end\n",
    "# For more general cases the inverse will need some\n",
    "# search of zeros. Needed to get fracional indexes and horizontal plots\n",
    "\n",
    "function ztosigma(x,y,z)\n",
    "    gamma=z/max(2.0,bfun(x,y))\n",
    "    alpha=alphaHB(x,y)\n",
    "    if alpha<0.001 \n",
    "        return invbetaHB(gamma)\n",
    "    end\n",
    "    if alpha>0.999\n",
    "        return gamma\n",
    "    end\n",
    "    guess=alpha*gamma+(1-alpha)*invbetaHB(gamma)\n",
    "    # now improve by finding zero\n",
    "    guess=find_zero(x->alpha*x+(1-alpha)*betaHB(x)-gamma, guess)\n",
    "    return guess\n",
    "end\n"
   ]
  },
  {
   "cell_type": "code",
   "execution_count": null,
   "metadata": {},
   "outputs": [],
   "source": [
    "# Check inverse function\n",
    "var(invbetaHB.(betaHB.(sigma))-sigma),var(sigma)\n",
    "\n"
   ]
  },
  {
   "cell_type": "code",
   "execution_count": null,
   "metadata": {},
   "outputs": [],
   "source": [
    "zs=sigmatoz.(xs,ys,sigma)\n",
    "# Check inverse function\n",
    "testsigma=ztosigma.(xs,ys,zs)\n",
    "var(testsigma.-sigma),var(sigma)"
   ]
  },
  {
   "cell_type": "code",
   "execution_count": null,
   "metadata": {},
   "outputs": [],
   "source": [
    "# We already have the z positions of the sigma layers zs\n",
    "# So now just recalculate the metrics:\n",
    "pozc=deepcopy(pos)\n",
    "for i = 1:sz[3]\n",
    "        i0 = max(i - 1, 1)\n",
    "        i1 = min(i + 1, sz[3])\n",
    "        pozc[:,:,i].=(i1-i0)./(zs[:,:,i1].-zs[:,:,i0])\n",
    "end\n",
    "\n"
   ]
  },
  {
   "cell_type": "code",
   "execution_count": null,
   "metadata": {},
   "outputs": [],
   "source": [
    "# Now make the mask by using the zs positions of the grid and use the \"real\" topography for the mask:\n",
    "\n",
    "bm=b.*mask_edit[:,:,1]\n",
    "for k=1:size(zs)[3]\n",
    "    masks[:,:,k].=zs[:,:,k].<bm[:,:] .&& mask_edit[:,:,1]\n",
    "end"
   ]
  },
  {
   "cell_type": "code",
   "execution_count": null,
   "metadata": {},
   "outputs": [],
   "source": [
    "\n",
    "pcolor(xs[:,jcut,:],-zs[:,jcut,:],sigma[:,jcut,:],shading=\"nearest\"),colorbar()\n",
    "xlim(16.5,19.5)"
   ]
  },
  {
   "cell_type": "code",
   "execution_count": null,
   "metadata": {},
   "outputs": [],
   "source": [
    "\n",
    "pcolor(xs[:,jcut,:],-zs[:,jcut,:],zs[:,jcut,:],shading=\"nearest\"),colorbar()\n",
    "xlim(16.5,19.5)"
   ]
  },
  {
   "cell_type": "markdown",
   "metadata": {},
   "source": [
    "### Vertical position in sigma space"
   ]
  },
  {
   "cell_type": "code",
   "execution_count": null,
   "metadata": {},
   "outputs": [],
   "source": [
    "obssigma=ztosigma.(obslon,obslat,obsdepth)"
   ]
  },
  {
   "cell_type": "markdown",
   "metadata": {},
   "source": [
    "### Get fractional indexes by working in sigma space:"
   ]
  },
  {
   "cell_type": "code",
   "execution_count": null,
   "metadata": {},
   "outputs": [],
   "source": [
    "Igrid = localize_separable_grid((obslon,obslat,obssigma), masks, (xs,ys,sigma), iscyclic)\n",
    "\n",
    "lenx = fill(LHOR,sz)  \n",
    "leny = lenx./aspectratio\n",
    "lenz = Lvert.(xs,ys,zs);\n",
    "epsilon2 = eps2;\n",
    "\n",
    "fi,s=DIVAndrun(masks,(pms,pns,pozc),(xs,ys,zs),(obslon,obslat,obsdepth),obsval.-obsmean,(lenx,leny,lenz),epsilon2;fracindex =Igrid);"
   ]
  },
  {
   "cell_type": "code",
   "execution_count": null,
   "metadata": {},
   "outputs": [],
   "source": [
    "pcolor(xs[:,jcut,:],-zs[:,jcut,:],fi[:,jcut,:].+obsmean,shading=\"nearest\"),colorbar()\n",
    "#contour(xs[:,jcut,:],-zs[:,jcut,:],fi[:,jcut,:].+obsmean,30),colorbar()\n",
    "plot(bx,-b[:,jcut])\n",
    "xlim(16.5,19.5)\n",
    "ylim(-1200,50)"
   ]
  },
  {
   "cell_type": "markdown",
   "metadata": {},
   "source": [
    "## How to make a horizontal plot\n",
    "\n"
   ]
  },
  {
   "cell_type": "code",
   "execution_count": null,
   "metadata": {},
   "outputs": [],
   "source": [
    "# Define depth for cut\n",
    "zcut=zc[1,1,kcut]\n",
    "# Create fake data and calculte sigma values on the constant z surface\n",
    "sigmaonzlevel=ztosigma.(xs[:,:,1],ys[:,:,1],zcut.+ 0.0 .*ys[:,:,1])\n",
    "\n",
    "# Get fractional indexes of the fake data and the observing operator\n",
    "Igridcut=localize_separable_grid((xs[:,:,1],ys[:,:,1],sigmaonzlevel), masks, (xs,ys,sigma), )\n",
    "Htoz, out, outbbox = sparse_interp(masks, Igridcut, iscyclic)\n",
    "Htoz=Htoz*sparse_pack(masks)';\n",
    "\n",
    "# Now observe the gridded field with that observation operator\n",
    "zlevelsol=Htoz*statevector_pack(s.sv, (fi,))\n",
    "\n",
    "# Put it in shape for plotting\n",
    "soltoplot=reshape(zlevelsol,size(xs)[1:2])\n",
    "# Need to apply mask because that is not included in the interpolation\n",
    "soltoplot[zcut.>b].=NaN\n",
    "soltoplot[mask_edit[:,:,1].==0].=NaN;"
   ]
  },
  {
   "cell_type": "code",
   "execution_count": null,
   "metadata": {},
   "outputs": [],
   "source": [
    "pcolor(xs[:,:,1],ys[:,:,1],soltoplot.+obsmean,shading=\"nearest\"),colorbar()\n",
    "title(\"$zcut m\")\n",
    "gca().set_aspect(aspectratio)"
   ]
  },
  {
   "cell_type": "code",
   "execution_count": null,
   "metadata": {},
   "outputs": [],
   "source": [
    "# Surface\n",
    "pcolor(xs[:,:,1],ys[:,:,1],fi[:,:,1].+obsmean,shading=\"nearest\"),colorbar()\n",
    "gca().set_aspect(aspectratio)"
   ]
  }
 ],
 "metadata": {
  "@webio": {
   "lastCommId": null,
   "lastKernelId": null
  },
  "kernelspec": {
   "display_name": "Julia 1.11.1",
   "language": "julia",
   "name": "julia-1.11"
  },
  "language_info": {
   "file_extension": ".jl",
   "mimetype": "application/julia",
   "name": "julia",
   "version": "1.11.1"
  },
  "toc": {
   "base_numbering": 1,
   "nav_menu": {},
   "number_sections": true,
   "sideBar": true,
   "skip_h1_title": false,
   "title_cell": "Table of Contents",
   "title_sidebar": "Contents",
   "toc_cell": false,
   "toc_position": {},
   "toc_section_display": true,
   "toc_window_display": false
  }
 },
 "nbformat": 4,
 "nbformat_minor": 2
}
