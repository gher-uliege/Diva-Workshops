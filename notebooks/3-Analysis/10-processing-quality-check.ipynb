{
 "cells": [
  {
   "cell_type": "markdown",
   "metadata": {},
   "source": [
    "# Postprocessing: data quality check using the analysis\n",
    "In this notebook we explain how the analysis itself can be used to get an indication of the data quality."
   ]
  },
  {
   "cell_type": "code",
   "execution_count": null,
   "metadata": {},
   "outputs": [],
   "source": [
    "using DIVAnd\n",
    "using Makie, CairoMakie, GeoMakie\n",
    "using Dates\n",
    "using Statistics\n",
    "using ColorSchemes\n",
    "include(\"../config.jl\")"
   ]
  },
  {
   "cell_type": "markdown",
   "metadata": {},
   "source": [
    "## Data reading\n",
    "Salinity observations are read from a netCDF file based on the [World Ocean Database](https://www.nodc.noaa.gov/OC5/WOD/pr_wod.html).     \n",
    "The reading is done using `loadobs` function."
   ]
  },
  {
   "cell_type": "code",
   "execution_count": null,
   "metadata": {},
   "outputs": [],
   "source": [
    "varname = \"Salinity\"\n",
    "filename = salinityprovencalfile\n",
    "download_check(salinityprovencalfile, salinityprovencalfileURL)"
   ]
  },
  {
   "cell_type": "code",
   "execution_count": null,
   "metadata": {},
   "outputs": [],
   "source": [
    "obsval, obslon, obslat, obsdepth, obstime, obsid = loadobs(Float64, filename, \"Salinity\");"
   ]
  },
  {
   "cell_type": "markdown",
   "metadata": {},
   "source": [
    "### Topography and grid definition\n",
    "\n",
    "See the [topography notebook](../2-Preprocessing/06-topography.ipynb) for more details.     \n",
    "Here the code is just replicated to get topography defining the mask."
   ]
  },
  {
   "cell_type": "code",
   "execution_count": null,
   "metadata": {},
   "outputs": [],
   "source": [
    "dx = dy = 0.05\n",
    "lonr = 2.5:dx:12.0\n",
    "latr = 41.9:dy:44.6\n",
    "\n",
    "mask, (pm, pn), (xi, yi) = DIVAnd_rectdom(lonr, latr)\n",
    "\n",
    "bathname = gebco04file\n",
    "download_check(gebco04file, gebco04fileURL)\n",
    "\n",
    "bx, by, b = load_bath(bathname, true, lonr, latr)\n",
    "\n",
    "mask = falses(size(b, 1), size(b, 2))\n",
    "for j = 1:size(b, 2)\n",
    "    for i = 1:size(b, 1)\n",
    "        mask[i, j] = b[i, j] >= 1.0\n",
    "    end\n",
    "end"
   ]
  },
  {
   "cell_type": "markdown",
   "metadata": {},
   "source": [
    "### Data selection for example\n",
    "\n",
    "Cross validation, error calculations etc. assume independant data. Hence do not take high-resolution vertical profiles with all data but restrict yourself to specific small depth range. Here August data at surface:"
   ]
  },
  {
   "cell_type": "code",
   "execution_count": null,
   "metadata": {},
   "outputs": [],
   "source": [
    "sel = (obsdepth .< 1) .& (Dates.month.(obstime) .== 8)\n",
    "\n",
    "obsval = obsval[sel]\n",
    "obslon = obslon[sel]\n",
    "obslat = obslat[sel]\n",
    "obsdepth = obsdepth[sel]\n",
    "obstime = obstime[sel]\n",
    "obsids = obsid[sel];\n",
    "@show (size(obsval))\n",
    "checkobs((obslon, obslat, obsdepth, obstime), obsval, obsid)"
   ]
  },
  {
   "cell_type": "markdown",
   "metadata": {
    "collapsed": true,
    "jupyter": {
     "outputs_hidden": true
    }
   },
   "source": [
    "### Analysis\n",
    "\n",
    "Analysis parameters have been calibrated in the other notebook example.     \n",
    "Analysis `fi` using mean data as background.      \n",
    "Structure `s` is stored for later use."
   ]
  },
  {
   "cell_type": "code",
   "execution_count": null,
   "metadata": {},
   "outputs": [],
   "source": [
    "len = 0.5\n",
    "epsilon2 = 5.0\n",
    "fi, s = DIVAndrun(\n",
    "    mask,\n",
    "    (pm, pn),\n",
    "    (xi, yi),\n",
    "    (obslon, obslat),\n",
    "    obsval .- mean(obsval),\n",
    "    len,\n",
    "    epsilon2,\n",
    ");"
   ]
  },
  {
   "cell_type": "markdown",
   "metadata": {},
   "source": [
    "Plot of the gridded field and the observations."
   ]
  },
  {
   "cell_type": "code",
   "execution_count": null,
   "metadata": {},
   "outputs": [],
   "source": [
    "f = Figure()\n",
    "ax = GeoAxis(\n",
    "    f[1, 1],\n",
    "    title = \"Interpolated salinity field\",\n",
    "    dest = \"+proj=merc\",\n",
    "    yticks = 40:1:45.0,\n",
    ")\n",
    "hm = heatmap!(\n",
    "    ax,\n",
    "    lonr,\n",
    "    latr,\n",
    "    fi .+ mean(obsval),\n",
    "    colormap = ColorSchemes.haline,\n",
    "    colorrange = [37.0, 38.5],\n",
    "    interpolate = false,\n",
    ")\n",
    "Colorbar(f[2, 1], hm, vertical = false, label = \"S\", labelrotation = 0)\n",
    "contourf!(ax, bx, by, b, levels = [-1e5, 0], colormap = Reverse(:binary))\n",
    "scatter!(\n",
    "    ax,\n",
    "    obslon,\n",
    "    obslat,\n",
    "    color = obsval,\n",
    "    markersize = 7,\n",
    "    colormap = ColorSchemes.haline,\n",
    "    colorrange = [37.0, 38.5],\n",
    ")\n",
    "rowgap!(f.layout, -80)\n",
    "f"
   ]
  },
  {
   "cell_type": "markdown",
   "metadata": {},
   "source": [
    "Plot of the data residuals"
   ]
  },
  {
   "cell_type": "code",
   "execution_count": null,
   "metadata": {},
   "outputs": [],
   "source": [
    "dataresiduals = DIVAnd_residualobs(s, fi)\n",
    "rscale = sqrt(var(obsval))"
   ]
  },
  {
   "cell_type": "code",
   "execution_count": null,
   "metadata": {},
   "outputs": [],
   "source": [
    "f = Figure()\n",
    "ax = GeoAxis(f[1, 1], title = \"Residuals\", dest = \"+proj=merc\", yticks = 40:1:45.0)\n",
    "scat = scatter!(\n",
    "    ax,\n",
    "    obslon,\n",
    "    obslat,\n",
    "    color = dataresiduals,\n",
    "    markersize = 7,\n",
    "    colormap = ColorSchemes.balance,\n",
    "    colorrange = [-rscale, rscale],\n",
    ")\n",
    "Colorbar(f[2, 1], scat, vertical = false)\n",
    "contourf!(ax, bx, by, b, levels = [-1e5, 0, 1.0], colormap = Reverse(:binary))\n",
    "rowgap!(f.layout, -80)\n",
    "f"
   ]
  },
  {
   "cell_type": "code",
   "execution_count": null,
   "metadata": {},
   "outputs": [],
   "source": [
    "f = Figure()\n",
    "ax = Axis(\n",
    "    f[1, 1],\n",
    "    title = \"Residuals as function of value\",\n",
    "    xlabel = \"Salinity\",\n",
    "    ylabel = \"Residuals\",\n",
    ")\n",
    "plot!(ax, obsval, dataresiduals)\n",
    "f"
   ]
  },
  {
   "cell_type": "markdown",
   "metadata": {},
   "source": [
    "# Data quality check\n",
    "\n",
    "As for cross validation, in theory take out data and measure the difference between these data points not used and the analysis. Can be done without actually taking out the points. Three methods are implemented.\n",
    "## Define method used\n",
    "The different methods are described as the output of \n",
    "```julia\n",
    "?DIVAnd_qc\n",
    "```\n",
    "Here we use the method 1: standard cross validation.    \n",
    "The suspect data points are considered as those with a QC value higher than 10."
   ]
  },
  {
   "cell_type": "code",
   "execution_count": null,
   "metadata": {},
   "outputs": [],
   "source": [
    "qcval = DIVAnd_qc(fi, s, 1)\n",
    "\n",
    "# Find suspect points\n",
    "sp = findall(x -> x .> 10, qcval)\n",
    "\n",
    "# Or sort the indicator\n",
    "suspectindexes = sortperm(qcval, rev = true);"
   ]
  },
  {
   "cell_type": "markdown",
   "metadata": {},
   "source": [
    "The suspect points are characterised by a lower salinity and are mostly located in the [Rhône estuary](https://en.wikipedia.org/wiki/Rh%C3%B4ne)."
   ]
  },
  {
   "cell_type": "code",
   "execution_count": null,
   "metadata": {},
   "outputs": [],
   "source": [
    "f = Figure()\n",
    "ax = Axis(\n",
    "    f[1, 1],\n",
    "    title = \"Residuals as function of value,\\n colored by the QC value\",\n",
    "    xlabel = \"Salinity\",\n",
    "    ylabel = \"Residuals\",\n",
    ")\n",
    "scat = scatter!(ax, obsval, dataresiduals, color = qcval, colorrange = [1, 10])\n",
    "Colorbar(f[2, 1], scat, vertical = false)\n",
    "f"
   ]
  },
  {
   "cell_type": "code",
   "execution_count": null,
   "metadata": {},
   "outputs": [],
   "source": [
    "f = Figure()\n",
    "ax = GeoAxis(f[1, 1], title = \"Positions of suspect points\", dest = \"+proj=merc\")\n",
    "hm = heatmap!(\n",
    "    ax,\n",
    "    lonr,\n",
    "    latr,\n",
    "    fi .+ mean(obsval),\n",
    "    colormap = ColorSchemes.haline,\n",
    "    colorrange = [37.0, 38.5],\n",
    "    interpolate = false,\n",
    ")\n",
    "Colorbar(f[2, 1], hm, vertical = false, label = \"S\", labelrotation = 0)\n",
    "contourf!(ax, bx, by, b, levels = [-1e5, 0, 1.0], colormap = Reverse(:binary))\n",
    "plot!(ax, obslon[sp], obslat[sp], color = :red, markersize = 7)\n",
    "rowgap!(f.layout, -80)\n",
    "f"
   ]
  },
  {
   "cell_type": "markdown",
   "metadata": {},
   "source": [
    "### More information"
   ]
  },
  {
   "cell_type": "code",
   "execution_count": null,
   "metadata": {},
   "outputs": [],
   "source": [
    "?DIVAnd_qc"
   ]
  },
  {
   "cell_type": "markdown",
   "metadata": {},
   "source": [
    "## Exercise\n",
    "\n",
    "* Redo for different data.\n",
    "* Possibly force the cross-validation method (use ?DIVAnd_cv)\n",
    "* Once opimized, try to redo optimization with starting point being the first estimate+\n",
    "* Change level for qc parameter used for flagging\n",
    "* Create non-uniform weights for data using the quality check parameter. Then redo the analysis and possibly the whole chain from analysis, calibration"
   ]
  },
  {
   "cell_type": "markdown",
   "metadata": {
    "collapsed": true,
    "jupyter": {
     "outputs_hidden": true
    }
   },
   "source": [
    "<div class=\"alert alert-block alert-warning\">\n",
    "⚠️ Data quality check using analysis-data misfits is usefull but should not replace <b>preprocessing</b> quality checks and proper quality flag exploitation.\n",
    "</div>"
   ]
  },
  {
   "cell_type": "code",
   "execution_count": null,
   "metadata": {},
   "outputs": [],
   "source": []
  }
 ],
 "metadata": {
  "@webio": {
   "lastCommId": "3912E122CAB747EB8DC80FD2FB5BD367",
   "lastKernelId": "16a76828-e17a-44bc-bfe5-01d342fc60c2"
  },
  "anaconda-cloud": {},
  "kernelspec": {
   "display_name": "Julia 1.11.2",
   "language": "julia",
   "name": "julia-1.11"
  },
  "language_info": {
   "file_extension": ".jl",
   "mimetype": "application/julia",
   "name": "julia",
   "version": "1.11.2"
  },
  "toc": {
   "base_numbering": 1,
   "nav_menu": {},
   "number_sections": true,
   "sideBar": true,
   "skip_h1_title": false,
   "title_cell": "Table of Contents",
   "title_sidebar": "Contents",
   "toc_cell": false,
   "toc_position": {},
   "toc_section_display": true,
   "toc_window_display": false
  }
 },
 "nbformat": 4,
 "nbformat_minor": 4
}
