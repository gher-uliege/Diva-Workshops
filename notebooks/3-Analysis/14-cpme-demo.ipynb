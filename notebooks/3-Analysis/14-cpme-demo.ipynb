{
 "cells": [
  {
   "cell_type": "markdown",
   "metadata": {},
   "source": [
    "# Error fields\n",
    "This notebook illustrates the error field computation using different techniques, including the so-called *Clever Poor Man's Error* (CPME) method."
   ]
  },
  {
   "cell_type": "code",
   "execution_count": null,
   "metadata": {},
   "outputs": [],
   "source": [
    "using DIVAnd\n",
    "using Makie\n",
    "using CairoMakie\n",
    "using GeoMakie\n",
    "using Dates\n",
    "using Statistics\n",
    "using LinearAlgebra\n",
    "include(\"../config.jl\")"
   ]
  },
  {
   "cell_type": "markdown",
   "metadata": {},
   "source": [
    "## Data reading\n",
    "Download the file (it not already done) and read it."
   ]
  },
  {
   "cell_type": "code",
   "execution_count": null,
   "metadata": {},
   "outputs": [],
   "source": [
    "varname = \"Salinity\"\n",
    "filename = salinityprovencalfile\n",
    "download_check(salinityprovencalfile, salinityprovencalfileURL)"
   ]
  },
  {
   "cell_type": "code",
   "execution_count": null,
   "metadata": {},
   "outputs": [],
   "source": [
    "obsval,obslon,obslat,obsdepth,obstime,obsid = loadobs(Float64, salinityprovencalfile, varname);"
   ]
  },
  {
   "cell_type": "markdown",
   "metadata": {},
   "source": [
    "## Topography and grid definition\n",
    "See the notebook on [bathymetry](../2-Preprocessing/06-topography.ipynb) for more explanations.\n",
    "\n",
    "Define domain and resolution, create the domain."
   ]
  },
  {
   "cell_type": "code",
   "execution_count": null,
   "metadata": {},
   "outputs": [],
   "source": [
    "dx = dy = 0.125/2.\n",
    "lonr = 2.5:dx:12.\n",
    "latr = 42.3:dy:44.6\n",
    "\n",
    "mask,(pm,pn),(xi,yi) = DIVAnd_rectdom(lonr,latr);"
   ]
  },
  {
   "cell_type": "markdown",
   "metadata": {},
   "source": [
    "Download the bathymetry file and load it."
   ]
  },
  {
   "cell_type": "code",
   "execution_count": null,
   "metadata": {},
   "outputs": [],
   "source": [
    "bathname = gebco04file\n",
    "download_check(gebco04file, gebco04fileURL)"
   ]
  },
  {
   "cell_type": "code",
   "execution_count": null,
   "metadata": {},
   "outputs": [],
   "source": [
    "bx,by,b = load_bath(bathname,true,lonr,latr);"
   ]
  },
  {
   "cell_type": "markdown",
   "metadata": {},
   "source": [
    "Create a land-sea mask based on the bathymetry."
   ]
  },
  {
   "cell_type": "code",
   "execution_count": null,
   "metadata": {},
   "outputs": [],
   "source": [
    "mask = falses(size(b,1),size(b,2))\n",
    "\n",
    "for j = 1:size(b,2)\n",
    "    for i = 1:size(b,1)\n",
    "        mask[i,j] = b[i,j] >=1.0\n",
    "    end\n",
    "end"
   ]
  },
  {
   "cell_type": "markdown",
   "metadata": {},
   "source": [
    "## Data selection for example\n",
    "\n",
    "Cross validation, error calculations etc. assume independant data.      \n",
    "Hence do not take high-resolution vertical profiles with all data but restrict yourself to specific small depth range.      \n",
    "Here we limit outselves to August data at surface:"
   ]
  },
  {
   "cell_type": "code",
   "execution_count": null,
   "metadata": {},
   "outputs": [],
   "source": [
    "sel = (obsdepth .< 1) .& (Dates.month.(obstime) .== 8)\n",
    "\n",
    "obsval = obsval[sel]\n",
    "obslon = obslon[sel]\n",
    "obslat = obslat[sel]\n",
    "obsdepth = obsdepth[sel]\n",
    "obstime = obstime[sel]\n",
    "obsid = obsid[sel];\n",
    "@show (size(obsval))\n",
    "checkobs((obslon,obslat,obsdepth,obstime),obsval,obsid)"
   ]
  },
  {
   "cell_type": "markdown",
   "metadata": {
    "collapsed": true,
    "jupyter": {
     "outputs_hidden": true
    }
   },
   "source": [
    "### Analysis\n",
    "Analysis parameters have been calibrated in the other notebook [13-processing-parameter-optimization example.ipynb](13-processing-parameter-optimization). \n",
    "\n",
    "<div class=\"alert alert-block alert-warning\"> \n",
    " ⚠ If the statistical parameters are incorrectly estimated, the error fields are meaningless and only provide an idea of data coverage.\n",
    "</div>\n",
    "\n",
    "The analysis parameters are:"
   ]
  },
  {
   "cell_type": "code",
   "execution_count": null,
   "metadata": {},
   "outputs": [],
   "source": [
    "len = 0.3\n",
    "epsilon2 = 1.4;"
   ]
  },
  {
   "cell_type": "markdown",
   "metadata": {},
   "source": [
    "Analysis `fi` using mean data as background.    \n",
    "Structure `s` is stored for later use in error calculation."
   ]
  },
  {
   "cell_type": "code",
   "execution_count": null,
   "metadata": {},
   "outputs": [],
   "source": [
    "fi, s = DIVAndrun(mask,(pm,pn),(xi,yi),(obslon,obslat),obsval.-mean(obsval),len,epsilon2);"
   ]
  },
  {
   "cell_type": "markdown",
   "metadata": {},
   "source": [
    "Create a simple plot of the analysis"
   ]
  },
  {
   "cell_type": "code",
   "execution_count": null,
   "metadata": {},
   "outputs": [],
   "source": [
    "fig = Figure(size = (600, 350))\n",
    "ga = GeoAxis(fig[1, 1];  dest = \"+proj=merc\", title = \"Analysis and residuals\", \n",
    "xticks=2.:1.:14, yticks=42.:1.:45.)\n",
    "heatmap!(ga, bx, by, mask, colormap=Reverse(:binary))\n",
    "hm = heatmap!(ga, lonr, latr, fi .+ mean(obsval), interpolate = false, colorrange=[37., 38.5])\n",
    "# sc = scatter!(obslon, obslat, color=obsval, markersize=7, colorrange=[37., 38.5])\n",
    "xlims!(ga, (bx[1], bx[end]))\n",
    "ylims!(ga, (by[1], by[end]))\n",
    "Colorbar(fig[2, 1], hm, vertical = false, label = \"S\")\n",
    "fig"
   ]
  },
  {
   "cell_type": "markdown",
   "metadata": {},
   "source": [
    "## Exact error and approximations\n",
    "\n",
    "<div class=\"alert alert-block alert-info\"> \n",
    "<b>NOTE</b> Details can be found in the publication mentioned at the beginning of the notebook.\n",
    "</div>\n",
    "\n",
    "First we define a utility function for plotting."
   ]
  },
  {
   "cell_type": "code",
   "execution_count": null,
   "metadata": {},
   "outputs": [],
   "source": [
    "function ploterr(exerr; vmin=0, vmax=1.5, cmap=Reverse(:hot), figtitle=\"Error field\")\n",
    "    fig = Figure(size = (600, 350))\n",
    "    ga = GeoAxis(fig[1, 1];  dest = \"+proj=merc\", title = figtitle, \n",
    "    xticks=2.:1.:14, yticks=42.:1.:45.)\n",
    "    heatmap!(ga, bx, by, mask, colormap=Reverse(:binary))\n",
    "    hm = heatmap!(ga, lonr, latr, exerr, colormap=cmap, interpolate = false, colorrange=[vmin, vmax])\n",
    "    # sc = scatter!(obslon, obslat, color=obsval, markersize=7, colorrange=[37., 38.5])\n",
    "    xlims!(ga, (bx[1], bx[end]))\n",
    "    ylims!(ga, (by[1], by[end]))\n",
    "    Colorbar(fig[2, 1], hm, vertical = false)\n",
    "    fig\n",
    "end"
   ]
  },
  {
   "cell_type": "markdown",
   "metadata": {},
   "source": [
    "### Exact error by hand\n",
    "\n",
    "In the 2D case you can try to calculate the exact error expression. This demands the computationally expensive evaluation of `diag(s.P)` accessible via the analysis returned structure `s`. The latter is only available with `DIVAndrun`."
   ]
  },
  {
   "cell_type": "code",
   "execution_count": null,
   "metadata": {},
   "outputs": [],
   "source": [
    "exerr, = statevector_unpack(s.sv,diag(s.P),NaN)\n",
    "ploterr(exerr, figtitle= \"Error using P, scaled by global background variance\")"
   ]
  },
  {
   "cell_type": "markdown",
   "metadata": {},
   "source": [
    "Relative error by scaling with background variance `Berr` estimated using data with high errors"
   ]
  },
  {
   "cell_type": "code",
   "execution_count": null,
   "metadata": {},
   "outputs": [],
   "source": [
    "epsilon2huge=1E6\n",
    "fib, sb = DIVAndrun(mask,(pm,pn),(xi,yi),(obslon,obslat),obsval,len,epsilon2huge);\n",
    "Berr,= statevector_unpack(sb.sv,diag(sb.P));\n",
    "\n",
    "ploterr(exerr./Berr, figtitle=\"Scaled error\")"
   ]
  },
  {
   "cell_type": "code",
   "execution_count": null,
   "metadata": {},
   "outputs": [],
   "source": [
    "cpme = DIVAnd_cpme(mask,(pm,pn),(xi,yi),(obslon,obslat),obsval,len,epsilon2)\n",
    "\n",
    "ploterr(cpme, figtitle=\"Clever poor man's error\")"
   ]
  },
  {
   "cell_type": "markdown",
   "metadata": {},
   "source": [
    "Do you see any difference between the exact and clever poor man's error ? "
   ]
  },
  {
   "cell_type": "markdown",
   "metadata": {},
   "source": [
    "## Difference between error fields"
   ]
  },
  {
   "cell_type": "code",
   "execution_count": null,
   "metadata": {},
   "outputs": [],
   "source": [
    "ploterr(cpme-exerr./Berr, vmin=-0.2, vmax=0.2, cmap=Reverse(:RdYlBu), figtitle=\"Error on error\")"
   ]
  },
  {
   "cell_type": "markdown",
   "metadata": {},
   "source": [
    "Another approximation to the error field: AEXERR"
   ]
  },
  {
   "cell_type": "code",
   "execution_count": null,
   "metadata": {},
   "outputs": [],
   "source": [
    "myerr,bjmb,fa,sa = DIVAnd_aexerr(mask,(pm,pn),(xi,yi),(obslon,obslat),obsval,len,epsilon2)\n",
    "if myerr==0\n",
    "    @error(\"No need to approximate error, use direct calculation\")\n",
    "else\n",
    "    ploterr(myerr, figtitle=\"Unscaled almost exact error\")\n",
    "end"
   ]
  },
  {
   "cell_type": "markdown",
   "metadata": {},
   "source": [
    "Scaled AXERR error"
   ]
  },
  {
   "cell_type": "code",
   "execution_count": null,
   "metadata": {},
   "outputs": [],
   "source": [
    "if myerr==0\n",
    "    @error(\"No need to approximate error, use direct calculation\")\n",
    "else\n",
    "    ploterr(myerr./bjmb, figtitle=\"Scaled almost exact error\")\n",
    "end"
   ]
  },
  {
   "cell_type": "markdown",
   "metadata": {},
   "source": [
    "# Exercise \n",
    "1. Modify the (L, $\\epsilon^2$) parameters.\n",
    "2. Re-run the analysis.\n",
    "3. See how the error field behaves."
   ]
  },
  {
   "cell_type": "markdown",
   "metadata": {},
   "source": [
    "# Conclusion\n",
    "In view of the uncertainties on statistical parameters (L, $\\epsilon^2$), the *clever poor man's error* is generally a sufficient approximation for the error fields.     \n",
    "This is the one implemented in the `DIVAndgo` high-level analysis function. \n",
    "\n",
    "<div class=\"alert alert-block alert-info\"> \n",
    "<b>NOTE</b> The next notebook will focus on another function, `DIVAnd_errormap` to evaluate the error field.\n",
    "</div>"
   ]
  }
 ],
 "metadata": {
  "@webio": {
   "lastCommId": null,
   "lastKernelId": null
  },
  "anaconda-cloud": {},
  "kernelspec": {
   "display_name": "Julia 1.11.1",
   "language": "julia",
   "name": "julia-1.11"
  },
  "language_info": {
   "file_extension": ".jl",
   "mimetype": "application/julia",
   "name": "julia",
   "version": "1.11.1"
  },
  "toc": {
   "base_numbering": 1,
   "nav_menu": {},
   "number_sections": true,
   "sideBar": true,
   "skip_h1_title": false,
   "title_cell": "Table of Contents",
   "title_sidebar": "Contents",
   "toc_cell": false,
   "toc_position": {},
   "toc_section_display": true,
   "toc_window_display": false
  }
 },
 "nbformat": 4,
 "nbformat_minor": 4
}
