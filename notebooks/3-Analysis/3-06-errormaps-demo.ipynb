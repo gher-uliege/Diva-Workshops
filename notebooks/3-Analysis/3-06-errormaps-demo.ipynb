{
 "cells": [
  {
   "cell_type": "markdown",
   "metadata": {},
   "source": [
    "# Error fields\n",
    "This notebook presents the error field computation using the function `DIVAnd_errormap`.\n",
    "Details can be found in the publication:\n",
    "\n",
    "> Approximate and Efficient Methods to Assess Error Fields in Spatial Gridding with Data Interpolating Variational Analysis (DIVA) Beckers, Jean-Marie; Barth, Alexander; Troupin, Charles, Alvera-Azcarate, A. _Journal of Atmospheric & Oceanic Technology_ (2014), __31(2)__, 515-530      \n",
    "https://orbi.uliege.be/handle/2268/161069       \n",
    "https://journals.ametsoc.org/doi/abs/10.1175/JTECH-D-13-00130.1\n",
    "\n",
    "but two additional methods (`:scpme` and `:diagapp`) are not described there."
   ]
  },
  {
   "cell_type": "code",
   "execution_count": null,
   "metadata": {},
   "outputs": [],
   "source": [
    "using DIVAnd\n",
    "using Makie\n",
    "using CairoMakie\n",
    "using GeoMakie\n",
    "using Dates\n",
    "using Statistics\n",
    "using LinearAlgebra\n",
    "include(\"../config.jl\")"
   ]
  },
  {
   "cell_type": "markdown",
   "metadata": {},
   "source": [
    "## Data reading\n",
    "Download the file (it not already done) and read it."
   ]
  },
  {
   "cell_type": "code",
   "execution_count": null,
   "metadata": {},
   "outputs": [],
   "source": [
    "varname = \"Salinity\"\n",
    "filename = salinityprovencalfile\n",
    "download_check(salinityprovencalfile, salinityprovencalfileURL)"
   ]
  },
  {
   "cell_type": "code",
   "execution_count": null,
   "metadata": {},
   "outputs": [],
   "source": [
    "obsval, obslon, obslat, obsdepth, obstime, obsid = loadobs(Float64, filename, \"Salinity\");"
   ]
  },
  {
   "cell_type": "markdown",
   "metadata": {},
   "source": [
    "## Topography and grid definition\n",
    "See the notebook on [bathymetry](../2-Preprocessing/2-01-topography.ipynb) for more explanations.\n",
    "\n",
    "Define domain and resolution, create the domain."
   ]
  },
  {
   "cell_type": "code",
   "execution_count": null,
   "metadata": {},
   "outputs": [],
   "source": [
    "dx = dy = 0.125 / 2.0\n",
    "lonr = 2.5:dx:12.0\n",
    "latr = 42.3:dy:44.6\n",
    "\n",
    "mask, (pm, pn), (xi, yi) = DIVAnd_rectdom(lonr, latr);"
   ]
  },
  {
   "cell_type": "markdown",
   "metadata": {},
   "source": [
    "Download the bathymetry file and load it."
   ]
  },
  {
   "cell_type": "code",
   "execution_count": null,
   "metadata": {},
   "outputs": [],
   "source": [
    "bathname = gebco04file\n",
    "download_check(gebco04file, gebco04fileURL)\n",
    "bx, by, b = load_bath(bathname, true, lonr, latr);"
   ]
  },
  {
   "cell_type": "markdown",
   "metadata": {},
   "source": [
    "Create a land-sea mask based on the bathymetry at 1 meter depth."
   ]
  },
  {
   "cell_type": "code",
   "execution_count": null,
   "metadata": {},
   "outputs": [],
   "source": [
    "mask = falses(size(b, 1), size(b, 2))\n",
    "\n",
    "for j = 1:size(b, 2)\n",
    "    for i = 1:size(b, 1)\n",
    "        mask[i, j] = b[i, j] >= 1.0\n",
    "    end\n",
    "end\n",
    "\n",
    "plot_mask(bx, by, mask)"
   ]
  },
  {
   "cell_type": "markdown",
   "metadata": {},
   "source": [
    "## Data selection for example\n",
    "\n",
    "Cross validation, error calculations etc. assume independant data. Hence do not take high-resolution vertical profiles with all data but restrict yourself to specific small depth range. Here we limit outselves to August data at surface:"
   ]
  },
  {
   "cell_type": "code",
   "execution_count": null,
   "metadata": {},
   "outputs": [],
   "source": [
    "sel = (obsdepth .< 1) .& (Dates.month.(obstime) .== 8)\n",
    "\n",
    "obsval = obsval[sel]\n",
    "obslon = obslon[sel]\n",
    "obslat = obslat[sel]\n",
    "obsdepth = obsdepth[sel]\n",
    "obstime = obstime[sel]\n",
    "obsid = obsid[sel];\n",
    "@show (size(obsval))\n",
    "checkobs((obslon, obslat, obsdepth, obstime), obsval, obsid)"
   ]
  },
  {
   "cell_type": "markdown",
   "metadata": {
    "collapsed": true,
    "jupyter": {
     "outputs_hidden": true
    }
   },
   "source": [
    "### Analysis\n",
    "The parameters have been calibrated in the other notebook [`3-03-processing-parameter-optimization`](3-03-processing-parameter-optimization.ipynb). \n",
    "\n",
    "<div class=\"alert alert-block alert-warning\"> \n",
    "  ⚠️ If the statistical parameters are incorrectly estimated, the error fields are meaningless and only provide an idea of data coverage.\n",
    "</div>\n",
    "\n",
    "The analysis parameters are:"
   ]
  },
  {
   "cell_type": "code",
   "execution_count": null,
   "metadata": {},
   "outputs": [],
   "source": [
    "len = 0.3\n",
    "epsilon2 = 1.4;"
   ]
  },
  {
   "cell_type": "markdown",
   "metadata": {},
   "source": [
    "Analysis `fi` using mean data as background.    \n",
    "Structure `s` is stored for later use in error calculation.\n",
    "Note that the background is just data average  `mean(obsval)`"
   ]
  },
  {
   "cell_type": "code",
   "execution_count": null,
   "metadata": {},
   "outputs": [],
   "source": [
    "fi, s = DIVAndrun(\n",
    "    mask,\n",
    "    (pm, pn),\n",
    "    (xi, yi),\n",
    "    (obslon, obslat),\n",
    "    obsval .- mean(obsval),\n",
    "    len,\n",
    "    epsilon2,\n",
    ");"
   ]
  },
  {
   "cell_type": "markdown",
   "metadata": {},
   "source": [
    "### Create a simple plot of the analysis"
   ]
  },
  {
   "cell_type": "code",
   "execution_count": null,
   "metadata": {},
   "outputs": [],
   "source": [
    "fig = Figure(size = (600, 350))\n",
    "ga = GeoAxis(\n",
    "    fig[1, 1];\n",
    "    dest = \"+proj=merc\",\n",
    "    title = \"Analysis\",\n",
    "    xticks = 2.0:1.0:14,\n",
    "    yticks = 42.0:1.0:45.0,\n",
    ")\n",
    "heatmap!(ga, bx, by, mask, colormap = Reverse(:binary))\n",
    "hm = heatmap!(\n",
    "    ga,\n",
    "    lonr,\n",
    "    latr,\n",
    "    fi .+ mean(obsval),\n",
    "    interpolate = false,\n",
    "    colorrange = [37.0, 38.5],\n",
    ")\n",
    "# sc = scatter!(obslon, obslat, color=obsval, markersize=7, colorrange=[37., 38.5])\n",
    "xlims!(ga, (bx[1], bx[end]))\n",
    "ylims!(ga, (by[1], by[end]))\n",
    "Colorbar(fig[2, 1], hm, vertical = false, label = \"S\")\n",
    "fig"
   ]
  },
  {
   "cell_type": "markdown",
   "metadata": {},
   "source": [
    "## Exact error and approximations\n",
    "\n",
    "<div class=\"alert alert-block alert-info\"> \n",
    "🛈 Details can be found in the publication mentioned at the beginning of the notebook.\n",
    "</div>\n",
    "\n",
    "First we define a utility function for plotting."
   ]
  },
  {
   "cell_type": "code",
   "execution_count": null,
   "metadata": {},
   "outputs": [],
   "source": [
    "function ploterr(\n",
    "    exerr;\n",
    "    vmin = 0,\n",
    "    vmax = 1.5,\n",
    "    cmap = Reverse(:hot),\n",
    "    figtitle = \"Error field\",\n",
    ")\n",
    "    fig = Figure(size = (600, 350))\n",
    "    ga = GeoAxis(\n",
    "        fig[1, 1];\n",
    "        dest = \"+proj=merc\",\n",
    "        title = figtitle,\n",
    "        xticks = 2.0:1.0:14,\n",
    "        yticks = 42.0:1.0:45.0,\n",
    "    )\n",
    "    heatmap!(ga, bx, by, mask, colormap = Reverse(:binary))\n",
    "    hm = heatmap!(\n",
    "        ga,\n",
    "        lonr,\n",
    "        latr,\n",
    "        exerr,\n",
    "        colormap = cmap,\n",
    "        interpolate = false,\n",
    "        colorrange = [vmin, vmax],\n",
    "    )\n",
    "    # sc = scatter!(obslon, obslat, color=obsval, markersize=7, colorrange=[37., 38.5])\n",
    "    xlims!(ga, (bx[1], bx[end]))\n",
    "    ylims!(ga, (by[1], by[end]))\n",
    "    Colorbar(fig[2, 1], hm, vertical = false)\n",
    "    fig\n",
    "end"
   ]
  },
  {
   "cell_type": "markdown",
   "metadata": {},
   "source": [
    "### Exact error by hand\n",
    "\n",
    "In the 2D case you can try to calculate the exact error expression. This demands the computationally expensive evaluation of `diag(s.P)` accessible via the analysis returned structure `s`. The latter is only available with `DIVAndrun`."
   ]
  },
  {
   "cell_type": "code",
   "execution_count": null,
   "metadata": {},
   "outputs": [],
   "source": [
    "exerr, = statevector_unpack(s.sv, diag(s.P), NaN)\n",
    "ploterr(exerr, figtitle = \"Error using P, scaled by global background variance\")"
   ]
  },
  {
   "cell_type": "markdown",
   "metadata": {},
   "source": [
    "### Exact error as a choice via the errormap function"
   ]
  },
  {
   "cell_type": "code",
   "execution_count": null,
   "metadata": {},
   "outputs": [],
   "source": [
    "aerrora, method = DIVAnd_errormap(\n",
    "    mask,\n",
    "    (pm, pn),\n",
    "    (xi, yi),\n",
    "    (obslon, obslat),\n",
    "    obsval .- mean(obsval),\n",
    "    len,\n",
    "    epsilon2,\n",
    "    s;\n",
    "    method = :exact,\n",
    "    Bscale = false,\n",
    ")"
   ]
  },
  {
   "cell_type": "code",
   "execution_count": null,
   "metadata": {},
   "outputs": [],
   "source": [
    "ploterr(aerrora, figtitle = \"Error using errormap version $method\")"
   ]
  },
  {
   "cell_type": "markdown",
   "metadata": {},
   "source": [
    "# Other options\n",
    "## Precise version, actual method chosen will depend on data coverage"
   ]
  },
  {
   "cell_type": "code",
   "execution_count": null,
   "metadata": {},
   "outputs": [],
   "source": [
    "aerror, method = DIVAnd_errormap(\n",
    "    mask,\n",
    "    (pm, pn),\n",
    "    (xi, yi),\n",
    "    (obslon, obslat),\n",
    "    obsval .- mean(obsval),\n",
    "    len,\n",
    "    epsilon2,\n",
    "    s;\n",
    "    method = :precise,\n",
    "    Bscale = false,\n",
    ")\n",
    "ploterr(aerror, figtitle = \"Error using automatic version $method\")"
   ]
  },
  {
   "cell_type": "markdown",
   "metadata": {},
   "source": [
    "Difference between error fields.\n",
    "We also overlay the data positions."
   ]
  },
  {
   "cell_type": "code",
   "execution_count": null,
   "metadata": {},
   "outputs": [],
   "source": [
    "ploterr(\n",
    "    aerror - exerr,\n",
    "    vmin = -0.2,\n",
    "    vmax = 0.2,\n",
    "    cmap = Reverse(:RdYlBu),\n",
    "    figtitle = \"Error on error\",\n",
    ")"
   ]
  },
  {
   "cell_type": "markdown",
   "metadata": {},
   "source": [
    "### Other options \n",
    "The method offers other options:\n",
    "- `:auto`, \n",
    "- `:cheap` will automatically chose between `:scpme` (for a lot of data) or `:cpme` (for a few isolated data points) \n",
    "- `:precise` will automatically chose between the methods very close to the exact version.\n",
    "- `:cpme`,\n",
    "- `:scpme`,\n",
    "- `:exact`,\n",
    "- `:aexerr`,\n",
    "- `:diagapp`"
   ]
  },
  {
   "cell_type": "markdown",
   "metadata": {},
   "source": [
    "## How to plot standard deviations ?"
   ]
  },
  {
   "cell_type": "markdown",
   "metadata": {},
   "source": [
    "Error fields shown above are error variance divided by a global background error variance $\\sigma^2$. The latter is difficult to assess but a simple practical way is to use data variance VAR and split it into background error variance $\\sigma^2$ and observational error variance $\\epsilon^2$, assuming the $epsilon2$ value is correct ($epsilon2$ is the parameter used in `DIVAndrun` and is the relative observational error variance). VAR is the total variance of your data.\n",
    "\n",
    "$epsilon2$ = ${ \\epsilon^2 \\over \\sigma^2 } $\n",
    "\n",
    "$ \\epsilon^2 + \\sigma^2 $ = VAR\n",
    "\n",
    "Provides\n",
    "\n",
    "$\\sigma^2$= $ {1 \\over 1 + epsilon2 }$ VAR\n",
    "\n",
    "$\\epsilon^2$= $ {epsilon2 \\over 1 + epsilon2 }$ VAR\n",
    "\n",
    "If you are not sure about the value of $epsilon2$ you might consider using `DIVAnd_adaptedeps2(s, fi)`. \n",
    "\n",
    "<div class=\"alert alert-block alert-info\"> \n",
    "🛈 If you do this and see a completely different value of $epsilon2$, you should probably rerun the analysis and error calculation before trying to get the absolute errors.\n",
    "</div>"
   ]
  },
  {
   "cell_type": "code",
   "execution_count": null,
   "metadata": {},
   "outputs": [],
   "source": [
    "epsilon2n = epsilon2 * DIVAnd_adaptedeps2(s, fi)\n",
    "VAR = var(obsval)\n",
    "eps2 = epsilon2n / (1.0 + epsilon2n) * VAR\n",
    "sig2 = 1.0 / (1.0 + epsilon2n) * VAR\n",
    "@show eps2, sig2, eps2 + sig2, VAR, eps2 / sig2, epsilon2n, epsilon2"
   ]
  },
  {
   "cell_type": "code",
   "execution_count": null,
   "metadata": {},
   "outputs": [],
   "source": [
    "myabserror = sqrt.(sig2 .* aerror)\n",
    "ploterr(myabserror, vmin = 0.0, vmax = 2 * sqrt(sig2), figtitle = \"Standard deviation\")"
   ]
  },
  {
   "cell_type": "markdown",
   "metadata": {},
   "source": [
    "## How to calculate error on average fields"
   ]
  },
  {
   "cell_type": "code",
   "execution_count": null,
   "metadata": {},
   "outputs": [],
   "source": [
    "# if uniform grid is assumed you could use the following two definitions and skip the actual grid surface/volume calculation\n",
    "gridsurf = ones(Float64, size(s.P)[1], 1)\n",
    "volumes = ones(Float64, size(fi))\n",
    "\n",
    "# for non-uniform grids, you need to calculate \"volumes/surfaces\" of each grid box for integration\n",
    "function volint(mask, pmn)\n",
    "    NDIM = ndims(mask)\n",
    "    dim = size(mask)\n",
    "    # volume based on metrics\n",
    "    volume = zeros(Float64, dim)\n",
    "    volume[mask] .= 1.0\n",
    "    for i = 1:NDIM\n",
    "        volume .= volume ./ pmn[i]\n",
    "    end\n",
    "    return volume\n",
    "end\n",
    "# now put volumes from grid into statevector space\n",
    "\n",
    "volumes = volint(mask, (pm, pn))\n",
    "gridsurf = statevector_pack(s.sv, (volumes,))\n",
    "gridsurf = reshape(gridsurf, length(gridsurf), 1)\n",
    "\n",
    "#Now you have an array of surface in state-space which can be used to integrate\n",
    "\n",
    "erronmean = diagMtCM(s.P, gridsurf)[1] / ((sum(gridsurf))^2)\n",
    "# That is the error variance of the mean, still scaled by the background error variance (no units)"
   ]
  },
  {
   "cell_type": "markdown",
   "metadata": {},
   "source": [
    "Now scale by estimate of $\\sigma^2$ and take square root:"
   ]
  },
  {
   "cell_type": "code",
   "execution_count": null,
   "metadata": {},
   "outputs": [],
   "source": [
    "myabserror = sqrt(sig2 * erronmean)"
   ]
  },
  {
   "cell_type": "markdown",
   "metadata": {},
   "source": [
    "# Mean value of analysed anomalies"
   ]
  },
  {
   "cell_type": "code",
   "execution_count": null,
   "metadata": {},
   "outputs": [],
   "source": [
    "mfi = volumes .* fi\n",
    "meanfi = sum(mfi[.!isnan.(fi)]) / sum(volumes[.!isnan.(fi)])"
   ]
  },
  {
   "cell_type": "code",
   "execution_count": null,
   "metadata": {},
   "outputs": [],
   "source": [
    "@show mean(obsval);"
   ]
  },
  {
   "cell_type": "markdown",
   "metadata": {},
   "source": [
    "One sigma range:"
   ]
  },
  {
   "cell_type": "code",
   "execution_count": null,
   "metadata": {},
   "outputs": [],
   "source": [
    "@show [mean(obsval) + meanfi - myabserror, mean(obsval) + meanfi + myabserror];"
   ]
  },
  {
   "cell_type": "markdown",
   "metadata": {},
   "source": [
    "# Warning\n",
    "\n",
    "<div class=\"alert alert-block alert-warning\"> \n",
    "⚠️ Always keep in mind that all error estimates are heavily relying on statistical hypothesis and in particular the parameters of the analysis.<br>    \n",
    "Just try to rerun the notebook by changing the parameters and possibly deactivate the update of epsilon2\n",
    "</div>"
   ]
  },
  {
   "cell_type": "code",
   "execution_count": null,
   "metadata": {},
   "outputs": [],
   "source": [
    "@time fij, sj = DIVAndjog(\n",
    "    mask,\n",
    "    (pm, pn),\n",
    "    (xi, yi),\n",
    "    (obslon, obslat),\n",
    "    obsval .- mean(obsval),\n",
    "    len,\n",
    "    epsilon2,\n",
    "    [4, 4],\n",
    "    [4, 4];\n",
    "    alphabc = 2.0,\n",
    ");"
   ]
  },
  {
   "cell_type": "code",
   "execution_count": null,
   "metadata": {},
   "outputs": [],
   "source": [
    "fig = Figure(size = (600, 350))\n",
    "ga = GeoAxis(\n",
    "    fig[1, 1];\n",
    "    dest = \"+proj=merc\",\n",
    "    title = \"Analysis\",\n",
    "    xticks = 2.0:1.0:14,\n",
    "    yticks = 42.0:1.0:45.0,\n",
    ")\n",
    "heatmap!(ga, bx, by, mask, colormap = Reverse(:binary))\n",
    "hm = heatmap!(\n",
    "    ga,\n",
    "    lonr,\n",
    "    latr,\n",
    "    fij .+ mean(obsval),\n",
    "    interpolate = false,\n",
    "    colorrange = [37.0, 38.5],\n",
    ")\n",
    "# sc = scatter!(obslon, obslat, color=obsval, markersize=7, colorrange=[37., 38.5])\n",
    "xlims!(ga, (bx[1], bx[end]))\n",
    "ylims!(ga, (by[1], by[end]))\n",
    "Colorbar(fig[2, 1], hm, vertical = false, label = \"S\")\n",
    "fig"
   ]
  },
  {
   "cell_type": "code",
   "execution_count": null,
   "metadata": {},
   "outputs": [],
   "source": []
  }
 ],
 "metadata": {
  "@webio": {
   "lastCommId": null,
   "lastKernelId": null
  },
  "anaconda-cloud": {},
  "kernelspec": {
   "display_name": "Julia 1.11.2",
   "language": "julia",
   "name": "julia-1.11"
  },
  "language_info": {
   "file_extension": ".jl",
   "mimetype": "application/julia",
   "name": "julia",
   "version": "1.11.2"
  },
  "toc": {
   "base_numbering": 1,
   "nav_menu": {},
   "number_sections": true,
   "sideBar": true,
   "skip_h1_title": false,
   "title_cell": "Table of Contents",
   "title_sidebar": "Contents",
   "toc_cell": false,
   "toc_position": {},
   "toc_section_display": true,
   "toc_window_display": false
  }
 },
 "nbformat": 4,
 "nbformat_minor": 4
}
