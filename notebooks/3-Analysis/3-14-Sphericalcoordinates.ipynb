{
 "cells": [
  {
   "cell_type": "markdown",
   "id": "f3c68f8f",
   "metadata": {},
   "source": [
    "# How to use metrics on the surface of a sphere (of Earth Radius)\n",
    "Most of the analysis were performed using a regular longitude-latitude grid.<br>\n",
    "Here we show how to work on a sphere.\n",
    "## Load packages"
   ]
  },
  {
   "cell_type": "code",
   "execution_count": null,
   "id": "e2504879",
   "metadata": {},
   "outputs": [],
   "source": [
    "using Makie, CairoMakie\n",
    "using DIVAnd"
   ]
  },
  {
   "cell_type": "markdown",
   "id": "f29739fb",
   "metadata": {},
   "source": [
    "### Function to plot on a sphere"
   ]
  },
  {
   "cell_type": "code",
   "execution_count": null,
   "id": "4aec090c-07de-489f-8bb8-212b5bfb4fa1",
   "metadata": {},
   "outputs": [],
   "source": [
    "function plot_sphere(fi::Matrix{Float64}; cmap = :RdYlBu)\n",
    "    fig = Figure()\n",
    "    ax = Axis3(fig[1, 1], aspect = :equal, azimuth = 1.75 * π)\n",
    "    surface!(\n",
    "        ax,\n",
    "        xi,\n",
    "        yi,\n",
    "        zi,\n",
    "        color = (fi .- minimum(fi)) / (maximum(fi) - minimum(fi)),\n",
    "        colormap = cmap\n",
    "    )\n",
    "    scatter!(ax, xobs, yobs, zobs, color = :black)\n",
    "    hidedecorations!(ax)\n",
    "    hidespines!(ax) \n",
    "    display(fig)\n",
    "    return fig\n",
    "end"
   ]
  },
  {
   "cell_type": "markdown",
   "id": "b0e5dbad",
   "metadata": {},
   "source": [
    "## Prepare grid and coordinates"
   ]
  },
  {
   "cell_type": "code",
   "execution_count": null,
   "id": "54b572b4",
   "metadata": {},
   "outputs": [],
   "source": [
    "loni, lati =\n",
    "    ndgrid(range(0.0, stop = 360.0, length = 200), range(-89, stop = 89, length = 210));\n",
    "\n",
    "# take out last longitude to not close, that will be done by moddim\n",
    "#\n",
    "loni = loni[1:end-1, :]\n",
    "lati = lati[1:end-1, :]\n",
    "\n",
    "R = 6371.009e3\n",
    "\n",
    "# Cartesian coordinates for the plotting on a sphere\n",
    "xi = R * cosd.(loni) .* cosd.(lati);\n",
    "yi = R * sind.(loni) .* cosd.(lati);\n",
    "zi = R * sind.(lati);\n",
    "\n",
    "mask = trues(size(loni));"
   ]
  },
  {
   "cell_type": "markdown",
   "id": "48293586",
   "metadata": {},
   "source": [
    "## Naive analysis as if coordinates were cartesian\n",
    "We consider 3 observations."
   ]
  },
  {
   "cell_type": "code",
   "execution_count": null,
   "id": "0569868b",
   "metadata": {},
   "outputs": [],
   "source": [
    "lon = [2, 300, 270]\n",
    "lat = [45, 0.0, 80]\n",
    "f = [1.0, -1.0, -1.0]\n",
    "\n",
    "pmc = ones(size(loni)) / (loni[2, 1] - loni[1, 1]);\n",
    "pnc = ones(size(lati)) / (lati[1, 2] - lati[1, 1]);\n",
    "fi, s = DIVAndrun(mask, (pmc, pnc), (loni, lati), (lon, lat), f, (10.0, 10.0), 1.0);"
   ]
  },
  {
   "cell_type": "markdown",
   "id": "f2fe0945-c0f8-48ca-810d-308597ba388c",
   "metadata": {},
   "source": [
    "Observation coordinates (for plotting only)"
   ]
  },
  {
   "cell_type": "code",
   "execution_count": null,
   "id": "11ad34f4-493f-422a-9c38-662a3a07466d",
   "metadata": {},
   "outputs": [],
   "source": [
    "xobs = R * cosd.(lon) .* cosd.(lat);\n",
    "yobs = R * sind.(lon) .* cosd.(lat);\n",
    "zobs = R * sind.(lat);"
   ]
  },
  {
   "cell_type": "markdown",
   "id": "6e5ab8de-d36a-461d-81cb-5ea299e683ed",
   "metadata": {},
   "source": [
    "### Plot results\n",
    "Look at the field near the observation located close to the pole."
   ]
  },
  {
   "cell_type": "code",
   "execution_count": null,
   "id": "860ae7d3",
   "metadata": {},
   "outputs": [],
   "source": [
    "f1 = plot_sphere(fi)\n",
    "save(\"sphere.png\", f1)"
   ]
  },
  {
   "cell_type": "markdown",
   "id": "edd01f0f",
   "metadata": {},
   "source": [
    "## With correct metrics and correlation length in the same metric (meters)\n",
    "<div class=\"alert alert-block alert-info\">\n",
    "ℹ️ Note that the metric function works with Earth Radius. <br>\n",
    "If you have a sphere of a different radius, just scale the <code>pm</code> accordingly (<code>pm</code> are inverse of length).\n",
    "</div>"
   ]
  },
  {
   "cell_type": "code",
   "execution_count": null,
   "id": "aad6d34e",
   "metadata": {},
   "outputs": [],
   "source": [
    "pm, pn = DIVAnd_metric(loni, lati)\n",
    "fi, s = DIVAndrun(mask, (pm, pn), (loni, lati), (lon, lat), f, (1000000.0, 1000000.0), 1.0);"
   ]
  },
  {
   "cell_type": "markdown",
   "id": "672c6be3-7bb2-4820-9c5f-1487a1084a20",
   "metadata": {},
   "source": [
    "### Plot results\n",
    "The field is improved near the North pole, but the discontinuity at 180° has to be addressed."
   ]
  },
  {
   "cell_type": "code",
   "execution_count": null,
   "id": "b8c13202",
   "metadata": {},
   "outputs": [],
   "source": [
    "plot_sphere(fi)\n",
    "save"
   ]
  },
  {
   "cell_type": "markdown",
   "id": "4736ace2",
   "metadata": {},
   "source": [
    "## Adding periodicity in the analysis \n",
    "(not in the plotting mesh). This is done with the argument <code>moddim</code>."
   ]
  },
  {
   "cell_type": "code",
   "execution_count": null,
   "id": "9c63807d",
   "metadata": {},
   "outputs": [],
   "source": [
    "pm, pn = DIVAnd_metric(loni, lati)\n",
    "lon = [2, 300, 270]\n",
    "lat = [45, 0.0, 80]\n",
    "f = [1.0, -1.0, -1.0]\n",
    "fi, s = DIVAndrun(\n",
    "    mask,\n",
    "    (pm, pn),\n",
    "    (loni, lati),\n",
    "    (lon, lat),\n",
    "    f,\n",
    "    (1000000.0, 1000000.0),\n",
    "    1.0,\n",
    "    moddim = [1, 0],\n",
    ");"
   ]
  },
  {
   "cell_type": "markdown",
   "id": "4d15eb77-65a8-4b97-aa5d-bd7acf091514",
   "metadata": {},
   "source": [
    "### Plot results\n",
    "The continuity is now assured."
   ]
  },
  {
   "cell_type": "code",
   "execution_count": null,
   "id": "17c84842",
   "metadata": {},
   "outputs": [],
   "source": [
    "plot_sphere(fi)"
   ]
  }
 ],
 "metadata": {
  "kernelspec": {
   "display_name": "Julia 1.11.2",
   "language": "julia",
   "name": "julia-1.11"
  },
  "language_info": {
   "file_extension": ".jl",
   "mimetype": "application/julia",
   "name": "julia",
   "version": "1.11.2"
  },
  "toc": {
   "base_numbering": 1,
   "nav_menu": {},
   "number_sections": true,
   "sideBar": true,
   "skip_h1_title": false,
   "title_cell": "Table of Contents",
   "title_sidebar": "Contents",
   "toc_cell": false,
   "toc_position": {},
   "toc_section_display": true,
   "toc_window_display": false
  }
 },
 "nbformat": 4,
 "nbformat_minor": 5
}
