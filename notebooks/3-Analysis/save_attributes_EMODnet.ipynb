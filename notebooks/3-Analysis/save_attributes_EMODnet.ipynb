{
 "cells": [
  {
   "cell_type": "markdown",
   "metadata": {},
   "source": [
    "# Saving attributes\n",
    "This notebook show how to get the global and variable attributes and save them into a file that can be read later.     \n",
    "\n",
    "<div class=\"alert alert-block alert-warning\">\n",
    "⚠️ This precedure is required when one is working on a machine which has not internet connection to the Vocab Server.\n",
    "</div>"
   ]
  },
  {
   "cell_type": "code",
   "execution_count": 8,
   "metadata": {},
   "outputs": [
    {
     "data": {
      "text/plain": [
       "\"https://dox.uliege.be/index.php/s/8tRk0NAStr2P70j/download\""
      ]
     },
     "execution_count": 8,
     "metadata": {},
     "output_type": "execute_result"
    }
   ],
   "source": [
    "using DIVAnd\n",
    "using DataStructures\n",
    "include(\"../config.jl\")"
   ]
  },
  {
   "cell_type": "markdown",
   "metadata": {},
   "source": [
    "## Create dictionary\n",
    "It stores all the metadata for each variable.     \n",
    "Here the variable name are from EMODnet Chemistry."
   ]
  },
  {
   "cell_type": "code",
   "execution_count": 2,
   "metadata": {},
   "outputs": [
    {
     "data": {
      "text/plain": [
       "6"
      ]
     },
     "execution_count": 2,
     "metadata": {},
     "output_type": "execute_result"
    }
   ],
   "source": [
    "varlist = [\"Water body phosphate\",\n",
    "           \"Water body chlorophyll-a\",\n",
    "           \"Water body dissolved inorganic nitrogen (DIN)\",\n",
    "           \"Water body ammonium\",\n",
    "           \"Water body silicate\",\n",
    "\t       \"Water body dissolved oxygen concentration\"\n",
    "           ]\n",
    "\n",
    "varinfo2 = Dict(\n",
    "    \"Water body dissolved oxygen concentration\" => Dict(\n",
    "        # http://vocab.nerc.ac.uk/collection/P02/current/\n",
    "        \"search_keywords_urn\" => [\"SDN:P02::DOXY\"],\n",
    "        \"netcdf_units\" => \"umol/l\",\n",
    "        # http://cfconventions.org/Data/cf-standard-names/current/build/cf-standard-name-table.html\n",
    "        \"netcdf_standard_name\" => \"mole_concentration_of_dissolved_molecular_oxygen_in_sea_water\",\n",
    "        \"woa_depthr\" => [0.0, 5.0, 10.0, 15.0, 20.0, 25.0, 30.0, 35.0, 40.0, 45.0, 50.0, 55.0, 60.0, 65.0, 70.0, 75.0, 80.0, 85.0, 90.0, 95.0, 100.0, 125.0, 150.0, 175.0, 200.0, 225.0, 250.0, 275.0, 300.0, 325.0, 350.0, 375.0, 400.0, 425.0, 450.0, 475.0, 500.0, 550.0, 600.0, 650.0, 700.0, 750.0, 800.0, 850.0, 900.0, 950.0, 1000.0, 1050.0, 1100.0, 1150.0, 1200.0, 1250.0, 1300.0, 1350.0, 1400.0, 1450.0, 1500.0],\n",
    "        \"doi\" => \"https://doi.org/10.6092/yepr-1a13\", # Water body dissolved oxygen concentration\n",
    "    ),\n",
    "    \"Water body phosphate\" => Dict(\n",
    "        # http://vocab.nerc.ac.uk/collection/P02/current/\n",
    "        \"search_keywords_urn\" => [\"SDN:P02::PHOS\"],\n",
    "        \"netcdf_units\" => \"umol/l\",\n",
    "        # http://cfconventions.org/Data/cf-standard-names/current/build/cf-standard-name-table.html\n",
    "        \"netcdf_standard_name\" => \"moles_of_phosphate_per_unit_mass_in_sea_water\",\n",
    "        \"woa_depthr\" => [0.0, 5.0, 10.0, 15.0, 20.0, 25.0, 30.0, 35.0, 40.0, 45.0, 50.0, 55.0, 60.0, 65.0, 70.0, 75.0, 80.0, 85.0, 90.0, 95.0, 100.0, 125.0, 150.0, 175.0, 200.0, 225.0, 250.0, 275.0, 300.0, 325.0, 350.0, 375.0, 400.0, 425.0, 450.0, 475.0, 500.0, 550.0, 600.0, 650.0, 700.0, 750.0, 800.0],\n",
    "        \"doi\" => \"https://doi.org/10.6092/njj3-hk55\", # Water body phosphate\n",
    "    ),\n",
    "    \"Water body chlorophyll-a\" => Dict(\n",
    "        # http://vocab.nerc.ac.uk/collection/P02/current/\n",
    "        \"search_keywords_urn\" => [\"SDN:P02::CPWC\"],\n",
    "        \"netcdf_units\" => \"mg/m3\",\n",
    "        # http://cfconventions.org/Data/cf-standard-names/current/build/cf-standard-name-table.html\n",
    "        \"netcdf_standard_name\" => \"mass_concentration_of_chlorophyll_in_sea_water\",\n",
    "        \"doi\" => \"https://doi.org/10.6092/av67-qz53\", # Water body chlorophyll-a\n",
    "    ),\n",
    "    \"Water body ammonium\" => Dict(\n",
    "        # http://vocab.nerc.ac.uk/collection/P02/current/\n",
    "        \"search_keywords_urn\" => [\"SDN:P02::AMON\"],\n",
    "        \"netcdf_units\" => \"umol/l\",\n",
    "        # http://cfconventions.org/Data/cf-standard-names/current/build/cf-standard-name-table.html\n",
    "        \"netcdf_standard_name\" => \"mole_concentration_of_ammonium_in_sea_water\",\n",
    "        \"doi\" => \"https://doi.org/10.6092/av67-qz53\", # Ammonium\n",
    "    ),\n",
    "    \"Water body silicate\" => Dict(\n",
    "        # http://vocab.nerc.ac.uk/collection/P02/current/\n",
    "        \"search_keywords_urn\" => [\"SDN:P02::SLCA\"],\n",
    "        \"netcdf_units\" => \"umol/l\",\n",
    "        # http://cfconventions.org/Data/cf-standard-names/current/build/cf-standard-name-table.html\n",
    "        \"netcdf_standard_name\" => \"mole_concentration_of_silicate_in_sea_water\",\n",
    "        \"woa_depthr\" => [0.0, 5.0, 10.0, 15.0, 20.0, 25.0, 30.0, 35.0, 40.0, 45.0, 50.0, 55.0, 60.0, 65.0, 70.0, 75.0, 80.0, 85.0, 90.0, 95.0, 100.0, 125.0, 150.0, 175.0, 200.0, 225.0, 250.0, 275.0, 300.0, 325.0, 350.0, 375.0, 400.0, 425.0, 450.0, 475.0, 500.0, 550.0, 600.0, 650.0, 700.0, 750.0, 800.0],\n",
    "        \"doi\" => \"https://doi.org/10.6092/cyd3-ew67\", # Water body silicate\n",
    "    ),\n",
    "    \"Water body dissolved inorganic nitrogen (DIN)\" => Dict(\n",
    "        # http://vocab.nerc.ac.uk/collection/P02/current/\n",
    "        \"search_keywords_urn\" => [\"SDN:P02::TDIN\"],\n",
    "        \"netcdf_units\" => \"umol/l\",\n",
    "        # http://cfconventions.org/Data/cf-standard-names/current/build/cf-standard-name-table.html\n",
    "        \"netcdf_standard_name\" => \"mole_concentration_of_dissolved_inorganic_nitrogen_in_sea_water\",\n",
    "        \"doi\" => \"https://doi.org/10.6092/xjj3-7d14\", # Water body dissolved inorganic nitrogen (DIN)\n",
    "    )\n",
    ")\n",
    "\n",
    "\n",
    "nvar = length(varlist)"
   ]
  },
  {
   "cell_type": "markdown",
   "metadata": {},
   "source": [
    "## Get attributes from the Vocab server   \n",
    "We loop over the variables and extract the attributes, which are then saved to a text file (one per variable)."
   ]
  },
  {
   "cell_type": "code",
   "execution_count": 3,
   "metadata": {},
   "outputs": [
    {
     "name": "stderr",
     "output_type": "stream",
     "text": [
      "\u001b[36m\u001b[1m[ \u001b[22m\u001b[39m\u001b[36m\u001b[1mInfo: \u001b[22m\u001b[39mWorking on Water body phosphate\n",
      "\u001b[36m\u001b[1m[ \u001b[22m\u001b[39m\u001b[36m\u001b[1mInfo: \u001b[22m\u001b[39mWorking on Water body chlorophyll-a\n",
      "\u001b[36m\u001b[1m[ \u001b[22m\u001b[39m\u001b[36m\u001b[1mInfo: \u001b[22m\u001b[39mWorking on Water body dissolved inorganic nitrogen (DIN)\n",
      "\u001b[36m\u001b[1m[ \u001b[22m\u001b[39m\u001b[36m\u001b[1mInfo: \u001b[22m\u001b[39mWorking on Water body ammonium\n",
      "\u001b[36m\u001b[1m[ \u001b[22m\u001b[39m\u001b[36m\u001b[1mInfo: \u001b[22m\u001b[39mWorking on Water body silicate\n",
      "\u001b[36m\u001b[1m[ \u001b[22m\u001b[39m\u001b[36m\u001b[1mInfo: \u001b[22m\u001b[39mWorking on Water body dissolved oxygen concentration\n"
     ]
    }
   ],
   "source": [
    "for iii in 1:nvar\n",
    "    @info(\"Working on $(varlist[iii])\")\n",
    "    \n",
    "    P35 = Vocab.SDNCollection(\"P35\")\n",
    "    c = Vocab.findbylabel(P35,[varlist[iii]])[1]\n",
    "    parameter_keyword_urn = Vocab.notation(c)\n",
    "    \n",
    "    metadata = OrderedDict(\n",
    "        \"title\" => \"DIVAnd analysis of $(varlist[iii])\",\n",
    "        \"project\" => \"EMODNET-chemistry\",\n",
    "        \"institution_urn\" => \"SDN:EDMO::1579\",\n",
    "        \"production\" => \"University of Liège, GeoHydrodynamics and Environment Research\",\n",
    "        \"Author_e-mail\" => [\"Charles Troupin <ctroupin@uliege.be>\", \"Alexander Barth <A.Barth@uliege.be>\"],\n",
    "        \"source\" => \"Observations from EMODnet-Chemistry\",\n",
    "        \"comment\" => \"Monthly climatology\",\n",
    "        \"parameter_keyword_urn\" => parameter_keyword_urn,\n",
    "        \"search_keywords_urn\" => varinfo2[varlist[iii]][\"search_keywords_urn\"],\n",
    "        \"area_keywords_urn\" => [\"SDN:C19::9\", \"SDN:C19::1\", \"SDN:C19::3_3\", \"SDN:C19::2\", \"SDN:C19::1_2\", \"SDN:C19::3_1\"],\n",
    "        \"product_version\" => \"v2023\",\n",
    "        \"product_code\" => \"All Europeans Seas-$(varlist[iii])-v2023-ANA\",\n",
    "        \"bathymetry_source\" => \"The GEBCO Digital Atlas published by the British Oceanographic Data Centre on behalf of IOC and IHO, 2003\",\n",
    "        \"netcdf_standard_name\" => varinfo2[varlist[iii]][\"netcdf_standard_name\"],\n",
    "        \"netcdf_long_name\" => varlist[iii],\n",
    "        \"netcdf_units\" => varinfo2[varlist[iii]][\"netcdf_units\"],\n",
    "        \"acknowledgement\" => \"Aggregated data products are generated by EMODnet Chemistry under the support of DG MARE Call for Tenders EASME/EMFF/2016/006-lot4, EASME/2019/OP/0003-lot4.\",\n",
    "        \"documentation\" => \"https://doi.org/10.13120/fa5c704a-a5ea-4f60-91b5-2bf6a7aded45\",\n",
    "        \"doi\" => varinfo2[varlist[iii]][\"doi\"]\n",
    "    );\n",
    "    \n",
    "    fname = varlist[iii] * \"_monthly.nc\"\n",
    "    varname = varlist[iii]\n",
    "    deltalon = 0.25\n",
    "    deltalat = 0.25\n",
    "    lonr = -45.:deltalon:70.\n",
    "    latr = 24.:deltalat:83.\n",
    "    \n",
    "    # Get the attributes from the Vocab server    \n",
    "    ncglobalattrib, ncvarattrib = SDNMetadata(metadata,fname,varname,lonr,latr);\n",
    "\n",
    "    # Save the information in a text file\n",
    "    # The keys and values are separated by \"|\", but another separator can be used.\n",
    "    \n",
    "    open(joinpath(outputdir, \"ncglobalattrib_$(iii).txt\"), \"w\") do f\n",
    "        for (i, j) in ncglobalattrib\n",
    "            write(f, \"$i|$j\\n\")\n",
    "        end\n",
    "    end\n",
    "    \n",
    "    open(joinpath(outputdir, \"ncvarattrib_$(iii).txt\"), \"w\") do f\n",
    "        for (i, j) in ncvarattrib\n",
    "            write(f, \"$i|$j\\n\")\n",
    "        end\n",
    "    end\n",
    "    \n",
    "end"
   ]
  },
  {
   "cell_type": "markdown",
   "metadata": {},
   "source": [
    "## Reading\n",
    "The files generated in the previous step can be read as follows."
   ]
  },
  {
   "cell_type": "code",
   "execution_count": 6,
   "metadata": {},
   "outputs": [
    {
     "data": {
      "text/plain": [
       "read_attrib_file"
      ]
     },
     "execution_count": 6,
     "metadata": {},
     "output_type": "execute_result"
    }
   ],
   "source": [
    "\"\"\"\n",
    "Read the attributes from the text file storing the \n",
    "different key-value pairs.\n",
    "\"\"\"\n",
    "function read_attrib_file(filename::String, colsep::String=\"|\")::OrderedDict\n",
    "    ncattrib = OrderedDict{String,String}()\n",
    "    open(filename, \"r\") do fr\n",
    "        while !eof(fr)\n",
    "            line = readline(fr)\n",
    "            linesplit = split(line,colsep)\n",
    "            global key\n",
    "            if length(linesplit) == 2\n",
    "                key = String(linesplit[1]);\n",
    "                value = String(linesplit[2])\n",
    "                ncattrib[key] = value\n",
    "            elseif length(linesplit) == 1\n",
    "                ncattrib[key] = ncattrib[key] * linesplit[1]\n",
    "            else\n",
    "                @warn(\"There is a problem with the number of column in the text file\")\n",
    "                @show linesplit\n",
    "            end\n",
    "        end\n",
    "    end\n",
    "    return ncattrib\n",
    "end"
   ]
  },
  {
   "cell_type": "code",
   "execution_count": 9,
   "metadata": {
    "scrolled": true
   },
   "outputs": [
    {
     "name": "stderr",
     "output_type": "stream",
     "text": [
      "\u001b[33m\u001b[1m┌ \u001b[22m\u001b[39m\u001b[33m\u001b[1mWarning: \u001b[22m\u001b[39mThere is a problem with the number of column in the text file\n",
      "\u001b[33m\u001b[1m└ \u001b[22m\u001b[39m\u001b[90m@ Main In[6]:19\u001b[39m\n"
     ]
    },
    {
     "name": "stdout",
     "output_type": "stream",
     "text": [
      "linesplit = SubString{String}[\"area_keywords\", \"Arctic Ocean\", \"North Atlantic Ocean\", \"Black Sea\", \"Baltic Sea\", \"North Sea\", \"Mediterranean Sea\"]\n"
     ]
    },
    {
     "data": {
      "text/plain": [
       "OrderedDict{String, String} with 21 entries:\n",
       "  \"title\"                 => \"DIVAnd analysis of Water body phosphate\"\n",
       "  \"project\"               => \"EMODnet Chemistry\"\n",
       "  \"institution\"           => \"University of Liège, GeoHydrodynamics and Environ…\n",
       "  \"institution_urn\"       => \"SDN:EDMO::1579\"\n",
       "  \"production\"            => \"University of Liège, GeoHydrodynamics and Environ…\n",
       "  \"Author_e-mail\"         => \"Charles Troupin <ctroupin@uliege.be>, Alexander B…\n",
       "  \"source\"                => \"Observations from EMODnet-Chemistry\"\n",
       "  \"comment\"               => \"Monthly climatology\"\n",
       "  \"parameter_keyword\"     => \"Water body phosphate\"\n",
       "  \"parameter_keyword_urn\" => \"SDN:P35::EPC00007\"\n",
       "  \"search_keywords\"       => \"Phosphate concentration parameters in the water c…\n",
       "  \"search_keywords_urn\"   => \"SDN:P02::PHOS\"\n",
       "  \"area_keywords_urn\"     => \"SDN:C19::9, SDN:C19::1, SDN:C19::3_3, SDN:C19::2,…\n",
       "  \"product_code\"          => \"All Europeans Seas-Water body phosphate-v2023-ANA\"\n",
       "  \"product_version\"       => \"v2023\"\n",
       "  \"bathymetry_source\"     => \"The GEBCO Digital Atlas published by the British …\n",
       "  \"acknowledgement\"       => \"Aggregated data products are generated by EMODnet…\n",
       "  \"documentation\"         => \"https://doi.org/10.13120/fa5c704a-a5ea-4f60-91b5-…\n",
       "  \"doi\"                   => \"https://doi.org/10.6092/njj3-hk55\"\n",
       "  \"data_access\"           => \"https://emodnet.ec.europa.eu/geoviewer\"\n",
       "  \"WEB_visualisation\"     => \"https://emodnet.ec.europa.eu/geoviewer\""
      ]
     },
     "execution_count": 9,
     "metadata": {},
     "output_type": "execute_result"
    }
   ],
   "source": [
    "ncglobalattrib_read = read_attrib_file(joinpath(outputdir, \"ncglobalattrib_1.txt\"))"
   ]
  },
  {
   "cell_type": "code",
   "execution_count": 10,
   "metadata": {},
   "outputs": [
    {
     "data": {
      "text/plain": [
       "OrderedDict{String, String} with 3 entries:\n",
       "  \"units\"         => \"umol/l\"\n",
       "  \"standard_name\" => \"moles_of_phosphate_per_unit_mass_in_sea_water\"\n",
       "  \"long_name\"     => \"Water body phosphate\""
      ]
     },
     "execution_count": 10,
     "metadata": {},
     "output_type": "execute_result"
    }
   ],
   "source": [
    "ncvarattrib_read = read_attrib_file(joinpath(outputdir, \"ncvarattrib_1.txt\"))"
   ]
  }
 ],
 "metadata": {
  "@webio": {
   "lastCommId": null,
   "lastKernelId": null
  },
  "kernelspec": {
   "display_name": "Julia 1.11.2",
   "language": "julia",
   "name": "julia-1.11"
  },
  "language_info": {
   "file_extension": ".jl",
   "mimetype": "application/julia",
   "name": "julia",
   "version": "1.11.2"
  },
  "toc": {
   "base_numbering": 1,
   "nav_menu": {},
   "number_sections": true,
   "sideBar": true,
   "skip_h1_title": false,
   "title_cell": "Table of Contents",
   "title_sidebar": "Contents",
   "toc_cell": false,
   "toc_position": {},
   "toc_section_display": true,
   "toc_window_display": false
  }
 },
 "nbformat": 4,
 "nbformat_minor": 4
}
