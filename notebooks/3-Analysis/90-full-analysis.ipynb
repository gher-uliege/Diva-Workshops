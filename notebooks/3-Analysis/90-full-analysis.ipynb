{
 "cells": [
  {
   "cell_type": "markdown",
   "metadata": {
    "slideshow": {
     "slide_type": "slide"
    }
   },
   "source": [
    "# DIVAnd full analysis\n",
    "\n",
    "This notebook presents the different steps necessary for the creation of a climatology:\n",
    "1. ODV data reading.\n",
    "2. Extraction of bathymetry and creation of mask\n",
    "3. Data download from other sources and duplicate removal.\n",
    "4. Quality control.\n",
    "5. Parameter optimisation.\n",
    "6. Spatio-temporal interpolation with `DIVAnd`."
   ]
  },
  {
   "cell_type": "markdown",
   "metadata": {},
   "source": [
    "### Import packages"
   ]
  },
  {
   "cell_type": "code",
   "execution_count": 12,
   "metadata": {},
   "outputs": [],
   "source": [
    "using Pkg\n",
    "Pkg.update()"
   ]
  },
  {
   "cell_type": "code",
   "execution_count": 13,
   "metadata": {
    "slideshow": {
     "slide_type": "subslide"
    }
   },
   "outputs": [],
   "source": [
    "using NCDatasets\n",
    "using PhysOcean\n",
    "using DataStructures\n",
    "using DIVAnd\n",
    "using Dates\n",
    "using Statistics\n",
    "using Random\n",
    "using Printf\n",
    "using PyPlot\n",
    "include(\"../config.jl\")"
   ]
  },
  {
   "cell_type": "markdown",
   "metadata": {
    "slideshow": {
     "slide_type": "subslide"
    }
   },
   "source": [
    "## Configuration\n",
    "* Define the horizontal, vertical (depth levels) and temporal resolutions.\n",
    "* Select the variable of interest"
   ]
  },
  {
   "cell_type": "code",
   "execution_count": 3,
   "metadata": {
    "slideshow": {
     "slide_type": "subslide"
    }
   },
   "outputs": [],
   "source": [
    "dx, dy = 0.125, 0.125\n",
    "lonr = 11.5:dx:20\n",
    "latr = 39:dy:46\n",
    "timerange = [Date(1950,1,1),Date(2017,12,31)];\n",
    "\n",
    "depthr = [0.,5., 10., 15., 20., 25., 30., 40., 50., 66, \n",
    "    75, 85, 100, 112, 125, 135, 150, 175, 200, 225, 250, \n",
    "    275, 300, 350, 400, 450, 500, 550, 600, 650, 700, 750, \n",
    "    800, 850, 900, 950, 1000, 1050, 1100, 1150, 1200, 1250, \n",
    "    1300, 1350, 1400, 1450, 1500, 1600, 1750, 1850, 2000];\n",
    "depthr = [0.,10.,20.];"
   ]
  },
  {
   "cell_type": "code",
   "execution_count": 4,
   "metadata": {
    "slideshow": {
     "slide_type": "fragment"
    }
   },
   "outputs": [],
   "source": [
    "varname = \"Salinity\"\n",
    "yearlist = [1900:2017];\n",
    "monthlist = [[1,2,3],[4,5,6],[7,8,9],[10,11,12]];"
   ]
  },
  {
   "cell_type": "markdown",
   "metadata": {},
   "source": [
    "We create here the variable TS (for \"_time selector_\"), which allows us to work with the observations corresponding to each period of interest."
   ]
  },
  {
   "cell_type": "code",
   "execution_count": 5,
   "metadata": {
    "slideshow": {
     "slide_type": "subslide"
    }
   },
   "outputs": [],
   "source": [
    "TS = DIVAnd.TimeSelectorYearListMonthList(yearlist,monthlist);\n",
    "@show TS;"
   ]
  },
  {
   "cell_type": "markdown",
   "metadata": {
    "slideshow": {
     "slide_type": "slide"
    }
   },
   "source": [
    "## 1. Read your ODV file\n",
    "Adapt the `datadir` and `datafile` values.     \n",
    "The example is based on a sub-setting of the [Mediterranean Sea](https://www.seadatanet.org/Products#/metadata/cd552057-b604-4004-b838-a4f73cc98fcf) aggregated dataset.      \n",
    "The dataset has been extracted around the Adriatic Sea and exported to a netCDF using [Ocean Data View](https://odv.awi.de/).\n",
    "<img src=\"./Images/MedSeaAggreg.jpg\" width=\"450px\">"
   ]
  },
  {
   "cell_type": "markdown",
   "metadata": {},
   "source": [
    "Download the data files (test and full) if needed."
   ]
  },
  {
   "cell_type": "code",
   "execution_count": 6,
   "metadata": {
    "slideshow": {
     "slide_type": "fragment"
    }
   },
   "outputs": [],
   "source": [
    "datafile = adriaticfile\n",
    "download_check(datafile, adriaticfileURL)"
   ]
  },
  {
   "cell_type": "markdown",
   "metadata": {},
   "source": [
    "Read the data from the file"
   ]
  },
  {
   "cell_type": "code",
   "execution_count": 7,
   "metadata": {
    "slideshow": {
     "slide_type": "fragment"
    }
   },
   "outputs": [],
   "source": [
    "@time obsval,obslon,obslat,obsdepth,obstime,obsid = NCODV.load(Float64, datafile, \n",
    "    \"Water body salinity\");"
   ]
  },
  {
   "cell_type": "code",
   "execution_count": 8,
   "metadata": {
    "slideshow": {
     "slide_type": "subslide"
    }
   },
   "outputs": [],
   "source": [
    "figure(\"Adriatic-Data\")\n",
    "ax = subplot(1,1,1)\n",
    "plot(obslon, obslat, \"ko\", markersize=.1, markerfacecolor=\"k\")\n",
    "aspectratio = 1/cos(mean(latr) * pi/180)\n",
    "ax.tick_params(\"both\",labelsize=6)\n",
    "gca().set_aspect(aspectratio)"
   ]
  },
  {
   "cell_type": "markdown",
   "metadata": {
    "slideshow": {
     "slide_type": "subslide"
    }
   },
   "source": [
    "Check the extremal values of the observations"
   ]
  },
  {
   "cell_type": "code",
   "execution_count": 9,
   "metadata": {},
   "outputs": [],
   "source": [
    "checkobs((obslon,obslat,obsdepth,obstime),obsval,obsid)"
   ]
  },
  {
   "cell_type": "code",
   "execution_count": 11,
   "metadata": {},
   "outputs": [],
   "source": [
    "typeof(obstime)"
   ]
  },
  {
   "cell_type": "markdown",
   "metadata": {
    "slideshow": {
     "slide_type": "slide"
    }
   },
   "source": [
    "## 2. Extract the bathymetry\n",
    "It is used to delimit the domain where the interpolation is performed.\n",
    "\n",
    "### 2.1 Choice of bathymetry\n",
    "Modify `bathname` according to the resolution required."
   ]
  },
  {
   "cell_type": "code",
   "execution_count": 9,
   "metadata": {},
   "outputs": [
    {
     "name": "stderr",
     "output_type": "stream",
     "text": [
      "\u001b[36m\u001b[1m[ \u001b[22m\u001b[39m\u001b[36m\u001b[1mInfo: \u001b[22m\u001b[39mFile already downloaded\n"
     ]
    }
   ],
   "source": [
    "bathname = gebco08file\n",
    "download_check(bathname, gebco08fileURL)"
   ]
  },
  {
   "cell_type": "code",
   "execution_count": 10,
   "metadata": {
    "slideshow": {
     "slide_type": "fragment"
    }
   },
   "outputs": [
    {
     "name": "stdout",
     "output_type": "stream",
     "text": [
      "  1.367234 seconds (3.22 M allocations: 218.217 MiB, 3.45% gc time, 98.83% compilation time)\n"
     ]
    }
   ],
   "source": [
    "@time bx,by,b = load_bath(bathname,true,lonr,latr);"
   ]
  },
  {
   "cell_type": "code",
   "execution_count": 11,
   "metadata": {
    "slideshow": {
     "slide_type": "subslide"
    }
   },
   "outputs": [
    {
     "data": {
      "image/png": "[encoded data removed]",
      "text/plain": [
       "Figure(PyObject <Figure size 640x480 with 2 Axes>)"
      ]
     },
     "metadata": {},
     "output_type": "display_data"
    }
   ],
   "source": [
    "figure(\"Adriatic-Bathymetry\")\n",
    "ax = subplot(1,1,1)\n",
    "pcolor(bx, by, permutedims(b, [2,1]));\n",
    "colorbar(orientation=\"vertical\", shrink=0.8).ax.tick_params(labelsize=8)\n",
    "contour(bx, by, permutedims(b, [2,1]), [0, 0.1], colors=\"k\", linewidths=.5)\n",
    "gca().set_aspect(aspectratio)\n",
    "ax.tick_params(\"both\",labelsize=6)"
   ]
  },
  {
   "cell_type": "markdown",
   "metadata": {
    "slideshow": {
     "slide_type": "subslide"
    }
   },
   "source": [
    "### 2.2 Create mask\n",
    "* False for sea        \n",
    "* True for land"
   ]
  },
  {
   "cell_type": "code",
   "execution_count": 12,
   "metadata": {
    "slideshow": {
     "slide_type": "fragment"
    }
   },
   "outputs": [
    {
     "name": "stdout",
     "output_type": "stream",
     "text": [
      "size(mask) = (69, 57, 3)\n"
     ]
    },
    {
     "data": {
      "text/plain": [
       "(69, 57, 3)"
      ]
     },
     "execution_count": 12,
     "metadata": {},
     "output_type": "execute_result"
    }
   ],
   "source": [
    "mask = falses(size(b,1),size(b,2),length(depthr))\n",
    "for k = 1:length(depthr)\n",
    "    for j = 1:size(b,2)\n",
    "        for i = 1:size(b,1)\n",
    "            mask[i,j,k] = b[i,j] >= depthr[k]\n",
    "        end\n",
    "    end\n",
    "end\n",
    "@show size(mask)"
   ]
  },
  {
   "cell_type": "code",
   "execution_count": 13,
   "metadata": {
    "slideshow": {
     "slide_type": "subslide"
    }
   },
   "outputs": [
    {
     "data": {
      "image/png": "[encoded data removed]",
      "text/plain": [
       "Figure(PyObject <Figure size 640x480 with 1 Axes>)"
      ]
     },
     "metadata": {},
     "output_type": "display_data"
    },
    {
     "data": {
      "text/plain": [
       "PyObject Text(0.5, 1.0, 'Land-sea mask')"
      ]
     },
     "execution_count": 13,
     "metadata": {},
     "output_type": "execute_result"
    }
   ],
   "source": [
    "figure(\"Adriatic-Mask\")\n",
    "ax = subplot(1,1,1)\n",
    "gca().set_aspect(aspectratio)\n",
    "ax.tick_params(\"both\",labelsize=6)\n",
    "ax.pcolor(bx, by, transpose(mask[:,:,1]), cmap=PyPlot.cm.binary_r)\n",
    "ax.set_title(\"Land-sea mask\")"
   ]
  },
  {
   "cell_type": "markdown",
   "metadata": {
    "slideshow": {
     "slide_type": "subslide"
    }
   },
   "source": [
    "### 2.3 Edit the mask\n",
    "As an example we will remove the Tyrrhenian Sea from the domain."
   ]
  },
  {
   "cell_type": "code",
   "execution_count": 14,
   "metadata": {
    "slideshow": {
     "slide_type": "fragment"
    }
   },
   "outputs": [],
   "source": [
    "grid_bx = [i for i in bx, j in by];\n",
    "grid_by = [j for i in bx, j in by];"
   ]
  },
  {
   "cell_type": "code",
   "execution_count": 15,
   "metadata": {
    "slideshow": {
     "slide_type": "fragment"
    }
   },
   "outputs": [
    {
     "name": "stdout",
     "output_type": "stream",
     "text": [
      "size(mask_edit) = (69, 57, 3)\n"
     ]
    },
    {
     "data": {
      "text/plain": [
       "(69, 57, 3)"
      ]
     },
     "execution_count": 15,
     "metadata": {},
     "output_type": "execute_result"
    }
   ],
   "source": [
    "mask_edit = copy(mask);\n",
    "sel_mask1 = (grid_by .<= 42.6) .& (grid_bx .<= 14.);\n",
    "sel_mask2 = (grid_by .<= 41.2) .& (grid_bx .<= 16.2);\n",
    "mask_edit = mask_edit .* .!sel_mask1 .* .!sel_mask2;\n",
    "@show size(mask_edit)"
   ]
  },
  {
   "cell_type": "markdown",
   "metadata": {
    "slideshow": {
     "slide_type": "subslide"
    }
   },
   "source": [
    "The edited mask now looks like this:"
   ]
  },
  {
   "cell_type": "code",
   "execution_count": 16,
   "metadata": {
    "slideshow": {
     "slide_type": "fragment"
    }
   },
   "outputs": [
    {
     "data": {
      "image/png": "[encoded data removed]",
      "text/plain": [
       "Figure(PyObject <Figure size 640x480 with 1 Axes>)"
      ]
     },
     "metadata": {},
     "output_type": "display_data"
    }
   ],
   "source": [
    "figure(\"Adriatic-Mask-Edited\")\n",
    "ax = subplot(1,1,1)\n",
    "ax.tick_params(\"both\",labelsize=6)\n",
    "ax.pcolor(bx, by, mask_edit[:,:,1]', cmap=cmap=PyPlot.cm.binary_r)\n",
    "ax.set_title(\"Edited land-sea mask\")\n",
    "gca().set_aspect(aspectratio)"
   ]
  },
  {
   "cell_type": "markdown",
   "metadata": {
    "slideshow": {
     "slide_type": "slide"
    }
   },
   "source": [
    "## 3. Extract data from other sources\n",
    "As an illustration we use the World Ocean Database, among other possibilities."
   ]
  },
  {
   "cell_type": "markdown",
   "metadata": {
    "slideshow": {
     "slide_type": "subslide"
    }
   },
   "source": [
    "### 3.1 World Ocean Database"
   ]
  },
  {
   "cell_type": "code",
   "execution_count": 19,
   "metadata": {
    "slideshow": {
     "slide_type": "fragment"
    }
   },
   "outputs": [
    {
     "data": {
      "text/plain": [
       "\"../data/AdriaticTest/WOD/\""
      ]
     },
     "execution_count": 19,
     "metadata": {},
     "output_type": "execute_result"
    }
   ],
   "source": [
    "# Configuration\n",
    "if isfile(\"email.txt\")\n",
    "    email = strip(read(\"email.txt\" ,String));\n",
    "    print(\"getting email address from email.txt\");\n",
    "end\n",
    "# Or create the variable here:\n",
    "email = \"ctroupin@uliege.be\"\n",
    "\n",
    "woddatadir = joinpath(datadir, \"AdriaticTest/WOD/\")\n",
    "mkpath(woddatadir);\n",
    "woddatadir"
   ]
  },
  {
   "cell_type": "code",
   "execution_count": 20,
   "metadata": {
    "slideshow": {
     "slide_type": "fragment"
    }
   },
   "outputs": [
    {
     "name": "stderr",
     "output_type": "stream",
     "text": [
      "\u001b[36m\u001b[1m[ \u001b[22m\u001b[39m\u001b[36m\u001b[1mInfo: \u001b[22m\u001b[39mWaiting for extracted files\n",
      "\u001b[36m\u001b[1m[ \u001b[22m\u001b[39m\u001b[36m\u001b[1mInfo: \u001b[22m\u001b[39mhttps://www.ncei.noaa.gov/access/world-ocean-database-select/OCLdb_output/ocldb1711444698.21123.OSD.tar.gz is not yet available\n",
      "\u001b[36m\u001b[1m[ \u001b[22m\u001b[39m\u001b[36m\u001b[1mInfo: \u001b[22m\u001b[39mhttps://www.ncei.noaa.gov/access/world-ocean-database-select/OCLdb_output/ocldb1711444698.21123.CTD.tar.gz is not yet available\n",
      "\u001b[36m\u001b[1m[ \u001b[22m\u001b[39m\u001b[36m\u001b[1mInfo: \u001b[22m\u001b[39mhttps://www.ncei.noaa.gov/access/world-ocean-database-select/OCLdb_output/ocldb1711444698.21123.XBT.tar.gz is not yet available\n",
      "\u001b[36m\u001b[1m[ \u001b[22m\u001b[39m\u001b[36m\u001b[1mInfo: \u001b[22m\u001b[39mhttps://www.ncei.noaa.gov/access/world-ocean-database-select/OCLdb_output/ocldb1711444698.21123.MBT.tar.gz is not yet available\n",
      "\u001b[36m\u001b[1m[ \u001b[22m\u001b[39m\u001b[36m\u001b[1mInfo: \u001b[22m\u001b[39mhttps://www.ncei.noaa.gov/access/world-ocean-database-select/OCLdb_output/ocldb1711444698.21123.PFL.tar.gz is not yet available\n",
      "\u001b[36m\u001b[1m[ \u001b[22m\u001b[39m\u001b[36m\u001b[1mInfo: \u001b[22m\u001b[39mhttps://www.ncei.noaa.gov/access/world-ocean-database-select/OCLdb_output/ocldb1711444698.21123.DRB.tar.gz is not yet available\n",
      "\u001b[36m\u001b[1m[ \u001b[22m\u001b[39m\u001b[36m\u001b[1mInfo: \u001b[22m\u001b[39mhttps://www.ncei.noaa.gov/access/world-ocean-database-select/OCLdb_output/ocldb1711444698.21123.MRB.tar.gz is not yet available\n",
      "\u001b[36m\u001b[1m[ \u001b[22m\u001b[39m\u001b[36m\u001b[1mInfo: \u001b[22m\u001b[39mhttps://www.ncei.noaa.gov/access/world-ocean-database-select/OCLdb_output/ocldb1711444698.21123.APB.tar.gz is not yet available\n",
      "\u001b[36m\u001b[1m[ \u001b[22m\u001b[39m\u001b[36m\u001b[1mInfo: \u001b[22m\u001b[39mhttps://www.ncei.noaa.gov/access/world-ocean-database-select/OCLdb_output/ocldb1711444698.21123.UOR.tar.gz is not yet available\n",
      "\u001b[36m\u001b[1m[ \u001b[22m\u001b[39m\u001b[36m\u001b[1mInfo: \u001b[22m\u001b[39mhttps://www.ncei.noaa.gov/access/world-ocean-database-select/OCLdb_output/ocldb1711444698.21123.SUR.tar.gz is not yet available\n",
      "\u001b[36m\u001b[1m[ \u001b[22m\u001b[39m\u001b[36m\u001b[1mInfo: \u001b[22m\u001b[39mhttps://www.ncei.noaa.gov/access/world-ocean-database-select/OCLdb_output/ocldb1711444698.21123.GLD.tar.gz is not yet available\n",
      "\u001b[36m\u001b[1m[ \u001b[22m\u001b[39m\u001b[36m\u001b[1mInfo: \u001b[22m\u001b[39mhttps://www.ncei.noaa.gov/access/world-ocean-database-select/OCLdb_output/ocldb1711444698.21123.OSD.tar.gz is not yet available\n",
      "\u001b[36m\u001b[1m[ \u001b[22m\u001b[39m\u001b[36m\u001b[1mInfo: \u001b[22m\u001b[39mhttps://www.ncei.noaa.gov/access/world-ocean-database-select/OCLdb_output/ocldb1711444698.21123.CTD.tar.gz is not yet available\n",
      "\u001b[36m\u001b[1m[ \u001b[22m\u001b[39m\u001b[36m\u001b[1mInfo: \u001b[22m\u001b[39mhttps://www.ncei.noaa.gov/access/world-ocean-database-select/OCLdb_output/ocldb1711444698.21123.XBT.tar.gz is not yet available\n",
      "\u001b[36m\u001b[1m[ \u001b[22m\u001b[39m\u001b[36m\u001b[1mInfo: \u001b[22m\u001b[39mhttps://www.ncei.noaa.gov/access/world-ocean-database-select/OCLdb_output/ocldb1711444698.21123.MBT.tar.gz is not yet available\n",
      "\u001b[36m\u001b[1m[ \u001b[22m\u001b[39m\u001b[36m\u001b[1mInfo: \u001b[22m\u001b[39mhttps://www.ncei.noaa.gov/access/world-ocean-database-select/OCLdb_output/ocldb1711444698.21123.PFL.tar.gz is not yet available\n",
      "\u001b[36m\u001b[1m[ \u001b[22m\u001b[39m\u001b[36m\u001b[1mInfo: \u001b[22m\u001b[39mhttps://www.ncei.noaa.gov/access/world-ocean-database-select/OCLdb_output/ocldb1711444698.21123.DRB.tar.gz is not yet available\n",
      "\u001b[36m\u001b[1m[ \u001b[22m\u001b[39m\u001b[36m\u001b[1mInfo: \u001b[22m\u001b[39mhttps://www.ncei.noaa.gov/access/world-ocean-database-select/OCLdb_output/ocldb1711444698.21123.MRB.tar.gz is not yet available\n",
      "\u001b[36m\u001b[1m[ \u001b[22m\u001b[39m\u001b[36m\u001b[1mInfo: \u001b[22m\u001b[39mhttps://www.ncei.noaa.gov/access/world-ocean-database-select/OCLdb_output/ocldb1711444698.21123.APB.tar.gz is not yet available\n",
      "\u001b[36m\u001b[1m[ \u001b[22m\u001b[39m\u001b[36m\u001b[1mInfo: \u001b[22m\u001b[39mhttps://www.ncei.noaa.gov/access/world-ocean-database-select/OCLdb_output/ocldb1711444698.21123.UOR.tar.gz is not yet available\n",
      "\u001b[36m\u001b[1m[ \u001b[22m\u001b[39m\u001b[36m\u001b[1mInfo: \u001b[22m\u001b[39mhttps://www.ncei.noaa.gov/access/world-ocean-database-select/OCLdb_output/ocldb1711444698.21123.SUR.tar.gz is not yet available\n",
      "\u001b[36m\u001b[1m[ \u001b[22m\u001b[39m\u001b[36m\u001b[1mInfo: \u001b[22m\u001b[39mhttps://www.ncei.noaa.gov/access/world-ocean-database-select/OCLdb_output/ocldb1711444698.21123.GLD.tar.gz is not yet available\n",
      "\u001b[36m\u001b[1m[ \u001b[22m\u001b[39m\u001b[36m\u001b[1mInfo: \u001b[22m\u001b[39mhttps://www.ncei.noaa.gov/access/world-ocean-database-select/OCLdb_output/ocldb1711444698.21123.OSD.tar.gz is not yet available\n",
      "\u001b[36m\u001b[1m[ \u001b[22m\u001b[39m\u001b[36m\u001b[1mInfo: \u001b[22m\u001b[39mhttps://www.ncei.noaa.gov/access/world-ocean-database-select/OCLdb_output/ocldb1711444698.21123.CTD.tar.gz is not yet available\n",
      "\u001b[36m\u001b[1m[ \u001b[22m\u001b[39m\u001b[36m\u001b[1mInfo: \u001b[22m\u001b[39mhttps://www.ncei.noaa.gov/access/world-ocean-database-select/OCLdb_output/ocldb1711444698.21123.XBT.tar.gz is not yet available\n",
      "\u001b[36m\u001b[1m[ \u001b[22m\u001b[39m\u001b[36m\u001b[1mInfo: \u001b[22m\u001b[39mhttps://www.ncei.noaa.gov/access/world-ocean-database-select/OCLdb_output/ocldb1711444698.21123.MBT.tar.gz is not yet available\n",
      "\u001b[36m\u001b[1m[ \u001b[22m\u001b[39m\u001b[36m\u001b[1mInfo: \u001b[22m\u001b[39mhttps://www.ncei.noaa.gov/access/world-ocean-database-select/OCLdb_output/ocldb1711444698.21123.PFL.tar.gz is not yet available\n",
      "\u001b[36m\u001b[1m[ \u001b[22m\u001b[39m\u001b[36m\u001b[1mInfo: \u001b[22m\u001b[39mhttps://www.ncei.noaa.gov/access/world-ocean-database-select/OCLdb_output/ocldb1711444698.21123.DRB.tar.gz is not yet available\n",
      "\u001b[36m\u001b[1m[ \u001b[22m\u001b[39m\u001b[36m\u001b[1mInfo: \u001b[22m\u001b[39mhttps://www.ncei.noaa.gov/access/world-ocean-database-select/OCLdb_output/ocldb1711444698.21123.MRB.tar.gz is not yet available\n",
      "\u001b[36m\u001b[1m[ \u001b[22m\u001b[39m\u001b[36m\u001b[1mInfo: \u001b[22m\u001b[39mhttps://www.ncei.noaa.gov/access/world-ocean-database-select/OCLdb_output/ocldb1711444698.21123.APB.tar.gz is not yet available\n",
      "\u001b[36m\u001b[1m[ \u001b[22m\u001b[39m\u001b[36m\u001b[1mInfo: \u001b[22m\u001b[39mhttps://www.ncei.noaa.gov/access/world-ocean-database-select/OCLdb_output/ocldb1711444698.21123.UOR.tar.gz is not yet available\n",
      "\u001b[36m\u001b[1m[ \u001b[22m\u001b[39m\u001b[36m\u001b[1mInfo: \u001b[22m\u001b[39mhttps://www.ncei.noaa.gov/access/world-ocean-database-select/OCLdb_output/ocldb1711444698.21123.SUR.tar.gz is not yet available\n",
      "\u001b[36m\u001b[1m[ \u001b[22m\u001b[39m\u001b[36m\u001b[1mInfo: \u001b[22m\u001b[39mhttps://www.ncei.noaa.gov/access/world-ocean-database-select/OCLdb_output/ocldb1711444698.21123.GLD.tar.gz is not yet available\n",
      "\u001b[36m\u001b[1m[ \u001b[22m\u001b[39m\u001b[36m\u001b[1mInfo: \u001b[22m\u001b[39mhttps://www.ncei.noaa.gov/access/world-ocean-database-select/OCLdb_output/ocldb1711444698.21123.OSD.tar.gz is not yet available\n",
      "\u001b[36m\u001b[1m[ \u001b[22m\u001b[39m\u001b[36m\u001b[1mInfo: \u001b[22m\u001b[39mhttps://www.ncei.noaa.gov/access/world-ocean-database-select/OCLdb_output/ocldb1711444698.21123.CTD.tar.gz is not yet available\n",
      "\u001b[36m\u001b[1m[ \u001b[22m\u001b[39m\u001b[36m\u001b[1mInfo: \u001b[22m\u001b[39mhttps://www.ncei.noaa.gov/access/world-ocean-database-select/OCLdb_output/ocldb1711444698.21123.XBT.tar.gz is not yet available\n",
      "\u001b[36m\u001b[1m[ \u001b[22m\u001b[39m\u001b[36m\u001b[1mInfo: \u001b[22m\u001b[39mhttps://www.ncei.noaa.gov/access/world-ocean-database-select/OCLdb_output/ocldb1711444698.21123.MBT.tar.gz is not yet available\n",
      "\u001b[36m\u001b[1m[ \u001b[22m\u001b[39m\u001b[36m\u001b[1mInfo: \u001b[22m\u001b[39mhttps://www.ncei.noaa.gov/access/world-ocean-database-select/OCLdb_output/ocldb1711444698.21123.PFL.tar.gz is not yet available\n",
      "\u001b[36m\u001b[1m[ \u001b[22m\u001b[39m\u001b[36m\u001b[1mInfo: \u001b[22m\u001b[39mhttps://www.ncei.noaa.gov/access/world-ocean-database-select/OCLdb_output/ocldb1711444698.21123.DRB.tar.gz is not yet available\n",
      "\u001b[36m\u001b[1m[ \u001b[22m\u001b[39m\u001b[36m\u001b[1mInfo: \u001b[22m\u001b[39mhttps://www.ncei.noaa.gov/access/world-ocean-database-select/OCLdb_output/ocldb1711444698.21123.MRB.tar.gz is not yet available\n",
      "\u001b[36m\u001b[1m[ \u001b[22m\u001b[39m\u001b[36m\u001b[1mInfo: \u001b[22m\u001b[39mhttps://www.ncei.noaa.gov/access/world-ocean-database-select/OCLdb_output/ocldb1711444698.21123.APB.tar.gz is not yet available\n",
      "\u001b[36m\u001b[1m[ \u001b[22m\u001b[39m\u001b[36m\u001b[1mInfo: \u001b[22m\u001b[39mhttps://www.ncei.noaa.gov/access/world-ocean-database-select/OCLdb_output/ocldb1711444698.21123.UOR.tar.gz is not yet available\n",
      "\u001b[36m\u001b[1m[ \u001b[22m\u001b[39m\u001b[36m\u001b[1mInfo: \u001b[22m\u001b[39mhttps://www.ncei.noaa.gov/access/world-ocean-database-select/OCLdb_output/ocldb1711444698.21123.SUR.tar.gz is not yet available\n",
      "\u001b[36m\u001b[1m[ \u001b[22m\u001b[39m\u001b[36m\u001b[1mInfo: \u001b[22m\u001b[39mhttps://www.ncei.noaa.gov/access/world-ocean-database-select/OCLdb_output/ocldb1711444698.21123.GLD.tar.gz is not yet available\n",
      "\u001b[36m\u001b[1m[ \u001b[22m\u001b[39m\u001b[36m\u001b[1mInfo: \u001b[22m\u001b[39mhttps://www.ncei.noaa.gov/access/world-ocean-database-select/OCLdb_output/ocldb1711444698.21123.OSD.tar.gz is not yet available\n",
      "\u001b[36m\u001b[1m[ \u001b[22m\u001b[39m\u001b[36m\u001b[1mInfo: \u001b[22m\u001b[39mhttps://www.ncei.noaa.gov/access/world-ocean-database-select/OCLdb_output/ocldb1711444698.21123.CTD.tar.gz is not yet available\n",
      "\u001b[36m\u001b[1m[ \u001b[22m\u001b[39m\u001b[36m\u001b[1mInfo: \u001b[22m\u001b[39mhttps://www.ncei.noaa.gov/access/world-ocean-database-select/OCLdb_output/ocldb1711444698.21123.XBT.tar.gz is not yet available\n"
     ]
    },
    {
     "name": "stderr",
     "output_type": "stream",
     "text": [
      "\u001b[36m\u001b[1m[ \u001b[22m\u001b[39m\u001b[36m\u001b[1mInfo: \u001b[22m\u001b[39mhttps://www.ncei.noaa.gov/access/world-ocean-database-select/OCLdb_output/ocldb1711444698.21123.MBT.tar.gz is not yet available\n",
      "\u001b[36m\u001b[1m[ \u001b[22m\u001b[39m\u001b[36m\u001b[1mInfo: \u001b[22m\u001b[39mhttps://www.ncei.noaa.gov/access/world-ocean-database-select/OCLdb_output/ocldb1711444698.21123.PFL.tar.gz is not yet available\n",
      "\u001b[36m\u001b[1m[ \u001b[22m\u001b[39m\u001b[36m\u001b[1mInfo: \u001b[22m\u001b[39mhttps://www.ncei.noaa.gov/access/world-ocean-database-select/OCLdb_output/ocldb1711444698.21123.DRB.tar.gz is not yet available\n",
      "\u001b[36m\u001b[1m[ \u001b[22m\u001b[39m\u001b[36m\u001b[1mInfo: \u001b[22m\u001b[39mhttps://www.ncei.noaa.gov/access/world-ocean-database-select/OCLdb_output/ocldb1711444698.21123.MRB.tar.gz is not yet available\n",
      "\u001b[36m\u001b[1m[ \u001b[22m\u001b[39m\u001b[36m\u001b[1mInfo: \u001b[22m\u001b[39mhttps://www.ncei.noaa.gov/access/world-ocean-database-select/OCLdb_output/ocldb1711444698.21123.APB.tar.gz is not yet available\n",
      "\u001b[36m\u001b[1m[ \u001b[22m\u001b[39m\u001b[36m\u001b[1mInfo: \u001b[22m\u001b[39mhttps://www.ncei.noaa.gov/access/world-ocean-database-select/OCLdb_output/ocldb1711444698.21123.UOR.tar.gz is not yet available\n",
      "\u001b[36m\u001b[1m[ \u001b[22m\u001b[39m\u001b[36m\u001b[1mInfo: \u001b[22m\u001b[39mhttps://www.ncei.noaa.gov/access/world-ocean-database-select/OCLdb_output/ocldb1711444698.21123.SUR.tar.gz is not yet available\n",
      "\u001b[36m\u001b[1m[ \u001b[22m\u001b[39m\u001b[36m\u001b[1mInfo: \u001b[22m\u001b[39mhttps://www.ncei.noaa.gov/access/world-ocean-database-select/OCLdb_output/ocldb1711444698.21123.GLD.tar.gz is not yet available\n",
      "\u001b[36m\u001b[1m[ \u001b[22m\u001b[39m\u001b[36m\u001b[1mInfo: \u001b[22m\u001b[39mhttps://www.ncei.noaa.gov/access/world-ocean-database-select/OCLdb_output/ocldb1711444698.21123.OSD.tar.gz is not yet available\n",
      "\u001b[36m\u001b[1m[ \u001b[22m\u001b[39m\u001b[36m\u001b[1mInfo: \u001b[22m\u001b[39mhttps://www.ncei.noaa.gov/access/world-ocean-database-select/OCLdb_output/ocldb1711444698.21123.CTD.tar.gz is not yet available\n",
      "\u001b[36m\u001b[1m[ \u001b[22m\u001b[39m\u001b[36m\u001b[1mInfo: \u001b[22m\u001b[39mhttps://www.ncei.noaa.gov/access/world-ocean-database-select/OCLdb_output/ocldb1711444698.21123.XBT.tar.gz is not yet available\n",
      "\u001b[36m\u001b[1m[ \u001b[22m\u001b[39m\u001b[36m\u001b[1mInfo: \u001b[22m\u001b[39mhttps://www.ncei.noaa.gov/access/world-ocean-database-select/OCLdb_output/ocldb1711444698.21123.MBT.tar.gz is not yet available\n",
      "\u001b[36m\u001b[1m[ \u001b[22m\u001b[39m\u001b[36m\u001b[1mInfo: \u001b[22m\u001b[39mhttps://www.ncei.noaa.gov/access/world-ocean-database-select/OCLdb_output/ocldb1711444698.21123.PFL.tar.gz is not yet available\n",
      "\u001b[36m\u001b[1m[ \u001b[22m\u001b[39m\u001b[36m\u001b[1mInfo: \u001b[22m\u001b[39mhttps://www.ncei.noaa.gov/access/world-ocean-database-select/OCLdb_output/ocldb1711444698.21123.DRB.tar.gz is not yet available\n",
      "\u001b[36m\u001b[1m[ \u001b[22m\u001b[39m\u001b[36m\u001b[1mInfo: \u001b[22m\u001b[39mhttps://www.ncei.noaa.gov/access/world-ocean-database-select/OCLdb_output/ocldb1711444698.21123.MRB.tar.gz is not yet available\n",
      "\u001b[36m\u001b[1m[ \u001b[22m\u001b[39m\u001b[36m\u001b[1mInfo: \u001b[22m\u001b[39mhttps://www.ncei.noaa.gov/access/world-ocean-database-select/OCLdb_output/ocldb1711444698.21123.APB.tar.gz is not yet available\n",
      "\u001b[36m\u001b[1m[ \u001b[22m\u001b[39m\u001b[36m\u001b[1mInfo: \u001b[22m\u001b[39mhttps://www.ncei.noaa.gov/access/world-ocean-database-select/OCLdb_output/ocldb1711444698.21123.UOR.tar.gz is not yet available\n",
      "\u001b[36m\u001b[1m[ \u001b[22m\u001b[39m\u001b[36m\u001b[1mInfo: \u001b[22m\u001b[39mhttps://www.ncei.noaa.gov/access/world-ocean-database-select/OCLdb_output/ocldb1711444698.21123.SUR.tar.gz is not yet available\n",
      "\u001b[36m\u001b[1m[ \u001b[22m\u001b[39m\u001b[36m\u001b[1mInfo: \u001b[22m\u001b[39mhttps://www.ncei.noaa.gov/access/world-ocean-database-select/OCLdb_output/ocldb1711444698.21123.GLD.tar.gz is not yet available\n",
      "\u001b[36m\u001b[1m[ \u001b[22m\u001b[39m\u001b[36m\u001b[1mInfo: \u001b[22m\u001b[39mhttps://www.ncei.noaa.gov/access/world-ocean-database-select/OCLdb_output/ocldb1711444698.21123.OSD.tar.gz is not yet available\n",
      "\u001b[36m\u001b[1m[ \u001b[22m\u001b[39m\u001b[36m\u001b[1mInfo: \u001b[22m\u001b[39mhttps://www.ncei.noaa.gov/access/world-ocean-database-select/OCLdb_output/ocldb1711444698.21123.CTD.tar.gz is not yet available\n",
      "\u001b[36m\u001b[1m[ \u001b[22m\u001b[39m\u001b[36m\u001b[1mInfo: \u001b[22m\u001b[39mhttps://www.ncei.noaa.gov/access/world-ocean-database-select/OCLdb_output/ocldb1711444698.21123.XBT.tar.gz is not yet available\n",
      "\u001b[36m\u001b[1m[ \u001b[22m\u001b[39m\u001b[36m\u001b[1mInfo: \u001b[22m\u001b[39mhttps://www.ncei.noaa.gov/access/world-ocean-database-select/OCLdb_output/ocldb1711444698.21123.MBT.tar.gz is not yet available\n",
      "\u001b[36m\u001b[1m[ \u001b[22m\u001b[39m\u001b[36m\u001b[1mInfo: \u001b[22m\u001b[39mhttps://www.ncei.noaa.gov/access/world-ocean-database-select/OCLdb_output/ocldb1711444698.21123.PFL.tar.gz is not yet available\n",
      "\u001b[36m\u001b[1m[ \u001b[22m\u001b[39m\u001b[36m\u001b[1mInfo: \u001b[22m\u001b[39mhttps://www.ncei.noaa.gov/access/world-ocean-database-select/OCLdb_output/ocldb1711444698.21123.DRB.tar.gz is not yet available\n",
      "\u001b[36m\u001b[1m[ \u001b[22m\u001b[39m\u001b[36m\u001b[1mInfo: \u001b[22m\u001b[39mhttps://www.ncei.noaa.gov/access/world-ocean-database-select/OCLdb_output/ocldb1711444698.21123.MRB.tar.gz is not yet available\n",
      "\u001b[36m\u001b[1m[ \u001b[22m\u001b[39m\u001b[36m\u001b[1mInfo: \u001b[22m\u001b[39mhttps://www.ncei.noaa.gov/access/world-ocean-database-select/OCLdb_output/ocldb1711444698.21123.APB.tar.gz is not yet available\n",
      "\u001b[36m\u001b[1m[ \u001b[22m\u001b[39m\u001b[36m\u001b[1mInfo: \u001b[22m\u001b[39mhttps://www.ncei.noaa.gov/access/world-ocean-database-select/OCLdb_output/ocldb1711444698.21123.UOR.tar.gz is not yet available\n",
      "\u001b[36m\u001b[1m[ \u001b[22m\u001b[39m\u001b[36m\u001b[1mInfo: \u001b[22m\u001b[39mhttps://www.ncei.noaa.gov/access/world-ocean-database-select/OCLdb_output/ocldb1711444698.21123.SUR.tar.gz is not yet available\n",
      "\u001b[36m\u001b[1m[ \u001b[22m\u001b[39m\u001b[36m\u001b[1mInfo: \u001b[22m\u001b[39mhttps://www.ncei.noaa.gov/access/world-ocean-database-select/OCLdb_output/ocldb1711444698.21123.GLD.tar.gz is not yet available\n"
     ]
    },
    {
     "name": "stdout",
     "output_type": "stream",
     "text": [
      "OSD is now available\n",
      "CTD is now available\n"
     ]
    },
    {
     "name": "stderr",
     "output_type": "stream",
     "text": [
      "\u001b[36m\u001b[1m[ \u001b[22m\u001b[39m\u001b[36m\u001b[1mInfo: \u001b[22m\u001b[39mhttps://www.ncei.noaa.gov/access/world-ocean-database-select/OCLdb_output/ocldb1711444698.21123.XBT.tar.gz is not yet available\n",
      "\u001b[36m\u001b[1m[ \u001b[22m\u001b[39m\u001b[36m\u001b[1mInfo: \u001b[22m\u001b[39mhttps://www.ncei.noaa.gov/access/world-ocean-database-select/OCLdb_output/ocldb1711444698.21123.MBT.tar.gz is not yet available\n"
     ]
    },
    {
     "name": "stdout",
     "output_type": "stream",
     "text": [
      "PFL is now available\n"
     ]
    },
    {
     "name": "stderr",
     "output_type": "stream",
     "text": [
      "\u001b[36m\u001b[1m[ \u001b[22m\u001b[39m\u001b[36m\u001b[1mInfo: \u001b[22m\u001b[39mhttps://www.ncei.noaa.gov/access/world-ocean-database-select/OCLdb_output/ocldb1711444698.21123.DRB.tar.gz is not yet available\n"
     ]
    },
    {
     "name": "stdout",
     "output_type": "stream",
     "text": [
      "MRB is now available\n"
     ]
    },
    {
     "name": "stderr",
     "output_type": "stream",
     "text": [
      "\u001b[36m\u001b[1m[ \u001b[22m\u001b[39m\u001b[36m\u001b[1mInfo: \u001b[22m\u001b[39mhttps://www.ncei.noaa.gov/access/world-ocean-database-select/OCLdb_output/ocldb1711444698.21123.APB.tar.gz is not yet available\n",
      "\u001b[36m\u001b[1m[ \u001b[22m\u001b[39m\u001b[36m\u001b[1mInfo: \u001b[22m\u001b[39mhttps://www.ncei.noaa.gov/access/world-ocean-database-select/OCLdb_output/ocldb1711444698.21123.UOR.tar.gz is not yet available\n",
      "\u001b[36m\u001b[1m[ \u001b[22m\u001b[39m\u001b[36m\u001b[1mInfo: \u001b[22m\u001b[39mhttps://www.ncei.noaa.gov/access/world-ocean-database-select/OCLdb_output/ocldb1711444698.21123.SUR.tar.gz is not yet available\n"
     ]
    },
    {
     "name": "stdout",
     "output_type": "stream",
     "text": [
      "GLD is now available\n"
     ]
    },
    {
     "name": "stderr",
     "output_type": "stream",
     "text": [
      "\u001b[36m\u001b[1m[ \u001b[22m\u001b[39m\u001b[36m\u001b[1mInfo: \u001b[22m\u001b[39mhttps://www.ncei.noaa.gov/access/world-ocean-database-select/OCLdb_output/ocldb1711444698.21123.XBT.tar.gz is not yet available\n",
      "\u001b[36m\u001b[1m[ \u001b[22m\u001b[39m\u001b[36m\u001b[1mInfo: \u001b[22m\u001b[39mhttps://www.ncei.noaa.gov/access/world-ocean-database-select/OCLdb_output/ocldb1711444698.21123.MBT.tar.gz is not yet available\n",
      "\u001b[36m\u001b[1m[ \u001b[22m\u001b[39m\u001b[36m\u001b[1mInfo: \u001b[22m\u001b[39mhttps://www.ncei.noaa.gov/access/world-ocean-database-select/OCLdb_output/ocldb1711444698.21123.DRB.tar.gz is not yet available\n",
      "\u001b[36m\u001b[1m[ \u001b[22m\u001b[39m\u001b[36m\u001b[1mInfo: \u001b[22m\u001b[39mhttps://www.ncei.noaa.gov/access/world-ocean-database-select/OCLdb_output/ocldb1711444698.21123.APB.tar.gz is not yet available\n",
      "\u001b[36m\u001b[1m[ \u001b[22m\u001b[39m\u001b[36m\u001b[1mInfo: \u001b[22m\u001b[39mhttps://www.ncei.noaa.gov/access/world-ocean-database-select/OCLdb_output/ocldb1711444698.21123.UOR.tar.gz is not yet available\n",
      "\u001b[36m\u001b[1m[ \u001b[22m\u001b[39m\u001b[36m\u001b[1mInfo: \u001b[22m\u001b[39mhttps://www.ncei.noaa.gov/access/world-ocean-database-select/OCLdb_output/ocldb1711444698.21123.SUR.tar.gz is not yet available\n",
      "\u001b[36m\u001b[1m[ \u001b[22m\u001b[39m\u001b[36m\u001b[1mInfo: \u001b[22m\u001b[39mhttps://www.ncei.noaa.gov/access/world-ocean-database-select/OCLdb_output/ocldb1711444698.21123.OSD.tar.gz downloaded\n",
      "\u001b[36m\u001b[1m[ \u001b[22m\u001b[39m\u001b[36m\u001b[1mInfo: \u001b[22m\u001b[39mhttps://www.ncei.noaa.gov/access/world-ocean-database-select/OCLdb_output/ocldb1711444698.21123.CTD.tar.gz downloaded\n",
      "\u001b[36m\u001b[1m[ \u001b[22m\u001b[39m\u001b[36m\u001b[1mInfo: \u001b[22m\u001b[39mhttps://www.ncei.noaa.gov/access/world-ocean-database-select/OCLdb_output/ocldb1711444698.21123.PFL.tar.gz downloaded\n",
      "\u001b[36m\u001b[1m[ \u001b[22m\u001b[39m\u001b[36m\u001b[1mInfo: \u001b[22m\u001b[39mhttps://www.ncei.noaa.gov/access/world-ocean-database-select/OCLdb_output/ocldb1711444698.21123.MRB.tar.gz downloaded\n",
      "\u001b[36m\u001b[1m[ \u001b[22m\u001b[39m\u001b[36m\u001b[1mInfo: \u001b[22m\u001b[39mhttps://www.ncei.noaa.gov/access/world-ocean-database-select/OCLdb_output/ocldb1711444698.21123.GLD.tar.gz downloaded\n",
      "\u001b[36m\u001b[1m[ \u001b[22m\u001b[39m\u001b[36m\u001b[1mInfo: \u001b[22m\u001b[39mExtracting ../data/AdriaticTest/WOD/ocldb1711444698.21123.OSD.tar.gz to ../data/AdriaticTest/WOD/OSD\n",
      "\u001b[36m\u001b[1m[ \u001b[22m\u001b[39m\u001b[36m\u001b[1mInfo: \u001b[22m\u001b[39mExtracting ../data/AdriaticTest/WOD/ocldb1711444698.21123.CTD.tar.gz to ../data/AdriaticTest/WOD/CTD\n",
      "\u001b[36m\u001b[1m[ \u001b[22m\u001b[39m\u001b[36m\u001b[1mInfo: \u001b[22m\u001b[39mExtracting ../data/AdriaticTest/WOD/ocldb1711444698.21123.PFL.tar.gz to ../data/AdriaticTest/WOD/PFL\n",
      "\u001b[36m\u001b[1m[ \u001b[22m\u001b[39m\u001b[36m\u001b[1mInfo: \u001b[22m\u001b[39mExtracting ../data/AdriaticTest/WOD/ocldb1711444698.21123.MRB.tar.gz to ../data/AdriaticTest/WOD/MRB\n",
      "\u001b[36m\u001b[1m[ \u001b[22m\u001b[39m\u001b[36m\u001b[1mInfo: \u001b[22m\u001b[39mExtracting ../data/AdriaticTest/WOD/ocldb1711444698.21123.GLD.tar.gz to ../data/AdriaticTest/WOD/GLD\n"
     ]
    }
   ],
   "source": [
    "# Uncomment the next line if you have to download the data\n",
    "WorldOceanDatabase.download(lonr,latr,timerange,varname,email,woddatadir);"
   ]
  },
  {
   "cell_type": "markdown",
   "metadata": {},
   "source": [
    "The following will download an example file and extract its content in `Diva-Workshops/notebooks/3-Analysis/Adriatic`. \n",
    "If this fails, the data has to be downloaded manuary (in [zip format](https://dox.uliege.be/index.php/s/Px6r7MPlpXAePB2) or [tar.gz format](https://dox.uliege.be/index.php/s/Px6r7MPlpXAePB2))\n",
    "\n",
    "Make sure to have a file at the path `Diva-Workshops/notebooks/3-Analysis/Adriatic/WOD/GLD/ocldb1560025519.12915.GLD.nc`.\n"
   ]
  },
  {
   "cell_type": "code",
   "execution_count": 6,
   "metadata": {},
   "outputs": [
    {
     "name": "stderr",
     "output_type": "stream",
     "text": [
      "\u001b[33m\u001b[1m┌ \u001b[22m\u001b[39m\u001b[33m\u001b[1mWarning: \u001b[22m\u001b[39mPlease decompress the file manually\n",
      "\u001b[33m\u001b[1m└ \u001b[22m\u001b[39m\u001b[90m@ Main In[6]:7\u001b[39m\n"
     ]
    }
   ],
   "source": [
    "wod_all_data_filename = download(\"https://dox.uliege.be/index.php/s/Px6r7MPlpXAePB2/download\")\n",
    "PhysOcean.WorldOceanDatabase.extracttar(wod_all_data_filename,\"Adriatic\")\n",
    "\n",
    "if isfile(joinpath(woddatadir,\"GLD\",\"ocldb1560025519.12915.GLD.nc\"))\n",
    "    @info(\"Files have been sucessfully decompressed\")\n",
    "else\n",
    "    @warn(\"Please decompress the file manually\")\n",
    "end"
   ]
  },
  {
   "cell_type": "markdown",
   "metadata": {
    "slideshow": {
     "slide_type": "subslide"
    }
   },
   "source": [
    "⌛⌛         \n",
    "Read the data. This can also take up to a few minutes, depending on the size of the domain.\n",
    "\n",
    "⚠️ The WOD observations IDs have to be modified in order to be ingested by the XML generation (Step 9): to this end, we add the EDMO code of the U.S. NODC, which is 1977."
   ]
  },
  {
   "cell_type": "code",
   "execution_count": 21,
   "metadata": {
    "slideshow": {
     "slide_type": "fragment"
    }
   },
   "outputs": [
    {
     "name": "stderr",
     "output_type": "stream",
     "text": [
      "\u001b[36m\u001b[1m[ \u001b[22m\u001b[39m\u001b[36m\u001b[1mInfo: \u001b[22m\u001b[39mLoading files from ../data/AdriaticTest/WOD/CTD/ocldb1711444698.21123.CTD.nc\n",
      "\u001b[36m\u001b[1m[ \u001b[22m\u001b[39m\u001b[36m\u001b[1mInfo: \u001b[22m\u001b[39mLoading files from ../data/AdriaticTest/WOD/GLD/ocldb1711444698.21123.GLD.nc\n",
      "\u001b[36m\u001b[1m[ \u001b[22m\u001b[39m\u001b[36m\u001b[1mInfo: \u001b[22m\u001b[39mLoading files from ../data/AdriaticTest/WOD/MRB/ocldb1711444698.21123.MRB.nc\n",
      "\u001b[36m\u001b[1m[ \u001b[22m\u001b[39m\u001b[36m\u001b[1mInfo: \u001b[22m\u001b[39mLoading files from ../data/AdriaticTest/WOD/OSD/ocldb1711444698.21123.OSD.nc\n",
      "\u001b[36m\u001b[1m[ \u001b[22m\u001b[39m\u001b[36m\u001b[1mInfo: \u001b[22m\u001b[39mLoading files from ../data/AdriaticTest/WOD/PFL/ocldb1711444698.21123.PFL.nc\n"
     ]
    },
    {
     "name": "stdout",
     "output_type": "stream",
     "text": [
      " 17.170685 seconds (113.39 M allocations: 11.517 GiB, 6.58% gc time, 4.34% compilation time)\n"
     ]
    }
   ],
   "source": [
    "@time obsvalwod,obslonwod,obslatwod,obsdepthwod,obstimewod,obsidwod = \n",
    "WorldOceanDatabase.load(Float64,woddatadir,varname,prefixid = \"1977-\");"
   ]
  },
  {
   "cell_type": "code",
   "execution_count": 22,
   "metadata": {},
   "outputs": [
    {
     "data": {
      "text/plain": [
       "2989536-element Vector{Float64}:\n",
       " 16.864999771118164\n",
       " 16.864999771118164\n",
       " 16.864999771118164\n",
       " 16.864999771118164\n",
       " 16.864999771118164\n",
       " 16.864999771118164\n",
       " 16.864999771118164\n",
       " 16.864999771118164\n",
       " 16.9233341217041\n",
       " 16.9233341217041\n",
       " 16.9233341217041\n",
       " 16.9233341217041\n",
       " 16.9233341217041\n",
       "  ⋮\n",
       " 17.243398666381836\n",
       " 17.243398666381836\n",
       " 17.243398666381836\n",
       " 17.243398666381836\n",
       " 17.243398666381836\n",
       " 17.243398666381836\n",
       " 17.243398666381836\n",
       " 17.243398666381836\n",
       " 17.243398666381836\n",
       " 17.243398666381836\n",
       " 17.243398666381836\n",
       " 17.243398666381836"
      ]
     },
     "execution_count": 22,
     "metadata": {},
     "output_type": "execute_result"
    }
   ],
   "source": [
    "obslonwod"
   ]
  },
  {
   "cell_type": "markdown",
   "metadata": {
    "slideshow": {
     "slide_type": "subslide"
    }
   },
   "source": [
    "Remove the data outside Adriatic (similar to mask editing)"
   ]
  },
  {
   "cell_type": "code",
   "execution_count": 23,
   "metadata": {
    "slideshow": {
     "slide_type": "fragment"
    }
   },
   "outputs": [
    {
     "name": "stderr",
     "output_type": "stream",
     "text": [
      "\u001b[36m\u001b[1m[ \u001b[22m\u001b[39m\u001b[36m\u001b[1mInfo: \u001b[22m\u001b[39mNumber of removed WOD data: 254706\n"
     ]
    },
    {
     "data": {
      "text/plain": [
       "5-element Vector{String}:\n",
       " \"1977-wod_007663161O\"\n",
       " \"1977-wod_007663161O\"\n",
       " \"1977-wod_007663161O\"\n",
       " \"1977-wod_007663161O\"\n",
       " \"1977-wod_007663161O\""
      ]
     },
     "execution_count": 23,
     "metadata": {},
     "output_type": "execute_result"
    }
   ],
   "source": [
    "sel_data1 = (obslatwod .<= 42.6) .& (obslonwod .<= 14.);\n",
    "sel_data2 = (obslatwod .<= 41.2) .& (obslonwod .<= 16.2);\n",
    "ndataremove = sum((sel_data1) .| (sel_data2))\n",
    "sel_data = .~((sel_data1) .| (sel_data2));\n",
    "\n",
    "obslatwod = obslatwod[sel_data];\n",
    "obslonwod = obslonwod[sel_data];\n",
    "obsdepthwod = obsdepthwod[sel_data];\n",
    "obstimewod = obstimewod[sel_data];\n",
    "obsvalwod = obsvalwod[sel_data];\n",
    "obsidwod = obsidwod[sel_data];\n",
    "\n",
    "@info(\"Number of removed WOD data: $ndataremove\");\n",
    "obsidwod[1:5]"
   ]
  },
  {
   "cell_type": "code",
   "execution_count": 27,
   "metadata": {
    "slideshow": {
     "slide_type": "subslide"
    }
   },
   "outputs": [
    {
     "data": {
      "image/png": "[encoded data removed]",
      "text/plain": [
       "Figure(PyObject <Figure size 640x480 with 1 Axes>)"
      ]
     },
     "metadata": {},
     "output_type": "display_data"
    }
   ],
   "source": [
    "figure(\"Adriatic-WOD\")\n",
    "ax = subplot(1,1,1)\n",
    "ax.tick_params(\"both\",labelsize=6)\n",
    "contourf(bx, by, permutedims(Float64.(mask_edit[:,:,1]),[2,1]),\n",
    "    levels=[-1e5,0],cmap=\"binary\"); \n",
    "plot(obslon, obslat, \"bo\", markersize=.2, \n",
    "    label=\"SeaDataNet\")\n",
    "plot(obslonwod, obslatwod, \"go\", markersize=.2, \n",
    "    label=\"World Ocean Database\");\n",
    "legend(fontsize=6);\n",
    "ylim(39.0, 46.0);\n",
    "xlim(11.5, 20.0);\n",
    "gca().set_aspect(aspectratio)\n",
    "plt.savefig(\"WODdata\")"
   ]
  },
  {
   "cell_type": "code",
   "execution_count": null,
   "metadata": {},
   "outputs": [
    {
     "name": "stderr",
     "output_type": "stream",
     "text": [
      "\u001b[32m\u001b[1m    Updating\u001b[22m\u001b[39m registry at `~/.julia/registries/General.toml`\n",
      "\u001b[32m\u001b[1m   Installed\u001b[22m\u001b[39m GnuTLS_jll ──────────────── v3.8.3+0\n",
      "\u001b[32m\u001b[1m   Installed\u001b[22m\u001b[39m ConcurrentUtilities ─────── v2.4.1\n",
      "\u001b[32m\u001b[1m   Installed\u001b[22m\u001b[39m LRUCache ────────────────── v1.6.1\n",
      "\u001b[32m\u001b[1m   Installed\u001b[22m\u001b[39m Polyester ───────────────── v0.7.10\n",
      "\u001b[32m\u001b[1m   Installed\u001b[22m\u001b[39m Preferences ─────────────── v1.4.3\n",
      "\u001b[32m\u001b[1m   Installed\u001b[22m\u001b[39m Accessors ───────────────── v0.1.36\n",
      "\u001b[32m\u001b[1m   Installed\u001b[22m\u001b[39m StaticArrays ────────────── v1.9.3\n",
      "\u001b[32m\u001b[1m   Installed\u001b[22m\u001b[39m Roots ───────────────────── v2.1.5\n",
      "\u001b[32m\u001b[1m   Installed\u001b[22m\u001b[39m RecursiveArrayTools ─────── v3.13.0\n",
      "\u001b[32m\u001b[1m   Installed\u001b[22m\u001b[39m OpenSSL ─────────────────── v1.4.2\n",
      "\u001b[32m\u001b[1m   Installed\u001b[22m\u001b[39m CFTime ──────────────────── v0.1.3\n",
      "\u001b[32m\u001b[1m   Installed\u001b[22m\u001b[39m Static ──────────────────── v0.8.10\n",
      "\u001b[32m\u001b[1m   Installed\u001b[22m\u001b[39m HTTP ────────────────────── v1.10.5\n",
      "\u001b[32m\u001b[1m   Installed\u001b[22m\u001b[39m MAT ─────────────────────── v0.10.6\n",
      "\u001b[32m\u001b[1m   Installed\u001b[22m\u001b[39m SciMLBase ───────────────── v2.31.0\n",
      "\u001b[32m\u001b[1m   Installed\u001b[22m\u001b[39m ADTypes ─────────────────── v0.2.7\n",
      "\u001b[32m\u001b[1m   Installed\u001b[22m\u001b[39m MicrosoftMPI_jll ────────── v10.1.4+2\n",
      "\u001b[32m\u001b[1m   Installed\u001b[22m\u001b[39m XZ_jll ──────────────────── v5.6.1+0\n",
      "\u001b[32m\u001b[1m   Installed\u001b[22m\u001b[39m LinearSolve ─────────────── v2.28.0\n",
      "\u001b[32m\u001b[1m   Installed\u001b[22m\u001b[39m ZeroMQ_jll ──────────────── v4.3.5+0\n",
      "\u001b[32m\u001b[1m   Installed\u001b[22m\u001b[39m TranscodingStreams ──────── v0.10.6\n",
      "\u001b[32m\u001b[1m   Installed\u001b[22m\u001b[39m LazyArrays ──────────────── v1.8.3\n",
      "\u001b[32m\u001b[1m   Installed\u001b[22m\u001b[39m DataStructures ──────────── v0.18.18\n",
      "\u001b[32m\u001b[1m   Installed\u001b[22m\u001b[39m BufferedStreams ─────────── v1.2.1\n",
      "\u001b[32m\u001b[1m   Installed\u001b[22m\u001b[39m MatrixFactorizations ────── v2.1.0\n",
      "\u001b[32m\u001b[1m   Installed\u001b[22m\u001b[39m ArrayLayouts ────────────── v1.8.0\n",
      "\u001b[32m\u001b[1m   Installed\u001b[22m\u001b[39m Compat ──────────────────── v4.14.0\n",
      "\u001b[32m\u001b[1m   Installed\u001b[22m\u001b[39m MPICH_jll ───────────────── v4.2.0+0\n",
      "\u001b[32m\u001b[1m   Installed\u001b[22m\u001b[39m SciMLStructures ─────────── v1.1.0\n",
      "\u001b[32m\u001b[1m   Installed\u001b[22m\u001b[39m libzip_jll ──────────────── v1.10.1+0\n",
      "\u001b[32m\u001b[1m   Installed\u001b[22m\u001b[39m OpenMPI_jll ─────────────── v5.0.2+0\n",
      "\u001b[32m\u001b[1m   Installed\u001b[22m\u001b[39m SciMLOperators ──────────── v0.3.8\n",
      "\u001b[32m\u001b[1m   Installed\u001b[22m\u001b[39m ConstructionBase ────────── v1.5.5\n",
      "\u001b[32m\u001b[1m   Installed\u001b[22m\u001b[39m AbstractTrees ───────────── v0.4.5\n",
      "\u001b[32m\u001b[1m   Installed\u001b[22m\u001b[39m CSV ─────────────────────── v0.10.13\n",
      "\u001b[32m\u001b[1m   Installed\u001b[22m\u001b[39m NCDatasets ──────────────── v0.14.3\n",
      "\u001b[32m\u001b[1m   Installed\u001b[22m\u001b[39m ChainRulesCore ──────────── v1.23.0\n",
      "\u001b[32m\u001b[1m   Installed\u001b[22m\u001b[39m ArrayInterface ──────────── v7.9.0\n",
      "\u001b[32m\u001b[1m   Installed\u001b[22m\u001b[39m FastLapackInterface ─────── v2.0.2\n",
      "\u001b[32m\u001b[1m   Installed\u001b[22m\u001b[39m CommonDataModel ─────────── v0.3.5\n",
      "\u001b[32m\u001b[1m   Installed\u001b[22m\u001b[39m KLU ─────────────────────── v0.6.0\n",
      "\u001b[32m\u001b[1m   Installed\u001b[22m\u001b[39m LogExpFunctions ─────────── v0.3.27\n",
      "\u001b[32m\u001b[1m   Installed\u001b[22m\u001b[39m HDF5 ────────────────────── v0.17.1\n",
      "\u001b[32m\u001b[1m   Installed\u001b[22m\u001b[39m libaec_jll ──────────────── v1.1.2+0\n",
      "\u001b[32m\u001b[1m   Installed\u001b[22m\u001b[39m InverseFunctions ────────── v0.1.13\n",
      "\u001b[32m\u001b[1m   Installed\u001b[22m\u001b[39m PhysOcean ───────────────── v0.6.9\n",
      "\u001b[32m\u001b[1m   Installed\u001b[22m\u001b[39m Adapt ───────────────────── v4.0.4\n",
      "\u001b[32m\u001b[1m   Installed\u001b[22m\u001b[39m XML2_jll ────────────────── v2.12.5+0\n",
      "\u001b[32m\u001b[1m   Installed\u001b[22m\u001b[39m IterativeSolvers ────────── v0.9.4\n",
      "\u001b[32m\u001b[1m   Installed\u001b[22m\u001b[39m PrecompileTools ─────────── v1.2.1\n",
      "\u001b[32m\u001b[1m   Installed\u001b[22m\u001b[39m SymbolicIndexingInterface ─ v0.3.13\n",
      "\u001b[32m\u001b[1m   Installed\u001b[22m\u001b[39m DiskArrays ──────────────── v0.3.23\n",
      "\u001b[32m\u001b[1m   Installed\u001b[22m\u001b[39m MPItrampoline_jll ───────── v5.3.2+0\n",
      "\u001b[32m\u001b[1m   Installed\u001b[22m\u001b[39m FilePathsBase ───────────── v0.9.21\n",
      "\u001b[32m\u001b[1m    Updating\u001b[22m\u001b[39m `~/Projects/Diva-Workshops/Project.toml`\n",
      "  \u001b[90m[336ed68f] \u001b[39m\u001b[93m↑ CSV v0.10.11 ⇒ v0.10.13\u001b[39m\n",
      "  \u001b[90m[34da2185] \u001b[39m\u001b[93m↑ Compat v4.7.0 ⇒ v4.14.0\u001b[39m\n",
      "  \u001b[90m[efc8151c] \u001b[39m\u001b[93m↑ DIVAnd v2.7.9 ⇒ v2.7.11\u001b[39m\n",
      "  \u001b[90m[864edb3b] \u001b[39m\u001b[93m↑ DataStructures v0.18.14 ⇒ v0.18.18\u001b[39m\n",
      "  \u001b[90m[a98d9a8b] \u001b[39m\u001b[93m↑ Interpolations v0.14.7 ⇒ v0.15.1\u001b[39m\n",
      "  \u001b[90m[23992714] \u001b[39m\u001b[93m↑ MAT v0.10.5 ⇒ v0.10.6\u001b[39m\n",
      "  \u001b[90m[85f8d34a] \u001b[39m\u001b[93m↑ NCDatasets v0.12.17 ⇒ v0.14.3\u001b[39m\n",
      "  \u001b[90m[3725be50] \u001b[39m\u001b[93m↑ PhysOcean v0.6.7 ⇒ v0.6.9\u001b[39m\n",
      "  \u001b[90m[d330b81b] \u001b[39m\u001b[93m↑ PyPlot v2.11.1 ⇒ v2.11.2\u001b[39m\n",
      "  \u001b[90m[f2b01f46] \u001b[39m\u001b[93m↑ Roots v2.0.17 ⇒ v2.1.5\u001b[39m\n",
      "  \u001b[90m[44cfe95a] \u001b[39m\u001b[93m↑ Pkg v1.9.2 ⇒ v1.10.0\u001b[39m\n",
      "  \u001b[90m[10745b16] \u001b[39m\u001b[93m↑ Statistics v1.9.0 ⇒ v1.10.0\u001b[39m\n",
      "\u001b[32m\u001b[1m    Updating\u001b[22m\u001b[39m `~/Projects/Diva-Workshops/Manifest.toml`\n",
      "  \u001b[90m[47edcb42] \u001b[39m\u001b[92m+ ADTypes v0.2.7\u001b[39m\n",
      "  \u001b[90m[1520ce14] \u001b[39m\u001b[93m↑ AbstractTrees v0.4.4 ⇒ v0.4.5\u001b[39m\n",
      "  \u001b[90m[7d9f7c33] \u001b[39m\u001b[92m+ Accessors v0.1.36\u001b[39m\n",
      "  \u001b[90m[79e6a3ab] \u001b[39m\u001b[93m↑ Adapt v3.6.2 ⇒ v4.0.4\u001b[39m\n",
      "  \u001b[90m[2169fc97] \u001b[39m\u001b[93m↑ AlgebraicMultigrid v0.5.1 ⇒ v0.6.0\u001b[39m\n",
      "  \u001b[90m[4fba245c] \u001b[39m\u001b[92m+ ArrayInterface v7.9.0\u001b[39m\n",
      "  \u001b[90m[4c555306] \u001b[39m\u001b[92m+ ArrayLayouts v1.8.0\u001b[39m\n",
      "  \u001b[90m[13072b0f] \u001b[39m\u001b[93m↑ AxisAlgorithms v1.0.1 ⇒ v1.1.0\u001b[39m\n",
      "  \u001b[90m[d1d4a3ce] \u001b[39m\u001b[93m↑ BitFlags v0.1.7 ⇒ v0.1.8\u001b[39m\n",
      "  \u001b[90m[62783981] \u001b[39m\u001b[92m+ BitTwiddlingConvenienceFunctions v0.1.5\u001b[39m\n",
      "  \u001b[90m[e1450e63] \u001b[39m\u001b[93m↑ BufferedStreams v1.2.0 ⇒ v1.2.1\u001b[39m\n",
      "  \u001b[90m[179af706] \u001b[39m\u001b[93m↑ CFTime v0.1.2 ⇒ v0.1.3\u001b[39m\n",
      "  \u001b[90m[2a0fbf3d] \u001b[39m\u001b[92m+ CPUSummary v0.2.4\u001b[39m\n",
      "  \u001b[90m[336ed68f] \u001b[39m\u001b[93m↑ CSV v0.10.11 ⇒ v0.10.13\u001b[39m\n",
      "  \u001b[90m[d360d2e6] \u001b[39m\u001b[93m↑ ChainRulesCore v1.16.0 ⇒ v1.23.0\u001b[39m\n",
      "  \u001b[90m[fb6a15b2] \u001b[39m\u001b[92m+ CloseOpenIntervals v0.1.12\u001b[39m\n",
      "  \u001b[90m[944b1d66] \u001b[39m\u001b[93m↑ CodecZlib v0.7.2 ⇒ v0.7.4\u001b[39m\n",
      "  \u001b[90m[1fbeeb36] \u001b[39m\u001b[93m↑ CommonDataModel v0.2.4 ⇒ v0.3.5\u001b[39m\n",
      "  \u001b[90m[34da2185] \u001b[39m\u001b[93m↑ Compat v4.7.0 ⇒ v4.14.0\u001b[39m\n",
      "  \u001b[90m[a33af91c] \u001b[39m\u001b[92m+ CompositionsBase v0.1.2\u001b[39m\n",
      "  \u001b[90m[2569d6c7] \u001b[39m\u001b[92m+ ConcreteStructs v0.2.3\u001b[39m\n",
      "  \u001b[90m[f0e56b4a] \u001b[39m\u001b[93m↑ ConcurrentUtilities v2.2.1 ⇒ v2.4.1\u001b[39m\n",
      "  \u001b[90m[8f4d0f93] \u001b[39m\u001b[93m↑ Conda v1.9.1 ⇒ v1.10.0\u001b[39m\n",
      "  \u001b[90m[187b0558] \u001b[39m\u001b[93m↑ ConstructionBase v1.5.3 ⇒ v1.5.5\u001b[39m\n",
      "  \u001b[90m[adafc99b] \u001b[39m\u001b[92m+ CpuId v0.3.1\u001b[39m\n",
      "  \u001b[90m[efc8151c] \u001b[39m\u001b[93m↑ DIVAnd v2.7.9 ⇒ v2.7.11\u001b[39m\n",
      "  \u001b[90m[9a962f9c] \u001b[39m\u001b[93m↑ DataAPI v1.15.0 ⇒ v1.16.0\u001b[39m\n",
      "  \u001b[90m[864edb3b] \u001b[39m\u001b[93m↑ DataStructures v0.18.14 ⇒ v0.18.18\u001b[39m\n",
      "\u001b[33m⌅\u001b[39m \u001b[90m[3c3547ce] \u001b[39m\u001b[92m+ DiskArrays v0.3.23\u001b[39m\n",
      "  \u001b[90m[4e289a0a] \u001b[39m\u001b[92m+ EnumX v1.0.4\u001b[39m\n",
      "  \u001b[90m[460bff9d] \u001b[39m\u001b[93m↑ ExceptionUnwrapping v0.1.9 ⇒ v0.1.10\u001b[39m\n",
      "  \u001b[90m[e2ba6199] \u001b[39m\u001b[92m+ ExprTools v0.1.10\u001b[39m\n",
      "  \u001b[90m[8f5d6c58] \u001b[39m\u001b[93m↑ EzXML v1.1.0 ⇒ v1.2.0\u001b[39m\n",
      "  \u001b[90m[29a986be] \u001b[39m\u001b[92m+ FastLapackInterface v2.0.2\u001b[39m\n",
      "  \u001b[90m[48062228] \u001b[39m\u001b[93m↑ FilePathsBase v0.9.20 ⇒ v0.9.21\u001b[39m\n",
      "  \u001b[90m[1a297f60] \u001b[39m\u001b[92m+ FillArrays v1.9.3\u001b[39m\n",
      "  \u001b[90m[069b7b12] \u001b[39m\u001b[92m+ FunctionWrappers v1.1.3\u001b[39m\n",
      "  \u001b[90m[77dc65aa] \u001b[39m\u001b[92m+ FunctionWrappersWrappers v0.1.3\u001b[39m\n",
      "  \u001b[90m[46192b85] \u001b[39m\u001b[92m+ GPUArraysCore v0.1.6\u001b[39m\n",
      "  \u001b[90m[f67ccb44] \u001b[39m\u001b[93m↑ HDF5 v0.16.15 ⇒ v0.17.1\u001b[39m\n",
      "  \u001b[90m[cd3eb016] \u001b[39m\u001b[93m↑ HTTP v1.9.14 ⇒ v1.10.5\u001b[39m\n",
      "  \u001b[90m[3e5b6fbb] \u001b[39m\u001b[92m+ HostCPUFeatures v0.1.16\u001b[39m\n",
      "  \u001b[90m[615f187c] \u001b[39m\u001b[92m+ IfElse v0.1.1\u001b[39m\n",
      "  \u001b[90m[a98d9a8b] \u001b[39m\u001b[93m↑ Interpolations v0.14.7 ⇒ v0.15.1\u001b[39m\n",
      "  \u001b[90m[3587e190] \u001b[39m\u001b[92m+ InverseFunctions v0.1.13\u001b[39m\n",
      "  \u001b[90m[42fd0dbc] \u001b[39m\u001b[93m↑ IterativeSolvers v0.9.2 ⇒ v0.9.4\u001b[39m\n",
      "  \u001b[90m[692b3bcd] \u001b[39m\u001b[93m↑ JLLWrappers v1.4.1 ⇒ v1.5.0\u001b[39m\n",
      "  \u001b[90m[ef3ab10e] \u001b[39m\u001b[92m+ KLU v0.6.0\u001b[39m\n",
      "  \u001b[90m[ba0b0d4f] \u001b[39m\u001b[92m+ Krylov v0.9.5\u001b[39m\n",
      "  \u001b[90m[8ac3fa9e] \u001b[39m\u001b[92m+ LRUCache v1.6.1\u001b[39m\n",
      "  \u001b[90m[b964fa9f] \u001b[39m\u001b[93m↑ LaTeXStrings v1.3.0 ⇒ v1.3.1\u001b[39m\n",
      "  \u001b[90m[10f19ff3] \u001b[39m\u001b[92m+ LayoutPointers v0.1.15\u001b[39m\n",
      "  \u001b[90m[5078a376] \u001b[39m\u001b[92m+ LazyArrays v1.8.3\u001b[39m\n",
      "  \u001b[90m[7ed4a6bd] \u001b[39m\u001b[92m+ LinearSolve v2.28.0\u001b[39m\n",
      "  \u001b[90m[2ab3a3ac] \u001b[39m\u001b[93m↑ LogExpFunctions v0.3.24 ⇒ v0.3.27\u001b[39m\n",
      "  \u001b[90m[e6f89c97] \u001b[39m\u001b[93m↑ LoggingExtras v1.0.0 ⇒ v1.0.3\u001b[39m\n",
      "  \u001b[90m[bdcacae8] \u001b[39m\u001b[92m+ LoopVectorization v0.12.166\u001b[39m\n",
      "  \u001b[90m[23992714] \u001b[39m\u001b[93m↑ MAT v0.10.5 ⇒ v0.10.6\u001b[39m\n",
      "  \u001b[90m[3da0fdf6] \u001b[39m\u001b[93m↑ MPIPreferences v0.1.8 ⇒ v0.1.10\u001b[39m\n",
      "  \u001b[90m[1914dd2f] \u001b[39m\u001b[93m↑ MacroTools v0.5.10 ⇒ v0.5.13\u001b[39m\n",
      "  \u001b[90m[d125e4d3] \u001b[39m\u001b[92m+ ManualMemory v0.1.8\u001b[39m\n",
      "  \u001b[90m[a3b82374] \u001b[39m\u001b[92m+ MatrixFactorizations v2.1.0\u001b[39m\n",
      "  \u001b[90m[739be429] \u001b[39m\u001b[93m↑ MbedTLS v1.1.7 ⇒ v1.1.9\u001b[39m\n",
      "  \u001b[90m[ffc61752] \u001b[39m\u001b[93m↑ Mustache v1.0.17 ⇒ v1.0.19\u001b[39m\n",
      "  \u001b[90m[85f8d34a] \u001b[39m\u001b[93m↑ NCDatasets v0.12.17 ⇒ v0.14.3\u001b[39m\n",
      "  \u001b[90m[6fe1bfb0] \u001b[39m\u001b[93m↑ OffsetArrays v1.12.10 ⇒ v1.13.0\u001b[39m\n",
      "  \u001b[90m[4d8831e6] \u001b[39m\u001b[93m↑ OpenSSL v1.4.1 ⇒ v1.4.2\u001b[39m\n",
      "  \u001b[90m[bac558e1] \u001b[39m\u001b[93m↑ OrderedCollections v1.6.0 ⇒ v1.6.3\u001b[39m\n",
      "  \u001b[90m[69de0a69] \u001b[39m\u001b[93m↑ Parsers v2.7.1 ⇒ v2.8.1\u001b[39m\n",
      "  \u001b[90m[3725be50] \u001b[39m\u001b[93m↑ PhysOcean v0.6.7 ⇒ v0.6.9\u001b[39m\n",
      "  \u001b[90m[f517fe37] \u001b[39m\u001b[92m+ Polyester v0.7.10\u001b[39m\n",
      "  \u001b[90m[1d0040c9] \u001b[39m\u001b[92m+ PolyesterWeave v0.2.1\u001b[39m\n",
      "  \u001b[90m[2dfb63ee] \u001b[39m\u001b[93m↑ PooledArrays v1.4.2 ⇒ v1.4.3\u001b[39m\n",
      "  \u001b[90m[aea7be01] \u001b[39m\u001b[93m↑ PrecompileTools v1.1.2 ⇒ v1.2.1\u001b[39m\n",
      "  \u001b[90m[21216c6a] \u001b[39m\u001b[93m↑ Preferences v1.4.0 ⇒ v1.4.3\u001b[39m\n",
      "  \u001b[90m[438e738f] \u001b[39m\u001b[93m↑ PyCall v1.96.1 ⇒ v1.96.4\u001b[39m\n",
      "  \u001b[90m[d330b81b] \u001b[39m\u001b[93m↑ PyPlot v2.11.1 ⇒ v2.11.2\u001b[39m\n",
      "  \u001b[90m[731186ca] \u001b[39m\u001b[92m+ RecursiveArrayTools v3.13.0\u001b[39m\n",
      "  \u001b[90m[f2c3362d] \u001b[39m\u001b[92m+ RecursiveFactorization v0.2.21\u001b[39m\n",
      "  \u001b[90m[f2b01f46] \u001b[39m\u001b[93m↑ Roots v2.0.17 ⇒ v2.1.5\u001b[39m\n",
      "  \u001b[90m[7e49a35a] \u001b[39m\u001b[92m+ RuntimeGeneratedFunctions v0.5.12\u001b[39m\n",
      "  \u001b[90m[94e857df] \u001b[39m\u001b[92m+ SIMDTypes v0.1.0\u001b[39m\n",
      "  \u001b[90m[476501e8] \u001b[39m\u001b[92m+ SLEEFPirates v0.6.42\u001b[39m\n",
      "  \u001b[90m[0bca4576] \u001b[39m\u001b[92m+ SciMLBase v2.31.0\u001b[39m\n",
      "  \u001b[90m[c0aeaf25] \u001b[39m\u001b[92m+ SciMLOperators v0.3.8\u001b[39m\n",
      "  \u001b[90m[53ae85a6] \u001b[39m\u001b[92m+ SciMLStructures v1.1.0\u001b[39m\n",
      "  \u001b[90m[91c51154] \u001b[39m\u001b[93m↑ SentinelArrays v1.4.0 ⇒ v1.4.1\u001b[39m\n",
      "  \u001b[90m[e56a9233] \u001b[39m\u001b[92m+ Sparspak v0.3.9\u001b[39m\n",
      "  \u001b[90m[276daf66] \u001b[39m\u001b[93m↑ SpecialFunctions v2.3.0 ⇒ v2.3.1\u001b[39m\n",
      "  \u001b[90m[aedffcd0] \u001b[39m\u001b[92m+ Static v0.8.10\u001b[39m\n",
      "  \u001b[90m[0d7ed370] \u001b[39m\u001b[92m+ StaticArrayInterface v1.5.0\u001b[39m\n",
      "  \u001b[90m[90137ffa] \u001b[39m\u001b[93m↑ StaticArrays v1.6.1 ⇒ v1.9.3\u001b[39m\n",
      "  \u001b[90m[7792a7ef] \u001b[39m\u001b[92m+ StrideArraysCore v0.5.2\u001b[39m\n",
      "  \u001b[90m[2efcf032] \u001b[39m\u001b[92m+ SymbolicIndexingInterface v0.3.13\u001b[39m\n",
      "  \u001b[90m[bd369af6] \u001b[39m\u001b[93m↑ Tables v1.10.1 ⇒ v1.11.1\u001b[39m\n",
      "  \u001b[90m[8290d209] \u001b[39m\u001b[92m+ ThreadingUtilities v0.5.2\u001b[39m\n",
      "  \u001b[90m[3bb67fe8] \u001b[39m\u001b[93m↑ TranscodingStreams v0.9.13 ⇒ v0.10.6\u001b[39m\n",
      "  \u001b[90m[d5829a12] \u001b[39m\u001b[92m+ TriangularSolve v0.1.20\u001b[39m\n",
      "  \u001b[90m[5c2747f8] \u001b[39m\u001b[93m↑ URIs v1.4.2 ⇒ v1.5.1\u001b[39m\n",
      "  \u001b[90m[3a884ed6] \u001b[39m\u001b[92m+ UnPack v1.0.2\u001b[39m\n",
      "  \u001b[90m[3d5dd08c] \u001b[39m\u001b[92m+ VectorizationBase v0.21.65\u001b[39m\n",
      "  \u001b[90m[efce3f68] \u001b[39m\u001b[93m↑ WoodburyMatrices v0.5.5 ⇒ v1.0.0\u001b[39m\n",
      "  \u001b[90m[0b7ba130] \u001b[39m\u001b[92m+ Blosc_jll v1.21.5+0\u001b[39m\n",
      "  \u001b[90m[6e34b625] \u001b[39m\u001b[93m↑ Bzip2_jll v1.0.8+0 ⇒ v1.0.8+1\u001b[39m\n",
      "  \u001b[90m[0951126a] \u001b[39m\u001b[92m+ GnuTLS_jll v3.8.3+0\u001b[39m\n",
      "\u001b[32m⌃\u001b[39m \u001b[90m[0234f1f7] \u001b[39m\u001b[93m↑ HDF5_jll v1.14.0+0 ⇒ v1.14.2+1\u001b[39m\n",
      "  \u001b[90m[e33a78d0] \u001b[39m\u001b[92m+ Hwloc_jll v2.10.0+0\u001b[39m\n",
      "  \u001b[90m[1d5cc7b8] \u001b[39m\u001b[92m+ IntelOpenMP_jll v2024.0.2+0\u001b[39m\n",
      "  \u001b[90m[1d63c593] \u001b[39m\u001b[93m↑ LLVMOpenMP_jll v15.0.4+0 ⇒ v15.0.7+0\u001b[39m\n",
      "  \u001b[90m[94ce4f54] \u001b[39m\u001b[93m↑ Libiconv_jll v1.16.1+2 ⇒ v1.17.0+0\u001b[39m\n",
      "  \u001b[90m[5ced341a] \u001b[39m\u001b[92m+ Lz4_jll v1.9.4+0\u001b[39m\n",
      "  \u001b[90m[856f044c] \u001b[39m\u001b[92m+ MKL_jll v2024.0.0+0\u001b[39m\n",
      "  \u001b[90m[7cb0a576] \u001b[39m\u001b[93m↑ MPICH_jll v4.1.2+0 ⇒ v4.2.0+0\u001b[39m\n",
      "  \u001b[90m[f1f71cc9] \u001b[39m\u001b[93m↑ MPItrampoline_jll v5.3.1+0 ⇒ v5.3.2+0\u001b[39m\n",
      "  \u001b[90m[9237b28f] \u001b[39m\u001b[93m↑ MicrosoftMPI_jll v10.1.3+4 ⇒ v10.1.4+2\u001b[39m\n",
      "  \u001b[90m[7243133f] \u001b[39m\u001b[93m↑ NetCDF_jll v400.902.208+0 ⇒ v400.902.209+0\u001b[39m\n",
      "  \u001b[90m[4c82536e] \u001b[39m\u001b[92m+ Nettle_jll v3.7.2+0\u001b[39m\n",
      "  \u001b[90m[fe0851c0] \u001b[39m\u001b[93m↑ OpenMPI_jll v4.1.5+0 ⇒ v5.0.2+0\u001b[39m\n",
      "  \u001b[90m[458c3c95] \u001b[39m\u001b[93m↑ OpenSSL_jll v3.0.9+0 ⇒ v3.0.13+0\u001b[39m\n",
      "  \u001b[90m[c2071276] \u001b[39m\u001b[92m+ P11Kit_jll v0.24.1+0\u001b[39m\n",
      "  \u001b[90m[32165bc3] \u001b[39m\u001b[92m+ PMIx_jll v4.2.7+0\u001b[39m\n",
      "  \u001b[90m[02c8fc9c] \u001b[39m\u001b[93m↑ XML2_jll v2.10.3+0 ⇒ v2.12.5+0\u001b[39m\n",
      "  \u001b[90m[ffd25f8a] \u001b[39m\u001b[92m+ XZ_jll v5.6.1+0\u001b[39m\n",
      "  \u001b[90m[8f1865be] \u001b[39m\u001b[93m↑ ZeroMQ_jll v4.3.4+0 ⇒ v4.3.5+0\u001b[39m\n",
      "  \u001b[90m[477f73a3] \u001b[39m\u001b[93m↑ libaec_jll v1.0.6+1 ⇒ v1.1.2+0\u001b[39m\n",
      "  \u001b[90m[1080aeaf] \u001b[39m\u001b[92m+ libevent_jll v2.1.13+1\u001b[39m\n",
      "  \u001b[90m[337d8026] \u001b[39m\u001b[92m+ libzip_jll v1.10.1+0\u001b[39m\n",
      "  \u001b[90m[eb928a42] \u001b[39m\u001b[92m+ prrte_jll v3.0.2+0\u001b[39m\n",
      "  \u001b[90m[b27032c2] \u001b[39m\u001b[93m↑ LibCURL v0.6.3 ⇒ v0.6.4\u001b[39m\n",
      "  \u001b[90m[44cfe95a] \u001b[39m\u001b[93m↑ Pkg v1.9.2 ⇒ v1.10.0\u001b[39m\n",
      "  \u001b[90m[2f01184e] \u001b[39m\u001b[93m~ SparseArrays ⇒ v1.10.0\u001b[39m\n",
      "  \u001b[90m[10745b16] \u001b[39m\u001b[93m↑ Statistics v1.9.0 ⇒ v1.10.0\u001b[39m\n",
      "  \u001b[90m[e66e0078] \u001b[39m\u001b[93m↑ CompilerSupportLibraries_jll v1.0.5+0 ⇒ v1.1.0+0\u001b[39m\n",
      "  \u001b[90m[781609d7] \u001b[39m\u001b[92m+ GMP_jll v6.2.1+6\u001b[39m\n",
      "  \u001b[90m[deac9b47] \u001b[39m\u001b[93m↑ LibCURL_jll v7.84.0+0 ⇒ v8.4.0+0\u001b[39m\n",
      "  \u001b[90m[e37daf67] \u001b[39m\u001b[92m+ LibGit2_jll v1.6.4+0\u001b[39m\n",
      "  \u001b[90m[29816b5a] \u001b[39m\u001b[93m↑ LibSSH2_jll v1.10.2+0 ⇒ v1.11.0+1\u001b[39m\n",
      "  \u001b[90m[c8ffd9c3] \u001b[39m\u001b[93m↑ MbedTLS_jll v2.28.2+0 ⇒ v2.28.2+1\u001b[39m\n",
      "  \u001b[90m[14a3606d] \u001b[39m\u001b[93m↑ MozillaCACerts_jll v2022.10.11 ⇒ v2023.1.10\u001b[39m\n",
      "  \u001b[90m[4536629a] \u001b[39m\u001b[93m↑ OpenBLAS_jll v0.3.21+4 ⇒ v0.3.23+4\u001b[39m\n",
      "  \u001b[90m[05823500] \u001b[39m\u001b[93m↑ OpenLibm_jll v0.8.1+0 ⇒ v0.8.1+2\u001b[39m\n",
      "  \u001b[90m[bea87d4a] \u001b[39m\u001b[93m↑ SuiteSparse_jll v5.10.1+6 ⇒ v7.2.1+1\u001b[39m\n",
      "  \u001b[90m[83775a58] \u001b[39m\u001b[93m↑ Zlib_jll v1.2.13+0 ⇒ v1.2.13+1\u001b[39m\n",
      "  \u001b[90m[8e850b90] \u001b[39m\u001b[93m↑ libblastrampoline_jll v5.8.0+0 ⇒ v5.8.0+1\u001b[39m\n",
      "  \u001b[90m[8e850ede] \u001b[39m\u001b[93m↑ nghttp2_jll v1.48.0+0 ⇒ v1.52.0+1\u001b[39m\n",
      "  \u001b[90m[3f19e933] \u001b[39m\u001b[93m↑ p7zip_jll v17.4.0+0 ⇒ v17.4.0+2\u001b[39m\n",
      "\u001b[36m\u001b[1m        Info\u001b[22m\u001b[39m Packages marked with \u001b[32m⌃\u001b[39m and \u001b[33m⌅\u001b[39m have new versions available. Those with \u001b[32m⌃\u001b[39m may be upgradable, but those with \u001b[33m⌅\u001b[39m are restricted by compatibility constraints from upgrading. To see why use `status --outdated -m`\n"
     ]
    },
    {
     "name": "stderr",
     "output_type": "stream",
     "text": [
      "\u001b[32m\u001b[1mPrecompiling\u001b[22m\u001b[39m project...\n",
      "\u001b[32m  ✓ \u001b[39m\u001b[90mADTypes\u001b[39m\n",
      "\u001b[32m  ✓ \u001b[39m\u001b[90mWorkerUtilities\u001b[39m\n",
      "\u001b[32m  ✓ \u001b[39m\u001b[90mBufferedStreams\u001b[39m\n",
      "\u001b[33m  ✓ \u001b[39mCompat\n",
      "\u001b[33m  ✓ \u001b[39m\u001b[90mAbstractTrees\u001b[39m\n",
      "\u001b[32m  ✓ \u001b[39m\u001b[90mInverseFunctions\u001b[39m\n",
      "\u001b[33m  ✓ \u001b[39m\u001b[90mPreferences\u001b[39m\n",
      "\u001b[33m  ✓ \u001b[39m\u001b[90mConcurrentUtilities\u001b[39m\n",
      "\u001b[33m  ✓ \u001b[39m\u001b[90mTranscodingStreams\u001b[39m\n",
      "\u001b[32m  ✓ \u001b[39m\u001b[90mSciMLStructures\u001b[39m\n",
      "\u001b[32m  ✓ \u001b[39m\u001b[90mLRUCache\u001b[39m\n",
      "\u001b[33m  ✓ \u001b[39m\u001b[90mAdapt\u001b[39m\n",
      "\u001b[33m  ✓ \u001b[39m\u001b[90mCFTime\u001b[39m\n",
      "\u001b[32m  ✓ \u001b[39m\u001b[90mConstructionBase\u001b[39m\n",
      "\u001b[33m  ✓ \u001b[39m\u001b[90mLogExpFunctions\u001b[39m\n",
      "\u001b[33m  ✓ \u001b[39m\u001b[90mCompat → CompatLinearAlgebraExt\u001b[39m\n",
      "\u001b[32m  ✓ \u001b[39m\u001b[90mInverseFunctions → DatesExt\u001b[39m\n",
      "\u001b[32m  ✓ \u001b[39m\u001b[90mStatic\u001b[39m\n",
      "\u001b[32m  ✓ \u001b[39m\u001b[90mKLU\u001b[39m\n",
      "\u001b[32m  ✓ \u001b[39m\u001b[90mCompositionsBase → CompositionsBaseInverseFunctionsExt\u001b[39m\n",
      "\u001b[33m  ✓ \u001b[39m\u001b[90mMPIPreferences\u001b[39m\n",
      "\u001b[33m  ✓ \u001b[39m\u001b[90mJLLWrappers\u001b[39m\n",
      "\u001b[32m  ✓ \u001b[39m\u001b[90mFastLapackInterface\u001b[39m\n",
      "\u001b[33m  ✓ \u001b[39m\u001b[90mPrecompileTools\u001b[39m\n",
      "\u001b[32m  ✓ \u001b[39m\u001b[90mLRUCache → SerializationExt\u001b[39m\n",
      "\u001b[32m  ✓ \u001b[39m\u001b[90mTranscodingStreams → TestExt\u001b[39m\n",
      "\u001b[32m  ✓ \u001b[39m\u001b[90mOffsetArrays → OffsetArraysAdaptExt\u001b[39m\n",
      "\u001b[32m  ✓ \u001b[39m\u001b[90mBitTwiddlingConvenienceFunctions\u001b[39m\n",
      "\u001b[33m  ✓ \u001b[39m\u001b[90mBzip2_jll\u001b[39m\n",
      "\u001b[33m  ✓ \u001b[39m\u001b[90mOpenSSL_jll\u001b[39m\n",
      "\u001b[32m  ✓ \u001b[39m\u001b[90mLLVMOpenMP_jll\u001b[39m\n",
      "\u001b[32m  ✓ \u001b[39m\u001b[90mLz4_jll\u001b[39m\n",
      "\u001b[33m  ✓ \u001b[39m\u001b[90mlibaec_jll\u001b[39m\n",
      "\u001b[32m  ✓ \u001b[39m\u001b[90mFilePathsBase\u001b[39m\n",
      "\u001b[32m  ✓ \u001b[39m\u001b[90mIntelOpenMP_jll\u001b[39m\n",
      "\u001b[32m  ✓ \u001b[39m\u001b[90mHwloc_jll\u001b[39m\n",
      "\u001b[33m  ✓ \u001b[39m\u001b[90mChainRulesCore\u001b[39m\n",
      "\u001b[32m  ✓ \u001b[39m\u001b[90mXZ_jll\u001b[39m\n",
      "\u001b[32m  ✓ \u001b[39m\u001b[90mMicrosoftMPI_jll\u001b[39m\n",
      "\u001b[33m  ✓ \u001b[39mDataStructures\n",
      "\u001b[32m  ✓ \u001b[39m\u001b[90mP11Kit_jll\u001b[39m\n",
      "\u001b[33m  ✓ \u001b[39m\u001b[90mLibiconv_jll\u001b[39m\n",
      "\u001b[32m  ✓ \u001b[39m\u001b[90mNettle_jll\u001b[39m\n",
      "\u001b[33m  ✓ \u001b[39m\u001b[90mZeroMQ_jll\u001b[39m\n",
      "\u001b[33m  ✓ \u001b[39m\u001b[90mCodecZlib\u001b[39m\n",
      "\u001b[32m  ✓ \u001b[39m\u001b[90mCPUSummary\u001b[39m\n",
      "\u001b[32m  ✓ \u001b[39m\u001b[90mDiskArrays\u001b[39m\n",
      "\u001b[32m  ✓ \u001b[39m\u001b[90mHostCPUFeatures\u001b[39m\n",
      "\u001b[32m  ✓ \u001b[39m\u001b[90mlibevent_jll\u001b[39m\n",
      "\u001b[32m  ✓ \u001b[39m\u001b[90mMPItrampoline_jll\u001b[39m\n",
      "\u001b[32m  ✓ \u001b[39m\u001b[90mMKL_jll\u001b[39m\n",
      "\u001b[33m  ✓ \u001b[39m\u001b[90mMPICH_jll\u001b[39m\n",
      "\u001b[32m  ✓ \u001b[39m\u001b[90mBlosc_jll\u001b[39m\n",
      "\u001b[32m  ✓ \u001b[39m\u001b[90mChainRulesCore → ChainRulesCoreSparseArraysExt\u001b[39m\n",
      "\u001b[33m  ✓ \u001b[39m\u001b[90mOpenSSL\u001b[39m\n",
      "\u001b[33m  ✓ \u001b[39m\u001b[90mXML2_jll\u001b[39m\n",
      "\u001b[32m  ✓ \u001b[39m\u001b[90mGnuTLS_jll\u001b[39m\n",
      "\u001b[32m  ✓ \u001b[39m\u001b[90mPolyesterWeave\u001b[39m\n",
      "\u001b[33m  ✓ \u001b[39m\u001b[90mLogExpFunctions → LogExpFunctionsChainRulesCoreExt\u001b[39m\n",
      "\u001b[33m  ✓ \u001b[39m\u001b[90mIterativeSolvers\u001b[39m\n",
      "\u001b[33m  ✓ \u001b[39m\u001b[90mCommonDataModel\u001b[39m\n",
      "\u001b[32m  ✓ \u001b[39m\u001b[90mPMIx_jll\u001b[39m\n",
      "\u001b[32m  ✓ \u001b[39m\u001b[90mLogExpFunctions → LogExpFunctionsInverseFunctionsExt\u001b[39m\n",
      "\u001b[32m  ✓ \u001b[39m\u001b[90mlibzip_jll\u001b[39m\n",
      "\u001b[33m  ✓ \u001b[39m\u001b[90mEzXML\u001b[39m\n",
      "\u001b[32m  ✓ \u001b[39m\u001b[90mprrte_jll\u001b[39m\n",
      "\u001b[32m  ✓ \u001b[39m\u001b[90mOpenMPI_jll\u001b[39m\n",
      "\u001b[33m  ✓ \u001b[39m\u001b[90mHDF5_jll\u001b[39m\n",
      "\u001b[33m  ✓ \u001b[39m\u001b[90mNetCDF_jll\u001b[39m\n",
      "\u001b[33m  ✓ \u001b[39m\u001b[90mHTTP\u001b[39m\n",
      "\u001b[33m  ✓ \u001b[39m\u001b[90mSpecialFunctions\u001b[39m\n",
      "\u001b[33m  ✓ \u001b[39m\u001b[90mStaticArrays\u001b[39m\n",
      "\u001b[32m  ✓ \u001b[39m\u001b[90mArrayLayouts\u001b[39m\n",
      "\u001b[33m  ✓ \u001b[39m\u001b[90mAdapt → AdaptStaticArraysExt\u001b[39m\n",
      "\u001b[32m  ✓ \u001b[39m\u001b[90mConstructionBase → ConstructionBaseStaticArraysExt\u001b[39m\n",
      "\u001b[33m  ✓ \u001b[39m\u001b[90mStaticArrays → StaticArraysStatisticsExt\u001b[39m\n",
      "\u001b[33m  ✓ \u001b[39m\u001b[90mSpecialFunctions → SpecialFunctionsChainRulesCoreExt\u001b[39m\n",
      "\u001b[32m  ✓ \u001b[39m\u001b[90mArrayLayouts → ArrayLayoutsSparseArraysExt\u001b[39m\n",
      "\u001b[32m  ✓ \u001b[39m\u001b[90mGPUArraysCore\u001b[39m\n",
      "\u001b[33m  ✓ \u001b[39mNCDatasets\n",
      "\u001b[32m  ✓ \u001b[39m\u001b[90mArrayInterface\u001b[39m\n",
      "\u001b[32m  ✓ \u001b[39m\u001b[90mStaticArrays → StaticArraysChainRulesCoreExt\u001b[39m\n",
      "\u001b[32m  ✓ \u001b[39m\u001b[90mArrayInterface → ArrayInterfaceGPUArraysCoreExt\u001b[39m\n",
      "\u001b[32m  ✓ \u001b[39m\u001b[90mSetfield\u001b[39m\n",
      "\u001b[32m  ✓ \u001b[39m\u001b[90mMatrixFactorizations\u001b[39m\n",
      "\u001b[32m  ✓ \u001b[39m\u001b[90mArrayInterface → ArrayInterfaceStaticArraysCoreExt\u001b[39m\n",
      "\u001b[32m  ✓ \u001b[39m\u001b[90mAccessors\u001b[39m\n",
      "\u001b[32m  ✓ \u001b[39m\u001b[90mAccessors → AccessorsStaticArraysExt\u001b[39m\n",
      "\u001b[32m  ✓ \u001b[39m\u001b[90mSymbolicIndexingInterface\u001b[39m\n",
      "\u001b[32m  ✓ \u001b[39m\u001b[90mHDF5\u001b[39m\n",
      "\u001b[33m  ✓ \u001b[39mInterpolations\n",
      "\u001b[33m  ✓ \u001b[39mPhysOcean\n",
      "\u001b[32m  ✓ \u001b[39m\u001b[90mSciMLOperators\u001b[39m\n",
      "\u001b[32m  ✓ \u001b[39m\u001b[90mStaticArrayInterface\u001b[39m\n",
      "\u001b[32m  ✓ \u001b[39m\u001b[90mLazyArrays\u001b[39m\n",
      "\u001b[32m  ✓ \u001b[39m\u001b[90mRecursiveArrayTools\u001b[39m\n",
      "\u001b[32m  ✓ \u001b[39mMAT\n",
      "\u001b[32m  ✓ \u001b[39m\u001b[90mStaticArrayInterface → StaticArrayInterfaceStaticArraysExt\u001b[39m\n",
      "\u001b[32m  ✓ \u001b[39m\u001b[90mStaticArrayInterface → StaticArrayInterfaceOffsetArraysExt\u001b[39m\n",
      "\u001b[32m  ✓ \u001b[39m\u001b[90mLazyArrays → LazyArraysStaticArraysExt\u001b[39m\n",
      "\u001b[32m  ✓ \u001b[39mRoots\n",
      "\u001b[32m  ✓ \u001b[39m\u001b[90mCloseOpenIntervals\u001b[39m\n",
      "\u001b[32m  ✓ \u001b[39m\u001b[90mLayoutPointers\u001b[39m\n",
      "\u001b[32m  ✓ \u001b[39m\u001b[90mStrideArraysCore\u001b[39m\n",
      "\u001b[32m  ✓ \u001b[39m\u001b[90mPolyester\u001b[39m\n",
      "\u001b[32m  ✓ \u001b[39m\u001b[90mSciMLBase\u001b[39m\n",
      "\u001b[33m  ✓ \u001b[39m\u001b[90mParsers\u001b[39m\n",
      "\u001b[32m  ✓ \u001b[39m\u001b[90mSciMLBase → SciMLBaseChainRulesCoreExt\u001b[39m\n",
      "\u001b[32m  ✓ \u001b[39m\u001b[90mInlineStrings\u001b[39m\n",
      "\u001b[32m  ✓ \u001b[39m\u001b[90mWeakRefStrings\u001b[39m\n",
      "\u001b[33m  ✓ \u001b[39m\u001b[90mConda\u001b[39m\n",
      "\u001b[32m  ✓ \u001b[39m\u001b[90mVectorizationBase\u001b[39m\n",
      "\u001b[32m  ✓ \u001b[39m\u001b[90mSLEEFPirates\u001b[39m\n",
      "\u001b[33m  ✓ \u001b[39m\u001b[90mPyCall\u001b[39m\n",
      "\u001b[32m  ✓ \u001b[39m\u001b[90mSciMLBase → SciMLBasePyCallExt\u001b[39m\n",
      "\u001b[33m  ✓ \u001b[39mPyPlot\n",
      "\u001b[32m  ✓ \u001b[39mCSV\n",
      "\u001b[32m  ✓ \u001b[39m\u001b[90mLoopVectorization\u001b[39m\n",
      "\u001b[32m  ✓ \u001b[39m\u001b[90mLoopVectorization → SpecialFunctionsExt\u001b[39m\n",
      "\u001b[32m  ✓ \u001b[39m\u001b[90mTriangularSolve\u001b[39m\n",
      "\u001b[32m  ✓ \u001b[39m\u001b[90mRecursiveFactorization\u001b[39m\n"
     ]
    }
   ],
   "source": [
    "using Pkg\n",
    "Pkg.update()"
   ]
  },
  {
   "cell_type": "markdown",
   "metadata": {
    "slideshow": {
     "slide_type": "subslide"
    }
   },
   "source": [
    "### 3.2 Extract from another source (optional)\n",
    "Add here the code to read data from another file."
   ]
  },
  {
   "cell_type": "markdown",
   "metadata": {
    "slideshow": {
     "slide_type": "subslide"
    }
   },
   "source": [
    "### 3.3 Remove duplicates\n",
    "⌛ The idea here to remove the duplicates coming from the combination of two datasets: SeaDataNet and World Ocean Database. If one has to perform a duplicate detection on a unique dataset (for instance SeaDataNet only), a similar procedure can be applied, as explained below.\n",
    "\n",
    "#### Criteria \n",
    "Some values have to be set for the tolerance concerning the positions, times and values of the observations:\n",
    "* Horizontal distance: 0.01 degree (about 1km)\n",
    "* Vertical separation: 0.01 m depth\n",
    "* Time separation: 1 minute.      \n",
    "* Salinity difference:  0.01 psu.\n",
    "Such values can be tested and adapted according to the application, the dataset etc. Once the parameters have been set, the following command allows one to identify the _potential_ duplicates:"
   ]
  },
  {
   "cell_type": "code",
   "execution_count": null,
   "metadata": {
    "slideshow": {
     "slide_type": "fragment"
    }
   },
   "outputs": [],
   "source": [
    "@time dupl = DIVAnd.Quadtrees.checkduplicates(\n",
    "    (obslon,obslat,obsdepth,obstime), obsval, \n",
    "    (obslonwod,obslatwod, obsdepthwod, obstimewod), obsvalwod,\n",
    "    (0.01,0.01,0.01,1/(24*60)),0.01);"
   ]
  },
  {
   "cell_type": "markdown",
   "metadata": {},
   "source": [
    "#### Duplicate from only one data source"
   ]
  },
  {
   "cell_type": "markdown",
   "metadata": {},
   "source": [
    "If we need to identify duplicates coming only from the SeaDataNet dataset, the following command can be executed:"
   ]
  },
  {
   "cell_type": "code",
   "execution_count": null,
   "metadata": {},
   "outputs": [],
   "source": [
    "@time duplSDN = DIVAnd.Quadtrees.checkduplicates(\n",
    "    (obslon,obslat,obsdepth,obstime), obsval, \n",
    "    (0.01,0.01,0.01,1/(24*60)),0.01);"
   ]
  },
  {
   "cell_type": "markdown",
   "metadata": {
    "slideshow": {
     "slide_type": "subslide"
    }
   },
   "source": [
    "Find the indices of the possible duplicates:"
   ]
  },
  {
   "cell_type": "code",
   "execution_count": null,
   "metadata": {
    "slideshow": {
     "slide_type": "fragment"
    }
   },
   "outputs": [],
   "source": [
    "index = findall(.!isempty.(dupl));\n",
    "ndupl = length(index);\n",
    "pcdupl = round(ndupl / length(obslon) * 100; digits=2);\n",
    "@info(\"Number of possible duplicates: $ndupl\")\n",
    "@info(\"Percentage of duplicates: $pcdupl%\")"
   ]
  },
  {
   "cell_type": "markdown",
   "metadata": {
    "slideshow": {
     "slide_type": "subslide"
    }
   },
   "source": [
    "If you decide to combine the 2 (or more) datasets:"
   ]
  },
  {
   "cell_type": "code",
   "execution_count": null,
   "metadata": {
    "slideshow": {
     "slide_type": "fragment"
    }
   },
   "outputs": [],
   "source": [
    "newpoints = isempty.(dupl);\n",
    "@info(\"Number of new points: $(sum(newpoints)))\")"
   ]
  },
  {
   "cell_type": "code",
   "execution_count": null,
   "metadata": {
    "slideshow": {
     "slide_type": "fragment"
    }
   },
   "outputs": [],
   "source": [
    "obslon = [obslon; obslonwod[newpoints]];\n",
    "obslat = [obslat; obslatwod[newpoints]];\n",
    "obsdepth = [obsdepth; obsdepthwod[newpoints]];\n",
    "obstime = [obstime; obstimewod[newpoints]];\n",
    "obsval = [obsval; obsvalwod[newpoints]];\n",
    "obsid = [obsid; obsidwod[newpoints]];"
   ]
  },
  {
   "cell_type": "markdown",
   "metadata": {
    "slideshow": {
     "slide_type": "subslide"
    }
   },
   "source": [
    "Create a plot showing the additional data points:"
   ]
  },
  {
   "cell_type": "code",
   "execution_count": null,
   "metadata": {
    "slideshow": {
     "slide_type": "fragment"
    }
   },
   "outputs": [],
   "source": [
    "figure(\"Adriatic-Additional-Data\")\n",
    "ax = subplot(1,1,1)\n",
    "ax.tick_params(\"both\",labelsize=6)\n",
    "ylim(39.0, 46.0);\n",
    "xlim(11.5, 20.0);\n",
    "contourf(bx, by, permutedims(Float64.(mask_edit[:,:,1]),[2,1]),\n",
    "    levels=[-1e5,0],cmap=\"binary\"); \n",
    "plot(obslon, obslat, \"bo\", markersize=.2, label=\"SeaDataNet\")\n",
    "plot(obslonwod[newpoints], obslatwod[newpoints], \"go\", \n",
    "    markersize=.2, label=\"Additional data\\nfrom World Ocean Database\")\n",
    "legend(loc=3, fontsize=4)\n",
    "gca().set_aspect(aspectratio)"
   ]
  },
  {
   "cell_type": "markdown",
   "metadata": {
    "slideshow": {
     "slide_type": "slide"
    }
   },
   "source": [
    "## 4. Quality control\n",
    "We check the salinity value.     \n",
    "Adapt the criteria to your region and variable."
   ]
  },
  {
   "cell_type": "code",
   "execution_count": null,
   "metadata": {
    "slideshow": {
     "slide_type": "fragment"
    }
   },
   "outputs": [],
   "source": [
    "sel = (obsval .<= 40) .& (obsval .>= 25);"
   ]
  },
  {
   "cell_type": "code",
   "execution_count": null,
   "metadata": {
    "slideshow": {
     "slide_type": "fragment"
    }
   },
   "outputs": [],
   "source": [
    "obsval = obsval[sel]\n",
    "obslon = obslon[sel]\n",
    "obslat = obslat[sel]\n",
    "obsdepth = obsdepth[sel]\n",
    "obstime = obstime[sel]\n",
    "obsid = obsid[sel];"
   ]
  },
  {
   "cell_type": "markdown",
   "metadata": {
    "slideshow": {
     "slide_type": "slide"
    }
   },
   "source": [
    "## 5. Analysis parameters"
   ]
  },
  {
   "cell_type": "markdown",
   "metadata": {
    "slideshow": {
     "slide_type": "subslide"
    }
   },
   "source": [
    "### Modify data weight \n",
    "⌛⌛⌛       \n",
    "Compute the new weights that takes into account close points.     \n",
    "If the dataset is large, this can take a few minutes.     \n",
    "The maximal and mean values provide an indication of the spatial proximity between the data.    \n",
    "If you apply this technique, you need to adapt `epsilon2`:"
   ]
  },
  {
   "cell_type": "code",
   "execution_count": null,
   "metadata": {
    "slideshow": {
     "slide_type": "fragment"
    }
   },
   "outputs": [],
   "source": [
    "#@time rdiag=1.0./DIVAnd.weight_RtimesOne((obslon,obslat),(0.03,0.03));\n",
    "#@show maximum(rdiag),mean(rdiag)"
   ]
  },
  {
   "cell_type": "markdown",
   "metadata": {
    "slideshow": {
     "slide_type": "subslide"
    }
   },
   "source": [
    "### Correlation lengths and noise-to-signal ratio\n",
    "We will use the function `diva3D` for the calculations.     \n",
    "With this function, the correlation length has to be defined in meters, not in degrees."
   ]
  },
  {
   "cell_type": "code",
   "execution_count": null,
   "metadata": {
    "slideshow": {
     "slide_type": "fragment"
    }
   },
   "outputs": [],
   "source": [
    "sz = (length(lonr),length(latr),length(depthr));\n",
    "lenx = fill(100_000.,sz)   # 100 km\n",
    "leny = fill(100_000.,sz)   # 100 km\n",
    "lenz = fill(25.,sz);      # 25 m \n",
    "len = (lenx, leny, lenz);\n",
    "epsilon2 = 0.1;\n",
    "#epsilon2 = epsilon2 * rdiag;"
   ]
  },
  {
   "cell_type": "markdown",
   "metadata": {
    "slideshow": {
     "slide_type": "subslide"
    }
   },
   "source": [
    "### Output file name"
   ]
  },
  {
   "cell_type": "code",
   "execution_count": null,
   "metadata": {
    "slideshow": {
     "slide_type": "fragment"
    }
   },
   "outputs": [],
   "source": [
    "outputdir = \"./Adriatic/output/\"\n",
    "if !isdir(outputdir)\n",
    "    mkpath(outputdir)\n",
    "end\n",
    "filename = joinpath(outputdir, \"Water_body_$(replace(varname,\" \"=>\"_\"))_Adriatic.4Danl.nc\")"
   ]
  },
  {
   "cell_type": "markdown",
   "metadata": {
    "slideshow": {
     "slide_type": "slide"
    }
   },
   "source": [
    "## 6. Metadata and attributes\n",
    "Edit the different fields according to the project, the authors etc.     \n",
    "This is used for the netCDF file but also for the XML needed for the Sextant catalog."
   ]
  },
  {
   "cell_type": "code",
   "execution_count": null,
   "metadata": {
    "slideshow": {
     "slide_type": "subslide"
    }
   },
   "outputs": [],
   "source": [
    "metadata = OrderedDict(\n",
    "    # Name of the project (SeaDataCloud, SeaDataNet, EMODNET-chemistry, ...)\n",
    "    \"project\" => \"SeaDataCloud\",\n",
    "\n",
    "    # URN code for the institution EDMO registry,\n",
    "    # e.g. SDN:EDMO::1579\n",
    "    \"institution_urn\" => \"SDN:EDMO::1579\",\n",
    "\n",
    "    # Production group\n",
    "    #\"production\" => \"Diva group\",\n",
    "\n",
    "    # Name and emails from authors\n",
    "    \"Author_e-mail\" => [\"Your Name1 <name1@example.com>\", \"Other Name <name2@example.com>\"],\n",
    "\n",
    "    # Source of the observation\n",
    "    \"source\" => \"observational data from SeaDataNet and World Ocean Atlas\",\n",
    "\n",
    "    # Additional comment\n",
    "    \"comment\" => \"Duplicate removal applied to the merged dataset\",\n",
    "\n",
    "    # SeaDataNet Vocabulary P35 URN\n",
    "    # http://seadatanet.maris2.nl/v_bodc_vocab_v2/search.asp?lib=p35\n",
    "    # example: SDN:P35::WATERTEMP\n",
    "    \"parameter_keyword_urn\" => \"SDN:P35::EPC00001\",\n",
    "\n",
    "    # List of SeaDataNet Parameter Discovery Vocabulary P02 URNs\n",
    "    # http://seadatanet.maris2.nl/v_bodc_vocab_v2/search.asp?lib=p02\n",
    "    # example: [\"SDN:P02::TEMP\"]\n",
    "    \"search_keywords_urn\" => [\"SDN:P02::PSAL\"],\n",
    "\n",
    "    # List of SeaDataNet Vocabulary C19 area URNs\n",
    "    # SeaVoX salt and fresh water body gazetteer (C19)\n",
    "    # http://seadatanet.maris2.nl/v_bodc_vocab_v2/search.asp?lib=C19\n",
    "    # example: [\"SDN:C19::3_1\"]\n",
    "    \"area_keywords_urn\" => [\"SDN:C19::3_3\"],\n",
    "\n",
    "    \"product_version\" => \"1.0\",\n",
    "    \n",
    "    \"product_code\" => \"something-to-decide\",\n",
    "    \n",
    "    # bathymetry source acknowledgement\n",
    "    # see, e.g.\n",
    "    # * EMODnet Bathymetry Consortium (2016): EMODnet Digital Bathymetry (DTM).\n",
    "    # https://doi.org/10.12770/c7b53704-999d-4721-b1a3-04ec60c87238\n",
    "    # \n",
    "    # taken from\n",
    "    # http://www.emodnet-bathymetry.eu/data-products/acknowledgement-in-publications\n",
    "    #\n",
    "    # * The GEBCO Digital Atlas published by the British Oceanographic Data Centre on behalf of IOC and IHO, 2003\n",
    "    #\n",
    "    # taken from\n",
    "    # https://www.bodc.ac.uk/projects/data_management/international/gebco/gebco_digital_atlas/copyright_and_attribution/\n",
    "        \n",
    "    \"bathymetry_source\" => \"The GEBCO Digital Atlas published by the British Oceanographic Data Centre on behalf of IOC and IHO, 2003\",\n",
    "\n",
    "    # NetCDF CF standard name\n",
    "    # http://cfconventions.org/Data/cf-standard-names/current/build/cf-standard-name-table.html\n",
    "    # example \"standard_name\" = \"sea_water_temperature\",\n",
    "    \"netcdf_standard_name\" => \"sea_water_salinity\",\n",
    "\n",
    "    \"netcdf_long_name\" => \"sea water salinity\",\n",
    "\n",
    "    \"netcdf_units\" => \"1e-3\",\n",
    "\n",
    "    # Abstract for the product\n",
    "    \"abstract\" => \"...\",\n",
    "\n",
    "    # This option provides a place to acknowledge various types of support for the\n",
    "    # project that produced the data\n",
    "    \"acknowledgement\" => \"...\",\n",
    "\n",
    "    \"documentation\" => \"https://doi.org/doi_of_doc\",\n",
    "\n",
    "    # Digital Object Identifier of the data product\n",
    "    \"doi\" => \"...\");"
   ]
  },
  {
   "cell_type": "markdown",
   "metadata": {
    "slideshow": {
     "slide_type": "subslide"
    }
   },
   "source": [
    "SeaDataNet global attributes:"
   ]
  },
  {
   "cell_type": "code",
   "execution_count": null,
   "metadata": {
    "slideshow": {
     "slide_type": "fragment"
    }
   },
   "outputs": [],
   "source": [
    "ncglobalattrib, ncvarattrib = SDNMetadata(metadata, filename, varname, lonr, latr)"
   ]
  },
  {
   "cell_type": "markdown",
   "metadata": {
    "slideshow": {
     "slide_type": "slide"
    }
   },
   "source": [
    "## 7. Analysis"
   ]
  },
  {
   "cell_type": "markdown",
   "metadata": {
    "slideshow": {
     "slide_type": "subslide"
    }
   },
   "source": [
    "Remove the result file before running the analysis, otherwise you'll get the message     \n",
    "```julia\n",
    "NCDatasets.NetCDFError(13, \"Permission denied\")\n",
    "```"
   ]
  },
  {
   "cell_type": "code",
   "execution_count": null,
   "metadata": {
    "slideshow": {
     "slide_type": "fragment"
    }
   },
   "outputs": [],
   "source": [
    "if isfile(filename)\n",
    "    rm(filename) # delete the previous analysis\n",
    "    @info \"Removing file $filename\"\n",
    "end"
   ]
  },
  {
   "cell_type": "markdown",
   "metadata": {
    "slideshow": {
     "slide_type": "subslide"
    }
   },
   "source": [
    "### 7.1 Plotting function\n",
    "Define a plotting function that will be applied for each time index and depth level.     \n",
    "All the figures will be saved in a selected directory."
   ]
  },
  {
   "cell_type": "code",
   "execution_count": null,
   "metadata": {
    "slideshow": {
     "slide_type": "subslide"
    }
   },
   "outputs": [],
   "source": [
    "figdir = \"./Adriatic/figures/\"\n",
    "if ~(isdir(figdir))\n",
    "    mkdir(figdir)\n",
    "else\n",
    "    @info(\"Figure directory already exists\")\n",
    "end"
   ]
  },
  {
   "cell_type": "code",
   "execution_count": null,
   "metadata": {
    "slideshow": {
     "slide_type": "subslide"
    }
   },
   "outputs": [],
   "source": [
    "function plotres(timeindex,sel,fit,erri)\n",
    "    tmp = copy(fit)\n",
    "    nx,ny,nz = size(tmp)\n",
    "    for i in 1:nz\n",
    "        figure(\"Adriatic-Additional-Data\")\n",
    "        ax = subplot(1,1,1)\n",
    "        ax.tick_params(\"both\",labelsize=6)\n",
    "        ylim(39.0, 46.0);\n",
    "        xlim(11.5, 20.0);\n",
    "        title(\"Depth: $(depthr[i]) \\n Time index: $(timeindex)\", fontsize=6)\n",
    "        pcolor(lonr.-dx/2.,latr.-dy/2, permutedims(tmp[:,:,i], [2,1]);\n",
    "               vmin = 33, vmax = 40)\n",
    "        colorbar(extend=\"both\", orientation=\"vertical\", shrink=0.8).ax.tick_params(labelsize=8)\n",
    "\n",
    "        contourf(bx,by,permutedims(b,[2,1]), levels = [-1e5,0],colors = [[.5,.5,.5]])\n",
    "        aspectratio = 1/cos(mean(latr) * pi/180)\n",
    "        gca().set_aspect(aspectratio)\n",
    "        \n",
    "        figname = varname * @sprintf(\"_%02d\",i) * @sprintf(\"_%03d.png\",timeindex)\n",
    "        PyPlot.savefig(joinpath(figdir, figname), dpi=600, bbox_inches=\"tight\");\n",
    "        PyPlot.close_figs()\n",
    "    end\n",
    "end"
   ]
  },
  {
   "cell_type": "markdown",
   "metadata": {
    "slideshow": {
     "slide_type": "subslide"
    }
   },
   "source": [
    "### 7.2 Create the gridded fields using `diva3d`\n",
    "Here only the noise-to-signal ratio is estimated.     \n",
    "Set `fitcorrlen` to `true` to also optimise the correlation length."
   ]
  },
  {
   "cell_type": "code",
   "execution_count": null,
   "metadata": {
    "slideshow": {
     "slide_type": "subslide"
    }
   },
   "outputs": [],
   "source": [
    "@time dbinfo = diva3d((lonr,latr,depthr,TS),\n",
    "    (obslon,obslat,obsdepth,obstime), obsval,\n",
    "    len, epsilon2,\n",
    "    filename,varname,\n",
    "    bathname=bathname,\n",
    "    plotres = plotres,\n",
    "    mask = mask_edit,\n",
    "    fitcorrlen = false,\n",
    "    niter_e = 2,\n",
    "    ncvarattrib = ncvarattrib,\n",
    "    ncglobalattrib = ncglobalattrib,\n",
    "    surfextend = true\n",
    "    );"
   ]
  },
  {
   "cell_type": "markdown",
   "metadata": {
    "slideshow": {
     "slide_type": "subslide"
    }
   },
   "source": [
    "Example of results: salinity at 20 meters for the April-May-June period."
   ]
  },
  {
   "cell_type": "markdown",
   "metadata": {
    "slideshow": {
     "slide_type": "fragment"
    }
   },
   "source": [
    "<img src=\"./Adriatic/figures/Salinity_02_002.png\" width=\"450px\">"
   ]
  },
  {
   "cell_type": "markdown",
   "metadata": {
    "slideshow": {
     "slide_type": "subslide"
    }
   },
   "source": [
    "Save the observation metadata in the netCDF file.      "
   ]
  },
  {
   "cell_type": "code",
   "execution_count": null,
   "metadata": {
    "slideshow": {
     "slide_type": "fragment"
    }
   },
   "outputs": [],
   "source": [
    "# DIVAnd.saveobs(filename,(obslon,obslat,obsdepth,obstime),obsid);\n",
    "DIVAnd.saveobs(filename, \"salinity obs\", obsval, (obslon,obslat,obsdepth,obstime),obsid,used = dbinfo[:used])\n",
    "#DIVAnd.saveobs(filename, \"Oxygen data\", obsval, (obslon,obslat,obsdepth,obstime),obsid)"
   ]
  },
  {
   "cell_type": "code",
   "execution_count": null,
   "metadata": {},
   "outputs": [],
   "source": [
    "Dataset(filename, \"a\") do ds\n",
    "    ncobs = defVar(\n",
    "        ds,\n",
    "        \"salinity obs\",\n",
    "        Float32,\n",
    "        (\"observations\",),\n",
    "        checksum = :fletcher32,\n",
    "        chunksize = 10_000,\n",
    "        deflatelevel = 9,\n",
    "    )\n",
    "    ncobs[:] = obsval\n",
    "end"
   ]
  },
  {
   "cell_type": "markdown",
   "metadata": {
    "collapsed": true,
    "slideshow": {
     "slide_type": "slide"
    }
   },
   "source": [
    "## 8. Apply a posteriori quality control\n",
    "We can use the structure `dbinfo`.\n",
    "histogram for quality flags"
   ]
  },
  {
   "cell_type": "markdown",
   "metadata": {
    "slideshow": {
     "slide_type": "slide"
    }
   },
   "source": [
    "## 9. XML metadata"
   ]
  },
  {
   "cell_type": "markdown",
   "metadata": {
    "slideshow": {
     "slide_type": "subslide"
    }
   },
   "source": [
    "For DIVAnd analysis using SeaDataCloud/EMODnet-Chemistry data, one can create a XML description for the product for Sextant\n",
    "\n",
    "Name of the project:\n",
    "* \"SeaDataCloud\" or \n",
    "* \"EMODNET-chemistry\""
   ]
  },
  {
   "cell_type": "code",
   "execution_count": null,
   "metadata": {
    "slideshow": {
     "slide_type": "fragment"
    }
   },
   "outputs": [],
   "source": [
    "project = \"SeaDataCloud\";\n",
    "#project = \"EMODNET-chemistry\""
   ]
  },
  {
   "cell_type": "markdown",
   "metadata": {
    "slideshow": {
     "slide_type": "subslide"
    }
   },
   "source": [
    "Download CDI list"
   ]
  },
  {
   "cell_type": "code",
   "execution_count": null,
   "metadata": {
    "slideshow": {
     "slide_type": "fragment"
    }
   },
   "outputs": [],
   "source": [
    "cdilist = \"./CDI-list-export.zip\"\n",
    "\n",
    "if !isfile(cdilist)\n",
    "   download(\"http://emodnet-chemistry.maris2.nl/download/export.zip\", cdilist)\n",
    "end"
   ]
  },
  {
   "cell_type": "markdown",
   "metadata": {
    "slideshow": {
     "slide_type": "subslide"
    }
   },
   "source": [
    "If `ignore_errors` is `false` (default), then a missing CDI will stop the creatation of the XML metadata."
   ]
  },
  {
   "cell_type": "code",
   "execution_count": null,
   "metadata": {
    "slideshow": {
     "slide_type": "fragment"
    }
   },
   "outputs": [],
   "source": [
    "ignore_errors = true\n",
    "\n",
    "# File name based on the variable (but all spaces are replaced by underscores)\n",
    "xmlfilename = \"Water_body_$(replace(varname,\" \"=>\"_\")).4Danl.xml\""
   ]
  },
  {
   "cell_type": "markdown",
   "metadata": {
    "slideshow": {
     "slide_type": "subslide"
    }
   },
   "source": [
    "Uncomment the following line of you are using SeaDataCloud or EMODnet-Chemistry data."
   ]
  },
  {
   "cell_type": "code",
   "execution_count": null,
   "metadata": {
    "slideshow": {
     "slide_type": "fragment"
    }
   },
   "outputs": [],
   "source": [
    "# generate a XML file for Sextant catalog\n",
    "divadoxml(filename,varname,project,cdilist,xmlfilename,\n",
    "          ignore_errors = ignore_errors)"
   ]
  }
 ],
 "metadata": {
  "@webio": {
   "lastCommId": null,
   "lastKernelId": null
  },
  "kernelspec": {
   "display_name": "Julia 1.11.1",
   "language": "julia",
   "name": "julia-1.11"
  },
  "language_info": {
   "file_extension": ".jl",
   "mimetype": "application/julia",
   "name": "julia",
   "version": "1.11.1"
  },
  "toc": {
   "base_numbering": 1,
   "nav_menu": {},
   "number_sections": true,
   "sideBar": true,
   "skip_h1_title": false,
   "title_cell": "Table of Contents",
   "title_sidebar": "Contents",
   "toc_cell": false,
   "toc_position": {},
   "toc_section_display": true,
   "toc_window_display": false
  }
 },
 "nbformat": 4,
 "nbformat_minor": 2
}
