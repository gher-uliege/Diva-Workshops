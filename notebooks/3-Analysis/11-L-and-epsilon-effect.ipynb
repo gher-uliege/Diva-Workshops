{
 "cells": [
  {
   "cell_type": "markdown",
   "metadata": {},
   "source": [
    "# Looking at effets of changing analysis parameters\n",
    "The notebook shows how the main analysis parameters:\n",
    "* $L$ = correlation length (can be horizontal, vertical or temporal);     \n",
    "* $\\epsilon^2$ = noise-to-signal ratio;     \n",
    "\n",
    "influence the resulting interpolated field."
   ]
  },
  {
   "cell_type": "code",
   "execution_count": null,
   "metadata": {},
   "outputs": [],
   "source": [
    "using DIVAnd\n",
    "using PyPlot\n",
    "using Dates\n",
    "using Statistics\n",
    "include(\"../config.jl\")"
   ]
  },
  {
   "cell_type": "code",
   "execution_count": null,
   "metadata": {},
   "outputs": [],
   "source": []
  },
  {
   "cell_type": "markdown",
   "metadata": {},
   "source": [
    "## Data reading\n",
    "From a netCDF file containing salinity measurements in the Provençal Basin."
   ]
  },
  {
   "cell_type": "code",
   "execution_count": null,
   "metadata": {},
   "outputs": [],
   "source": [
    "varname = \"Salinity\"\n",
    "download_check(salinityprovencalfile, salinityprovencalfileURL)\n",
    "obsval,obslon,obslat,obsdepth,obstime,obsid = loadobs(Float64, salinityprovencalfile, varname);"
   ]
  },
  {
   "cell_type": "markdown",
   "metadata": {},
   "source": [
    "## Topography and grid definition\n",
    "\n",
    "See the notebook on [bathymetry](../Diva-Workshops/06-topography.ipynb) for more explanations about the bathymetry preparation."
   ]
  },
  {
   "cell_type": "code",
   "execution_count": null,
   "metadata": {},
   "outputs": [],
   "source": [
    "dx = dy = 0.125/2.\n",
    "lonr = 2.5:dx:12.\n",
    "latr = 42.3:dy:44.6\n",
    "\n",
    "mask,(pm,pn),(xi,yi) = DIVAnd_rectdom(lonr,latr)\n",
    "\n",
    "bathname = gebco04file\n",
    "download_check(gebco04file, gebco04fileURL)"
   ]
  },
  {
   "cell_type": "code",
   "execution_count": null,
   "metadata": {},
   "outputs": [],
   "source": [
    "bx,by,b = load_bath(bathname,true,lonr,latr)\n",
    "\n",
    "mask = falses(size(b,1),size(b,2))\n",
    "\n",
    "for j = 1:size(b,2)\n",
    "    for i = 1:size(b,1)\n",
    "        mask[i,j] = b[i,j] >=1.0\n",
    "    end\n",
    "end"
   ]
  },
  {
   "cell_type": "markdown",
   "metadata": {},
   "source": [
    "### Data selection for example\n",
    "\n",
    "Cross validation, error calculations etc. assume independant data.     \n",
    "Hence we do not take high-resolution vertical profiles with all data but restrict yourself to specific small depth range.     \n",
    "For this example we select data from August data near surface (depth between 0 and 1 m)."
   ]
  },
  {
   "cell_type": "code",
   "execution_count": null,
   "metadata": {},
   "outputs": [],
   "source": [
    "sel = (obsdepth .< 1) .& (Dates.month.(obstime) .== 8)\n",
    "\n",
    "obsval = obsval[sel]\n",
    "obslon = obslon[sel]\n",
    "obslat = obslat[sel]\n",
    "obsdepth = obsdepth[sel]\n",
    "obstime = obstime[sel]\n",
    "obsids = obsid[sel];\n",
    "@show (size(obsval))\n",
    "checkobs((obslon,obslat,obsdepth,obstime),obsval,obsid)"
   ]
  },
  {
   "cell_type": "markdown",
   "metadata": {
    "collapsed": true
   },
   "source": [
    "## Analysis\n",
    "### Simple analysis\n",
    "The function to call is `DIVAndrun`:\n",
    "```\n",
    "fi,s = DIVAndrun(mask,(pm,pn),(xi,yi),(obslon,obslat),obsval.-mean(obsval),\n",
    "            len,epsilon2;alphabc=0);\n",
    "```\n",
    "where \n",
    "Analysis `fi` using mean data as background.        \n",
    "Structure `s` is stored for later use.     \n",
    "\n",
    "* `mask` is the land-sea mask,     \n",
    "* `(pm,pn)` are the metrics (inverse of resolution)     \n",
    "* `(xi,yi)` is the grid on which the interpolation is performed.   \n",
    "\n",
    "These 3 inputs were created before using `DIVAnd_rectdom`.\n",
    "\n",
    "* `(obslon,obslat)` are the positions of the observations, obtained using `loadobs` (beginning of this notebook).     \n",
    "* `obsval.-mean(obsval)` is the data anomalies (observations minus mean value).\n",
    "\n",
    "`len` (correlation length) and `epsilon2` (noise-to-signal ratio) are the main two analysis paramerers that we will test hereinafter."
   ]
  },
  {
   "cell_type": "markdown",
   "metadata": {},
   "source": [
    "### Loop on the parameters\n",
    "Here a loop on different values for $L$ and $\\epsilon^2$.     \n",
    "⚠️ Don't forget to add back the mean value when plotting the results (`fi.+mean(obsval)`)."
   ]
  },
  {
   "cell_type": "code",
   "execution_count": null,
   "metadata": {},
   "outputs": [],
   "source": [
    "subplots_adjust(left = 0.1, bottom = 0.1, right = 2, top = 2, wspace = 0.1, hspace = 0.1)\n",
    "for i=1:3\n",
    "    for j=0:3\n",
    "        len=5*10.0^(i-2)\n",
    "        epsilon2=10.0^(-2*j+2)\n",
    "        #@show i,j,len*sqrt(epsilon2),len,epsilon2\n",
    "        fi,s = DIVAndrun(mask,(pm,pn),(xi,yi),(obslon,obslat),obsval.-mean(obsval),\n",
    "            len,epsilon2;alphabc=0);\n",
    "        subplot(4,3,3*j+i)\n",
    "        pcolor(xi,yi,fi.+mean(obsval),vmin=37,vmax=38.5);#colorbar(orientation=\"horizontal\")\n",
    "        gca().set_aspect(1/cos(mean([ylim()...]) * pi/180))\n",
    "        title(\"L: $len and epsilon2 : $epsilon2\") \n",
    "    end\n",
    "end"
   ]
  },
  {
   "cell_type": "markdown",
   "metadata": {},
   "source": [
    "## But which combination to use ?\n",
    "\n",
    "Visual inspection tells you which analyses are obvisouly (?) too noisy or too smooth.     \n",
    "Also some suspect data points are seen when $L$ and $\\epsilon^2$ are small.     \n",
    "Let's create some figures showing the analysis, data values and residuals."
   ]
  },
  {
   "cell_type": "markdown",
   "metadata": {},
   "source": [
    "### Data values over analysis"
   ]
  },
  {
   "cell_type": "code",
   "execution_count": null,
   "metadata": {},
   "outputs": [],
   "source": [
    "figure()\n",
    "len=1\n",
    "epsilon2=1\n",
    "fi,s = DIVAndrun(mask,(pm,pn),(xi,yi),(obslon,obslat),obsval.-mean(obsval),len,epsilon2);\n",
    "\n",
    "pcolor(xi,yi,fi.+mean(obsval),vmin=37,vmax=38.5);\n",
    "colorbar(orientation=\"horizontal\")\n",
    "gca().set_aspect(1/cos(mean([ylim()...]) * pi/180))\n",
    "scatter(obslon,obslat,s=2,c=obsval,vmin=37,vmax=38.5)\n",
    "rscale=sqrt(var(obsval))"
   ]
  },
  {
   "cell_type": "markdown",
   "metadata": {},
   "source": [
    "### Residuals\n",
    "We get them using `DIVAnd_residualobs`."
   ]
  },
  {
   "cell_type": "code",
   "execution_count": null,
   "metadata": {},
   "outputs": [],
   "source": [
    "dataresiduals=DIVAnd_residualobs(s,fi)\n",
    "\n",
    "figure()\n",
    "scatter(obslon,obslat,s=2,c=dataresiduals,vmin=-rscale,vmax=rscale,cmap=ColorMap(\"RdBu_r\"));\n",
    "colorbar(orientation=\"horizontal\")\n",
    "gca().set_aspect(1/cos(mean([ylim()...]) * pi/180))\n",
    "title(\"Residuals\")"
   ]
  },
  {
   "cell_type": "markdown",
   "metadata": {},
   "source": [
    "### Observed values vs. residuals"
   ]
  },
  {
   "cell_type": "code",
   "execution_count": null,
   "metadata": {},
   "outputs": [],
   "source": [
    "figure()\n",
    "scatter(obsval,dataresiduals, s=2)\n",
    "xlabel(\"Data values\")\n",
    "ylabel(\"Residuals\")\n",
    "title(\"Residuals as function of value\");"
   ]
  },
  {
   "cell_type": "markdown",
   "metadata": {},
   "source": [
    "\n",
    "Note how residuals change (decrease if you decrease $\\epsilon^2$). \n",
    "\n",
    "**⚠️⚠️ low residuals are not necessarily a good sign as the analysis used the data points to which you compare your analysis.**"
   ]
  },
  {
   "cell_type": "code",
   "execution_count": null,
   "metadata": {},
   "outputs": [],
   "source": [
    "var(dataresiduals),var(obsval),var(fi[(fi.!==NaN)])"
   ]
  },
  {
   "cell_type": "markdown",
   "metadata": {},
   "source": [
    "# Exercise\n",
    "\n",
    "Change parameters $L$ or $\\epsilon^2$ and see what happens (do not rerun the whole notebook, just the last cells)"
   ]
  },
  {
   "cell_type": "code",
   "execution_count": null,
   "metadata": {},
   "outputs": [],
   "source": []
  },
  {
   "cell_type": "markdown",
   "metadata": {},
   "source": [
    "# ⚠️ Important take-home message!\n",
    "Remember analyses are not very sensitive to changes in $L$ or $\\epsilon^2$ if (in 2D) $L$ $\\sqrt{\\epsilon^2}$ remains constant and data coverage is reasonable.     \n",
    "To see changes in the analysis you need significant changes in  $L$ or $\\epsilon^2$ changing $L$ $\\sqrt{\\epsilon^2}$.         \n",
    "A few percent changes on the parameters does not really modify things even if $L$ $\\sqrt{\\epsilon^2}$ changes."
   ]
  },
  {
   "cell_type": "code",
   "execution_count": null,
   "metadata": {},
   "outputs": [],
   "source": []
  }
 ],
 "metadata": {
  "@webio": {
   "lastCommId": null,
   "lastKernelId": null
  },
  "anaconda-cloud": {},
  "kernelspec": {
   "display_name": "Julia 1.11.1",
   "language": "julia",
   "name": "julia-1.11"
  },
  "language_info": {
   "file_extension": ".jl",
   "mimetype": "application/julia",
   "name": "julia",
   "version": "1.11.1"
  },
  "toc": {
   "base_numbering": 1,
   "nav_menu": {},
   "number_sections": true,
   "sideBar": true,
   "skip_h1_title": false,
   "title_cell": "Table of Contents",
   "title_sidebar": "Contents",
   "toc_cell": false,
   "toc_position": {},
   "toc_section_display": true,
   "toc_window_display": false
  }
 },
 "nbformat": 4,
 "nbformat_minor": 1
}
