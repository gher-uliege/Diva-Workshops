{
 "cells": [
  {
   "cell_type": "markdown",
   "metadata": {},
   "source": [
    "# Optimizing analysis parameters $L$ and $\\epsilon^2$\n",
    "This notebooks shows different ways to optimize the analysis parameters."
   ]
  },
  {
   "cell_type": "code",
   "execution_count": 1,
   "metadata": {},
   "outputs": [
    {
     "data": {
      "text/plain": [
       "\"https://dox.uliege.be/index.php/s/8tRk0NAStr2P70j/download\""
      ]
     },
     "execution_count": 1,
     "metadata": {},
     "output_type": "execute_result"
    }
   ],
   "source": [
    "using DIVAnd\n",
    "using PyPlot\n",
    "using Dates\n",
    "using Statistics\n",
    "include(\"../config.jl\")"
   ]
  },
  {
   "cell_type": "markdown",
   "metadata": {},
   "source": [
    "## Data reading"
   ]
  },
  {
   "cell_type": "code",
   "execution_count": 2,
   "metadata": {},
   "outputs": [
    {
     "name": "stderr",
     "output_type": "stream",
     "text": [
      "\u001b[36m\u001b[1m[ \u001b[22m\u001b[39m\u001b[36m\u001b[1mInfo: \u001b[22m\u001b[39mFile already downloaded\n"
     ]
    }
   ],
   "source": [
    "varname = \"Salinity\"\n",
    "filename = salinityprovencalfile\n",
    "download_check(salinityprovencalfile, salinityprovencalfileURL)\n",
    "\n",
    "obsval,obslon,obslat,obsdepth,obstime,obsid = loadobs(Float64, filename, varname);"
   ]
  },
  {
   "cell_type": "markdown",
   "metadata": {},
   "source": [
    "### Topography and grid definition\n",
    "\n",
    "See the notebook on [bathymetry](../2-Preprocessing/06-topography.ipynb) for more explanations."
   ]
  },
  {
   "cell_type": "code",
   "execution_count": null,
   "metadata": {},
   "outputs": [],
   "source": [
    "dx = dy = 0.125/2.\n",
    "lonr = 2.5:dx:12.\n",
    "latr = 42.3:dy:44.6\n",
    "\n",
    "mask,(pm,pn),(xi,yi) = DIVAnd_rectdom(lonr, latr)\n",
    "\n",
    "bathname = gebco04file\n",
    "download_check(gebco04file, gebco04fileURL)"
   ]
  },
  {
   "cell_type": "markdown",
   "metadata": {},
   "source": [
    "Reading the bathymetry and creating the mask"
   ]
  },
  {
   "cell_type": "code",
   "execution_count": null,
   "metadata": {},
   "outputs": [],
   "source": [
    "bx,by,b = load_bath(bathname,true,lonr,latr)\n",
    "\n",
    "mask = falses(size(b,1),size(b,2))\n",
    "\n",
    "for j = 1:size(b,2)\n",
    "    for i = 1:size(b,1)\n",
    "        mask[i,j] = b[i,j] >=1.0\n",
    "    end\n",
    "end"
   ]
  },
  {
   "cell_type": "markdown",
   "metadata": {},
   "source": [
    "## Data selection for example\n",
    "\n",
    "Cross validation, error calculations etc. assume independant data. Hence do not take high-resolution vertical profiles with all data but restrict yourself to specific small depth ranges. Here August data near the surface surface.     \n",
    "We also perform a test on values to eliminate obvious outliers:"
   ]
  },
  {
   "cell_type": "code",
   "execution_count": null,
   "metadata": {},
   "outputs": [],
   "source": [
    "datadepth=1\n",
    "depthprecision=0.5\n",
    "\n",
    "sel = (obsdepth .< datadepth) .& \n",
    "(obsdepth .>= (datadepth-depthprecision)) .& \n",
    "(Dates.month.(obstime) .== 8) .& \n",
    "(obsval .> 37)\n",
    "\n",
    "obsval = obsval[sel]\n",
    "obslon = obslon[sel]\n",
    "obslat = obslat[sel]\n",
    "obsdepth = obsdepth[sel]\n",
    "obstime = obstime[sel]\n",
    "obsid = obsid[sel];\n",
    "@show (size(obsval))\n",
    "checkobs((obslon,obslat,obsdepth,obstime),obsval,obsid)"
   ]
  },
  {
   "cell_type": "markdown",
   "metadata": {},
   "source": [
    "We modify data weight by taking into account close points.      \n",
    "**⚠️** This operation is particularly costly when dealing with big datasets."
   ]
  },
  {
   "cell_type": "code",
   "execution_count": null,
   "metadata": {},
   "outputs": [],
   "source": [
    "?DIVAnd.weight_RtimesOne"
   ]
  },
  {
   "cell_type": "code",
   "execution_count": null,
   "metadata": {},
   "outputs": [],
   "source": [
    "rdiag=1.0./DIVAnd.weight_RtimesOne((obslon,obslat),(0.03,0.03))\n",
    "@show maximum(rdiag),mean(rdiag)"
   ]
  },
  {
   "cell_type": "markdown",
   "metadata": {
    "collapsed": true,
    "jupyter": {
     "outputs_hidden": true
    }
   },
   "source": [
    "## Analysis\n",
    "\n",
    "Analysis `fi` using mean data as background.      \n",
    "Structure `s` is stored for later use."
   ]
  },
  {
   "cell_type": "code",
   "execution_count": null,
   "metadata": {},
   "outputs": [],
   "source": [
    "len=1\n",
    "epsilon2=1\n",
    "fi,s = DIVAndrun(mask,(pm,pn),(xi,yi),(obslon,obslat),obsval.-mean(obsval),len,epsilon2*rdiag);"
   ]
  },
  {
   "cell_type": "markdown",
   "metadata": {},
   "source": [
    "Generate some plots:\n",
    "1. Analysis with data points\n",
    "2. Data residuals\n",
    "3. Residuals vs value"
   ]
  },
  {
   "cell_type": "code",
   "execution_count": null,
   "metadata": {},
   "outputs": [],
   "source": [
    "figure()\n",
    "pcolor(xi,yi,fi/+mean(obsval),vmin=37,vmax=38.5);\n",
    "colorbar(orientation=\"horizontal\")\n",
    "gca().set_aspect(1/cos(mean([ylim()...]) * pi/180))\n",
    "dataresiduals=DIVAnd_residualobs(s,fi)\n",
    "scatter(obslon,obslat,s=2,c=obsval,vmin=37,vmax=38.5)\n",
    "aspectratio = 1/cos(mean([ylim()...]) * pi/180)\n",
    "gca().set_aspect(aspectratio)\n",
    "rscale=sqrt(var(obsval))"
   ]
  },
  {
   "cell_type": "code",
   "execution_count": null,
   "metadata": {},
   "outputs": [],
   "source": [
    "figure()\n",
    "scatter(obslon,obslat,s=2,c=dataresiduals,vmin=-rscale,vmax=rscale,cmap=ColorMap(\"RdBu_r\"));\n",
    "colorbar(orientation=\"horizontal\")\n",
    "gca().set_aspect(aspectratio)\n",
    "title(\"Residuals\");"
   ]
  },
  {
   "cell_type": "code",
   "execution_count": null,
   "metadata": {},
   "outputs": [],
   "source": [
    "figure()\n",
    "scatter(obsval, dataresiduals, s=2)\n",
    "title(\"Residuals as function of value\");\n",
    "xlabel(\"Salinity\")\n",
    "ylabel(\"Residuals\");"
   ]
  },
  {
   "cell_type": "markdown",
   "metadata": {},
   "source": [
    "# Cross validation\n",
    "\n",
    "Take out data and measure difference between these data points not used and the analysis. Three methods are implemented \n",
    "## Define method used\n",
    "    # 1: full CV\n",
    "    # 2: sampled CV\n",
    "    # 3: GCV\n",
    "    # 0: automatic choice between the three possible ones, default value"
   ]
  },
  {
   "cell_type": "code",
   "execution_count": null,
   "metadata": {},
   "outputs": [],
   "source": [
    "bestfactorl=ones(4)\n",
    "bestfactore=ones(4)\n",
    "for imeth=0:3\n",
    "\n",
    "    bestfactorl[imeth+1],bestfactore[imeth+1], cvval,cvvalues, x2Ddata,y2Ddata,cvinter,xi2D,yi2D = DIVAnd_cv(mask,(pm,pn),(xi,yi),(obslon,obslat),obsval.-mean(obsval),len,epsilon2*rdiag,2,3,imeth);\n",
    "    @show bestfactorl[imeth+1],bestfactore[imeth+1]\n",
    "    \n",
    "    subplot(2,2,imeth+1)\n",
    "    pcolor(xi2D,yi2D,cvinter)#,vmin=0,vmax=0.04)\n",
    "    colorbar()\n",
    "    xlabel(\"Log10 scale factor L\")\n",
    "    ylabel(\"Log10 scale factor e2\")\n",
    "    plot(x2Ddata,y2Ddata,\".\")\n",
    "    plot(log10.(bestfactorl[imeth+1]), log10.(bestfactore[imeth+1]),\"o\")\n",
    "    title(\"Method $imeth\")\n",
    "end"
   ]
  },
  {
   "cell_type": "markdown",
   "metadata": {},
   "source": [
    "**⚠️ WARNING:** any tests with resulting length scales being smaller than around 4 times the grid spacing are meaningless."
   ]
  },
  {
   "cell_type": "markdown",
   "metadata": {},
   "source": [
    "Analysis with optimized values:\n"
   ]
  },
  {
   "cell_type": "code",
   "execution_count": null,
   "metadata": {},
   "outputs": [],
   "source": [
    "newl=len*bestfactorl[2]\n",
    "newe=epsilon2*bestfactore[2]\n",
    "\n",
    "fi,s = DIVAndrun(mask,(pm,pn),(xi,yi),(obslon,obslat),obsval.-mean(obsval),newl,newe*rdiag);"
   ]
  },
  {
   "cell_type": "code",
   "execution_count": null,
   "metadata": {},
   "outputs": [],
   "source": [
    "\"New L $(round(newl, digits=3)) and new e2 $(round(newe, digits=3))\""
   ]
  },
  {
   "cell_type": "code",
   "execution_count": null,
   "metadata": {},
   "outputs": [],
   "source": [
    "pcolor(xi,yi,fi.+mean(obsval),vmin=37,vmax=38.5);\n",
    "colorbar(orientation=\"horizontal\")\n",
    "gca().set_aspect(1/cos(mean([ylim()...]) * pi/180))\n",
    "dataresiduals=DIVAnd_residualobs(s,fi)\n",
    "scatter(obslon,obslat,s=2,c=obsval,vmin=37,vmax=38.5)\n",
    "title(\"New L  = $(round(newl, digits=3))\\n new e2 = $(round(newe, digits=3))\")\n",
    "rscale=sqrt(var(obsval))"
   ]
  },
  {
   "cell_type": "code",
   "execution_count": null,
   "metadata": {},
   "outputs": [],
   "source": [
    "figure()\n",
    "scatter(obslon,obslat,s=2,c=dataresiduals,vmin=-rscale,vmax=rscale);\n",
    "colorbar(orientation=\"horizontal\")\n",
    "gca().set_aspect(1/cos(mean([ylim()...]) * pi/180))\n",
    "title(\"Residuals\")"
   ]
  },
  {
   "cell_type": "code",
   "execution_count": null,
   "metadata": {},
   "outputs": [],
   "source": [
    "figure()\n",
    "scatter(obsval,dataresiduals)\n",
    "title(\"Residuals as function of value\");"
   ]
  },
  {
   "cell_type": "markdown",
   "metadata": {},
   "source": [
    "## Only one parameter optimized\n",
    "\n",
    "If $L$ is fixed by other calibration, you can decide to optimize only $\\epsilon^2$:"
   ]
  },
  {
   "cell_type": "code",
   "execution_count": null,
   "metadata": {},
   "outputs": [],
   "source": [
    "lenfixed=1\n",
    "epsilon2=.1\n",
    "for imeth=0:3\n",
    "    bestfactore[imeth+1], cvval,cvvalues, x2Ddata,cvinter,xi2D = \n",
    "    DIVAnd_cv(mask,(pm,pn),(xi,yi),(obslon,obslat),obsval.-mean(obsval),lenfixed,epsilon2*rdiag,0,4,imeth);\n",
    "\n",
    "    subplot(2,2,imeth+1)\n",
    "    plot(xi2D,cvinter,\"-\")\n",
    "    xlabel(\"Log10 scale factor e2\")\n",
    "    plot(x2Ddata,cvvalues,\".\")\n",
    "    plot(log10.(bestfactore[imeth+1]), cvval,\"o\")\n",
    "    title(\"Method $imeth\")\n",
    "end"
   ]
  },
  {
   "cell_type": "code",
   "execution_count": null,
   "metadata": {},
   "outputs": [],
   "source": [
    "newl=lenfixed\n",
    "newe=epsilon2*bestfactore[3]\n",
    "@show newe\n",
    "fi,s = DIVAndrun(mask,(pm,pn),(xi,yi),(obslon,obslat),obsval.-mean(obsval),newl,newe*rdiag);"
   ]
  },
  {
   "cell_type": "code",
   "execution_count": null,
   "metadata": {},
   "outputs": [],
   "source": [
    "figure()\n",
    "pcolor(xi,yi,fi.+mean(obsval),vmin=37,vmax=38.5);\n",
    "colorbar(orientation=\"horizontal\")\n",
    "gca().set_aspect(1/cos(mean([ylim()...]) * pi/180))\n",
    "dataresiduals=DIVAnd_residualobs(s,fi)\n",
    "scatter(obslon,obslat,s=2,c=obsval,vmin=37,vmax=38.5)\n",
    "\n",
    "rscale=sqrt(var(obsval))"
   ]
  },
  {
   "cell_type": "code",
   "execution_count": null,
   "metadata": {},
   "outputs": [],
   "source": [
    "figure()\n",
    "scatter(obslon,obslat,s=2,c=dataresiduals,vmin=-rscale,vmax=rscale);\n",
    "colorbar(orientation=\"horizontal\")\n",
    "gca().set_aspect(1/cos(mean([ylim()...]) * pi/180))\n",
    "title(\"Residuals\")"
   ]
  },
  {
   "cell_type": "code",
   "execution_count": null,
   "metadata": {},
   "outputs": [],
   "source": [
    "figure()\n",
    "scatter(obsval,dataresiduals)\n",
    "title(\"Residuals as function of value\");"
   ]
  },
  {
   "cell_type": "markdown",
   "metadata": {},
   "source": [
    "## Adaptive method\n",
    "\n",
    "> G. Desroziers, L. Berre, B. Chapnik and P. Poli (2005)       \n",
    "Diagnosis of observation, background and analysis-error statistics in observation space      \n",
    "_Q. J. R. Meteorol. Soc._, __131__, pp. 3385–3396      \n",
    "> doi: [10.1256/qj.05.108](https://rmets.onlinelibrary.wiley.com/doi/abs/10.1256/qj.05.108)."
   ]
  },
  {
   "cell_type": "markdown",
   "metadata": {},
   "source": [
    "This adaptive method activated by call with 0,0 points to sample."
   ]
  },
  {
   "cell_type": "code",
   "execution_count": null,
   "metadata": {},
   "outputs": [],
   "source": [
    "myiterations=7\n",
    "cvbest2=zeros(myiterations);\n",
    "eps2=zeros(myiterations)\n",
    "epsilon2=1\n",
    "for i=1:myiterations\n",
    "    cvval,factor=DIVAnd_cv(mask,(pm,pn),(xi,yi),(obslon,obslat),obsval.-mean(obsval),lenfixed,epsilon2*rdiag,0,0,3);\n",
    "    eps2[i]=epsilon2;\n",
    "    cvbest2[i]=cvval;\n",
    "    epsilon2=epsilon2*factor\n",
    "    @show epsilon2\n",
    "end"
   ]
  },
  {
   "cell_type": "markdown",
   "metadata": {},
   "source": [
    "Other direct application of Desroziers"
   ]
  },
  {
   "cell_type": "code",
   "execution_count": null,
   "metadata": {},
   "outputs": [],
   "source": [
    "myiterations=7\n",
    "\n",
    "eps2=zeros(myiterations)\n",
    "epsilon2=1\n",
    "for i=1:myiterations\n",
    "    fit,sit=DIVAndrun(mask,(pm,pn),(xi,yi),(obslon,obslat),obsval.-mean(obsval),lenfixed,epsilon2*rdiag);\n",
    "    eps2[i]=epsilon2;\n",
    "    factor=DIVAnd_adaptedeps2(sit,fit)\n",
    "    epsilon2=epsilon2*factor\n",
    "    @show epsilon2\n",
    "end"
   ]
  },
  {
   "cell_type": "markdown",
   "metadata": {},
   "source": [
    "Perform a new analysis with the optimized value of $\\epsilon^2$:"
   ]
  },
  {
   "cell_type": "code",
   "execution_count": null,
   "metadata": {},
   "outputs": [],
   "source": [
    "newl=lenfixed\n",
    "newe=epsilon2\n",
    "@show newe\n",
    "fi,s = DIVAndrun(mask,(pm,pn),(xi,yi),(obslon,obslat),obsval.-mean(obsval),newl,newe*rdiag);"
   ]
  },
  {
   "cell_type": "code",
   "execution_count": null,
   "metadata": {},
   "outputs": [],
   "source": [
    "figure()\n",
    "pcolor(xi,yi,fi.+mean(obsval),vmin=37,vmax=38.5);\n",
    "colorbar(orientation=\"horizontal\")\n",
    "gca().set_aspect(1/cos(mean([ylim()...]) * pi/180))\n",
    "dataresiduals=DIVAnd_residualobs(s,fi)\n",
    "scatter(obslon,obslat,s=2,c=obsval,vmin=37,vmax=38.5)\n",
    "\n",
    "rscale=sqrt(var(obsval))"
   ]
  },
  {
   "cell_type": "code",
   "execution_count": null,
   "metadata": {},
   "outputs": [],
   "source": [
    "figure()\n",
    "scatter(obslon,obslat,s=2,c=dataresiduals,vmin=-rscale,vmax=rscale);\n",
    "colorbar(orientation=\"horizontal\")\n",
    "gca().set_aspect(1/cos(mean([ylim()...]) * pi/180))\n",
    "title(\"Residuals\")"
   ]
  },
  {
   "cell_type": "code",
   "execution_count": null,
   "metadata": {},
   "outputs": [],
   "source": [
    "figure()\n",
    "scatter(obsval,dataresiduals)\n",
    "title(\"Residuals as function of value\");"
   ]
  },
  {
   "cell_type": "code",
   "execution_count": null,
   "metadata": {
    "scrolled": true
   },
   "outputs": [],
   "source": [
    "var(dataresiduals),var(obsval),var(fi[(fi.!==NaN)])"
   ]
  },
  {
   "cell_type": "markdown",
   "metadata": {},
   "source": [
    "## More information\n",
    "\n",
    "using DIVAnd"
   ]
  },
  {
   "cell_type": "code",
   "execution_count": 3,
   "metadata": {},
   "outputs": [
    {
     "name": "stdout",
     "output_type": "stream",
     "text": [
      "search: \u001b[0m\u001b[1mD\u001b[22m\u001b[0m\u001b[1mI\u001b[22m\u001b[0m\u001b[1mV\u001b[22m\u001b[0m\u001b[1mA\u001b[22m\u001b[0m\u001b[1mn\u001b[22m\u001b[0m\u001b[1md\u001b[22m\u001b[0m\u001b[1m_\u001b[22m\u001b[0m\u001b[1mc\u001b[22m\u001b[0m\u001b[1mv\u001b[22m \u001b[0m\u001b[1mD\u001b[22m\u001b[0m\u001b[1mI\u001b[22m\u001b[0m\u001b[1mV\u001b[22m\u001b[0m\u001b[1mA\u001b[22m\u001b[0m\u001b[1mn\u001b[22m\u001b[0m\u001b[1md\u001b[22m\u001b[0m\u001b[1m_\u001b[22mq\u001b[0m\u001b[1mc\u001b[22m \u001b[0m\u001b[1mD\u001b[22m\u001b[0m\u001b[1mI\u001b[22m\u001b[0m\u001b[1mV\u001b[22m\u001b[0m\u001b[1mA\u001b[22m\u001b[0m\u001b[1mn\u001b[22m\u001b[0m\u001b[1md\u001b[22m\u001b[0m\u001b[1m_\u001b[22m\u001b[0m\u001b[1mc\u001b[22mpme \u001b[0m\u001b[1mD\u001b[22m\u001b[0m\u001b[1mI\u001b[22m\u001b[0m\u001b[1mV\u001b[22m\u001b[0m\u001b[1mA\u001b[22m\u001b[0m\u001b[1mn\u001b[22m\u001b[0m\u001b[1md\u001b[22m\u001b[0m\u001b[1m_\u001b[22msave \u001b[0m\u001b[1mD\u001b[22m\u001b[0m\u001b[1mI\u001b[22m\u001b[0m\u001b[1mV\u001b[22m\u001b[0m\u001b[1mA\u001b[22m\u001b[0m\u001b[1mn\u001b[22m\u001b[0m\u001b[1md\u001b[22mrun \u001b[0m\u001b[1mD\u001b[22m\u001b[0m\u001b[1mI\u001b[22m\u001b[0m\u001b[1mV\u001b[22m\u001b[0m\u001b[1mA\u001b[22m\u001b[0m\u001b[1mn\u001b[22m\u001b[0m\u001b[1md\u001b[22mgo \u001b[0m\u001b[1mD\u001b[22m\u001b[0m\u001b[1mI\u001b[22m\u001b[0m\u001b[1mV\u001b[22m\u001b[0m\u001b[1mA\u001b[22m\u001b[0m\u001b[1mn\u001b[22m\u001b[0m\u001b[1md\u001b[22mfun\n",
      "\n"
     ]
    },
    {
     "data": {
      "text/latex": [
       "\\begin{verbatim}\n",
       "bestfactorl,bestfactore, cvval,cvvalues, x2Ddata,y2Ddata,cvinter,xi2D,yi2D = DIVAnd_cv(mask,pmn,xi,x,f,len,epsilon2,nl,ne,method;...);\n",
       "\\end{verbatim}\n",
       "Performs a cross validation to estimate the analysis parameters (correlation length and signal-to-noise ratio).\n",
       "\n",
       "\\section{Input}\n",
       "Same as for \\texttt{DIVAndrun} with three more parameters \\texttt{nl},\\texttt{ne} and \\texttt{method}\n",
       "\n",
       "\\begin{itemize}\n",
       "\\item \\texttt{mask}: binary mask delimiting the domain. true is inside and false outside.\n",
       "\n",
       "\\end{itemize}\n",
       "For oceanographic application, this is the land-sea mask.\n",
       "\n",
       "\\begin{itemize}\n",
       "\\item \\texttt{pmn}: scale factor of the grid. pmn is a tuple with n elements. Every      element represents the scale factor of the corresponding dimension. Its      inverse is the local resolution of the grid in a particular dimension.\n",
       "\n",
       "\n",
       "\\item \\texttt{xi}: tuple with n elements. Every element represents a coordinate of the final grid on which the observations are interpolated\n",
       "\n",
       "\n",
       "\\item \\texttt{x}: tuple with n elements. Every element represents a coordinate of the observations\n",
       "\n",
       "\n",
       "\\item \\texttt{f}: value of the observations \\emph{minus} the background estimate (m-by-1 array).   (see note)\n",
       "\n",
       "\n",
       "\\item \\texttt{len}: correlation length\n",
       "\n",
       "\n",
       "\\item \\texttt{epsilon2}: error variance of the observations (normalized by the error variance of the background field). \\texttt{epsilon2} can be a scalar (all observations have the same error variance and their errors are decorrelated), a vector (all observations can have a difference error variance and their errors are decorrelated) or a matrix (all observations can have a difference error variance and their errors can be correlated). If \\texttt{epsilon2} is a scalar, it is thus the \\emph{inverse of the signal-to-noise ratio}.\n",
       "\n",
       "\n",
       "\\item \\texttt{nl}: number of testing points around the current value of L. \\texttt{1} means one additional point on both sides of the current L. \\texttt{0} is allowed and means the parameter is not optimised.\n",
       "\n",
       "\n",
       "\\item \\texttt{ne}: number of testing points around the current value of epsilon2. \\texttt{0} is allowed as for \\texttt{nl}\n",
       "\n",
       "\n",
       "\\item \\texttt{method}: cross validation estimator method 1: full CV 2: sampled CV 3: GCV 0: automatic choice between the three possible ones, default value\n",
       "\n",
       "\n",
       "\\item Optional input arguments specified via keyword arguments are the same as for \\texttt{DIVAnd}\n",
       "\n",
       "\\end{itemize}\n",
       "\\section{Output:}\n",
       "\\begin{itemize}\n",
       "\\item \\texttt{bestfactorl}: best estimate of the multiplication factor to apply to len\n",
       "\n",
       "\n",
       "\\item \\texttt{bestfactore}: best estimate of the multiplication factor to apply to epsilon2\n",
       "\n",
       "\n",
       "\\item \\texttt{cvvales} : the cross validation values calculated\n",
       "\n",
       "\n",
       "\\item \\texttt{factors} : the tested multiplication factors\n",
       "\n",
       "\n",
       "\\item \\texttt{cvinter} : interpolated cv values for final optimisation\n",
       "\n",
       "\n",
       "\\item \\texttt{X2Data, Y2Data} : coordinates of sampled cross validation in \\texttt{L,epsilon2} space . Normally only used for debugging or plotting\n",
       "\n",
       "\n",
       "\\item \\texttt{Xi2D, Yi2D} : coordinates of interpolated estimator . Normally only used for debugging or plotting\n",
       "\n",
       "\\end{itemize}\n",
       "The output \\texttt{bestfactorl} and \\texttt{bestfactore} represent multiplication factors which should be applied to \\texttt{L} and \\texttt{epsilon2}.\n",
       "\n",
       "The \\texttt{len} and \\texttt{epsilon2} provided should be close the real one as the tests will be performed around.\n",
       "\n"
      ],
      "text/markdown": [
       "```\n",
       "bestfactorl,bestfactore, cvval,cvvalues, x2Ddata,y2Ddata,cvinter,xi2D,yi2D = DIVAnd_cv(mask,pmn,xi,x,f,len,epsilon2,nl,ne,method;...);\n",
       "```\n",
       "\n",
       "Performs a cross validation to estimate the analysis parameters (correlation length and signal-to-noise ratio).\n",
       "\n",
       "# Input\n",
       "\n",
       "Same as for `DIVAndrun` with three more parameters `nl`,`ne` and `method`\n",
       "\n",
       "  * `mask`: binary mask delimiting the domain. true is inside and false outside.\n",
       "\n",
       "For oceanographic application, this is the land-sea mask.\n",
       "\n",
       "  * `pmn`: scale factor of the grid. pmn is a tuple with n elements. Every      element represents the scale factor of the corresponding dimension. Its      inverse is the local resolution of the grid in a particular dimension.\n",
       "  * `xi`: tuple with n elements. Every element represents a coordinate of the final grid on which the observations are interpolated\n",
       "  * `x`: tuple with n elements. Every element represents a coordinate of the observations\n",
       "  * `f`: value of the observations *minus* the background estimate (m-by-1 array).   (see note)\n",
       "  * `len`: correlation length\n",
       "  * `epsilon2`: error variance of the observations (normalized by the error variance of the background field). `epsilon2` can be a scalar (all observations have the same error variance and their errors are decorrelated), a vector (all observations can have a difference error variance and their errors are decorrelated) or a matrix (all observations can have a difference error variance and their errors can be correlated). If `epsilon2` is a scalar, it is thus the *inverse of the signal-to-noise ratio*.\n",
       "  * `nl`: number of testing points around the current value of L. `1` means one additional point on both sides of the current L. `0` is allowed and means the parameter is not optimised.\n",
       "  * `ne`: number of testing points around the current value of epsilon2. `0` is allowed as for `nl`\n",
       "  * `method`: cross validation estimator method 1: full CV 2: sampled CV 3: GCV 0: automatic choice between the three possible ones, default value\n",
       "  * Optional input arguments specified via keyword arguments are the same as for `DIVAnd`\n",
       "\n",
       "# Output:\n",
       "\n",
       "  * `bestfactorl`: best estimate of the multiplication factor to apply to len\n",
       "  * `bestfactore`: best estimate of the multiplication factor to apply to epsilon2\n",
       "  * `cvvales` : the cross validation values calculated\n",
       "  * `factors` : the tested multiplication factors\n",
       "  * `cvinter` : interpolated cv values for final optimisation\n",
       "  * `X2Data, Y2Data` : coordinates of sampled cross validation in `L,epsilon2` space . Normally only used for debugging or plotting\n",
       "  * `Xi2D, Yi2D` : coordinates of interpolated estimator . Normally only used for debugging or plotting\n",
       "\n",
       "The output `bestfactorl` and `bestfactore` represent multiplication factors which should be applied to `L` and `epsilon2`.\n",
       "\n",
       "The `len` and `epsilon2` provided should be close the real one as the tests will be performed around.\n"
      ],
      "text/plain": [
       "\u001b[36m  bestfactorl,bestfactore, cvval,cvvalues, x2Ddata,y2Ddata,cvinter,xi2D,yi2D = DIVAnd_cv(mask,pmn,xi,x,f,len,epsilon2,nl,ne,method;...);\u001b[39m\n",
       "\n",
       "  Performs a cross validation to estimate the analysis parameters (correlation\n",
       "  length and signal-to-noise ratio).\n",
       "\n",
       "\u001b[1m  Input\u001b[22m\n",
       "\u001b[1m  ≡≡≡≡≡\u001b[22m\n",
       "\n",
       "  Same as for \u001b[36mDIVAndrun\u001b[39m with three more parameters \u001b[36mnl\u001b[39m,\u001b[36mne\u001b[39m and \u001b[36mmethod\u001b[39m\n",
       "\n",
       "    •  \u001b[36mmask\u001b[39m: binary mask delimiting the domain. true is inside and false\n",
       "       outside.\n",
       "\n",
       "  For oceanographic application, this is the land-sea mask.\n",
       "\n",
       "    •  \u001b[36mpmn\u001b[39m: scale factor of the grid. pmn is a tuple with n elements.\n",
       "       Every element represents the scale factor of the corresponding\n",
       "       dimension. Its inverse is the local resolution of the grid in a\n",
       "       particular dimension.\n",
       "\n",
       "    •  \u001b[36mxi\u001b[39m: tuple with n elements. Every element represents a coordinate\n",
       "       of the final grid on which the observations are interpolated\n",
       "\n",
       "    •  \u001b[36mx\u001b[39m: tuple with n elements. Every element represents a coordinate of\n",
       "       the observations\n",
       "\n",
       "    •  \u001b[36mf\u001b[39m: value of the observations \u001b[4mminus\u001b[24m the background estimate (m-by-1\n",
       "       array). (see note)\n",
       "\n",
       "    •  \u001b[36mlen\u001b[39m: correlation length\n",
       "\n",
       "    •  \u001b[36mepsilon2\u001b[39m: error variance of the observations (normalized by the\n",
       "       error variance of the background field). \u001b[36mepsilon2\u001b[39m can be a scalar\n",
       "       (all observations have the same error variance and their errors\n",
       "       are decorrelated), a vector (all observations can have a\n",
       "       difference error variance and their errors are decorrelated) or a\n",
       "       matrix (all observations can have a difference error variance and\n",
       "       their errors can be correlated). If \u001b[36mepsilon2\u001b[39m is a scalar, it is\n",
       "       thus the \u001b[4minverse of the signal-to-noise ratio\u001b[24m.\n",
       "\n",
       "    •  \u001b[36mnl\u001b[39m: number of testing points around the current value of L. \u001b[36m1\u001b[39m\n",
       "       means one additional point on both sides of the current L. \u001b[36m0\u001b[39m is\n",
       "       allowed and means the parameter is not optimised.\n",
       "\n",
       "    •  \u001b[36mne\u001b[39m: number of testing points around the current value of epsilon2.\n",
       "       \u001b[36m0\u001b[39m is allowed as for \u001b[36mnl\u001b[39m\n",
       "\n",
       "    •  \u001b[36mmethod\u001b[39m: cross validation estimator method 1: full CV 2: sampled CV\n",
       "       3: GCV 0: automatic choice between the three possible ones,\n",
       "       default value\n",
       "\n",
       "    •  Optional input arguments specified via keyword arguments are the\n",
       "       same as for \u001b[36mDIVAnd\u001b[39m\n",
       "\n",
       "\u001b[1m  Output:\u001b[22m\n",
       "\u001b[1m  ≡≡≡≡≡≡≡\u001b[22m\n",
       "\n",
       "    •  \u001b[36mbestfactorl\u001b[39m: best estimate of the multiplication factor to apply\n",
       "       to len\n",
       "\n",
       "    •  \u001b[36mbestfactore\u001b[39m: best estimate of the multiplication factor to apply\n",
       "       to epsilon2\n",
       "\n",
       "    •  \u001b[36mcvvales\u001b[39m : the cross validation values calculated\n",
       "\n",
       "    •  \u001b[36mfactors\u001b[39m : the tested multiplication factors\n",
       "\n",
       "    •  \u001b[36mcvinter\u001b[39m : interpolated cv values for final optimisation\n",
       "\n",
       "    •  \u001b[36mX2Data, Y2Data\u001b[39m : coordinates of sampled cross validation in\n",
       "       \u001b[36mL,epsilon2\u001b[39m space . Normally only used for debugging or plotting\n",
       "\n",
       "    •  \u001b[36mXi2D, Yi2D\u001b[39m : coordinates of interpolated estimator . Normally only\n",
       "       used for debugging or plotting\n",
       "\n",
       "  The output \u001b[36mbestfactorl\u001b[39m and \u001b[36mbestfactore\u001b[39m represent multiplication factors\n",
       "  which should be applied to \u001b[36mL\u001b[39m and \u001b[36mepsilon2\u001b[39m.\n",
       "\n",
       "  The \u001b[36mlen\u001b[39m and \u001b[36mepsilon2\u001b[39m provided should be close the real one as the tests will\n",
       "  be performed around."
      ]
     },
     "execution_count": 3,
     "metadata": {},
     "output_type": "execute_result"
    }
   ],
   "source": [
    "?DIVAnd_cv"
   ]
  },
  {
   "cell_type": "markdown",
   "metadata": {},
   "source": [
    "========================================================================================================================="
   ]
  },
  {
   "cell_type": "markdown",
   "metadata": {},
   "source": [
    "# Exercise\n",
    "\n",
    "1. Redo for different data by changing the datadepth parameter introduced in the data selection part.      \n",
    "(Compare surface behaviour with deeper regions by using another `datadepth` value).\n",
    "2. Take out the data weight modification.\n",
    "3. Possibly force the cross-validation method (use `?DIVAnd_cv`).\n",
    "4. Once opimized, try to redo optimization with starting point being the first estimate."
   ]
  },
  {
   "cell_type": "markdown",
   "metadata": {},
   "source": [
    "## ⚠️ Important note\n",
    "Remember: optimization relies on a series of hypotheses.       \n",
    "In particular, data independance and isotropy is very often NOT ensured.       \n",
    "When in doubt, increase $\\epsilon^2$ and/or check for \"duplicates\"."
   ]
  },
  {
   "cell_type": "code",
   "execution_count": null,
   "metadata": {},
   "outputs": [],
   "source": []
  }
 ],
 "metadata": {
  "@webio": {
   "lastCommId": null,
   "lastKernelId": null
  },
  "anaconda-cloud": {},
  "kernelspec": {
   "display_name": "Julia 1.11.1",
   "language": "julia",
   "name": "julia-1.11"
  },
  "language_info": {
   "file_extension": ".jl",
   "mimetype": "application/julia",
   "name": "julia",
   "version": "1.11.1"
  },
  "toc": {
   "base_numbering": 1,
   "nav_menu": {},
   "number_sections": true,
   "sideBar": true,
   "skip_h1_title": false,
   "title_cell": "Table of Contents",
   "title_sidebar": "Contents",
   "toc_cell": false,
   "toc_position": {},
   "toc_section_display": true,
   "toc_window_display": false
  }
 },
 "nbformat": 4,
 "nbformat_minor": 4
}
