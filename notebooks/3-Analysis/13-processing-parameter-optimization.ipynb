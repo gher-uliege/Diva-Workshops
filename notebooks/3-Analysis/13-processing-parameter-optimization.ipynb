{
 "cells": [
  {
   "cell_type": "markdown",
   "metadata": {},
   "source": [
    "# Optimizing analysis parameters $L$ and $\\epsilon^2$\n",
    "This notebooks shows different ways to optimize the analysis parameters."
   ]
  },
  {
   "cell_type": "code",
   "execution_count": null,
   "metadata": {},
   "outputs": [],
   "source": [
    "using DIVAnd\n",
    "using Makie, CairoMakie, GeoMakie\n",
    "using Dates\n",
    "using Statistics\n",
    "include(\"../config.jl\")"
   ]
  },
  {
   "cell_type": "markdown",
   "metadata": {},
   "source": [
    "## Data reading"
   ]
  },
  {
   "cell_type": "code",
   "execution_count": null,
   "metadata": {},
   "outputs": [],
   "source": [
    "varname = \"Salinity\"\n",
    "filename = salinityprovencalfile\n",
    "download_check(salinityprovencalfile, salinityprovencalfileURL)\n",
    "\n",
    "obsval,obslon,obslat,obsdepth,obstime,obsid = loadobs(Float64, filename, varname);"
   ]
  },
  {
   "cell_type": "markdown",
   "metadata": {},
   "source": [
    "### Topography and grid definition\n",
    "\n",
    "See the notebook on [bathymetry](../2-Preprocessing/06-topography.ipynb) for more explanations."
   ]
  },
  {
   "cell_type": "code",
   "execution_count": null,
   "metadata": {},
   "outputs": [],
   "source": [
    "dx = dy = 0.125/2.\n",
    "lonr = 2.5:dx:12.\n",
    "latr = 42.3:dy:44.6\n",
    "\n",
    "mask,(pm,pn),(xi,yi) = DIVAnd_rectdom(lonr, latr)\n",
    "\n",
    "bathname = gebco04file\n",
    "download_check(gebco04file, gebco04fileURL)"
   ]
  },
  {
   "cell_type": "markdown",
   "metadata": {},
   "source": [
    "Reading the bathymetry and creating the mask"
   ]
  },
  {
   "cell_type": "code",
   "execution_count": null,
   "metadata": {},
   "outputs": [],
   "source": [
    "bx,by,b = load_bath(bathname,true,lonr,latr)\n",
    "\n",
    "mask = falses(size(b,1),size(b,2))\n",
    "\n",
    "for j = 1:size(b,2)\n",
    "    for i = 1:size(b,1)\n",
    "        mask[i,j] = b[i,j] >=1.0\n",
    "    end\n",
    "end\n",
    "\n",
    "plot_mask(bx, by, mask)"
   ]
  },
  {
   "cell_type": "markdown",
   "metadata": {},
   "source": [
    "## Data selection for example\n",
    "\n",
    "Cross validation, error calculations etc. assume independant data. Hence do not take high-resolution vertical profiles with all data but restrict yourself to specific small depth ranges. \n",
    "\n",
    "Here August data near the surface surface.     \n",
    "We also perform a test on values to eliminate obvious outliers:"
   ]
  },
  {
   "cell_type": "code",
   "execution_count": null,
   "metadata": {},
   "outputs": [],
   "source": [
    "datadepth=1\n",
    "depthprecision=0.5\n",
    "\n",
    "sel = (obsdepth .< datadepth) .& \n",
    "(obsdepth .>= (datadepth-depthprecision)) .& \n",
    "(Dates.month.(obstime) .== 8) .& \n",
    "(obsval .> 37)\n",
    "\n",
    "obsval = obsval[sel]\n",
    "obslon = obslon[sel]\n",
    "obslat = obslat[sel]\n",
    "obsdepth = obsdepth[sel]\n",
    "obstime = obstime[sel]\n",
    "obsid = obsid[sel];\n",
    "@show (size(obsval))\n",
    "checkobs((obslon,obslat,obsdepth,obstime),obsval,obsid)"
   ]
  },
  {
   "cell_type": "markdown",
   "metadata": {},
   "source": [
    "We modify data weight by taking into account close points.      \n",
    "**⚠️** This operation is particularly costly when dealing with big datasets."
   ]
  },
  {
   "cell_type": "code",
   "execution_count": null,
   "metadata": {},
   "outputs": [],
   "source": [
    "?DIVAnd.weight_RtimesOne"
   ]
  },
  {
   "cell_type": "code",
   "execution_count": null,
   "metadata": {},
   "outputs": [],
   "source": [
    "rdiag=1.0./DIVAnd.weight_RtimesOne((obslon,obslat),(0.03,0.03))\n",
    "@show maximum(rdiag),mean(rdiag)"
   ]
  },
  {
   "cell_type": "markdown",
   "metadata": {
    "collapsed": true,
    "jupyter": {
     "outputs_hidden": true
    }
   },
   "source": [
    "## Analysis\n",
    "\n",
    "Analysis `fi` using mean data as background.      \n",
    "Structure `s` is stored for later use."
   ]
  },
  {
   "cell_type": "code",
   "execution_count": null,
   "metadata": {},
   "outputs": [],
   "source": [
    "len= 1\n",
    "epsilon2 = 1\n",
    "fi,s = DIVAndrun(mask, (pm,pn), (xi,yi), (obslon,obslat), obsval.-mean(obsval), len, epsilon2*rdiag);"
   ]
  },
  {
   "cell_type": "markdown",
   "metadata": {},
   "source": [
    "### Compute residuals\n",
    "Using the analysis and the structure `s`"
   ]
  },
  {
   "cell_type": "code",
   "execution_count": null,
   "metadata": {},
   "outputs": [],
   "source": [
    "dataresiduals = DIVAnd_residualobs(s,fi);"
   ]
  },
  {
   "cell_type": "markdown",
   "metadata": {},
   "source": [
    "### Generate some plots:\n",
    "1. Analysis with data points\n",
    "2. Data residuals\n",
    "3. Residuals vs value"
   ]
  },
  {
   "cell_type": "code",
   "execution_count": null,
   "metadata": {},
   "outputs": [],
   "source": [
    "fig = Figure(size = (600, 350))\n",
    "ga = GeoAxis(fig[1, 1];  dest = \"+proj=merc\", title = \"Analysis and observations\", \n",
    "xticks=2.:1.:14, yticks=42.:1.:45.)\n",
    "heatmap!(ga, bx, by, mask, colormap=Reverse(:binary))\n",
    "hm = heatmap!(ga, lonr, latr, fi .+ mean(obsval), interpolate = false, colorrange=[37.6, 38.2])\n",
    "sc = scatter!(obslon, obslat, color=obsval, markersize=7, colorrange=[37.6, 38.2])\n",
    "xlims!(ga, (bx[1], bx[end]))\n",
    "ylims!(ga, (by[1], by[end]))\n",
    "Colorbar(fig[2, 1], hm, vertical = false, label = \"S\")\n",
    "fig"
   ]
  },
  {
   "cell_type": "code",
   "execution_count": null,
   "metadata": {},
   "outputs": [],
   "source": [
    "rscale=sqrt(var(obsval))\n",
    "fig = Figure(size = (600, 350))\n",
    "ga = GeoAxis(fig[1, 1];  dest = \"+proj=merc\", title = \"Residuals\", \n",
    "xticks=2.:1.:14, yticks=42.:1.:45.)\n",
    "heatmap!(ga, bx, by, mask, colormap=Reverse(:binary))\n",
    "sc = scatter!(obslon, obslat, color=dataresiduals, markersize=7, colorrange=[-rscale, rscale], \n",
    "    colormap=:Spectral)\n",
    "xlims!(ga, (bx[1], bx[end]))\n",
    "ylims!(ga, (by[1], by[end]))\n",
    "Colorbar(fig[2, 1], sc, vertical = false, label = \"S\")\n",
    "fig"
   ]
  },
  {
   "cell_type": "code",
   "execution_count": null,
   "metadata": {},
   "outputs": [],
   "source": [
    "fig = Figure()\n",
    "ax = Axis(fig[1, 1]; title = \"Residuals as function of value\", \n",
    "    xlabel=\"Observation values\", ylabel=\"Residual values\")\n",
    "sc = plot!(ax, obsval, dataresiduals, markersize=7)\n",
    "fig"
   ]
  },
  {
   "cell_type": "markdown",
   "metadata": {},
   "source": [
    "# Cross validation\n",
    "\n",
    "Take out data and measure difference between these data points not used and the analysis. Three methods are implemented \n",
    "## Define method used\n",
    "    # 1: full CV\n",
    "    # 2: sampled CV\n",
    "    # 3: GCV\n",
    "    # 0: automatic choice between the three possible ones, default value"
   ]
  },
  {
   "cell_type": "code",
   "execution_count": null,
   "metadata": {},
   "outputs": [],
   "source": [
    "bestfactorl=ones(4)\n",
    "bestfactore=ones(4)\n",
    "fig = Figure(size=(600, 600))\n",
    "\n",
    "# Loop over the methods\n",
    "for imeth=0:3\n",
    "\n",
    "    bestfactorl[imeth+1],bestfactore[imeth+1], cvval,cvvalues, x2Ddata,y2Ddata,cvinter,xi2D,yi2D = \n",
    "    DIVAnd_cv(mask,(pm,pn),(xi,yi),(obslon,obslat),obsval.-mean(obsval),len,epsilon2*rdiag,2,3,imeth);\n",
    "    \n",
    "    @show bestfactorl[imeth+1],bestfactore[imeth+1];\n",
    "    \n",
    "    ax = Axis(fig[1+imeth÷2, 1+imeth%2]; title = \"Method $imeth\", \n",
    "    xlabel=\"Log10 scale factor L\", ylabel=\"Log10 scale factor e2\")\n",
    "    heatmap!(ax, xi2D[:,1], yi2D[1,:], cvinter, interpolate=false)\n",
    "    plot!(ax, xi2D[:], yi2D[:], markersize=1)\n",
    "    plot!(ax, [log10.(bestfactorl[imeth+1])], [log10.(bestfactore[imeth+1])])\n",
    "\n",
    "end\n",
    "fig"
   ]
  },
  {
   "cell_type": "markdown",
   "metadata": {},
   "source": [
    "<div class=\"alert alert-block alert-warning\">\n",
    "⚠️ Any tests with resulting length scales being smaller than around 4 times the grid spacing are meaningless.\n",
    "</div>"
   ]
  },
  {
   "cell_type": "markdown",
   "metadata": {},
   "source": [
    "### Analysis with optimized values"
   ]
  },
  {
   "cell_type": "code",
   "execution_count": null,
   "metadata": {},
   "outputs": [],
   "source": [
    "newl=len*bestfactorl[2]\n",
    "newe=epsilon2*bestfactore[2]\n",
    "\n",
    "fi,s = DIVAndrun(mask,(pm,pn),(xi,yi),(obslon,obslat),obsval.-mean(obsval),newl,newe*rdiag);\n",
    "dataresiduals=DIVAnd_residualobs(s,fi)"
   ]
  },
  {
   "cell_type": "code",
   "execution_count": null,
   "metadata": {},
   "outputs": [],
   "source": [
    "fig = Figure(size = (600, 370))\n",
    "ga = GeoAxis(fig[1, 1];  dest = \"+proj=merc\", \n",
    "title = \"Analysis and observations with\\nnew L  = $(round(newl, digits=3)) and new e2 = $(round(newe, digits=3))\", \n",
    "xticks=2.:1.:14, yticks=42.:1.:45.)\n",
    "heatmap!(ga, bx, by, mask, colormap=Reverse(:binary))\n",
    "hm = heatmap!(ga, lonr, latr, fi .+ mean(obsval), interpolate = false, colorrange=[37., 38.5])\n",
    "sc = scatter!(obslon, obslat, color=obsval, markersize=7, colorrange=[37., 38.5])\n",
    "xlims!(ga, (bx[1], bx[end]))\n",
    "ylims!(ga, (by[1], by[end]))\n",
    "Colorbar(fig[2, 1], hm, vertical = false, label = \"S\")\n",
    "fig"
   ]
  },
  {
   "cell_type": "code",
   "execution_count": null,
   "metadata": {},
   "outputs": [],
   "source": [
    "rscale=sqrt(var(obsval))\n",
    "fig = Figure(size = (600, 350))\n",
    "ga = GeoAxis(fig[1, 1];  dest = \"+proj=merc\", title = \"Residuals\", \n",
    "xticks=2.:1.:14, yticks=42.:1.:45.)\n",
    "heatmap!(ga, bx, by, mask, colormap=Reverse(:binary))\n",
    "sc = scatter!(obslon, obslat, color=dataresiduals, markersize=7, colorrange=[-rscale, rscale], \n",
    "    colormap=Reverse(:Spectral))\n",
    "xlims!(ga, (bx[1], bx[end]))\n",
    "ylims!(ga, (by[1], by[end]))\n",
    "Colorbar(fig[2, 1], sc, vertical = false, label = \"S\")\n",
    "fig"
   ]
  },
  {
   "cell_type": "code",
   "execution_count": null,
   "metadata": {},
   "outputs": [],
   "source": [
    "fig = Figure()\n",
    "ax = Axis(fig[1, 1]; title = \"Residuals as function of value\\nwith the new parameter values\", \n",
    "    xlabel=\"Observation values\", ylabel=\"Residual values\")\n",
    "sc = plot!(ax, obsval, dataresiduals, markersize=7)\n",
    "fig"
   ]
  },
  {
   "cell_type": "markdown",
   "metadata": {},
   "source": [
    "## Only one parameter optimized\n",
    "\n",
    "If $L$ is fixed by other calibration or method,     \n",
    "you can decide to optimize only $\\epsilon^2$:"
   ]
  },
  {
   "cell_type": "code",
   "execution_count": null,
   "metadata": {},
   "outputs": [],
   "source": [
    "lenfixed=1\n",
    "epsilon2=.1\n",
    "\n",
    "fig = Figure(size=(600, 600))\n",
    "for imeth=0:3\n",
    "    bestfactore[imeth+1], cvval,cvvalues, x2Ddata,cvinter,xi2D = \n",
    "    DIVAnd_cv(mask,(pm,pn),(xi,yi),(obslon,obslat),obsval.-mean(obsval),lenfixed,epsilon2*rdiag,0,4,imeth);\n",
    "    \n",
    "    ax = Axis(fig[1+imeth÷2, 1+imeth%2]; title = \"Method $imeth\", xlabel=\"Log10 scale factor e2\")\n",
    "    plot!(ax, xi2D, cvinter, markersize=2, color=:black)\n",
    "    plot!(ax, [log10.(bestfactore[imeth+1])], [cvval], markersize=10)\n",
    "\n",
    "end\n",
    "fig"
   ]
  },
  {
   "cell_type": "markdown",
   "metadata": {},
   "source": [
    "### Analysis with the optimised values"
   ]
  },
  {
   "cell_type": "code",
   "execution_count": null,
   "metadata": {},
   "outputs": [],
   "source": [
    "newl=lenfixed\n",
    "newe=epsilon2*bestfactore[3]\n",
    "@show newe\n",
    "fi,s = DIVAndrun(mask,(pm,pn),(xi,yi),(obslon,obslat),obsval.-mean(obsval),newl,newe*rdiag);\n",
    "dataresiduals=DIVAnd_residualobs(s,fi)"
   ]
  },
  {
   "cell_type": "code",
   "execution_count": null,
   "metadata": {},
   "outputs": [],
   "source": [
    "fig = Figure(size = (600, 370))\n",
    "ga = GeoAxis(fig[1, 1];  dest = \"+proj=merc\", \n",
    "title = \"Analysis and observations with\\n L  = $(lenfixed) and new e2 = $(round(newe, digits=3))\", \n",
    "xticks=2.:1.:14, yticks=42.:1.:45.)\n",
    "heatmap!(ga, bx, by, mask, colormap=Reverse(:binary))\n",
    "hm = heatmap!(ga, lonr, latr, fi .+ mean(obsval), interpolate = false, colorrange=[37., 38.5])\n",
    "sc = scatter!(obslon, obslat, color=obsval, markersize=7, colorrange=[37., 38.5])\n",
    "xlims!(ga, (bx[1], bx[end]))\n",
    "ylims!(ga, (by[1], by[end]))\n",
    "Colorbar(fig[2, 1], hm, vertical = false, label = \"S\")\n",
    "fig"
   ]
  },
  {
   "cell_type": "code",
   "execution_count": null,
   "metadata": {},
   "outputs": [],
   "source": [
    "rscale=sqrt(var(obsval))\n",
    "fig = Figure(size = (600, 350))\n",
    "ga = GeoAxis(fig[1, 1];  dest = \"+proj=merc\", title = \"Residuals\", \n",
    "xticks=2.:1.:14, yticks=42.:1.:45.)\n",
    "heatmap!(ga, bx, by, mask, colormap=Reverse(:binary))\n",
    "sc = scatter!(obslon, obslat, color=dataresiduals, markersize=7, colorrange=[-rscale, rscale], \n",
    "    colormap=Reverse(:Spectral))\n",
    "xlims!(ga, (bx[1], bx[end]))\n",
    "ylims!(ga, (by[1], by[end]))\n",
    "Colorbar(fig[2, 1], sc, vertical = false, label = \"S\")\n",
    "fig"
   ]
  },
  {
   "cell_type": "code",
   "execution_count": null,
   "metadata": {},
   "outputs": [],
   "source": [
    "fig = Figure()\n",
    "ax = Axis(fig[1, 1]; title = \"Residuals as function of value\\nwith the new parameter values\", \n",
    "    xlabel=\"Observation values\", ylabel=\"Residual values\")\n",
    "sc = plot!(ax, obsval, dataresiduals, markersize=7)\n",
    "fig"
   ]
  },
  {
   "cell_type": "markdown",
   "metadata": {},
   "source": [
    "## Adaptive method\n",
    "\n",
    "> G. Desroziers, L. Berre, B. Chapnik and P. Poli (2005),       \n",
    "Diagnosis of observation, background and analysis-error statistics in observation space,    \n",
    "_Q. J. R. Meteorol. Soc._, __131__, pp. 3385–3396      \n",
    "> doi: [10.1256/qj.05.108](https://rmets.onlinelibrary.wiley.com/doi/abs/10.1256/qj.05.108)."
   ]
  },
  {
   "cell_type": "markdown",
   "metadata": {},
   "source": [
    "This adaptive method activated by call with 0,0 points to sample."
   ]
  },
  {
   "cell_type": "code",
   "execution_count": null,
   "metadata": {},
   "outputs": [],
   "source": [
    "myiterations=7\n",
    "cvbest2=zeros(myiterations);\n",
    "eps2=zeros(myiterations)\n",
    "epsilon2=1\n",
    "for i=1:myiterations\n",
    "    cvval,factor=DIVAnd_cv(mask,(pm,pn),(xi,yi),(obslon,obslat),obsval.-mean(obsval),lenfixed,epsilon2*rdiag,\n",
    "    0,0,3);\n",
    "    eps2[i]=epsilon2;\n",
    "    cvbest2[i]=cvval;\n",
    "    epsilon2=epsilon2*factor\n",
    "    @show epsilon2\n",
    "end"
   ]
  },
  {
   "cell_type": "markdown",
   "metadata": {},
   "source": [
    "Other direct application of Desroziers"
   ]
  },
  {
   "cell_type": "code",
   "execution_count": null,
   "metadata": {},
   "outputs": [],
   "source": [
    "myiterations=7\n",
    "\n",
    "eps2=zeros(myiterations)\n",
    "epsilon2=1\n",
    "for i=1:myiterations\n",
    "    fit,sit=DIVAndrun(mask,(pm,pn),(xi,yi),(obslon,obslat),obsval.-mean(obsval),lenfixed,epsilon2*rdiag);\n",
    "    eps2[i]=epsilon2;\n",
    "    factor=DIVAnd_adaptedeps2(sit,fit)\n",
    "    epsilon2=epsilon2*factor\n",
    "    @show epsilon2\n",
    "end"
   ]
  },
  {
   "cell_type": "markdown",
   "metadata": {},
   "source": [
    "### Analysis with the optimized value of $\\epsilon^2$"
   ]
  },
  {
   "cell_type": "code",
   "execution_count": null,
   "metadata": {},
   "outputs": [],
   "source": [
    "newl=lenfixed\n",
    "newe=epsilon2\n",
    "@show newe\n",
    "fi,s = DIVAndrun(mask,(pm,pn),(xi,yi),(obslon,obslat),obsval.-mean(obsval),newl,newe*rdiag);\n",
    "dataresiduals=DIVAnd_residualobs(s,fi);"
   ]
  },
  {
   "cell_type": "code",
   "execution_count": null,
   "metadata": {},
   "outputs": [],
   "source": [
    "fig = Figure(size = (600, 370))\n",
    "ga = GeoAxis(fig[1, 1];  dest = \"+proj=merc\", \n",
    "title = \"Analysis and observations with\\n L  = $(lenfixed) and new e2 = $(round(newe, digits=3))\", \n",
    "xticks=2.:1.:14, yticks=42.:1.:45.)\n",
    "heatmap!(ga, bx, by, mask, colormap=Reverse(:binary))\n",
    "hm = heatmap!(ga, lonr, latr, fi .+ mean(obsval), interpolate = false, colorrange=[37., 38.5])\n",
    "sc = scatter!(obslon, obslat, color=obsval, markersize=7, colorrange=[37., 38.5])\n",
    "xlims!(ga, (bx[1], bx[end]))\n",
    "ylims!(ga, (by[1], by[end]))\n",
    "Colorbar(fig[2, 1], hm, vertical = false, label = \"S\")\n",
    "fig"
   ]
  },
  {
   "cell_type": "code",
   "execution_count": null,
   "metadata": {},
   "outputs": [],
   "source": [
    "rscale=sqrt(var(obsval))\n",
    "fig = Figure(size = (600, 350))\n",
    "ga = GeoAxis(fig[1, 1];  dest = \"+proj=merc\", title = \"Residuals\", \n",
    "xticks=2.:1.:14, yticks=42.:1.:45.)\n",
    "heatmap!(ga, bx, by, mask, colormap=Reverse(:binary))\n",
    "sc = scatter!(obslon, obslat, color=dataresiduals, markersize=7, colorrange=[-rscale, rscale], \n",
    "    colormap=Reverse(:Spectral))\n",
    "xlims!(ga, (bx[1], bx[end]))\n",
    "ylims!(ga, (by[1], by[end]))\n",
    "Colorbar(fig[2, 1], sc, vertical = false, label = \"S\")\n",
    "fig"
   ]
  },
  {
   "cell_type": "code",
   "execution_count": null,
   "metadata": {},
   "outputs": [],
   "source": [
    "fig = Figure()\n",
    "ax = Axis(fig[1, 1]; title = \"Residuals as function of value\\nwith the new parameter values\", \n",
    "    xlabel=\"Observation values\", ylabel=\"Residual values\")\n",
    "sc = plot!(ax, obsval, dataresiduals, markersize=7)\n",
    "fig"
   ]
  },
  {
   "cell_type": "code",
   "execution_count": null,
   "metadata": {
    "scrolled": true
   },
   "outputs": [],
   "source": [
    "@info(var(dataresiduals),var(obsval),var(fi[(fi.!==NaN)]))"
   ]
  },
  {
   "cell_type": "markdown",
   "metadata": {},
   "source": [
    "## More information"
   ]
  },
  {
   "cell_type": "code",
   "execution_count": null,
   "metadata": {},
   "outputs": [],
   "source": [
    "?DIVAnd_cv"
   ]
  },
  {
   "cell_type": "markdown",
   "metadata": {},
   "source": [
    "# Exercise\n",
    "\n",
    "1. Redo for different data by changing the datadepth parameter introduced in the data selection part.      \n",
    "(Compare surface behaviour with deeper regions by using another `datadepth` value).\n",
    "2. Take out the data weight modification.\n",
    "3. Possibly force the cross-validation method (use `?DIVAnd_cv`).\n",
    "4. Once opimized, try to redo optimization with starting point being the first estimate."
   ]
  },
  {
   "cell_type": "markdown",
   "metadata": {},
   "source": [
    "<div class=\"alert alert-block alert-warning\">\n",
    "⚠️ Remember: optimization relies on a series of hypotheses.<br>       \n",
    "In particular, data independance and isotropy is very often NOT ensured.<br>    \n",
    "When in doubt, increase $\\epsilon^2$ and/or check for \"duplicates\".\n",
    "</div>"
   ]
  },
  {
   "cell_type": "code",
   "execution_count": null,
   "metadata": {},
   "outputs": [],
   "source": []
  }
 ],
 "metadata": {
  "@webio": {
   "lastCommId": null,
   "lastKernelId": null
  },
  "anaconda-cloud": {},
  "kernelspec": {
   "display_name": "Julia 1.11.2",
   "language": "julia",
   "name": "julia-1.11"
  },
  "language_info": {
   "file_extension": ".jl",
   "mimetype": "application/julia",
   "name": "julia",
   "version": "1.11.2"
  },
  "toc": {
   "base_numbering": 1,
   "nav_menu": {},
   "number_sections": true,
   "sideBar": true,
   "skip_h1_title": false,
   "title_cell": "Table of Contents",
   "title_sidebar": "Contents",
   "toc_cell": false,
   "toc_position": {},
   "toc_section_display": true,
   "toc_window_display": false
  }
 },
 "nbformat": 4,
 "nbformat_minor": 4
}
