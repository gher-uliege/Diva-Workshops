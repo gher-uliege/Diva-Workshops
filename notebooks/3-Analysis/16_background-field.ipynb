{
 "cells": [
  {
   "cell_type": "markdown",
   "metadata": {},
   "source": [
    "# Background field\n",
    "Creation of a climatology using a background field create by `DIVAnd`. \n",
    "\n",
    "The key is in the definition of the _time selectors_:\n",
    "1. for the background (using longer time periods) \n",
    "2. for the analysis.\n",
    "Then in the final analysis, a `background` option allows user to specify the background file, the variable and the _time selector_.\n",
    "```julia\n",
    "...\n",
    "background = DIVAnd.backgroundfile(filenamebackground,varname,TSbackground)\n",
    "...\n",
    "```\n",
    "\n",
    "__Note:__ if you use a background field, don't use logarithmic transformations, which would let to error when applied to negative (anomaly) values."
   ]
  },
  {
   "cell_type": "code",
   "execution_count": null,
   "metadata": {},
   "outputs": [],
   "source": [
    "using DIVAnd\n",
    "using CairoMakie\n",
    "using GeoMakie\n",
    "using NCDatasets\n",
    "using PhysOcean\n",
    "using DataStructures\n",
    "using PyPlot\n",
    "using Dates\n",
    "using Statistics\n",
    "using Random\n",
    "using Printf\n",
    "include(\"../config.jl\")"
   ]
  },
  {
   "cell_type": "markdown",
   "metadata": {},
   "source": [
    "## Files and directories\n",
    "For this application we will work on the Baltic Sea."
   ]
  },
  {
   "cell_type": "code",
   "execution_count": null,
   "metadata": {},
   "outputs": [],
   "source": [
    "datafile = balticfile\n",
    "varname = \"salinity\""
   ]
  },
  {
   "cell_type": "markdown",
   "metadata": {},
   "source": [
    "## Inputs\n",
    "### Grid and depth levels"
   ]
  },
  {
   "cell_type": "code",
   "execution_count": null,
   "metadata": {},
   "outputs": [],
   "source": [
    "Δx = 0.25\n",
    "Δy = 0.25\n",
    "lonr = 9.5:Δx:29.25\n",
    "latr = 53.0:Δy:67.0\n",
    "timerange = [Date(1900,1,1),Date(2020,12,31)];\n",
    "depthr = [0.,5., 10., 15., 20., 30.];"
   ]
  },
  {
   "cell_type": "markdown",
   "metadata": {},
   "source": [
    "### Data\n",
    "Download if needed."
   ]
  },
  {
   "cell_type": "code",
   "execution_count": null,
   "metadata": {},
   "outputs": [],
   "source": [
    "download_check(balticfile, balticfileURL)"
   ]
  },
  {
   "cell_type": "markdown",
   "metadata": {},
   "source": [
    "Read coordinates and observations"
   ]
  },
  {
   "cell_type": "code",
   "execution_count": null,
   "metadata": {},
   "outputs": [],
   "source": [
    "@time obsval,obslon, obslat, obsdepth, obstime,obsid = DIVAnd.loadobs(Float64, datafile, varname);"
   ]
  },
  {
   "cell_type": "markdown",
   "metadata": {},
   "source": [
    "Check the observation ranges:"
   ]
  },
  {
   "cell_type": "code",
   "execution_count": null,
   "metadata": {},
   "outputs": [],
   "source": [
    "checkobs((obslon,obslat,obsdepth,obstime),obsval,obsid)"
   ]
  },
  {
   "cell_type": "markdown",
   "metadata": {},
   "source": [
    "#### Quality check based on range"
   ]
  },
  {
   "cell_type": "code",
   "execution_count": null,
   "metadata": {},
   "outputs": [],
   "source": [
    "sel = (obsval .<= 40) .& (obsval .>= 0);\n",
    "obsval = obsval[sel]\n",
    "obslon = obslon[sel]\n",
    "obslat = obslat[sel]\n",
    "obsdepth = obsdepth[sel]\n",
    "obstime = obstime[sel]\n",
    "obsid = obsid[sel];"
   ]
  },
  {
   "cell_type": "markdown",
   "metadata": {},
   "source": [
    "#### Plot unique observation locations"
   ]
  },
  {
   "cell_type": "code",
   "execution_count": null,
   "metadata": {},
   "outputs": [],
   "source": [
    "coords = [(x,y) for (x,y) in zip(obslon, obslat)];\n",
    "coords_u = unique(coords);\n",
    "@info \"Total number of coordinates: $(length(coords))\"\n",
    "@info \"Number of unique coordinates (profiles): $(length(coords_u))\"\n",
    "obslon_u = [x[1] for x in coords_u];\n",
    "obslat_u = [x[2] for x in coords_u];"
   ]
  },
  {
   "cell_type": "code",
   "execution_count": null,
   "metadata": {},
   "outputs": [],
   "source": [
    "f = GeoMakie.Figure()\n",
    "ax = GeoAxis(f[1,1], title=\"Selected data points\")\n",
    "GeoMakie.scatter!(ax, obslon_u, obslat_u, color=\"black\", markersize=1)\n",
    "f"
   ]
  },
  {
   "cell_type": "markdown",
   "metadata": {},
   "source": [
    "### Bathymetry"
   ]
  },
  {
   "cell_type": "code",
   "execution_count": null,
   "metadata": {},
   "outputs": [],
   "source": [
    "bathname = gebco16file\n",
    "download_check(gebco16file, gebco16fileURL)\n",
    "bx, by, b = load_bath(bathname, true, lonr, latr);"
   ]
  },
  {
   "cell_type": "markdown",
   "metadata": {},
   "source": [
    "#### Plotting"
   ]
  },
  {
   "cell_type": "code",
   "execution_count": null,
   "metadata": {},
   "outputs": [],
   "source": [
    "f = GeoMakie.Figure()\n",
    "ax = GeoAxis(f[1,1], title=\"Bathymetry\")\n",
    "GeoMakie.contourf!(ax, bx, by, b, levels = 20)\n",
    "GeoMakie.contour!(ax, bx, by, b, levels = [0.], color=\"black\")\n",
    "f"
   ]
  },
  {
   "cell_type": "markdown",
   "metadata": {},
   "source": [
    "#### Land-sea mask"
   ]
  },
  {
   "cell_type": "code",
   "execution_count": null,
   "metadata": {},
   "outputs": [],
   "source": [
    "surfwater = b .>= depthr[1]\n",
    "label = DIVAnd.floodfill(surfwater)\n",
    "surfmask = label .== 1; # largest area has the label 1"
   ]
  },
  {
   "cell_type": "code",
   "execution_count": null,
   "metadata": {},
   "outputs": [],
   "source": [
    "f = GeoMakie.Figure()\n",
    "ax = GeoAxis(f[1,1], title=\"Land-sea mask\")\n",
    "GeoMakie.contourf!(ax, bx, by, surfmask, levels = 2, colormap=Reverse(\"binary\"))\n",
    "f"
   ]
  },
  {
   "cell_type": "code",
   "execution_count": null,
   "metadata": {},
   "outputs": [],
   "source": [
    "mask = falses(size(b,1),size(b,2),length(depthr))\n",
    "for k = 1:length(depthr)\n",
    "    for j = 1:size(b,2)\n",
    "        for i = 1:size(b,1)\n",
    "            mask[i,j,k] = (b[i,j] >= depthr[k]) && surfmask[i,j]\n",
    "        end\n",
    "    end\n",
    "end\n",
    "@show size(mask)"
   ]
  },
  {
   "cell_type": "markdown",
   "metadata": {},
   "source": [
    "## Analysis\n",
    "### Background\n",
    "For the background we create a _time selector_ with 4 seasons and 2 periods of years (1900-1989) and (1990-2017)"
   ]
  },
  {
   "cell_type": "code",
   "execution_count": null,
   "metadata": {},
   "outputs": [],
   "source": [
    "yearlist = [1900:1989,1990:2017];\n",
    "monthlist = [[1,2,3],[4,5,6],[7,8,9],[10,11,12]];  # Seasonal climatology\n",
    "TSbackground = DIVAnd.TimeSelectorYearListMonthList(yearlist,monthlist);"
   ]
  },
  {
   "cell_type": "markdown",
   "metadata": {},
   "source": [
    "#### Analysis parameters"
   ]
  },
  {
   "cell_type": "code",
   "execution_count": null,
   "metadata": {},
   "outputs": [],
   "source": [
    "sz = (length(lonr), length(latr), length(depthr));\n",
    "lenx = fill(200_000.,sz)   # 200 km\n",
    "leny = fill(200_000.,sz)   # 200 km\n",
    "lenz = [min(max(30.,depthr[k]/150),300.) for i = 1:sz[1], j = 1:sz[2], k = 1:sz[3]]\n",
    "len = (lenx, leny, lenz);\n",
    "epsilon2 = 0.1;\n",
    "\n",
    "solver = :direct\n",
    "\n",
    "filenamebackground = joinpath(outputdir, \"Water_body_$(replace(varname,\" \"=>\"_\"))_Baltic_background.4Danl.nc\")\n",
    "filename = joinpath(outputdir, \"Water_body_$(replace(varname,\" \"=>\"_\"))_Baltic.4Danl.nc\")"
   ]
  },
  {
   "cell_type": "markdown",
   "metadata": {},
   "source": [
    "#### Metadata for the netCDF file\n",
    "\n",
    "Remove the background file if it already exists, and create the figure directory if needed."
   ]
  },
  {
   "cell_type": "code",
   "execution_count": null,
   "metadata": {},
   "outputs": [],
   "source": [
    "if isfile(filenamebackground)\n",
    "    rm(filenamebackground) # delete the previous analysis\n",
    "    @info \"Removing file $filenamebackground\"\n",
    "end"
   ]
  },
  {
   "cell_type": "markdown",
   "metadata": {},
   "source": [
    "Let's define a plotting function that well be applied at each time and depth level."
   ]
  },
  {
   "cell_type": "code",
   "execution_count": null,
   "metadata": {},
   "outputs": [],
   "source": [
    "aa = 3\n",
    "lpad(aa, 3, '0')"
   ]
  },
  {
   "cell_type": "code",
   "execution_count": null,
   "metadata": {},
   "outputs": [],
   "source": []
  },
  {
   "cell_type": "code",
   "execution_count": null,
   "metadata": {},
   "outputs": [],
   "source": [
    "function plotres(timeindex, sel, fit, erri)\n",
    "    tmp = copy(fit)\n",
    "    nx,ny,nz = size(tmp)\n",
    "    for i in 1:nz\n",
    "        f = GeoMakie.Figure()\n",
    "        ax = GeoAxis(f[1,1], title=\"Depth: $(depthr[i]) \\n Time index: $(timeindex)\")\n",
    "        \n",
    "        GeoMakie.ylims!(ax, minimum(latr) - Δy, maximum(latr) + Δy)\n",
    "        GeoMakie.xlims!(ax, minimum(lonr) - Δx, maximum(lonr) + Δx)\n",
    "        GeoMakie.contourf!(ax, bx, by, surfmask, levels = 2, colormap=Reverse(\"binary\"))\n",
    "        cont = GeoMakie.contourf!(ax, collect(lonr.-Δx/2.),collect(latr.-Δy/2.), tmp[:,:,i], levels=20, colormap=Reverse(\"RdYlBu\"))\n",
    "\n",
    "        cb = Colorbar(f[1, 2], cont)\n",
    "\n",
    "        figname = varname * \"_\" * lpad(i, 2, '0') * \"_\" * lpad(timeindex, 3, '0') * \".png\"\n",
    "        GeoMakie.save(joinpath(figdir, figname), f)\n",
    "    end\n",
    "end"
   ]
  },
  {
   "cell_type": "markdown",
   "metadata": {},
   "source": [
    "#### Background analysis\n",
    "We now have all the input to prepare the background field with `diva3d`.     \n",
    "The analysis has 8 times steps: 4 seasons times 2 periods (1900-1989 and 1990-2017)."
   ]
  },
  {
   "cell_type": "code",
   "execution_count": null,
   "metadata": {},
   "outputs": [],
   "source": [
    "dbinfo = @time diva3d((lonr,latr,depthr,TSbackground),\n",
    "           (obslon,obslat,obsdepth,obstime), obsval,\n",
    "           len, epsilon2,\n",
    "           filenamebackground,varname,\n",
    "           bathname=bathname,\n",
    "           mask = mask,\n",
    "           fitcorrlen = false,\n",
    "           niter_e = 2,\n",
    "           solver = solver,\n",
    "           MEMTOFIT = 120,\n",
    "       );"
   ]
  },
  {
   "cell_type": "markdown",
   "metadata": {},
   "source": [
    "### Final analysis\n",
    "#### Parameters\n",
    "We define the periods of interest for the final climatology."
   ]
  },
  {
   "cell_type": "code",
   "execution_count": null,
   "metadata": {},
   "outputs": [],
   "source": [
    "yearlist = [1970:1979,1980:1989,1990:1999,2000:2009];\n",
    "monthlist = [[1,2,3],[4,5,6],[7,8,9],[10,11,12]];  # Seasonal climatology\n",
    "TS = DIVAnd.TimeSelectorYearListMonthList(yearlist,monthlist);"
   ]
  },
  {
   "cell_type": "markdown",
   "metadata": {},
   "source": [
    "We remove the final netCDF file if it exists."
   ]
  },
  {
   "cell_type": "code",
   "execution_count": null,
   "metadata": {},
   "outputs": [],
   "source": [
    "if isfile(filename)\n",
    "    rm(filename) # delete the previous analysis\n",
    "    @info \"Removing file $filename\"\n",
    "end"
   ]
  },
  {
   "cell_type": "markdown",
   "metadata": {},
   "source": [
    "Now we can perform the analysis using background field, defined through the option      \n",
    "`background = DIVAnd.backgroundfile(filenamebackground,varname,TSbackground)`:      \n",
    "* `filenamebackground` is the name of the netCDF that you have created with the background\n",
    "* `varname` is the name of the variable as written in the background netCDF and\n",
    "* `TSbackground` is the *TimeSelector` object used to compute the background.\n",
    "\n",
    "With these options set, the new analysis will select the correct background according to the considered period.     \n",
    "We now have 16 time steps: 4 seasons times 4 year periods."
   ]
  },
  {
   "cell_type": "code",
   "execution_count": null,
   "metadata": {},
   "outputs": [],
   "source": [
    "dbinfo = @time diva3d((lonr,latr,depthr,TS),\n",
    "    (obslon,obslat,obsdepth,obstime), obsval,\n",
    "    len, epsilon2,\n",
    "    filename,varname,\n",
    "    bathname=bathname,\n",
    "    plotres = plotres,\n",
    "    mask = mask,\n",
    "    fitcorrlen = false,\n",
    "    niter_e = 2,\n",
    "    background = DIVAnd.backgroundfile(filenamebackground,varname,TSbackground),\n",
    "    solver = solver,\n",
    "    MEMTOFIT = 120,\n",
    ");"
   ]
  }
 ],
 "metadata": {
  "@webio": {
   "lastCommId": null,
   "lastKernelId": null
  },
  "kernelspec": {
   "display_name": "Julia 1.11.1",
   "language": "julia",
   "name": "julia-1.11"
  },
  "language_info": {
   "file_extension": ".jl",
   "mimetype": "application/julia",
   "name": "julia",
   "version": "1.11.1"
  },
  "toc": {
   "base_numbering": 1,
   "nav_menu": {},
   "number_sections": true,
   "sideBar": true,
   "skip_h1_title": false,
   "title_cell": "Table of Contents",
   "title_sidebar": "Contents",
   "toc_cell": false,
   "toc_position": {},
   "toc_section_display": true,
   "toc_window_display": false
  }
 },
 "nbformat": 4,
 "nbformat_minor": 4
}
