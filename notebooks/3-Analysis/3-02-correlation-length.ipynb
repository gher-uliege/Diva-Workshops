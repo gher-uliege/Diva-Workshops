{
 "cells": [
  {
   "cell_type": "markdown",
   "metadata": {},
   "source": [
    "# Estimating the correlation length \n",
    "\n",
    "* The correlation length $L$ determines whether two points separated by a given distance are correlated or not.\n",
    "* `DIVAnd` includes several tools to estimate the correlation length.\n",
    "* We will start with a 2D case and then consider the 3D case."
   ]
  },
  {
   "cell_type": "code",
   "execution_count": null,
   "metadata": {},
   "outputs": [],
   "source": [
    "import Pkg\n",
    "Pkg.activate(\"../..\")\n",
    "Pkg.instantiate()\n",
    "using DIVAnd\n",
    "using Makie, CairoMakie, GeoMakie\n",
    "using Dates\n",
    "using Statistics\n",
    "using Random\n",
    "using Printf\n",
    "include(\"../config.jl\")"
   ]
  },
  {
   "cell_type": "markdown",
   "metadata": {},
   "source": [
    "## Data reading\n",
    "\n",
    "The file `WOD-Salinity-Provencal.nc` contains salinity measurement obtained from the [World Ocean Database](https://www.nodc.noaa.gov/OC5/WOD/pr_wod.html). for the Provençal Basin (Mediterranean Sea). The profiles were not interpolated vertically.\n",
    "\n",
    "The resulting correlation length can fluctuate a bit between runs, because the correlation is based on a collection of random pairs. "
   ]
  },
  {
   "cell_type": "markdown",
   "metadata": {},
   "source": [
    "### 2D case\n",
    "\n",
    "* First lets consider only the data on a 2D surface (longitude and latitude)\n",
    "* Load the data file if it is not already present."
   ]
  },
  {
   "cell_type": "code",
   "execution_count": null,
   "metadata": {},
   "outputs": [],
   "source": [
    "varname = \"Salinity\"\n",
    "download_check(salinityprovencalfile, salinityprovencalfileURL)\n",
    "\n",
    "bathname = gebco04file\n",
    "download_check(gebco04file, gebco04fileURL)\n",
    "\n",
    "lonr = 3.:0.1:11.8\n",
    "latr = 42.:0.1:44.5\n",
    "depthr = [0.,5., 10., 15., 20., 25., 30., 40., 50., 66, \n",
    "    75, 85, 100, 112, 125, 135, 150, 175, 200, 225, 250, \n",
    "    275, 300, 350, 400, 450, 500, 550, 600, 650, 700, 750, \n",
    "    800, 850, 900, 950, 1000, 1050, 1100, 1150, 1200, 1250, \n",
    "    1300, 1350, 1400, 1450, 1500, 1600, 1750, 1850, 2000];\n",
    "bathisglobal = true"
   ]
  },
  {
   "cell_type": "markdown",
   "metadata": {},
   "source": [
    "### Extract the bathymetry and mask for plotting"
   ]
  },
  {
   "cell_type": "code",
   "execution_count": null,
   "metadata": {},
   "outputs": [],
   "source": [
    "bx, by, b = extract_bath(bathname, bathisglobal, lonr, latr);\n",
    "_, _, mask = load_mask(bathname, bathisglobal, lonr, latr, depthr);"
   ]
  },
  {
   "cell_type": "markdown",
   "metadata": {},
   "source": [
    "Load the data and print basic information about it that can be used for quality check."
   ]
  },
  {
   "cell_type": "code",
   "execution_count": null,
   "metadata": {},
   "outputs": [],
   "source": [
    "obsval, obslon, obslat, obsdepth, obstime, obsid =\n",
    "    loadobs(Float64, salinityprovencalfile, \"Salinity\")\n",
    "checkobs((obslon, obslat, obsdepth, obstime), obsval, obsid)"
   ]
  },
  {
   "cell_type": "code",
   "execution_count": null,
   "metadata": {},
   "outputs": [],
   "source": [
    "f = Figure()\n",
    "ax = Axis(f[1, 1], xlabel = \"Salinity\", title = \"Number of observations\")\n",
    "hist!(ax, obsval, bins = 1000)\n",
    "xlims!(ax, 37, 39)\n",
    "f"
   ]
  },
  {
   "cell_type": "markdown",
   "metadata": {},
   "source": [
    "### Removing suspect observations\n",
    "<div class=\"alert alert-block alert-warning\">\n",
    "⚠️ It is quite important to remove outliers for the correlation length estimation, as they can have a significant impact.\n",
    "</div>"
   ]
  },
  {
   "cell_type": "markdown",
   "metadata": {},
   "source": [
    "For this example we select only the first month (January) and we remove some questionable observations."
   ]
  },
  {
   "cell_type": "code",
   "execution_count": null,
   "metadata": {},
   "outputs": [],
   "source": [
    "badid = [\"wod_015600782O\",\"wod_015602753O\",\"wod_015604717O\",\"wod_015606732O\",\n",
    "         \"wod_015607117O\",\"wod_015607524O\",\"wod_015607893O\",\"wod_015924970O\",\n",
    "         \"wod_015926914O\",\"wod_015928739O\",\"wod_016650545O\",\"wod_008518725O\",\n",
    "         \"wod_007643915O\",\"wod_015875365O\",\"wod_006614816O\",\"wod_006614929O\",\n",
    "         \"wod_006614937O\",\"wod_007644875O\",\"wod_009996947O\",\"wod_010742471O\",\n",
    "         \"wod_010742472O\",\"wod_006614931O\",\"wod_006614934O\",\"wod_006625408O\",\n",
    "         \"wod_006752127O\",\"wod_006752129O\"];\n",
    "\n",
    "good = (37.6 .< obsval .< 38.75) .& map(id -> !(id in badid),obsid)\n",
    "\n",
    "\n",
    "sel = (Dates.month.(obstime) .== 1) .& good\n",
    "x = (obslon[sel], obslat[sel], obsdepth[sel]);\n",
    "v = obsval[sel];\n",
    "z = depthr;"
   ]
  },
  {
   "cell_type": "markdown",
   "metadata": {},
   "source": [
    "### Data plot\n",
    "Plot the observation at a given level. What do you think will happend if you run `plotobs.(z)`?"
   ]
  },
  {
   "cell_type": "code",
   "execution_count": null,
   "metadata": {},
   "outputs": [],
   "source": [
    "function plotobs(z)\n",
    "\n",
    "    sel = (Dates.month.(obstime) .== 1) .& (abs.(obsdepth .- z) .< 50) .& good # .& (obsval .< 38.3)\n",
    "\n",
    "    fig = Figure()\n",
    "    ga = GeoAxis(\n",
    "        fig[1, 1];\n",
    "        dest = \"+proj=merc\",\n",
    "        title = \"Depth: $(z[1]) m ($(sum(sel)) osbervations)\",\n",
    "    )\n",
    "    sc = scatter!(ga, obslon[sel], obslat[sel], color = obsval[sel])\n",
    "    contourf!(ga, bx, by, b, levels = [-1e5, 0, 1.0], colormap = Reverse(:binary))\n",
    "    Colorbar(fig[2, 1], sc, vertical = false, label = \"S\")\n",
    "    #GeoMakie.xlims!(ga, (lonr[1], lonr[end]))\n",
    "    #GeoMakie.ylims!(ga, (latr[1], latr[end]))\n",
    "    fig\n",
    "end"
   ]
  },
  {
   "cell_type": "code",
   "execution_count": null,
   "metadata": {},
   "outputs": [],
   "source": [
    "plotobs(z[10])"
   ]
  },
  {
   "cell_type": "markdown",
   "metadata": {},
   "source": [
    "## Analysis\n",
    "\n",
    "Prepare the domain, mask and background field."
   ]
  },
  {
   "cell_type": "code",
   "execution_count": null,
   "metadata": {},
   "outputs": [],
   "source": [
    "mask, pmn, xyi = DIVAnd.domain(bathname, bathisglobal, lonr, latr, depthr)\n",
    "sz = size(mask);\n",
    "# obs. coordinate matching selection\n",
    "xsel = (obslon[sel], obslat[sel], obsdepth[sel])\n",
    "\n",
    "vm = mean(obsval[sel])\n",
    "va = obsval[sel] .- vm\n",
    "toaverage = [true, true, false]\n",
    "background_len = (zeros(sz), zeros(sz), fill(50.0, sz))\n",
    "background_epsilon2 = 1000.0\n",
    "\n",
    "\n",
    "fi, vaa = DIVAnd.DIVAnd_averaged_bg(\n",
    "    mask,\n",
    "    pmn,\n",
    "    xyi,\n",
    "    xsel,\n",
    "    va,\n",
    "    background_len,\n",
    "    background_epsilon2,\n",
    "    toaverage;\n",
    ")\n",
    "\n",
    "fbackground = fi .+ vm\n",
    "@debug \"fbackground: $(fbackground[1,1,:])\"\n",
    "\n",
    "v = vaa;\n",
    "sel2 = isfinite.(v)\n",
    "x = (xsel[1][sel2], xsel[2][sel2], xsel[3][sel2])\n",
    "v = v[sel2];"
   ]
  },
  {
   "cell_type": "markdown",
   "metadata": {},
   "source": [
    "### Plotting the background"
   ]
  },
  {
   "cell_type": "code",
   "execution_count": null,
   "metadata": {},
   "outputs": [],
   "source": [
    "fig = Figure()\n",
    "ax =\n",
    "    Axis(fig[1, 1], xlabel = \"Salinity\", ylabel = \"Depth (m)\", title = \"Background profile\")\n",
    "lines!(ax, fbackground[1, 1, :], -depthr)\n",
    "fig"
   ]
  },
  {
   "cell_type": "markdown",
   "metadata": {},
   "source": [
    "## Horizontal correlation length\n",
    "Estimate the horizontal correlation length for different depth levels, using the function `fithorzlen`  \n",
    "(can take a few minutes)."
   ]
  },
  {
   "cell_type": "code",
   "execution_count": null,
   "metadata": {},
   "outputs": [],
   "source": [
    "@time lenxy, infoxy = fithorzlen(x, v, [0.0]);"
   ]
  },
  {
   "cell_type": "markdown",
   "metadata": {},
   "source": [
    "The function `fithorzlen` can take optional arguments:\n",
    "- `distfun`: the function used to get the distance between two points (default: the Euclidian distance);\n",
    "- `searchz`: the vertical search distance (distance taken the distance of interest; 50 meters by default). "
   ]
  },
  {
   "cell_type": "code",
   "execution_count": null,
   "metadata": {},
   "outputs": [],
   "source": [
    "@time lenxy, infoxy =\n",
    "    fithorzlen(x, v, z; distfun = DIVAnd.distfun_m, searchz = z -> (z / 4 + 10));"
   ]
  },
  {
   "cell_type": "markdown",
   "metadata": {},
   "source": [
    "One can get information about the fitting and its quality using the object `infoxy`:"
   ]
  },
  {
   "cell_type": "code",
   "execution_count": null,
   "metadata": {},
   "outputs": [],
   "source": [
    "infoxy[:fitinfos][1]"
   ]
  },
  {
   "cell_type": "markdown",
   "metadata": {},
   "source": [
    "Extract the information for the level `k = 1`:\n",
    "* `covar`: the empirical covariance\n",
    "* `fitcovar`: the fitted empirical covariance\n",
    "* `distx`: distance\n",
    "* `range`: part of `covar` used for the fitting\n",
    "* `rqual`: the quality for the fit (1: excellent, 0: poor)"
   ]
  },
  {
   "cell_type": "code",
   "execution_count": null,
   "metadata": {},
   "outputs": [],
   "source": [
    "k = 1\n",
    "covar = infoxy[:fitinfos][k][:covar]\n",
    "fitcovar = infoxy[:fitinfos][k][:fitcovar]\n",
    "distx = infoxy[:fitinfos][k][:distx]\n",
    "range = infoxy[:fitinfos][k][:range]\n",
    "rqual = infoxy[:fitinfos][k][:rqual]"
   ]
  },
  {
   "cell_type": "markdown",
   "metadata": {},
   "source": [
    "### Create plots"
   ]
  },
  {
   "cell_type": "code",
   "execution_count": null,
   "metadata": {},
   "outputs": [],
   "source": [
    "fig = Figure()\n",
    "ax = Axis(\n",
    "    fig[1, 1],\n",
    "    ylabel = \"Covariance [psu²]\",\n",
    "    xlabel = \"distance [m]\",\n",
    "    title = \"Correlation length fitting\",\n",
    ")\n",
    "lines!(distx, covar, label = \"empirical covariance\")\n",
    "lines!(\n",
    "    distx[range],\n",
    "    covar[range],\n",
    "    color = :red,\n",
    "    label = \"empirical covariance used for fitting\",\n",
    ")\n",
    "axislegend()\n",
    "fig"
   ]
  },
  {
   "cell_type": "code",
   "execution_count": null,
   "metadata": {},
   "outputs": [],
   "source": [
    "fig = Figure()\n",
    "ax = Axis(\n",
    "    fig[1, 1],\n",
    "    ylabel = \"Covariance [psu²]\",\n",
    "    xlabel = \"distance [m]\",\n",
    "    title = \"Correlation length fitting\",\n",
    ")\n",
    "lines!(\n",
    "    distx[range],\n",
    "    covar[range],\n",
    "    color = :red,\n",
    "    label = \"empirical covariance used for fitting\",\n",
    ")\n",
    "lines!(\n",
    "    distx[range],\n",
    "    fitcovar[range],\n",
    "    color = :green,\n",
    "    label = \"fitted covariance (rqual = $(@sprintf(\"%4.3f\",rqual)))\",\n",
    ")\n",
    "axislegend(ax)\n",
    "fig"
   ]
  },
  {
   "cell_type": "markdown",
   "metadata": {},
   "source": [
    "<div class=\"alert alert-block alert-info\">\n",
    "🖋️ Try different values of `k` (the level index) and re-run the previous two cells.<br>     \n",
    "Note that at some level the fit was quite poor.<br>\n",
    "Additional filtering (vertically) is done to smooth the horizontal correlation length.\n",
    "</div>"
   ]
  },
  {
   "cell_type": "markdown",
   "metadata": {},
   "source": [
    "### Horizontal correlation length with respect to the depth\n",
    "For the deepest layers, there is less observations, hence the decreasing quality of the fit."
   ]
  },
  {
   "cell_type": "code",
   "execution_count": null,
   "metadata": {},
   "outputs": [],
   "source": [
    "rqual = [f[:rqual] for f in infoxy[:fitinfos]]\n",
    "\n",
    "fig = Figure()\n",
    "ax1 = Axis(\n",
    "    fig[1, 1],\n",
    "    ylabel = \"Depth (m)\",\n",
    "    xlabel = \"Horizontal correlation length (km)\",\n",
    "    title = \"Correlation length profile\",\n",
    ")\n",
    "scatterlines!(ax1, lenxy / 1000, -z, color = :black, label = \"Correlation length\")\n",
    "lines!(ax1, infoxy[:len] / 1000, -z, linestyle = :dash)\n",
    "axislegend(ax1)\n",
    "\n",
    "ax2 = Axis(fig[1, 2], ylabel = \"Depth (m)\", xlabel = \"Quality of the fit\")\n",
    "scatterlines!(ax2, rqual, -z)\n",
    "fig"
   ]
  },
  {
   "cell_type": "code",
   "execution_count": null,
   "metadata": {},
   "outputs": [],
   "source": [
    "plotobs.(2000)"
   ]
  },
  {
   "cell_type": "markdown",
   "metadata": {},
   "source": [
    "It is useful to limit the acceptable range of the correlation length by providing a function `limitfun` with the argument depth `z` and estimated correlation length `len`.     \n",
    "It then returns the adjusted correlation length. This adjustememt is done before the filtering."
   ]
  },
  {
   "cell_type": "code",
   "execution_count": null,
   "metadata": {},
   "outputs": [],
   "source": [
    "@time lenxy2, infoxy2 = fithorzlen(\n",
    "    x,\n",
    "    v,\n",
    "    z;\n",
    "    distfun = DIVAnd.distfun_m,\n",
    "    limitfun = (z, len) -> min(max(len, 25e3), 60e3),\n",
    ");"
   ]
  },
  {
   "cell_type": "code",
   "execution_count": null,
   "metadata": {},
   "outputs": [],
   "source": [
    "fig = Figure()\n",
    "ax1 = Axis(\n",
    "    fig[1, 1],\n",
    "    ylabel = \"Depth (m)\",\n",
    "    xlabel = \"Vertical correlation length (m)\",\n",
    "    title = \"Correlation length profile\",\n",
    ")\n",
    "scatterlines!(ax1, lenxy2, -z, color = :black)\n",
    "#plot(infoxy2[:len],-z,\":\");\n",
    "fig"
   ]
  },
  {
   "cell_type": "markdown",
   "metadata": {},
   "source": [
    "## Vertical correlation length \n",
    "The vertical correlation length is also estimated for different depth levels"
   ]
  },
  {
   "cell_type": "code",
   "execution_count": null,
   "metadata": {},
   "outputs": [],
   "source": [
    "?fitvertlen"
   ]
  },
  {
   "cell_type": "code",
   "execution_count": null,
   "metadata": {},
   "outputs": [],
   "source": [
    "lenz, infoz = fitvertlen(x, v, z);"
   ]
  },
  {
   "cell_type": "markdown",
   "metadata": {
    "collapsed": true,
    "jupyter": {
     "outputs_hidden": true
    }
   },
   "source": [
    "### Make a plot"
   ]
  },
  {
   "cell_type": "code",
   "execution_count": null,
   "metadata": {},
   "outputs": [],
   "source": [
    "k = 45\n",
    "covar = infoz[:fitinfos][k][:covar]\n",
    "fitcovar = infoz[:fitinfos][k][:fitcovar]\n",
    "distx = infoz[:fitinfos][k][:distx]\n",
    "range = infoz[:fitinfos][k][:range]\n",
    "rqual = infoz[:fitinfos][k][:rqual]\n",
    "\n",
    "fig = Figure()\n",
    "ax1 = Axis(\n",
    "    fig[1, 1],\n",
    "    ylabel = \"Depth (m)\",\n",
    "    xlabel = \"Covariance [psu²]\",\n",
    "    title = \"Correlation length profile\",\n",
    ")\n",
    "lines!(ax1, distx, covar, label = \"empirical covariance\", color = :black)\n",
    "lines!(\n",
    "    ax1,\n",
    "    distx[range],\n",
    "    covar[range],\n",
    "    color = :red,\n",
    "    label = \"empirical covariance used for fitting\",\n",
    ")\n",
    "axislegend(ax1)\n",
    "fig"
   ]
  },
  {
   "cell_type": "code",
   "execution_count": null,
   "metadata": {},
   "outputs": [],
   "source": [
    "rqual = [f[:rqual] for f in infoz[:fitinfos]]\n",
    "\n",
    "fig = Figure()\n",
    "ax1 = Axis(\n",
    "    fig[1, 1],\n",
    "    ylabel = \"Depth (m)\",\n",
    "    xlabel = \"Horizontal correlation length (km)\",\n",
    "    title = \"Correlation length profile\",\n",
    ")\n",
    "scatterlines!(ax1, lenz, -z, color = :black, label = \"Correlation length\")\n",
    "lines!(ax1, infoz[:len], -z, linestyle = :dash)\n",
    "axislegend(ax1)\n",
    "\n",
    "ax2 = Axis(fig[1, 2], ylabel = \"Depth (m)\", xlabel = \"Quality of the fit\")\n",
    "scatterlines!(ax2, rqual, -z)\n",
    "fig"
   ]
  },
  {
   "cell_type": "code",
   "execution_count": null,
   "metadata": {},
   "outputs": [],
   "source": [
    "infoz[:fitinfos][end]"
   ]
  },
  {
   "cell_type": "markdown",
   "metadata": {},
   "source": [
    "An alternative is to use of the vertical coordinate to obtain a reasonable guess of the vertical correlation"
   ]
  },
  {
   "cell_type": "code",
   "execution_count": null,
   "metadata": {},
   "outputs": [],
   "source": [
    "Dz = (z[3:end] - z[1:end-2]) / 2\n",
    "lenz = 3 * [Dz[1], Dz..., Dz[end]]\n",
    "lenzf = DIVAnd.smoothfilter(1:length(lenz), lenz, 10)\n",
    "\n",
    "fig = Figure()\n",
    "ax1 = Axis(\n",
    "    fig[1, 1],\n",
    "    ylabel = \"Depth (m)\",\n",
    "    xlabel = \"Vertical correlation length (m)\",\n",
    "    title = \"Correlation length profile\",\n",
    ")\n",
    "lines!(ax1, lenz, -z)\n",
    "lines!(ax1, lenzf, -z);\n",
    "fig"
   ]
  }
 ],
 "metadata": {
  "@webio": {
   "lastCommId": null,
   "lastKernelId": null
  },
  "kernelspec": {
   "display_name": "Julia 1.11.6",
   "language": "julia",
   "name": "julia-1.11"
  },
  "language_info": {
   "file_extension": ".jl",
   "mimetype": "application/julia",
   "name": "julia",
   "version": "1.11.6"
  },
  "nbdime-conflicts": {
   "local_diff": [
    {
     "diff": [
      {
       "diff": [
        {
         "diff": [
          {
           "key": 10,
           "op": "addrange",
           "valuelist": "2"
          },
          {
           "key": 10,
           "length": 1,
           "op": "removerange"
          }
         ],
         "key": 0,
         "op": "patch"
        }
       ],
       "key": "display_name",
       "op": "patch"
      }
     ],
     "key": "kernelspec",
     "op": "patch"
    },
    {
     "diff": [
      {
       "diff": [
        {
         "diff": [
          {
           "key": 4,
           "op": "addrange",
           "valuelist": "2"
          },
          {
           "key": 4,
           "length": 1,
           "op": "removerange"
          }
         ],
         "key": 0,
         "op": "patch"
        }
       ],
       "key": "version",
       "op": "patch"
      }
     ],
     "key": "language_info",
     "op": "patch"
    }
   ],
   "remote_diff": [
    {
     "diff": [
      {
       "diff": [
        {
         "diff": [
          {
           "key": 10,
           "op": "addrange",
           "valuelist": "0"
          },
          {
           "key": 10,
           "length": 1,
           "op": "removerange"
          }
         ],
         "key": 0,
         "op": "patch"
        }
       ],
       "key": "display_name",
       "op": "patch"
      }
     ],
     "key": "kernelspec",
     "op": "patch"
    },
    {
     "diff": [
      {
       "diff": [
        {
         "diff": [
          {
           "key": 4,
           "op": "addrange",
           "valuelist": "0"
          },
          {
           "key": 4,
           "length": 1,
           "op": "removerange"
          }
         ],
         "key": 0,
         "op": "patch"
        }
       ],
       "key": "version",
       "op": "patch"
      }
     ],
     "key": "language_info",
     "op": "patch"
    }
   ]
  },
  "toc": {
   "base_numbering": 1,
   "nav_menu": {},
   "number_sections": true,
   "sideBar": true,
   "skip_h1_title": false,
   "title_cell": "Table of Contents",
   "title_sidebar": "Contents",
   "toc_cell": false,
   "toc_position": {},
   "toc_section_display": true,
   "toc_window_display": false
  }
 },
 "nbformat": 4,
 "nbformat_minor": 4
}
