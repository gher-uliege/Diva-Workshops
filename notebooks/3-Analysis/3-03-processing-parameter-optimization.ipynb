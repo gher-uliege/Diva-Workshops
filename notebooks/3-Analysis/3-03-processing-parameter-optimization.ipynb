{
 "cells": [
  {
   "cell_type": "markdown",
   "metadata": {},
   "source": [
    "# Optimizing analysis parameters $L$ and $\\epsilon^2$\n",
    "This notebooks shows different ways to optimize the analysis parameters."
   ]
  },
  {
   "cell_type": "code",
   "execution_count": null,
   "metadata": {},
   "outputs": [],
   "source": [
    "using DIVAnd\n",
    "using Makie, CairoMakie, GeoMakie\n",
    "using Dates\n",
    "using Statistics\n",
    "include(\"../config.jl\")"
   ]
  },
  {
   "cell_type": "markdown",
   "metadata": {},
   "source": [
    "## Data reading"
   ]
  },
  {
   "cell_type": "code",
   "execution_count": null,
   "metadata": {},
   "outputs": [],
   "source": [
    "varname = \"Salinity\"\n",
    "filename = salinityprovencalfile\n",
    "download_check(salinityprovencalfile, salinityprovencalfileURL)\n",
    "\n",
    "obsval, obslon, obslat, obsdepth, obstime, obsid = loadobs(Float64, filename, varname);"
   ]
  },
  {
   "cell_type": "markdown",
   "metadata": {},
   "source": [
    "### Topography and grid definition\n",
    "\n",
    "See the notebook on [bathymetry](../2-Preprocessing/06-topography.ipynb) for more explanations."
   ]
  },
  {
   "cell_type": "code",
   "execution_count": null,
   "metadata": {},
   "outputs": [],
   "source": [
    "dx = dy = 0.125 / 2.0\n",
    "lonr = 2.5:dx:12.0\n",
    "latr = 42.3:dy:44.6\n",
    "\n",
    "mask, (pm, pn), (xi, yi) = DIVAnd_rectdom(lonr, latr)\n",
    "\n",
    "bathname = gebco04file\n",
    "download_check(gebco04file, gebco04fileURL)"
   ]
  },
  {
   "cell_type": "markdown",
   "metadata": {},
   "source": [
    "Reading the bathymetry and creating the mask"
   ]
  },
  {
   "cell_type": "code",
   "execution_count": null,
   "metadata": {},
   "outputs": [],
   "source": [
    "bx, by, b = load_bath(bathname, true, lonr, latr)\n",
    "\n",
    "mask = falses(size(b, 1), size(b, 2))\n",
    "\n",
    "for j = 1:size(b, 2)\n",
    "    for i = 1:size(b, 1)\n",
    "        mask[i, j] = b[i, j] >= 1.0\n",
    "    end\n",
    "end\n",
    "\n",
    "plot_mask(bx, by, mask)"
   ]
  },
  {
   "cell_type": "markdown",
   "metadata": {},
   "source": [
    "## Data selection for example\n",
    "\n",
    "Cross validation, error calculations etc. assume independant data. Hence do not take high-resolution vertical profiles with all data but restrict yourself to specific small depth ranges. \n",
    "\n",
    "Here August data near the surface surface.     \n",
    "We also perform a test on values to eliminate obvious outliers:"
   ]
  },
  {
   "cell_type": "code",
   "execution_count": null,
   "metadata": {},
   "outputs": [],
   "source": [
    "datadepth = 1\n",
    "depthprecision = 0.5\n",
    "\n",
    "sel =\n",
    "    (obsdepth .< datadepth) .&\n",
    "    (obsdepth .>= (datadepth - depthprecision)) .&\n",
    "    (Dates.month.(obstime) .== 8) .&\n",
    "    (obsval .> 37)\n",
    "\n",
    "obsval = obsval[sel]\n",
    "obslon = obslon[sel]\n",
    "obslat = obslat[sel]\n",
    "obsdepth = obsdepth[sel]\n",
    "obstime = obstime[sel]\n",
    "obsid = obsid[sel];\n",
    "@show (size(obsval))\n",
    "checkobs((obslon, obslat, obsdepth, obstime), obsval, obsid)"
   ]
  },
  {
   "cell_type": "markdown",
   "metadata": {},
   "source": [
    "We modify data weight by taking into account close points.      \n",
    "**⚠️** This operation is particularly costly when dealing with big datasets."
   ]
  },
  {
   "cell_type": "code",
   "execution_count": null,
   "metadata": {},
   "outputs": [],
   "source": [
    "?DIVAnd.weight_RtimesOne"
   ]
  },
  {
   "cell_type": "code",
   "execution_count": null,
   "metadata": {},
   "outputs": [],
   "source": [
    "rdiag = 1.0 ./ DIVAnd.weight_RtimesOne((obslon, obslat), (0.03, 0.03))\n",
    "@show maximum(rdiag), mean(rdiag)"
   ]
  },
  {
   "cell_type": "markdown",
   "metadata": {
    "collapsed": true,
    "jupyter": {
     "outputs_hidden": true
    }
   },
   "source": [
    "## Analysis\n",
    "\n",
    "Analysis `fi` using mean data as background.      \n",
    "Structure `s` is stored for later use."
   ]
  },
  {
   "cell_type": "code",
   "execution_count": null,
   "metadata": {},
   "outputs": [],
   "source": [
    "len = 1\n",
    "epsilon2 = 1\n",
    "fi, s = DIVAndrun(\n",
    "    mask,\n",
    "    (pm, pn),\n",
    "    (xi, yi),\n",
    "    (obslon, obslat),\n",
    "    obsval .- mean(obsval),\n",
    "    len,\n",
    "    epsilon2 * rdiag,\n",
    ");"
   ]
  },
  {
   "cell_type": "markdown",
   "metadata": {},
   "source": [
    "### Compute residuals\n",
    "Using the analysis and the structure `s`"
   ]
  },
  {
   "cell_type": "code",
   "execution_count": null,
   "metadata": {},
   "outputs": [],
   "source": [
    "dataresiduals = DIVAnd_residualobs(s, fi);"
   ]
  },
  {
   "cell_type": "markdown",
   "metadata": {},
   "source": [
    "### Generate some plots:\n",
    "1. Analysis with data points\n",
    "2. Data residuals\n",
    "3. Residuals vs value"
   ]
  },
  {
   "cell_type": "code",
   "execution_count": null,
   "metadata": {},
   "outputs": [],
   "source": [
    "fig = Figure(size = (600, 350))\n",
    "ga = GeoAxis(\n",
    "    fig[1, 1];\n",
    "    dest = \"+proj=merc\",\n",
    "    title = \"Analysis and observations\",\n",
    "    xticks = 2.0:1.0:14,\n",
    "    yticks = 42.0:1.0:45.0,\n",
    ")\n",
    "heatmap!(ga, bx, by, mask, colormap = Reverse(:binary))\n",
    "hm = heatmap!(\n",
    "    ga,\n",
    "    lonr,\n",
    "    latr,\n",
    "    fi .+ mean(obsval),\n",
    "    interpolate = false,\n",
    "    colorrange = [37.6, 38.2],\n",
    ")\n",
    "sc = scatter!(obslon, obslat, color = obsval, markersize = 7, colorrange = [37.6, 38.2])\n",
    "xlims!(ga, (bx[1], bx[end]))\n",
    "ylims!(ga, (by[1], by[end]))\n",
    "Colorbar(fig[2, 1], hm, vertical = false, label = \"S\")\n",
    "fig"
   ]
  },
  {
   "cell_type": "code",
   "execution_count": null,
   "metadata": {},
   "outputs": [],
   "source": [
    "rscale = sqrt(var(obsval))\n",
    "fig = Figure(size = (600, 350))\n",
    "ga = GeoAxis(\n",
    "    fig[1, 1];\n",
    "    dest = \"+proj=merc\",\n",
    "    title = \"Residuals\",\n",
    "    xticks = 2.0:1.0:14,\n",
    "    yticks = 42.0:1.0:45.0,\n",
    ")\n",
    "heatmap!(ga, bx, by, mask, colormap = Reverse(:binary))\n",
    "sc = scatter!(\n",
    "    obslon,\n",
    "    obslat,\n",
    "    color = dataresiduals,\n",
    "    markersize = 7,\n",
    "    colorrange = [-rscale, rscale],\n",
    "    colormap = Reverse(:RdBu),\n",
    ")\n",
    "xlims!(ga, (bx[1], bx[end]))\n",
    "ylims!(ga, (by[1], by[end]))\n",
    "Colorbar(fig[2, 1], sc, vertical = false, label = \"S\")\n",
    "fig"
   ]
  },
  {
   "cell_type": "code",
   "execution_count": null,
   "metadata": {},
   "outputs": [],
   "source": [
    "fig = Figure()\n",
    "ax = Axis(\n",
    "    fig[1, 1];\n",
    "    title = \"Residuals as function of value\",\n",
    "    xlabel = \"Observation values\",\n",
    "    ylabel = \"Residual values\",\n",
    ")\n",
    "sc = plot!(ax, obsval, dataresiduals, markersize = 7)\n",
    "fig"
   ]
  },
  {
   "cell_type": "markdown",
   "metadata": {},
   "source": [
    "# Cross validation\n",
    "\n",
    "Take out data and measure difference between these data points not used and the analysis. Three methods are implemented \n",
    "## Define method used\n",
    "    # 1: full CV\n",
    "    # 2: sampled CV\n",
    "    # 3: GCV\n",
    "    # 0: automatic choice between the three possible ones, default value"
   ]
  },
  {
   "cell_type": "code",
   "execution_count": null,
   "metadata": {},
   "outputs": [],
   "source": [
    "bestfactorl = ones(4)\n",
    "bestfactore = ones(4)\n",
    "fig = Figure(size = (600, 600))\n",
    "\n",
    "# Loop over the methods\n",
    "for imeth = 0:3\n",
    "\n",
    "    bestfactorl[imeth+1],\n",
    "    bestfactore[imeth+1],\n",
    "    cvval,\n",
    "    cvvalues,\n",
    "    x2Ddata,\n",
    "    y2Ddata,\n",
    "    cvinter,\n",
    "    xi2D,\n",
    "    yi2D = DIVAnd_cv(\n",
    "        mask,\n",
    "        (pm, pn),\n",
    "        (xi, yi),\n",
    "        (obslon, obslat),\n",
    "        obsval .- mean(obsval),\n",
    "        len,\n",
    "        epsilon2 * rdiag,\n",
    "        2,\n",
    "        3,\n",
    "        imeth,\n",
    "    )\n",
    "\n",
    "    @show bestfactorl[imeth+1], bestfactore[imeth+1]\n",
    "\n",
    "    ax = Axis(\n",
    "        fig[1+imeth÷2, 1+imeth%2];\n",
    "        title = \"Method $imeth\",\n",
    "        xlabel = \"Log10 scale factor L\",\n",
    "        ylabel = \"Log10 scale factor e2\",\n",
    "    )\n",
    "    heatmap!(ax, xi2D[:, 1], yi2D[1, :], cvinter, interpolate = false)\n",
    "    plot!(ax, xi2D[:], yi2D[:], markersize = 1)\n",
    "    plot!(ax, [log10.(bestfactorl[imeth+1])], [log10.(bestfactore[imeth+1])])\n",
    "\n",
    "end\n",
    "fig"
   ]
  },
  {
   "cell_type": "markdown",
   "metadata": {},
   "source": [
    "<div class=\"alert alert-block alert-warning\">\n",
    "⚠️ Any tests with resulting length scales being smaller than around 4 times the grid spacing are meaningless.\n",
    "</div>"
   ]
  },
  {
   "cell_type": "markdown",
   "metadata": {},
   "source": [
    "### Analysis with optimized values"
   ]
  },
  {
   "cell_type": "code",
   "execution_count": null,
   "metadata": {},
   "outputs": [],
   "source": [
    "newl = len * bestfactorl[2]\n",
    "newe = epsilon2 * bestfactore[2]\n",
    "\n",
    "fi, s = DIVAndrun(\n",
    "    mask,\n",
    "    (pm, pn),\n",
    "    (xi, yi),\n",
    "    (obslon, obslat),\n",
    "    obsval .- mean(obsval),\n",
    "    newl,\n",
    "    newe * rdiag,\n",
    ");\n",
    "dataresiduals = DIVAnd_residualobs(s, fi)"
   ]
  },
  {
   "cell_type": "code",
   "execution_count": null,
   "metadata": {},
   "outputs": [],
   "source": [
    "fig = Figure(size = (600, 370))\n",
    "ga = GeoAxis(\n",
    "    fig[1, 1];\n",
    "    dest = \"+proj=merc\",\n",
    "    title = \"Analysis and observations with\\nnew L  = $(round(newl, digits=3)) and new e2 = $(round(newe, digits=3))\",\n",
    "    xticks = 2.0:1.0:14,\n",
    "    yticks = 42.0:1.0:45.0,\n",
    ")\n",
    "heatmap!(ga, bx, by, mask, colormap = Reverse(:binary))\n",
    "hm = heatmap!(\n",
    "    ga,\n",
    "    lonr,\n",
    "    latr,\n",
    "    fi .+ mean(obsval),\n",
    "    interpolate = false,\n",
    "    colorrange = [37.0, 38.5],\n",
    ")\n",
    "sc = scatter!(obslon, obslat, color = obsval, markersize = 7, colorrange = [37.0, 38.5])\n",
    "xlims!(ga, (bx[1], bx[end]))\n",
    "ylims!(ga, (by[1], by[end]))\n",
    "Colorbar(fig[2, 1], hm, vertical = false, label = \"S\")\n",
    "fig"
   ]
  },
  {
   "cell_type": "code",
   "execution_count": null,
   "metadata": {},
   "outputs": [],
   "source": [
    "rscale = sqrt(var(obsval))\n",
    "fig = Figure(size = (600, 350))\n",
    "ga = GeoAxis(\n",
    "    fig[1, 1];\n",
    "    dest = \"+proj=merc\",\n",
    "    title = \"Residuals\",\n",
    "    xticks = 2.0:1.0:14,\n",
    "    yticks = 42.0:1.0:45.0,\n",
    ")\n",
    "heatmap!(ga, bx, by, mask, colormap = Reverse(:binary))\n",
    "sc = scatter!(\n",
    "    obslon,\n",
    "    obslat,\n",
    "    color = dataresiduals,\n",
    "    markersize = 7,\n",
    "    colorrange = [-rscale, rscale],\n",
    "    colormap = Reverse(:RdBu),\n",
    ")\n",
    "xlims!(ga, (bx[1], bx[end]))\n",
    "ylims!(ga, (by[1], by[end]))\n",
    "Colorbar(fig[2, 1], sc, vertical = false, label = \"S\")\n",
    "fig"
   ]
  },
  {
   "cell_type": "code",
   "execution_count": null,
   "metadata": {},
   "outputs": [],
   "source": [
    "fig = Figure()\n",
    "ax = Axis(\n",
    "    fig[1, 1];\n",
    "    title = \"Residuals as function of value\\nwith the new parameter values\",\n",
    "    xlabel = \"Observation values\",\n",
    "    ylabel = \"Residual values\",\n",
    ")\n",
    "sc = plot!(ax, obsval, dataresiduals, markersize = 7)\n",
    "fig"
   ]
  },
  {
   "cell_type": "markdown",
   "metadata": {},
   "source": [
    "## Only one parameter optimized\n",
    "\n",
    "If $L$ is fixed by other calibration or method,     \n",
    "you can decide to optimize only $\\epsilon^2$:"
   ]
  },
  {
   "cell_type": "code",
   "execution_count": null,
   "metadata": {},
   "outputs": [],
   "source": [
    "lenfixed = 1\n",
    "epsilon2 = 0.1\n",
    "\n",
    "fig = Figure(size = (600, 600))\n",
    "for imeth = 0:3\n",
    "    bestfactore[imeth+1], cvval, cvvalues, x2Ddata, cvinter, xi2D = DIVAnd_cv(\n",
    "        mask,\n",
    "        (pm, pn),\n",
    "        (xi, yi),\n",
    "        (obslon, obslat),\n",
    "        obsval .- mean(obsval),\n",
    "        lenfixed,\n",
    "        epsilon2 * rdiag,\n",
    "        0,\n",
    "        4,\n",
    "        imeth,\n",
    "    )\n",
    "\n",
    "    ax = Axis(\n",
    "        fig[1+imeth÷2, 1+imeth%2];\n",
    "        title = \"Method $imeth\",\n",
    "        xlabel = \"Log10 scale factor e2\",\n",
    "    )\n",
    "    plot!(ax, xi2D, cvinter, markersize = 2, color = :black)\n",
    "    plot!(ax, [log10.(bestfactore[imeth+1])], [cvval], markersize = 10)\n",
    "\n",
    "end\n",
    "fig"
   ]
  },
  {
   "cell_type": "markdown",
   "metadata": {},
   "source": [
    "### Analysis with the optimised values"
   ]
  },
  {
   "cell_type": "code",
   "execution_count": null,
   "metadata": {},
   "outputs": [],
   "source": [
    "newl = lenfixed\n",
    "newe = epsilon2 * bestfactore[3]\n",
    "@show newe\n",
    "fi, s = DIVAndrun(\n",
    "    mask,\n",
    "    (pm, pn),\n",
    "    (xi, yi),\n",
    "    (obslon, obslat),\n",
    "    obsval .- mean(obsval),\n",
    "    newl,\n",
    "    newe * rdiag,\n",
    ");\n",
    "dataresiduals = DIVAnd_residualobs(s, fi)"
   ]
  },
  {
   "cell_type": "code",
   "execution_count": null,
   "metadata": {},
   "outputs": [],
   "source": [
    "fig = Figure(size = (600, 370))\n",
    "ga = GeoAxis(\n",
    "    fig[1, 1];\n",
    "    dest = \"+proj=merc\",\n",
    "    title = \"Analysis and observations with\\n L  = $(lenfixed) and new e2 = $(round(newe, digits=3))\",\n",
    "    xticks = 2.0:1.0:14,\n",
    "    yticks = 42.0:1.0:45.0,\n",
    ")\n",
    "heatmap!(ga, bx, by, mask, colormap = Reverse(:binary))\n",
    "hm = heatmap!(\n",
    "    ga,\n",
    "    lonr,\n",
    "    latr,\n",
    "    fi .+ mean(obsval),\n",
    "    interpolate = false,\n",
    "    colorrange = [37.0, 38.5],\n",
    ")\n",
    "sc = scatter!(obslon, obslat, color = obsval, markersize = 7, colorrange = [37.0, 38.5])\n",
    "xlims!(ga, (bx[1], bx[end]))\n",
    "ylims!(ga, (by[1], by[end]))\n",
    "Colorbar(fig[2, 1], hm, vertical = false, label = \"S\")\n",
    "fig"
   ]
  },
  {
   "cell_type": "code",
   "execution_count": null,
   "metadata": {},
   "outputs": [],
   "source": [
    "rscale = sqrt(var(obsval))\n",
    "fig = Figure(size = (600, 350))\n",
    "ga = GeoAxis(\n",
    "    fig[1, 1];\n",
    "    dest = \"+proj=merc\",\n",
    "    title = \"Residuals\",\n",
    "    xticks = 2.0:1.0:14,\n",
    "    yticks = 42.0:1.0:45.0,\n",
    ")\n",
    "heatmap!(ga, bx, by, mask, colormap = Reverse(:binary))\n",
    "sc = scatter!(\n",
    "    obslon,\n",
    "    obslat,\n",
    "    color = dataresiduals,\n",
    "    markersize = 7,\n",
    "    colorrange = [-rscale, rscale],\n",
    "    colormap = Reverse(:RdBu),\n",
    ")\n",
    "xlims!(ga, (bx[1], bx[end]))\n",
    "ylims!(ga, (by[1], by[end]))\n",
    "Colorbar(fig[2, 1], sc, vertical = false, label = \"S\")\n",
    "fig"
   ]
  },
  {
   "cell_type": "code",
   "execution_count": null,
   "metadata": {},
   "outputs": [],
   "source": [
    "fig = Figure()\n",
    "ax = Axis(\n",
    "    fig[1, 1];\n",
    "    title = \"Residuals as function of value\\nwith the new parameter values\",\n",
    "    xlabel = \"Observation values\",\n",
    "    ylabel = \"Residual values\",\n",
    ")\n",
    "sc = plot!(ax, obsval, dataresiduals, markersize = 7)\n",
    "fig"
   ]
  },
  {
   "cell_type": "markdown",
   "metadata": {},
   "source": [
    "## Adaptive method\n",
    "\n",
    "> G. Desroziers, L. Berre, B. Chapnik and P. Poli (2005),       \n",
    "Diagnosis of observation, background and analysis-error statistics in observation space,    \n",
    "_Q. J. R. Meteorol. Soc._, __131__, pp. 3385–3396      \n",
    "> doi: [10.1256/qj.05.108](https://rmets.onlinelibrary.wiley.com/doi/abs/10.1256/qj.05.108)."
   ]
  },
  {
   "cell_type": "markdown",
   "metadata": {},
   "source": [
    "This adaptive method activated by call with 0,0 points to sample."
   ]
  },
  {
   "cell_type": "code",
   "execution_count": null,
   "metadata": {},
   "outputs": [],
   "source": [
    "myiterations = 7\n",
    "cvbest2 = zeros(myiterations);\n",
    "eps2 = zeros(myiterations)\n",
    "epsilon2 = 1\n",
    "for i = 1:myiterations\n",
    "    cvval, factor = DIVAnd_cv(\n",
    "        mask,\n",
    "        (pm, pn),\n",
    "        (xi, yi),\n",
    "        (obslon, obslat),\n",
    "        obsval .- mean(obsval),\n",
    "        lenfixed,\n",
    "        epsilon2 * rdiag,\n",
    "        0,\n",
    "        0,\n",
    "        3,\n",
    "    )\n",
    "    eps2[i] = epsilon2\n",
    "    cvbest2[i] = cvval\n",
    "    epsilon2 = epsilon2 * factor\n",
    "    @show epsilon2\n",
    "end"
   ]
  },
  {
   "cell_type": "markdown",
   "metadata": {},
   "source": [
    "Other direct application of Desroziers"
   ]
  },
  {
   "cell_type": "code",
   "execution_count": null,
   "metadata": {},
   "outputs": [],
   "source": [
    "myiterations = 7\n",
    "\n",
    "eps2 = zeros(myiterations)\n",
    "epsilon2 = 1\n",
    "for i = 1:myiterations\n",
    "    fit, sit = DIVAndrun(\n",
    "        mask,\n",
    "        (pm, pn),\n",
    "        (xi, yi),\n",
    "        (obslon, obslat),\n",
    "        obsval .- mean(obsval),\n",
    "        lenfixed,\n",
    "        epsilon2 * rdiag,\n",
    "    )\n",
    "    eps2[i] = epsilon2\n",
    "    factor = DIVAnd_adaptedeps2(sit, fit)\n",
    "    epsilon2 = epsilon2 * factor\n",
    "    @show epsilon2\n",
    "end"
   ]
  },
  {
   "cell_type": "markdown",
   "metadata": {},
   "source": [
    "### Analysis with the optimized value of $\\epsilon^2$"
   ]
  },
  {
   "cell_type": "code",
   "execution_count": null,
   "metadata": {},
   "outputs": [],
   "source": [
    "newl = lenfixed\n",
    "newe = epsilon2\n",
    "@show newe\n",
    "fi, s = DIVAndrun(\n",
    "    mask,\n",
    "    (pm, pn),\n",
    "    (xi, yi),\n",
    "    (obslon, obslat),\n",
    "    obsval .- mean(obsval),\n",
    "    newl,\n",
    "    newe * rdiag,\n",
    ");\n",
    "dataresiduals = DIVAnd_residualobs(s, fi);"
   ]
  },
  {
   "cell_type": "code",
   "execution_count": null,
   "metadata": {},
   "outputs": [],
   "source": [
    "fig = Figure(size = (600, 370))\n",
    "ga = GeoAxis(\n",
    "    fig[1, 1];\n",
    "    dest = \"+proj=merc\",\n",
    "    title = \"Analysis and observations with\\n L  = $(lenfixed) and new e2 = $(round(newe, digits=3))\",\n",
    "    xticks = 2.0:1.0:14,\n",
    "    yticks = 42.0:1.0:45.0,\n",
    ")\n",
    "heatmap!(ga, bx, by, mask, colormap = Reverse(:binary))\n",
    "hm = heatmap!(\n",
    "    ga,\n",
    "    lonr,\n",
    "    latr,\n",
    "    fi .+ mean(obsval),\n",
    "    interpolate = false,\n",
    "    colorrange = [37.0, 38.5],\n",
    ")\n",
    "sc = scatter!(obslon, obslat, color = obsval, markersize = 7, colorrange = [37.0, 38.5])\n",
    "xlims!(ga, (bx[1], bx[end]))\n",
    "ylims!(ga, (by[1], by[end]))\n",
    "Colorbar(fig[2, 1], hm, vertical = false, label = \"S\")\n",
    "fig"
   ]
  },
  {
   "cell_type": "code",
   "execution_count": null,
   "metadata": {},
   "outputs": [],
   "source": [
    "rscale = sqrt(var(obsval))\n",
    "fig = Figure(size = (600, 350))\n",
    "ga = GeoAxis(\n",
    "    fig[1, 1];\n",
    "    dest = \"+proj=merc\",\n",
    "    title = \"Residuals\",\n",
    "    xticks = 2.0:1.0:14,\n",
    "    yticks = 42.0:1.0:45.0,\n",
    ")\n",
    "heatmap!(ga, bx, by, mask, colormap = Reverse(:binary))\n",
    "sc = scatter!(\n",
    "    obslon,\n",
    "    obslat,\n",
    "    color = dataresiduals,\n",
    "    markersize = 7,\n",
    "    colorrange = [-rscale, rscale],\n",
    "    colormap = Reverse(:RdBu),\n",
    ")\n",
    "xlims!(ga, (bx[1], bx[end]))\n",
    "ylims!(ga, (by[1], by[end]))\n",
    "Colorbar(fig[2, 1], sc, vertical = false, label = \"S\")\n",
    "fig"
   ]
  },
  {
   "cell_type": "code",
   "execution_count": null,
   "metadata": {},
   "outputs": [],
   "source": [
    "fig = Figure()\n",
    "ax = Axis(\n",
    "    fig[1, 1];\n",
    "    title = \"Residuals as function of value\\nwith the new parameter values\",\n",
    "    xlabel = \"Observation values\",\n",
    "    ylabel = \"Residual values\",\n",
    ")\n",
    "sc = plot!(ax, obsval, dataresiduals, markersize = 7)\n",
    "fig"
   ]
  },
  {
   "cell_type": "code",
   "execution_count": null,
   "metadata": {
    "scrolled": true
   },
   "outputs": [],
   "source": [
    "@info(var(dataresiduals), var(obsval), var(fi[(fi.!==NaN)]))"
   ]
  },
  {
   "cell_type": "markdown",
   "metadata": {},
   "source": [
    "## More information"
   ]
  },
  {
   "cell_type": "code",
   "execution_count": null,
   "metadata": {},
   "outputs": [],
   "source": [
    "?DIVAnd_cv"
   ]
  },
  {
   "cell_type": "markdown",
   "metadata": {},
   "source": [
    "# Exercise\n",
    "\n",
    "1. Redo for different data by changing the datadepth parameter introduced in the data selection part.      \n",
    "(Compare surface behaviour with deeper regions by using another `datadepth` value).\n",
    "2. Take out the data weight modification.\n",
    "3. Possibly force the cross-validation method (use `?DIVAnd_cv`).\n",
    "4. Once opimized, try to redo optimization with starting point being the first estimate."
   ]
  },
  {
   "cell_type": "markdown",
   "metadata": {},
   "source": [
    "<div class=\"alert alert-block alert-warning\">\n",
    "⚠️ Remember: optimization relies on a series of hypotheses.<br>       \n",
    "In particular, data independance and isotropy is very often NOT ensured.<br>    \n",
    "When in doubt, increase $\\epsilon^2$ and/or check for \"duplicates\".\n",
    "</div>"
   ]
  },
  {
   "cell_type": "code",
   "execution_count": null,
   "metadata": {},
   "outputs": [],
   "source": []
  }
 ],
 "metadata": {
  "@webio": {
   "lastCommId": null,
   "lastKernelId": null
  },
  "anaconda-cloud": {},
  "kernelspec": {
   "display_name": "Julia 1.11.2",
   "language": "julia",
   "name": "julia-1.11"
  },
  "language_info": {
   "file_extension": ".jl",
   "mimetype": "application/julia",
   "name": "julia",
   "version": "1.11.2"
  },
  "toc": {
   "base_numbering": 1,
   "nav_menu": {},
   "number_sections": true,
   "sideBar": true,
   "skip_h1_title": false,
   "title_cell": "Table of Contents",
   "title_sidebar": "Contents",
   "toc_cell": false,
   "toc_position": {},
   "toc_section_display": true,
   "toc_window_display": false
  }
 },
 "nbformat": 4,
 "nbformat_minor": 4
}
