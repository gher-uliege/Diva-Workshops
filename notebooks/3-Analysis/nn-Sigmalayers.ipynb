{
 "cells": [
  {
   "cell_type": "markdown",
   "metadata": {
    "slideshow": {
     "slide_type": "slide"
    }
   },
   "source": [
    "# DIVAnd in sigma coordinates\n",
    "## Import packages"
   ]
  },
  {
   "cell_type": "code",
   "execution_count": null,
   "metadata": {
    "slideshow": {
     "slide_type": "subslide"
    }
   },
   "outputs": [],
   "source": [
    "using NCDatasets\n",
    "using Makie, CairoMakie, GeoMakie\n",
    "using DataStructures\n",
    "using DIVAnd\n",
    "using Dates\n",
    "using Statistics\n",
    "using Random\n",
    "using Interpolations\n",
    "using Roots\n",
    "include(\"../config.jl\")"
   ]
  },
  {
   "cell_type": "markdown",
   "metadata": {
    "slideshow": {
     "slide_type": "subslide"
    }
   },
   "source": [
    "## Configuration\n",
    "* Define the horizontal, vertical (depth levels) and temporal resolutions.\n",
    "* Select the variable of interest"
   ]
  },
  {
   "cell_type": "code",
   "execution_count": 2,
   "metadata": {
    "slideshow": {
     "slide_type": "subslide"
    }
   },
   "outputs": [],
   "source": [
    "dx, dy = 0.125, 0.125\n",
    "lonr = 11.5:dx:20\n",
    "latr = 39:dy:46\n",
    "\n",
    "depthr = [0.,5., 10., 15., 20., 25., 30., 40., 50., 66, \n",
    "    75, 85, 100, 112, 125, 135, 150, 175, 200, 225, 250, \n",
    "    275, 300, 350, 400, 450, 500, 550, 600, 650, 700, 750, \n",
    "    800, 850, 900, 950, 1000, 1050, 1100, 1150, 1200, 1250, \n",
    "    1300, 1350, 1400, 1450, 1500, 1600, 1750, 1850, 2000];\n",
    "depthr = depthr[1:20];"
   ]
  },
  {
   "cell_type": "markdown",
   "metadata": {
    "slideshow": {
     "slide_type": "slide"
    }
   },
   "source": [
    "## Read your ODV file\n",
    "Adapt the `datadir` and `datafile` values.     \n",
    "The example is based on a sub-setting of the [Mediterranean Sea](https://www.seadatanet.org/Products#/metadata/cd552057-b604-4004-b838-a4f73cc98fcf) aggregated dataset.      \n",
    "The dataset has been extracted around the Adriatic Sea and exported to a netCDF using [Ocean Data View](https://odv.awi.de/).\n",
    "<img src=\"./Images/MedSeaAggreg.jpg\" width=\"450px\">"
   ]
  },
  {
   "cell_type": "markdown",
   "metadata": {},
   "source": [
    "Download the data files (test and full) if needed."
   ]
  },
  {
   "cell_type": "code",
   "execution_count": null,
   "metadata": {},
   "outputs": [],
   "source": [
    "datafile = adriaticfile\n",
    "download_check(datafile, adriaticfileURL)"
   ]
  },
  {
   "cell_type": "markdown",
   "metadata": {},
   "source": [
    "Read the full file:"
   ]
  },
  {
   "cell_type": "code",
   "execution_count": null,
   "metadata": {
    "slideshow": {
     "slide_type": "fragment"
    }
   },
   "outputs": [],
   "source": [
    "@time obsval, obslon, obslat, obsdepth, obstime, obsid =\n",
    "    NCODV.load(Float64, datafile, \"Water body salinity\");"
   ]
  },
  {
   "cell_type": "code",
   "execution_count": null,
   "metadata": {
    "slideshow": {
     "slide_type": "subslide"
    }
   },
   "outputs": [],
   "source": [
    "f = Figure()\n",
    "ax = GeoAxis(f[1,1], dest = \"+proj=merc\", title=\"Observations\")\n",
    "scatter!(ax, obslon, obslat; markersize=2, color = :black)\n",
    "f"
   ]
  },
  {
   "cell_type": "markdown",
   "metadata": {
    "slideshow": {
     "slide_type": "subslide"
    }
   },
   "source": [
    "Check the extremal values of the observations"
   ]
  },
  {
   "cell_type": "code",
   "execution_count": null,
   "metadata": {},
   "outputs": [],
   "source": [
    "checkobs((obslon,obslat,obsdepth,obstime),obsval,obsid)"
   ]
  },
  {
   "cell_type": "markdown",
   "metadata": {
    "slideshow": {
     "slide_type": "slide"
    }
   },
   "source": [
    "## 2. Extract the bathymetry\n",
    "It is used to delimit the domain where the interpolation is performed.\n",
    "\n",
    "### 2.1 Choice of bathymetry\n",
    "Modify `bathname` according to the resolution required."
   ]
  },
  {
   "cell_type": "code",
   "execution_count": null,
   "metadata": {
    "slideshow": {
     "slide_type": "fragment"
    }
   },
   "outputs": [],
   "source": [
    "bathname = gebco08file\n",
    "download_check(bathname, gebco08fileURL)"
   ]
  },
  {
   "cell_type": "code",
   "execution_count": null,
   "metadata": {
    "slideshow": {
     "slide_type": "fragment"
    }
   },
   "outputs": [],
   "source": [
    "@time bx,by,b = load_bath(bathname,true,lonr,latr);"
   ]
  },
  {
   "cell_type": "code",
   "execution_count": null,
   "metadata": {
    "slideshow": {
     "slide_type": "subslide"
    }
   },
   "outputs": [],
   "source": [
    "plot_bathy(bx, by, b, xticks=10.:2.:20., yticks=39.:2:48.)"
   ]
  },
  {
   "cell_type": "markdown",
   "metadata": {
    "slideshow": {
     "slide_type": "subslide"
    }
   },
   "source": [
    "### Create mask\n",
    "* False for sea        \n",
    "* True for land"
   ]
  },
  {
   "cell_type": "code",
   "execution_count": null,
   "metadata": {
    "slideshow": {
     "slide_type": "fragment"
    }
   },
   "outputs": [],
   "source": [
    "mask = falses(size(b,1),size(b,2),length(depthr))\n",
    "for k = 1:length(depthr)\n",
    "    for j = 1:size(b,2)\n",
    "        for i = 1:size(b,1)\n",
    "            mask[i,j,k] = b[i,j] >= depthr[k]\n",
    "        end\n",
    "    end\n",
    "end\n",
    "@show size(mask)"
   ]
  },
  {
   "cell_type": "code",
   "execution_count": null,
   "metadata": {
    "slideshow": {
     "slide_type": "subslide"
    }
   },
   "outputs": [],
   "source": [
    "plot_mask(bx, by, mask[:,:,1], xticks=10.:2.:20., yticks=39.:2:48.)"
   ]
  },
  {
   "cell_type": "markdown",
   "metadata": {
    "slideshow": {
     "slide_type": "subslide"
    }
   },
   "source": [
    "### Edit the mask\n",
    "As an example we will remove the Tyrrhenian Sea from the domain."
   ]
  },
  {
   "cell_type": "code",
   "execution_count": 12,
   "metadata": {
    "slideshow": {
     "slide_type": "fragment"
    }
   },
   "outputs": [],
   "source": [
    "grid_bx = [i for i in bx, j in by];\n",
    "grid_by = [j for i in bx, j in by];"
   ]
  },
  {
   "cell_type": "code",
   "execution_count": null,
   "metadata": {
    "slideshow": {
     "slide_type": "fragment"
    }
   },
   "outputs": [],
   "source": [
    "mask_edit = copy(mask);\n",
    "sel_mask1 = (grid_by .<= 42.6) .& (grid_bx .<= 14.);\n",
    "sel_mask2 = (grid_by .<= 41.2) .& (grid_bx .<= 16.2);\n",
    "mask_edit = mask_edit .* .!sel_mask1 .* .!sel_mask2;\n",
    "@show size(mask_edit)"
   ]
  },
  {
   "cell_type": "code",
   "execution_count": 14,
   "metadata": {},
   "outputs": [],
   "source": [
    "#sel = (obslon .<  maximum(bx)) .& (obslon .>  minimum(bx)) .& (obslat .<  maximum(by)) .& (obslat .>  minimum(bx))\n",
    "#obslon=obslon[sel]\n",
    "#obslat=obslat[sel]\n",
    "#obsdepth=obsdepth[sel]\n",
    "#obsval=obsval[sel]"
   ]
  },
  {
   "cell_type": "markdown",
   "metadata": {
    "slideshow": {
     "slide_type": "subslide"
    }
   },
   "source": [
    "The edited mask now looks like this:"
   ]
  },
  {
   "cell_type": "code",
   "execution_count": null,
   "metadata": {
    "slideshow": {
     "slide_type": "fragment"
    }
   },
   "outputs": [],
   "source": [
    "plot_mask(bx, by, mask_edit[:,:,1], xticks=10.:2.:20., yticks=39.:2:48.)"
   ]
  },
  {
   "cell_type": "markdown",
   "metadata": {},
   "source": [
    "## Define a vertical correlation length function in real space"
   ]
  },
  {
   "cell_type": "code",
   "execution_count": null,
   "metadata": {},
   "outputs": [],
   "source": [
    "function Lvert(x,y,z)\n",
    "    return 5.0 + z/5.0\n",
    "end\n",
    "\n",
    "LHOR=1.5\n",
    "eps2=0.1\n",
    "iscyclic=falses(3)"
   ]
  },
  {
   "cell_type": "markdown",
   "metadata": {
    "slideshow": {
     "slide_type": "slide"
    }
   },
   "source": [
    "## Analysis in Cartesian Coordinates (degrees for simplicity)"
   ]
  },
  {
   "cell_type": "code",
   "execution_count": 17,
   "metadata": {},
   "outputs": [],
   "source": [
    "xc,yc,zc=ndgrid(lonr,latr,depthr)\n",
    "pmc = ones(size(xc)) / (xc[2,1,1]-xc[1,1,1]);\n",
    "pnc = ones(size(xc)) / (yc[1,2,1]-yc[1,1,1]);\n",
    "poc = ones(size(xc)) / (zc[1,1,2]-zc[1,1,1]);"
   ]
  },
  {
   "cell_type": "code",
   "execution_count": null,
   "metadata": {
    "slideshow": {
     "slide_type": "fragment"
    }
   },
   "outputs": [],
   "source": [
    "aspectratio = 1/cos(mean(latr) * pi/180)\n",
    "sz = (length(lonr),length(latr),length(depthr));\n",
    "lenx = fill(LHOR,sz)  \n",
    "leny = lenx./aspectratio\n",
    "lenz = Lvert.(xc,yc,zc);\n",
    "@show mean(lenx),mean(leny),mean(lenz)\n",
    "epsilon2 = eps2;\n",
    "#epsilon2 = epsilon2 * rdiag;"
   ]
  },
  {
   "cell_type": "code",
   "execution_count": 19,
   "metadata": {},
   "outputs": [],
   "source": [
    "obsmean=mean(obsval)\n",
    "\n",
    "fi,s=DIVAndrun(mask_edit,(pmc,pnc,poc),(xc,yc,zc),(obslon,obslat,obsdepth),obsval.-obsmean,(lenx,leny,lenz),epsilon2);"
   ]
  },
  {
   "cell_type": "code",
   "execution_count": null,
   "metadata": {},
   "outputs": [],
   "source": [
    "jcut=30\n",
    "\n",
    "f = Figure()\n",
    "ax = Axis(f[1,1], title=\"Vertical section\", ylabel = \"Depth (m)\", xlabel = \"longitude (°N)\")\n",
    "hm = heatmap!(ax, xc[:,jcut,1],-zc[1,jcut,:],fi[:,jcut,:].+obsmean)\n",
    "lines!(ax, bx,-b[:,jcut], color=:black)\n",
    "Colorbar(f[1, 2], hm)\n",
    "ylims!(-300, 0.0)\n",
    "f"
   ]
  },
  {
   "cell_type": "code",
   "execution_count": null,
   "metadata": {},
   "outputs": [],
   "source": [
    "f = Figure()\n",
    "ax = GeoAxis(f[1,1], dest = \"+proj=merc\", title=\"Interpolated anomalies at surface\")\n",
    "heatmap!(ax, lonr, latr, mask_edit[:,:,1], colormap=Reverse(:binary))\n",
    "hm = heatmap!(ax, lonr, latr,fi[:,:,1])\n",
    "Colorbar(f[1, 2], hm)\n",
    "f"
   ]
  },
  {
   "cell_type": "code",
   "execution_count": null,
   "metadata": {},
   "outputs": [],
   "source": [
    "kcut=15\n",
    "f = Figure()\n",
    "ax = GeoAxis(f[1,1], dest = \"+proj=merc\", title=\"Interpolated anomalies at $(zc[kcut]) m\")\n",
    "heatmap!(ax, lonr, latr, mask_edit[:,:,kcut], colormap=Reverse(:binary))\n",
    "hm = heatmap!(ax, lonr, latr,fi[:,:,kcut])\n",
    "Colorbar(f[1, 2], hm)\n",
    "f"
   ]
  },
  {
   "cell_type": "markdown",
   "metadata": {},
   "source": [
    "# 4.  Coordinate change"
   ]
  },
  {
   "cell_type": "code",
   "execution_count": null,
   "metadata": {},
   "outputs": [],
   "source": [
    "bfun=linear_interpolation((bx,by),b;extrapolation_bc=0.0)\n",
    "\n",
    "function ztosigma(x,y,z)\n",
    "    return z/max(2.0,bfun(x,y))\n",
    "end\n",
    "function sigmatoz(x,y,sigma)\n",
    "    return sigma*max(2.0,bfun(x,y))\n",
    "end\n",
    "# Needed to get fracional indexes and horizontal plots"
   ]
  },
  {
   "cell_type": "markdown",
   "metadata": {},
   "source": [
    "<div class=\"alert alert-block alert-info\">\n",
    "ℹ️ For more general cases it is easy to make the z(sigma) function more general, but then the inverse will need some\n",
    "search of zeros. \n",
    "</div>"
   ]
  },
  {
   "cell_type": "markdown",
   "metadata": {},
   "source": [
    "### Vertical position in sigma space"
   ]
  },
  {
   "cell_type": "code",
   "execution_count": 24,
   "metadata": {},
   "outputs": [],
   "source": [
    "obssigma=ztosigma.(obslon,obslat,obsdepth);"
   ]
  },
  {
   "cell_type": "code",
   "execution_count": 25,
   "metadata": {},
   "outputs": [],
   "source": [
    "xs,ys,sigma=ndgrid(lonr,latr,range(0;stop=1,length=25))\n",
    "# vertical position in real space\n",
    "zs=sigmatoz.(xs,ys,sigma)\n",
    "pms = ones(size(xs)) / (xs[2,1,1]-xs[1,1,1]);\n",
    "pns = ones(size(xs)) / (ys[1,2,1]-ys[1,1,1]);\n",
    "pos = ones(size(xs)) / (sigma[1,1,2]-sigma[1,1,1]);\n",
    "sz=size(xs)\n",
    "masks=trues(size(xs))\n",
    "masks[:,:,:].=mask_edit[:,:,1]\n",
    "\n",
    "lenx = fill(LHOR,sz)  \n",
    "leny = lenx./aspectratio\n",
    "lenz = Lvert.(xs,ys,zs);    \n",
    "\n",
    "# Since you work in sigma space:\n",
    "lenz=lenz./max.(2.0,bfun.(xs,ys))\n",
    "    \n",
    "epsilon2 = eps2;\n",
    "#epsilon2 = epsilon2 * rdiag;\n",
    "obsmean=mean(obsval)\n",
    "\n",
    "fi,s=DIVAndrun(masks,(pms,pns,pos),(xs,ys,sigma),(obslon,obslat,obssigma),obsval.-obsmean,(lenx,leny,lenz),epsilon2);"
   ]
  },
  {
   "cell_type": "code",
   "execution_count": null,
   "metadata": {},
   "outputs": [],
   "source": [
    "jcut = 30\n",
    "f = Figure()\n",
    "ax = Axis(f[1,1], title=\"Vertical section\", ylabel = \"Depth (m)\", xlabel = \"longitude (°N)\")\n",
    "hm = heatmap!(ax, xs[:,jcut,1],-sigma[1,jcut,:],fi[:,jcut,:].+obsmean)\n",
    "Colorbar(f[1, 2], hm)\n",
    "f"
   ]
  },
  {
   "cell_type": "code",
   "execution_count": null,
   "metadata": {},
   "outputs": [],
   "source": [
    "jcut = 30\n",
    "f = Figure()\n",
    "ax = Axis(f[1,1], title=\"Vertical section\", ylabel = \"Depth (m)\", xlabel = \"longitude (°N)\")\n",
    "hm = heatmap!(ax, xs[:,jcut,1],-zs[1,jcut,:],fi[:,jcut,:].+obsmean)\n",
    "Colorbar(f[1, 2], hm)\n",
    "f"
   ]
  },
  {
   "cell_type": "markdown",
   "metadata": {},
   "source": [
    "## Now exploiting directly non-uniform grids by creating the pmn etc\n",
    "We already have the z positions of the sigma layers we want to work with from above.       \n",
    "So now just recalculate the metrics:"
   ]
  },
  {
   "cell_type": "code",
   "execution_count": 28,
   "metadata": {},
   "outputs": [],
   "source": [
    "pozc=deepcopy(pos)\n",
    "for i = 1:sz[3]\n",
    "        i0 = max(i - 1, 1)\n",
    "        i1 = min(i + 1, sz[3])\n",
    "        pozc[:,:,i].=(i1-i0)./(zs[:,:,i1].-zs[:,:,i0])\n",
    "end\n",
    "# Or simpler divide sigma pos  b: No the former is more general in case you have different stretching depending on depth\n",
    "# pocz=pos./max.(2.0,bfun.(xs,ys));"
   ]
  },
  {
   "cell_type": "markdown",
   "metadata": {},
   "source": [
    "### Get fractional indexes by working in sigma space:"
   ]
  },
  {
   "cell_type": "code",
   "execution_count": null,
   "metadata": {},
   "outputs": [],
   "source": [
    "Igrid = localize_separable_grid((obslon,obslat,obssigma), masks, (xs,ys,sigma), iscyclic)"
   ]
  },
  {
   "cell_type": "code",
   "execution_count": 30,
   "metadata": {},
   "outputs": [],
   "source": [
    "masks[:,:,:].=mask_edit[:,:,1]\n",
    "\n",
    "\n",
    "lenx = fill(LHOR,sz)  \n",
    "leny = lenx./aspectratio\n",
    "lenz = Lvert.(xs,ys,zs);\n",
    "\n",
    "epsilon2 = eps2;\n",
    "#epsilon2 = epsilon2 * rdiag;\n",
    "obsmean=mean(obsval)\n",
    "\n",
    "fi,s=DIVAndrun(masks,(pms,pns,pozc),(xs,ys,zs),(obslon,obslat,obsdepth),obsval.-obsmean,(lenx,leny,lenz),epsilon2;fracindex =Igrid);"
   ]
  },
  {
   "cell_type": "code",
   "execution_count": null,
   "metadata": {},
   "outputs": [],
   "source": [
    "jcut = 30\n",
    "f = Figure()\n",
    "ax = Axis(f[1,1], title=\"Vertical section\", ylabel = \"Depth (m)\", xlabel = \"longitude (°N)\")\n",
    "hm = heatmap!(ax, xs[:,jcut,1],-zs[1,jcut,:],fi[:,jcut,:].+obsmean)\n",
    "Colorbar(f[1, 2], hm)\n",
    "f"
   ]
  },
  {
   "cell_type": "markdown",
   "metadata": {},
   "source": [
    "## How to make a horizontal plot\n",
    "\n"
   ]
  },
  {
   "cell_type": "code",
   "execution_count": null,
   "metadata": {},
   "outputs": [],
   "source": [
    "kcut = 15\n",
    "zcut=zc[1,1,kcut]\n",
    "# Create fake data\n",
    "sigmaonzlevel=ztosigma.(xs[:,:,1],ys[:,:,1],zcut.+ 0.0 .*ys[:,:,1])\n",
    "\n",
    "Igridcut=localize_separable_grid((xs[:,:,1],ys[:,:,1],sigmaonzlevel), masks, (xs,ys,sigma), )\n",
    "Htoz, out, outbbox = sparse_interp(masks, Igridcut, iscyclic)"
   ]
  },
  {
   "cell_type": "code",
   "execution_count": 33,
   "metadata": {},
   "outputs": [],
   "source": [
    "Htoz=Htoz*sparse_pack(masks)';"
   ]
  },
  {
   "cell_type": "code",
   "execution_count": 34,
   "metadata": {},
   "outputs": [],
   "source": [
    "zlevelsol=Htoz*statevector_pack(s.sv, (fi,));"
   ]
  },
  {
   "cell_type": "code",
   "execution_count": 35,
   "metadata": {},
   "outputs": [],
   "source": [
    "soltoplot=reshape(zlevelsol,size(xs)[1:2])\n",
    "# Need to apply mask because that is not included in the interpolation\n",
    "soltoplot[zcut.>b].=NaN\n",
    "soltoplot[mask_edit[:,:,1].==0].=NaN;"
   ]
  },
  {
   "cell_type": "code",
   "execution_count": null,
   "metadata": {},
   "outputs": [],
   "source": [
    "f = Figure()\n",
    "ax = GeoAxis(f[1,1], dest = \"+proj=merc\", title=\"Interpolated field at $(depthr[kcut]) m\")\n",
    "heatmap!(ax, lonr, latr, mask_edit[:,:,1], colormap=Reverse(:binary))\n",
    "hm = heatmap!(ax, lonr, latr, soltoplot .+ obsmean)\n",
    "Colorbar(f[1, 2], hm)\n",
    "f"
   ]
  },
  {
   "cell_type": "code",
   "execution_count": null,
   "metadata": {},
   "outputs": [],
   "source": [
    "f = Figure()\n",
    "ax = GeoAxis(f[1,1], dest = \"+proj=merc\", title=\"Interpolated field at surface\")\n",
    "heatmap!(ax, lonr, latr, mask_edit[:,:,1], colormap=Reverse(:binary))\n",
    "hm = heatmap!(ax, lonr, latr, fi[:,:,1] .+ obsmean)\n",
    "Colorbar(f[1, 2], hm)\n",
    "f"
   ]
  }
 ],
 "metadata": {
  "@webio": {
   "lastCommId": null,
   "lastKernelId": null
  },
  "kernelspec": {
   "display_name": "Julia 1.11.2",
   "language": "julia",
   "name": "julia-1.11"
  },
  "language_info": {
   "file_extension": ".jl",
   "mimetype": "application/julia",
   "name": "julia",
   "version": "1.11.2"
  },
  "toc": {
   "base_numbering": 1,
   "nav_menu": {},
   "number_sections": true,
   "sideBar": true,
   "skip_h1_title": false,
   "title_cell": "Table of Contents",
   "title_sidebar": "Contents",
   "toc_cell": false,
   "toc_position": {},
   "toc_section_display": true,
   "toc_window_display": false
  }
 },
 "nbformat": 4,
 "nbformat_minor": 4
}
