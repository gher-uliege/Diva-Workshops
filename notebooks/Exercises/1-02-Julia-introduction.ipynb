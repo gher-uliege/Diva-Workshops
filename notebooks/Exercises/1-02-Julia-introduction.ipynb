{
 "cells": [
  {
   "cell_type": "markdown",
   "metadata": {},
   "source": [
    "## Data types"
   ]
  },
  {
   "cell_type": "code",
   "execution_count": null,
   "metadata": {},
   "outputs": [],
   "source": [
    "city = \"Ostend\""
   ]
  },
  {
   "cell_type": "code",
   "execution_count": null,
   "metadata": {},
   "outputs": [],
   "source": [
    "typeof(city)"
   ]
  },
  {
   "cell_type": "code",
   "execution_count": null,
   "metadata": {},
   "outputs": [],
   "source": [
    "countries = [\"Germany\", \"Netherlands\", \"Italy\", \"Belgium\"]"
   ]
  },
  {
   "cell_type": "code",
   "execution_count": null,
   "metadata": {},
   "outputs": [],
   "source": [
    "typeof(countries)"
   ]
  },
  {
   "cell_type": "markdown",
   "metadata": {},
   "source": [
    "## Data structures\n",
    "### Dictionaries\n",
    "\n",
    "A dictionary [`Dict`](https://docs.julialang.org/en/v1/base/collections/index.html#Dictionaries-1) is a data structure that maps keys to values.      \n",
    "\n",
    "🖋️ Create a dictionary `coastline` whose keys are the European countries (a few of them) and the values are the length of the coastline."
   ]
  },
  {
   "cell_type": "code",
   "execution_count": null,
   "metadata": {},
   "outputs": [],
   "source": [
    "coastline = Dict(\"Norway\" => ..., ...)"
   ]
  },
  {
   "cell_type": "markdown",
   "metadata": {},
   "source": [
    "## Functions\n",
    "Create a function that compute the density from a pair of temperature (T) and salinity (S).    \n",
    "We use the linear version of the equation of state ρ = ρ0 [1 − α(T − T0 ) + β(S − S0)]\n",
    "with  \n",
    "* ρ0 = 1028 kg/m³\n",
    "* T0 = 10°C = 283 K, \n",
    "* S0 = 35, \n",
    "* α = 1.7 × 10−4 K⁻¹, and\n",
    "* β = 7.6 × 10−4."
   ]
  },
  {
   "cell_type": "code",
   "execution_count": null,
   "metadata": {},
   "outputs": [],
   "source": [
    "function compute_density(T, S)\n",
    "    # Set the constant values\n",
    "    ρ0 = 1028.\n",
    "    T0 = 10.\n",
    "    ...\n",
    "    \n",
    "    # Apply the formula\n",
    "    \n",
    "    return ρ\n",
    "end"
   ]
  },
  {
   "cell_type": "markdown",
   "metadata": {},
   "source": [
    "Now test on a set of values"
   ]
  },
  {
   "cell_type": "code",
   "execution_count": null,
   "metadata": {},
   "outputs": [],
   "source": [
    "compute_density()"
   ]
  },
  {
   "cell_type": "markdown",
   "metadata": {},
   "source": [
    "# Dates\n",
    "The [`Dates`](https://docs.julialang.org/en/v1/stdlib/Dates/index.html) module provides several functions to deal with date and time.       \n",
    "\n",
    "🖋️ Compute the number of days since the Titanic accident...      \n",
    "(hint: should be close to 39000 days)"
   ]
  },
  {
   "cell_type": "code",
   "execution_count": null,
   "metadata": {},
   "outputs": [],
   "source": [
    "using Dates"
   ]
  },
  {
   "cell_type": "code",
   "execution_count": null,
   "metadata": {},
   "outputs": [],
   "source": [
    "refdate = Dates.DateTime(Dates.today())\n",
    "titanic = Dates.DateTime(..., ..., ...)"
   ]
  },
  {
   "cell_type": "markdown",
   "metadata": {},
   "source": [
    "🖋️ When will be the day corresponding to 50000 days after the accident?     \n",
    "(hint: should be around March 2049)"
   ]
  },
  {
   "cell_type": "code",
   "execution_count": null,
   "metadata": {},
   "outputs": [],
   "source": []
  }
 ],
 "metadata": {
  "@webio": {
   "lastCommId": null,
   "lastKernelId": null
  },
  "kernelspec": {
   "display_name": "Julia 1.3.1",
   "language": "julia",
   "name": "julia-1.3"
  },
  "language_info": {
   "file_extension": ".jl",
   "mimetype": "application/julia",
   "name": "julia",
   "version": "1.3.1"
  }
 },
 "nbformat": 4,
 "nbformat_minor": 1
}
