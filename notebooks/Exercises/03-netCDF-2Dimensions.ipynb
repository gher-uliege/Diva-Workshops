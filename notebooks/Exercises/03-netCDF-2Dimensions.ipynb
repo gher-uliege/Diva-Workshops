{
 "cells": [
  {
   "cell_type": "markdown",
   "metadata": {},
   "source": [
    "Solution of the exercice where we have to write a 2-dimensional netCDF file.      \n",
    "The main module we need is [NCDatasets](https://github.com/Alexander-Barth/NCDatasets.jl)."
   ]
  },
  {
   "cell_type": "code",
   "execution_count": 1,
   "metadata": {},
   "outputs": [
    {
     "name": "stderr",
     "output_type": "stream",
     "text": [
      "\u001b[36m\u001b[1m[ \u001b[22m\u001b[39m\u001b[36m\u001b[1mInfo: \u001b[22m\u001b[39mPrecompiling NCDatasets [85f8d34a-cbdd-5861-8df4-14fed0d494ab]\n"
     ]
    }
   ],
   "source": [
    "using NCDatasets"
   ]
  },
  {
   "cell_type": "markdown",
   "metadata": {},
   "source": [
    "# Data\n",
    "We create fake data: temperature as a random field, longitude and latitude as regularly spaced vectors."
   ]
  },
  {
   "cell_type": "code",
   "execution_count": 2,
   "metadata": {},
   "outputs": [],
   "source": [
    "dlon = 0.25;    # longitude resolution\n",
    "dlat = 0.25;   # latitude resolution\n",
    "lonmin = 27.;\n",
    "lonmax = 42.;\n",
    "latmin = 40.;\n",
    "latmax = 48.;"
   ]
  },
  {
   "cell_type": "code",
   "execution_count": 3,
   "metadata": {},
   "outputs": [],
   "source": [
    "lonvalues = collect(lonmin:dlon:lonmax);\n",
    "latvalues = collect(latmin:dlat:latmax);\n",
    "temperature = rand(length(latvalues), length(lonvalues));"
   ]
  },
  {
   "cell_type": "code",
   "execution_count": 4,
   "metadata": {},
   "outputs": [
    {
     "data": {
      "text/plain": [
       "33×61 Matrix{Float64}:\n",
       " 0.805988   0.751098   0.956116   …  0.61748    0.680924   0.864846\n",
       " 0.366133   0.561275   0.12723       0.686521   0.187595   0.154345\n",
       " 0.576485   0.257354   0.885902      0.996255   0.445863   0.910978\n",
       " 0.609268   0.135288   0.722852      0.733605   0.946361   0.941257\n",
       " 0.874705   0.640873   0.716803      0.0397695  0.0714177  0.251693\n",
       " 0.953444   0.351748   0.977496   …  0.021319   0.824355   0.539458\n",
       " 0.366781   0.824444   0.038638      0.297206   0.298911   0.347753\n",
       " 0.832877   0.901273   0.698807      0.220772   0.109607   0.575764\n",
       " 0.548865   0.531523   0.625846      0.436512   0.336704   0.0968653\n",
       " 0.241379   0.702701   0.389238      0.909042   0.64667    0.866403\n",
       " 0.306453   0.25068    0.31949    …  0.196915   0.710931   0.0542914\n",
       " 0.108824   0.0645186  0.678313      0.337296   0.611276   0.22147\n",
       " 0.833555   0.577913   0.900771      0.905577   0.180488   0.733667\n",
       " ⋮                                ⋱                        ⋮\n",
       " 0.348891   0.312654   0.791868      0.74288    0.0968597  0.556361\n",
       " 0.875145   0.517295   0.187734      0.609459   0.121769   0.338857\n",
       " 0.604076   0.395265   0.443533      0.548836   0.945508   0.0135515\n",
       " 0.721432   0.429305   0.983314      0.6527     0.841703   0.669742\n",
       " 0.464692   0.234968   0.950904   …  0.249176   0.242216   0.227454\n",
       " 0.957489   0.559993   0.598857      0.332541   0.882538   0.471287\n",
       " 0.0782387  0.36443    0.852056      0.312382   0.0375232  0.659225\n",
       " 0.824088   0.610081   0.356621      0.966038   0.431254   0.455366\n",
       " 0.773158   0.577171   0.671451      0.725245   0.705016   0.707491\n",
       " 0.332819   0.981408   0.153685   …  0.696897   0.073979   0.954004\n",
       " 0.184729   0.0725675  0.0670827     0.928245   0.748868   0.359857\n",
       " 0.996625   0.405333   0.370727      0.265591   0.849777   0.498723"
      ]
     },
     "execution_count": 4,
     "metadata": {},
     "output_type": "execute_result"
    }
   ],
   "source": [
    "temperature"
   ]
  },
  {
   "cell_type": "markdown",
   "metadata": {},
   "source": [
    "We can check the size of the temperature field:"
   ]
  },
  {
   "cell_type": "code",
   "execution_count": 5,
   "metadata": {},
   "outputs": [
    {
     "name": "stdout",
     "output_type": "stream",
     "text": [
      "size(temperature) = (33, 61)\n",
      "size(lonvalues) = (61,)\n"
     ]
    },
    {
     "data": {
      "text/plain": [
       "(61,)"
      ]
     },
     "execution_count": 5,
     "metadata": {},
     "output_type": "execute_result"
    }
   ],
   "source": [
    "@show size(temperature);\n",
    "@show size(lonvalues)"
   ]
  },
  {
   "cell_type": "markdown",
   "metadata": {},
   "source": [
    "# NetCDF creation\n",
    "First we create a dataset.     \n",
    "We remove the file in case it already exists."
   ]
  },
  {
   "cell_type": "code",
   "execution_count": 6,
   "metadata": {},
   "outputs": [
    {
     "ename": "LoadError",
     "evalue": "UndefVarError: `datadir` not defined",
     "output_type": "error",
     "traceback": [
      "UndefVarError: `datadir` not defined",
      "",
      "Stacktrace:",
      " [1] top-level scope",
      "   @ In[6]:1"
     ]
    }
   ],
   "source": [
    "datafile = joinpath(datadir, \"temp_exercise.nc\")\n",
    "if isfile(datafile)\n",
    "    @info(\"File already exists, will remove it\")\n",
    "    rm(datafile)\n",
    "end\n",
    "ds = Dataset(datafile, \"c\");"
   ]
  },
  {
   "cell_type": "markdown",
   "metadata": {},
   "source": [
    "Then we define the dimensions (`lon` and `lat`):"
   ]
  },
  {
   "cell_type": "code",
   "execution_count": 7,
   "metadata": {},
   "outputs": [
    {
     "data": {
      "text/plain": [
       "(61, 33)"
      ]
     },
     "execution_count": 7,
     "metadata": {},
     "output_type": "execute_result"
    }
   ],
   "source": [
    "length(lonvalues), length(latvalues)"
   ]
  },
  {
   "cell_type": "code",
   "execution_count": 8,
   "metadata": {},
   "outputs": [
    {
     "ename": "LoadError",
     "evalue": "UndefVarError: `ds` not defined",
     "output_type": "error",
     "traceback": [
      "UndefVarError: `ds` not defined",
      "",
      "Stacktrace:",
      " [1] top-level scope",
      "   @ In[8]:1"
     ]
    }
   ],
   "source": [
    "defDim(ds, \"lon\", length(lonvalues));\n",
    "defDim(ds, \"lat\", length(latvalues));"
   ]
  },
  {
   "cell_type": "markdown",
   "metadata": {},
   "source": [
    "We continue by defining the variables corresponding to the coordinates:"
   ]
  },
  {
   "cell_type": "code",
   "execution_count": 9,
   "metadata": {},
   "outputs": [
    {
     "ename": "LoadError",
     "evalue": "UndefVarError: `ds` not defined",
     "output_type": "error",
     "traceback": [
      "UndefVarError: `ds` not defined",
      "",
      "Stacktrace:",
      " [1] top-level scope",
      "   @ In[9]:1"
     ]
    }
   ],
   "source": [
    "defVar(ds, \"lon\", Float64, (\"lon\",));\n",
    "defVar(ds, \"lat\", Float64, (\"lat\",));"
   ]
  },
  {
   "cell_type": "markdown",
   "metadata": {},
   "source": [
    "to which we can assign a value:"
   ]
  },
  {
   "cell_type": "code",
   "execution_count": 10,
   "metadata": {},
   "outputs": [
    {
     "ename": "LoadError",
     "evalue": "UndefVarError: `ds` not defined",
     "output_type": "error",
     "traceback": [
      "UndefVarError: `ds` not defined",
      "",
      "Stacktrace:",
      " [1] top-level scope",
      "   @ In[10]:1"
     ]
    }
   ],
   "source": [
    "ds[\"lon\"][:] = lonvalues;\n",
    "ds[\"lat\"][:] = latvalues;"
   ]
  },
  {
   "cell_type": "markdown",
   "metadata": {},
   "source": [
    "Finally we define the temperature variable and assign a value to it:"
   ]
  },
  {
   "cell_type": "code",
   "execution_count": 11,
   "metadata": {},
   "outputs": [
    {
     "ename": "LoadError",
     "evalue": "UndefVarError: `ds` not defined",
     "output_type": "error",
     "traceback": [
      "UndefVarError: `ds` not defined",
      "",
      "Stacktrace:",
      " [1] top-level scope",
      "   @ In[11]:1"
     ]
    }
   ],
   "source": [
    "T = defVar(ds, \"temperature\", Float64, (\"lat\", \"lon\"));\n",
    "T[:] = temperature;\n",
    "close(ds)"
   ]
  },
  {
   "cell_type": "code",
   "execution_count": 12,
   "metadata": {},
   "outputs": [
    {
     "ename": "LoadError",
     "evalue": "syntax: invalid identifier name \"...\"",
     "output_type": "error",
     "traceback": [
      "syntax: invalid identifier name \"...\"",
      "",
      "Stacktrace:",
      " [1] top-level scope",
      "   @ In[12]:2"
     ]
    }
   ],
   "source": [
    "Dataset(datafile, \"c\") do ds\n",
    "    ...\n",
    "    ...\n",
    "end"
   ]
  },
  {
   "cell_type": "markdown",
   "metadata": {},
   "source": [
    "Note that we close the dataset with the last line.\n",
    "\n",
    "We check if it worked, for example using [`ncdump`](https://www.unidata.ucar.edu/software/netcdf/netcdf-4/newdocs/netcdf/ncdump.html):\n",
    "```julia\n",
    "run(`ncdump temperature2D.nc`)\n",
    "```"
   ]
  },
  {
   "cell_type": "markdown",
   "metadata": {},
   "source": [
    "or with [ncview](http://meteora.ucsd.edu/~pierce/ncview_home_page.html):\n",
    "```julia\n",
    "run(`ncview temperature2D.nc`)\n",
    "```"
   ]
  },
  {
   "cell_type": "markdown",
   "metadata": {
    "collapsed": true
   },
   "source": [
    "which should display something like this: ![ncview](./Images/netcdf-exercice.jpg)"
   ]
  },
  {
   "cell_type": "code",
   "execution_count": 13,
   "metadata": {},
   "outputs": [
    {
     "name": "stderr",
     "output_type": "stream",
     "text": [
      "\u001b[36m\u001b[1m[ \u001b[22m\u001b[39m\u001b[36m\u001b[1mInfo: \u001b[22m\u001b[39mPrecompiling PyPlot [d330b81b-6aea-500a-939a-2ce795aea3ee]\n"
     ]
    }
   ],
   "source": [
    "using PyPlot"
   ]
  },
  {
   "cell_type": "code",
   "execution_count": 14,
   "metadata": {},
   "outputs": [
    {
     "data": {
      "image/png": "[encoded data removed]",
      "text/plain": [
       "Figure(PyObject <Figure size 640x480 with 1 Axes>)"
      ]
     },
     "metadata": {},
     "output_type": "display_data"
    },
    {
     "data": {
      "text/plain": [
       "PyObject <matplotlib.collections.QuadMesh object at 0x78f589cf9d80>"
      ]
     },
     "execution_count": 14,
     "metadata": {},
     "output_type": "execute_result"
    }
   ],
   "source": [
    "pcolormesh(lonvalues, latvalues, temperature)"
   ]
  }
 ],
 "metadata": {
  "kernelspec": {
   "display_name": "Julia 1.9.4",
   "language": "julia",
   "name": "julia-1.9"
  },
  "language_info": {
   "file_extension": ".jl",
   "mimetype": "application/julia",
   "name": "julia",
   "version": "1.9.4"
  },
  "toc": {
   "base_numbering": 1,
   "nav_menu": {},
   "number_sections": true,
   "sideBar": true,
   "skip_h1_title": false,
   "title_cell": "Table of Contents",
   "title_sidebar": "Contents",
   "toc_cell": false,
   "toc_position": {},
   "toc_section_display": true,
   "toc_window_display": false
  }
 },
 "nbformat": 4,
 "nbformat_minor": 2
}
