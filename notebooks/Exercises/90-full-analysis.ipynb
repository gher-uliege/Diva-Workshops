{
 "cells": [
  {
   "cell_type": "markdown",
   "metadata": {
    "slideshow": {
     "slide_type": "slide"
    }
   },
   "source": [
    "# DIVAnd full analysis\n",
    "\n",
    "This notebook presents the different steps necessary for the creation of a climatology:\n",
    "1. ODV data reading.\n",
    "2. Extraction of bathymetry and creation of mask\n",
    "3. Data download from other sources and duplicate removal.\n",
    "4. Quality control.\n",
    "5. Parameter optimisation.\n",
    "6. Spatio-temporal interpolation with `DIVAnd`."
   ]
  },
  {
   "cell_type": "code",
   "execution_count": null,
   "metadata": {
    "slideshow": {
     "slide_type": "subslide"
    }
   },
   "outputs": [],
   "source": [
    "using NCDatasets\n",
    "using PhysOcean\n",
    "using DataStructures\n",
    "using DIVAnd\n",
    "using PyPlot\n",
    "using Dates\n",
    "using Statistics\n",
    "using Random\n",
    "using Printf"
   ]
  },
  {
   "cell_type": "markdown",
   "metadata": {
    "slideshow": {
     "slide_type": "subslide"
    }
   },
   "source": [
    "## Configuration\n",
    "🖋️ Define the horizontal, vertical and temporal resolutions.      \n",
    "🖋️ Select the variable"
   ]
  },
  {
   "cell_type": "code",
   "execution_count": null,
   "metadata": {
    "slideshow": {
     "slide_type": "subslide"
    }
   },
   "outputs": [],
   "source": [
    "dx, dy = 0.125, 0.125\n",
    "lonr = 11.5:dx:20\n",
    "latr = 39:dy:46\n",
    "timerange = [Date(1950,1,1),Date(2017,12,31)];\n",
    "depthr = [0., 10., 20.];"
   ]
  },
  {
   "cell_type": "code",
   "execution_count": null,
   "metadata": {
    "slideshow": {
     "slide_type": "fragment"
    }
   },
   "outputs": [],
   "source": [
    "varname = \"Salinity\"\n",
    "yearlist = [1900:2017];\n",
    "monthlist = [[1, 2, 3]]\n",
    "# monthlist = [[1,2,3],[4,5,6],[7,8,9],[10,11,12]];"
   ]
  },
  {
   "cell_type": "code",
   "execution_count": null,
   "metadata": {
    "slideshow": {
     "slide_type": "subslide"
    }
   },
   "outputs": [],
   "source": [
    "TS = DIVAnd.TimeSelectorYearListMonthList(yearlist,monthlist);\n",
    "@show TS;"
   ]
  },
  {
   "cell_type": "markdown",
   "metadata": {
    "slideshow": {
     "slide_type": "slide"
    }
   },
   "source": [
    "## 1. Read your ODV file\n",
    "Adapt the `datadir` and `datafile` values.     "
   ]
  },
  {
   "cell_type": "code",
   "execution_count": null,
   "metadata": {},
   "outputs": [],
   "source": [
    "datadir = \"../Adriatic/\"\n",
    "smalldatafile = joinpath(datadir, \"AdriaticSea_SDC_1000.txt\")\n",
    "datafile = joinpath(datadir, \"AdriaticSea_SDC.txt\")\n",
    "if !isdir(datadir)\n",
    "    @info(\"Creating data directory\")\n",
    "    mkdir(datadir) \n",
    "else\n",
    "    @info(\"Directory already exists\")\n",
    "end"
   ]
  },
  {
   "cell_type": "markdown",
   "metadata": {},
   "source": [
    "Download the data files (test and full) if needed."
   ]
  },
  {
   "cell_type": "code",
   "execution_count": null,
   "metadata": {
    "slideshow": {
     "slide_type": "fragment"
    }
   },
   "outputs": [],
   "source": [
    "if !isfile(smalldatafile)\n",
    "    @info(\"Downloading test data file (1000 lines)\")\n",
    "    download(\"https://dox.uliege.be/index.php/s/FtJdbLDk11buP47/download\", smalldatafile)\n",
    "else\n",
    "    @info(\"Data file already downloaded\")\n",
    "end\n",
    "\n",
    "if !isfile(datafile)\n",
    "    @info(\"Downloading data file\")\n",
    "    download(\"https://dox.uliege.be/index.php/s/A4Eu9nEoovYLtGr/download\", datafile)\n",
    "else\n",
    "    @info(\"Data file already downloaded\")\n",
    "end"
   ]
  },
  {
   "cell_type": "code",
   "execution_count": null,
   "metadata": {},
   "outputs": [],
   "source": []
  },
  {
   "cell_type": "markdown",
   "metadata": {
    "slideshow": {
     "slide_type": "subslide"
    }
   },
   "source": [
    "⌛⌛    \n",
    "Depending on the size of your file, this step can take up to a few minutes.     \n",
    "You can try and test first on the small file, this should take less than 10 seconds (the 1st time)."
   ]
  },
  {
   "cell_type": "code",
   "execution_count": null,
   "metadata": {},
   "outputs": [],
   "source": [
    "@time obsval,obslon,obslat,obsdepth,obstime,obsid = ODVspreadsheet.load(Float64,[smalldatafile],\n",
    "                           [\"Water body salinity\"]; nametype = :localname );"
   ]
  },
  {
   "cell_type": "code",
   "execution_count": null,
   "metadata": {
    "slideshow": {
     "slide_type": "fragment"
    }
   },
   "outputs": [],
   "source": [
    "@time obsval,obslon,obslat,obsdepth,obstime,obsid = ODVspreadsheet.load(Float64,[datafile],\n",
    "                           [\"Water body salinity\"]; nametype = :localname );"
   ]
  },
  {
   "cell_type": "markdown",
   "metadata": {
    "slideshow": {
     "slide_type": "subslide"
    }
   },
   "source": [
    "### 🖋️ Plot the data locations"
   ]
  },
  {
   "cell_type": "code",
   "execution_count": null,
   "metadata": {},
   "outputs": [],
   "source": [
    "..."
   ]
  },
  {
   "cell_type": "markdown",
   "metadata": {
    "slideshow": {
     "slide_type": "subslide"
    }
   },
   "source": [
    "### 🖋️ Check the extremal values of the observations\n",
    "Hint: use `checkobs` function"
   ]
  },
  {
   "cell_type": "code",
   "execution_count": null,
   "metadata": {},
   "outputs": [],
   "source": [
    "..."
   ]
  },
  {
   "cell_type": "markdown",
   "metadata": {
    "slideshow": {
     "slide_type": "slide"
    }
   },
   "source": [
    "## 2. Extract the bathymetry\n",
    "See Exercice on [../06-topography.ipynb](bathymetry)."
   ]
  },
  {
   "cell_type": "markdown",
   "metadata": {
    "slideshow": {
     "slide_type": "subslide"
    }
   },
   "source": [
    "### 2.1 Choice of bathymetry\n",
    "Modify `bathname` according to the resolution required."
   ]
  },
  {
   "cell_type": "code",
   "execution_count": null,
   "metadata": {
    "slideshow": {
     "slide_type": "fragment"
    }
   },
   "outputs": [],
   "source": [
    "bathname = \"../data/gebco_30sec_8.nc\"\n",
    "if !isfile(bathname)\n",
    "    download(\"https://dox.uliege.be/index.php/s/U0pqyXhcQrXjEUX/download\",bathname)\n",
    "else\n",
    "    @info(\"Bathymetry file already downloaded\")\n",
    "end"
   ]
  },
  {
   "cell_type": "code",
   "execution_count": null,
   "metadata": {
    "slideshow": {
     "slide_type": "fragment"
    }
   },
   "outputs": [],
   "source": [
    "@time bx,by,b = load_bath(bathname, true, lonr ,latr);"
   ]
  },
  {
   "cell_type": "markdown",
   "metadata": {},
   "source": [
    "### 🖋️ Plot the bathymetry"
   ]
  },
  {
   "cell_type": "code",
   "execution_count": null,
   "metadata": {},
   "outputs": [],
   "source": [
    "..."
   ]
  },
  {
   "cell_type": "markdown",
   "metadata": {
    "slideshow": {
     "slide_type": "subslide"
    }
   },
   "source": [
    "### 🖋️ Create the land-sea mask"
   ]
  },
  {
   "cell_type": "code",
   "execution_count": null,
   "metadata": {
    "slideshow": {
     "slide_type": "fragment"
    }
   },
   "outputs": [],
   "source": [
    "xmask, ymask, mask = ..."
   ]
  },
  {
   "cell_type": "markdown",
   "metadata": {},
   "source": [
    "### 🖋️ Plot the mask"
   ]
  },
  {
   "cell_type": "code",
   "execution_count": null,
   "metadata": {
    "slideshow": {
     "slide_type": "subslide"
    }
   },
   "outputs": [],
   "source": [
    "..."
   ]
  },
  {
   "cell_type": "markdown",
   "metadata": {
    "slideshow": {
     "slide_type": "slide"
    }
   },
   "source": [
    "## 4. Quality control\n",
    "🖋️ Select only the salinity between 25 and 39."
   ]
  },
  {
   "cell_type": "code",
   "execution_count": null,
   "metadata": {
    "slideshow": {
     "slide_type": "fragment"
    }
   },
   "outputs": [],
   "source": [
    "sel = ..."
   ]
  },
  {
   "cell_type": "code",
   "execution_count": null,
   "metadata": {
    "slideshow": {
     "slide_type": "fragment"
    }
   },
   "outputs": [],
   "source": [
    "obsval = obsval[sel]\n",
    "obslon = obslon[sel]\n",
    "obslat = obslat[sel]\n",
    "obsdepth = obsdepth[sel]\n",
    "obstime = obstime[sel]\n",
    "obsid = obsid[sel];"
   ]
  },
  {
   "cell_type": "markdown",
   "metadata": {
    "slideshow": {
     "slide_type": "slide"
    }
   },
   "source": [
    "## 5. Analysis parameters"
   ]
  },
  {
   "cell_type": "markdown",
   "metadata": {
    "slideshow": {
     "slide_type": "subslide"
    }
   },
   "source": [
    "### Correlation lengths and noise-to-signal ratio\n",
    "We will use the function `diva3D` for the calculations.     \n",
    "With this function, the correlation length has to be defined in meters, not in degrees."
   ]
  },
  {
   "cell_type": "code",
   "execution_count": null,
   "metadata": {
    "slideshow": {
     "slide_type": "fragment"
    }
   },
   "outputs": [],
   "source": [
    "sz = (length(lonr),length(latr),length(depthr));\n",
    "lenx = fill(100_000.,sz)   # 100 km\n",
    "leny = fill(100_000.,sz)   # 100 km\n",
    "lenz = fill(25.,sz);      # 25 m \n",
    "len = (lenx, leny, lenz);\n",
    "epsilon2 = 0.1;"
   ]
  },
  {
   "cell_type": "markdown",
   "metadata": {
    "slideshow": {
     "slide_type": "subslide"
    }
   },
   "source": [
    "### Output file name"
   ]
  },
  {
   "cell_type": "code",
   "execution_count": null,
   "metadata": {
    "slideshow": {
     "slide_type": "fragment"
    }
   },
   "outputs": [],
   "source": [
    "filename = \"Water_body_$(replace(varname,\" \"=>\"_\"))_Adriatic.4Danl.nc\""
   ]
  },
  {
   "cell_type": "markdown",
   "metadata": {
    "slideshow": {
     "slide_type": "slide"
    }
   },
   "source": [
    "## 6. Metadata and attributes\n",
    "🖋️ Edit the metadata according to your region, variable etc."
   ]
  },
  {
   "cell_type": "code",
   "execution_count": null,
   "metadata": {
    "slideshow": {
     "slide_type": "subslide"
    }
   },
   "outputs": [],
   "source": [
    "metadata = OrderedDict(\n",
    "    # Name of the project (SeaDataCloud, SeaDataNet, EMODNET-chemistry, ...)\n",
    "    \"project\" => \"SeaDataCloud\",\n",
    "\n",
    "    # URN code for the institution EDMO registry,\n",
    "    # e.g. SDN:EDMO::1579\n",
    "    \"institution_urn\" => \"SDN:EDMO::1579\",\n",
    "\n",
    "    # Production group\n",
    "    #\"production\" => \"Diva group\",\n",
    "\n",
    "    # Name and emails from authors\n",
    "    \"Author_e-mail\" => [\"Your Name1 <name1@example.com>\", \"Other Name <name2@example.com>\"],\n",
    "\n",
    "    # Source of the observation\n",
    "    \"source\" => \"observational data from SeaDataNet and World Ocean Atlas\",\n",
    "\n",
    "    # Additional comment\n",
    "    \"comment\" => \"Duplicate removal applied to the merged dataset\",\n",
    "\n",
    "    # SeaDataNet Vocabulary P35 URN\n",
    "    # http://seadatanet.maris2.nl/v_bodc_vocab_v2/search.asp?lib=p35\n",
    "    # example: SDN:P35::WATERTEMP\n",
    "    \"parameter_keyword_urn\" => \"SDN:P35::EPC00001\",\n",
    "\n",
    "    # List of SeaDataNet Parameter Discovery Vocabulary P02 URNs\n",
    "    # http://seadatanet.maris2.nl/v_bodc_vocab_v2/search.asp?lib=p02\n",
    "    # example: [\"SDN:P02::TEMP\"]\n",
    "    \"search_keywords_urn\" => [\"SDN:P02::PSAL\"],\n",
    "\n",
    "    # List of SeaDataNet Vocabulary C19 area URNs\n",
    "    # SeaVoX salt and fresh water body gazetteer (C19)\n",
    "    # http://seadatanet.maris2.nl/v_bodc_vocab_v2/search.asp?lib=C19\n",
    "    # example: [\"SDN:C19::3_1\"]\n",
    "    \"area_keywords_urn\" => [\"SDN:C19::3_3\"],\n",
    "\n",
    "    \"product_version\" => \"1.0\",\n",
    "    \n",
    "    \"product_code\" => \"something-to-decide\",\n",
    "    \n",
    "    # bathymetry source acknowledgement\n",
    "    # see, e.g.\n",
    "    # * EMODnet Bathymetry Consortium (2016): EMODnet Digital Bathymetry (DTM).\n",
    "    # https://doi.org/10.12770/c7b53704-999d-4721-b1a3-04ec60c87238\n",
    "    # \n",
    "    # taken from\n",
    "    # http://www.emodnet-bathymetry.eu/data-products/acknowledgement-in-publications\n",
    "    #\n",
    "    # * The GEBCO Digital Atlas published by the British Oceanographic Data Centre on behalf of IOC and IHO, 2003\n",
    "    #\n",
    "    # taken from\n",
    "    # https://www.bodc.ac.uk/projects/data_management/international/gebco/gebco_digital_atlas/copyright_and_attribution/\n",
    "        \n",
    "    \"bathymetry_source\" => \"The GEBCO Digital Atlas published by the British Oceanographic Data Centre on behalf of IOC and IHO, 2003\",\n",
    "\n",
    "    # NetCDF CF standard name\n",
    "    # http://cfconventions.org/Data/cf-standard-names/current/build/cf-standard-name-table.html\n",
    "    # example \"standard_name\" = \"sea_water_temperature\",\n",
    "    \"netcdf_standard_name\" => \"sea_water_salinity\",\n",
    "\n",
    "    \"netcdf_long_name\" => \"sea water salinity\",\n",
    "\n",
    "    \"netcdf_units\" => \"1e-3\",\n",
    "\n",
    "    # Abstract for the product\n",
    "    \"abstract\" => \"...\",\n",
    "\n",
    "    # This option provides a place to acknowledge various types of support for the\n",
    "    # project that produced the data\n",
    "    \"acknowledgement\" => \"...\",\n",
    "\n",
    "    \"documentation\" => \"https://doi.org/doi_of_doc\",\n",
    "\n",
    "    # Digital Object Identifier of the data product\n",
    "    \"doi\" => \"...\");"
   ]
  },
  {
   "cell_type": "markdown",
   "metadata": {
    "slideshow": {
     "slide_type": "subslide"
    }
   },
   "source": [
    "SeaDataNet global attributes:"
   ]
  },
  {
   "cell_type": "code",
   "execution_count": null,
   "metadata": {
    "slideshow": {
     "slide_type": "fragment"
    }
   },
   "outputs": [],
   "source": [
    "ncglobalattrib,ncvarattrib = SDNMetadata(metadata,filename,varname,lonr,latr)"
   ]
  },
  {
   "cell_type": "markdown",
   "metadata": {
    "slideshow": {
     "slide_type": "slide"
    }
   },
   "source": [
    "## 7. Analysis"
   ]
  },
  {
   "cell_type": "markdown",
   "metadata": {
    "slideshow": {
     "slide_type": "subslide"
    }
   },
   "source": [
    "Remove the result file before running the analysis, otherwise you'll get the message     \n",
    "```julia\n",
    "NCDatasets.NetCDFError(13, \"Permission denied\")\n",
    "```"
   ]
  },
  {
   "cell_type": "code",
   "execution_count": null,
   "metadata": {
    "slideshow": {
     "slide_type": "fragment"
    }
   },
   "outputs": [],
   "source": [
    "if isfile(filename)\n",
    "    rm(filename) # delete the previous analysis\n",
    "    @info \"Removing file $filename\"\n",
    "end"
   ]
  },
  {
   "cell_type": "markdown",
   "metadata": {
    "slideshow": {
     "slide_type": "subslide"
    }
   },
   "source": [
    "### 7.1 Plotting function\n",
    "Define a plotting function that will be applied for each time index and depth level.     \n",
    "All the figures will be saved in a selected directory."
   ]
  },
  {
   "cell_type": "code",
   "execution_count": null,
   "metadata": {
    "slideshow": {
     "slide_type": "subslide"
    }
   },
   "outputs": [],
   "source": [
    "figdir = \"../Adriatic/figures/\"\n",
    "if ~(isdir(figdir))\n",
    "    mkdir(figdir)\n",
    "else\n",
    "    @info(\"Figure directory already exists\")\n",
    "end"
   ]
  },
  {
   "cell_type": "code",
   "execution_count": null,
   "metadata": {
    "slideshow": {
     "slide_type": "subslide"
    }
   },
   "outputs": [],
   "source": [
    "function plotres(timeindex,sel,fit,erri)\n",
    "    tmp = copy(fit)\n",
    "    nx,ny,nz = size(tmp)\n",
    "    for i in 1:nz\n",
    "        figure(\"Adriatic-Additional-Data\", figsize=(2,2))\n",
    "        ax = subplot(1,1,1)\n",
    "        ax.tick_params(\"both\",labelsize=6)\n",
    "        ylim(39.0, 46.0);\n",
    "        xlim(11.5, 20.0);\n",
    "        title(\"Depth: $(depthr[i]) \\n Time index: $(timeindex)\", fontsize=6)\n",
    "        pcolor(lonr.-dx/2.,latr.-dy/2, permutedims(tmp[:,:,i], [2,1]);\n",
    "               vmin = 33, vmax = 40)\n",
    "        colorbar(extend=\"both\", orientation=\"vertical\", shrink=0.8)[:ax].tick_params(labelsize=8)\n",
    "\n",
    "        contourf(bx,by,permutedims(b,[2,1]), levels = [-1e5,0],colors = [[.5,.5,.5]])\n",
    "        gca().set_aspect(aspect_ratio)\n",
    "        \n",
    "        figname = varname * @sprintf(\"_%02d\",i) * @sprintf(\"_%03d.png\",timeindex)\n",
    "        PyPlot.savefig(joinpath(figdir, figname), dpi=600, bbox_inches=\"tight\");\n",
    "        PyPlot.close_figs()\n",
    "    end\n",
    "end"
   ]
  },
  {
   "cell_type": "markdown",
   "metadata": {
    "slideshow": {
     "slide_type": "subslide"
    }
   },
   "source": [
    "### 7.2 Create the gridded fields using `diva3d`\n",
    "Here only the noise-to-signal ratio is estimated.     \n",
    "Set `fitcorrlen` to `true` to also optimise the correlation length."
   ]
  },
  {
   "cell_type": "code",
   "execution_count": null,
   "metadata": {
    "slideshow": {
     "slide_type": "subslide"
    }
   },
   "outputs": [],
   "source": [
    "@time dbinfo = diva3d((lonr,latr,depthr,TS),\n",
    "    (obslon,obslat,obsdepth,obstime), obsval,\n",
    "    len, epsilon2,\n",
    "    filename,varname,\n",
    "    bathname=bathname,\n",
    "    plotres = plotres,\n",
    "    mask = mask_edit,\n",
    "    fitcorrlen = false,\n",
    "    niter_e = 2,\n",
    "    ncvarattrib = ncvarattrib,\n",
    "    ncglobalattrib = ncglobalattrib,\n",
    "    surfextend = true\n",
    "    );"
   ]
  },
  {
   "cell_type": "markdown",
   "metadata": {
    "slideshow": {
     "slide_type": "subslide"
    }
   },
   "source": [
    "Save the observation metadata in the NetCDF file.      "
   ]
  },
  {
   "cell_type": "code",
   "execution_count": null,
   "metadata": {
    "slideshow": {
     "slide_type": "fragment"
    }
   },
   "outputs": [],
   "source": [
    "DIVAnd.saveobs(filename,(obslon,obslat,obsdepth,obstime),obsid);"
   ]
  }
 ],
 "metadata": {
  "@webio": {
   "lastCommId": null,
   "lastKernelId": null
  },
  "kernelspec": {
   "display_name": "Julia 1.0.3",
   "language": "julia",
   "name": "julia-1.0"
  },
  "language_info": {
   "file_extension": ".jl",
   "mimetype": "application/julia",
   "name": "julia",
   "version": "1.0.3"
  }
 },
 "nbformat": 4,
 "nbformat_minor": 2
}
